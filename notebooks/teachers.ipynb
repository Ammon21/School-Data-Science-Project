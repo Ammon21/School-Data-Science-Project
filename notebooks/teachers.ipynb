{
 "cells": [
  {
   "attachments": {},
   "cell_type": "markdown",
   "metadata": {},
   "source": [
    "#### Teachers Performance Analysis"
   ]
  },
  {
   "cell_type": "code",
   "execution_count": 196,
   "metadata": {},
   "outputs": [],
   "source": [
    "import pandas as pd\n",
    "import numpy as np\n",
    "import seaborn as sns\n",
    "import plotly.express as px\n",
    "import matplotlib.pyplot as plt\n",
    "import warnings\n",
    "warnings.filterwarnings('ignore')\n",
    "pd.set_option('display.max_columns', 100)"
   ]
  },
  {
   "cell_type": "code",
   "execution_count": 197,
   "metadata": {},
   "outputs": [
    {
     "data": {
      "text/html": [
       "<div>\n",
       "<style scoped>\n",
       "    .dataframe tbody tr th:only-of-type {\n",
       "        vertical-align: middle;\n",
       "    }\n",
       "\n",
       "    .dataframe tbody tr th {\n",
       "        vertical-align: top;\n",
       "    }\n",
       "\n",
       "    .dataframe thead th {\n",
       "        text-align: right;\n",
       "    }\n",
       "</style>\n",
       "<table border=\"1\" class=\"dataframe\">\n",
       "  <thead>\n",
       "    <tr style=\"text-align: right;\">\n",
       "      <th></th>\n",
       "      <th>conduct</th>\n",
       "      <th>age</th>\n",
       "      <th>gender</th>\n",
       "      <th>nationality</th>\n",
       "      <th>pob</th>\n",
       "      <th>tutor/makeup</th>\n",
       "      <th>grade</th>\n",
       "      <th>admission</th>\n",
       "      <th>guardian</th>\n",
       "      <th>time_with_parents</th>\n",
       "      <th>communication_with_parents</th>\n",
       "      <th>reward_for_achievements</th>\n",
       "      <th>parent_understanding</th>\n",
       "      <th>transport_type</th>\n",
       "      <th>residence</th>\n",
       "      <th>travel time</th>\n",
       "      <th>birth_order</th>\n",
       "      <th>exercice</th>\n",
       "      <th>previous_school</th>\n",
       "      <th>mother_tongue</th>\n",
       "      <th>curriculum</th>\n",
       "      <th>sleeping time_in_pm</th>\n",
       "      <th>parenting_style</th>\n",
       "      <th>trauma</th>\n",
       "      <th>type</th>\n",
       "      <th>quality</th>\n",
       "      <th>english</th>\n",
       "      <th>amharic</th>\n",
       "      <th>arabic</th>\n",
       "      <th>geez</th>\n",
       "      <th>ict</th>\n",
       "      <th>maths</th>\n",
       "      <th>ss</th>\n",
       "      <th>gp</th>\n",
       "      <th>is</th>\n",
       "      <th>moral</th>\n",
       "      <th>hpe</th>\n",
       "      <th>art</th>\n",
       "      <th>chemistry</th>\n",
       "      <th>physics</th>\n",
       "      <th>gpa</th>\n",
       "      <th>literature</th>\n",
       "      <th>biology</th>\n",
       "      <th>geography</th>\n",
       "      <th>history</th>\n",
       "      <th>civics</th>\n",
       "      <th>ent-ship</th>\n",
       "      <th>matrik</th>\n",
       "      <th>level</th>\n",
       "    </tr>\n",
       "  </thead>\n",
       "  <tbody>\n",
       "    <tr>\n",
       "      <th>0</th>\n",
       "      <td>a</td>\n",
       "      <td>10.0</td>\n",
       "      <td>f</td>\n",
       "      <td>ethiopian</td>\n",
       "      <td>ethiopia</td>\n",
       "      <td>yes</td>\n",
       "      <td>5</td>\n",
       "      <td>paid</td>\n",
       "      <td>both</td>\n",
       "      <td>a lot</td>\n",
       "      <td>strongly agree</td>\n",
       "      <td>strongly agree</td>\n",
       "      <td>agree</td>\n",
       "      <td>private</td>\n",
       "      <td>ayertena</td>\n",
       "      <td>15-30</td>\n",
       "      <td>middle child</td>\n",
       "      <td>2</td>\n",
       "      <td>diamond</td>\n",
       "      <td>eth-lang</td>\n",
       "      <td>yes</td>\n",
       "      <td>8.0</td>\n",
       "      <td>authoritative</td>\n",
       "      <td>0</td>\n",
       "      <td>none</td>\n",
       "      <td>4.25</td>\n",
       "      <td>94.86</td>\n",
       "      <td>94.58</td>\n",
       "      <td>88.45</td>\n",
       "      <td>84.41</td>\n",
       "      <td>88.52</td>\n",
       "      <td>76.38</td>\n",
       "      <td>85.93</td>\n",
       "      <td>95.00</td>\n",
       "      <td>82.01</td>\n",
       "      <td>98.28</td>\n",
       "      <td>95.48</td>\n",
       "      <td>89.00</td>\n",
       "      <td>NaN</td>\n",
       "      <td>NaN</td>\n",
       "      <td>89.4</td>\n",
       "      <td>NaN</td>\n",
       "      <td>NaN</td>\n",
       "      <td>NaN</td>\n",
       "      <td>NaN</td>\n",
       "      <td>NaN</td>\n",
       "      <td>NaN</td>\n",
       "      <td>NaN</td>\n",
       "      <td>middleschool</td>\n",
       "    </tr>\n",
       "    <tr>\n",
       "      <th>1</th>\n",
       "      <td>b</td>\n",
       "      <td>12.0</td>\n",
       "      <td>m</td>\n",
       "      <td>ethiopian</td>\n",
       "      <td>ethiopia</td>\n",
       "      <td>no</td>\n",
       "      <td>5</td>\n",
       "      <td>scholarship</td>\n",
       "      <td>both</td>\n",
       "      <td>little</td>\n",
       "      <td>strongly agree</td>\n",
       "      <td>strongly agree</td>\n",
       "      <td>agree</td>\n",
       "      <td>public</td>\n",
       "      <td>haile garment</td>\n",
       "      <td>15-30</td>\n",
       "      <td>first child</td>\n",
       "      <td>0</td>\n",
       "      <td>southwest</td>\n",
       "      <td>eth-lang</td>\n",
       "      <td>yes</td>\n",
       "      <td>10.0</td>\n",
       "      <td>authoritative</td>\n",
       "      <td>0</td>\n",
       "      <td>none</td>\n",
       "      <td>4.00</td>\n",
       "      <td>74.12</td>\n",
       "      <td>77.39</td>\n",
       "      <td>81.86</td>\n",
       "      <td>80.98</td>\n",
       "      <td>76.90</td>\n",
       "      <td>74.92</td>\n",
       "      <td>70.32</td>\n",
       "      <td>94.75</td>\n",
       "      <td>74.16</td>\n",
       "      <td>89.84</td>\n",
       "      <td>96.15</td>\n",
       "      <td>91.75</td>\n",
       "      <td>NaN</td>\n",
       "      <td>NaN</td>\n",
       "      <td>81.9</td>\n",
       "      <td>NaN</td>\n",
       "      <td>NaN</td>\n",
       "      <td>NaN</td>\n",
       "      <td>NaN</td>\n",
       "      <td>NaN</td>\n",
       "      <td>NaN</td>\n",
       "      <td>NaN</td>\n",
       "      <td>middleschool</td>\n",
       "    </tr>\n",
       "    <tr>\n",
       "      <th>2</th>\n",
       "      <td>a</td>\n",
       "      <td>10.0</td>\n",
       "      <td>m</td>\n",
       "      <td>ethiopian</td>\n",
       "      <td>ethiopia</td>\n",
       "      <td>yes</td>\n",
       "      <td>5</td>\n",
       "      <td>paid</td>\n",
       "      <td>both</td>\n",
       "      <td>a lot</td>\n",
       "      <td>agree</td>\n",
       "      <td>strongly agree</td>\n",
       "      <td>strongly agree</td>\n",
       "      <td>private</td>\n",
       "      <td>sarbet</td>\n",
       "      <td>15-</td>\n",
       "      <td>last child</td>\n",
       "      <td>3</td>\n",
       "      <td>greek school</td>\n",
       "      <td>eth-lang</td>\n",
       "      <td>yes</td>\n",
       "      <td>9.0</td>\n",
       "      <td>authoritative</td>\n",
       "      <td>1</td>\n",
       "      <td>physical</td>\n",
       "      <td>4.25</td>\n",
       "      <td>80.12</td>\n",
       "      <td>86.58</td>\n",
       "      <td>95.04</td>\n",
       "      <td>74.69</td>\n",
       "      <td>95.52</td>\n",
       "      <td>84.33</td>\n",
       "      <td>81.42</td>\n",
       "      <td>93.75</td>\n",
       "      <td>85.45</td>\n",
       "      <td>91.61</td>\n",
       "      <td>94.39</td>\n",
       "      <td>91.75</td>\n",
       "      <td>NaN</td>\n",
       "      <td>NaN</td>\n",
       "      <td>87.9</td>\n",
       "      <td>NaN</td>\n",
       "      <td>NaN</td>\n",
       "      <td>NaN</td>\n",
       "      <td>NaN</td>\n",
       "      <td>NaN</td>\n",
       "      <td>NaN</td>\n",
       "      <td>NaN</td>\n",
       "      <td>middleschool</td>\n",
       "    </tr>\n",
       "    <tr>\n",
       "      <th>3</th>\n",
       "      <td>c</td>\n",
       "      <td>11.0</td>\n",
       "      <td>m</td>\n",
       "      <td>ethiopian</td>\n",
       "      <td>ethiopia</td>\n",
       "      <td>no</td>\n",
       "      <td>5</td>\n",
       "      <td>paid</td>\n",
       "      <td>both</td>\n",
       "      <td>a lot</td>\n",
       "      <td>strongly agree</td>\n",
       "      <td>strongly agree</td>\n",
       "      <td>strongly agree</td>\n",
       "      <td>private</td>\n",
       "      <td>gulele</td>\n",
       "      <td>15-30</td>\n",
       "      <td>last child</td>\n",
       "      <td>2</td>\n",
       "      <td>gibson</td>\n",
       "      <td>eth-lang</td>\n",
       "      <td>no</td>\n",
       "      <td>8.0</td>\n",
       "      <td>authoritative</td>\n",
       "      <td>0</td>\n",
       "      <td>none</td>\n",
       "      <td>4.50</td>\n",
       "      <td>82.67</td>\n",
       "      <td>91.68</td>\n",
       "      <td>89.64</td>\n",
       "      <td>86.70</td>\n",
       "      <td>87.81</td>\n",
       "      <td>90.63</td>\n",
       "      <td>81.14</td>\n",
       "      <td>82.50</td>\n",
       "      <td>80.86</td>\n",
       "      <td>81.91</td>\n",
       "      <td>93.89</td>\n",
       "      <td>81.00</td>\n",
       "      <td>NaN</td>\n",
       "      <td>NaN</td>\n",
       "      <td>85.9</td>\n",
       "      <td>NaN</td>\n",
       "      <td>NaN</td>\n",
       "      <td>NaN</td>\n",
       "      <td>NaN</td>\n",
       "      <td>NaN</td>\n",
       "      <td>NaN</td>\n",
       "      <td>NaN</td>\n",
       "      <td>middleschool</td>\n",
       "    </tr>\n",
       "    <tr>\n",
       "      <th>4</th>\n",
       "      <td>b</td>\n",
       "      <td>11.0</td>\n",
       "      <td>f</td>\n",
       "      <td>ethiopian</td>\n",
       "      <td>foriegn_soil</td>\n",
       "      <td>no</td>\n",
       "      <td>5</td>\n",
       "      <td>paid</td>\n",
       "      <td>mother</td>\n",
       "      <td>a lot</td>\n",
       "      <td>strongly agree</td>\n",
       "      <td>strongly agree</td>\n",
       "      <td>somehow agree</td>\n",
       "      <td>private</td>\n",
       "      <td>meskel flower</td>\n",
       "      <td>15-30</td>\n",
       "      <td>middle child</td>\n",
       "      <td>2</td>\n",
       "      <td>school of nations</td>\n",
       "      <td>for-lang</td>\n",
       "      <td>yes</td>\n",
       "      <td>11.5</td>\n",
       "      <td>authoritative</td>\n",
       "      <td>0</td>\n",
       "      <td>none</td>\n",
       "      <td>4.00</td>\n",
       "      <td>96.31</td>\n",
       "      <td>96.99</td>\n",
       "      <td>97.60</td>\n",
       "      <td>92.09</td>\n",
       "      <td>98.62</td>\n",
       "      <td>96.00</td>\n",
       "      <td>89.07</td>\n",
       "      <td>99.75</td>\n",
       "      <td>94.73</td>\n",
       "      <td>98.77</td>\n",
       "      <td>88.69</td>\n",
       "      <td>97.75</td>\n",
       "      <td>NaN</td>\n",
       "      <td>NaN</td>\n",
       "      <td>95.5</td>\n",
       "      <td>NaN</td>\n",
       "      <td>NaN</td>\n",
       "      <td>NaN</td>\n",
       "      <td>NaN</td>\n",
       "      <td>NaN</td>\n",
       "      <td>NaN</td>\n",
       "      <td>NaN</td>\n",
       "      <td>middleschool</td>\n",
       "    </tr>\n",
       "  </tbody>\n",
       "</table>\n",
       "</div>"
      ],
      "text/plain": [
       "  conduct   age gender nationality           pob tutor/makeup  grade  \\\n",
       "0       a  10.0      f   ethiopian      ethiopia          yes      5   \n",
       "1       b  12.0      m   ethiopian      ethiopia           no      5   \n",
       "2       a  10.0      m   ethiopian      ethiopia          yes      5   \n",
       "3       c  11.0      m   ethiopian      ethiopia           no      5   \n",
       "4       b  11.0      f   ethiopian  foriegn_soil           no      5   \n",
       "\n",
       "     admission guardian time_with_parents communication_with_parents  \\\n",
       "0         paid     both             a lot             strongly agree   \n",
       "1  scholarship     both            little             strongly agree   \n",
       "2         paid     both             a lot                      agree   \n",
       "3         paid     both             a lot             strongly agree   \n",
       "4         paid   mother             a lot             strongly agree   \n",
       "\n",
       "  reward_for_achievements parent_understanding transport_type      residence  \\\n",
       "0          strongly agree                agree        private       ayertena   \n",
       "1          strongly agree                agree         public  haile garment   \n",
       "2          strongly agree       strongly agree        private         sarbet   \n",
       "3          strongly agree       strongly agree        private         gulele   \n",
       "4          strongly agree        somehow agree        private  meskel flower   \n",
       "\n",
       "  travel time   birth_order  exercice    previous_school mother_tongue  \\\n",
       "0       15-30  middle child         2            diamond      eth-lang   \n",
       "1       15-30   first child         0          southwest      eth-lang   \n",
       "2         15-    last child         3       greek school      eth-lang   \n",
       "3       15-30    last child         2             gibson      eth-lang   \n",
       "4       15-30  middle child         2  school of nations      for-lang   \n",
       "\n",
       "  curriculum  sleeping time_in_pm parenting_style  trauma      type  quality  \\\n",
       "0        yes                  8.0   authoritative       0      none     4.25   \n",
       "1        yes                 10.0   authoritative       0      none     4.00   \n",
       "2        yes                  9.0   authoritative       1  physical     4.25   \n",
       "3         no                  8.0   authoritative       0      none     4.50   \n",
       "4        yes                 11.5   authoritative       0      none     4.00   \n",
       "\n",
       "   english  amharic  arabic   geez    ict  maths     ss     gp     is  moral  \\\n",
       "0    94.86    94.58   88.45  84.41  88.52  76.38  85.93  95.00  82.01  98.28   \n",
       "1    74.12    77.39   81.86  80.98  76.90  74.92  70.32  94.75  74.16  89.84   \n",
       "2    80.12    86.58   95.04  74.69  95.52  84.33  81.42  93.75  85.45  91.61   \n",
       "3    82.67    91.68   89.64  86.70  87.81  90.63  81.14  82.50  80.86  81.91   \n",
       "4    96.31    96.99   97.60  92.09  98.62  96.00  89.07  99.75  94.73  98.77   \n",
       "\n",
       "     hpe    art  chemistry  physics   gpa  literature  biology  geography  \\\n",
       "0  95.48  89.00        NaN      NaN  89.4         NaN      NaN        NaN   \n",
       "1  96.15  91.75        NaN      NaN  81.9         NaN      NaN        NaN   \n",
       "2  94.39  91.75        NaN      NaN  87.9         NaN      NaN        NaN   \n",
       "3  93.89  81.00        NaN      NaN  85.9         NaN      NaN        NaN   \n",
       "4  88.69  97.75        NaN      NaN  95.5         NaN      NaN        NaN   \n",
       "\n",
       "   history  civics  ent-ship  matrik         level  \n",
       "0      NaN     NaN       NaN     NaN  middleschool  \n",
       "1      NaN     NaN       NaN     NaN  middleschool  \n",
       "2      NaN     NaN       NaN     NaN  middleschool  \n",
       "3      NaN     NaN       NaN     NaN  middleschool  \n",
       "4      NaN     NaN       NaN     NaN  middleschool  "
      ]
     },
     "execution_count": 197,
     "metadata": {},
     "output_type": "execute_result"
    }
   ],
   "source": [
    "df = pd.read_csv(r\"../data/hsmsx.csv\")\n",
    "df.head()"
   ]
  },
  {
   "cell_type": "code",
   "execution_count": 198,
   "metadata": {},
   "outputs": [],
   "source": [
    "df9n10 = df[(df.grade == 9) | (df.grade == 10)]\n",
    "df11n12 = df[(df.grade == 11) | (df.grade == 12)]"
   ]
  },
  {
   "cell_type": "code",
   "execution_count": 199,
   "metadata": {},
   "outputs": [
    {
     "data": {
      "text/plain": [
       "(71, 49)"
      ]
     },
     "execution_count": 199,
     "metadata": {},
     "output_type": "execute_result"
    }
   ],
   "source": [
    "df11n12.shape"
   ]
  },
  {
   "cell_type": "code",
   "execution_count": 200,
   "metadata": {},
   "outputs": [
    {
     "data": {
      "text/plain": [
       "82.29485148514853"
      ]
     },
     "execution_count": 200,
     "metadata": {},
     "output_type": "execute_result"
    }
   ],
   "source": [
    "df9n10.maths.mean() #Getch"
   ]
  },
  {
   "cell_type": "code",
   "execution_count": 201,
   "metadata": {},
   "outputs": [
    {
     "data": {
      "text/plain": [
       "94.15795784841643"
      ]
     },
     "execution_count": 201,
     "metadata": {},
     "output_type": "execute_result"
    }
   ],
   "source": [
    "meanx =  df9n10.english.mean() #Abel\n",
    "meanx"
   ]
  },
  {
   "cell_type": "code",
   "execution_count": 202,
   "metadata": {},
   "outputs": [
    {
     "data": {
      "text/plain": [
       "95.33"
      ]
     },
     "execution_count": 202,
     "metadata": {},
     "output_type": "execute_result"
    }
   ],
   "source": [
    "df9n10.english.median() "
   ]
  },
  {
   "cell_type": "code",
   "execution_count": 203,
   "metadata": {},
   "outputs": [
    {
     "data": {
      "text/plain": [
       "0    96.67\n",
       "Name: english, dtype: float64"
      ]
     },
     "execution_count": 203,
     "metadata": {},
     "output_type": "execute_result"
    }
   ],
   "source": [
    "df9n10.english.mode()"
   ]
  },
  {
   "cell_type": "code",
   "execution_count": 204,
   "metadata": {},
   "outputs": [
    {
     "data": {
      "text/plain": [
       "4.207333667396618"
      ]
     },
     "execution_count": 204,
     "metadata": {},
     "output_type": "execute_result"
    }
   ],
   "source": [
    "stdx = df9n10.english.std()\n",
    "stdx"
   ]
  },
  {
   "cell_type": "code",
   "execution_count": 205,
   "metadata": {},
   "outputs": [
    {
     "data": {
      "text/plain": [
       "98.36529151581306"
      ]
     },
     "execution_count": 205,
     "metadata": {},
     "output_type": "execute_result"
    }
   ],
   "source": [
    "oneint = engmean + engstd\n",
    "oneint"
   ]
  },
  {
   "cell_type": "code",
   "execution_count": 272,
   "metadata": {},
   "outputs": [
    {
     "data": {
      "text/plain": [
       "(77, 49)"
      ]
     },
     "execution_count": 272,
     "metadata": {},
     "output_type": "execute_result"
    }
   ],
   "source": [
    "x = df9n10[(df9n10.english > 89.95) & (df9n10.english  < 98.3)]\n",
    "x.shape\n",
    "\n",
    "#63.3% are from 94 to 100\n",
    "#89% are from 90 to 100\n",
    "#94% are from the 85 point mark \n",
    "#76.23 are 1 std out from mean\n"
   ]
  },
  {
   "attachments": {},
   "cell_type": "markdown",
   "metadata": {},
   "source": [
    "#### Chebyshev Theroem"
   ]
  },
  {
   "cell_type": "code",
   "execution_count": 207,
   "metadata": {},
   "outputs": [
    {
     "data": {
      "text/plain": [
       "0.4813378704594058"
      ]
     },
     "execution_count": 207,
     "metadata": {},
     "output_type": "execute_result"
    }
   ],
   "source": [
    "k = (100 - meanx) / stdx\n",
    "p = 1 - 1/ (k**2)\n",
    "p\n",
    "#???  Are we saying atleast 48% are in the range of 94 to 100??? "
   ]
  },
  {
   "cell_type": "code",
   "execution_count": 208,
   "metadata": {},
   "outputs": [],
   "source": [
    "## not a "
   ]
  },
  {
   "cell_type": "code",
   "execution_count": 265,
   "metadata": {},
   "outputs": [
    {
     "data": {
      "text/plain": [
       "<AxesSubplot:xlabel='english', ylabel='Density'>"
      ]
     },
     "execution_count": 265,
     "metadata": {},
     "output_type": "execute_result"
    },
    {
     "data": {
      "image/png": "[encoded data removed]",
      "text/plain": [
       "<Figure size 640x480 with 1 Axes>"
      ]
     },
     "metadata": {},
     "output_type": "display_data"
    }
   ],
   "source": [
    "sns.distplot(df9n10.english)"
   ]
  },
  {
   "cell_type": "code",
   "execution_count": 245,
   "metadata": {},
   "outputs": [
    {
     "data": {
      "text/plain": [
       "<AxesSubplot:xlabel='chemistry', ylabel='Density'>"
      ]
     },
     "execution_count": 245,
     "metadata": {},
     "output_type": "execute_result"
    },
    {
     "data": {
      "image/png": "[encoded data removed]",
      "text/plain": [
       "<Figure size 640x480 with 1 Axes>"
      ]
     },
     "metadata": {},
     "output_type": "display_data"
    }
   ],
   "source": [
    "sns.distplot(df11n12.chemistry)"
   ]
  },
  {
   "cell_type": "code",
   "execution_count": 210,
   "metadata": {},
   "outputs": [
    {
     "data": {
      "text/plain": [
       "78.87026315789477"
      ]
     },
     "execution_count": 210,
     "metadata": {},
     "output_type": "execute_result"
    }
   ],
   "source": [
    "df11n12.physics.mean() #Abenet"
   ]
  },
  {
   "cell_type": "code",
   "execution_count": 211,
   "metadata": {},
   "outputs": [
    {
     "data": {
      "text/plain": [
       "90.52078947368418"
      ]
     },
     "execution_count": 211,
     "metadata": {},
     "output_type": "execute_result"
    }
   ],
   "source": [
    "meanxx = df11n12.chemistry.mean() #Addisalem\n",
    "meanxx"
   ]
  },
  {
   "cell_type": "code",
   "execution_count": 248,
   "metadata": {},
   "outputs": [
    {
     "data": {
      "text/plain": [
       "90.42500000000001"
      ]
     },
     "execution_count": 248,
     "metadata": {},
     "output_type": "execute_result"
    }
   ],
   "source": [
    "medianx = df11n12.chemistry.median() #Addisalem\n",
    "medianx"
   ]
  },
  {
   "cell_type": "code",
   "execution_count": 212,
   "metadata": {},
   "outputs": [
    {
     "data": {
      "text/plain": [
       "5.909911684335303"
      ]
     },
     "execution_count": 212,
     "metadata": {},
     "output_type": "execute_result"
    }
   ],
   "source": [
    "stdxx = df11n12.chemistry.std() #Addisalem\n",
    "stdxx"
   ]
  },
  {
   "cell_type": "code",
   "execution_count": 264,
   "metadata": {},
   "outputs": [
    {
     "data": {
      "text/plain": [
       "0.6112972219860817"
      ]
     },
     "execution_count": 264,
     "metadata": {},
     "output_type": "execute_result"
    }
   ],
   "source": [
    "kk = (100 - meanxx) / stdxx\n",
    "p = 1 - 1/ (kk**2)\n",
    "p"
   ]
  },
  {
   "cell_type": "code",
   "execution_count": 256,
   "metadata": {},
   "outputs": [
    {
     "data": {
      "text/plain": [
       "(37, 49)"
      ]
     },
     "execution_count": 256,
     "metadata": {},
     "output_type": "execute_result"
    }
   ],
   "source": [
    "x = df11n12[(df11n12.chemistry < 96.32) & (df11n12.chemistry > 84.4)]\n",
    "x.shape\n",
    "\n",
    "#45.9% are in the 90 and 100\n",
    "#83.7 are in the 85 and 100\n",
    "#60% are in 1 std out of the mean, 84.4 --- 96.32\n"
   ]
  }
 ],
 "metadata": {
  "kernelspec": {
   "display_name": "base",
   "language": "python",
   "name": "python3"
  },
  "language_info": {
   "codemirror_mode": {
    "name": "ipython",
    "version": 3
   },
   "file_extension": ".py",
   "mimetype": "text/x-python",
   "name": "python",
   "nbconvert_exporter": "python",
   "pygments_lexer": "ipython3",
   "version": "3.9.13"
  },
  "orig_nbformat": 4
 },
 "nbformat": 4,
 "nbformat_minor": 2
}
