{
 "cells": [
  {
   "cell_type": "code",
   "execution_count": 78,
   "metadata": {},
   "outputs": [],
   "source": [
    "import pandas as pd\n",
    "import seaborn as sns\n",
    "import matplotlib.pyplot as plt\n",
    "\n",
    "import sys, os\n",
    "\n",
    "import warnings\n",
    "warnings.filterwarnings('ignore')\n",
    "pd.set_option('display.max_columns', 70)\n",
    "\n",
    "sys.path.append(os.path.abspath(os.path.join('../scripts')))\n",
    "from cleaner import *\n",
    "from visualizer import *"
   ]
  },
  {
   "cell_type": "code",
   "execution_count": 79,
   "metadata": {},
   "outputs": [
    {
     "data": {
      "text/html": [
       "<div>\n",
       "<style scoped>\n",
       "    .dataframe tbody tr th:only-of-type {\n",
       "        vertical-align: middle;\n",
       "    }\n",
       "\n",
       "    .dataframe tbody tr th {\n",
       "        vertical-align: top;\n",
       "    }\n",
       "\n",
       "    .dataframe thead th {\n",
       "        text-align: right;\n",
       "    }\n",
       "</style>\n",
       "<table border=\"1\" class=\"dataframe\">\n",
       "  <thead>\n",
       "    <tr style=\"text-align: right;\">\n",
       "      <th></th>\n",
       "      <th>name</th>\n",
       "      <th>conduct</th>\n",
       "      <th>age</th>\n",
       "      <th>gender</th>\n",
       "      <th>nationality</th>\n",
       "      <th>pob</th>\n",
       "      <th>tutor/makeup</th>\n",
       "      <th>grade</th>\n",
       "      <th>admission</th>\n",
       "      <th>guardian</th>\n",
       "      <th>time_with_parents</th>\n",
       "      <th>communication_with_parents</th>\n",
       "      <th>reward_for_achievements</th>\n",
       "      <th>parent_understanding</th>\n",
       "      <th>transport_type</th>\n",
       "      <th>residence</th>\n",
       "      <th>travel time</th>\n",
       "      <th>birth_order</th>\n",
       "      <th>exercice</th>\n",
       "      <th>previous_school</th>\n",
       "      <th>mother_tongue</th>\n",
       "      <th>curriculum</th>\n",
       "      <th>sleeping time_in_pm</th>\n",
       "      <th>parenting_style</th>\n",
       "      <th>trauma</th>\n",
       "      <th>type</th>\n",
       "      <th>quality</th>\n",
       "      <th>literature</th>\n",
       "      <th>eng</th>\n",
       "      <th>maths</th>\n",
       "      <th>physics</th>\n",
       "      <th>chemistry</th>\n",
       "      <th>biology</th>\n",
       "      <th>geography</th>\n",
       "      <th>history</th>\n",
       "      <th>civics</th>\n",
       "      <th>amharic</th>\n",
       "      <th>ict</th>\n",
       "      <th>ent-ship</th>\n",
       "      <th>hpe</th>\n",
       "      <th>gpa</th>\n",
       "      <th>matrik</th>\n",
       "    </tr>\n",
       "  </thead>\n",
       "  <tbody>\n",
       "    <tr>\n",
       "      <th>0</th>\n",
       "      <td>abem kibru worku</td>\n",
       "      <td>b</td>\n",
       "      <td>15</td>\n",
       "      <td>m</td>\n",
       "      <td>ethiopian</td>\n",
       "      <td>ethiopia</td>\n",
       "      <td>no</td>\n",
       "      <td>9</td>\n",
       "      <td>paid</td>\n",
       "      <td>both</td>\n",
       "      <td>little</td>\n",
       "      <td>agree</td>\n",
       "      <td>agree</td>\n",
       "      <td>somehow agree</td>\n",
       "      <td>public</td>\n",
       "      <td>zenebework</td>\n",
       "      <td>30-60</td>\n",
       "      <td>middle child</td>\n",
       "      <td>2.0</td>\n",
       "      <td>passion</td>\n",
       "      <td>eth-lang</td>\n",
       "      <td>no</td>\n",
       "      <td>7.0</td>\n",
       "      <td>authoritative</td>\n",
       "      <td>0.0</td>\n",
       "      <td>phy</td>\n",
       "      <td>3.25</td>\n",
       "      <td>76.75</td>\n",
       "      <td>93.67</td>\n",
       "      <td>70.56</td>\n",
       "      <td>72.76</td>\n",
       "      <td>44.70</td>\n",
       "      <td>66.37</td>\n",
       "      <td>73.02</td>\n",
       "      <td>72.19</td>\n",
       "      <td>87.43</td>\n",
       "      <td>96.58</td>\n",
       "      <td>71.31</td>\n",
       "      <td>76.26</td>\n",
       "      <td>64.90</td>\n",
       "      <td>74.3</td>\n",
       "      <td>72.6</td>\n",
       "    </tr>\n",
       "    <tr>\n",
       "      <th>1</th>\n",
       "      <td>amanuel demeke hailu</td>\n",
       "      <td>a</td>\n",
       "      <td>14</td>\n",
       "      <td>m</td>\n",
       "      <td>ethiopian</td>\n",
       "      <td>ethiopia</td>\n",
       "      <td>no</td>\n",
       "      <td>9</td>\n",
       "      <td>paid</td>\n",
       "      <td>both</td>\n",
       "      <td>little</td>\n",
       "      <td>agree</td>\n",
       "      <td>strongly agree</td>\n",
       "      <td>somehow agree</td>\n",
       "      <td>private</td>\n",
       "      <td>zenebework</td>\n",
       "      <td>15-</td>\n",
       "      <td>middle child</td>\n",
       "      <td>3.0</td>\n",
       "      <td>gibson</td>\n",
       "      <td>eth-lang</td>\n",
       "      <td>no</td>\n",
       "      <td>7.5</td>\n",
       "      <td>authoritative</td>\n",
       "      <td>0.0</td>\n",
       "      <td>none</td>\n",
       "      <td>3.50</td>\n",
       "      <td>77.52</td>\n",
       "      <td>94.33</td>\n",
       "      <td>62.57</td>\n",
       "      <td>70.85</td>\n",
       "      <td>77.20</td>\n",
       "      <td>69.77</td>\n",
       "      <td>74.17</td>\n",
       "      <td>81.65</td>\n",
       "      <td>76.48</td>\n",
       "      <td>84.84</td>\n",
       "      <td>80.42</td>\n",
       "      <td>77.16</td>\n",
       "      <td>86.00</td>\n",
       "      <td>77.9</td>\n",
       "      <td>75.9</td>\n",
       "    </tr>\n",
       "    <tr>\n",
       "      <th>2</th>\n",
       "      <td>ananya girma tegegn</td>\n",
       "      <td>a</td>\n",
       "      <td>14</td>\n",
       "      <td>m</td>\n",
       "      <td>ethiopian</td>\n",
       "      <td>ethiopia</td>\n",
       "      <td>no</td>\n",
       "      <td>9</td>\n",
       "      <td>scholarship</td>\n",
       "      <td>both</td>\n",
       "      <td>a lot</td>\n",
       "      <td>strongly agree</td>\n",
       "      <td>strongly agree</td>\n",
       "      <td>strongly agree</td>\n",
       "      <td>public</td>\n",
       "      <td>cmc</td>\n",
       "      <td>30-60</td>\n",
       "      <td>first child</td>\n",
       "      <td>3.0</td>\n",
       "      <td>dr bekele</td>\n",
       "      <td>eth-lang</td>\n",
       "      <td>no</td>\n",
       "      <td>7.5</td>\n",
       "      <td>authoritative</td>\n",
       "      <td>0.0</td>\n",
       "      <td>none</td>\n",
       "      <td>4.50</td>\n",
       "      <td>88.27</td>\n",
       "      <td>91.67</td>\n",
       "      <td>97.16</td>\n",
       "      <td>85.77</td>\n",
       "      <td>97.90</td>\n",
       "      <td>96.27</td>\n",
       "      <td>95.33</td>\n",
       "      <td>83.40</td>\n",
       "      <td>93.05</td>\n",
       "      <td>97.18</td>\n",
       "      <td>94.27</td>\n",
       "      <td>88.76</td>\n",
       "      <td>89.50</td>\n",
       "      <td>92.2</td>\n",
       "      <td>92.6</td>\n",
       "    </tr>\n",
       "    <tr>\n",
       "      <th>3</th>\n",
       "      <td>blen amare mesfin</td>\n",
       "      <td>a</td>\n",
       "      <td>15</td>\n",
       "      <td>f</td>\n",
       "      <td>ethiopian</td>\n",
       "      <td>ethiopia</td>\n",
       "      <td>no</td>\n",
       "      <td>9</td>\n",
       "      <td>paid</td>\n",
       "      <td>both</td>\n",
       "      <td>a lot</td>\n",
       "      <td>strongly agree</td>\n",
       "      <td>strongly agree</td>\n",
       "      <td>strongly agree</td>\n",
       "      <td>service</td>\n",
       "      <td>megenagna</td>\n",
       "      <td>30-60</td>\n",
       "      <td>last child</td>\n",
       "      <td>3.0</td>\n",
       "      <td>magic carpet</td>\n",
       "      <td>eth-lang</td>\n",
       "      <td>no</td>\n",
       "      <td>8.0</td>\n",
       "      <td>permissive</td>\n",
       "      <td>1.0</td>\n",
       "      <td>none</td>\n",
       "      <td>4.50</td>\n",
       "      <td>73.81</td>\n",
       "      <td>91.00</td>\n",
       "      <td>72.55</td>\n",
       "      <td>67.95</td>\n",
       "      <td>76.70</td>\n",
       "      <td>79.35</td>\n",
       "      <td>78.50</td>\n",
       "      <td>75.03</td>\n",
       "      <td>83.81</td>\n",
       "      <td>96.15</td>\n",
       "      <td>88.55</td>\n",
       "      <td>83.16</td>\n",
       "      <td>84.00</td>\n",
       "      <td>80.8</td>\n",
       "      <td>78.1</td>\n",
       "    </tr>\n",
       "    <tr>\n",
       "      <th>4</th>\n",
       "      <td>dagmawi misganaw bimerew</td>\n",
       "      <td>a</td>\n",
       "      <td>14</td>\n",
       "      <td>m</td>\n",
       "      <td>ethiopian</td>\n",
       "      <td>ethiopia</td>\n",
       "      <td>yes</td>\n",
       "      <td>9</td>\n",
       "      <td>paid</td>\n",
       "      <td>both</td>\n",
       "      <td>a lot</td>\n",
       "      <td>agree</td>\n",
       "      <td>agree</td>\n",
       "      <td>agree</td>\n",
       "      <td>private</td>\n",
       "      <td>bole bulbula</td>\n",
       "      <td>30-60</td>\n",
       "      <td>middle child</td>\n",
       "      <td>0.0</td>\n",
       "      <td>school of nations</td>\n",
       "      <td>eth-lang</td>\n",
       "      <td>no</td>\n",
       "      <td>8.5</td>\n",
       "      <td>authoritative</td>\n",
       "      <td>0.0</td>\n",
       "      <td>none</td>\n",
       "      <td>3.75</td>\n",
       "      <td>91.77</td>\n",
       "      <td>97.67</td>\n",
       "      <td>90.60</td>\n",
       "      <td>76.69</td>\n",
       "      <td>71.97</td>\n",
       "      <td>84.72</td>\n",
       "      <td>85.04</td>\n",
       "      <td>84.30</td>\n",
       "      <td>88.48</td>\n",
       "      <td>94.10</td>\n",
       "      <td>92.66</td>\n",
       "      <td>85.66</td>\n",
       "      <td>93.25</td>\n",
       "      <td>87.5</td>\n",
       "      <td>84.9</td>\n",
       "    </tr>\n",
       "  </tbody>\n",
       "</table>\n",
       "</div>"
      ],
      "text/plain": [
       "                       name conduct  age gender nationality       pob  \\\n",
       "0          abem kibru worku       b   15      m   ethiopian  ethiopia   \n",
       "1      amanuel demeke hailu       a   14      m   ethiopian  ethiopia   \n",
       "2       ananya girma tegegn       a   14      m   ethiopian  ethiopia   \n",
       "3         blen amare mesfin       a   15      f   ethiopian  ethiopia   \n",
       "4  dagmawi misganaw bimerew       a   14      m   ethiopian  ethiopia   \n",
       "\n",
       "  tutor/makeup  grade    admission guardian time_with_parents  \\\n",
       "0           no      9         paid     both            little   \n",
       "1           no      9         paid     both            little   \n",
       "2           no      9  scholarship     both             a lot   \n",
       "3           no      9         paid     both             a lot   \n",
       "4          yes      9         paid     both             a lot   \n",
       "\n",
       "  communication_with_parents reward_for_achievements parent_understanding  \\\n",
       "0                      agree                   agree        somehow agree   \n",
       "1                      agree          strongly agree        somehow agree   \n",
       "2             strongly agree          strongly agree       strongly agree   \n",
       "3             strongly agree          strongly agree       strongly agree   \n",
       "4                      agree                   agree                agree   \n",
       "\n",
       "  transport_type     residence travel time   birth_order  exercice  \\\n",
       "0         public    zenebework       30-60  middle child       2.0   \n",
       "1        private    zenebework         15-  middle child       3.0   \n",
       "2         public           cmc       30-60   first child       3.0   \n",
       "3        service     megenagna       30-60    last child       3.0   \n",
       "4        private  bole bulbula       30-60  middle child       0.0   \n",
       "\n",
       "     previous_school mother_tongue curriculum  sleeping time_in_pm  \\\n",
       "0            passion      eth-lang         no                  7.0   \n",
       "1             gibson      eth-lang         no                  7.5   \n",
       "2          dr bekele      eth-lang         no                  7.5   \n",
       "3       magic carpet      eth-lang         no                  8.0   \n",
       "4  school of nations      eth-lang         no                  8.5   \n",
       "\n",
       "  parenting_style  trauma  type  quality  literature    eng  maths  physics  \\\n",
       "0   authoritative     0.0   phy     3.25       76.75  93.67  70.56    72.76   \n",
       "1   authoritative     0.0  none     3.50       77.52  94.33  62.57    70.85   \n",
       "2   authoritative     0.0  none     4.50       88.27  91.67  97.16    85.77   \n",
       "3      permissive     1.0  none     4.50       73.81  91.00  72.55    67.95   \n",
       "4   authoritative     0.0  none     3.75       91.77  97.67  90.60    76.69   \n",
       "\n",
       "   chemistry  biology  geography  history  civics  amharic    ict  ent-ship  \\\n",
       "0      44.70    66.37      73.02    72.19   87.43    96.58  71.31     76.26   \n",
       "1      77.20    69.77      74.17    81.65   76.48    84.84  80.42     77.16   \n",
       "2      97.90    96.27      95.33    83.40   93.05    97.18  94.27     88.76   \n",
       "3      76.70    79.35      78.50    75.03   83.81    96.15  88.55     83.16   \n",
       "4      71.97    84.72      85.04    84.30   88.48    94.10  92.66     85.66   \n",
       "\n",
       "     hpe   gpa  matrik  \n",
       "0  64.90  74.3    72.6  \n",
       "1  86.00  77.9    75.9  \n",
       "2  89.50  92.2    92.6  \n",
       "3  84.00  80.8    78.1  \n",
       "4  93.25  87.5    84.9  "
      ]
     },
     "execution_count": 79,
     "metadata": {},
     "output_type": "execute_result"
    }
   ],
   "source": [
    "df_ms = pd.read_csv(r\"../data/msv7.csv\")\n",
    "df_hs = pd.read_csv(r\"../data/hsv7.csv\")\n",
    "df_hs.head()"
   ]
  },
  {
   "cell_type": "code",
   "execution_count": 80,
   "metadata": {},
   "outputs": [
    {
     "data": {
      "text/plain": [
       "Index(['name', 'conduct', 'age', 'gender', 'nationality', 'pob',\n",
       "       'tutor/makeup', 'grade', 'admission', 'guardian', 'time_with_parents',\n",
       "       'communication_with_parents', 'reward_for_achievements',\n",
       "       'parent_understanding', 'transport_type', 'residence', 'travel time',\n",
       "       'birth_order', 'exercice', 'previous_school', 'mother_tongue',\n",
       "       'curriculum', 'sleeping time_in_pm', 'parenting_style', 'trauma',\n",
       "       'type', 'quality', 'english', 'amharic', 'arabic', 'geez', 'ict',\n",
       "       'maths', 'ss', 'gp', 'is', 'moral', 'hpe', 'art', 'chemistry',\n",
       "       'physics', 'gpa'],\n",
       "      dtype='object')"
      ]
     },
     "execution_count": 80,
     "metadata": {},
     "output_type": "execute_result"
    }
   ],
   "source": [
    "df_ms.columns"
   ]
  },
  {
   "cell_type": "code",
   "execution_count": 81,
   "metadata": {},
   "outputs": [
    {
     "data": {
      "text/plain": [
       "dtype('float64')"
      ]
     },
     "execution_count": 81,
     "metadata": {},
     "output_type": "execute_result"
    }
   ],
   "source": [
    "df.gpa.dtype"
   ]
  },
  {
   "cell_type": "code",
   "execution_count": 82,
   "metadata": {},
   "outputs": [],
   "source": [
    "df_hs.rename(columns = {'eng':'english'}, inplace = True)"
   ]
  },
  {
   "cell_type": "code",
   "execution_count": 83,
   "metadata": {},
   "outputs": [
    {
     "data": {
      "text/plain": [
       "first child     80\n",
       "middle child    47\n",
       "last child      45\n",
       "Name: birth_order, dtype: int64"
      ]
     },
     "execution_count": 83,
     "metadata": {},
     "output_type": "execute_result"
    }
   ],
   "source": [
    "df_hs.birth_order = df_hs['birth_order'].replace('only child', 'first child')\n",
    "df_hs.birth_order.value_counts()"
   ]
  },
  {
   "cell_type": "code",
   "execution_count": 84,
   "metadata": {},
   "outputs": [],
   "source": [
    "ms_filter = df_ms[['conduct', 'age', 'gender', 'grade', 'admission', 'birth_order', 'gpa', 'maths', 'physics', 'chemistry','amharic', 'geez', 'arabic', 'english', 'ict', 'ss', 'gp','is','hpe']]"
   ]
  },
  {
   "cell_type": "code",
   "execution_count": 85,
   "metadata": {},
   "outputs": [],
   "source": [
    "hs_filter = df_hs[['conduct', 'age', 'gender', 'grade', 'admission', 'birth_order', 'gpa', 'maths', 'physics' , 'chemistry', 'biology', 'english', 'literature', 'amharic', 'hpe', 'ict', 'geography', 'history']]"
   ]
  },
  {
   "cell_type": "code",
   "execution_count": 86,
   "metadata": {},
   "outputs": [],
   "source": [
    "frames = [ms_filter, hs_filter]\n",
    "df = pd.concat(frames)\n"
   ]
  },
  {
   "cell_type": "code",
   "execution_count": 87,
   "metadata": {},
   "outputs": [
    {
     "data": {
      "text/plain": [
       "(287, 23)"
      ]
     },
     "execution_count": 87,
     "metadata": {},
     "output_type": "execute_result"
    }
   ],
   "source": [
    "df.shape"
   ]
  },
  {
   "cell_type": "code",
   "execution_count": 88,
   "metadata": {},
   "outputs": [
    {
     "data": {
      "text/plain": [
       "9     57\n",
       "10    44\n",
       "12    40\n",
       "7     37\n",
       "11    31\n",
       "8     30\n",
       "6     26\n",
       "5     22\n",
       "Name: grade, dtype: int64"
      ]
     },
     "execution_count": 88,
     "metadata": {},
     "output_type": "execute_result"
    }
   ],
   "source": [
    "df.grade.value_counts()"
   ]
  },
  {
   "cell_type": "code",
   "execution_count": 89,
   "metadata": {},
   "outputs": [
    {
     "name": "stdout",
     "output_type": "stream",
     "text": [
      "<class 'pandas.core.frame.DataFrame'>\n",
      "Int64Index: 287 entries, 0 to 171\n",
      "Data columns (total 23 columns):\n",
      " #   Column       Non-Null Count  Dtype  \n",
      "---  ------       --------------  -----  \n",
      " 0   conduct      287 non-null    object \n",
      " 1   age          287 non-null    float64\n",
      " 2   gender       287 non-null    object \n",
      " 3   grade        287 non-null    int64  \n",
      " 4   admission    287 non-null    object \n",
      " 5   birth_order  287 non-null    object \n",
      " 6   gpa          287 non-null    float64\n",
      " 7   maths        287 non-null    float64\n",
      " 8   physics      205 non-null    float64\n",
      " 9   chemistry    205 non-null    float64\n",
      " 10  amharic      287 non-null    float64\n",
      " 11  geez         115 non-null    float64\n",
      " 12  arabic       115 non-null    float64\n",
      " 13  english      287 non-null    float64\n",
      " 14  ict          287 non-null    float64\n",
      " 15  ss           115 non-null    float64\n",
      " 16  gp           115 non-null    float64\n",
      " 17  is           115 non-null    float64\n",
      " 18  hpe          287 non-null    float64\n",
      " 19  biology      139 non-null    float64\n",
      " 20  literature   172 non-null    float64\n",
      " 21  geography    134 non-null    float64\n",
      " 22  history      134 non-null    float64\n",
      "dtypes: float64(18), int64(1), object(4)\n",
      "memory usage: 53.8+ KB\n"
     ]
    }
   ],
   "source": [
    "df.info()"
   ]
  },
  {
   "cell_type": "code",
   "execution_count": 90,
   "metadata": {},
   "outputs": [
    {
     "data": {
      "image/png": "[encoded data removed]",
      "text/plain": [
       "<Figure size 500x280 with 1 Axes>"
      ]
     },
     "metadata": {},
     "output_type": "display_data"
    }
   ],
   "source": [
    "sns.set(rc={'figure.figsize':(5.0,2.8)})\n",
    "sns.set_palette(\"winter\")\n",
    "sns.set_style(\"white\")\n",
    "ax = sns.countplot(data = df, y='birth_order', order=df['birth_order'].value_counts().index)\n",
    "sns.despine(top=False, left=True, bottom=True)\n",
    "plt.ylabel(\"\", size=10)\n",
    "plt.xlabel(\"\", size=10)\n",
    "plt.title(\"Birth Order\", size=15)\n",
    "ax.tick_params(bottom=False)\n",
    "ax.tick_params(left=False)\n"
   ]
  },
  {
   "cell_type": "code",
   "execution_count": 101,
   "metadata": {},
   "outputs": [
    {
     "data": {
      "text/html": [
       "<div>\n",
       "<style scoped>\n",
       "    .dataframe tbody tr th:only-of-type {\n",
       "        vertical-align: middle;\n",
       "    }\n",
       "\n",
       "    .dataframe tbody tr th {\n",
       "        vertical-align: top;\n",
       "    }\n",
       "\n",
       "    .dataframe thead th {\n",
       "        text-align: right;\n",
       "    }\n",
       "</style>\n",
       "<table border=\"1\" class=\"dataframe\">\n",
       "  <thead>\n",
       "    <tr style=\"text-align: right;\">\n",
       "      <th></th>\n",
       "      <th>gpa</th>\n",
       "      <th>maths</th>\n",
       "      <th>physics</th>\n",
       "      <th>chemistry</th>\n",
       "      <th>hpe</th>\n",
       "      <th>english</th>\n",
       "    </tr>\n",
       "    <tr>\n",
       "      <th>birth_order</th>\n",
       "      <th></th>\n",
       "      <th></th>\n",
       "      <th></th>\n",
       "      <th></th>\n",
       "      <th></th>\n",
       "      <th></th>\n",
       "    </tr>\n",
       "  </thead>\n",
       "  <tbody>\n",
       "    <tr>\n",
       "      <th>first child</th>\n",
       "      <td>87.354545</td>\n",
       "      <td>80.456873</td>\n",
       "      <td>82.591373</td>\n",
       "      <td>86.182059</td>\n",
       "      <td>92.281124</td>\n",
       "      <td>89.742756</td>\n",
       "    </tr>\n",
       "    <tr>\n",
       "      <th>last child</th>\n",
       "      <td>86.742029</td>\n",
       "      <td>79.381739</td>\n",
       "      <td>80.197556</td>\n",
       "      <td>86.115778</td>\n",
       "      <td>91.492029</td>\n",
       "      <td>88.185362</td>\n",
       "    </tr>\n",
       "    <tr>\n",
       "      <th>middle child</th>\n",
       "      <td>87.945349</td>\n",
       "      <td>81.276163</td>\n",
       "      <td>86.262759</td>\n",
       "      <td>86.847586</td>\n",
       "      <td>93.285465</td>\n",
       "      <td>89.573605</td>\n",
       "    </tr>\n",
       "  </tbody>\n",
       "</table>\n",
       "</div>"
      ],
      "text/plain": [
       "                    gpa      maths    physics  chemistry        hpe    english\n",
       "birth_order                                                                   \n",
       "first child   87.354545  80.456873  82.591373  86.182059  92.281124  89.742756\n",
       "last child    86.742029  79.381739  80.197556  86.115778  91.492029  88.185362\n",
       "middle child  87.945349  81.276163  86.262759  86.847586  93.285465  89.573605"
      ]
     },
     "execution_count": 101,
     "metadata": {},
     "output_type": "execute_result"
    }
   ],
   "source": [
    "# mean marks and project submissions for each student\n",
    "df.groupby('birth_order')[['gpa', 'maths', 'physics', 'chemistry', 'hpe']].mean()"
   ]
  },
  {
   "cell_type": "code",
   "execution_count": 102,
   "metadata": {},
   "outputs": [
    {
     "data": {
      "text/html": [
       "<div>\n",
       "<style scoped>\n",
       "    .dataframe tbody tr th:only-of-type {\n",
       "        vertical-align: middle;\n",
       "    }\n",
       "\n",
       "    .dataframe tbody tr th {\n",
       "        vertical-align: top;\n",
       "    }\n",
       "\n",
       "    .dataframe thead th {\n",
       "        text-align: right;\n",
       "    }\n",
       "</style>\n",
       "<table border=\"1\" class=\"dataframe\">\n",
       "  <thead>\n",
       "    <tr style=\"text-align: right;\">\n",
       "      <th></th>\n",
       "      <th>english</th>\n",
       "      <th>amharic</th>\n",
       "    </tr>\n",
       "    <tr>\n",
       "      <th>birth_order</th>\n",
       "      <th></th>\n",
       "      <th></th>\n",
       "    </tr>\n",
       "  </thead>\n",
       "  <tbody>\n",
       "    <tr>\n",
       "      <th>first child</th>\n",
       "      <td>89.742756</td>\n",
       "      <td>89.800933</td>\n",
       "    </tr>\n",
       "    <tr>\n",
       "      <th>last child</th>\n",
       "      <td>88.185362</td>\n",
       "      <td>86.473478</td>\n",
       "    </tr>\n",
       "    <tr>\n",
       "      <th>middle child</th>\n",
       "      <td>89.573605</td>\n",
       "      <td>89.256977</td>\n",
       "    </tr>\n",
       "  </tbody>\n",
       "</table>\n",
       "</div>"
      ],
      "text/plain": [
       "                english    amharic\n",
       "birth_order                       \n",
       "first child   89.742756  89.800933\n",
       "last child    88.185362  86.473478\n",
       "middle child  89.573605  89.256977"
      ]
     },
     "execution_count": 102,
     "metadata": {},
     "output_type": "execute_result"
    }
   ],
   "source": [
    "df.groupby('birth_order')[['english', 'amharic']].mean()"
   ]
  },
  {
   "cell_type": "code",
   "execution_count": 92,
   "metadata": {},
   "outputs": [
    {
     "data": {
      "text/html": [
       "<div>\n",
       "<style scoped>\n",
       "    .dataframe tbody tr th:only-of-type {\n",
       "        vertical-align: middle;\n",
       "    }\n",
       "\n",
       "    .dataframe tbody tr th {\n",
       "        vertical-align: top;\n",
       "    }\n",
       "\n",
       "    .dataframe thead th {\n",
       "        text-align: right;\n",
       "    }\n",
       "</style>\n",
       "<table border=\"1\" class=\"dataframe\">\n",
       "  <thead>\n",
       "    <tr style=\"text-align: right;\">\n",
       "      <th></th>\n",
       "      <th>biology</th>\n",
       "      <th>geography</th>\n",
       "      <th>history</th>\n",
       "    </tr>\n",
       "    <tr>\n",
       "      <th>birth_order</th>\n",
       "      <th></th>\n",
       "      <th></th>\n",
       "      <th></th>\n",
       "    </tr>\n",
       "  </thead>\n",
       "  <tbody>\n",
       "    <tr>\n",
       "      <th>first child</th>\n",
       "      <td>85.004348</td>\n",
       "      <td>83.815902</td>\n",
       "      <td>83.491475</td>\n",
       "    </tr>\n",
       "    <tr>\n",
       "      <th>last child</th>\n",
       "      <td>85.477353</td>\n",
       "      <td>83.767273</td>\n",
       "      <td>86.706970</td>\n",
       "    </tr>\n",
       "    <tr>\n",
       "      <th>middle child</th>\n",
       "      <td>86.563056</td>\n",
       "      <td>84.267000</td>\n",
       "      <td>86.972750</td>\n",
       "    </tr>\n",
       "  </tbody>\n",
       "</table>\n",
       "</div>"
      ],
      "text/plain": [
       "                biology  geography    history\n",
       "birth_order                                  \n",
       "first child   85.004348  83.815902  83.491475\n",
       "last child    85.477353  83.767273  86.706970\n",
       "middle child  86.563056  84.267000  86.972750"
      ]
     },
     "execution_count": 92,
     "metadata": {},
     "output_type": "execute_result"
    }
   ],
   "source": [
    "df_hs.groupby('birth_order')[['biology', 'geography', 'history']].mean()"
   ]
  },
  {
   "cell_type": "code",
   "execution_count": 93,
   "metadata": {},
   "outputs": [
    {
     "data": {
      "image/png": "[encoded data removed]",
      "text/plain": [
       "<Figure size 500x280 with 1 Axes>"
      ]
     },
     "metadata": {},
     "output_type": "display_data"
    }
   ],
   "source": [
    "legitbar(df, 'gpa', 'birth_order', 'GPA', 85, 88)"
   ]
  },
  {
   "cell_type": "code",
   "execution_count": 94,
   "metadata": {},
   "outputs": [
    {
     "data": {
      "image/png": "[encoded data removed]",
      "text/plain": [
       "<Figure size 500x280 with 1 Axes>"
      ]
     },
     "metadata": {},
     "output_type": "display_data"
    }
   ],
   "source": [
    "legitbar(df, 'maths', 'birth_order', 'Mathematics', 78, 84)"
   ]
  },
  {
   "cell_type": "code",
   "execution_count": 95,
   "metadata": {},
   "outputs": [
    {
     "data": {
      "image/png": "[encoded data removed]",
      "text/plain": [
       "<Figure size 500x280 with 1 Axes>"
      ]
     },
     "metadata": {},
     "output_type": "display_data"
    }
   ],
   "source": [
    "legitbar(df, 'chemistry', 'birth_order', 'Chemistry', 85, 88)\n",
    "\n"
   ]
  },
  {
   "cell_type": "code",
   "execution_count": 96,
   "metadata": {},
   "outputs": [
    {
     "data": {
      "image/png": "[encoded data removed]",
      "text/plain": [
       "<Figure size 500x280 with 1 Axes>"
      ]
     },
     "metadata": {},
     "output_type": "display_data"
    }
   ],
   "source": [
    "legitbar(df, 'physics', 'birth_order', 'Physics', 80, 88)"
   ]
  },
  {
   "cell_type": "code",
   "execution_count": 97,
   "metadata": {},
   "outputs": [
    {
     "data": {
      "image/png": "[encoded data removed]",
      "text/plain": [
       "<Figure size 500x280 with 1 Axes>"
      ]
     },
     "metadata": {},
     "output_type": "display_data"
    }
   ],
   "source": [
    "legitbar(df, 'biology', 'birth_order', 'Biology', 83, 88)"
   ]
  },
  {
   "cell_type": "code",
   "execution_count": 98,
   "metadata": {},
   "outputs": [
    {
     "data": {
      "image/png": "[encoded data removed]",
      "text/plain": [
       "<Figure size 500x280 with 1 Axes>"
      ]
     },
     "metadata": {},
     "output_type": "display_data"
    }
   ],
   "source": [
    "legitbar(df, 'hpe', 'birth_order', 'Hpe', 90, 98)"
   ]
  },
  {
   "cell_type": "code",
   "execution_count": 99,
   "metadata": {},
   "outputs": [
    {
     "data": {
      "image/png": "[encoded data removed]",
      "text/plain": [
       "<Figure size 500x280 with 1 Axes>"
      ]
     },
     "metadata": {},
     "output_type": "display_data"
    }
   ],
   "source": [
    "legitbar(df, 'geography', 'birth_order', 'Geography', 83, 87)"
   ]
  },
  {
   "cell_type": "code",
   "execution_count": 100,
   "metadata": {},
   "outputs": [
    {
     "data": {
      "image/png": "[encoded data removed]",
      "text/plain": [
       "<Figure size 500x280 with 1 Axes>"
      ]
     },
     "metadata": {},
     "output_type": "display_data"
    }
   ],
   "source": [
    "legitbar(df, 'history', 'birth_order', 'History', 83, 87)"
   ]
  },
  {
   "cell_type": "code",
   "execution_count": null,
   "metadata": {},
   "outputs": [],
   "source": []
  }
 ],
 "metadata": {
  "kernelspec": {
   "display_name": "base",
   "language": "python",
   "name": "python3"
  },
  "language_info": {
   "codemirror_mode": {
    "name": "ipython",
    "version": 3
   },
   "file_extension": ".py",
   "mimetype": "text/x-python",
   "name": "python",
   "nbconvert_exporter": "python",
   "pygments_lexer": "ipython3",
   "version": "3.9.13"
  },
  "orig_nbformat": 4
 },
 "nbformat": 4,
 "nbformat_minor": 2
}
