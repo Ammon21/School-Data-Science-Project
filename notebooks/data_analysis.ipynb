{
 "cells": [
  {
   "attachments": {},
   "cell_type": "markdown",
   "metadata": {},
   "source": [
    "# Data Analysis I"
   ]
  },
  {
   "attachments": {},
   "cell_type": "markdown",
   "metadata": {},
   "source": [
    "#### Loading Libraries"
   ]
  },
  {
   "cell_type": "code",
   "execution_count": 2,
   "metadata": {},
   "outputs": [],
   "source": [
    "import pandas as pd\n",
    "import seaborn as sns\n",
    "import matplotlib.pyplot as plt\n",
    "import numpy as np\n",
    "\n",
    "import sys, os\n",
    "\n",
    "import warnings\n",
    "warnings.filterwarnings('ignore')\n",
    "pd.set_option('display.max_columns', 70)\n",
    "\n",
    "sys.path.append(os.path.abspath(os.path.join('../scripts')))\n",
    "from cleaner import *\n",
    "from visualizer import *"
   ]
  },
  {
   "attachments": {},
   "cell_type": "markdown",
   "metadata": {},
   "source": [
    "#### Loading Data"
   ]
  },
  {
   "cell_type": "code",
   "execution_count": 3,
   "metadata": {},
   "outputs": [
    {
     "data": {
      "text/html": [
       "<div>\n",
       "<style scoped>\n",
       "    .dataframe tbody tr th:only-of-type {\n",
       "        vertical-align: middle;\n",
       "    }\n",
       "\n",
       "    .dataframe tbody tr th {\n",
       "        vertical-align: top;\n",
       "    }\n",
       "\n",
       "    .dataframe thead th {\n",
       "        text-align: right;\n",
       "    }\n",
       "</style>\n",
       "<table border=\"1\" class=\"dataframe\">\n",
       "  <thead>\n",
       "    <tr style=\"text-align: right;\">\n",
       "      <th></th>\n",
       "      <th>name</th>\n",
       "      <th>conduct</th>\n",
       "      <th>age</th>\n",
       "      <th>gender</th>\n",
       "      <th>nationality</th>\n",
       "      <th>pob</th>\n",
       "      <th>tutor/makeup</th>\n",
       "      <th>grade</th>\n",
       "      <th>admission</th>\n",
       "      <th>guardian</th>\n",
       "      <th>time_with_parents</th>\n",
       "      <th>communication_with_parents</th>\n",
       "      <th>reward_for_achievements</th>\n",
       "      <th>parent_understanding</th>\n",
       "      <th>transport_type</th>\n",
       "      <th>residence</th>\n",
       "      <th>travel time</th>\n",
       "      <th>birth_order</th>\n",
       "      <th>exercice</th>\n",
       "      <th>previous_school</th>\n",
       "      <th>mother_tongue</th>\n",
       "      <th>curriculum</th>\n",
       "      <th>sleeping time_in_pm</th>\n",
       "      <th>parenting_style</th>\n",
       "      <th>trauma</th>\n",
       "      <th>type</th>\n",
       "      <th>quality</th>\n",
       "      <th>literature</th>\n",
       "      <th>eng</th>\n",
       "      <th>maths</th>\n",
       "      <th>physics</th>\n",
       "      <th>chemistry</th>\n",
       "      <th>biology</th>\n",
       "      <th>geography</th>\n",
       "      <th>history</th>\n",
       "      <th>civics</th>\n",
       "      <th>amharic</th>\n",
       "      <th>ict</th>\n",
       "      <th>ent-ship</th>\n",
       "      <th>hpe</th>\n",
       "      <th>gpa</th>\n",
       "      <th>matrik</th>\n",
       "    </tr>\n",
       "  </thead>\n",
       "  <tbody>\n",
       "    <tr>\n",
       "      <th>0</th>\n",
       "      <td>abem kibru worku</td>\n",
       "      <td>b</td>\n",
       "      <td>15</td>\n",
       "      <td>m</td>\n",
       "      <td>ethiopian</td>\n",
       "      <td>ethiopia</td>\n",
       "      <td>no</td>\n",
       "      <td>9</td>\n",
       "      <td>paid</td>\n",
       "      <td>both</td>\n",
       "      <td>little</td>\n",
       "      <td>agree</td>\n",
       "      <td>agree</td>\n",
       "      <td>somehow agree</td>\n",
       "      <td>public</td>\n",
       "      <td>zenebework</td>\n",
       "      <td>30-60</td>\n",
       "      <td>middle child</td>\n",
       "      <td>2.0</td>\n",
       "      <td>passion</td>\n",
       "      <td>eth-lang</td>\n",
       "      <td>no</td>\n",
       "      <td>7.0</td>\n",
       "      <td>authoritative</td>\n",
       "      <td>0.0</td>\n",
       "      <td>phy</td>\n",
       "      <td>3.25</td>\n",
       "      <td>76.75</td>\n",
       "      <td>93.67</td>\n",
       "      <td>70.56</td>\n",
       "      <td>72.76</td>\n",
       "      <td>44.70</td>\n",
       "      <td>66.37</td>\n",
       "      <td>73.02</td>\n",
       "      <td>72.19</td>\n",
       "      <td>87.43</td>\n",
       "      <td>96.58</td>\n",
       "      <td>71.31</td>\n",
       "      <td>76.26</td>\n",
       "      <td>64.90</td>\n",
       "      <td>74.3</td>\n",
       "      <td>72.6</td>\n",
       "    </tr>\n",
       "    <tr>\n",
       "      <th>1</th>\n",
       "      <td>amanuel demeke hailu</td>\n",
       "      <td>a</td>\n",
       "      <td>14</td>\n",
       "      <td>m</td>\n",
       "      <td>ethiopian</td>\n",
       "      <td>ethiopia</td>\n",
       "      <td>no</td>\n",
       "      <td>9</td>\n",
       "      <td>paid</td>\n",
       "      <td>both</td>\n",
       "      <td>little</td>\n",
       "      <td>agree</td>\n",
       "      <td>strongly agree</td>\n",
       "      <td>somehow agree</td>\n",
       "      <td>private</td>\n",
       "      <td>zenebework</td>\n",
       "      <td>15-</td>\n",
       "      <td>middle child</td>\n",
       "      <td>3.0</td>\n",
       "      <td>gibson</td>\n",
       "      <td>eth-lang</td>\n",
       "      <td>no</td>\n",
       "      <td>7.5</td>\n",
       "      <td>authoritative</td>\n",
       "      <td>0.0</td>\n",
       "      <td>none</td>\n",
       "      <td>3.50</td>\n",
       "      <td>77.52</td>\n",
       "      <td>94.33</td>\n",
       "      <td>62.57</td>\n",
       "      <td>70.85</td>\n",
       "      <td>77.20</td>\n",
       "      <td>69.77</td>\n",
       "      <td>74.17</td>\n",
       "      <td>81.65</td>\n",
       "      <td>76.48</td>\n",
       "      <td>84.84</td>\n",
       "      <td>80.42</td>\n",
       "      <td>77.16</td>\n",
       "      <td>86.00</td>\n",
       "      <td>77.9</td>\n",
       "      <td>75.9</td>\n",
       "    </tr>\n",
       "    <tr>\n",
       "      <th>2</th>\n",
       "      <td>ananya girma tegegn</td>\n",
       "      <td>a</td>\n",
       "      <td>14</td>\n",
       "      <td>m</td>\n",
       "      <td>ethiopian</td>\n",
       "      <td>ethiopia</td>\n",
       "      <td>no</td>\n",
       "      <td>9</td>\n",
       "      <td>scholarship</td>\n",
       "      <td>both</td>\n",
       "      <td>a lot</td>\n",
       "      <td>strongly agree</td>\n",
       "      <td>strongly agree</td>\n",
       "      <td>strongly agree</td>\n",
       "      <td>public</td>\n",
       "      <td>cmc</td>\n",
       "      <td>30-60</td>\n",
       "      <td>first child</td>\n",
       "      <td>3.0</td>\n",
       "      <td>dr bekele</td>\n",
       "      <td>eth-lang</td>\n",
       "      <td>no</td>\n",
       "      <td>7.5</td>\n",
       "      <td>authoritative</td>\n",
       "      <td>0.0</td>\n",
       "      <td>none</td>\n",
       "      <td>4.50</td>\n",
       "      <td>88.27</td>\n",
       "      <td>91.67</td>\n",
       "      <td>97.16</td>\n",
       "      <td>85.77</td>\n",
       "      <td>97.90</td>\n",
       "      <td>96.27</td>\n",
       "      <td>95.33</td>\n",
       "      <td>83.40</td>\n",
       "      <td>93.05</td>\n",
       "      <td>97.18</td>\n",
       "      <td>94.27</td>\n",
       "      <td>88.76</td>\n",
       "      <td>89.50</td>\n",
       "      <td>92.2</td>\n",
       "      <td>92.6</td>\n",
       "    </tr>\n",
       "    <tr>\n",
       "      <th>3</th>\n",
       "      <td>blen amare mesfin</td>\n",
       "      <td>a</td>\n",
       "      <td>15</td>\n",
       "      <td>f</td>\n",
       "      <td>ethiopian</td>\n",
       "      <td>ethiopia</td>\n",
       "      <td>no</td>\n",
       "      <td>9</td>\n",
       "      <td>paid</td>\n",
       "      <td>both</td>\n",
       "      <td>a lot</td>\n",
       "      <td>strongly agree</td>\n",
       "      <td>strongly agree</td>\n",
       "      <td>strongly agree</td>\n",
       "      <td>service</td>\n",
       "      <td>megenagna</td>\n",
       "      <td>30-60</td>\n",
       "      <td>last child</td>\n",
       "      <td>3.0</td>\n",
       "      <td>magic carpet</td>\n",
       "      <td>eth-lang</td>\n",
       "      <td>no</td>\n",
       "      <td>8.0</td>\n",
       "      <td>permissive</td>\n",
       "      <td>1.0</td>\n",
       "      <td>none</td>\n",
       "      <td>4.50</td>\n",
       "      <td>73.81</td>\n",
       "      <td>91.00</td>\n",
       "      <td>72.55</td>\n",
       "      <td>67.95</td>\n",
       "      <td>76.70</td>\n",
       "      <td>79.35</td>\n",
       "      <td>78.50</td>\n",
       "      <td>75.03</td>\n",
       "      <td>83.81</td>\n",
       "      <td>96.15</td>\n",
       "      <td>88.55</td>\n",
       "      <td>83.16</td>\n",
       "      <td>84.00</td>\n",
       "      <td>80.8</td>\n",
       "      <td>78.1</td>\n",
       "    </tr>\n",
       "    <tr>\n",
       "      <th>4</th>\n",
       "      <td>dagmawi misganaw bimerew</td>\n",
       "      <td>a</td>\n",
       "      <td>14</td>\n",
       "      <td>m</td>\n",
       "      <td>ethiopian</td>\n",
       "      <td>ethiopia</td>\n",
       "      <td>yes</td>\n",
       "      <td>9</td>\n",
       "      <td>paid</td>\n",
       "      <td>both</td>\n",
       "      <td>a lot</td>\n",
       "      <td>agree</td>\n",
       "      <td>agree</td>\n",
       "      <td>agree</td>\n",
       "      <td>private</td>\n",
       "      <td>bole bulbula</td>\n",
       "      <td>30-60</td>\n",
       "      <td>middle child</td>\n",
       "      <td>0.0</td>\n",
       "      <td>school of nations</td>\n",
       "      <td>eth-lang</td>\n",
       "      <td>no</td>\n",
       "      <td>8.5</td>\n",
       "      <td>authoritative</td>\n",
       "      <td>0.0</td>\n",
       "      <td>none</td>\n",
       "      <td>3.75</td>\n",
       "      <td>91.77</td>\n",
       "      <td>97.67</td>\n",
       "      <td>90.60</td>\n",
       "      <td>76.69</td>\n",
       "      <td>71.97</td>\n",
       "      <td>84.72</td>\n",
       "      <td>85.04</td>\n",
       "      <td>84.30</td>\n",
       "      <td>88.48</td>\n",
       "      <td>94.10</td>\n",
       "      <td>92.66</td>\n",
       "      <td>85.66</td>\n",
       "      <td>93.25</td>\n",
       "      <td>87.5</td>\n",
       "      <td>84.9</td>\n",
       "    </tr>\n",
       "  </tbody>\n",
       "</table>\n",
       "</div>"
      ],
      "text/plain": [
       "                       name conduct  age gender nationality       pob  \\\n",
       "0          abem kibru worku       b   15      m   ethiopian  ethiopia   \n",
       "1      amanuel demeke hailu       a   14      m   ethiopian  ethiopia   \n",
       "2       ananya girma tegegn       a   14      m   ethiopian  ethiopia   \n",
       "3         blen amare mesfin       a   15      f   ethiopian  ethiopia   \n",
       "4  dagmawi misganaw bimerew       a   14      m   ethiopian  ethiopia   \n",
       "\n",
       "  tutor/makeup  grade    admission guardian time_with_parents  \\\n",
       "0           no      9         paid     both            little   \n",
       "1           no      9         paid     both            little   \n",
       "2           no      9  scholarship     both             a lot   \n",
       "3           no      9         paid     both             a lot   \n",
       "4          yes      9         paid     both             a lot   \n",
       "\n",
       "  communication_with_parents reward_for_achievements parent_understanding  \\\n",
       "0                      agree                   agree        somehow agree   \n",
       "1                      agree          strongly agree        somehow agree   \n",
       "2             strongly agree          strongly agree       strongly agree   \n",
       "3             strongly agree          strongly agree       strongly agree   \n",
       "4                      agree                   agree                agree   \n",
       "\n",
       "  transport_type     residence travel time   birth_order  exercice  \\\n",
       "0         public    zenebework       30-60  middle child       2.0   \n",
       "1        private    zenebework         15-  middle child       3.0   \n",
       "2         public           cmc       30-60   first child       3.0   \n",
       "3        service     megenagna       30-60    last child       3.0   \n",
       "4        private  bole bulbula       30-60  middle child       0.0   \n",
       "\n",
       "     previous_school mother_tongue curriculum  sleeping time_in_pm  \\\n",
       "0            passion      eth-lang         no                  7.0   \n",
       "1             gibson      eth-lang         no                  7.5   \n",
       "2          dr bekele      eth-lang         no                  7.5   \n",
       "3       magic carpet      eth-lang         no                  8.0   \n",
       "4  school of nations      eth-lang         no                  8.5   \n",
       "\n",
       "  parenting_style  trauma  type  quality  literature    eng  maths  physics  \\\n",
       "0   authoritative     0.0   phy     3.25       76.75  93.67  70.56    72.76   \n",
       "1   authoritative     0.0  none     3.50       77.52  94.33  62.57    70.85   \n",
       "2   authoritative     0.0  none     4.50       88.27  91.67  97.16    85.77   \n",
       "3      permissive     1.0  none     4.50       73.81  91.00  72.55    67.95   \n",
       "4   authoritative     0.0  none     3.75       91.77  97.67  90.60    76.69   \n",
       "\n",
       "   chemistry  biology  geography  history  civics  amharic    ict  ent-ship  \\\n",
       "0      44.70    66.37      73.02    72.19   87.43    96.58  71.31     76.26   \n",
       "1      77.20    69.77      74.17    81.65   76.48    84.84  80.42     77.16   \n",
       "2      97.90    96.27      95.33    83.40   93.05    97.18  94.27     88.76   \n",
       "3      76.70    79.35      78.50    75.03   83.81    96.15  88.55     83.16   \n",
       "4      71.97    84.72      85.04    84.30   88.48    94.10  92.66     85.66   \n",
       "\n",
       "     hpe   gpa  matrik  \n",
       "0  64.90  74.3    72.6  \n",
       "1  86.00  77.9    75.9  \n",
       "2  89.50  92.2    92.6  \n",
       "3  84.00  80.8    78.1  \n",
       "4  93.25  87.5    84.9  "
      ]
     },
     "execution_count": 3,
     "metadata": {},
     "output_type": "execute_result"
    }
   ],
   "source": [
    "df_ms = pd.read_csv(r\"../data/msv7.csv\")\n",
    "df_hs = pd.read_csv(r\"../data/hsv7.csv\")\n",
    "df_hs.head()"
   ]
  },
  {
   "cell_type": "code",
   "execution_count": 4,
   "metadata": {},
   "outputs": [
    {
     "data": {
      "text/plain": [
       "Index(['name', 'conduct', 'age', 'gender', 'nationality', 'pob',\n",
       "       'tutor/makeup', 'grade', 'admission', 'guardian', 'time_with_parents',\n",
       "       'communication_with_parents', 'reward_for_achievements',\n",
       "       'parent_understanding', 'transport_type', 'residence', 'travel time',\n",
       "       'birth_order', 'exercice', 'previous_school', 'mother_tongue',\n",
       "       'curriculum', 'sleeping time_in_pm', 'parenting_style', 'trauma',\n",
       "       'type', 'quality', 'english', 'amharic', 'arabic', 'geez', 'ict',\n",
       "       'maths', 'ss', 'gp', 'is', 'moral', 'hpe', 'art', 'chemistry',\n",
       "       'physics', 'gpa'],\n",
       "      dtype='object')"
      ]
     },
     "execution_count": 4,
     "metadata": {},
     "output_type": "execute_result"
    }
   ],
   "source": [
    "df_ms.columns"
   ]
  },
  {
   "cell_type": "code",
   "execution_count": 5,
   "metadata": {},
   "outputs": [],
   "source": [
    "df_hs.rename(columns = {'eng':'english'}, inplace = True)"
   ]
  },
  {
   "cell_type": "code",
   "execution_count": 6,
   "metadata": {},
   "outputs": [
    {
     "data": {
      "text/plain": [
       "first child     80\n",
       "middle child    47\n",
       "last child      45\n",
       "Name: birth_order, dtype: int64"
      ]
     },
     "execution_count": 6,
     "metadata": {},
     "output_type": "execute_result"
    }
   ],
   "source": [
    "df_hs.birth_order = df_hs['birth_order'].replace('only child', 'first child')\n",
    "df_hs.birth_order.value_counts()"
   ]
  },
  {
   "cell_type": "code",
   "execution_count": 7,
   "metadata": {},
   "outputs": [],
   "source": [
    "ms_filter = df_ms[['name','conduct','quality', 'age', 'gender', 'grade', 'admission', 'birth_order', 'gpa', 'maths', 'physics', 'chemistry','amharic', 'geez', 'arabic', 'english', 'ict', 'ss', 'gp','is','hpe', 'moral']]"
   ]
  },
  {
   "cell_type": "code",
   "execution_count": 8,
   "metadata": {},
   "outputs": [],
   "source": [
    "hs_filter = df_hs[['name', 'conduct', 'quality','age', 'gender', 'grade', 'admission', 'birth_order', 'gpa', 'maths', 'physics' , 'chemistry', 'biology', 'english', 'literature', 'amharic', 'hpe', 'ict', 'geography', 'history', 'ent-ship']]"
   ]
  },
  {
   "attachments": {},
   "cell_type": "markdown",
   "metadata": {},
   "source": [
    "#### Concatenating Data"
   ]
  },
  {
   "cell_type": "code",
   "execution_count": 9,
   "metadata": {},
   "outputs": [],
   "source": [
    "frames = [ms_filter, hs_filter]\n",
    "df = pd.concat(frames)\n"
   ]
  },
  {
   "cell_type": "code",
   "execution_count": 10,
   "metadata": {},
   "outputs": [
    {
     "data": {
      "text/html": [
       "<div>\n",
       "<style scoped>\n",
       "    .dataframe tbody tr th:only-of-type {\n",
       "        vertical-align: middle;\n",
       "    }\n",
       "\n",
       "    .dataframe tbody tr th {\n",
       "        vertical-align: top;\n",
       "    }\n",
       "\n",
       "    .dataframe thead th {\n",
       "        text-align: right;\n",
       "    }\n",
       "</style>\n",
       "<table border=\"1\" class=\"dataframe\">\n",
       "  <thead>\n",
       "    <tr style=\"text-align: right;\">\n",
       "      <th></th>\n",
       "      <th>name</th>\n",
       "      <th>conduct</th>\n",
       "      <th>quality</th>\n",
       "      <th>age</th>\n",
       "      <th>gender</th>\n",
       "      <th>grade</th>\n",
       "      <th>admission</th>\n",
       "      <th>birth_order</th>\n",
       "      <th>gpa</th>\n",
       "      <th>maths</th>\n",
       "      <th>physics</th>\n",
       "      <th>chemistry</th>\n",
       "      <th>amharic</th>\n",
       "      <th>geez</th>\n",
       "      <th>arabic</th>\n",
       "      <th>english</th>\n",
       "      <th>ict</th>\n",
       "      <th>ss</th>\n",
       "      <th>gp</th>\n",
       "      <th>is</th>\n",
       "      <th>hpe</th>\n",
       "      <th>moral</th>\n",
       "      <th>biology</th>\n",
       "      <th>literature</th>\n",
       "      <th>geography</th>\n",
       "      <th>history</th>\n",
       "      <th>ent-ship</th>\n",
       "    </tr>\n",
       "  </thead>\n",
       "  <tbody>\n",
       "    <tr>\n",
       "      <th>0</th>\n",
       "      <td>abem ashenafi assefa</td>\n",
       "      <td>a</td>\n",
       "      <td>4.25</td>\n",
       "      <td>10.0</td>\n",
       "      <td>f</td>\n",
       "      <td>5</td>\n",
       "      <td>paid</td>\n",
       "      <td>middle child</td>\n",
       "      <td>89.4</td>\n",
       "      <td>76.38</td>\n",
       "      <td>NaN</td>\n",
       "      <td>NaN</td>\n",
       "      <td>94.58</td>\n",
       "      <td>84.41</td>\n",
       "      <td>88.45</td>\n",
       "      <td>94.86</td>\n",
       "      <td>88.52</td>\n",
       "      <td>85.93</td>\n",
       "      <td>95.00</td>\n",
       "      <td>82.01</td>\n",
       "      <td>95.48</td>\n",
       "      <td>98.28</td>\n",
       "      <td>NaN</td>\n",
       "      <td>NaN</td>\n",
       "      <td>NaN</td>\n",
       "      <td>NaN</td>\n",
       "      <td>NaN</td>\n",
       "    </tr>\n",
       "    <tr>\n",
       "      <th>1</th>\n",
       "      <td>abiya zerihun alemu</td>\n",
       "      <td>b</td>\n",
       "      <td>4.00</td>\n",
       "      <td>12.0</td>\n",
       "      <td>m</td>\n",
       "      <td>5</td>\n",
       "      <td>scholarship</td>\n",
       "      <td>first child</td>\n",
       "      <td>81.9</td>\n",
       "      <td>74.92</td>\n",
       "      <td>NaN</td>\n",
       "      <td>NaN</td>\n",
       "      <td>77.39</td>\n",
       "      <td>80.98</td>\n",
       "      <td>81.86</td>\n",
       "      <td>74.12</td>\n",
       "      <td>76.90</td>\n",
       "      <td>70.32</td>\n",
       "      <td>94.75</td>\n",
       "      <td>74.16</td>\n",
       "      <td>96.15</td>\n",
       "      <td>89.84</td>\n",
       "      <td>NaN</td>\n",
       "      <td>NaN</td>\n",
       "      <td>NaN</td>\n",
       "      <td>NaN</td>\n",
       "      <td>NaN</td>\n",
       "    </tr>\n",
       "    <tr>\n",
       "      <th>2</th>\n",
       "      <td>aman dilu shaleka</td>\n",
       "      <td>a</td>\n",
       "      <td>4.25</td>\n",
       "      <td>10.0</td>\n",
       "      <td>m</td>\n",
       "      <td>5</td>\n",
       "      <td>paid</td>\n",
       "      <td>last child</td>\n",
       "      <td>87.9</td>\n",
       "      <td>84.33</td>\n",
       "      <td>NaN</td>\n",
       "      <td>NaN</td>\n",
       "      <td>86.58</td>\n",
       "      <td>74.69</td>\n",
       "      <td>95.04</td>\n",
       "      <td>80.12</td>\n",
       "      <td>95.52</td>\n",
       "      <td>81.42</td>\n",
       "      <td>93.75</td>\n",
       "      <td>85.45</td>\n",
       "      <td>94.39</td>\n",
       "      <td>91.61</td>\n",
       "      <td>NaN</td>\n",
       "      <td>NaN</td>\n",
       "      <td>NaN</td>\n",
       "      <td>NaN</td>\n",
       "      <td>NaN</td>\n",
       "    </tr>\n",
       "    <tr>\n",
       "      <th>3</th>\n",
       "      <td>barok bahiru hunde</td>\n",
       "      <td>c</td>\n",
       "      <td>4.50</td>\n",
       "      <td>11.0</td>\n",
       "      <td>m</td>\n",
       "      <td>5</td>\n",
       "      <td>paid</td>\n",
       "      <td>last child</td>\n",
       "      <td>85.9</td>\n",
       "      <td>90.63</td>\n",
       "      <td>NaN</td>\n",
       "      <td>NaN</td>\n",
       "      <td>91.68</td>\n",
       "      <td>86.70</td>\n",
       "      <td>89.64</td>\n",
       "      <td>82.67</td>\n",
       "      <td>87.81</td>\n",
       "      <td>81.14</td>\n",
       "      <td>82.50</td>\n",
       "      <td>80.86</td>\n",
       "      <td>93.89</td>\n",
       "      <td>81.91</td>\n",
       "      <td>NaN</td>\n",
       "      <td>NaN</td>\n",
       "      <td>NaN</td>\n",
       "      <td>NaN</td>\n",
       "      <td>NaN</td>\n",
       "    </tr>\n",
       "    <tr>\n",
       "      <th>4</th>\n",
       "      <td>bethany yilkal</td>\n",
       "      <td>b</td>\n",
       "      <td>4.00</td>\n",
       "      <td>11.0</td>\n",
       "      <td>f</td>\n",
       "      <td>5</td>\n",
       "      <td>paid</td>\n",
       "      <td>middle child</td>\n",
       "      <td>95.5</td>\n",
       "      <td>96.00</td>\n",
       "      <td>NaN</td>\n",
       "      <td>NaN</td>\n",
       "      <td>96.99</td>\n",
       "      <td>92.09</td>\n",
       "      <td>97.60</td>\n",
       "      <td>96.31</td>\n",
       "      <td>98.62</td>\n",
       "      <td>89.07</td>\n",
       "      <td>99.75</td>\n",
       "      <td>94.73</td>\n",
       "      <td>88.69</td>\n",
       "      <td>98.77</td>\n",
       "      <td>NaN</td>\n",
       "      <td>NaN</td>\n",
       "      <td>NaN</td>\n",
       "      <td>NaN</td>\n",
       "      <td>NaN</td>\n",
       "    </tr>\n",
       "  </tbody>\n",
       "</table>\n",
       "</div>"
      ],
      "text/plain": [
       "                   name conduct  quality   age gender  grade    admission  \\\n",
       "0  abem ashenafi assefa       a     4.25  10.0      f      5         paid   \n",
       "1   abiya zerihun alemu       b     4.00  12.0      m      5  scholarship   \n",
       "2     aman dilu shaleka       a     4.25  10.0      m      5         paid   \n",
       "3    barok bahiru hunde       c     4.50  11.0      m      5         paid   \n",
       "4        bethany yilkal       b     4.00  11.0      f      5         paid   \n",
       "\n",
       "    birth_order   gpa  maths  physics  chemistry  amharic   geez  arabic  \\\n",
       "0  middle child  89.4  76.38      NaN        NaN    94.58  84.41   88.45   \n",
       "1   first child  81.9  74.92      NaN        NaN    77.39  80.98   81.86   \n",
       "2    last child  87.9  84.33      NaN        NaN    86.58  74.69   95.04   \n",
       "3    last child  85.9  90.63      NaN        NaN    91.68  86.70   89.64   \n",
       "4  middle child  95.5  96.00      NaN        NaN    96.99  92.09   97.60   \n",
       "\n",
       "   english    ict     ss     gp     is    hpe  moral  biology  literature  \\\n",
       "0    94.86  88.52  85.93  95.00  82.01  95.48  98.28      NaN         NaN   \n",
       "1    74.12  76.90  70.32  94.75  74.16  96.15  89.84      NaN         NaN   \n",
       "2    80.12  95.52  81.42  93.75  85.45  94.39  91.61      NaN         NaN   \n",
       "3    82.67  87.81  81.14  82.50  80.86  93.89  81.91      NaN         NaN   \n",
       "4    96.31  98.62  89.07  99.75  94.73  88.69  98.77      NaN         NaN   \n",
       "\n",
       "   geography  history  ent-ship  \n",
       "0        NaN      NaN       NaN  \n",
       "1        NaN      NaN       NaN  \n",
       "2        NaN      NaN       NaN  \n",
       "3        NaN      NaN       NaN  \n",
       "4        NaN      NaN       NaN  "
      ]
     },
     "execution_count": 10,
     "metadata": {},
     "output_type": "execute_result"
    }
   ],
   "source": [
    "df.head()"
   ]
  },
  {
   "cell_type": "code",
   "execution_count": 11,
   "metadata": {},
   "outputs": [
    {
     "data": {
      "text/plain": [
       "(287, 27)"
      ]
     },
     "execution_count": 11,
     "metadata": {},
     "output_type": "execute_result"
    }
   ],
   "source": [
    "df.shape"
   ]
  },
  {
   "cell_type": "code",
   "execution_count": 12,
   "metadata": {},
   "outputs": [
    {
     "data": {
      "text/plain": [
       "paid           195\n",
       "scholarship     92\n",
       "Name: admission, dtype: int64"
      ]
     },
     "execution_count": 12,
     "metadata": {},
     "output_type": "execute_result"
    }
   ],
   "source": [
    "df.admission.value_counts()"
   ]
  },
  {
   "cell_type": "code",
   "execution_count": 13,
   "metadata": {},
   "outputs": [
    {
     "data": {
      "text/plain": [
       "f    150\n",
       "m    137\n",
       "Name: gender, dtype: int64"
      ]
     },
     "execution_count": 13,
     "metadata": {},
     "output_type": "execute_result"
    }
   ],
   "source": [
    "df.gender.value_counts()"
   ]
  },
  {
   "cell_type": "code",
   "execution_count": 14,
   "metadata": {},
   "outputs": [
    {
     "data": {
      "text/plain": [
       "9     57\n",
       "10    44\n",
       "12    40\n",
       "7     37\n",
       "11    31\n",
       "8     30\n",
       "6     26\n",
       "5     22\n",
       "Name: grade, dtype: int64"
      ]
     },
     "execution_count": 14,
     "metadata": {},
     "output_type": "execute_result"
    }
   ],
   "source": [
    "df.grade.value_counts()"
   ]
  },
  {
   "cell_type": "code",
   "execution_count": 15,
   "metadata": {},
   "outputs": [
    {
     "data": {
      "text/plain": [
       "Index(['name', 'conduct', 'quality', 'age', 'gender', 'grade', 'admission',\n",
       "       'birth_order', 'gpa', 'maths', 'physics', 'chemistry', 'amharic',\n",
       "       'geez', 'arabic', 'english', 'ict', 'ss', 'gp', 'is', 'hpe', 'moral',\n",
       "       'biology', 'literature', 'geography', 'history', 'ent-ship'],\n",
       "      dtype='object')"
      ]
     },
     "execution_count": 15,
     "metadata": {},
     "output_type": "execute_result"
    }
   ],
   "source": [
    "df.columns"
   ]
  },
  {
   "cell_type": "code",
   "execution_count": 16,
   "metadata": {},
   "outputs": [
    {
     "name": "stdout",
     "output_type": "stream",
     "text": [
      "<class 'pandas.core.frame.DataFrame'>\n",
      "Int64Index: 287 entries, 0 to 171\n",
      "Data columns (total 27 columns):\n",
      " #   Column       Non-Null Count  Dtype  \n",
      "---  ------       --------------  -----  \n",
      " 0   name         287 non-null    object \n",
      " 1   conduct      287 non-null    object \n",
      " 2   quality      287 non-null    float64\n",
      " 3   age          287 non-null    float64\n",
      " 4   gender       287 non-null    object \n",
      " 5   grade        287 non-null    int64  \n",
      " 6   admission    287 non-null    object \n",
      " 7   birth_order  287 non-null    object \n",
      " 8   gpa          287 non-null    float64\n",
      " 9   maths        287 non-null    float64\n",
      " 10  physics      205 non-null    float64\n",
      " 11  chemistry    205 non-null    float64\n",
      " 12  amharic      287 non-null    float64\n",
      " 13  geez         115 non-null    float64\n",
      " 14  arabic       115 non-null    float64\n",
      " 15  english      287 non-null    float64\n",
      " 16  ict          287 non-null    float64\n",
      " 17  ss           115 non-null    float64\n",
      " 18  gp           115 non-null    float64\n",
      " 19  is           115 non-null    float64\n",
      " 20  hpe          287 non-null    float64\n",
      " 21  moral        115 non-null    float64\n",
      " 22  biology      139 non-null    float64\n",
      " 23  literature   172 non-null    float64\n",
      " 24  geography    134 non-null    float64\n",
      " 25  history      134 non-null    float64\n",
      " 26  ent-ship     134 non-null    float64\n",
      "dtypes: float64(21), int64(1), object(5)\n",
      "memory usage: 62.8+ KB\n"
     ]
    }
   ],
   "source": [
    "df.info()"
   ]
  },
  {
   "cell_type": "code",
   "execution_count": 17,
   "metadata": {},
   "outputs": [
    {
     "data": {
      "text/plain": [
       "first child     132\n",
       "middle child     86\n",
       "last child       69\n",
       "Name: birth_order, dtype: int64"
      ]
     },
     "execution_count": 17,
     "metadata": {},
     "output_type": "execute_result"
    }
   ],
   "source": [
    "df.birth_order.value_counts()"
   ]
  },
  {
   "cell_type": "code",
   "execution_count": 18,
   "metadata": {},
   "outputs": [
    {
     "data": {
      "text/plain": [
       "(0.0, 100.0)"
      ]
     },
     "execution_count": 18,
     "metadata": {},
     "output_type": "execute_result"
    },
    {
     "data": {
      "image/png": "[encoded data removed]",
      "text/plain": [
       "<Figure size 400x280 with 1 Axes>"
      ]
     },
     "metadata": {},
     "output_type": "display_data"
    }
   ],
   "source": [
    "sns.set(rc={'figure.figsize':(4.0,2.8)})\n",
    "sns.set_palette(\"bone\")\n",
    "sns.set_style(\"white\")\n",
    "ax = sns.countplot(data = df, x='birth_order', order=df['birth_order'].value_counts().index)\n",
    "sns.despine(top=True, left=True, bottom=True)\n",
    "plt.ylabel(\"\", size=10)\n",
    "plt.xlabel(\"\", size=10)\n",
    "ax.tick_params(bottom=False)\n",
    "ax.tick_params(left=False)\n",
    "ax.set_ylim(bottom=0, top=100)\n"
   ]
  },
  {
   "attachments": {},
   "cell_type": "markdown",
   "metadata": {},
   "source": [
    "#### Does birth order affect Performance?\n",
    "\n",
    "    Are first born the smartest?\n",
    "    Are the middle ones trouble makers?\n",
    "    Are last born underachievers?"
   ]
  },
  {
   "cell_type": "code",
   "execution_count": 19,
   "metadata": {},
   "outputs": [
    {
     "data": {
      "text/plain": [
       "Text(0.5, -11.750000000000004, '')"
      ]
     },
     "execution_count": 19,
     "metadata": {},
     "output_type": "execute_result"
    },
    {
     "data": {
      "image/png": "[encoded data removed]",
      "text/plain": [
       "<Figure size 100x200 with 1 Axes>"
      ]
     },
     "metadata": {},
     "output_type": "display_data"
    }
   ],
   "source": [
    "bg = df.groupby('birth_order')[['gpa']].mean()\n",
    "plt.figure(figsize=(1, 2))\n",
    "sns.heatmap(bg, annot=True, cmap='Greys', vmin=86, vmax=88, fmt='.2f', linewidths=.3, cbar = False)\n",
    "sns.despine(top=False, left=True, bottom=True) \n",
    "sns.set_style(\"white\")\n",
    "plt.ylabel(\"\") \n",
    "plt.xlabel(\"\") "
   ]
  },
  {
   "cell_type": "code",
   "execution_count": 20,
   "metadata": {},
   "outputs": [],
   "source": [
    "#d = {'gpa':'GPA', 'quality':'family','convalue':'conduct'}\n",
    "#df.groupby('birth_order').agg({'gpa':'mean', 'quality':'mean','convalue':'mean'}).rename(columns=d)"
   ]
  },
  {
   "attachments": {},
   "cell_type": "markdown",
   "metadata": {},
   "source": [
    "#### Data Analysis on Birth order relation with Grades\n",
    "\n",
    "     Mathematics and Science subjects performances relationship with birth order."
   ]
  },
  {
   "cell_type": "code",
   "execution_count": 21,
   "metadata": {},
   "outputs": [
    {
     "data": {
      "image/png": "[encoded data removed]",
      "text/plain": [
       "<Figure size 400x200 with 1 Axes>"
      ]
     },
     "metadata": {},
     "output_type": "display_data"
    }
   ],
   "source": [
    "# mean marks and project submissions for each student\n",
    "mainx = df.groupby('birth_order')[['maths', 'physics', 'chemistry','biology']].mean()\n",
    "legit_heat(mainx, 80, 87, 4, 'Blues')  "
   ]
  },
  {
   "attachments": {},
   "cell_type": "markdown",
   "metadata": {},
   "source": [
    "     Langucheckerx subjects performances relationship with birth order."
   ]
  },
  {
   "cell_type": "code",
   "execution_count": 22,
   "metadata": {},
   "outputs": [
    {
     "data": {
      "text/html": [
       "<div>\n",
       "<style scoped>\n",
       "    .dataframe tbody tr th:only-of-type {\n",
       "        vertical-align: middle;\n",
       "    }\n",
       "\n",
       "    .dataframe tbody tr th {\n",
       "        vertical-align: top;\n",
       "    }\n",
       "\n",
       "    .dataframe thead th {\n",
       "        text-align: right;\n",
       "    }\n",
       "</style>\n",
       "<table border=\"1\" class=\"dataframe\">\n",
       "  <thead>\n",
       "    <tr style=\"text-align: right;\">\n",
       "      <th></th>\n",
       "      <th>english</th>\n",
       "      <th>amharic</th>\n",
       "    </tr>\n",
       "    <tr>\n",
       "      <th>birth_order</th>\n",
       "      <th></th>\n",
       "      <th></th>\n",
       "    </tr>\n",
       "  </thead>\n",
       "  <tbody>\n",
       "    <tr>\n",
       "      <th>first child</th>\n",
       "      <td>89.742756</td>\n",
       "      <td>89.800933</td>\n",
       "    </tr>\n",
       "    <tr>\n",
       "      <th>last child</th>\n",
       "      <td>88.185362</td>\n",
       "      <td>86.473478</td>\n",
       "    </tr>\n",
       "    <tr>\n",
       "      <th>middle child</th>\n",
       "      <td>89.573605</td>\n",
       "      <td>89.256977</td>\n",
       "    </tr>\n",
       "  </tbody>\n",
       "</table>\n",
       "</div>"
      ],
      "text/plain": [
       "                english    amharic\n",
       "birth_order                       \n",
       "first child   89.742756  89.800933\n",
       "last child    88.185362  86.473478\n",
       "middle child  89.573605  89.256977"
      ]
     },
     "execution_count": 22,
     "metadata": {},
     "output_type": "execute_result"
    }
   ],
   "source": [
    "df.groupby('birth_order')[['english', 'amharic']].mean()"
   ]
  },
  {
   "attachments": {},
   "cell_type": "markdown",
   "metadata": {},
   "source": [
    "    Social subjects and physical Education performances relationship with birth order. "
   ]
  },
  {
   "cell_type": "code",
   "execution_count": 23,
   "metadata": {},
   "outputs": [
    {
     "data": {
      "image/png": "[encoded data removed]",
      "text/plain": [
       "<Figure size 200x200 with 1 Axes>"
      ]
     },
     "metadata": {},
     "output_type": "display_data"
    }
   ],
   "source": [
    "ghh = df.groupby('birth_order')[['geography', 'history']].mean()\n",
    "legit_heat(ghh, 83, 87, 2, 'Blues')  "
   ]
  },
  {
   "cell_type": "code",
   "execution_count": 24,
   "metadata": {},
   "outputs": [
    {
     "data": {
      "image/png": "[encoded data removed]",
      "text/plain": [
       "<Figure size 100x200 with 1 Axes>"
      ]
     },
     "metadata": {},
     "output_type": "display_data"
    }
   ],
   "source": [
    "df = df.rename(columns={\"ent-ship\": \"economics\"})\n",
    "ghh = df.groupby('birth_order')[['economics']].mean()\n",
    "legit_heat(ghh, 86, 91, 1,'Blues') "
   ]
  },
  {
   "cell_type": "markdown",
   "metadata": {},
   "source": [
    "#### Bivariate Anlaysis\n",
    "\n",
    "    GPA vs Birth Order"
   ]
  },
  {
   "cell_type": "code",
   "execution_count": 25,
   "metadata": {},
   "outputs": [
    {
     "data": {
      "image/png": "[encoded data removed]",
      "text/plain": [
       "<Figure size 500x280 with 1 Axes>"
      ]
     },
     "metadata": {},
     "output_type": "display_data"
    }
   ],
   "source": [
    "legitbar(df, 'gpa', 'birth_order', 'GPA', 85, 88)"
   ]
  },
  {
   "attachments": {},
   "cell_type": "markdown",
   "metadata": {},
   "source": [
    "    Mathematics vs Birth Order"
   ]
  },
  {
   "cell_type": "code",
   "execution_count": 26,
   "metadata": {},
   "outputs": [
    {
     "data": {
      "image/png": "[encoded data removed]",
      "text/plain": [
       "<Figure size 500x280 with 1 Axes>"
      ]
     },
     "metadata": {},
     "output_type": "display_data"
    }
   ],
   "source": [
    "legitbar(df, 'maths', 'birth_order', 'Mathematics', 78, 84)"
   ]
  },
  {
   "cell_type": "markdown",
   "metadata": {},
   "source": [
    "     Chemistry vs Birth Order"
   ]
  },
  {
   "cell_type": "code",
   "execution_count": 27,
   "metadata": {},
   "outputs": [
    {
     "data": {
      "image/png": "[encoded data removed]",
      "text/plain": [
       "<Figure size 500x280 with 1 Axes>"
      ]
     },
     "metadata": {},
     "output_type": "display_data"
    }
   ],
   "source": [
    "legitbar(df, 'chemistry', 'birth_order', 'Chemistry', 85, 88)\n",
    "\n"
   ]
  },
  {
   "attachments": {},
   "cell_type": "markdown",
   "metadata": {},
   "source": [
    "     Physics vs Birth Order"
   ]
  },
  {
   "cell_type": "code",
   "execution_count": 28,
   "metadata": {},
   "outputs": [
    {
     "data": {
      "image/png": "[encoded data removed]",
      "text/plain": [
       "<Figure size 500x280 with 1 Axes>"
      ]
     },
     "metadata": {},
     "output_type": "display_data"
    }
   ],
   "source": [
    "legitbar(df, 'physics', 'birth_order', 'Physics', 80, 88)"
   ]
  },
  {
   "attachments": {},
   "cell_type": "markdown",
   "metadata": {},
   "source": [
    "     Biology vs Birth Order"
   ]
  },
  {
   "cell_type": "code",
   "execution_count": 29,
   "metadata": {},
   "outputs": [
    {
     "data": {
      "image/png": "[encoded data removed]",
      "text/plain": [
       "<Figure size 500x280 with 1 Axes>"
      ]
     },
     "metadata": {},
     "output_type": "display_data"
    }
   ],
   "source": [
    "legitbar(df, 'biology', 'birth_order', 'Biology', 83, 88)"
   ]
  },
  {
   "attachments": {},
   "cell_type": "markdown",
   "metadata": {},
   "source": [
    "     HPE vs Birth Order"
   ]
  },
  {
   "cell_type": "code",
   "execution_count": 30,
   "metadata": {},
   "outputs": [
    {
     "data": {
      "image/png": "[encoded data removed]",
      "text/plain": [
       "<Figure size 500x280 with 1 Axes>"
      ]
     },
     "metadata": {},
     "output_type": "display_data"
    }
   ],
   "source": [
    "legitbar(df, 'hpe', 'birth_order', 'Hpe', 90, 98)"
   ]
  },
  {
   "attachments": {},
   "cell_type": "markdown",
   "metadata": {},
   "source": [
    "     Geography vs Birth Order"
   ]
  },
  {
   "cell_type": "code",
   "execution_count": 31,
   "metadata": {},
   "outputs": [
    {
     "data": {
      "image/png": "[encoded data removed]",
      "text/plain": [
       "<Figure size 500x280 with 1 Axes>"
      ]
     },
     "metadata": {},
     "output_type": "display_data"
    }
   ],
   "source": [
    "legitbar(df, 'geography', 'birth_order', 'Geography', 83, 87)"
   ]
  },
  {
   "attachments": {},
   "cell_type": "markdown",
   "metadata": {},
   "source": [
    "     History vs Birth Order"
   ]
  },
  {
   "cell_type": "code",
   "execution_count": 32,
   "metadata": {},
   "outputs": [
    {
     "data": {
      "image/png": "[encoded data removed]",
      "text/plain": [
       "<Figure size 500x280 with 1 Axes>"
      ]
     },
     "metadata": {},
     "output_type": "display_data"
    }
   ],
   "source": [
    "legitbar(df, 'history', 'birth_order', 'History', 83, 87)"
   ]
  },
  {
   "attachments": {},
   "cell_type": "markdown",
   "metadata": {},
   "source": [
    "#### Multivariate Analysis\n",
    "\n",
    "      Admission type effects on the birth_order and performance relationship"
   ]
  },
  {
   "cell_type": "code",
   "execution_count": 33,
   "metadata": {},
   "outputs": [],
   "source": [
    "df_paid = df[df.admission == 'paid']\n",
    "df_scholar = df[df.admission == 'scholarship']"
   ]
  },
  {
   "cell_type": "markdown",
   "metadata": {},
   "source": [
    "##### Paid"
   ]
  },
  {
   "cell_type": "code",
   "execution_count": 34,
   "metadata": {},
   "outputs": [
    {
     "data": {
      "text/html": [
       "<div>\n",
       "<style scoped>\n",
       "    .dataframe tbody tr th:only-of-type {\n",
       "        vertical-align: middle;\n",
       "    }\n",
       "\n",
       "    .dataframe tbody tr th {\n",
       "        vertical-align: top;\n",
       "    }\n",
       "\n",
       "    .dataframe thead th {\n",
       "        text-align: right;\n",
       "    }\n",
       "</style>\n",
       "<table border=\"1\" class=\"dataframe\">\n",
       "  <thead>\n",
       "    <tr style=\"text-align: right;\">\n",
       "      <th></th>\n",
       "      <th>gpa</th>\n",
       "    </tr>\n",
       "    <tr>\n",
       "      <th>birth_order</th>\n",
       "      <th></th>\n",
       "    </tr>\n",
       "  </thead>\n",
       "  <tbody>\n",
       "    <tr>\n",
       "      <th>first child</th>\n",
       "      <td>86.367033</td>\n",
       "    </tr>\n",
       "    <tr>\n",
       "      <th>last child</th>\n",
       "      <td>84.285714</td>\n",
       "    </tr>\n",
       "    <tr>\n",
       "      <th>middle child</th>\n",
       "      <td>86.535484</td>\n",
       "    </tr>\n",
       "  </tbody>\n",
       "</table>\n",
       "</div>"
      ],
      "text/plain": [
       "                    gpa\n",
       "birth_order            \n",
       "first child   86.367033\n",
       "last child    84.285714\n",
       "middle child  86.535484"
      ]
     },
     "execution_count": 34,
     "metadata": {},
     "output_type": "execute_result"
    }
   ],
   "source": [
    "df_paid.groupby('birth_order')[['gpa']].mean() \n"
   ]
  },
  {
   "cell_type": "code",
   "execution_count": 35,
   "metadata": {},
   "outputs": [
    {
     "data": {
      "text/html": [
       "<div>\n",
       "<style scoped>\n",
       "    .dataframe tbody tr th:only-of-type {\n",
       "        vertical-align: middle;\n",
       "    }\n",
       "\n",
       "    .dataframe tbody tr th {\n",
       "        vertical-align: top;\n",
       "    }\n",
       "\n",
       "    .dataframe thead th {\n",
       "        text-align: right;\n",
       "    }\n",
       "</style>\n",
       "<table border=\"1\" class=\"dataframe\">\n",
       "  <thead>\n",
       "    <tr style=\"text-align: right;\">\n",
       "      <th></th>\n",
       "      <th>gpa</th>\n",
       "      <th>maths</th>\n",
       "      <th>physics</th>\n",
       "      <th>chemistry</th>\n",
       "      <th>biology</th>\n",
       "    </tr>\n",
       "    <tr>\n",
       "      <th>birth_order</th>\n",
       "      <th></th>\n",
       "      <th></th>\n",
       "      <th></th>\n",
       "      <th></th>\n",
       "      <th></th>\n",
       "    </tr>\n",
       "  </thead>\n",
       "  <tbody>\n",
       "    <tr>\n",
       "      <th>first child</th>\n",
       "      <td>86.367033</td>\n",
       "      <td>78.247003</td>\n",
       "      <td>81.002769</td>\n",
       "      <td>83.817385</td>\n",
       "      <td>82.919762</td>\n",
       "    </tr>\n",
       "    <tr>\n",
       "      <th>last child</th>\n",
       "      <td>84.285714</td>\n",
       "      <td>75.588571</td>\n",
       "      <td>76.650000</td>\n",
       "      <td>81.952273</td>\n",
       "      <td>80.090667</td>\n",
       "    </tr>\n",
       "    <tr>\n",
       "      <th>middle child</th>\n",
       "      <td>86.535484</td>\n",
       "      <td>78.646452</td>\n",
       "      <td>84.808286</td>\n",
       "      <td>84.794286</td>\n",
       "      <td>83.884762</td>\n",
       "    </tr>\n",
       "  </tbody>\n",
       "</table>\n",
       "</div>"
      ],
      "text/plain": [
       "                    gpa      maths    physics  chemistry    biology\n",
       "birth_order                                                        \n",
       "first child   86.367033  78.247003  81.002769  83.817385  82.919762\n",
       "last child    84.285714  75.588571  76.650000  81.952273  80.090667\n",
       "middle child  86.535484  78.646452  84.808286  84.794286  83.884762"
      ]
     },
     "execution_count": 35,
     "metadata": {},
     "output_type": "execute_result"
    }
   ],
   "source": [
    "df_paid.groupby('birth_order')[['gpa', 'maths', 'physics', 'chemistry', 'biology']].mean()"
   ]
  },
  {
   "cell_type": "code",
   "execution_count": 36,
   "metadata": {},
   "outputs": [
    {
     "data": {
      "image/png": "[encoded data removed]",
      "text/plain": [
       "<Figure size 400x280 with 1 Axes>"
      ]
     },
     "metadata": {},
     "output_type": "display_data"
    }
   ],
   "source": [
    "sns.set(rc={'figure.figsize':(4.0,2.8)})\n",
    "sns.set_style(\"white\")\n",
    "sns.set_palette('Blues_r')\n",
    "ax = sns.barplot(data = df_scholar,  x='birth_order', y = 'geography', order=df_paid['birth_order'].value_counts().index, ci=None)\n",
    "sns.despine(top=True, left=True, bottom=True)\n",
    "plt.ylabel(\"\", size=10)\n",
    "plt.xlabel(\"\", size=10)\n",
    "ax.set_title('Moral', size=12)\n",
    "ax.tick_params(bottom=False)\n",
    "ax.tick_params(left=False)\n",
    "ax.set_ylim(bottom=87, top=92)\n",
    "for bar in ax.patches:\n",
    "\t\tif bar.get_height() > 90:\n",
    "\t\t    bar.set_color('#5C5CFF')\n",
    "\t\telse:\n",
    "\t\t    bar.set_color('grey')"
   ]
  },
  {
   "cell_type": "markdown",
   "metadata": {},
   "source": [
    "##### Scholarship"
   ]
  },
  {
   "cell_type": "code",
   "execution_count": 37,
   "metadata": {},
   "outputs": [
    {
     "data": {
      "text/html": [
       "<div>\n",
       "<style scoped>\n",
       "    .dataframe tbody tr th:only-of-type {\n",
       "        vertical-align: middle;\n",
       "    }\n",
       "\n",
       "    .dataframe tbody tr th {\n",
       "        vertical-align: top;\n",
       "    }\n",
       "\n",
       "    .dataframe thead th {\n",
       "        text-align: right;\n",
       "    }\n",
       "</style>\n",
       "<table border=\"1\" class=\"dataframe\">\n",
       "  <thead>\n",
       "    <tr style=\"text-align: right;\">\n",
       "      <th></th>\n",
       "      <th>gpa</th>\n",
       "      <th>maths</th>\n",
       "      <th>physics</th>\n",
       "      <th>chemistry</th>\n",
       "      <th>biology</th>\n",
       "    </tr>\n",
       "    <tr>\n",
       "      <th>birth_order</th>\n",
       "      <th></th>\n",
       "      <th></th>\n",
       "      <th></th>\n",
       "      <th></th>\n",
       "      <th></th>\n",
       "    </tr>\n",
       "  </thead>\n",
       "  <tbody>\n",
       "    <tr>\n",
       "      <th>first child</th>\n",
       "      <td>89.546341</td>\n",
       "      <td>85.361707</td>\n",
       "      <td>85.382162</td>\n",
       "      <td>90.336216</td>\n",
       "      <td>88.247037</td>\n",
       "    </tr>\n",
       "    <tr>\n",
       "      <th>last child</th>\n",
       "      <td>90.562963</td>\n",
       "      <td>85.282222</td>\n",
       "      <td>83.590870</td>\n",
       "      <td>90.098261</td>\n",
       "      <td>89.730000</td>\n",
       "    </tr>\n",
       "    <tr>\n",
       "      <th>middle child</th>\n",
       "      <td>91.587500</td>\n",
       "      <td>88.069583</td>\n",
       "      <td>88.476087</td>\n",
       "      <td>89.972174</td>\n",
       "      <td>90.312667</td>\n",
       "    </tr>\n",
       "  </tbody>\n",
       "</table>\n",
       "</div>"
      ],
      "text/plain": [
       "                    gpa      maths    physics  chemistry    biology\n",
       "birth_order                                                        \n",
       "first child   89.546341  85.361707  85.382162  90.336216  88.247037\n",
       "last child    90.562963  85.282222  83.590870  90.098261  89.730000\n",
       "middle child  91.587500  88.069583  88.476087  89.972174  90.312667"
      ]
     },
     "execution_count": 37,
     "metadata": {},
     "output_type": "execute_result"
    }
   ],
   "source": [
    "df_scholar.groupby('birth_order')[['gpa', 'maths', 'physics', 'chemistry', 'biology']].mean()"
   ]
  },
  {
   "cell_type": "code",
   "execution_count": null,
   "metadata": {},
   "outputs": [],
   "source": []
  },
  {
   "attachments": {},
   "cell_type": "markdown",
   "metadata": {},
   "source": [
    "     Gender effects on the birth_order and performance relationship"
   ]
  },
  {
   "cell_type": "code",
   "execution_count": 38,
   "metadata": {},
   "outputs": [],
   "source": [
    "dfm = df[df.gender == 'm']\n",
    "dff = df[df.gender == 'f']"
   ]
  },
  {
   "attachments": {},
   "cell_type": "markdown",
   "metadata": {},
   "source": [
    "     Male Students Birth Order and Major Grades"
   ]
  },
  {
   "cell_type": "code",
   "execution_count": 39,
   "metadata": {},
   "outputs": [
    {
     "data": {
      "image/png": "[encoded data removed]",
      "text/plain": [
       "<Figure size 100x200 with 1 Axes>"
      ]
     },
     "metadata": {},
     "output_type": "display_data"
    }
   ],
   "source": [
    "#dfm.groupby('birth_order')[['gpa']].mean()\n",
    "\n",
    "dfm['birth_order'] = dfm['birth_order'].replace('first child', 'Oldest')\n",
    "dfm['birth_order'] = dfm['birth_order'].replace('middle child', 'Middle')\n",
    "dfm['birth_order'] = dfm['birth_order'].replace('last child', 'Youngest')\n",
    "d = {'gpa':'Male'}\n",
    "t = dfm.groupby('birth_order').agg({'gpa':'mean'}).rename(columns=d)\n",
    "legit_heat(t, 86, 88, 1, 'Blues')  "
   ]
  },
  {
   "cell_type": "code",
   "execution_count": 40,
   "metadata": {},
   "outputs": [
    {
     "data": {
      "image/png": "[encoded data removed]",
      "text/plain": [
       "<Figure size 100x200 with 1 Axes>"
      ]
     },
     "metadata": {},
     "output_type": "display_data"
    }
   ],
   "source": [
    "dff['birth_order'] = dff['birth_order'].replace('first child', 'Oldest')\n",
    "dff['birth_order'] = dff['birth_order'].replace('middle child', 'Middle')\n",
    "dff['birth_order'] = dff['birth_order'].replace('last child', 'Youngest')\n",
    "d = {'gpa':'Female'}\n",
    "t = dff.groupby('birth_order').agg({'gpa':'mean'}).rename(columns=d)\n",
    "legit_heat(t, 86, 88.3, 1, 'Blues') "
   ]
  },
  {
   "cell_type": "code",
   "execution_count": 41,
   "metadata": {},
   "outputs": [
    {
     "data": {
      "image/png": "[encoded data removed]",
      "text/plain": [
       "<Figure size 400x200 with 1 Axes>"
      ]
     },
     "metadata": {},
     "output_type": "display_data"
    }
   ],
   "source": [
    "t = dfm.groupby('birth_order')[['maths', 'physics', 'chemistry', 'biology']].mean()\n",
    "legit_heat(t, 78, 87, 4, 'Blues') "
   ]
  },
  {
   "attachments": {},
   "cell_type": "markdown",
   "metadata": {},
   "source": [
    "     Female Students Birth Order and Major Grades"
   ]
  },
  {
   "cell_type": "code",
   "execution_count": 42,
   "metadata": {},
   "outputs": [],
   "source": [
    "t = dff.groupby('birth_order')[['gpa', 'maths', 'physics', 'chemistry', 'biology']].mean()"
   ]
  },
  {
   "attachments": {},
   "cell_type": "markdown",
   "metadata": {},
   "source": [
    "     Male Students Birth Order and Social Subjects Grade\n"
   ]
  },
  {
   "cell_type": "code",
   "execution_count": 43,
   "metadata": {},
   "outputs": [
    {
     "data": {
      "image/png": "[encoded data removed]",
      "text/plain": [
       "<Figure size 200x200 with 1 Axes>"
      ]
     },
     "metadata": {},
     "output_type": "display_data"
    }
   ],
   "source": [
    "t = dfm.groupby('birth_order')[['geography', 'history']].mean()\n",
    "legit_heat(t, 83, 87, 2, 'Blues')  "
   ]
  },
  {
   "attachments": {},
   "cell_type": "markdown",
   "metadata": {},
   "source": [
    "     Female Students Birth Order and Social Subjects Grade"
   ]
  },
  {
   "cell_type": "code",
   "execution_count": 44,
   "metadata": {},
   "outputs": [
    {
     "data": {
      "text/html": [
       "<div>\n",
       "<style scoped>\n",
       "    .dataframe tbody tr th:only-of-type {\n",
       "        vertical-align: middle;\n",
       "    }\n",
       "\n",
       "    .dataframe tbody tr th {\n",
       "        vertical-align: top;\n",
       "    }\n",
       "\n",
       "    .dataframe thead th {\n",
       "        text-align: right;\n",
       "    }\n",
       "</style>\n",
       "<table border=\"1\" class=\"dataframe\">\n",
       "  <thead>\n",
       "    <tr style=\"text-align: right;\">\n",
       "      <th></th>\n",
       "      <th>geography</th>\n",
       "      <th>history</th>\n",
       "    </tr>\n",
       "    <tr>\n",
       "      <th>birth_order</th>\n",
       "      <th></th>\n",
       "      <th></th>\n",
       "    </tr>\n",
       "  </thead>\n",
       "  <tbody>\n",
       "    <tr>\n",
       "      <th>Middle</th>\n",
       "      <td>81.733125</td>\n",
       "      <td>87.252500</td>\n",
       "    </tr>\n",
       "    <tr>\n",
       "      <th>Oldest</th>\n",
       "      <td>82.722069</td>\n",
       "      <td>83.821724</td>\n",
       "    </tr>\n",
       "    <tr>\n",
       "      <th>Youngest</th>\n",
       "      <td>83.844000</td>\n",
       "      <td>86.804500</td>\n",
       "    </tr>\n",
       "  </tbody>\n",
       "</table>\n",
       "</div>"
      ],
      "text/plain": [
       "             geography    history\n",
       "birth_order                      \n",
       "Middle       81.733125  87.252500\n",
       "Oldest       82.722069  83.821724\n",
       "Youngest     83.844000  86.804500"
      ]
     },
     "execution_count": 44,
     "metadata": {},
     "output_type": "execute_result"
    }
   ],
   "source": [
    "dff.groupby('birth_order')[['geography', 'history']].mean()"
   ]
  },
  {
   "cell_type": "markdown",
   "metadata": {},
   "source": [
    "#### Feature Engineering for Conduct values "
   ]
  },
  {
   "cell_type": "code",
   "execution_count": 45,
   "metadata": {},
   "outputs": [],
   "source": [
    "def conval(x):\n",
    "    if x == 'a':\n",
    "        return 3\n",
    "    elif x == 'b':\n",
    "        return 2\n",
    "    else:\n",
    "        return 1 \n",
    "    \n",
    "df['convalue'] = df.conduct.apply(conval)"
   ]
  },
  {
   "cell_type": "code",
   "execution_count": 46,
   "metadata": {},
   "outputs": [
    {
     "data": {
      "text/plain": [
       "Index(['name', 'conduct', 'quality', 'age', 'gender', 'grade', 'admission',\n",
       "       'birth_order', 'gpa', 'maths', 'physics', 'chemistry', 'amharic',\n",
       "       'geez', 'arabic', 'english', 'ict', 'ss', 'gp', 'is', 'hpe', 'moral',\n",
       "       'biology', 'literature', 'geography', 'history', 'economics',\n",
       "       'convalue'],\n",
       "      dtype='object')"
      ]
     },
     "execution_count": 46,
     "metadata": {},
     "output_type": "execute_result"
    }
   ],
   "source": [
    "df.columns"
   ]
  },
  {
   "attachments": {},
   "cell_type": "markdown",
   "metadata": {},
   "source": [
    "#### Conduct vs Birth order"
   ]
  },
  {
   "cell_type": "code",
   "execution_count": 47,
   "metadata": {},
   "outputs": [
    {
     "data": {
      "image/png": "[encoded data removed]",
      "text/plain": [
       "<Figure size 200x200 with 1 Axes>"
      ]
     },
     "metadata": {},
     "output_type": "display_data"
    }
   ],
   "source": [
    "t = df.groupby('birth_order')[['convalue']].mean()\n",
    "legit_heat(t, 2.6, 2.8, 2, 'Blues') \n",
    " "
   ]
  },
  {
   "attachments": {},
   "cell_type": "markdown",
   "metadata": {},
   "source": [
    "#### Quality of family Relationship vs Birth order"
   ]
  },
  {
   "cell_type": "code",
   "execution_count": 48,
   "metadata": {},
   "outputs": [
    {
     "data": {
      "text/html": [
       "<div>\n",
       "<style scoped>\n",
       "    .dataframe tbody tr th:only-of-type {\n",
       "        vertical-align: middle;\n",
       "    }\n",
       "\n",
       "    .dataframe tbody tr th {\n",
       "        vertical-align: top;\n",
       "    }\n",
       "\n",
       "    .dataframe thead th {\n",
       "        text-align: right;\n",
       "    }\n",
       "</style>\n",
       "<table border=\"1\" class=\"dataframe\">\n",
       "  <thead>\n",
       "    <tr style=\"text-align: right;\">\n",
       "      <th></th>\n",
       "      <th>quality</th>\n",
       "    </tr>\n",
       "    <tr>\n",
       "      <th>birth_order</th>\n",
       "      <th></th>\n",
       "    </tr>\n",
       "  </thead>\n",
       "  <tbody>\n",
       "    <tr>\n",
       "      <th>first child</th>\n",
       "      <td>3.803030</td>\n",
       "    </tr>\n",
       "    <tr>\n",
       "      <th>last child</th>\n",
       "      <td>3.739130</td>\n",
       "    </tr>\n",
       "    <tr>\n",
       "      <th>middle child</th>\n",
       "      <td>3.802326</td>\n",
       "    </tr>\n",
       "  </tbody>\n",
       "</table>\n",
       "</div>"
      ],
      "text/plain": [
       "               quality\n",
       "birth_order           \n",
       "first child   3.803030\n",
       "last child    3.739130\n",
       "middle child  3.802326"
      ]
     },
     "execution_count": 48,
     "metadata": {},
     "output_type": "execute_result"
    }
   ],
   "source": [
    "df.groupby('birth_order')[['quality']].mean()\n"
   ]
  },
  {
   "attachments": {},
   "cell_type": "markdown",
   "metadata": {},
   "source": [
    "## Advanced Analysis\n",
    "\n",
    "#### Checking siblings from the same household"
   ]
  },
  {
   "cell_type": "code",
   "execution_count": 49,
   "metadata": {},
   "outputs": [],
   "source": [
    "def checker(x):\n",
    "    pname = ''\n",
    "    last = x.split(\" \")\n",
    "    if len(last) == 3:\n",
    "       pname = last[1] + last[2]\n",
    "       return pname\n",
    "    else:\n",
    "       return x \n",
    "    \n",
    "df['checkerx'] = df.name.apply(checker)       \n",
    "        "
   ]
  },
  {
   "cell_type": "code",
   "execution_count": 50,
   "metadata": {},
   "outputs": [
    {
     "data": {
      "text/html": [
       "<div>\n",
       "<style scoped>\n",
       "    .dataframe tbody tr th:only-of-type {\n",
       "        vertical-align: middle;\n",
       "    }\n",
       "\n",
       "    .dataframe tbody tr th {\n",
       "        vertical-align: top;\n",
       "    }\n",
       "\n",
       "    .dataframe thead th {\n",
       "        text-align: right;\n",
       "    }\n",
       "</style>\n",
       "<table border=\"1\" class=\"dataframe\">\n",
       "  <thead>\n",
       "    <tr style=\"text-align: right;\">\n",
       "      <th></th>\n",
       "      <th>checkerx</th>\n",
       "    </tr>\n",
       "  </thead>\n",
       "  <tbody>\n",
       "    <tr>\n",
       "      <th>aminfedlu</th>\n",
       "      <td>2</td>\n",
       "    </tr>\n",
       "    <tr>\n",
       "      <th>almawyeshiwas</th>\n",
       "      <td>2</td>\n",
       "    </tr>\n",
       "    <tr>\n",
       "      <th>abebedula</th>\n",
       "      <td>2</td>\n",
       "    </tr>\n",
       "    <tr>\n",
       "      <th>abduyimer</th>\n",
       "      <td>2</td>\n",
       "    </tr>\n",
       "    <tr>\n",
       "      <th>telaynehkefyalew</th>\n",
       "      <td>2</td>\n",
       "    </tr>\n",
       "    <tr>\n",
       "      <th>sisaymenji</th>\n",
       "      <td>2</td>\n",
       "    </tr>\n",
       "    <tr>\n",
       "      <th>nebiyouhaddis</th>\n",
       "      <td>2</td>\n",
       "    </tr>\n",
       "    <tr>\n",
       "      <th>henoktessema</th>\n",
       "      <td>2</td>\n",
       "    </tr>\n",
       "    <tr>\n",
       "      <th>bitwodedtezera</th>\n",
       "      <td>2</td>\n",
       "    </tr>\n",
       "    <tr>\n",
       "      <th>awelachewyirga</th>\n",
       "      <td>2</td>\n",
       "    </tr>\n",
       "    <tr>\n",
       "      <th>jacobseth</th>\n",
       "      <td>2</td>\n",
       "    </tr>\n",
       "    <tr>\n",
       "      <th>andargachewbekele</th>\n",
       "      <td>2</td>\n",
       "    </tr>\n",
       "    <tr>\n",
       "      <th>kibruworku</th>\n",
       "      <td>2</td>\n",
       "    </tr>\n",
       "    <tr>\n",
       "      <th>sisayyitbarek</th>\n",
       "      <td>2</td>\n",
       "    </tr>\n",
       "    <tr>\n",
       "      <th>zerihunewenetu</th>\n",
       "      <td>2</td>\n",
       "    </tr>\n",
       "    <tr>\n",
       "      <th>tekaligntadesse</th>\n",
       "      <td>2</td>\n",
       "    </tr>\n",
       "    <tr>\n",
       "      <th>abdulshikurmenu</th>\n",
       "      <td>2</td>\n",
       "    </tr>\n",
       "    <tr>\n",
       "      <th>dilushaleka</th>\n",
       "      <td>2</td>\n",
       "    </tr>\n",
       "    <tr>\n",
       "      <th>dawitmekonen</th>\n",
       "      <td>2</td>\n",
       "    </tr>\n",
       "    <tr>\n",
       "      <th>kenmostesfaye</th>\n",
       "      <td>2</td>\n",
       "    </tr>\n",
       "    <tr>\n",
       "      <th>worknehdelelgn</th>\n",
       "      <td>2</td>\n",
       "    </tr>\n",
       "    <tr>\n",
       "      <th>girmalegesse</th>\n",
       "      <td>2</td>\n",
       "    </tr>\n",
       "    <tr>\n",
       "      <th>mekonentesfaye</th>\n",
       "      <td>2</td>\n",
       "    </tr>\n",
       "  </tbody>\n",
       "</table>\n",
       "</div>"
      ],
      "text/plain": [
       "                   checkerx\n",
       "aminfedlu                 2\n",
       "almawyeshiwas             2\n",
       "abebedula                 2\n",
       "abduyimer                 2\n",
       "telaynehkefyalew          2\n",
       "sisaymenji                2\n",
       "nebiyouhaddis             2\n",
       "henoktessema              2\n",
       "bitwodedtezera            2\n",
       "awelachewyirga            2\n",
       "jacobseth                 2\n",
       "andargachewbekele         2\n",
       "kibruworku                2\n",
       "sisayyitbarek             2\n",
       "zerihunewenetu            2\n",
       "tekaligntadesse           2\n",
       "abdulshikurmenu           2\n",
       "dilushaleka               2\n",
       "dawitmekonen              2\n",
       "kenmostesfaye             2\n",
       "worknehdelelgn            2\n",
       "girmalegesse              2\n",
       "mekonentesfaye            2"
      ]
     },
     "execution_count": 50,
     "metadata": {},
     "output_type": "execute_result"
    }
   ],
   "source": [
    "s = df.checkerx.value_counts()\n",
    "s = s.to_frame()\n",
    "s[s.checkerx == 2]"
   ]
  },
  {
   "cell_type": "code",
   "execution_count": 51,
   "metadata": {},
   "outputs": [],
   "source": [
    "a = df[df.checkerx == 'almawyeshiwas'][['name','birth_order', 'gpa', 'checkerx', 'conduct']]"
   ]
  },
  {
   "cell_type": "code",
   "execution_count": 52,
   "metadata": {},
   "outputs": [],
   "source": [
    "b = df[df.checkerx == 'abebedula'][['name','birth_order', 'gpa', 'checkerx', 'conduct']]"
   ]
  },
  {
   "cell_type": "code",
   "execution_count": 53,
   "metadata": {},
   "outputs": [],
   "source": [
    "c = df[df.checkerx == 'abduyimer'][['name','birth_order', 'gpa', 'checkerx', 'conduct']]"
   ]
  },
  {
   "cell_type": "code",
   "execution_count": 54,
   "metadata": {},
   "outputs": [],
   "source": [
    "df.checkerx.value_counts()\n",
    "d = df[df.checkerx == 'telaynehkefyalew'][['name','birth_order', 'gpa', 'checkerx', 'conduct']]"
   ]
  },
  {
   "cell_type": "code",
   "execution_count": 55,
   "metadata": {},
   "outputs": [],
   "source": [
    "df.checkerx.value_counts()\n",
    "e = df[df.checkerx == 'sisaymenji'][['name','birth_order', 'gpa', 'checkerx', 'conduct']]"
   ]
  },
  {
   "cell_type": "code",
   "execution_count": 56,
   "metadata": {},
   "outputs": [],
   "source": [
    "f = df[df.checkerx == 'zerihunewenetu'][['name','birth_order', 'gpa', 'checkerx', 'conduct']]"
   ]
  },
  {
   "cell_type": "code",
   "execution_count": 57,
   "metadata": {},
   "outputs": [],
   "source": [
    "g = df[df.checkerx == 'abdulshikurmenu'][['name','birth_order', 'gpa', 'checkerx', 'conduct']]"
   ]
  },
  {
   "cell_type": "code",
   "execution_count": 58,
   "metadata": {},
   "outputs": [],
   "source": [
    "df.checkerx.value_counts()\n",
    "i = df[df.checkerx == 'awelachewyirga'][['name','birth_order', 'gpa', 'checkerx', 'conduct']]\n"
   ]
  },
  {
   "cell_type": "code",
   "execution_count": 59,
   "metadata": {},
   "outputs": [
    {
     "data": {
      "text/plain": [
       "bahiruhunde        4\n",
       "meketebale         4\n",
       "abrahamalemneh     3\n",
       "mohammedsied       3\n",
       "aminfedlu          2\n",
       "                  ..\n",
       "zelaleminyew       1\n",
       "misganawgenanew    1\n",
       "solomonabera       1\n",
       "demekehailu        1\n",
       "meseretmelaku      1\n",
       "Name: checkerx, Length: 254, dtype: int64"
      ]
     },
     "execution_count": 59,
     "metadata": {},
     "output_type": "execute_result"
    }
   ],
   "source": [
    "df.checkerx.value_counts()"
   ]
  },
  {
   "cell_type": "code",
   "execution_count": 60,
   "metadata": {},
   "outputs": [],
   "source": [
    "j =df[df.checkerx == 'tekaligntadesse'][['name','birth_order', 'gpa', 'checkerx', 'conduct']]\n"
   ]
  },
  {
   "cell_type": "code",
   "execution_count": 61,
   "metadata": {},
   "outputs": [],
   "source": [
    "k = df[df.checkerx == 'dawitmekonen'][['name','birth_order', 'gpa', 'checkerx', 'conduct']]\n"
   ]
  },
  {
   "cell_type": "code",
   "execution_count": 62,
   "metadata": {},
   "outputs": [],
   "source": [
    "l = df[df.checkerx == 'kenmostesfaye'][['name','birth_order', 'gpa', 'checkerx', 'conduct']]\n"
   ]
  },
  {
   "cell_type": "code",
   "execution_count": 63,
   "metadata": {},
   "outputs": [],
   "source": [
    "m = df[df.checkerx == 'worknehdelelgn'][['name','birth_order', 'gpa', 'checkerx', 'conduct']]"
   ]
  },
  {
   "cell_type": "code",
   "execution_count": 64,
   "metadata": {},
   "outputs": [],
   "source": [
    "n = df[df.checkerx == 'girmalegesse'][['name','birth_order', 'gpa', 'checkerx', 'conduct']]"
   ]
  },
  {
   "cell_type": "code",
   "execution_count": 65,
   "metadata": {},
   "outputs": [],
   "source": [
    "o = df[df.checkerx == 'mekonentesfaye'][['name','birth_order', 'gpa', 'checkerx', 'conduct']]\n"
   ]
  },
  {
   "cell_type": "code",
   "execution_count": 66,
   "metadata": {},
   "outputs": [],
   "source": [
    "p = df[df.checkerx == 'henoktessema'][['name','birth_order', 'gpa', 'checkerx', 'conduct']]"
   ]
  },
  {
   "cell_type": "code",
   "execution_count": 67,
   "metadata": {},
   "outputs": [],
   "source": [
    "q = df[df.checkerx == 'bitwodedtezera'][['name','birth_order', 'gpa', 'checkerx', 'conduct']]"
   ]
  },
  {
   "cell_type": "code",
   "execution_count": 68,
   "metadata": {},
   "outputs": [],
   "source": [
    "r = df[df.checkerx == 'aminfedlu'][['name','birth_order', 'gpa', 'checkerx', 'conduct']]"
   ]
  },
  {
   "cell_type": "code",
   "execution_count": 69,
   "metadata": {},
   "outputs": [],
   "source": [
    "s = df[df.checkerx == 'kibruworku'][['name','birth_order', 'gpa', 'checkerx', 'conduct']]"
   ]
  },
  {
   "cell_type": "code",
   "execution_count": 70,
   "metadata": {},
   "outputs": [],
   "source": [
    "t = df[df.checkerx == 'andargachewbekele'][['name','birth_order', 'gpa', 'checkerx', 'conduct']]"
   ]
  },
  {
   "cell_type": "code",
   "execution_count": 71,
   "metadata": {},
   "outputs": [],
   "source": [
    "u = df[df.checkerx == 'dilushaleka'][['name','birth_order', 'gpa', 'checkerx', 'conduct']]"
   ]
  },
  {
   "cell_type": "code",
   "execution_count": 72,
   "metadata": {},
   "outputs": [],
   "source": [
    "v = df[df.checkerx == 'nebiyouhaddis'][['name','birth_order', 'gpa', 'checkerx', 'conduct']]"
   ]
  },
  {
   "cell_type": "code",
   "execution_count": 73,
   "metadata": {},
   "outputs": [],
   "source": [
    "x = df[df.checkerx == 'jacobseth'][['name','birth_order', 'gpa', 'checkerx', 'conduct']]"
   ]
  },
  {
   "cell_type": "code",
   "execution_count": 74,
   "metadata": {},
   "outputs": [],
   "source": [
    "w = df[df.checkerx == 'sisayyitbarek'][['name','birth_order', 'gpa', 'checkerx', 'conduct']]"
   ]
  },
  {
   "cell_type": "code",
   "execution_count": 75,
   "metadata": {},
   "outputs": [],
   "source": [
    "frames2 = [a,b,c,e,g,j,k,l,n,o]\n",
    "z = pd.concat(frames2)\n",
    "\n",
    "#l,n,o,p,q,r,s\n",
    "#l,n,o,p,q,r,s\n",
    "#ZOLA\n",
    "#6 3 14"
   ]
  },
  {
   "cell_type": "code",
   "execution_count": 76,
   "metadata": {},
   "outputs": [
    {
     "data": {
      "text/plain": [
       "'\\nimport matplotlib.ticker as mticker\\nax = sns.catplot(\\n    data=z, kind=\"bar\",aspect=2.0,\\n    y=\"checkerx\", x=\"gpa\", hue=\"birth_order\",\\n     palette=[\\'#456789\\',\\'#FF5C5C\\']\\n)\\n\\nsns.set_style(\"white\")\\nsns.despine(top=True, left=True, bottom=True)\\nplt.xlim(0, 100)\\nplt.ylabel(\"\", size=10)\\nplt.xlabel(\"\", size=10)\\n\\ngroup_labels = [\\'AY\\', \\'AD\\',\\n             \\'AY\\', \\'SM\\', \\'AM\\', \\'TT\\', \\'DM\\', \\'KT\\', \\'GL\\', \\'MT\\']\\n\\nax.set_yticklabels(group_labels)\\n'"
      ]
     },
     "execution_count": 76,
     "metadata": {},
     "output_type": "execute_result"
    }
   ],
   "source": [
    "'''\n",
    "import matplotlib.ticker as mticker\n",
    "ax = sns.catplot(\n",
    "    data=z, kind=\"bar\",aspect=2.0,\n",
    "    y=\"checkerx\", x=\"gpa\", hue=\"birth_order\",\n",
    "     palette=['#456789','#FF5C5C']\n",
    ")\n",
    "\n",
    "sns.set_style(\"white\")\n",
    "sns.despine(top=True, left=True, bottom=True)\n",
    "plt.xlim(0, 100)\n",
    "plt.ylabel(\"\", size=10)\n",
    "plt.xlabel(\"\", size=10)\n",
    "\n",
    "group_labels = ['AY', 'AD',\n",
    "             'AY', 'SM', 'AM', 'TT', 'DM', 'KT', 'GL', 'MT']\n",
    "\n",
    "ax.set_yticklabels(group_labels)\n",
    "'''   "
   ]
  },
  {
   "cell_type": "code",
   "execution_count": 77,
   "metadata": {},
   "outputs": [],
   "source": [
    "z.to_csv('samehouse.csv')"
   ]
  },
  {
   "cell_type": "code",
   "execution_count": 78,
   "metadata": {},
   "outputs": [],
   "source": [
    "import plotly.express as px"
   ]
  },
  {
   "cell_type": "code",
   "execution_count": 79,
   "metadata": {},
   "outputs": [
    {
     "data": {
      "application/vnd.plotly.v1+json": {
       "config": {
        "plotlyServerURL": "https://plot.ly"
       },
       "data": [
        {
         "alignmentgroup": "True",
         "bingroup": "x",
         "histfunc": "sum",
         "hovertemplate": "birth_order=middle child<br>checkerx=%{x}<br>sum of gpa=%{y}<extra></extra>",
         "legendgroup": "middle child",
         "marker": {
          "color": "#636efa",
          "pattern": {
           "shape": ""
          }
         },
         "name": "middle child",
         "offsetgroup": "middle child",
         "orientation": "v",
         "showlegend": true,
         "type": "histogram",
         "x": [
          "almawyeshiwas",
          "abebedula",
          "abduyimer",
          "sisaymenji",
          "abdulshikurmenu",
          "tekaligntadesse",
          "dawitmekonen",
          "kenmostesfaye",
          "girmalegesse",
          "mekonentesfaye"
         ],
         "xaxis": "x",
         "y": [
          89.8,
          90.7,
          90.3,
          88.7,
          85.1,
          91.5,
          85.5,
          91.3,
          96.1,
          86.9
         ],
         "yaxis": "y"
        },
        {
         "alignmentgroup": "True",
         "bingroup": "x",
         "histfunc": "sum",
         "hovertemplate": "birth_order=first child<br>checkerx=%{x}<br>sum of gpa=%{y}<extra></extra>",
         "legendgroup": "first child",
         "marker": {
          "color": "#EF553B",
          "pattern": {
           "shape": ""
          }
         },
         "name": "first child",
         "offsetgroup": "first child",
         "orientation": "v",
         "showlegend": true,
         "type": "histogram",
         "x": [
          "almawyeshiwas",
          "abebedula",
          "abduyimer",
          "sisaymenji",
          "abdulshikurmenu",
          "tekaligntadesse",
          "dawitmekonen",
          "kenmostesfaye",
          "girmalegesse",
          "mekonentesfaye"
         ],
         "xaxis": "x",
         "y": [
          86.2,
          86.4,
          86,
          83.8,
          82.7,
          89.7,
          79.1,
          90.3,
          95.6,
          85.3
         ],
         "yaxis": "y"
        }
       ],
       "layout": {
        "bargap": 0.6,
        "barmode": "group",
        "height": 500,
        "legend": {
         "title": {
          "text": "birth_order"
         },
         "tracegroupgap": 0
        },
        "margin": {
         "t": 60
        },
        "plot_bgcolor": "rgba(0,0,0,0)",
        "template": {
         "data": {
          "bar": [
           {
            "error_x": {
             "color": "#2a3f5f"
            },
            "error_y": {
             "color": "#2a3f5f"
            },
            "marker": {
             "line": {
              "color": "#E5ECF6",
              "width": 0.5
             },
             "pattern": {
              "fillmode": "overlay",
              "size": 10,
              "solidity": 0.2
             }
            },
            "type": "bar"
           }
          ],
          "barpolar": [
           {
            "marker": {
             "line": {
              "color": "#E5ECF6",
              "width": 0.5
             },
             "pattern": {
              "fillmode": "overlay",
              "size": 10,
              "solidity": 0.2
             }
            },
            "type": "barpolar"
           }
          ],
          "carpet": [
           {
            "aaxis": {
             "endlinecolor": "#2a3f5f",
             "gridcolor": "white",
             "linecolor": "white",
             "minorgridcolor": "white",
             "startlinecolor": "#2a3f5f"
            },
            "baxis": {
             "endlinecolor": "#2a3f5f",
             "gridcolor": "white",
             "linecolor": "white",
             "minorgridcolor": "white",
             "startlinecolor": "#2a3f5f"
            },
            "type": "carpet"
           }
          ],
          "choropleth": [
           {
            "colorbar": {
             "outlinewidth": 0,
             "ticks": ""
            },
            "type": "choropleth"
           }
          ],
          "contour": [
           {
            "colorbar": {
             "outlinewidth": 0,
             "ticks": ""
            },
            "colorscale": [
             [
              0,
              "#0d0887"
             ],
             [
              0.1111111111111111,
              "#46039f"
             ],
             [
              0.2222222222222222,
              "#7201a8"
             ],
             [
              0.3333333333333333,
              "#9c179e"
             ],
             [
              0.4444444444444444,
              "#bd3786"
             ],
             [
              0.5555555555555556,
              "#d8576b"
             ],
             [
              0.6666666666666666,
              "#ed7953"
             ],
             [
              0.7777777777777778,
              "#fb9f3a"
             ],
             [
              0.8888888888888888,
              "#fdca26"
             ],
             [
              1,
              "#f0f921"
             ]
            ],
            "type": "contour"
           }
          ],
          "contourcarpet": [
           {
            "colorbar": {
             "outlinewidth": 0,
             "ticks": ""
            },
            "type": "contourcarpet"
           }
          ],
          "heatmap": [
           {
            "colorbar": {
             "outlinewidth": 0,
             "ticks": ""
            },
            "colorscale": [
             [
              0,
              "#0d0887"
             ],
             [
              0.1111111111111111,
              "#46039f"
             ],
             [
              0.2222222222222222,
              "#7201a8"
             ],
             [
              0.3333333333333333,
              "#9c179e"
             ],
             [
              0.4444444444444444,
              "#bd3786"
             ],
             [
              0.5555555555555556,
              "#d8576b"
             ],
             [
              0.6666666666666666,
              "#ed7953"
             ],
             [
              0.7777777777777778,
              "#fb9f3a"
             ],
             [
              0.8888888888888888,
              "#fdca26"
             ],
             [
              1,
              "#f0f921"
             ]
            ],
            "type": "heatmap"
           }
          ],
          "heatmapgl": [
           {
            "colorbar": {
             "outlinewidth": 0,
             "ticks": ""
            },
            "colorscale": [
             [
              0,
              "#0d0887"
             ],
             [
              0.1111111111111111,
              "#46039f"
             ],
             [
              0.2222222222222222,
              "#7201a8"
             ],
             [
              0.3333333333333333,
              "#9c179e"
             ],
             [
              0.4444444444444444,
              "#bd3786"
             ],
             [
              0.5555555555555556,
              "#d8576b"
             ],
             [
              0.6666666666666666,
              "#ed7953"
             ],
             [
              0.7777777777777778,
              "#fb9f3a"
             ],
             [
              0.8888888888888888,
              "#fdca26"
             ],
             [
              1,
              "#f0f921"
             ]
            ],
            "type": "heatmapgl"
           }
          ],
          "histogram": [
           {
            "marker": {
             "pattern": {
              "fillmode": "overlay",
              "size": 10,
              "solidity": 0.2
             }
            },
            "type": "histogram"
           }
          ],
          "histogram2d": [
           {
            "colorbar": {
             "outlinewidth": 0,
             "ticks": ""
            },
            "colorscale": [
             [
              0,
              "#0d0887"
             ],
             [
              0.1111111111111111,
              "#46039f"
             ],
             [
              0.2222222222222222,
              "#7201a8"
             ],
             [
              0.3333333333333333,
              "#9c179e"
             ],
             [
              0.4444444444444444,
              "#bd3786"
             ],
             [
              0.5555555555555556,
              "#d8576b"
             ],
             [
              0.6666666666666666,
              "#ed7953"
             ],
             [
              0.7777777777777778,
              "#fb9f3a"
             ],
             [
              0.8888888888888888,
              "#fdca26"
             ],
             [
              1,
              "#f0f921"
             ]
            ],
            "type": "histogram2d"
           }
          ],
          "histogram2dcontour": [
           {
            "colorbar": {
             "outlinewidth": 0,
             "ticks": ""
            },
            "colorscale": [
             [
              0,
              "#0d0887"
             ],
             [
              0.1111111111111111,
              "#46039f"
             ],
             [
              0.2222222222222222,
              "#7201a8"
             ],
             [
              0.3333333333333333,
              "#9c179e"
             ],
             [
              0.4444444444444444,
              "#bd3786"
             ],
             [
              0.5555555555555556,
              "#d8576b"
             ],
             [
              0.6666666666666666,
              "#ed7953"
             ],
             [
              0.7777777777777778,
              "#fb9f3a"
             ],
             [
              0.8888888888888888,
              "#fdca26"
             ],
             [
              1,
              "#f0f921"
             ]
            ],
            "type": "histogram2dcontour"
           }
          ],
          "mesh3d": [
           {
            "colorbar": {
             "outlinewidth": 0,
             "ticks": ""
            },
            "type": "mesh3d"
           }
          ],
          "parcoords": [
           {
            "line": {
             "colorbar": {
              "outlinewidth": 0,
              "ticks": ""
             }
            },
            "type": "parcoords"
           }
          ],
          "pie": [
           {
            "automargin": true,
            "type": "pie"
           }
          ],
          "scatter": [
           {
            "fillpattern": {
             "fillmode": "overlay",
             "size": 10,
             "solidity": 0.2
            },
            "type": "scatter"
           }
          ],
          "scatter3d": [
           {
            "line": {
             "colorbar": {
              "outlinewidth": 0,
              "ticks": ""
             }
            },
            "marker": {
             "colorbar": {
              "outlinewidth": 0,
              "ticks": ""
             }
            },
            "type": "scatter3d"
           }
          ],
          "scattercarpet": [
           {
            "marker": {
             "colorbar": {
              "outlinewidth": 0,
              "ticks": ""
             }
            },
            "type": "scattercarpet"
           }
          ],
          "scattergeo": [
           {
            "marker": {
             "colorbar": {
              "outlinewidth": 0,
              "ticks": ""
             }
            },
            "type": "scattergeo"
           }
          ],
          "scattergl": [
           {
            "marker": {
             "colorbar": {
              "outlinewidth": 0,
              "ticks": ""
             }
            },
            "type": "scattergl"
           }
          ],
          "scattermapbox": [
           {
            "marker": {
             "colorbar": {
              "outlinewidth": 0,
              "ticks": ""
             }
            },
            "type": "scattermapbox"
           }
          ],
          "scatterpolar": [
           {
            "marker": {
             "colorbar": {
              "outlinewidth": 0,
              "ticks": ""
             }
            },
            "type": "scatterpolar"
           }
          ],
          "scatterpolargl": [
           {
            "marker": {
             "colorbar": {
              "outlinewidth": 0,
              "ticks": ""
             }
            },
            "type": "scatterpolargl"
           }
          ],
          "scatterternary": [
           {
            "marker": {
             "colorbar": {
              "outlinewidth": 0,
              "ticks": ""
             }
            },
            "type": "scatterternary"
           }
          ],
          "surface": [
           {
            "colorbar": {
             "outlinewidth": 0,
             "ticks": ""
            },
            "colorscale": [
             [
              0,
              "#0d0887"
             ],
             [
              0.1111111111111111,
              "#46039f"
             ],
             [
              0.2222222222222222,
              "#7201a8"
             ],
             [
              0.3333333333333333,
              "#9c179e"
             ],
             [
              0.4444444444444444,
              "#bd3786"
             ],
             [
              0.5555555555555556,
              "#d8576b"
             ],
             [
              0.6666666666666666,
              "#ed7953"
             ],
             [
              0.7777777777777778,
              "#fb9f3a"
             ],
             [
              0.8888888888888888,
              "#fdca26"
             ],
             [
              1,
              "#f0f921"
             ]
            ],
            "type": "surface"
           }
          ],
          "table": [
           {
            "cells": {
             "fill": {
              "color": "#EBF0F8"
             },
             "line": {
              "color": "white"
             }
            },
            "header": {
             "fill": {
              "color": "#C8D4E3"
             },
             "line": {
              "color": "white"
             }
            },
            "type": "table"
           }
          ]
         },
         "layout": {
          "annotationdefaults": {
           "arrowcolor": "#2a3f5f",
           "arrowhead": 0,
           "arrowwidth": 1
          },
          "autotypenumbers": "strict",
          "coloraxis": {
           "colorbar": {
            "outlinewidth": 0,
            "ticks": ""
           }
          },
          "colorscale": {
           "diverging": [
            [
             0,
             "#8e0152"
            ],
            [
             0.1,
             "#c51b7d"
            ],
            [
             0.2,
             "#de77ae"
            ],
            [
             0.3,
             "#f1b6da"
            ],
            [
             0.4,
             "#fde0ef"
            ],
            [
             0.5,
             "#f7f7f7"
            ],
            [
             0.6,
             "#e6f5d0"
            ],
            [
             0.7,
             "#b8e186"
            ],
            [
             0.8,
             "#7fbc41"
            ],
            [
             0.9,
             "#4d9221"
            ],
            [
             1,
             "#276419"
            ]
           ],
           "sequential": [
            [
             0,
             "#0d0887"
            ],
            [
             0.1111111111111111,
             "#46039f"
            ],
            [
             0.2222222222222222,
             "#7201a8"
            ],
            [
             0.3333333333333333,
             "#9c179e"
            ],
            [
             0.4444444444444444,
             "#bd3786"
            ],
            [
             0.5555555555555556,
             "#d8576b"
            ],
            [
             0.6666666666666666,
             "#ed7953"
            ],
            [
             0.7777777777777778,
             "#fb9f3a"
            ],
            [
             0.8888888888888888,
             "#fdca26"
            ],
            [
             1,
             "#f0f921"
            ]
           ],
           "sequentialminus": [
            [
             0,
             "#0d0887"
            ],
            [
             0.1111111111111111,
             "#46039f"
            ],
            [
             0.2222222222222222,
             "#7201a8"
            ],
            [
             0.3333333333333333,
             "#9c179e"
            ],
            [
             0.4444444444444444,
             "#bd3786"
            ],
            [
             0.5555555555555556,
             "#d8576b"
            ],
            [
             0.6666666666666666,
             "#ed7953"
            ],
            [
             0.7777777777777778,
             "#fb9f3a"
            ],
            [
             0.8888888888888888,
             "#fdca26"
            ],
            [
             1,
             "#f0f921"
            ]
           ]
          },
          "colorway": [
           "#636efa",
           "#EF553B",
           "#00cc96",
           "#ab63fa",
           "#FFA15A",
           "#19d3f3",
           "#FF6692",
           "#B6E880",
           "#FF97FF",
           "#FECB52"
          ],
          "font": {
           "color": "#2a3f5f"
          },
          "geo": {
           "bgcolor": "white",
           "lakecolor": "white",
           "landcolor": "#E5ECF6",
           "showlakes": true,
           "showland": true,
           "subunitcolor": "white"
          },
          "hoverlabel": {
           "align": "left"
          },
          "hovermode": "closest",
          "mapbox": {
           "style": "light"
          },
          "paper_bgcolor": "white",
          "plot_bgcolor": "#E5ECF6",
          "polar": {
           "angularaxis": {
            "gridcolor": "white",
            "linecolor": "white",
            "ticks": ""
           },
           "bgcolor": "#E5ECF6",
           "radialaxis": {
            "gridcolor": "white",
            "linecolor": "white",
            "ticks": ""
           }
          },
          "scene": {
           "xaxis": {
            "backgroundcolor": "#E5ECF6",
            "gridcolor": "white",
            "gridwidth": 2,
            "linecolor": "white",
            "showbackground": true,
            "ticks": "",
            "zerolinecolor": "white"
           },
           "yaxis": {
            "backgroundcolor": "#E5ECF6",
            "gridcolor": "white",
            "gridwidth": 2,
            "linecolor": "white",
            "showbackground": true,
            "ticks": "",
            "zerolinecolor": "white"
           },
           "zaxis": {
            "backgroundcolor": "#E5ECF6",
            "gridcolor": "white",
            "gridwidth": 2,
            "linecolor": "white",
            "showbackground": true,
            "ticks": "",
            "zerolinecolor": "white"
           }
          },
          "shapedefaults": {
           "line": {
            "color": "#2a3f5f"
           }
          },
          "ternary": {
           "aaxis": {
            "gridcolor": "white",
            "linecolor": "white",
            "ticks": ""
           },
           "baxis": {
            "gridcolor": "white",
            "linecolor": "white",
            "ticks": ""
           },
           "bgcolor": "#E5ECF6",
           "caxis": {
            "gridcolor": "white",
            "linecolor": "white",
            "ticks": ""
           }
          },
          "title": {
           "x": 0.05
          },
          "xaxis": {
           "automargin": true,
           "gridcolor": "white",
           "linecolor": "white",
           "ticks": "",
           "title": {
            "standoff": 15
           },
           "zerolinecolor": "white",
           "zerolinewidth": 2
          },
          "yaxis": {
           "automargin": true,
           "gridcolor": "white",
           "linecolor": "white",
           "ticks": "",
           "title": {
            "standoff": 15
           },
           "zerolinecolor": "white",
           "zerolinewidth": 2
          }
         }
        },
        "xaxis": {
         "anchor": "y",
         "domain": [
          0,
          1
         ],
         "title": {
          "text": "checkerx"
         }
        },
        "yaxis": {
         "anchor": "x",
         "domain": [
          0,
          1
         ],
         "range": [
          70,
          100
         ],
         "title": {
          "text": "sum of gpa"
         }
        }
       }
      }
     },
     "metadata": {},
     "output_type": "display_data"
    }
   ],
   "source": [
    "fig = px.histogram(z, y=\"gpa\", x=\"checkerx\",\n",
    "             color='birth_order', barmode='group',\n",
    "             height=500)\n",
    "\n",
    "fig.update_layout(plot_bgcolor=\"rgba(0,0,0,0)\", bargap=0.6, yaxis_range=[70,100])\n",
    "\n",
    "fig.show()"
   ]
  }
 ],
 "metadata": {
  "kernelspec": {
   "display_name": "base",
   "language": "python",
   "name": "python3"
  },
  "language_info": {
   "codemirror_mode": {
    "name": "ipython",
    "version": 3
   },
   "file_extension": ".py",
   "mimetype": "text/x-python",
   "name": "python",
   "nbconvert_exporter": "python",
   "pygments_lexer": "ipython3",
   "version": "3.9.13"
  },
  "orig_nbformat": 4
 },
 "nbformat": 4,
 "nbformat_minor": 2
}
