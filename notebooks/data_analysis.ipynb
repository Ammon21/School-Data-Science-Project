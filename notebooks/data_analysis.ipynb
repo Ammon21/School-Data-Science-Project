{
 "cells": [
  {
   "attachments": {},
   "cell_type": "markdown",
   "metadata": {},
   "source": [
    "# Data Analysis I"
   ]
  },
  {
   "attachments": {},
   "cell_type": "markdown",
   "metadata": {},
   "source": [
    "#### Loading Libraries"
   ]
  },
  {
   "cell_type": "code",
   "execution_count": 1,
   "metadata": {},
   "outputs": [],
   "source": [
    "import pandas as pd\n",
    "import seaborn as sns\n",
    "import matplotlib.pyplot as plt\n",
    "import numpy as np\n",
    "\n",
    "import sys, os\n",
    "\n",
    "import warnings\n",
    "warnings.filterwarnings('ignore')\n",
    "pd.set_option('display.max_columns', 70)\n",
    "\n",
    "sys.path.append(os.path.abspath(os.path.join('../scripts')))\n",
    "from cleaner import *\n",
    "from visualizer import *"
   ]
  },
  {
   "attachments": {},
   "cell_type": "markdown",
   "metadata": {},
   "source": [
    "#### Loading Data"
   ]
  },
  {
   "cell_type": "code",
   "execution_count": 2,
   "metadata": {},
   "outputs": [
    {
     "data": {
      "text/html": [
       "<div>\n",
       "<style scoped>\n",
       "    .dataframe tbody tr th:only-of-type {\n",
       "        vertical-align: middle;\n",
       "    }\n",
       "\n",
       "    .dataframe tbody tr th {\n",
       "        vertical-align: top;\n",
       "    }\n",
       "\n",
       "    .dataframe thead th {\n",
       "        text-align: right;\n",
       "    }\n",
       "</style>\n",
       "<table border=\"1\" class=\"dataframe\">\n",
       "  <thead>\n",
       "    <tr style=\"text-align: right;\">\n",
       "      <th></th>\n",
       "      <th>name</th>\n",
       "      <th>conduct</th>\n",
       "      <th>age</th>\n",
       "      <th>gender</th>\n",
       "      <th>nationality</th>\n",
       "      <th>pob</th>\n",
       "      <th>tutor/makeup</th>\n",
       "      <th>grade</th>\n",
       "      <th>admission</th>\n",
       "      <th>guardian</th>\n",
       "      <th>time_with_parents</th>\n",
       "      <th>communication_with_parents</th>\n",
       "      <th>reward_for_achievements</th>\n",
       "      <th>parent_understanding</th>\n",
       "      <th>transport_type</th>\n",
       "      <th>residence</th>\n",
       "      <th>travel time</th>\n",
       "      <th>birth_order</th>\n",
       "      <th>exercice</th>\n",
       "      <th>previous_school</th>\n",
       "      <th>mother_tongue</th>\n",
       "      <th>curriculum</th>\n",
       "      <th>sleeping time_in_pm</th>\n",
       "      <th>parenting_style</th>\n",
       "      <th>trauma</th>\n",
       "      <th>type</th>\n",
       "      <th>quality</th>\n",
       "      <th>literature</th>\n",
       "      <th>eng</th>\n",
       "      <th>maths</th>\n",
       "      <th>physics</th>\n",
       "      <th>chemistry</th>\n",
       "      <th>biology</th>\n",
       "      <th>geography</th>\n",
       "      <th>history</th>\n",
       "      <th>civics</th>\n",
       "      <th>amharic</th>\n",
       "      <th>ict</th>\n",
       "      <th>ent-ship</th>\n",
       "      <th>hpe</th>\n",
       "      <th>gpa</th>\n",
       "      <th>matrik</th>\n",
       "    </tr>\n",
       "  </thead>\n",
       "  <tbody>\n",
       "    <tr>\n",
       "      <th>0</th>\n",
       "      <td>abem kibru worku</td>\n",
       "      <td>b</td>\n",
       "      <td>15</td>\n",
       "      <td>m</td>\n",
       "      <td>ethiopian</td>\n",
       "      <td>ethiopia</td>\n",
       "      <td>no</td>\n",
       "      <td>9</td>\n",
       "      <td>paid</td>\n",
       "      <td>both</td>\n",
       "      <td>little</td>\n",
       "      <td>agree</td>\n",
       "      <td>agree</td>\n",
       "      <td>somehow agree</td>\n",
       "      <td>public</td>\n",
       "      <td>zenebework</td>\n",
       "      <td>30-60</td>\n",
       "      <td>middle child</td>\n",
       "      <td>2.0</td>\n",
       "      <td>passion</td>\n",
       "      <td>eth-lang</td>\n",
       "      <td>no</td>\n",
       "      <td>7.0</td>\n",
       "      <td>authoritative</td>\n",
       "      <td>0.0</td>\n",
       "      <td>phy</td>\n",
       "      <td>3.25</td>\n",
       "      <td>76.75</td>\n",
       "      <td>93.67</td>\n",
       "      <td>70.56</td>\n",
       "      <td>72.76</td>\n",
       "      <td>44.70</td>\n",
       "      <td>66.37</td>\n",
       "      <td>73.02</td>\n",
       "      <td>72.19</td>\n",
       "      <td>87.43</td>\n",
       "      <td>96.58</td>\n",
       "      <td>71.31</td>\n",
       "      <td>76.26</td>\n",
       "      <td>64.90</td>\n",
       "      <td>74.3</td>\n",
       "      <td>72.6</td>\n",
       "    </tr>\n",
       "    <tr>\n",
       "      <th>1</th>\n",
       "      <td>amanuel demeke hailu</td>\n",
       "      <td>a</td>\n",
       "      <td>14</td>\n",
       "      <td>m</td>\n",
       "      <td>ethiopian</td>\n",
       "      <td>ethiopia</td>\n",
       "      <td>no</td>\n",
       "      <td>9</td>\n",
       "      <td>paid</td>\n",
       "      <td>both</td>\n",
       "      <td>little</td>\n",
       "      <td>agree</td>\n",
       "      <td>strongly agree</td>\n",
       "      <td>somehow agree</td>\n",
       "      <td>private</td>\n",
       "      <td>zenebework</td>\n",
       "      <td>15-</td>\n",
       "      <td>middle child</td>\n",
       "      <td>3.0</td>\n",
       "      <td>gibson</td>\n",
       "      <td>eth-lang</td>\n",
       "      <td>no</td>\n",
       "      <td>7.5</td>\n",
       "      <td>authoritative</td>\n",
       "      <td>0.0</td>\n",
       "      <td>none</td>\n",
       "      <td>3.50</td>\n",
       "      <td>77.52</td>\n",
       "      <td>94.33</td>\n",
       "      <td>62.57</td>\n",
       "      <td>70.85</td>\n",
       "      <td>77.20</td>\n",
       "      <td>69.77</td>\n",
       "      <td>74.17</td>\n",
       "      <td>81.65</td>\n",
       "      <td>76.48</td>\n",
       "      <td>84.84</td>\n",
       "      <td>80.42</td>\n",
       "      <td>77.16</td>\n",
       "      <td>86.00</td>\n",
       "      <td>77.9</td>\n",
       "      <td>75.9</td>\n",
       "    </tr>\n",
       "    <tr>\n",
       "      <th>2</th>\n",
       "      <td>ananya girma tegegn</td>\n",
       "      <td>a</td>\n",
       "      <td>14</td>\n",
       "      <td>m</td>\n",
       "      <td>ethiopian</td>\n",
       "      <td>ethiopia</td>\n",
       "      <td>no</td>\n",
       "      <td>9</td>\n",
       "      <td>scholarship</td>\n",
       "      <td>both</td>\n",
       "      <td>a lot</td>\n",
       "      <td>strongly agree</td>\n",
       "      <td>strongly agree</td>\n",
       "      <td>strongly agree</td>\n",
       "      <td>public</td>\n",
       "      <td>cmc</td>\n",
       "      <td>30-60</td>\n",
       "      <td>first child</td>\n",
       "      <td>3.0</td>\n",
       "      <td>dr bekele</td>\n",
       "      <td>eth-lang</td>\n",
       "      <td>no</td>\n",
       "      <td>7.5</td>\n",
       "      <td>authoritative</td>\n",
       "      <td>0.0</td>\n",
       "      <td>none</td>\n",
       "      <td>4.50</td>\n",
       "      <td>88.27</td>\n",
       "      <td>91.67</td>\n",
       "      <td>97.16</td>\n",
       "      <td>85.77</td>\n",
       "      <td>97.90</td>\n",
       "      <td>96.27</td>\n",
       "      <td>95.33</td>\n",
       "      <td>83.40</td>\n",
       "      <td>93.05</td>\n",
       "      <td>97.18</td>\n",
       "      <td>94.27</td>\n",
       "      <td>88.76</td>\n",
       "      <td>89.50</td>\n",
       "      <td>92.2</td>\n",
       "      <td>92.6</td>\n",
       "    </tr>\n",
       "    <tr>\n",
       "      <th>3</th>\n",
       "      <td>blen amare mesfin</td>\n",
       "      <td>a</td>\n",
       "      <td>15</td>\n",
       "      <td>f</td>\n",
       "      <td>ethiopian</td>\n",
       "      <td>ethiopia</td>\n",
       "      <td>no</td>\n",
       "      <td>9</td>\n",
       "      <td>paid</td>\n",
       "      <td>both</td>\n",
       "      <td>a lot</td>\n",
       "      <td>strongly agree</td>\n",
       "      <td>strongly agree</td>\n",
       "      <td>strongly agree</td>\n",
       "      <td>service</td>\n",
       "      <td>megenagna</td>\n",
       "      <td>30-60</td>\n",
       "      <td>last child</td>\n",
       "      <td>3.0</td>\n",
       "      <td>magic carpet</td>\n",
       "      <td>eth-lang</td>\n",
       "      <td>no</td>\n",
       "      <td>8.0</td>\n",
       "      <td>permissive</td>\n",
       "      <td>1.0</td>\n",
       "      <td>none</td>\n",
       "      <td>4.50</td>\n",
       "      <td>73.81</td>\n",
       "      <td>91.00</td>\n",
       "      <td>72.55</td>\n",
       "      <td>67.95</td>\n",
       "      <td>76.70</td>\n",
       "      <td>79.35</td>\n",
       "      <td>78.50</td>\n",
       "      <td>75.03</td>\n",
       "      <td>83.81</td>\n",
       "      <td>96.15</td>\n",
       "      <td>88.55</td>\n",
       "      <td>83.16</td>\n",
       "      <td>84.00</td>\n",
       "      <td>80.8</td>\n",
       "      <td>78.1</td>\n",
       "    </tr>\n",
       "    <tr>\n",
       "      <th>4</th>\n",
       "      <td>dagmawi misganaw bimerew</td>\n",
       "      <td>a</td>\n",
       "      <td>14</td>\n",
       "      <td>m</td>\n",
       "      <td>ethiopian</td>\n",
       "      <td>ethiopia</td>\n",
       "      <td>yes</td>\n",
       "      <td>9</td>\n",
       "      <td>paid</td>\n",
       "      <td>both</td>\n",
       "      <td>a lot</td>\n",
       "      <td>agree</td>\n",
       "      <td>agree</td>\n",
       "      <td>agree</td>\n",
       "      <td>private</td>\n",
       "      <td>bole bulbula</td>\n",
       "      <td>30-60</td>\n",
       "      <td>middle child</td>\n",
       "      <td>0.0</td>\n",
       "      <td>school of nations</td>\n",
       "      <td>eth-lang</td>\n",
       "      <td>no</td>\n",
       "      <td>8.5</td>\n",
       "      <td>authoritative</td>\n",
       "      <td>0.0</td>\n",
       "      <td>none</td>\n",
       "      <td>3.75</td>\n",
       "      <td>91.77</td>\n",
       "      <td>97.67</td>\n",
       "      <td>90.60</td>\n",
       "      <td>76.69</td>\n",
       "      <td>71.97</td>\n",
       "      <td>84.72</td>\n",
       "      <td>85.04</td>\n",
       "      <td>84.30</td>\n",
       "      <td>88.48</td>\n",
       "      <td>94.10</td>\n",
       "      <td>92.66</td>\n",
       "      <td>85.66</td>\n",
       "      <td>93.25</td>\n",
       "      <td>87.5</td>\n",
       "      <td>84.9</td>\n",
       "    </tr>\n",
       "  </tbody>\n",
       "</table>\n",
       "</div>"
      ],
      "text/plain": [
       "                       name conduct  age gender nationality       pob  \\\n",
       "0          abem kibru worku       b   15      m   ethiopian  ethiopia   \n",
       "1      amanuel demeke hailu       a   14      m   ethiopian  ethiopia   \n",
       "2       ananya girma tegegn       a   14      m   ethiopian  ethiopia   \n",
       "3         blen amare mesfin       a   15      f   ethiopian  ethiopia   \n",
       "4  dagmawi misganaw bimerew       a   14      m   ethiopian  ethiopia   \n",
       "\n",
       "  tutor/makeup  grade    admission guardian time_with_parents  \\\n",
       "0           no      9         paid     both            little   \n",
       "1           no      9         paid     both            little   \n",
       "2           no      9  scholarship     both             a lot   \n",
       "3           no      9         paid     both             a lot   \n",
       "4          yes      9         paid     both             a lot   \n",
       "\n",
       "  communication_with_parents reward_for_achievements parent_understanding  \\\n",
       "0                      agree                   agree        somehow agree   \n",
       "1                      agree          strongly agree        somehow agree   \n",
       "2             strongly agree          strongly agree       strongly agree   \n",
       "3             strongly agree          strongly agree       strongly agree   \n",
       "4                      agree                   agree                agree   \n",
       "\n",
       "  transport_type     residence travel time   birth_order  exercice  \\\n",
       "0         public    zenebework       30-60  middle child       2.0   \n",
       "1        private    zenebework         15-  middle child       3.0   \n",
       "2         public           cmc       30-60   first child       3.0   \n",
       "3        service     megenagna       30-60    last child       3.0   \n",
       "4        private  bole bulbula       30-60  middle child       0.0   \n",
       "\n",
       "     previous_school mother_tongue curriculum  sleeping time_in_pm  \\\n",
       "0            passion      eth-lang         no                  7.0   \n",
       "1             gibson      eth-lang         no                  7.5   \n",
       "2          dr bekele      eth-lang         no                  7.5   \n",
       "3       magic carpet      eth-lang         no                  8.0   \n",
       "4  school of nations      eth-lang         no                  8.5   \n",
       "\n",
       "  parenting_style  trauma  type  quality  literature    eng  maths  physics  \\\n",
       "0   authoritative     0.0   phy     3.25       76.75  93.67  70.56    72.76   \n",
       "1   authoritative     0.0  none     3.50       77.52  94.33  62.57    70.85   \n",
       "2   authoritative     0.0  none     4.50       88.27  91.67  97.16    85.77   \n",
       "3      permissive     1.0  none     4.50       73.81  91.00  72.55    67.95   \n",
       "4   authoritative     0.0  none     3.75       91.77  97.67  90.60    76.69   \n",
       "\n",
       "   chemistry  biology  geography  history  civics  amharic    ict  ent-ship  \\\n",
       "0      44.70    66.37      73.02    72.19   87.43    96.58  71.31     76.26   \n",
       "1      77.20    69.77      74.17    81.65   76.48    84.84  80.42     77.16   \n",
       "2      97.90    96.27      95.33    83.40   93.05    97.18  94.27     88.76   \n",
       "3      76.70    79.35      78.50    75.03   83.81    96.15  88.55     83.16   \n",
       "4      71.97    84.72      85.04    84.30   88.48    94.10  92.66     85.66   \n",
       "\n",
       "     hpe   gpa  matrik  \n",
       "0  64.90  74.3    72.6  \n",
       "1  86.00  77.9    75.9  \n",
       "2  89.50  92.2    92.6  \n",
       "3  84.00  80.8    78.1  \n",
       "4  93.25  87.5    84.9  "
      ]
     },
     "execution_count": 2,
     "metadata": {},
     "output_type": "execute_result"
    }
   ],
   "source": [
    "df_ms = pd.read_csv(r\"../data/msv7.csv\")\n",
    "df_hs = pd.read_csv(r\"../data/hsv7.csv\")\n",
    "df_hs.head()"
   ]
  },
  {
   "cell_type": "code",
   "execution_count": 3,
   "metadata": {},
   "outputs": [
    {
     "data": {
      "text/plain": [
       "Index(['name', 'conduct', 'age', 'gender', 'nationality', 'pob',\n",
       "       'tutor/makeup', 'grade', 'admission', 'guardian', 'time_with_parents',\n",
       "       'communication_with_parents', 'reward_for_achievements',\n",
       "       'parent_understanding', 'transport_type', 'residence', 'travel time',\n",
       "       'birth_order', 'exercice', 'previous_school', 'mother_tongue',\n",
       "       'curriculum', 'sleeping time_in_pm', 'parenting_style', 'trauma',\n",
       "       'type', 'quality', 'english', 'amharic', 'arabic', 'geez', 'ict',\n",
       "       'maths', 'ss', 'gp', 'is', 'moral', 'hpe', 'art', 'chemistry',\n",
       "       'physics', 'gpa'],\n",
       "      dtype='object')"
      ]
     },
     "execution_count": 3,
     "metadata": {},
     "output_type": "execute_result"
    }
   ],
   "source": [
    "df_ms.columns"
   ]
  },
  {
   "cell_type": "code",
   "execution_count": 4,
   "metadata": {},
   "outputs": [],
   "source": [
    "df_hs.rename(columns = {'eng':'english'}, inplace = True)"
   ]
  },
  {
   "cell_type": "code",
   "execution_count": 5,
   "metadata": {},
   "outputs": [
    {
     "data": {
      "text/plain": [
       "first child     80\n",
       "middle child    47\n",
       "last child      45\n",
       "Name: birth_order, dtype: int64"
      ]
     },
     "execution_count": 5,
     "metadata": {},
     "output_type": "execute_result"
    }
   ],
   "source": [
    "df_hs.birth_order = df_hs['birth_order'].replace('only child', 'first child')\n",
    "df_hs.birth_order.value_counts()"
   ]
  },
  {
   "cell_type": "code",
   "execution_count": 6,
   "metadata": {},
   "outputs": [],
   "source": [
    "ms_filter = df_ms[['conduct', 'age', 'gender', 'grade', 'admission', 'birth_order', 'gpa', 'maths', 'physics', 'chemistry','amharic', 'geez', 'arabic', 'english', 'ict', 'ss', 'gp','is','hpe']]"
   ]
  },
  {
   "cell_type": "code",
   "execution_count": 7,
   "metadata": {},
   "outputs": [],
   "source": [
    "hs_filter = df_hs[['conduct', 'age', 'gender', 'grade', 'admission', 'birth_order', 'gpa', 'maths', 'physics' , 'chemistry', 'biology', 'english', 'literature', 'amharic', 'hpe', 'ict', 'geography', 'history']]"
   ]
  },
  {
   "attachments": {},
   "cell_type": "markdown",
   "metadata": {},
   "source": [
    "#### Concatenating Data"
   ]
  },
  {
   "cell_type": "code",
   "execution_count": 8,
   "metadata": {},
   "outputs": [],
   "source": [
    "frames = [ms_filter, hs_filter]\n",
    "df = pd.concat(frames)\n"
   ]
  },
  {
   "cell_type": "code",
   "execution_count": 9,
   "metadata": {},
   "outputs": [
    {
     "data": {
      "text/html": [
       "<div>\n",
       "<style scoped>\n",
       "    .dataframe tbody tr th:only-of-type {\n",
       "        vertical-align: middle;\n",
       "    }\n",
       "\n",
       "    .dataframe tbody tr th {\n",
       "        vertical-align: top;\n",
       "    }\n",
       "\n",
       "    .dataframe thead th {\n",
       "        text-align: right;\n",
       "    }\n",
       "</style>\n",
       "<table border=\"1\" class=\"dataframe\">\n",
       "  <thead>\n",
       "    <tr style=\"text-align: right;\">\n",
       "      <th></th>\n",
       "      <th>conduct</th>\n",
       "      <th>age</th>\n",
       "      <th>gender</th>\n",
       "      <th>grade</th>\n",
       "      <th>admission</th>\n",
       "      <th>birth_order</th>\n",
       "      <th>gpa</th>\n",
       "      <th>maths</th>\n",
       "      <th>physics</th>\n",
       "      <th>chemistry</th>\n",
       "      <th>amharic</th>\n",
       "      <th>geez</th>\n",
       "      <th>arabic</th>\n",
       "      <th>english</th>\n",
       "      <th>ict</th>\n",
       "      <th>ss</th>\n",
       "      <th>gp</th>\n",
       "      <th>is</th>\n",
       "      <th>hpe</th>\n",
       "      <th>biology</th>\n",
       "      <th>literature</th>\n",
       "      <th>geography</th>\n",
       "      <th>history</th>\n",
       "    </tr>\n",
       "  </thead>\n",
       "  <tbody>\n",
       "    <tr>\n",
       "      <th>0</th>\n",
       "      <td>a</td>\n",
       "      <td>10.0</td>\n",
       "      <td>f</td>\n",
       "      <td>5</td>\n",
       "      <td>paid</td>\n",
       "      <td>middle child</td>\n",
       "      <td>89.4</td>\n",
       "      <td>76.38</td>\n",
       "      <td>NaN</td>\n",
       "      <td>NaN</td>\n",
       "      <td>94.58</td>\n",
       "      <td>84.41</td>\n",
       "      <td>88.45</td>\n",
       "      <td>94.86</td>\n",
       "      <td>88.52</td>\n",
       "      <td>85.93</td>\n",
       "      <td>95.00</td>\n",
       "      <td>82.01</td>\n",
       "      <td>95.48</td>\n",
       "      <td>NaN</td>\n",
       "      <td>NaN</td>\n",
       "      <td>NaN</td>\n",
       "      <td>NaN</td>\n",
       "    </tr>\n",
       "    <tr>\n",
       "      <th>1</th>\n",
       "      <td>b</td>\n",
       "      <td>12.0</td>\n",
       "      <td>m</td>\n",
       "      <td>5</td>\n",
       "      <td>scholarship</td>\n",
       "      <td>first child</td>\n",
       "      <td>81.9</td>\n",
       "      <td>74.92</td>\n",
       "      <td>NaN</td>\n",
       "      <td>NaN</td>\n",
       "      <td>77.39</td>\n",
       "      <td>80.98</td>\n",
       "      <td>81.86</td>\n",
       "      <td>74.12</td>\n",
       "      <td>76.90</td>\n",
       "      <td>70.32</td>\n",
       "      <td>94.75</td>\n",
       "      <td>74.16</td>\n",
       "      <td>96.15</td>\n",
       "      <td>NaN</td>\n",
       "      <td>NaN</td>\n",
       "      <td>NaN</td>\n",
       "      <td>NaN</td>\n",
       "    </tr>\n",
       "    <tr>\n",
       "      <th>2</th>\n",
       "      <td>a</td>\n",
       "      <td>10.0</td>\n",
       "      <td>m</td>\n",
       "      <td>5</td>\n",
       "      <td>paid</td>\n",
       "      <td>last child</td>\n",
       "      <td>87.9</td>\n",
       "      <td>84.33</td>\n",
       "      <td>NaN</td>\n",
       "      <td>NaN</td>\n",
       "      <td>86.58</td>\n",
       "      <td>74.69</td>\n",
       "      <td>95.04</td>\n",
       "      <td>80.12</td>\n",
       "      <td>95.52</td>\n",
       "      <td>81.42</td>\n",
       "      <td>93.75</td>\n",
       "      <td>85.45</td>\n",
       "      <td>94.39</td>\n",
       "      <td>NaN</td>\n",
       "      <td>NaN</td>\n",
       "      <td>NaN</td>\n",
       "      <td>NaN</td>\n",
       "    </tr>\n",
       "    <tr>\n",
       "      <th>3</th>\n",
       "      <td>c</td>\n",
       "      <td>11.0</td>\n",
       "      <td>m</td>\n",
       "      <td>5</td>\n",
       "      <td>paid</td>\n",
       "      <td>last child</td>\n",
       "      <td>85.9</td>\n",
       "      <td>90.63</td>\n",
       "      <td>NaN</td>\n",
       "      <td>NaN</td>\n",
       "      <td>91.68</td>\n",
       "      <td>86.70</td>\n",
       "      <td>89.64</td>\n",
       "      <td>82.67</td>\n",
       "      <td>87.81</td>\n",
       "      <td>81.14</td>\n",
       "      <td>82.50</td>\n",
       "      <td>80.86</td>\n",
       "      <td>93.89</td>\n",
       "      <td>NaN</td>\n",
       "      <td>NaN</td>\n",
       "      <td>NaN</td>\n",
       "      <td>NaN</td>\n",
       "    </tr>\n",
       "    <tr>\n",
       "      <th>4</th>\n",
       "      <td>b</td>\n",
       "      <td>11.0</td>\n",
       "      <td>f</td>\n",
       "      <td>5</td>\n",
       "      <td>paid</td>\n",
       "      <td>middle child</td>\n",
       "      <td>95.5</td>\n",
       "      <td>96.00</td>\n",
       "      <td>NaN</td>\n",
       "      <td>NaN</td>\n",
       "      <td>96.99</td>\n",
       "      <td>92.09</td>\n",
       "      <td>97.60</td>\n",
       "      <td>96.31</td>\n",
       "      <td>98.62</td>\n",
       "      <td>89.07</td>\n",
       "      <td>99.75</td>\n",
       "      <td>94.73</td>\n",
       "      <td>88.69</td>\n",
       "      <td>NaN</td>\n",
       "      <td>NaN</td>\n",
       "      <td>NaN</td>\n",
       "      <td>NaN</td>\n",
       "    </tr>\n",
       "  </tbody>\n",
       "</table>\n",
       "</div>"
      ],
      "text/plain": [
       "  conduct   age gender  grade    admission   birth_order   gpa  maths  \\\n",
       "0       a  10.0      f      5         paid  middle child  89.4  76.38   \n",
       "1       b  12.0      m      5  scholarship   first child  81.9  74.92   \n",
       "2       a  10.0      m      5         paid    last child  87.9  84.33   \n",
       "3       c  11.0      m      5         paid    last child  85.9  90.63   \n",
       "4       b  11.0      f      5         paid  middle child  95.5  96.00   \n",
       "\n",
       "   physics  chemistry  amharic   geez  arabic  english    ict     ss     gp  \\\n",
       "0      NaN        NaN    94.58  84.41   88.45    94.86  88.52  85.93  95.00   \n",
       "1      NaN        NaN    77.39  80.98   81.86    74.12  76.90  70.32  94.75   \n",
       "2      NaN        NaN    86.58  74.69   95.04    80.12  95.52  81.42  93.75   \n",
       "3      NaN        NaN    91.68  86.70   89.64    82.67  87.81  81.14  82.50   \n",
       "4      NaN        NaN    96.99  92.09   97.60    96.31  98.62  89.07  99.75   \n",
       "\n",
       "      is    hpe  biology  literature  geography  history  \n",
       "0  82.01  95.48      NaN         NaN        NaN      NaN  \n",
       "1  74.16  96.15      NaN         NaN        NaN      NaN  \n",
       "2  85.45  94.39      NaN         NaN        NaN      NaN  \n",
       "3  80.86  93.89      NaN         NaN        NaN      NaN  \n",
       "4  94.73  88.69      NaN         NaN        NaN      NaN  "
      ]
     },
     "execution_count": 9,
     "metadata": {},
     "output_type": "execute_result"
    }
   ],
   "source": [
    "df.head()"
   ]
  },
  {
   "cell_type": "code",
   "execution_count": 10,
   "metadata": {},
   "outputs": [
    {
     "data": {
      "text/plain": [
       "(287, 23)"
      ]
     },
     "execution_count": 10,
     "metadata": {},
     "output_type": "execute_result"
    }
   ],
   "source": [
    "df.shape"
   ]
  },
  {
   "cell_type": "code",
   "execution_count": 11,
   "metadata": {},
   "outputs": [
    {
     "data": {
      "text/plain": [
       "paid           195\n",
       "scholarship     92\n",
       "Name: admission, dtype: int64"
      ]
     },
     "execution_count": 11,
     "metadata": {},
     "output_type": "execute_result"
    }
   ],
   "source": [
    "df.admission.value_counts()"
   ]
  },
  {
   "cell_type": "code",
   "execution_count": 12,
   "metadata": {},
   "outputs": [
    {
     "data": {
      "text/plain": [
       "f    150\n",
       "m    137\n",
       "Name: gender, dtype: int64"
      ]
     },
     "execution_count": 12,
     "metadata": {},
     "output_type": "execute_result"
    }
   ],
   "source": [
    "df.gender.value_counts()"
   ]
  },
  {
   "cell_type": "code",
   "execution_count": 13,
   "metadata": {},
   "outputs": [
    {
     "data": {
      "text/plain": [
       "9     57\n",
       "10    44\n",
       "12    40\n",
       "7     37\n",
       "11    31\n",
       "8     30\n",
       "6     26\n",
       "5     22\n",
       "Name: grade, dtype: int64"
      ]
     },
     "execution_count": 13,
     "metadata": {},
     "output_type": "execute_result"
    }
   ],
   "source": [
    "df.grade.value_counts()"
   ]
  },
  {
   "cell_type": "code",
   "execution_count": 14,
   "metadata": {},
   "outputs": [
    {
     "name": "stdout",
     "output_type": "stream",
     "text": [
      "<class 'pandas.core.frame.DataFrame'>\n",
      "Int64Index: 287 entries, 0 to 171\n",
      "Data columns (total 23 columns):\n",
      " #   Column       Non-Null Count  Dtype  \n",
      "---  ------       --------------  -----  \n",
      " 0   conduct      287 non-null    object \n",
      " 1   age          287 non-null    float64\n",
      " 2   gender       287 non-null    object \n",
      " 3   grade        287 non-null    int64  \n",
      " 4   admission    287 non-null    object \n",
      " 5   birth_order  287 non-null    object \n",
      " 6   gpa          287 non-null    float64\n",
      " 7   maths        287 non-null    float64\n",
      " 8   physics      205 non-null    float64\n",
      " 9   chemistry    205 non-null    float64\n",
      " 10  amharic      287 non-null    float64\n",
      " 11  geez         115 non-null    float64\n",
      " 12  arabic       115 non-null    float64\n",
      " 13  english      287 non-null    float64\n",
      " 14  ict          287 non-null    float64\n",
      " 15  ss           115 non-null    float64\n",
      " 16  gp           115 non-null    float64\n",
      " 17  is           115 non-null    float64\n",
      " 18  hpe          287 non-null    float64\n",
      " 19  biology      139 non-null    float64\n",
      " 20  literature   172 non-null    float64\n",
      " 21  geography    134 non-null    float64\n",
      " 22  history      134 non-null    float64\n",
      "dtypes: float64(18), int64(1), object(4)\n",
      "memory usage: 53.8+ KB\n"
     ]
    }
   ],
   "source": [
    "df.info()"
   ]
  },
  {
   "cell_type": "code",
   "execution_count": 15,
   "metadata": {},
   "outputs": [
    {
     "data": {
      "text/plain": [
       "(0.0, 100.0)"
      ]
     },
     "execution_count": 15,
     "metadata": {},
     "output_type": "execute_result"
    },
    {
     "data": {
      "image/png": "[encoded data removed]",
      "text/plain": [
       "<Figure size 400x280 with 1 Axes>"
      ]
     },
     "metadata": {},
     "output_type": "display_data"
    }
   ],
   "source": [
    "sns.set(rc={'figure.figsize':(4.0,2.8)})\n",
    "sns.set_palette(\"bone\")\n",
    "sns.set_style(\"white\")\n",
    "ax = sns.countplot(data = df, x='birth_order', order=df['birth_order'].value_counts().index)\n",
    "sns.despine(top=True, left=True, bottom=True)\n",
    "plt.ylabel(\"\", size=10)\n",
    "plt.xlabel(\"\", size=10)\n",
    "ax.tick_params(bottom=False)\n",
    "ax.tick_params(left=False)\n",
    "ax.set_ylim(bottom=0, top=100)\n"
   ]
  },
  {
   "attachments": {},
   "cell_type": "markdown",
   "metadata": {},
   "source": [
    "#### Does birth order affect Performance?\n",
    "\n",
    "    Are first born the smartest?\n",
    "    Are the middle ones trouble makers?\n",
    "    Are last born underachievers?"
   ]
  },
  {
   "cell_type": "code",
   "execution_count": 16,
   "metadata": {},
   "outputs": [
    {
     "data": {
      "text/plain": [
       "Text(-21.250000000000007, 0.5, '')"
      ]
     },
     "execution_count": 16,
     "metadata": {},
     "output_type": "execute_result"
    },
    {
     "data": {
      "image/png": "[encoded data removed]",
      "text/plain": [
       "<Figure size 100x200 with 1 Axes>"
      ]
     },
     "metadata": {},
     "output_type": "display_data"
    }
   ],
   "source": [
    "bg = df.groupby('birth_order')[['gpa']].mean()\n",
    "plt.figure(figsize=(1, 2))\n",
    "sns.heatmap(bg, annot=True, cmap='Greys', vmin=86, vmax=88, fmt='.2f', linewidths=.3, cbar = False)\n",
    "sns.despine(top=False, left=True, bottom=True) \n",
    "sns.set_style(\"white\")\n",
    "plt.ylabel(\"\") "
   ]
  },
  {
   "attachments": {},
   "cell_type": "markdown",
   "metadata": {},
   "source": [
    "#### Data Analysis on Birth order relation with Grades\n",
    "\n",
    "     Mathematics and Science subjects performances relationship with birth order."
   ]
  },
  {
   "cell_type": "code",
   "execution_count": 66,
   "metadata": {},
   "outputs": [
    {
     "data": {
      "image/png": "[encoded data removed]",
      "text/plain": [
       "<Figure size 400x200 with 1 Axes>"
      ]
     },
     "metadata": {},
     "output_type": "display_data"
    }
   ],
   "source": [
    "# mean marks and project submissions for each student\n",
    "mainx = df.groupby('birth_order')[['maths', 'physics', 'chemistry','biology']].mean()\n",
    "legit_heat(mainx, 80, 87, 4, 'Blues')  "
   ]
  },
  {
   "attachments": {},
   "cell_type": "markdown",
   "metadata": {},
   "source": [
    "     Language subjects performances relationship with birth order."
   ]
  },
  {
   "cell_type": "code",
   "execution_count": 18,
   "metadata": {},
   "outputs": [
    {
     "data": {
      "text/html": [
       "<div>\n",
       "<style scoped>\n",
       "    .dataframe tbody tr th:only-of-type {\n",
       "        vertical-align: middle;\n",
       "    }\n",
       "\n",
       "    .dataframe tbody tr th {\n",
       "        vertical-align: top;\n",
       "    }\n",
       "\n",
       "    .dataframe thead th {\n",
       "        text-align: right;\n",
       "    }\n",
       "</style>\n",
       "<table border=\"1\" class=\"dataframe\">\n",
       "  <thead>\n",
       "    <tr style=\"text-align: right;\">\n",
       "      <th></th>\n",
       "      <th>english</th>\n",
       "      <th>amharic</th>\n",
       "    </tr>\n",
       "    <tr>\n",
       "      <th>birth_order</th>\n",
       "      <th></th>\n",
       "      <th></th>\n",
       "    </tr>\n",
       "  </thead>\n",
       "  <tbody>\n",
       "    <tr>\n",
       "      <th>first child</th>\n",
       "      <td>89.742756</td>\n",
       "      <td>89.800933</td>\n",
       "    </tr>\n",
       "    <tr>\n",
       "      <th>last child</th>\n",
       "      <td>88.185362</td>\n",
       "      <td>86.473478</td>\n",
       "    </tr>\n",
       "    <tr>\n",
       "      <th>middle child</th>\n",
       "      <td>89.573605</td>\n",
       "      <td>89.256977</td>\n",
       "    </tr>\n",
       "  </tbody>\n",
       "</table>\n",
       "</div>"
      ],
      "text/plain": [
       "                english    amharic\n",
       "birth_order                       \n",
       "first child   89.742756  89.800933\n",
       "last child    88.185362  86.473478\n",
       "middle child  89.573605  89.256977"
      ]
     },
     "execution_count": 18,
     "metadata": {},
     "output_type": "execute_result"
    }
   ],
   "source": [
    "df.groupby('birth_order')[['english', 'amharic']].mean()"
   ]
  },
  {
   "attachments": {},
   "cell_type": "markdown",
   "metadata": {},
   "source": [
    "    Social subjects and physical Education performances relationship with birth order. "
   ]
  },
  {
   "cell_type": "code",
   "execution_count": 67,
   "metadata": {},
   "outputs": [
    {
     "data": {
      "image/png": "[encoded data removed]",
      "text/plain": [
       "<Figure size 400x200 with 1 Axes>"
      ]
     },
     "metadata": {},
     "output_type": "display_data"
    }
   ],
   "source": [
    "ghh = df.groupby('birth_order')[['geography', 'history']].mean()\n",
    "legit_heat(ghh, 83, 87, 4, 'Blues')  "
   ]
  },
  {
   "cell_type": "markdown",
   "metadata": {},
   "source": [
    "#### Bivariate Anlaysis\n",
    "\n",
    "    GPA vs Birth Order"
   ]
  },
  {
   "cell_type": "code",
   "execution_count": 20,
   "metadata": {},
   "outputs": [
    {
     "data": {
      "image/png": "[encoded data removed]",
      "text/plain": [
       "<Figure size 500x280 with 1 Axes>"
      ]
     },
     "metadata": {},
     "output_type": "display_data"
    }
   ],
   "source": [
    "legitbar(df, 'gpa', 'birth_order', 'GPA', 85, 88)"
   ]
  },
  {
   "attachments": {},
   "cell_type": "markdown",
   "metadata": {},
   "source": [
    "    Mathematics vs Birth Order"
   ]
  },
  {
   "cell_type": "code",
   "execution_count": 21,
   "metadata": {},
   "outputs": [
    {
     "data": {
      "image/png": "[encoded data removed]",
      "text/plain": [
       "<Figure size 500x280 with 1 Axes>"
      ]
     },
     "metadata": {},
     "output_type": "display_data"
    }
   ],
   "source": [
    "legitbar(df, 'maths', 'birth_order', 'Mathematics', 78, 84)"
   ]
  },
  {
   "cell_type": "markdown",
   "metadata": {},
   "source": [
    "     Chemistry vs Birth Order"
   ]
  },
  {
   "cell_type": "code",
   "execution_count": 22,
   "metadata": {},
   "outputs": [
    {
     "data": {
      "image/png": "[encoded data removed]",
      "text/plain": [
       "<Figure size 500x280 with 1 Axes>"
      ]
     },
     "metadata": {},
     "output_type": "display_data"
    }
   ],
   "source": [
    "legitbar(df, 'chemistry', 'birth_order', 'Chemistry', 85, 88)\n",
    "\n"
   ]
  },
  {
   "attachments": {},
   "cell_type": "markdown",
   "metadata": {},
   "source": [
    "     Physics vs Birth Order"
   ]
  },
  {
   "cell_type": "code",
   "execution_count": 23,
   "metadata": {},
   "outputs": [
    {
     "data": {
      "image/png": "[encoded data removed]",
      "text/plain": [
       "<Figure size 500x280 with 1 Axes>"
      ]
     },
     "metadata": {},
     "output_type": "display_data"
    }
   ],
   "source": [
    "legitbar(df, 'physics', 'birth_order', 'Physics', 80, 88)"
   ]
  },
  {
   "attachments": {},
   "cell_type": "markdown",
   "metadata": {},
   "source": [
    "     Biology vs Birth Order"
   ]
  },
  {
   "cell_type": "code",
   "execution_count": 24,
   "metadata": {},
   "outputs": [
    {
     "data": {
      "image/png": "[encoded data removed]",
      "text/plain": [
       "<Figure size 500x280 with 1 Axes>"
      ]
     },
     "metadata": {},
     "output_type": "display_data"
    }
   ],
   "source": [
    "legitbar(df, 'biology', 'birth_order', 'Biology', 83, 88)"
   ]
  },
  {
   "attachments": {},
   "cell_type": "markdown",
   "metadata": {},
   "source": [
    "     HPE vs Birth Order"
   ]
  },
  {
   "cell_type": "code",
   "execution_count": 25,
   "metadata": {},
   "outputs": [
    {
     "data": {
      "image/png": "[encoded data removed]",
      "text/plain": [
       "<Figure size 500x280 with 1 Axes>"
      ]
     },
     "metadata": {},
     "output_type": "display_data"
    }
   ],
   "source": [
    "legitbar(df, 'hpe', 'birth_order', 'Hpe', 90, 98)"
   ]
  },
  {
   "attachments": {},
   "cell_type": "markdown",
   "metadata": {},
   "source": [
    "     Geography vs Birth Order"
   ]
  },
  {
   "cell_type": "code",
   "execution_count": 26,
   "metadata": {},
   "outputs": [
    {
     "data": {
      "image/png": "[encoded data removed]",
      "text/plain": [
       "<Figure size 500x280 with 1 Axes>"
      ]
     },
     "metadata": {},
     "output_type": "display_data"
    }
   ],
   "source": [
    "legitbar(df, 'geography', 'birth_order', 'Geography', 83, 87)"
   ]
  },
  {
   "attachments": {},
   "cell_type": "markdown",
   "metadata": {},
   "source": [
    "     History vs Birth Order"
   ]
  },
  {
   "cell_type": "code",
   "execution_count": 27,
   "metadata": {},
   "outputs": [
    {
     "data": {
      "image/png": "[encoded data removed]",
      "text/plain": [
       "<Figure size 500x280 with 1 Axes>"
      ]
     },
     "metadata": {},
     "output_type": "display_data"
    }
   ],
   "source": [
    "legitbar(df, 'history', 'birth_order', 'History', 83, 87)"
   ]
  },
  {
   "attachments": {},
   "cell_type": "markdown",
   "metadata": {},
   "source": [
    "#### Multivariate Analysis\n",
    "\n",
    "      Admission type effects on the birth_order and performance relationship"
   ]
  },
  {
   "cell_type": "code",
   "execution_count": 28,
   "metadata": {},
   "outputs": [],
   "source": [
    "df_paid = df[df.admission == 'paid']\n",
    "df_scholar = df[df.admission == 'scholarship']"
   ]
  },
  {
   "cell_type": "markdown",
   "metadata": {},
   "source": [
    "##### Paid"
   ]
  },
  {
   "cell_type": "code",
   "execution_count": 29,
   "metadata": {},
   "outputs": [
    {
     "data": {
      "text/html": [
       "<div>\n",
       "<style scoped>\n",
       "    .dataframe tbody tr th:only-of-type {\n",
       "        vertical-align: middle;\n",
       "    }\n",
       "\n",
       "    .dataframe tbody tr th {\n",
       "        vertical-align: top;\n",
       "    }\n",
       "\n",
       "    .dataframe thead th {\n",
       "        text-align: right;\n",
       "    }\n",
       "</style>\n",
       "<table border=\"1\" class=\"dataframe\">\n",
       "  <thead>\n",
       "    <tr style=\"text-align: right;\">\n",
       "      <th></th>\n",
       "      <th>gpa</th>\n",
       "      <th>maths</th>\n",
       "      <th>physics</th>\n",
       "      <th>chemistry</th>\n",
       "      <th>biology</th>\n",
       "    </tr>\n",
       "    <tr>\n",
       "      <th>birth_order</th>\n",
       "      <th></th>\n",
       "      <th></th>\n",
       "      <th></th>\n",
       "      <th></th>\n",
       "      <th></th>\n",
       "    </tr>\n",
       "  </thead>\n",
       "  <tbody>\n",
       "    <tr>\n",
       "      <th>first child</th>\n",
       "      <td>86.367033</td>\n",
       "      <td>78.247003</td>\n",
       "      <td>81.002769</td>\n",
       "      <td>83.817385</td>\n",
       "      <td>82.919762</td>\n",
       "    </tr>\n",
       "    <tr>\n",
       "      <th>last child</th>\n",
       "      <td>84.285714</td>\n",
       "      <td>75.588571</td>\n",
       "      <td>76.650000</td>\n",
       "      <td>81.952273</td>\n",
       "      <td>80.090667</td>\n",
       "    </tr>\n",
       "    <tr>\n",
       "      <th>middle child</th>\n",
       "      <td>86.535484</td>\n",
       "      <td>78.646452</td>\n",
       "      <td>84.808286</td>\n",
       "      <td>84.794286</td>\n",
       "      <td>83.884762</td>\n",
       "    </tr>\n",
       "  </tbody>\n",
       "</table>\n",
       "</div>"
      ],
      "text/plain": [
       "                    gpa      maths    physics  chemistry    biology\n",
       "birth_order                                                        \n",
       "first child   86.367033  78.247003  81.002769  83.817385  82.919762\n",
       "last child    84.285714  75.588571  76.650000  81.952273  80.090667\n",
       "middle child  86.535484  78.646452  84.808286  84.794286  83.884762"
      ]
     },
     "execution_count": 29,
     "metadata": {},
     "output_type": "execute_result"
    }
   ],
   "source": [
    "df_paid.groupby('birth_order')[['gpa', 'maths', 'physics', 'chemistry', 'biology']].mean()"
   ]
  },
  {
   "cell_type": "markdown",
   "metadata": {},
   "source": [
    "##### Scholarship"
   ]
  },
  {
   "cell_type": "code",
   "execution_count": 30,
   "metadata": {},
   "outputs": [
    {
     "data": {
      "text/html": [
       "<div>\n",
       "<style scoped>\n",
       "    .dataframe tbody tr th:only-of-type {\n",
       "        vertical-align: middle;\n",
       "    }\n",
       "\n",
       "    .dataframe tbody tr th {\n",
       "        vertical-align: top;\n",
       "    }\n",
       "\n",
       "    .dataframe thead th {\n",
       "        text-align: right;\n",
       "    }\n",
       "</style>\n",
       "<table border=\"1\" class=\"dataframe\">\n",
       "  <thead>\n",
       "    <tr style=\"text-align: right;\">\n",
       "      <th></th>\n",
       "      <th>gpa</th>\n",
       "      <th>maths</th>\n",
       "      <th>physics</th>\n",
       "      <th>chemistry</th>\n",
       "      <th>biology</th>\n",
       "    </tr>\n",
       "    <tr>\n",
       "      <th>birth_order</th>\n",
       "      <th></th>\n",
       "      <th></th>\n",
       "      <th></th>\n",
       "      <th></th>\n",
       "      <th></th>\n",
       "    </tr>\n",
       "  </thead>\n",
       "  <tbody>\n",
       "    <tr>\n",
       "      <th>first child</th>\n",
       "      <td>89.546341</td>\n",
       "      <td>85.361707</td>\n",
       "      <td>85.382162</td>\n",
       "      <td>90.336216</td>\n",
       "      <td>88.247037</td>\n",
       "    </tr>\n",
       "    <tr>\n",
       "      <th>last child</th>\n",
       "      <td>90.562963</td>\n",
       "      <td>85.282222</td>\n",
       "      <td>83.590870</td>\n",
       "      <td>90.098261</td>\n",
       "      <td>89.730000</td>\n",
       "    </tr>\n",
       "    <tr>\n",
       "      <th>middle child</th>\n",
       "      <td>91.587500</td>\n",
       "      <td>88.069583</td>\n",
       "      <td>88.476087</td>\n",
       "      <td>89.972174</td>\n",
       "      <td>90.312667</td>\n",
       "    </tr>\n",
       "  </tbody>\n",
       "</table>\n",
       "</div>"
      ],
      "text/plain": [
       "                    gpa      maths    physics  chemistry    biology\n",
       "birth_order                                                        \n",
       "first child   89.546341  85.361707  85.382162  90.336216  88.247037\n",
       "last child    90.562963  85.282222  83.590870  90.098261  89.730000\n",
       "middle child  91.587500  88.069583  88.476087  89.972174  90.312667"
      ]
     },
     "execution_count": 30,
     "metadata": {},
     "output_type": "execute_result"
    }
   ],
   "source": [
    "df_scholar.groupby('birth_order')[['gpa', 'maths', 'physics', 'chemistry', 'biology']].mean()"
   ]
  },
  {
   "attachments": {},
   "cell_type": "markdown",
   "metadata": {},
   "source": [
    "     Gender effects on the birth_order and performance relationship"
   ]
  },
  {
   "cell_type": "code",
   "execution_count": 31,
   "metadata": {},
   "outputs": [],
   "source": [
    "dfm = df[df.gender == 'm']\n",
    "dff = df[df.gender == 'f']"
   ]
  },
  {
   "attachments": {},
   "cell_type": "markdown",
   "metadata": {},
   "source": [
    "     Male Students Birth Order and Major Grades"
   ]
  },
  {
   "cell_type": "code",
   "execution_count": 65,
   "metadata": {},
   "outputs": [
    {
     "data": {
      "image/png": "[encoded data removed]",
      "text/plain": [
       "<Figure size 400x200 with 1 Axes>"
      ]
     },
     "metadata": {},
     "output_type": "display_data"
    }
   ],
   "source": [
    "t = dfm.groupby('birth_order')[['maths', 'physics', 'chemistry', 'biology']].mean()\n",
    "legit_heat(t, 78, 87, 4, 'Blues') "
   ]
  },
  {
   "attachments": {},
   "cell_type": "markdown",
   "metadata": {},
   "source": [
    "     Female Students Birth Order and Major Grades"
   ]
  },
  {
   "cell_type": "code",
   "execution_count": 33,
   "metadata": {},
   "outputs": [],
   "source": [
    "t = dff.groupby('birth_order')[['gpa', 'maths', 'physics', 'chemistry', 'biology']].mean()"
   ]
  },
  {
   "attachments": {},
   "cell_type": "markdown",
   "metadata": {},
   "source": [
    "     Male Students Birth Order and Social Subjects Grade\n"
   ]
  },
  {
   "cell_type": "code",
   "execution_count": 34,
   "metadata": {},
   "outputs": [
    {
     "data": {
      "image/png": "[encoded data removed]",
      "text/plain": [
       "<Figure size 400x200 with 1 Axes>"
      ]
     },
     "metadata": {},
     "output_type": "display_data"
    }
   ],
   "source": [
    "t = dfm.groupby('birth_order')[['geography', 'history']].mean()\n",
    "legit_heat(t, 83, 87, 4, 'Blues')  "
   ]
  },
  {
   "attachments": {},
   "cell_type": "markdown",
   "metadata": {},
   "source": [
    "     Female Students Birth Order and Social Subjects Grade"
   ]
  },
  {
   "cell_type": "code",
   "execution_count": 35,
   "metadata": {},
   "outputs": [
    {
     "data": {
      "text/html": [
       "<div>\n",
       "<style scoped>\n",
       "    .dataframe tbody tr th:only-of-type {\n",
       "        vertical-align: middle;\n",
       "    }\n",
       "\n",
       "    .dataframe tbody tr th {\n",
       "        vertical-align: top;\n",
       "    }\n",
       "\n",
       "    .dataframe thead th {\n",
       "        text-align: right;\n",
       "    }\n",
       "</style>\n",
       "<table border=\"1\" class=\"dataframe\">\n",
       "  <thead>\n",
       "    <tr style=\"text-align: right;\">\n",
       "      <th></th>\n",
       "      <th>geography</th>\n",
       "      <th>history</th>\n",
       "    </tr>\n",
       "    <tr>\n",
       "      <th>birth_order</th>\n",
       "      <th></th>\n",
       "      <th></th>\n",
       "    </tr>\n",
       "  </thead>\n",
       "  <tbody>\n",
       "    <tr>\n",
       "      <th>first child</th>\n",
       "      <td>82.722069</td>\n",
       "      <td>83.821724</td>\n",
       "    </tr>\n",
       "    <tr>\n",
       "      <th>last child</th>\n",
       "      <td>83.844000</td>\n",
       "      <td>86.804500</td>\n",
       "    </tr>\n",
       "    <tr>\n",
       "      <th>middle child</th>\n",
       "      <td>81.733125</td>\n",
       "      <td>87.252500</td>\n",
       "    </tr>\n",
       "  </tbody>\n",
       "</table>\n",
       "</div>"
      ],
      "text/plain": [
       "              geography    history\n",
       "birth_order                       \n",
       "first child   82.722069  83.821724\n",
       "last child    83.844000  86.804500\n",
       "middle child  81.733125  87.252500"
      ]
     },
     "execution_count": 35,
     "metadata": {},
     "output_type": "execute_result"
    }
   ],
   "source": [
    "dff.groupby('birth_order')[['geography', 'history']].mean()"
   ]
  },
  {
   "cell_type": "markdown",
   "metadata": {},
   "source": [
    "#### Feature Engineering for Conduct values "
   ]
  },
  {
   "cell_type": "code",
   "execution_count": 36,
   "metadata": {},
   "outputs": [],
   "source": [
    "def conval(x):\n",
    "    if x == 'a':\n",
    "        return 1\n",
    "    elif x == 'b':\n",
    "        return 2\n",
    "    else:\n",
    "        return 3 \n",
    "    \n",
    "df['convalue'] = df.conduct.apply(conval)"
   ]
  },
  {
   "cell_type": "code",
   "execution_count": 37,
   "metadata": {},
   "outputs": [
    {
     "data": {
      "text/plain": [
       "Index(['conduct', 'age', 'gender', 'grade', 'admission', 'birth_order', 'gpa',\n",
       "       'maths', 'physics', 'chemistry', 'amharic', 'geez', 'arabic', 'english',\n",
       "       'ict', 'ss', 'gp', 'is', 'hpe', 'biology', 'literature', 'geography',\n",
       "       'history', 'convalue'],\n",
       "      dtype='object')"
      ]
     },
     "execution_count": 37,
     "metadata": {},
     "output_type": "execute_result"
    }
   ],
   "source": [
    "df.columns"
   ]
  },
  {
   "cell_type": "code",
   "execution_count": 72,
   "metadata": {},
   "outputs": [
    {
     "data": {
      "image/png": "[encoded data removed]",
      "text/plain": [
       "<Figure size 200x200 with 1 Axes>"
      ]
     },
     "metadata": {},
     "output_type": "display_data"
    }
   ],
   "source": [
    "t = df.groupby('birth_order')[['convalue']].mean()\n",
    "legit_heat(t, 1.2, 1.35, 2, 'OrRd')  "
   ]
  },
  {
   "cell_type": "code",
   "execution_count": null,
   "metadata": {},
   "outputs": [],
   "source": []
  }
 ],
 "metadata": {
  "kernelspec": {
   "display_name": "base",
   "language": "python",
   "name": "python3"
  },
  "language_info": {
   "codemirror_mode": {
    "name": "ipython",
    "version": 3
   },
   "file_extension": ".py",
   "mimetype": "text/x-python",
   "name": "python",
   "nbconvert_exporter": "python",
   "pygments_lexer": "ipython3",
   "version": "3.9.13"
  },
  "orig_nbformat": 4
 },
 "nbformat": 4,
 "nbformat_minor": 2
}
