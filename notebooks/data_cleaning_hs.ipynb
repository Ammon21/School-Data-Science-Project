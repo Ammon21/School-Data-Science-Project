{
 "cells": [
  {
   "attachments": {},
   "cell_type": "markdown",
   "metadata": {},
   "source": [
    "### LIA High School Students Data Preparation"
   ]
  },
  {
   "attachments": {},
   "cell_type": "markdown",
   "metadata": {},
   "source": [
    "Loading Libraries"
   ]
  },
  {
   "cell_type": "code",
   "execution_count": 2,
   "metadata": {},
   "outputs": [],
   "source": [
    "import pandas as pd\n",
    "import numpy as np\n",
    "import seaborn as sns\n",
    "import matplotlib.pyplot as plt\n",
    "import sys, os\n",
    "\n",
    "import warnings\n",
    "warnings.filterwarnings('ignore')\n",
    "#pd.set_option('display.max_columns', 70)\n",
    "\n",
    "sys.path.append(os.path.abspath(os.path.join('../scripts')))\n",
    "from cleaner import *\n",
    "from visualizer import *\n"
   ]
  },
  {
   "attachments": {},
   "cell_type": "markdown",
   "metadata": {},
   "source": [
    "Loading data"
   ]
  },
  {
   "cell_type": "code",
   "execution_count": 3,
   "metadata": {},
   "outputs": [
    {
     "data": {
      "text/html": [
       "<div>\n",
       "<style scoped>\n",
       "    .dataframe tbody tr th:only-of-type {\n",
       "        vertical-align: middle;\n",
       "    }\n",
       "\n",
       "    .dataframe tbody tr th {\n",
       "        vertical-align: top;\n",
       "    }\n",
       "\n",
       "    .dataframe thead th {\n",
       "        text-align: right;\n",
       "    }\n",
       "</style>\n",
       "<table border=\"1\" class=\"dataframe\">\n",
       "  <thead>\n",
       "    <tr style=\"text-align: right;\">\n",
       "      <th></th>\n",
       "      <th>Name</th>\n",
       "      <th>conduct</th>\n",
       "      <th>Age</th>\n",
       "      <th>Gender</th>\n",
       "      <th>Nationality</th>\n",
       "      <th>POB</th>\n",
       "      <th>Tutor/Makeup</th>\n",
       "      <th>Grade</th>\n",
       "      <th>Admission</th>\n",
       "      <th>Guardian</th>\n",
       "      <th>...</th>\n",
       "      <th>Biology</th>\n",
       "      <th>Geography</th>\n",
       "      <th>History</th>\n",
       "      <th>Civics</th>\n",
       "      <th>Amharic</th>\n",
       "      <th>ICT</th>\n",
       "      <th>Ent-ship</th>\n",
       "      <th>HPE</th>\n",
       "      <th>GPA</th>\n",
       "      <th>Matrik</th>\n",
       "    </tr>\n",
       "  </thead>\n",
       "  <tbody>\n",
       "    <tr>\n",
       "      <th>0</th>\n",
       "      <td>Abem Kibru Worku</td>\n",
       "      <td>B</td>\n",
       "      <td>15</td>\n",
       "      <td>M</td>\n",
       "      <td>Ethiopian</td>\n",
       "      <td>Ethiopia</td>\n",
       "      <td>no</td>\n",
       "      <td>9</td>\n",
       "      <td>Paid</td>\n",
       "      <td>Both</td>\n",
       "      <td>...</td>\n",
       "      <td>66.37</td>\n",
       "      <td>73.02</td>\n",
       "      <td>72.19</td>\n",
       "      <td>87.43</td>\n",
       "      <td>96.58</td>\n",
       "      <td>71.31</td>\n",
       "      <td>76.26</td>\n",
       "      <td>64.90</td>\n",
       "      <td>74.3</td>\n",
       "      <td>72.6</td>\n",
       "    </tr>\n",
       "    <tr>\n",
       "      <th>1</th>\n",
       "      <td>Amanuel Demeke Hailu</td>\n",
       "      <td>A</td>\n",
       "      <td>14</td>\n",
       "      <td>M</td>\n",
       "      <td>Ethiopian</td>\n",
       "      <td>Addis Ababa</td>\n",
       "      <td>no</td>\n",
       "      <td>9</td>\n",
       "      <td>Paid</td>\n",
       "      <td>both</td>\n",
       "      <td>...</td>\n",
       "      <td>69.77</td>\n",
       "      <td>74.17</td>\n",
       "      <td>81.65</td>\n",
       "      <td>76.48</td>\n",
       "      <td>84.84</td>\n",
       "      <td>80.42</td>\n",
       "      <td>77.16</td>\n",
       "      <td>86.00</td>\n",
       "      <td>77.9</td>\n",
       "      <td>75.9</td>\n",
       "    </tr>\n",
       "    <tr>\n",
       "      <th>2</th>\n",
       "      <td>Ananya Girma Tegegn</td>\n",
       "      <td>A</td>\n",
       "      <td>14</td>\n",
       "      <td>M</td>\n",
       "      <td>Ethiopian</td>\n",
       "      <td>Addis Ababa</td>\n",
       "      <td>no</td>\n",
       "      <td>9</td>\n",
       "      <td>Scholarship</td>\n",
       "      <td>both</td>\n",
       "      <td>...</td>\n",
       "      <td>96.27</td>\n",
       "      <td>95.33</td>\n",
       "      <td>83.40</td>\n",
       "      <td>93.05</td>\n",
       "      <td>97.18</td>\n",
       "      <td>94.27</td>\n",
       "      <td>88.76</td>\n",
       "      <td>89.50</td>\n",
       "      <td>92.2</td>\n",
       "      <td>92.6</td>\n",
       "    </tr>\n",
       "    <tr>\n",
       "      <th>3</th>\n",
       "      <td>Blen Amare Mesfin</td>\n",
       "      <td>A</td>\n",
       "      <td>15</td>\n",
       "      <td>F</td>\n",
       "      <td>Ethiopian</td>\n",
       "      <td>Addis Ababa</td>\n",
       "      <td>no</td>\n",
       "      <td>9</td>\n",
       "      <td>Paid</td>\n",
       "      <td>both</td>\n",
       "      <td>...</td>\n",
       "      <td>79.35</td>\n",
       "      <td>78.50</td>\n",
       "      <td>75.03</td>\n",
       "      <td>83.81</td>\n",
       "      <td>96.15</td>\n",
       "      <td>88.55</td>\n",
       "      <td>83.16</td>\n",
       "      <td>84.00</td>\n",
       "      <td>80.8</td>\n",
       "      <td>78.1</td>\n",
       "    </tr>\n",
       "    <tr>\n",
       "      <th>4</th>\n",
       "      <td>Dagmawi Misganaw Bimerew</td>\n",
       "      <td>A</td>\n",
       "      <td>14</td>\n",
       "      <td>M</td>\n",
       "      <td>Ethiopian</td>\n",
       "      <td>Ethiopia</td>\n",
       "      <td>yes</td>\n",
       "      <td>9</td>\n",
       "      <td>Paid</td>\n",
       "      <td>both</td>\n",
       "      <td>...</td>\n",
       "      <td>84.72</td>\n",
       "      <td>85.04</td>\n",
       "      <td>84.30</td>\n",
       "      <td>88.48</td>\n",
       "      <td>94.10</td>\n",
       "      <td>92.66</td>\n",
       "      <td>85.66</td>\n",
       "      <td>93.25</td>\n",
       "      <td>87.5</td>\n",
       "      <td>84.9</td>\n",
       "    </tr>\n",
       "  </tbody>\n",
       "</table>\n",
       "<p>5 rows × 42 columns</p>\n",
       "</div>"
      ],
      "text/plain": [
       "                       Name conduct  Age Gender Nationality          POB  \\\n",
       "0          Abem Kibru Worku       B   15      M   Ethiopian     Ethiopia   \n",
       "1      Amanuel Demeke Hailu       A   14      M   Ethiopian  Addis Ababa   \n",
       "2       Ananya Girma Tegegn       A   14      M   Ethiopian  Addis Ababa   \n",
       "3         Blen Amare Mesfin       A   15      F   Ethiopian  Addis Ababa   \n",
       "4  Dagmawi Misganaw Bimerew       A   14      M   Ethiopian     Ethiopia   \n",
       "\n",
       "  Tutor/Makeup  Grade    Admission Guardian  ... Biology Geography History  \\\n",
       "0           no      9         Paid     Both  ...   66.37     73.02   72.19   \n",
       "1           no      9         Paid     both  ...   69.77     74.17   81.65   \n",
       "2           no      9  Scholarship     both  ...   96.27     95.33   83.40   \n",
       "3           no      9         Paid     both  ...   79.35     78.50   75.03   \n",
       "4          yes      9         Paid     both  ...   84.72     85.04   84.30   \n",
       "\n",
       "  Civics Amharic    ICT Ent-ship    HPE   GPA Matrik  \n",
       "0  87.43   96.58  71.31    76.26  64.90  74.3   72.6  \n",
       "1  76.48   84.84  80.42    77.16  86.00  77.9   75.9  \n",
       "2  93.05   97.18  94.27    88.76  89.50  92.2   92.6  \n",
       "3  83.81   96.15  88.55    83.16  84.00  80.8   78.1  \n",
       "4  88.48   94.10  92.66    85.66  93.25  87.5   84.9  \n",
       "\n",
       "[5 rows x 42 columns]"
      ]
     },
     "execution_count": 3,
     "metadata": {},
     "output_type": "execute_result"
    }
   ],
   "source": [
    "df = pd.read_csv(\"../data/hsv6.csv\")\n",
    "df.head()"
   ]
  },
  {
   "cell_type": "code",
   "execution_count": 7,
   "metadata": {},
   "outputs": [
    {
     "data": {
      "text/plain": [
       "Index(['Name', 'conduct', 'Age', 'Gender', 'Nationality', 'POB',\n",
       "       'Tutor/Makeup', 'Grade', 'Admission', 'Guardian', 'time_with_parents',\n",
       "       'communication_with_parents', 'Reward_for_achievements',\n",
       "       'parent_understanding', 'Transport_type', 'Residence', 'Travel Time',\n",
       "       'Birth_order', 'Exercice', 'Previous_school', 'mother_tongue',\n",
       "       'Curriculum', 'Sleeping time_in_pm', 'parenting_style', 'Trauma',\n",
       "       'Type', 'Quality', 'Literature', 'Eng', 'Maths', 'Physics', 'Chemistry',\n",
       "       'Biology', 'Geography', 'History', 'Civics', 'Amharic', 'ICT',\n",
       "       'Ent-ship', 'HPE', 'GPA', 'Matrik'],\n",
       "      dtype='object')"
      ]
     },
     "execution_count": 7,
     "metadata": {},
     "output_type": "execute_result"
    }
   ],
   "source": [
    "df.columns"
   ]
  },
  {
   "cell_type": "code",
   "execution_count": 9,
   "metadata": {},
   "outputs": [
    {
     "data": {
      "text/html": [
       "<div>\n",
       "<style scoped>\n",
       "    .dataframe tbody tr th:only-of-type {\n",
       "        vertical-align: middle;\n",
       "    }\n",
       "\n",
       "    .dataframe tbody tr th {\n",
       "        vertical-align: top;\n",
       "    }\n",
       "\n",
       "    .dataframe thead th {\n",
       "        text-align: right;\n",
       "    }\n",
       "</style>\n",
       "<table border=\"1\" class=\"dataframe\">\n",
       "  <thead>\n",
       "    <tr style=\"text-align: right;\">\n",
       "      <th></th>\n",
       "      <th>Name</th>\n",
       "      <th>conduct</th>\n",
       "      <th>Age</th>\n",
       "      <th>Gender</th>\n",
       "      <th>Nationality</th>\n",
       "      <th>POB</th>\n",
       "      <th>Tutor/Makeup</th>\n",
       "      <th>Grade</th>\n",
       "      <th>Admission</th>\n",
       "      <th>Guardian</th>\n",
       "      <th>...</th>\n",
       "      <th>Biology</th>\n",
       "      <th>Geography</th>\n",
       "      <th>History</th>\n",
       "      <th>Civics</th>\n",
       "      <th>Amharic</th>\n",
       "      <th>ICT</th>\n",
       "      <th>Ent-ship</th>\n",
       "      <th>HPE</th>\n",
       "      <th>GPA</th>\n",
       "      <th>Matrik</th>\n",
       "    </tr>\n",
       "  </thead>\n",
       "  <tbody>\n",
       "    <tr>\n",
       "      <th>57</th>\n",
       "      <td>Abdulhakim Shikur Awol</td>\n",
       "      <td>A</td>\n",
       "      <td>16</td>\n",
       "      <td>M</td>\n",
       "      <td>Ethiopian</td>\n",
       "      <td>Addis Ababa</td>\n",
       "      <td>no</td>\n",
       "      <td>10</td>\n",
       "      <td>Scholarship</td>\n",
       "      <td>both</td>\n",
       "      <td>...</td>\n",
       "      <td>93.99</td>\n",
       "      <td>93.93</td>\n",
       "      <td>83.70</td>\n",
       "      <td>89.43</td>\n",
       "      <td>93.29</td>\n",
       "      <td>93.50</td>\n",
       "      <td>93.50</td>\n",
       "      <td>94.43</td>\n",
       "      <td>91.6</td>\n",
       "      <td>90.2</td>\n",
       "    </tr>\n",
       "    <tr>\n",
       "      <th>75</th>\n",
       "      <td>Abdulmaged muza shikure</td>\n",
       "      <td>A</td>\n",
       "      <td>17</td>\n",
       "      <td>M</td>\n",
       "      <td>Ethiopian</td>\n",
       "      <td>Addis Ababa</td>\n",
       "      <td>no</td>\n",
       "      <td>10</td>\n",
       "      <td>Scholarship</td>\n",
       "      <td>both</td>\n",
       "      <td>...</td>\n",
       "      <td>94.71</td>\n",
       "      <td>93.97</td>\n",
       "      <td>92.79</td>\n",
       "      <td>91.29</td>\n",
       "      <td>96.64</td>\n",
       "      <td>97.15</td>\n",
       "      <td>98.06</td>\n",
       "      <td>94.38</td>\n",
       "      <td>94.4</td>\n",
       "      <td>94.8</td>\n",
       "    </tr>\n",
       "    <tr>\n",
       "      <th>78</th>\n",
       "      <td>Amar Abdulwase Ahmed</td>\n",
       "      <td>A</td>\n",
       "      <td>16</td>\n",
       "      <td>M</td>\n",
       "      <td>Ethiopian</td>\n",
       "      <td>Saudi arabia</td>\n",
       "      <td>no</td>\n",
       "      <td>10</td>\n",
       "      <td>Scholarship</td>\n",
       "      <td>both</td>\n",
       "      <td>...</td>\n",
       "      <td>97.54</td>\n",
       "      <td>94.32</td>\n",
       "      <td>88.97</td>\n",
       "      <td>92.29</td>\n",
       "      <td>97.64</td>\n",
       "      <td>97.62</td>\n",
       "      <td>99.20</td>\n",
       "      <td>93.13</td>\n",
       "      <td>95.3</td>\n",
       "      <td>94.8</td>\n",
       "    </tr>\n",
       "    <tr>\n",
       "      <th>91</th>\n",
       "      <td>Nathael Bahiru Misgana</td>\n",
       "      <td>A</td>\n",
       "      <td>16</td>\n",
       "      <td>M</td>\n",
       "      <td>Ethiopian</td>\n",
       "      <td>Gurage</td>\n",
       "      <td>no</td>\n",
       "      <td>10</td>\n",
       "      <td>Scholarship</td>\n",
       "      <td>both</td>\n",
       "      <td>...</td>\n",
       "      <td>96.16</td>\n",
       "      <td>94.09</td>\n",
       "      <td>89.26</td>\n",
       "      <td>90.57</td>\n",
       "      <td>95.29</td>\n",
       "      <td>97.62</td>\n",
       "      <td>95.50</td>\n",
       "      <td>92.43</td>\n",
       "      <td>94.8</td>\n",
       "      <td>94.7</td>\n",
       "    </tr>\n",
       "    <tr>\n",
       "      <th>97</th>\n",
       "      <td>Welid Mohammed Muzeyin</td>\n",
       "      <td>A</td>\n",
       "      <td>17</td>\n",
       "      <td>M</td>\n",
       "      <td>Ethiopian</td>\n",
       "      <td>Saudi Arabia</td>\n",
       "      <td>no</td>\n",
       "      <td>10</td>\n",
       "      <td>Scholarship</td>\n",
       "      <td>both</td>\n",
       "      <td>...</td>\n",
       "      <td>99.37</td>\n",
       "      <td>96.59</td>\n",
       "      <td>98.58</td>\n",
       "      <td>93.86</td>\n",
       "      <td>98.14</td>\n",
       "      <td>98.54</td>\n",
       "      <td>99.06</td>\n",
       "      <td>90.18</td>\n",
       "      <td>97.6</td>\n",
       "      <td>98.1</td>\n",
       "    </tr>\n",
       "    <tr>\n",
       "      <th>99</th>\n",
       "      <td>Tinsae Girma Hunde</td>\n",
       "      <td>A</td>\n",
       "      <td>16</td>\n",
       "      <td>M</td>\n",
       "      <td>Ethiopian</td>\n",
       "      <td>Ethiopia</td>\n",
       "      <td>No</td>\n",
       "      <td>10</td>\n",
       "      <td>Scholarship</td>\n",
       "      <td>both</td>\n",
       "      <td>...</td>\n",
       "      <td>91.66</td>\n",
       "      <td>82.30</td>\n",
       "      <td>84.93</td>\n",
       "      <td>90.57</td>\n",
       "      <td>96.29</td>\n",
       "      <td>94.85</td>\n",
       "      <td>86.36</td>\n",
       "      <td>90.43</td>\n",
       "      <td>89.6</td>\n",
       "      <td>88.9</td>\n",
       "    </tr>\n",
       "    <tr>\n",
       "      <th>156</th>\n",
       "      <td>Marta Alemayehu Assefa</td>\n",
       "      <td>A</td>\n",
       "      <td>20</td>\n",
       "      <td>F</td>\n",
       "      <td>Ethiopian</td>\n",
       "      <td>Harrar</td>\n",
       "      <td>no</td>\n",
       "      <td>12</td>\n",
       "      <td>Scholarship</td>\n",
       "      <td>other</td>\n",
       "      <td>...</td>\n",
       "      <td>91.02</td>\n",
       "      <td>NaN</td>\n",
       "      <td>NaN</td>\n",
       "      <td>90.95</td>\n",
       "      <td>98.00</td>\n",
       "      <td>90.85</td>\n",
       "      <td>NaN</td>\n",
       "      <td>96.25</td>\n",
       "      <td>90.0</td>\n",
       "      <td>86.0</td>\n",
       "    </tr>\n",
       "    <tr>\n",
       "      <th>162</th>\n",
       "      <td>Hawi Dekeba Abera</td>\n",
       "      <td>A</td>\n",
       "      <td>18</td>\n",
       "      <td>F</td>\n",
       "      <td>Ethiopian</td>\n",
       "      <td>Assela</td>\n",
       "      <td>no</td>\n",
       "      <td>12</td>\n",
       "      <td>Scholarship</td>\n",
       "      <td>both</td>\n",
       "      <td>...</td>\n",
       "      <td>NaN</td>\n",
       "      <td>88.13</td>\n",
       "      <td>90.31</td>\n",
       "      <td>87.37</td>\n",
       "      <td>97.00</td>\n",
       "      <td>94.55</td>\n",
       "      <td>87.73</td>\n",
       "      <td>94.25</td>\n",
       "      <td>88.4</td>\n",
       "      <td>83.2</td>\n",
       "    </tr>\n",
       "  </tbody>\n",
       "</table>\n",
       "<p>8 rows × 42 columns</p>\n",
       "</div>"
      ],
      "text/plain": [
       "                        Name conduct  Age Gender Nationality           POB  \\\n",
       "57    Abdulhakim Shikur Awol       A   16      M   Ethiopian   Addis Ababa   \n",
       "75   Abdulmaged muza shikure       A   17      M   Ethiopian   Addis Ababa   \n",
       "78      Amar Abdulwase Ahmed       A   16      M   Ethiopian  Saudi arabia   \n",
       "91    Nathael Bahiru Misgana       A   16      M   Ethiopian        Gurage   \n",
       "97    Welid Mohammed Muzeyin       A   17      M   Ethiopian  Saudi Arabia   \n",
       "99        Tinsae Girma Hunde       A   16      M   Ethiopian      Ethiopia   \n",
       "156   Marta Alemayehu Assefa       A   20      F   Ethiopian        Harrar   \n",
       "162        Hawi Dekeba Abera       A   18      F   Ethiopian        Assela   \n",
       "\n",
       "    Tutor/Makeup  Grade    Admission Guardian  ... Biology Geography History  \\\n",
       "57            no     10  Scholarship     both  ...   93.99     93.93   83.70   \n",
       "75            no     10  Scholarship     both  ...   94.71     93.97   92.79   \n",
       "78            no     10  Scholarship     both  ...   97.54     94.32   88.97   \n",
       "91            no     10  Scholarship     both  ...   96.16     94.09   89.26   \n",
       "97            no     10  Scholarship     both  ...   99.37     96.59   98.58   \n",
       "99            No     10  Scholarship     both  ...   91.66     82.30   84.93   \n",
       "156           no     12  Scholarship    other  ...   91.02       NaN     NaN   \n",
       "162           no     12  Scholarship     both  ...     NaN     88.13   90.31   \n",
       "\n",
       "    Civics Amharic    ICT Ent-ship    HPE   GPA Matrik  \n",
       "57   89.43   93.29  93.50    93.50  94.43  91.6   90.2  \n",
       "75   91.29   96.64  97.15    98.06  94.38  94.4   94.8  \n",
       "78   92.29   97.64  97.62    99.20  93.13  95.3   94.8  \n",
       "91   90.57   95.29  97.62    95.50  92.43  94.8   94.7  \n",
       "97   93.86   98.14  98.54    99.06  90.18  97.6   98.1  \n",
       "99   90.57   96.29  94.85    86.36  90.43  89.6   88.9  \n",
       "156  90.95   98.00  90.85      NaN  96.25  90.0   86.0  \n",
       "162  87.37   97.00  94.55    87.73  94.25  88.4   83.2  \n",
       "\n",
       "[8 rows x 42 columns]"
      ]
     },
     "execution_count": 9,
     "metadata": {},
     "output_type": "execute_result"
    }
   ],
   "source": [
    "df[df.Previous_school == 'Abay']"
   ]
  },
  {
   "cell_type": "code",
   "execution_count": null,
   "metadata": {},
   "outputs": [
    {
     "data": {
      "text/plain": [
       "<AxesSubplot:xlabel='Age'>"
      ]
     },
     "execution_count": 64,
     "metadata": {},
     "output_type": "execute_result"
    },
    {
     "data": {
      "image/png": "[encoded data removed]",
      "text/plain": [
       "<Figure size 520x280 with 1 Axes>"
      ]
     },
     "metadata": {},
     "output_type": "display_data"
    }
   ],
   "source": [
    "sns.boxplot(df.Age)"
   ]
  },
  {
   "cell_type": "code",
   "execution_count": null,
   "metadata": {},
   "outputs": [],
   "source": []
  },
  {
   "cell_type": "code",
   "execution_count": null,
   "metadata": {},
   "outputs": [
    {
     "data": {
      "text/plain": [
       "Name                          Nebiyu Daniel Taye\n",
       "conduct                                        A\n",
       "Age                                           16\n",
       "Gender                                         M\n",
       "Nationality                            Ethiopian\n",
       "POB                                     Ethiopia\n",
       "Tutor/Makeup                                  no\n",
       "Grade                                          9\n",
       "Admission                            Scholarship\n",
       "Guardian                                    both\n",
       "time_with_parents                          a lot\n",
       "communication_with_parents        strongly agree\n",
       "Reward_for_achievements           strongly agree\n",
       "parent_understanding                       agree\n",
       "Transport_type                            Public\n",
       "Residence                                  Riche\n",
       "Travel Time                                15-30\n",
       "Birth_order                          First child\n",
       "Exercice                                     0.0\n",
       "Previous_school                    UoG community\n",
       "mother_tongue                            Amharic\n",
       "Curriculum                                    no\n",
       "Sleeping time_in_pm                          6.5\n",
       "parenting_style                    Authoritative\n",
       "Trauma                                       0.0\n",
       "Type                                        None\n",
       "Quality                                     4.25\n",
       "Literature                                 77.52\n",
       "Eng                                        94.33\n",
       "Maths                                      62.57\n",
       "Physics                                    70.85\n",
       "Chemistry                                   77.2\n",
       "Biology                                    69.77\n",
       "Geography                                  74.17\n",
       "History                                    81.65\n",
       "Civics                                     76.48\n",
       "Amharic                                    84.84\n",
       "ICT                                        80.42\n",
       "Ent-ship                                   77.16\n",
       "HPE                                         86.0\n",
       "GPA                                         77.9\n",
       "Matrik                                      75.9\n",
       "Name: 54, dtype: object"
      ]
     },
     "execution_count": 65,
     "metadata": {},
     "output_type": "execute_result"
    }
   ],
   "source": [
    "df.loc[54]"
   ]
  },
  {
   "cell_type": "code",
   "execution_count": null,
   "metadata": {},
   "outputs": [
    {
     "name": "stdout",
     "output_type": "stream",
     "text": [
      "High_school Students Missing Data\n",
      "<class 'pandas.core.frame.DataFrame'>\n",
      "RangeIndex: 172 entries, 0 to 171\n",
      "Data columns (total 42 columns):\n",
      " #   Column                      Non-Null Count  Dtype  \n",
      "---  ------                      --------------  -----  \n",
      " 0   Name                        172 non-null    object \n",
      " 1   conduct                     172 non-null    object \n",
      " 2   Age                         172 non-null    int64  \n",
      " 3   Gender                      172 non-null    object \n",
      " 4   Nationality                 172 non-null    object \n",
      " 5   POB                         172 non-null    object \n",
      " 6   Tutor/Makeup                172 non-null    object \n",
      " 7   Grade                       172 non-null    int64  \n",
      " 8   Admission                   172 non-null    object \n",
      " 9   Guardian                    171 non-null    object \n",
      " 10  time_with_parents           167 non-null    object \n",
      " 11  communication_with_parents  167 non-null    object \n",
      " 12  Reward_for_achievements     167 non-null    object \n",
      " 13  parent_understanding        167 non-null    object \n",
      " 14  Transport_type              172 non-null    object \n",
      " 15  Residence                   171 non-null    object \n",
      " 16  Travel Time                 170 non-null    object \n",
      " 17  Birth_order                 172 non-null    object \n",
      " 18  Exercice                    171 non-null    float64\n",
      " 19  Previous_school             172 non-null    object \n",
      " 20  mother_tongue               169 non-null    object \n",
      " 21  Curriculum                  171 non-null    object \n",
      " 22  Sleeping time_in_pm         164 non-null    float64\n",
      " 23  parenting_style             164 non-null    object \n",
      " 24  Trauma                      170 non-null    float64\n",
      " 25  Type                        170 non-null    object \n",
      " 26  Quality                     172 non-null    float64\n",
      " 27  Literature                  172 non-null    float64\n",
      " 28  Eng                         171 non-null    float64\n",
      " 29  Maths                       171 non-null    float64\n",
      " 30  Physics                     139 non-null    float64\n",
      " 31  Chemistry                   139 non-null    float64\n",
      " 32  Biology                     139 non-null    float64\n",
      " 33  Geography                   134 non-null    float64\n",
      " 34  History                     134 non-null    float64\n",
      " 35  Civics                      171 non-null    float64\n",
      " 36  Amharic                     170 non-null    float64\n",
      " 37  ICT                         171 non-null    float64\n",
      " 38  Ent-ship                    134 non-null    float64\n",
      " 39  HPE                         172 non-null    float64\n",
      " 40  GPA                         172 non-null    float64\n",
      " 41  Matrik                      172 non-null    float64\n",
      "dtypes: float64(19), int64(2), object(21)\n",
      "memory usage: 56.6+ KB\n"
     ]
    }
   ],
   "source": [
    "print('High_school Students Missing Data')\n",
    "df.info()"
   ]
  },
  {
   "cell_type": "code",
   "execution_count": null,
   "metadata": {},
   "outputs": [
    {
     "data": {
      "text/plain": [
       "Index(['name', 'conduct', 'age', 'gender', 'nationality', 'pob',\n",
       "       'tutor/makeup', 'grade', 'admission', 'guardian', 'time_with_parents',\n",
       "       'communication_with_parents', 'reward_for_achievements',\n",
       "       'parent_understanding', 'transport_type', 'residence', 'travel time',\n",
       "       'birth_order', 'exercice', 'previous_school', 'mother_tongue',\n",
       "       'curriculum', 'sleeping time_in_pm', 'parenting_style', 'trauma',\n",
       "       'type', 'quality', 'literature', 'eng', 'maths', 'physics', 'chemistry',\n",
       "       'biology', 'geography', 'history', 'civics', 'amharic', 'ict',\n",
       "       'ent-ship', 'hpe', 'gpa', 'matrik'],\n",
       "      dtype='object')"
      ]
     },
     "execution_count": 67,
     "metadata": {},
     "output_type": "execute_result"
    }
   ],
   "source": [
    "df.columns = df.columns.str.lower()\n",
    "df.columns"
   ]
  },
  {
   "attachments": {},
   "cell_type": "markdown",
   "metadata": {},
   "source": [
    "#### Checking Missing Values"
   ]
  },
  {
   "cell_type": "code",
   "execution_count": null,
   "metadata": {},
   "outputs": [
    {
     "data": {
      "text/plain": [
       "name                           0\n",
       "conduct                        0\n",
       "age                            0\n",
       "gender                         0\n",
       "nationality                    0\n",
       "pob                            0\n",
       "tutor/makeup                   0\n",
       "grade                          0\n",
       "admission                      0\n",
       "guardian                       1\n",
       "time_with_parents              5\n",
       "communication_with_parents     5\n",
       "reward_for_achievements        5\n",
       "parent_understanding           5\n",
       "transport_type                 0\n",
       "residence                      1\n",
       "travel time                    2\n",
       "birth_order                    0\n",
       "exercice                       1\n",
       "previous_school                0\n",
       "mother_tongue                  3\n",
       "curriculum                     1\n",
       "sleeping time_in_pm            8\n",
       "parenting_style                8\n",
       "trauma                         2\n",
       "type                           2\n",
       "quality                        0\n",
       "literature                     0\n",
       "eng                            1\n",
       "maths                          1\n",
       "physics                       33\n",
       "chemistry                     33\n",
       "biology                       33\n",
       "geography                     38\n",
       "history                       38\n",
       "civics                         1\n",
       "amharic                        2\n",
       "ict                            1\n",
       "ent-ship                      38\n",
       "hpe                            0\n",
       "gpa                            0\n",
       "matrik                         0\n",
       "dtype: int64"
      ]
     },
     "execution_count": 68,
     "metadata": {},
     "output_type": "execute_result"
    }
   ],
   "source": [
    "df.isna().sum()"
   ]
  },
  {
   "attachments": {},
   "cell_type": "markdown",
   "metadata": {},
   "source": [
    "### Filling Missing Values"
   ]
  },
  {
   "cell_type": "code",
   "execution_count": null,
   "metadata": {},
   "outputs": [],
   "source": [
    "df['parenting_style'].fillna(df['parenting_style'].mode()[0], inplace=True)\n",
    "df['time_with_parents'].fillna(df['time_with_parents'].mode()[0], inplace=True)\n",
    "df['communication_with_parents'].fillna(df['communication_with_parents'].mode()[0], inplace=True)\n",
    "df['reward_for_achievements'].fillna(df['reward_for_achievements'].mode()[0], inplace=True)\n",
    "df['parent_understanding'].fillna(df['parent_understanding'].mode()[0], inplace=True)\n",
    "df['travel time'].fillna(df['travel time'].mode()[0], inplace=True)\n",
    "df['mother_tongue'].fillna(df['mother_tongue'].mode()[0], inplace=True)\n",
    "df['curriculum'].fillna(df['curriculum'].mode()[0], inplace=True)\n",
    "df['trauma'].fillna(df['trauma'].mode()[0], inplace=True)\n",
    "df['exercice'].fillna(df['exercice'].mode()[0], inplace=True)\n",
    "df['type'].fillna(df['type'].mode()[0], inplace=True)\n",
    "df['sleeping time_in_pm'].fillna(df['sleeping time_in_pm'].mode()[0], inplace=True)\n",
    "df['residence'].fillna(df['residence'].mode()[0], inplace=True)\n",
    "df['guardian'].fillna(df['guardian'].mode()[0], inplace=True)\n",
    "\n"
   ]
  },
  {
   "cell_type": "code",
   "execution_count": null,
   "metadata": {},
   "outputs": [
    {
     "data": {
      "text/plain": [
       "name                           0\n",
       "conduct                        0\n",
       "age                            0\n",
       "gender                         0\n",
       "nationality                    0\n",
       "pob                            0\n",
       "tutor/makeup                   0\n",
       "grade                          0\n",
       "admission                      0\n",
       "guardian                       0\n",
       "time_with_parents              0\n",
       "communication_with_parents     0\n",
       "reward_for_achievements        0\n",
       "parent_understanding           0\n",
       "transport_type                 0\n",
       "residence                      0\n",
       "travel time                    0\n",
       "birth_order                    0\n",
       "exercice                       0\n",
       "previous_school                0\n",
       "mother_tongue                  0\n",
       "curriculum                     0\n",
       "sleeping time_in_pm            0\n",
       "parenting_style                0\n",
       "trauma                         0\n",
       "type                           0\n",
       "quality                        0\n",
       "literature                     0\n",
       "eng                            1\n",
       "maths                          1\n",
       "physics                       33\n",
       "chemistry                     33\n",
       "biology                       33\n",
       "geography                     38\n",
       "history                       38\n",
       "civics                         1\n",
       "amharic                        2\n",
       "ict                            1\n",
       "ent-ship                      38\n",
       "hpe                            0\n",
       "gpa                            0\n",
       "matrik                         0\n",
       "dtype: int64"
      ]
     },
     "execution_count": 70,
     "metadata": {},
     "output_type": "execute_result"
    }
   ],
   "source": [
    "df.isna().sum()"
   ]
  },
  {
   "attachments": {},
   "cell_type": "markdown",
   "metadata": {},
   "source": [
    "#####  Saving version3 of data into csv"
   ]
  },
  {
   "cell_type": "code",
   "execution_count": null,
   "metadata": {},
   "outputs": [],
   "source": [
    "#df.to_csv('ms_nomv.csv', index=False)"
   ]
  },
  {
   "cell_type": "code",
   "execution_count": null,
   "metadata": {},
   "outputs": [
    {
     "data": {
      "text/plain": [
       "name                           object\n",
       "conduct                        object\n",
       "age                             int64\n",
       "gender                         object\n",
       "nationality                    object\n",
       "pob                            object\n",
       "tutor/makeup                   object\n",
       "grade                           int64\n",
       "admission                      object\n",
       "guardian                       object\n",
       "time_with_parents              object\n",
       "communication_with_parents     object\n",
       "reward_for_achievements        object\n",
       "parent_understanding           object\n",
       "transport_type                 object\n",
       "residence                      object\n",
       "travel time                    object\n",
       "birth_order                    object\n",
       "exercice                      float64\n",
       "previous_school                object\n",
       "mother_tongue                  object\n",
       "curriculum                     object\n",
       "sleeping time_in_pm           float64\n",
       "parenting_style                object\n",
       "trauma                        float64\n",
       "type                           object\n",
       "quality                       float64\n",
       "literature                    float64\n",
       "eng                           float64\n",
       "maths                         float64\n",
       "physics                       float64\n",
       "chemistry                     float64\n",
       "biology                       float64\n",
       "geography                     float64\n",
       "history                       float64\n",
       "civics                        float64\n",
       "amharic                       float64\n",
       "ict                           float64\n",
       "ent-ship                      float64\n",
       "hpe                           float64\n",
       "gpa                           float64\n",
       "matrik                        float64\n",
       "dtype: object"
      ]
     },
     "execution_count": 72,
     "metadata": {},
     "output_type": "execute_result"
    }
   ],
   "source": [
    "df.dtypes"
   ]
  },
  {
   "attachments": {},
   "cell_type": "markdown",
   "metadata": {},
   "source": [
    "#### Filling numeric values with mean "
   ]
  },
  {
   "cell_type": "code",
   "execution_count": null,
   "metadata": {},
   "outputs": [],
   "source": [
    "df['civics'].fillna(df['civics'].mean(), inplace=True)\n",
    "df['amharic'].fillna(df['amharic'].mean(), inplace=True)\n",
    "df['ict'].fillna(df['ict'].mean(), inplace=True)\n",
    "df['maths'].fillna(df['maths'].mean(), inplace=True)\n",
    "df['eng'].fillna(df['eng'].mean(), inplace=True)"
   ]
  },
  {
   "cell_type": "code",
   "execution_count": null,
   "metadata": {},
   "outputs": [
    {
     "data": {
      "text/plain": [
       "name                           0\n",
       "conduct                        0\n",
       "age                            0\n",
       "gender                         0\n",
       "nationality                    0\n",
       "pob                            0\n",
       "tutor/makeup                   0\n",
       "grade                          0\n",
       "admission                      0\n",
       "guardian                       0\n",
       "time_with_parents              0\n",
       "communication_with_parents     0\n",
       "reward_for_achievements        0\n",
       "parent_understanding           0\n",
       "transport_type                 0\n",
       "residence                      0\n",
       "travel time                    0\n",
       "birth_order                    0\n",
       "exercice                       0\n",
       "previous_school                0\n",
       "mother_tongue                  0\n",
       "curriculum                     0\n",
       "sleeping time_in_pm            0\n",
       "parenting_style                0\n",
       "trauma                         0\n",
       "type                           0\n",
       "quality                        0\n",
       "literature                     0\n",
       "eng                            0\n",
       "maths                          0\n",
       "physics                       33\n",
       "chemistry                     33\n",
       "biology                       33\n",
       "geography                     38\n",
       "history                       38\n",
       "civics                         0\n",
       "amharic                        0\n",
       "ict                            0\n",
       "ent-ship                      38\n",
       "hpe                            0\n",
       "gpa                            0\n",
       "matrik                         0\n",
       "dtype: int64"
      ]
     },
     "execution_count": 74,
     "metadata": {},
     "output_type": "execute_result"
    }
   ],
   "source": [
    "df.isna().sum()"
   ]
  },
  {
   "cell_type": "code",
   "execution_count": null,
   "metadata": {},
   "outputs": [
    {
     "data": {
      "text/html": [
       "<div>\n",
       "<style scoped>\n",
       "    .dataframe tbody tr th:only-of-type {\n",
       "        vertical-align: middle;\n",
       "    }\n",
       "\n",
       "    .dataframe tbody tr th {\n",
       "        vertical-align: top;\n",
       "    }\n",
       "\n",
       "    .dataframe thead th {\n",
       "        text-align: right;\n",
       "    }\n",
       "</style>\n",
       "<table border=\"1\" class=\"dataframe\">\n",
       "  <thead>\n",
       "    <tr style=\"text-align: right;\">\n",
       "      <th></th>\n",
       "      <th>name</th>\n",
       "      <th>geography</th>\n",
       "      <th>grade</th>\n",
       "    </tr>\n",
       "  </thead>\n",
       "  <tbody>\n",
       "    <tr>\n",
       "      <th>120</th>\n",
       "      <td>Abigail Zerihun ewentu</td>\n",
       "      <td>NaN</td>\n",
       "      <td>11</td>\n",
       "    </tr>\n",
       "    <tr>\n",
       "      <th>121</th>\n",
       "      <td>Amlakbekalu Tessema</td>\n",
       "      <td>NaN</td>\n",
       "      <td>11</td>\n",
       "    </tr>\n",
       "    <tr>\n",
       "      <th>122</th>\n",
       "      <td>Birhane Telayneh Kefyalew</td>\n",
       "      <td>NaN</td>\n",
       "      <td>11</td>\n",
       "    </tr>\n",
       "    <tr>\n",
       "      <th>123</th>\n",
       "      <td>Demetrius Zerihun Khasai</td>\n",
       "      <td>NaN</td>\n",
       "      <td>11</td>\n",
       "    </tr>\n",
       "    <tr>\n",
       "      <th>124</th>\n",
       "      <td>Ephrata Tadesse Tefera</td>\n",
       "      <td>NaN</td>\n",
       "      <td>11</td>\n",
       "    </tr>\n",
       "    <tr>\n",
       "      <th>125</th>\n",
       "      <td>Feysel Anwar Surur</td>\n",
       "      <td>NaN</td>\n",
       "      <td>11</td>\n",
       "    </tr>\n",
       "    <tr>\n",
       "      <th>126</th>\n",
       "      <td>Luelue Luqman Kedir</td>\n",
       "      <td>NaN</td>\n",
       "      <td>11</td>\n",
       "    </tr>\n",
       "    <tr>\n",
       "      <th>127</th>\n",
       "      <td>Nuur Ahmed Merduf</td>\n",
       "      <td>NaN</td>\n",
       "      <td>11</td>\n",
       "    </tr>\n",
       "    <tr>\n",
       "      <th>128</th>\n",
       "      <td>Ruth Melknew Chane</td>\n",
       "      <td>NaN</td>\n",
       "      <td>11</td>\n",
       "    </tr>\n",
       "    <tr>\n",
       "      <th>129</th>\n",
       "      <td>Selamawit Kibru Worku</td>\n",
       "      <td>NaN</td>\n",
       "      <td>11</td>\n",
       "    </tr>\n",
       "    <tr>\n",
       "      <th>130</th>\n",
       "      <td>Silondis kenmos tesfaye</td>\n",
       "      <td>NaN</td>\n",
       "      <td>11</td>\n",
       "    </tr>\n",
       "    <tr>\n",
       "      <th>131</th>\n",
       "      <td>Yidedya Feta Nibezo</td>\n",
       "      <td>NaN</td>\n",
       "      <td>11</td>\n",
       "    </tr>\n",
       "    <tr>\n",
       "      <th>132</th>\n",
       "      <td>Afomia Daginenet Yimenu</td>\n",
       "      <td>NaN</td>\n",
       "      <td>12</td>\n",
       "    </tr>\n",
       "    <tr>\n",
       "      <th>133</th>\n",
       "      <td>Alamin Abdulshikur Menu</td>\n",
       "      <td>NaN</td>\n",
       "      <td>12</td>\n",
       "    </tr>\n",
       "    <tr>\n",
       "      <th>134</th>\n",
       "      <td>Amar Sultan fedlu</td>\n",
       "      <td>NaN</td>\n",
       "      <td>12</td>\n",
       "    </tr>\n",
       "    <tr>\n",
       "      <th>135</th>\n",
       "      <td>Ayantu Asrat Gadissa</td>\n",
       "      <td>NaN</td>\n",
       "      <td>12</td>\n",
       "    </tr>\n",
       "    <tr>\n",
       "      <th>136</th>\n",
       "      <td>Aymen Abdella Feyissa</td>\n",
       "      <td>NaN</td>\n",
       "      <td>12</td>\n",
       "    </tr>\n",
       "    <tr>\n",
       "      <th>137</th>\n",
       "      <td>Baselael Mekonen Tesfaye</td>\n",
       "      <td>NaN</td>\n",
       "      <td>12</td>\n",
       "    </tr>\n",
       "    <tr>\n",
       "      <th>138</th>\n",
       "      <td>Fanuel Asfaw Banti</td>\n",
       "      <td>NaN</td>\n",
       "      <td>12</td>\n",
       "    </tr>\n",
       "    <tr>\n",
       "      <th>139</th>\n",
       "      <td>Iman Abdulhakim Gharad</td>\n",
       "      <td>NaN</td>\n",
       "      <td>12</td>\n",
       "    </tr>\n",
       "    <tr>\n",
       "      <th>140</th>\n",
       "      <td>Kaleab Yonas G/mariam</td>\n",
       "      <td>NaN</td>\n",
       "      <td>12</td>\n",
       "    </tr>\n",
       "    <tr>\n",
       "      <th>141</th>\n",
       "      <td>Maedot Kahsay Geberegiorgis</td>\n",
       "      <td>NaN</td>\n",
       "      <td>12</td>\n",
       "    </tr>\n",
       "    <tr>\n",
       "      <th>142</th>\n",
       "      <td>Nathnael Sime Mechal</td>\n",
       "      <td>NaN</td>\n",
       "      <td>12</td>\n",
       "    </tr>\n",
       "    <tr>\n",
       "      <th>143</th>\n",
       "      <td>Nathnael Tilahun Kalew</td>\n",
       "      <td>NaN</td>\n",
       "      <td>12</td>\n",
       "    </tr>\n",
       "    <tr>\n",
       "      <th>144</th>\n",
       "      <td>Rekik Tsegaye Challa</td>\n",
       "      <td>NaN</td>\n",
       "      <td>12</td>\n",
       "    </tr>\n",
       "    <tr>\n",
       "      <th>145</th>\n",
       "      <td>Separa Berhanu Hailemariam</td>\n",
       "      <td>NaN</td>\n",
       "      <td>12</td>\n",
       "    </tr>\n",
       "    <tr>\n",
       "      <th>146</th>\n",
       "      <td>Tariku Samson Hailu</td>\n",
       "      <td>NaN</td>\n",
       "      <td>12</td>\n",
       "    </tr>\n",
       "    <tr>\n",
       "      <th>147</th>\n",
       "      <td>Tesnim Fethi Shami</td>\n",
       "      <td>NaN</td>\n",
       "      <td>12</td>\n",
       "    </tr>\n",
       "    <tr>\n",
       "      <th>148</th>\n",
       "      <td>Yanet Ayanaw Malede</td>\n",
       "      <td>NaN</td>\n",
       "      <td>12</td>\n",
       "    </tr>\n",
       "    <tr>\n",
       "      <th>149</th>\n",
       "      <td>Bereket Yimolal Tiruneh</td>\n",
       "      <td>NaN</td>\n",
       "      <td>12</td>\n",
       "    </tr>\n",
       "    <tr>\n",
       "      <th>150</th>\n",
       "      <td>Elroi Abebaw Getachew</td>\n",
       "      <td>NaN</td>\n",
       "      <td>12</td>\n",
       "    </tr>\n",
       "    <tr>\n",
       "      <th>151</th>\n",
       "      <td>Ermias Haimanot Tsegaye</td>\n",
       "      <td>NaN</td>\n",
       "      <td>12</td>\n",
       "    </tr>\n",
       "    <tr>\n",
       "      <th>152</th>\n",
       "      <td>Eyob Kebede Atisedi</td>\n",
       "      <td>NaN</td>\n",
       "      <td>12</td>\n",
       "    </tr>\n",
       "    <tr>\n",
       "      <th>153</th>\n",
       "      <td>Sophia Jemal Edris</td>\n",
       "      <td>NaN</td>\n",
       "      <td>12</td>\n",
       "    </tr>\n",
       "    <tr>\n",
       "      <th>154</th>\n",
       "      <td>Stefan Daniel Seleshi</td>\n",
       "      <td>NaN</td>\n",
       "      <td>12</td>\n",
       "    </tr>\n",
       "    <tr>\n",
       "      <th>155</th>\n",
       "      <td>Selam Wudma Sahile</td>\n",
       "      <td>NaN</td>\n",
       "      <td>12</td>\n",
       "    </tr>\n",
       "    <tr>\n",
       "      <th>156</th>\n",
       "      <td>Marta Alemayehu Assefa</td>\n",
       "      <td>NaN</td>\n",
       "      <td>12</td>\n",
       "    </tr>\n",
       "    <tr>\n",
       "      <th>157</th>\n",
       "      <td>Leoul Hailu Woldeyes</td>\n",
       "      <td>NaN</td>\n",
       "      <td>12</td>\n",
       "    </tr>\n",
       "  </tbody>\n",
       "</table>\n",
       "</div>"
      ],
      "text/plain": [
       "                            name  geography  grade\n",
       "120       Abigail Zerihun ewentu        NaN     11\n",
       "121          Amlakbekalu Tessema        NaN     11\n",
       "122    Birhane Telayneh Kefyalew        NaN     11\n",
       "123     Demetrius Zerihun Khasai        NaN     11\n",
       "124       Ephrata Tadesse Tefera        NaN     11\n",
       "125           Feysel Anwar Surur        NaN     11\n",
       "126          Luelue Luqman Kedir        NaN     11\n",
       "127            Nuur Ahmed Merduf        NaN     11\n",
       "128           Ruth Melknew Chane        NaN     11\n",
       "129        Selamawit Kibru Worku        NaN     11\n",
       "130      Silondis kenmos tesfaye        NaN     11\n",
       "131          Yidedya Feta Nibezo        NaN     11\n",
       "132      Afomia Daginenet Yimenu        NaN     12\n",
       "133      Alamin Abdulshikur Menu        NaN     12\n",
       "134            Amar Sultan fedlu        NaN     12\n",
       "135         Ayantu Asrat Gadissa        NaN     12\n",
       "136        Aymen Abdella Feyissa        NaN     12\n",
       "137     Baselael Mekonen Tesfaye        NaN     12\n",
       "138           Fanuel Asfaw Banti        NaN     12\n",
       "139       Iman Abdulhakim Gharad        NaN     12\n",
       "140        Kaleab Yonas G/mariam        NaN     12\n",
       "141  Maedot Kahsay Geberegiorgis        NaN     12\n",
       "142         Nathnael Sime Mechal        NaN     12\n",
       "143       Nathnael Tilahun Kalew        NaN     12\n",
       "144         Rekik Tsegaye Challa        NaN     12\n",
       "145   Separa Berhanu Hailemariam        NaN     12\n",
       "146          Tariku Samson Hailu        NaN     12\n",
       "147           Tesnim Fethi Shami        NaN     12\n",
       "148          Yanet Ayanaw Malede        NaN     12\n",
       "149      Bereket Yimolal Tiruneh        NaN     12\n",
       "150        Elroi Abebaw Getachew        NaN     12\n",
       "151      Ermias Haimanot Tsegaye        NaN     12\n",
       "152          Eyob Kebede Atisedi        NaN     12\n",
       "153           Sophia Jemal Edris        NaN     12\n",
       "154        Stefan Daniel Seleshi        NaN     12\n",
       "155           Selam Wudma Sahile        NaN     12\n",
       "156       Marta Alemayehu Assefa        NaN     12\n",
       "157         Leoul Hailu Woldeyes        NaN     12"
      ]
     },
     "execution_count": 75,
     "metadata": {},
     "output_type": "execute_result"
    }
   ],
   "source": [
    "df[df['geography'].isna()][['name', 'geography', 'grade']]"
   ]
  },
  {
   "cell_type": "code",
   "execution_count": null,
   "metadata": {},
   "outputs": [
    {
     "data": {
      "text/plain": [
       "83.93858208955221"
      ]
     },
     "execution_count": 76,
     "metadata": {},
     "output_type": "execute_result"
    }
   ],
   "source": [
    "#assigning average geography result to missing values in social class\n",
    "df.geography.mean()"
   ]
  },
  {
   "cell_type": "code",
   "execution_count": null,
   "metadata": {},
   "outputs": [],
   "source": [
    "df.iloc[158]['geography'] = df.geography.mean()"
   ]
  },
  {
   "cell_type": "code",
   "execution_count": null,
   "metadata": {},
   "outputs": [
    {
     "data": {
      "text/plain": [
       "80.0"
      ]
     },
     "execution_count": 78,
     "metadata": {},
     "output_type": "execute_result"
    }
   ],
   "source": [
    "df.iloc[158]['geography']"
   ]
  },
  {
   "cell_type": "code",
   "execution_count": null,
   "metadata": {},
   "outputs": [],
   "source": [
    "for i in df.columns:\n",
    "    if df[i].dtype == 'O':\n",
    "        df[i] = df[i].astype(\"string\")"
   ]
  },
  {
   "cell_type": "code",
   "execution_count": null,
   "metadata": {},
   "outputs": [],
   "source": [
    "for i in df.columns:\n",
    "    if df[i].dtype == 'string':\n",
    "        df[i] = df[i].apply(lambda x: x.lower())"
   ]
  },
  {
   "cell_type": "code",
   "execution_count": null,
   "metadata": {},
   "outputs": [
    {
     "data": {
      "text/plain": [
       "m    87\n",
       "f    85\n",
       "Name: gender, dtype: int64"
      ]
     },
     "execution_count": 81,
     "metadata": {},
     "output_type": "execute_result"
    }
   ],
   "source": [
    "df.gender.value_counts()"
   ]
  },
  {
   "cell_type": "code",
   "execution_count": null,
   "metadata": {},
   "outputs": [
    {
     "data": {
      "text/plain": [
       "ethiopian    155\n",
       "american       9\n",
       "british        4\n",
       "yemeni         1\n",
       "ehiopian       1\n",
       "italian        1\n",
       "canadian       1\n",
       "Name: nationality, dtype: int64"
      ]
     },
     "execution_count": 82,
     "metadata": {},
     "output_type": "execute_result"
    }
   ],
   "source": [
    "df.nationality.value_counts()"
   ]
  },
  {
   "cell_type": "code",
   "execution_count": null,
   "metadata": {},
   "outputs": [
    {
     "data": {
      "text/plain": [
       "a    137\n",
       "b     30\n",
       "c      5\n",
       "Name: conduct, dtype: int64"
      ]
     },
     "execution_count": 83,
     "metadata": {},
     "output_type": "execute_result"
    }
   ],
   "source": [
    "df.conduct.value_counts()"
   ]
  },
  {
   "cell_type": "code",
   "execution_count": null,
   "metadata": {},
   "outputs": [
    {
     "data": {
      "text/plain": [
       "ethiopian    156\n",
       "american       9\n",
       "british        4\n",
       "yemeni         1\n",
       "italian        1\n",
       "canadian       1\n",
       "Name: nationality, dtype: int64"
      ]
     },
     "execution_count": 84,
     "metadata": {},
     "output_type": "execute_result"
    }
   ],
   "source": [
    "df.nationality = df['nationality'].replace('ehiopian', 'ethiopian')\n",
    "df.nationality.value_counts()"
   ]
  },
  {
   "cell_type": "code",
   "execution_count": null,
   "metadata": {},
   "outputs": [],
   "source": [
    "#df['pob'].value_counts()"
   ]
  },
  {
   "cell_type": "code",
   "execution_count": null,
   "metadata": {},
   "outputs": [],
   "source": [
    "def jah(x):\n",
    "    if x not in ('london', 'toronto', 'israel', 'california', 'aden', 'virginia', 'usa', 'saudi arabia'):\n",
    "        return 'ethiopia'\n",
    "    else:\n",
    "        return 'foriegn_soil'"
   ]
  },
  {
   "cell_type": "code",
   "execution_count": null,
   "metadata": {},
   "outputs": [
    {
     "data": {
      "text/plain": [
       "ethiopia        154\n",
       "foriegn_soil     18\n",
       "Name: pob, dtype: int64"
      ]
     },
     "execution_count": 87,
     "metadata": {},
     "output_type": "execute_result"
    }
   ],
   "source": [
    "df['pob'] = df['pob'].apply(jah)\n",
    "df['pob'].value_counts()"
   ]
  },
  {
   "cell_type": "code",
   "execution_count": null,
   "metadata": {},
   "outputs": [
    {
     "data": {
      "text/plain": [
       "no     135\n",
       "yes     37\n",
       "Name: tutor/makeup, dtype: int64"
      ]
     },
     "execution_count": 88,
     "metadata": {},
     "output_type": "execute_result"
    }
   ],
   "source": [
    "df['tutor/makeup'].value_counts()"
   ]
  },
  {
   "cell_type": "code",
   "execution_count": null,
   "metadata": {},
   "outputs": [
    {
     "data": {
      "text/plain": [
       "9     57\n",
       "10    44\n",
       "12    40\n",
       "11    31\n",
       "Name: grade, dtype: int64"
      ]
     },
     "execution_count": 89,
     "metadata": {},
     "output_type": "execute_result"
    }
   ],
   "source": [
    "df.grade.value_counts()"
   ]
  },
  {
   "cell_type": "code",
   "execution_count": null,
   "metadata": {},
   "outputs": [
    {
     "data": {
      "text/plain": [
       "paid           105\n",
       "scholarship     67\n",
       "Name: admission, dtype: int64"
      ]
     },
     "execution_count": 90,
     "metadata": {},
     "output_type": "execute_result"
    }
   ],
   "source": [
    "df.admission.value_counts()"
   ]
  },
  {
   "cell_type": "code",
   "execution_count": null,
   "metadata": {},
   "outputs": [
    {
     "data": {
      "text/plain": [
       "both      138\n",
       "mother     20\n",
       "other      10\n",
       "father      4\n",
       "Name: guardian, dtype: int64"
      ]
     },
     "execution_count": 91,
     "metadata": {},
     "output_type": "execute_result"
    }
   ],
   "source": [
    "df.guardian.value_counts()"
   ]
  },
  {
   "cell_type": "code",
   "execution_count": null,
   "metadata": {},
   "outputs": [
    {
     "data": {
      "text/plain": [
       "a lot       130\n",
       "little       33\n",
       "not much      9\n",
       "Name: time_with_parents, dtype: int64"
      ]
     },
     "execution_count": 92,
     "metadata": {},
     "output_type": "execute_result"
    }
   ],
   "source": [
    "df['time_with_parents'].value_counts()"
   ]
  },
  {
   "cell_type": "code",
   "execution_count": null,
   "metadata": {},
   "outputs": [
    {
     "data": {
      "text/plain": [
       "strongly agree       81\n",
       "agree                67\n",
       "somehow agree        21\n",
       "disagree              2\n",
       "strongly disagree     1\n",
       "Name: communication_with_parents, dtype: int64"
      ]
     },
     "execution_count": 93,
     "metadata": {},
     "output_type": "execute_result"
    }
   ],
   "source": [
    "df['communication_with_parents'].value_counts()\n",
    "df['communication_with_parents'] = df['communication_with_parents'].replace('somehow', 'somehow agree')\n",
    "df['communication_with_parents'].value_counts()"
   ]
  },
  {
   "cell_type": "code",
   "execution_count": null,
   "metadata": {},
   "outputs": [
    {
     "data": {
      "text/plain": [
       "strongly agree       80\n",
       "agree                50\n",
       "somehow agree        29\n",
       "disagree              6\n",
       "strongly disagree     4\n",
       "stronlgly agree       1\n",
       "stronlgy agree        1\n",
       "somehow               1\n",
       "Name: reward_for_achievements, dtype: int64"
      ]
     },
     "execution_count": 94,
     "metadata": {},
     "output_type": "execute_result"
    }
   ],
   "source": [
    "#Check for correct character patterns like length and type of characters and make corrections.\n",
    "df['reward_for_achievements'].value_counts()"
   ]
  },
  {
   "cell_type": "code",
   "execution_count": null,
   "metadata": {},
   "outputs": [
    {
     "data": {
      "text/plain": [
       "strongly agree       82\n",
       "agree                50\n",
       "somehow agree        30\n",
       "disagree              6\n",
       "strongly disagree     4\n",
       "Name: reward_for_achievements, dtype: int64"
      ]
     },
     "execution_count": 95,
     "metadata": {},
     "output_type": "execute_result"
    }
   ],
   "source": [
    "df['reward_for_achievements'] = df['reward_for_achievements'].replace('stronlgly agree', 'strongly agree')\n",
    "df['reward_for_achievements'] = df['reward_for_achievements'].replace('stronlgy agree', 'strongly agree')\n",
    "df['reward_for_achievements'] = df['reward_for_achievements'].replace('somehow', 'somehow agree')\n",
    "df['reward_for_achievements'].value_counts()"
   ]
  },
  {
   "cell_type": "code",
   "execution_count": null,
   "metadata": {},
   "outputs": [
    {
     "data": {
      "text/plain": [
       "strongly agree       62\n",
       "agree                51\n",
       "somehow agree        42\n",
       "disagree             12\n",
       "strongly disagree     5\n",
       "Name: parent_understanding, dtype: int64"
      ]
     },
     "execution_count": 96,
     "metadata": {},
     "output_type": "execute_result"
    }
   ],
   "source": [
    "df.parent_understanding.value_counts()"
   ]
  },
  {
   "cell_type": "code",
   "execution_count": null,
   "metadata": {},
   "outputs": [],
   "source": [
    "#########################################"
   ]
  },
  {
   "cell_type": "code",
   "execution_count": null,
   "metadata": {},
   "outputs": [
    {
     "data": {
      "text/plain": [
       "private    88\n",
       "public     44\n",
       "service    38\n",
       "on foot     2\n",
       "Name: transport_type, dtype: int64"
      ]
     },
     "execution_count": 98,
     "metadata": {},
     "output_type": "execute_result"
    }
   ],
   "source": [
    "df.transport_type.value_counts()"
   ]
  },
  {
   "cell_type": "code",
   "execution_count": null,
   "metadata": {},
   "outputs": [
    {
     "data": {
      "text/plain": [
       "Index(['name', 'conduct', 'age', 'gender', 'nationality', 'pob',\n",
       "       'tutor/makeup', 'grade', 'admission', 'guardian', 'time_with_parents',\n",
       "       'communication_with_parents', 'reward_for_achievements',\n",
       "       'parent_understanding', 'transport_type', 'residence', 'travel time',\n",
       "       'birth_order', 'exercice', 'previous_school', 'mother_tongue',\n",
       "       'curriculum', 'sleeping time_in_pm', 'parenting_style', 'trauma',\n",
       "       'type', 'quality', 'literature', 'eng', 'maths', 'physics', 'chemistry',\n",
       "       'biology', 'geography', 'history', 'civics', 'amharic', 'ict',\n",
       "       'ent-ship', 'hpe', 'gpa', 'matrik'],\n",
       "      dtype='object')"
      ]
     },
     "execution_count": 99,
     "metadata": {},
     "output_type": "execute_result"
    }
   ],
   "source": [
    "df.columns"
   ]
  },
  {
   "cell_type": "code",
   "execution_count": null,
   "metadata": {},
   "outputs": [
    {
     "data": {
      "text/plain": [
       "jemo             20\n",
       "sarbet           14\n",
       "lebu             13\n",
       "german square     8\n",
       "kality            7\n",
       "tuludimtu         6\n",
       "haile garment     6\n",
       "bethel            6\n",
       "lafto             6\n",
       "torhailoch        5\n",
       "gerji             5\n",
       "mekanisa          4\n",
       "cmc               4\n",
       "gulele            4\n",
       "furi              3\n",
       "Name: residence, dtype: int64"
      ]
     },
     "execution_count": 100,
     "metadata": {},
     "output_type": "execute_result"
    }
   ],
   "source": [
    "df['residence'] = df['residence'].replace('carl square', 'sarbet')\n",
    "df['residence'] = df['residence'].replace('bisrate gabriel', 'sarbet')\n",
    "df['residence'] = df['residence'].replace('torhayloch', 'torhailoch')\n",
    "df['residence'] = df['residence'].replace('bulbula', 'bole bulbula')\n",
    "df['residence'] = df['residence'].replace('jemo 1', 'jemo')\n",
    "df['residence'] = df['residence'].replace('jemo 2', 'jemo')\n",
    "df['residence'] = df['residence'].replace('jemo 3', 'jemo')\n",
    "df['residence'] = df['residence'].replace('jemo michael', 'jemo')\n",
    "df['residence'] = df['residence'].replace('jemo michael', 'jemo')\n",
    "df['residence'] = df['residence'].replace('salitemihret', 'cmc')\n",
    "df['residence'] = df['residence'].replace('cmc figa', 'cmc')\n",
    "df['residence'] = df['residence'].replace('semen mazegaja', 'piassa')\n",
    "df['residence'] = df['residence'].replace('tulu dimtu', 'tuludimtu')\n",
    "df['residence'] = df['residence'].replace('afmo', 'anfo')\n",
    "df['residence'] = df['residence'].replace('atena tera', 'kolfe')\n",
    "df['residence'] = df['residence'].replace('jackrose', 'gerji')\n",
    "df['residence'] = df['residence'].replace('ayer tena', 'ayertena')\n",
    " \n",
    "\n",
    "df.residence.value_counts()[:15]\n"
   ]
  },
  {
   "cell_type": "code",
   "execution_count": null,
   "metadata": {},
   "outputs": [
    {
     "data": {
      "text/plain": [
       "array(['zenebework', 'cmc', 'megenagna', 'bole bulbula', 'piassa',\n",
       "       'old airport', 'gulele', 'jemo', 'bethel', 'sarbet',\n",
       "       'german square', 'lafto', 'total', 'summit', 'gerji', 'ayertena',\n",
       "       'furi', 'lebu', 'mercato', 'legetafo', 'hana mariam', 'kolfe',\n",
       "       'weyra', 'ashewa meda', 'kality', 'gofa', 'asko', 'wingate',\n",
       "       'anfo', 'riche', 'torhailoch', 'russia camp', 'saris', 'alemgena',\n",
       "       'karakore', 'addisu gebeya', 'kazanchis', 'arabsa', 'shola',\n",
       "       'fm jerba', 'sefera', 'haile garment', 'ayat', 'hayat', 'gelan',\n",
       "       'gotera', 'bole', 'musena', 'paulos', 'abado', 'tuludimtu',\n",
       "       'mehandis', 'sefereselam', 'bole michael', 'mekanisa'],\n",
       "      dtype=object)"
      ]
     },
     "execution_count": 101,
     "metadata": {},
     "output_type": "execute_result"
    }
   ],
   "source": [
    "df.residence.unique()"
   ]
  },
  {
   "cell_type": "code",
   "execution_count": null,
   "metadata": {},
   "outputs": [
    {
     "data": {
      "text/plain": [
       "30-60    62\n",
       "60+      44\n",
       "15-30    43\n",
       "15-      23\n",
       "Name: travel time, dtype: int64"
      ]
     },
     "execution_count": 102,
     "metadata": {},
     "output_type": "execute_result"
    }
   ],
   "source": [
    "df['travel time'].value_counts()\n",
    "df['travel time'].value_counts()\n",
    "df['travel time'] = df['travel time'].replace('30', '30-60')\n",
    "df['travel time'] = df['travel time'].replace('20-30', '30-60')\n",
    "df['travel time'].value_counts()"
   ]
  },
  {
   "cell_type": "code",
   "execution_count": null,
   "metadata": {},
   "outputs": [
    {
     "data": {
      "text/plain": [
       "first child     76\n",
       "middle child    47\n",
       "last child      45\n",
       "only child       4\n",
       "Name: birth_order, dtype: int64"
      ]
     },
     "execution_count": 103,
     "metadata": {},
     "output_type": "execute_result"
    }
   ],
   "source": [
    "df.birth_order.value_counts() \n",
    "#do middle children tend to be forgotten?? #Barkot\n",
    "#Are first chidren smarter??"
   ]
  },
  {
   "cell_type": "code",
   "execution_count": null,
   "metadata": {},
   "outputs": [
    {
     "data": {
      "text/plain": [
       "3.0    53\n",
       "2.0    44\n",
       "0.0    38\n",
       "1.0    25\n",
       "4.0     5\n",
       "5.0     4\n",
       "6.0     3\n",
       "Name: exercice, dtype: int64"
      ]
     },
     "execution_count": 104,
     "metadata": {},
     "output_type": "execute_result"
    }
   ],
   "source": [
    "df.exercice.value_counts()"
   ]
  },
  {
   "cell_type": "code",
   "execution_count": null,
   "metadata": {},
   "outputs": [
    {
     "data": {
      "text/plain": [
       "3.0    65\n",
       "2.0    44\n",
       "0.0    38\n",
       "1.0    25\n",
       "Name: exercice, dtype: int64"
      ]
     },
     "execution_count": 105,
     "metadata": {},
     "output_type": "execute_result"
    }
   ],
   "source": [
    "#Check for value ranges and make corrections\n",
    "def polar(x):\n",
    "    if x > 3:\n",
    "        return 3\n",
    "    else:\n",
    "        return x\n",
    "    \n",
    "df.exercice = df.exercice.apply(polar)   \n",
    "df.exercice.value_counts() "
   ]
  },
  {
   "cell_type": "code",
   "execution_count": null,
   "metadata": {},
   "outputs": [
    {
     "data": {
      "text/plain": [
       "gibson                21\n",
       "intellectual          18\n",
       "jemo 2                10\n",
       "abay                   8\n",
       "andinet                7\n",
       "school of nations      6\n",
       "southwest              5\n",
       "flipper                5\n",
       "greek school           4\n",
       "school of tomorrow     4\n",
       "rice                   4\n",
       "stanford               3\n",
       "hilltops               3\n",
       "hidase                 3\n",
       "tuludimtu              3\n",
       "Name: previous_school, dtype: int64"
      ]
     },
     "execution_count": 106,
     "metadata": {},
     "output_type": "execute_result"
    }
   ],
   "source": [
    "df['previous_school'] = df['previous_school'].replace('school of nation', 'school of nations')\n",
    "df['previous_school'] = df['previous_school'].replace('jemo 2 ps', 'jemo 2')\n",
    "df['previous_school'] = df['previous_school'].replace('maariff', 'intellectual')\n",
    "df['previous_school'] = df['previous_school'].replace('maarif', 'intellectual')\n",
    "df['previous_school'] = df['previous_school'].replace('dandi boruu', 'dandii boru')\n",
    "df['previous_school'] = df['previous_school'].replace('school of tomorow', 'school of tomorrow')\n",
    "df['previous_school'] = df['previous_school'].replace('greek', 'greek school')\n",
    "df['previous_school'] = df['previous_school'].replace('ais', 'andinet')\n",
    "df['previous_school'] = df['previous_school'].replace('abune giorgis', 'abune gorgorios')\n",
    "df['previous_school'].value_counts()[:15]"
   ]
  },
  {
   "cell_type": "code",
   "execution_count": null,
   "metadata": {},
   "outputs": [
    {
     "data": {
      "text/plain": [
       "array(['passion', 'gibson', 'dr bekele', 'magic carpet',\n",
       "       'school of nations', 'ethio-parents', 'greek school', 'stanford',\n",
       "       'briscoe junior high', 'beteseb academy', 'jemo 2', 'intellectual',\n",
       "       'reach ic', 'tehadiso', 'neps', 'andinet', 'flipper', 'bgis',\n",
       "       'school of tomorrow', 'kale', 'rice', 'sinzero', 'hilltops',\n",
       "       'yemane birhan', 'meserete edget', 'atse tewedros', 'gofa ps',\n",
       "       'southwest', 'biruh tesfa', 'none', 'yemane berhan', 'mimosa',\n",
       "       'uog community', 'abay', 'mount olive academy', 'akaki mh',\n",
       "       'spring of knowledge', 'kotari', 'abune gorgorios', 'swedish',\n",
       "       'kebena adventist', 'nsl', 'addis sefer', 'tuludimtu', 'radical',\n",
       "       'reach', 'kelem', 'fentaw dinku', 'nazreth', 'st theresa',\n",
       "       'embutoch', 'mekanisa abadir', 'mount olive', 'safari', 'gss',\n",
       "       'mark', 'allen', 'tehadso', 'meskaye', 'hidase', 'nobles',\n",
       "       'alem birhan', 'mhm', 'tadagiwa', 'dandii boru', 'menbere hiwot',\n",
       "       'jfk', 'alembank', 'character hallmark', 'scs'], dtype=object)"
      ]
     },
     "execution_count": 107,
     "metadata": {},
     "output_type": "execute_result"
    }
   ],
   "source": [
    "df.previous_school.unique()\n",
    "#private #govt #foriegn"
   ]
  },
  {
   "cell_type": "code",
   "execution_count": null,
   "metadata": {},
   "outputs": [
    {
     "data": {
      "text/plain": [
       "eth-lang    152\n",
       "for-lang     20\n",
       "Name: mother_tongue, dtype: int64"
      ]
     },
     "execution_count": 108,
     "metadata": {},
     "output_type": "execute_result"
    }
   ],
   "source": [
    "df.mother_tongue.value_counts()\n",
    "df.mother_tongue = df['mother_tongue'].replace('harrari', 'eth-lang')\n",
    "df.mother_tongue = df['mother_tongue'].replace('tigrigna', 'eth-lang')\n",
    "df.mother_tongue = df['mother_tongue'].replace('amharic', 'eth-lang')\n",
    "df.mother_tongue = df['mother_tongue'].replace('harari', 'eth-lang')\n",
    "df.mother_tongue = df['mother_tongue'].replace('russian', 'for-lang')\n",
    "df.mother_tongue = df['mother_tongue'].replace('english', 'for-lang')\n",
    "df.mother_tongue = df['mother_tongue'].replace('arabic', 'for-lang')\n",
    "df.mother_tongue = df['mother_tongue'].replace('hebrew', 'for-lang')\n",
    "df.mother_tongue.value_counts()"
   ]
  },
  {
   "cell_type": "code",
   "execution_count": null,
   "metadata": {},
   "outputs": [
    {
     "data": {
      "text/plain": [
       "no     107\n",
       "yes     65\n",
       "Name: curriculum, dtype: int64"
      ]
     },
     "execution_count": 109,
     "metadata": {},
     "output_type": "execute_result"
    }
   ],
   "source": [
    "df['curriculum'].value_counts()"
   ]
  },
  {
   "cell_type": "code",
   "execution_count": null,
   "metadata": {},
   "outputs": [
    {
     "data": {
      "text/plain": [
       "array([ 7. ,  7.5,  8. ,  8.5,  9. , 10. ,  6. ,  5.5,  6.5,  5. ,  3. ,\n",
       "        4. ,  4.5])"
      ]
     },
     "execution_count": 110,
     "metadata": {},
     "output_type": "execute_result"
    }
   ],
   "source": [
    "df['sleeping time_in_pm'].unique()"
   ]
  },
  {
   "cell_type": "code",
   "execution_count": null,
   "metadata": {},
   "outputs": [
    {
     "data": {
      "text/plain": [
       "authoritative     134\n",
       "authoritarian      23\n",
       "permissive          6\n",
       "authoritaive        2\n",
       "authorittaive       2\n",
       "authoratiarian      1\n",
       "pemissive           1\n",
       "-                   1\n",
       "authortative        1\n",
       "authoriative        1\n",
       "Name: parenting_style, dtype: int64"
      ]
     },
     "execution_count": 111,
     "metadata": {},
     "output_type": "execute_result"
    }
   ],
   "source": [
    "df.parenting_style.value_counts()\n",
    "### A lot of Data Cleaning to do here\n",
    "### Refer to Data Cleaning Checklist on Notion"
   ]
  },
  {
   "cell_type": "code",
   "execution_count": null,
   "metadata": {},
   "outputs": [
    {
     "data": {
      "text/plain": [
       "authoritative    141\n",
       "authoritarian     24\n",
       "permissive         7\n",
       "Name: parenting_style, dtype: int64"
      ]
     },
     "execution_count": 112,
     "metadata": {},
     "output_type": "execute_result"
    }
   ],
   "source": [
    "df.parenting_style = df['parenting_style'].replace('authoritaive', 'authoritative')\n",
    "df.parenting_style = df['parenting_style'].replace('authorittaive', 'authoritative')\n",
    "df.parenting_style = df['parenting_style'].replace('authortative', 'authoritative')\n",
    "df.parenting_style = df['parenting_style'].replace('authoriative', 'authoritative')\n",
    "df.parenting_style = df['parenting_style'].replace('pemissive', 'permissive')\n",
    "df.parenting_style = df['parenting_style'].replace('authoratiarian', 'authoritarian')\n",
    "df.parenting_style = df['parenting_style'].replace('-', 'authoritative')\n",
    "df.parenting_style.value_counts()"
   ]
  },
  {
   "cell_type": "code",
   "execution_count": null,
   "metadata": {},
   "outputs": [
    {
     "data": {
      "image/png": "[encoded data removed]",
      "text/plain": [
       "<Figure size 520x280 with 1 Axes>"
      ]
     },
     "metadata": {},
     "output_type": "display_data"
    }
   ],
   "source": [
    "sns.set(rc={'figure.figsize':(5.2,2.8)})\n",
    "sns.set_palette(\"Blues_r\")\n",
    "sns.set_style(\"white\")\n",
    "ax = sns.countplot(data = df, y='parenting_style', order=df['parenting_style'].value_counts().index)\n",
    "sns.despine(top=False, left=True, bottom=True)\n",
    "plt.ylabel(\"\", size=10)\n",
    "plt.xlabel(\"\", size=10)\n",
    "plt.title(\"Parenting Style\")\n",
    "ax.tick_params(bottom=False)\n",
    "ax.tick_params(left=False)\n",
    "ax.xaxis.tick_top()"
   ]
  },
  {
   "cell_type": "code",
   "execution_count": null,
   "metadata": {},
   "outputs": [
    {
     "data": {
      "text/plain": [
       "0.0    134\n",
       "1.0     38\n",
       "Name: trauma, dtype: int64"
      ]
     },
     "execution_count": 114,
     "metadata": {},
     "output_type": "execute_result"
    }
   ],
   "source": [
    "df['trauma'].value_counts()"
   ]
  },
  {
   "cell_type": "code",
   "execution_count": null,
   "metadata": {},
   "outputs": [
    {
     "data": {
      "text/plain": [
       "none                  146\n",
       "emotional               5\n",
       "emo,psy                 4\n",
       "-                       3\n",
       "physical                2\n",
       "physcological           2\n",
       "phy                     1\n",
       "phyemo                  1\n",
       "phys                    1\n",
       "physical&emotional      1\n",
       "psycological            1\n",
       "emopsy                  1\n",
       "x                       1\n",
       "phypsy                  1\n",
       "phyemopsy               1\n",
       "emoxpsy                 1\n",
       "Name: type, dtype: int64"
      ]
     },
     "execution_count": 115,
     "metadata": {},
     "output_type": "execute_result"
    }
   ],
   "source": [
    "df['type'].value_counts()"
   ]
  },
  {
   "cell_type": "code",
   "execution_count": null,
   "metadata": {},
   "outputs": [
    {
     "data": {
      "text/plain": [
       "86.90930232558141"
      ]
     },
     "execution_count": 116,
     "metadata": {},
     "output_type": "execute_result"
    }
   ],
   "source": [
    "df.gpa.mean()"
   ]
  },
  {
   "cell_type": "code",
   "execution_count": null,
   "metadata": {},
   "outputs": [
    {
     "data": {
      "text/plain": [
       "84.93662790697675"
      ]
     },
     "execution_count": 117,
     "metadata": {},
     "output_type": "execute_result"
    }
   ],
   "source": [
    "df.matrik.mean()"
   ]
  },
  {
   "cell_type": "code",
   "execution_count": null,
   "metadata": {},
   "outputs": [
    {
     "data": {
      "text/plain": [
       "3.765988372093023"
      ]
     },
     "execution_count": 118,
     "metadata": {},
     "output_type": "execute_result"
    }
   ],
   "source": [
    "df.quality.mean()"
   ]
  },
  {
   "cell_type": "code",
   "execution_count": null,
   "metadata": {},
   "outputs": [
    {
     "name": "stdout",
     "output_type": "stream",
     "text": [
      "<class 'pandas.core.frame.DataFrame'>\n",
      "RangeIndex: 172 entries, 0 to 171\n",
      "Data columns (total 42 columns):\n",
      " #   Column                      Non-Null Count  Dtype  \n",
      "---  ------                      --------------  -----  \n",
      " 0   name                        172 non-null    object \n",
      " 1   conduct                     172 non-null    object \n",
      " 2   age                         172 non-null    int64  \n",
      " 3   gender                      172 non-null    object \n",
      " 4   nationality                 172 non-null    object \n",
      " 5   pob                         172 non-null    object \n",
      " 6   tutor/makeup                172 non-null    object \n",
      " 7   grade                       172 non-null    int64  \n",
      " 8   admission                   172 non-null    object \n",
      " 9   guardian                    172 non-null    object \n",
      " 10  time_with_parents           172 non-null    object \n",
      " 11  communication_with_parents  172 non-null    object \n",
      " 12  reward_for_achievements     172 non-null    object \n",
      " 13  parent_understanding        172 non-null    object \n",
      " 14  transport_type              172 non-null    object \n",
      " 15  residence                   172 non-null    object \n",
      " 16  travel time                 172 non-null    object \n",
      " 17  birth_order                 172 non-null    object \n",
      " 18  exercice                    172 non-null    float64\n",
      " 19  previous_school             172 non-null    object \n",
      " 20  mother_tongue               172 non-null    object \n",
      " 21  curriculum                  172 non-null    object \n",
      " 22  sleeping time_in_pm         172 non-null    float64\n",
      " 23  parenting_style             172 non-null    object \n",
      " 24  trauma                      172 non-null    float64\n",
      " 25  type                        172 non-null    object \n",
      " 26  quality                     172 non-null    float64\n",
      " 27  literature                  172 non-null    float64\n",
      " 28  eng                         172 non-null    float64\n",
      " 29  maths                       172 non-null    float64\n",
      " 30  physics                     139 non-null    float64\n",
      " 31  chemistry                   139 non-null    float64\n",
      " 32  biology                     139 non-null    float64\n",
      " 33  geography                   134 non-null    float64\n",
      " 34  history                     134 non-null    float64\n",
      " 35  civics                      172 non-null    float64\n",
      " 36  amharic                     172 non-null    float64\n",
      " 37  ict                         172 non-null    float64\n",
      " 38  ent-ship                    134 non-null    float64\n",
      " 39  hpe                         172 non-null    float64\n",
      " 40  gpa                         172 non-null    float64\n",
      " 41  matrik                      172 non-null    float64\n",
      "dtypes: float64(19), int64(2), object(21)\n",
      "memory usage: 56.6+ KB\n"
     ]
    }
   ],
   "source": [
    "df.info()"
   ]
  },
  {
   "cell_type": "code",
   "execution_count": null,
   "metadata": {},
   "outputs": [
    {
     "data": {
      "text/plain": [
       "name                           0\n",
       "conduct                        0\n",
       "age                            0\n",
       "gender                         0\n",
       "nationality                    0\n",
       "pob                            0\n",
       "tutor/makeup                   0\n",
       "grade                          0\n",
       "admission                      0\n",
       "guardian                       0\n",
       "time_with_parents              0\n",
       "communication_with_parents     0\n",
       "reward_for_achievements        0\n",
       "parent_understanding           0\n",
       "transport_type                 0\n",
       "residence                      0\n",
       "travel time                    0\n",
       "birth_order                    0\n",
       "exercice                       0\n",
       "previous_school                0\n",
       "mother_tongue                  0\n",
       "curriculum                     0\n",
       "sleeping time_in_pm            0\n",
       "parenting_style                0\n",
       "trauma                         0\n",
       "type                           0\n",
       "quality                        0\n",
       "literature                     0\n",
       "eng                            0\n",
       "maths                          0\n",
       "physics                       33\n",
       "chemistry                     33\n",
       "biology                       33\n",
       "geography                     38\n",
       "history                       38\n",
       "civics                         0\n",
       "amharic                        0\n",
       "ict                            0\n",
       "ent-ship                      38\n",
       "hpe                            0\n",
       "gpa                            0\n",
       "matrik                         0\n",
       "dtype: int64"
      ]
     },
     "execution_count": 120,
     "metadata": {},
     "output_type": "execute_result"
    }
   ],
   "source": [
    "df.isna().sum()"
   ]
  },
  {
   "cell_type": "code",
   "execution_count": null,
   "metadata": {},
   "outputs": [
    {
     "data": {
      "text/html": [
       "<div>\n",
       "<style scoped>\n",
       "    .dataframe tbody tr th:only-of-type {\n",
       "        vertical-align: middle;\n",
       "    }\n",
       "\n",
       "    .dataframe tbody tr th {\n",
       "        vertical-align: top;\n",
       "    }\n",
       "\n",
       "    .dataframe thead th {\n",
       "        text-align: right;\n",
       "    }\n",
       "</style>\n",
       "<table border=\"1\" class=\"dataframe\">\n",
       "  <thead>\n",
       "    <tr style=\"text-align: right;\">\n",
       "      <th></th>\n",
       "      <th>name</th>\n",
       "      <th>conduct</th>\n",
       "      <th>age</th>\n",
       "      <th>gender</th>\n",
       "      <th>nationality</th>\n",
       "      <th>pob</th>\n",
       "      <th>tutor/makeup</th>\n",
       "      <th>grade</th>\n",
       "      <th>admission</th>\n",
       "      <th>guardian</th>\n",
       "      <th>...</th>\n",
       "      <th>biology</th>\n",
       "      <th>geography</th>\n",
       "      <th>history</th>\n",
       "      <th>civics</th>\n",
       "      <th>amharic</th>\n",
       "      <th>ict</th>\n",
       "      <th>ent-ship</th>\n",
       "      <th>hpe</th>\n",
       "      <th>gpa</th>\n",
       "      <th>matrik</th>\n",
       "    </tr>\n",
       "  </thead>\n",
       "  <tbody>\n",
       "  </tbody>\n",
       "</table>\n",
       "<p>0 rows × 42 columns</p>\n",
       "</div>"
      ],
      "text/plain": [
       "Empty DataFrame\n",
       "Columns: [name, conduct, age, gender, nationality, pob, tutor/makeup, grade, admission, guardian, time_with_parents, communication_with_parents, reward_for_achievements, parent_understanding, transport_type, residence, travel time, birth_order, exercice, previous_school, mother_tongue, curriculum, sleeping time_in_pm, parenting_style, trauma, type, quality, literature, eng, maths, physics, chemistry, biology, geography, history, civics, amharic, ict, ent-ship, hpe, gpa, matrik]\n",
       "Index: []\n",
       "\n",
       "[0 rows x 42 columns]"
      ]
     },
     "execution_count": 121,
     "metadata": {},
     "output_type": "execute_result"
    }
   ],
   "source": [
    "df[df.duplicated()==True]\n",
    "#no duplicate values"
   ]
  },
  {
   "cell_type": "code",
   "execution_count": null,
   "metadata": {},
   "outputs": [],
   "source": [
    "#df.to_csv(\"../data/hsv7.csv\",index=False)"
   ]
  },
  {
   "cell_type": "code",
   "execution_count": null,
   "metadata": {},
   "outputs": [],
   "source": []
  }
 ],
 "metadata": {
  "kernelspec": {
   "display_name": "base",
   "language": "python",
   "name": "python3"
  },
  "language_info": {
   "codemirror_mode": {
    "name": "ipython",
    "version": 3
   },
   "file_extension": ".py",
   "mimetype": "text/x-python",
   "name": "python",
   "nbconvert_exporter": "python",
   "pygments_lexer": "ipython3",
   "version": "3.9.13"
  },
  "orig_nbformat": 4
 },
 "nbformat": 4,
 "nbformat_minor": 2
}
