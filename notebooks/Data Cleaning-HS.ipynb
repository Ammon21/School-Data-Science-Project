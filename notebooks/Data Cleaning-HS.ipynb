{
 "cells": [
  {
   "cell_type": "markdown",
   "metadata": {},
   "source": [
    "### LIA middle school students Analysis"
   ]
  },
  {
   "cell_type": "markdown",
   "metadata": {},
   "source": [
    "Loading Libraries"
   ]
  },
  {
   "cell_type": "code",
   "execution_count": 3,
   "metadata": {},
   "outputs": [],
   "source": [
    "import pandas as pd\n",
    "import numpy as np\n",
    "import seaborn as sns\n",
    "import matplotlib.pyplot as plt\n",
    "import sys, os\n",
    "\n",
    "import warnings\n",
    "warnings.filterwarnings('ignore')\n",
    "#pd.set_option('display.max_columns', 70)\n",
    "\n",
    "sys.path.append(os.path.abspath(os.path.join('../scripts')))\n",
    "from cleaner import *\n",
    "from visualizer import *\n"
   ]
  },
  {
   "attachments": {},
   "cell_type": "markdown",
   "metadata": {},
   "source": [
    "Loading data"
   ]
  },
  {
   "cell_type": "code",
   "execution_count": 4,
   "metadata": {},
   "outputs": [
    {
     "data": {
      "text/html": [
       "<div>\n",
       "<style scoped>\n",
       "    .dataframe tbody tr th:only-of-type {\n",
       "        vertical-align: middle;\n",
       "    }\n",
       "\n",
       "    .dataframe tbody tr th {\n",
       "        vertical-align: top;\n",
       "    }\n",
       "\n",
       "    .dataframe thead th {\n",
       "        text-align: right;\n",
       "    }\n",
       "</style>\n",
       "<table border=\"1\" class=\"dataframe\">\n",
       "  <thead>\n",
       "    <tr style=\"text-align: right;\">\n",
       "      <th></th>\n",
       "      <th>Name</th>\n",
       "      <th>Age</th>\n",
       "      <th>Gender</th>\n",
       "      <th>Nationality</th>\n",
       "      <th>POB</th>\n",
       "      <th>Tutor/Makeup</th>\n",
       "      <th>Grade</th>\n",
       "      <th>Admission</th>\n",
       "      <th>Guardian</th>\n",
       "      <th>time_with_parents</th>\n",
       "      <th>...</th>\n",
       "      <th>Physics</th>\n",
       "      <th>Chemistry</th>\n",
       "      <th>Biology</th>\n",
       "      <th>Geography</th>\n",
       "      <th>History</th>\n",
       "      <th>Civics</th>\n",
       "      <th>Amharic</th>\n",
       "      <th>ICT</th>\n",
       "      <th>Ent-ship</th>\n",
       "      <th>HPE</th>\n",
       "    </tr>\n",
       "  </thead>\n",
       "  <tbody>\n",
       "    <tr>\n",
       "      <th>0</th>\n",
       "      <td>Abem Kibru Worku</td>\n",
       "      <td>15</td>\n",
       "      <td>M</td>\n",
       "      <td>Ethiopian</td>\n",
       "      <td>Ethiopia</td>\n",
       "      <td>no</td>\n",
       "      <td>9</td>\n",
       "      <td>Paid</td>\n",
       "      <td>Both</td>\n",
       "      <td>little</td>\n",
       "      <td>...</td>\n",
       "      <td>72.76</td>\n",
       "      <td>44.70</td>\n",
       "      <td>66.37</td>\n",
       "      <td>73.02</td>\n",
       "      <td>72.19</td>\n",
       "      <td>87.43</td>\n",
       "      <td>96.58</td>\n",
       "      <td>71.31</td>\n",
       "      <td>76.26</td>\n",
       "      <td>64.90</td>\n",
       "    </tr>\n",
       "    <tr>\n",
       "      <th>1</th>\n",
       "      <td>Amanuel Demeke Hailu</td>\n",
       "      <td>14</td>\n",
       "      <td>M</td>\n",
       "      <td>Ethiopian</td>\n",
       "      <td>Addis Ababa</td>\n",
       "      <td>no</td>\n",
       "      <td>9</td>\n",
       "      <td>Paid</td>\n",
       "      <td>both</td>\n",
       "      <td>little</td>\n",
       "      <td>...</td>\n",
       "      <td>70.85</td>\n",
       "      <td>77.20</td>\n",
       "      <td>69.77</td>\n",
       "      <td>74.17</td>\n",
       "      <td>81.65</td>\n",
       "      <td>76.48</td>\n",
       "      <td>84.84</td>\n",
       "      <td>80.42</td>\n",
       "      <td>77.16</td>\n",
       "      <td>86.00</td>\n",
       "    </tr>\n",
       "    <tr>\n",
       "      <th>2</th>\n",
       "      <td>Ananya Girma Tegegn</td>\n",
       "      <td>14</td>\n",
       "      <td>M</td>\n",
       "      <td>Ethiopian</td>\n",
       "      <td>Addis Ababa</td>\n",
       "      <td>no</td>\n",
       "      <td>9</td>\n",
       "      <td>Scholarship</td>\n",
       "      <td>both</td>\n",
       "      <td>a lot</td>\n",
       "      <td>...</td>\n",
       "      <td>85.77</td>\n",
       "      <td>97.90</td>\n",
       "      <td>96.27</td>\n",
       "      <td>95.33</td>\n",
       "      <td>83.40</td>\n",
       "      <td>93.05</td>\n",
       "      <td>97.18</td>\n",
       "      <td>94.27</td>\n",
       "      <td>88.76</td>\n",
       "      <td>89.50</td>\n",
       "    </tr>\n",
       "    <tr>\n",
       "      <th>3</th>\n",
       "      <td>Blen Amare Mesfin</td>\n",
       "      <td>15</td>\n",
       "      <td>F</td>\n",
       "      <td>Ethiopian</td>\n",
       "      <td>Addis Ababa</td>\n",
       "      <td>no</td>\n",
       "      <td>9</td>\n",
       "      <td>Paid</td>\n",
       "      <td>both</td>\n",
       "      <td>a lot</td>\n",
       "      <td>...</td>\n",
       "      <td>67.95</td>\n",
       "      <td>76.70</td>\n",
       "      <td>79.35</td>\n",
       "      <td>78.50</td>\n",
       "      <td>75.03</td>\n",
       "      <td>83.81</td>\n",
       "      <td>96.15</td>\n",
       "      <td>88.55</td>\n",
       "      <td>83.16</td>\n",
       "      <td>84.00</td>\n",
       "    </tr>\n",
       "    <tr>\n",
       "      <th>4</th>\n",
       "      <td>Dagmawi Misganaw Bimerew</td>\n",
       "      <td>14</td>\n",
       "      <td>M</td>\n",
       "      <td>Ethiopian</td>\n",
       "      <td>Ethiopia</td>\n",
       "      <td>yes</td>\n",
       "      <td>9</td>\n",
       "      <td>Paid</td>\n",
       "      <td>both</td>\n",
       "      <td>a lot</td>\n",
       "      <td>...</td>\n",
       "      <td>76.69</td>\n",
       "      <td>71.97</td>\n",
       "      <td>84.72</td>\n",
       "      <td>85.04</td>\n",
       "      <td>84.30</td>\n",
       "      <td>88.48</td>\n",
       "      <td>94.10</td>\n",
       "      <td>92.66</td>\n",
       "      <td>85.66</td>\n",
       "      <td>93.25</td>\n",
       "    </tr>\n",
       "  </tbody>\n",
       "</table>\n",
       "<p>5 rows × 38 columns</p>\n",
       "</div>"
      ],
      "text/plain": [
       "                       Name  Age Gender Nationality          POB Tutor/Makeup  \\\n",
       "0          Abem Kibru Worku   15      M   Ethiopian     Ethiopia           no   \n",
       "1      Amanuel Demeke Hailu   14      M   Ethiopian  Addis Ababa           no   \n",
       "2       Ananya Girma Tegegn   14      M   Ethiopian  Addis Ababa           no   \n",
       "3         Blen Amare Mesfin   15      F   Ethiopian  Addis Ababa           no   \n",
       "4  Dagmawi Misganaw Bimerew   14      M   Ethiopian     Ethiopia          yes   \n",
       "\n",
       "   Grade    Admission Guardian time_with_parents  ... Physics Chemistry  \\\n",
       "0      9         Paid     Both            little  ...   72.76     44.70   \n",
       "1      9         Paid     both            little  ...   70.85     77.20   \n",
       "2      9  Scholarship     both             a lot  ...   85.77     97.90   \n",
       "3      9         Paid     both             a lot  ...   67.95     76.70   \n",
       "4      9         Paid     both             a lot  ...   76.69     71.97   \n",
       "\n",
       "  Biology Geography History Civics Amharic    ICT Ent-ship    HPE  \n",
       "0   66.37     73.02   72.19  87.43   96.58  71.31    76.26  64.90  \n",
       "1   69.77     74.17   81.65  76.48   84.84  80.42    77.16  86.00  \n",
       "2   96.27     95.33   83.40  93.05   97.18  94.27    88.76  89.50  \n",
       "3   79.35     78.50   75.03  83.81   96.15  88.55    83.16  84.00  \n",
       "4   84.72     85.04   84.30  88.48   94.10  92.66    85.66  93.25  \n",
       "\n",
       "[5 rows x 38 columns]"
      ]
     },
     "execution_count": 4,
     "metadata": {},
     "output_type": "execute_result"
    }
   ],
   "source": [
    "df = pd.read_csv(\"../data/mergedhighschool.csv\")\n",
    "df.head()"
   ]
  },
  {
   "cell_type": "code",
   "execution_count": 5,
   "metadata": {},
   "outputs": [
    {
     "name": "stdout",
     "output_type": "stream",
     "text": [
      "Middle_school Students Missing Data\n",
      "<class 'pandas.core.frame.DataFrame'>\n",
      "RangeIndex: 172 entries, 0 to 171\n",
      "Data columns (total 38 columns):\n",
      " #   Column                      Non-Null Count  Dtype  \n",
      "---  ------                      --------------  -----  \n",
      " 0   Name                        172 non-null    object \n",
      " 1   Age                         172 non-null    int64  \n",
      " 2   Gender                      172 non-null    object \n",
      " 3   Nationality                 172 non-null    object \n",
      " 4   POB                         172 non-null    object \n",
      " 5   Tutor/Makeup                172 non-null    object \n",
      " 6   Grade                       172 non-null    int64  \n",
      " 7   Admission                   172 non-null    object \n",
      " 8   Guardian                    171 non-null    object \n",
      " 9   time_with_parents           167 non-null    object \n",
      " 10  communication_with_parents  167 non-null    object \n",
      " 11  Reward_for_achievements     167 non-null    object \n",
      " 12  parent_understanding        167 non-null    object \n",
      " 13  Transport_type              172 non-null    object \n",
      " 14  Residence                   171 non-null    object \n",
      " 15  Travel Time                 170 non-null    object \n",
      " 16  Birth_order                 172 non-null    object \n",
      " 17  Exercice                    171 non-null    float64\n",
      " 18  Previous_school             172 non-null    object \n",
      " 19  mother_tongue               169 non-null    object \n",
      " 20  Curriculum                  171 non-null    object \n",
      " 21  Sleeping time_in_pm         164 non-null    float64\n",
      " 22  parenting_style             164 non-null    object \n",
      " 23  Trauma                      170 non-null    float64\n",
      " 24  Type                        170 non-null    object \n",
      " 25  Literature                  172 non-null    float64\n",
      " 26  Eng                         100 non-null    float64\n",
      " 27  Maths                       171 non-null    float64\n",
      " 28  Physics                     139 non-null    float64\n",
      " 29  Chemistry                   139 non-null    float64\n",
      " 30  Biology                     139 non-null    float64\n",
      " 31  Geography                   133 non-null    float64\n",
      " 32  History                     134 non-null    float64\n",
      " 33  Civics                      171 non-null    float64\n",
      " 34  Amharic                     170 non-null    float64\n",
      " 35  ICT                         171 non-null    float64\n",
      " 36  Ent-ship                    134 non-null    float64\n",
      " 37  HPE                         172 non-null    float64\n",
      "dtypes: float64(16), int64(2), object(20)\n",
      "memory usage: 51.2+ KB\n"
     ]
    }
   ],
   "source": [
    "print('Middle_school Students Missing Data')\n",
    "df.info()"
   ]
  },
  {
   "cell_type": "code",
   "execution_count": 6,
   "metadata": {},
   "outputs": [
    {
     "data": {
      "text/plain": [
       "Index(['name', 'age', 'gender', 'nationality', 'pob', 'tutor/makeup', 'grade',\n",
       "       'admission', 'guardian', 'time_with_parents',\n",
       "       'communication_with_parents', 'reward_for_achievements',\n",
       "       'parent_understanding', 'transport_type', 'residence', 'travel time',\n",
       "       'birth_order', 'exercice', 'previous_school', 'mother_tongue',\n",
       "       'curriculum', 'sleeping time_in_pm', 'parenting_style', 'trauma',\n",
       "       'type', 'literature', 'eng', 'maths', 'physics', 'chemistry', 'biology',\n",
       "       'geography', 'history', 'civics', 'amharic', 'ict', 'ent-ship', 'hpe'],\n",
       "      dtype='object')"
      ]
     },
     "execution_count": 6,
     "metadata": {},
     "output_type": "execute_result"
    }
   ],
   "source": [
    "df.columns = df.columns.str.lower()\n",
    "df.columns"
   ]
  },
  {
   "cell_type": "markdown",
   "metadata": {},
   "source": [
    "#### Checking Missing Values"
   ]
  },
  {
   "cell_type": "code",
   "execution_count": 7,
   "metadata": {},
   "outputs": [
    {
     "data": {
      "text/plain": [
       "name                           0\n",
       "age                            0\n",
       "gender                         0\n",
       "nationality                    0\n",
       "pob                            0\n",
       "tutor/makeup                   0\n",
       "grade                          0\n",
       "admission                      0\n",
       "guardian                       1\n",
       "time_with_parents              5\n",
       "communication_with_parents     5\n",
       "reward_for_achievements        5\n",
       "parent_understanding           5\n",
       "transport_type                 0\n",
       "residence                      1\n",
       "travel time                    2\n",
       "birth_order                    0\n",
       "exercice                       1\n",
       "previous_school                0\n",
       "mother_tongue                  3\n",
       "curriculum                     1\n",
       "sleeping time_in_pm            8\n",
       "parenting_style                8\n",
       "trauma                         2\n",
       "type                           2\n",
       "literature                     0\n",
       "eng                           72\n",
       "maths                          1\n",
       "physics                       33\n",
       "chemistry                     33\n",
       "biology                       33\n",
       "geography                     39\n",
       "history                       38\n",
       "civics                         1\n",
       "amharic                        2\n",
       "ict                            1\n",
       "ent-ship                      38\n",
       "hpe                            0\n",
       "dtype: int64"
      ]
     },
     "execution_count": 7,
     "metadata": {},
     "output_type": "execute_result"
    }
   ],
   "source": [
    "df.isna().sum()"
   ]
  },
  {
   "attachments": {},
   "cell_type": "markdown",
   "metadata": {},
   "source": [
    "### Filling Missing Values"
   ]
  },
  {
   "cell_type": "code",
   "execution_count": 8,
   "metadata": {},
   "outputs": [],
   "source": [
    "df['parenting_style'].fillna(df['parenting_style'].mode()[0], inplace=True)\n",
    "df['time_with_parents'].fillna(df['time_with_parents'].mode()[0], inplace=True)\n",
    "df['communication_with_parents'].fillna(df['communication_with_parents'].mode()[0], inplace=True)\n",
    "df['reward_for_achievements'].fillna(df['reward_for_achievements'].mode()[0], inplace=True)\n",
    "df['parent_understanding'].fillna(df['parent_understanding'].mode()[0], inplace=True)\n",
    "df['travel time'].fillna(df['travel time'].mode()[0], inplace=True)\n",
    "df['mother_tongue'].fillna(df['mother_tongue'].mode()[0], inplace=True)\n",
    "df['curriculum'].fillna(df['curriculum'].mode()[0], inplace=True)\n",
    "df['trauma'].fillna(df['trauma'].mode()[0], inplace=True)\n",
    "df['exercice'].fillna(df['exercice'].mode()[0], inplace=True)\n",
    "df['type'].fillna(df['type'].mode()[0], inplace=True)\n",
    "df['sleeping time_in_pm'].fillna(df['sleeping time_in_pm'].mode()[0], inplace=True)\n",
    "df['residence'].fillna(df['residence'].mode()[0], inplace=True)\n",
    "df['guardian'].fillna(df['guardian'].mode()[0], inplace=True)\n",
    "\n"
   ]
  },
  {
   "cell_type": "code",
   "execution_count": 9,
   "metadata": {},
   "outputs": [
    {
     "data": {
      "text/plain": [
       "name                           0\n",
       "age                            0\n",
       "gender                         0\n",
       "nationality                    0\n",
       "pob                            0\n",
       "tutor/makeup                   0\n",
       "grade                          0\n",
       "admission                      0\n",
       "guardian                       0\n",
       "time_with_parents              0\n",
       "communication_with_parents     0\n",
       "reward_for_achievements        0\n",
       "parent_understanding           0\n",
       "transport_type                 0\n",
       "residence                      0\n",
       "travel time                    0\n",
       "birth_order                    0\n",
       "exercice                       0\n",
       "previous_school                0\n",
       "mother_tongue                  0\n",
       "curriculum                     0\n",
       "sleeping time_in_pm            0\n",
       "parenting_style                0\n",
       "trauma                         0\n",
       "type                           0\n",
       "literature                     0\n",
       "eng                           72\n",
       "maths                          1\n",
       "physics                       33\n",
       "chemistry                     33\n",
       "biology                       33\n",
       "geography                     39\n",
       "history                       38\n",
       "civics                         1\n",
       "amharic                        2\n",
       "ict                            1\n",
       "ent-ship                      38\n",
       "hpe                            0\n",
       "dtype: int64"
      ]
     },
     "execution_count": 9,
     "metadata": {},
     "output_type": "execute_result"
    }
   ],
   "source": [
    "df.isna().sum()"
   ]
  },
  {
   "attachments": {},
   "cell_type": "markdown",
   "metadata": {},
   "source": [
    "#####  Saving version3 of data into csv"
   ]
  },
  {
   "cell_type": "code",
   "execution_count": 10,
   "metadata": {},
   "outputs": [],
   "source": [
    "#df.to_csv('ms_nomv.csv', index=False)"
   ]
  },
  {
   "cell_type": "code",
   "execution_count": 11,
   "metadata": {},
   "outputs": [
    {
     "data": {
      "text/plain": [
       "name                           object\n",
       "age                             int64\n",
       "gender                         object\n",
       "nationality                    object\n",
       "pob                            object\n",
       "tutor/makeup                   object\n",
       "grade                           int64\n",
       "admission                      object\n",
       "guardian                       object\n",
       "time_with_parents              object\n",
       "communication_with_parents     object\n",
       "reward_for_achievements        object\n",
       "parent_understanding           object\n",
       "transport_type                 object\n",
       "residence                      object\n",
       "travel time                    object\n",
       "birth_order                    object\n",
       "exercice                      float64\n",
       "previous_school                object\n",
       "mother_tongue                  object\n",
       "curriculum                     object\n",
       "sleeping time_in_pm           float64\n",
       "parenting_style                object\n",
       "trauma                        float64\n",
       "type                           object\n",
       "literature                    float64\n",
       "eng                           float64\n",
       "maths                         float64\n",
       "physics                       float64\n",
       "chemistry                     float64\n",
       "biology                       float64\n",
       "geography                     float64\n",
       "history                       float64\n",
       "civics                        float64\n",
       "amharic                       float64\n",
       "ict                           float64\n",
       "ent-ship                      float64\n",
       "hpe                           float64\n",
       "dtype: object"
      ]
     },
     "execution_count": 11,
     "metadata": {},
     "output_type": "execute_result"
    }
   ],
   "source": [
    "df.dtypes"
   ]
  },
  {
   "attachments": {},
   "cell_type": "markdown",
   "metadata": {},
   "source": [
    "#### Filling numeric values with mean "
   ]
  },
  {
   "cell_type": "code",
   "execution_count": 12,
   "metadata": {},
   "outputs": [],
   "source": [
    "df['civics'].fillna(df['civics'].mean(), inplace=True)\n",
    "df['amharic'].fillna(df['amharic'].mean(), inplace=True)\n",
    "df['ict'].fillna(df['ict'].mean(), inplace=True)\n",
    "df['maths'].fillna(df['maths'].mean(), inplace=True)"
   ]
  },
  {
   "cell_type": "code",
   "execution_count": 13,
   "metadata": {},
   "outputs": [
    {
     "data": {
      "text/plain": [
       "name                           0\n",
       "age                            0\n",
       "gender                         0\n",
       "nationality                    0\n",
       "pob                            0\n",
       "tutor/makeup                   0\n",
       "grade                          0\n",
       "admission                      0\n",
       "guardian                       0\n",
       "time_with_parents              0\n",
       "communication_with_parents     0\n",
       "reward_for_achievements        0\n",
       "parent_understanding           0\n",
       "transport_type                 0\n",
       "residence                      0\n",
       "travel time                    0\n",
       "birth_order                    0\n",
       "exercice                       0\n",
       "previous_school                0\n",
       "mother_tongue                  0\n",
       "curriculum                     0\n",
       "sleeping time_in_pm            0\n",
       "parenting_style                0\n",
       "trauma                         0\n",
       "type                           0\n",
       "literature                     0\n",
       "eng                           72\n",
       "maths                          0\n",
       "physics                       33\n",
       "chemistry                     33\n",
       "biology                       33\n",
       "geography                     39\n",
       "history                       38\n",
       "civics                         0\n",
       "amharic                        0\n",
       "ict                            0\n",
       "ent-ship                      38\n",
       "hpe                            0\n",
       "dtype: int64"
      ]
     },
     "execution_count": 13,
     "metadata": {},
     "output_type": "execute_result"
    }
   ],
   "source": [
    "df.isna().sum()"
   ]
  },
  {
   "cell_type": "code",
   "execution_count": 14,
   "metadata": {},
   "outputs": [
    {
     "data": {
      "text/html": [
       "<div>\n",
       "<style scoped>\n",
       "    .dataframe tbody tr th:only-of-type {\n",
       "        vertical-align: middle;\n",
       "    }\n",
       "\n",
       "    .dataframe tbody tr th {\n",
       "        vertical-align: top;\n",
       "    }\n",
       "\n",
       "    .dataframe thead th {\n",
       "        text-align: right;\n",
       "    }\n",
       "</style>\n",
       "<table border=\"1\" class=\"dataframe\">\n",
       "  <thead>\n",
       "    <tr style=\"text-align: right;\">\n",
       "      <th></th>\n",
       "      <th>name</th>\n",
       "      <th>geography</th>\n",
       "      <th>grade</th>\n",
       "    </tr>\n",
       "  </thead>\n",
       "  <tbody>\n",
       "    <tr>\n",
       "      <th>120</th>\n",
       "      <td>Abigail Zerihun ewentu</td>\n",
       "      <td>NaN</td>\n",
       "      <td>11</td>\n",
       "    </tr>\n",
       "    <tr>\n",
       "      <th>121</th>\n",
       "      <td>Amlakbekalu Tessema</td>\n",
       "      <td>NaN</td>\n",
       "      <td>11</td>\n",
       "    </tr>\n",
       "    <tr>\n",
       "      <th>122</th>\n",
       "      <td>Birhane Telayneh Kefyalew</td>\n",
       "      <td>NaN</td>\n",
       "      <td>11</td>\n",
       "    </tr>\n",
       "    <tr>\n",
       "      <th>123</th>\n",
       "      <td>Demetrius Zerihun Khasai</td>\n",
       "      <td>NaN</td>\n",
       "      <td>11</td>\n",
       "    </tr>\n",
       "    <tr>\n",
       "      <th>124</th>\n",
       "      <td>Ephrata Tadesse Tefera</td>\n",
       "      <td>NaN</td>\n",
       "      <td>11</td>\n",
       "    </tr>\n",
       "    <tr>\n",
       "      <th>125</th>\n",
       "      <td>Feysel Anwar Surur</td>\n",
       "      <td>NaN</td>\n",
       "      <td>11</td>\n",
       "    </tr>\n",
       "    <tr>\n",
       "      <th>126</th>\n",
       "      <td>Luelue Luqman Kedir</td>\n",
       "      <td>NaN</td>\n",
       "      <td>11</td>\n",
       "    </tr>\n",
       "    <tr>\n",
       "      <th>127</th>\n",
       "      <td>Nuur Ahmed Merduf</td>\n",
       "      <td>NaN</td>\n",
       "      <td>11</td>\n",
       "    </tr>\n",
       "    <tr>\n",
       "      <th>128</th>\n",
       "      <td>Ruth Melknew Chane</td>\n",
       "      <td>NaN</td>\n",
       "      <td>11</td>\n",
       "    </tr>\n",
       "    <tr>\n",
       "      <th>129</th>\n",
       "      <td>Selamawit Kibru Worku</td>\n",
       "      <td>NaN</td>\n",
       "      <td>11</td>\n",
       "    </tr>\n",
       "    <tr>\n",
       "      <th>130</th>\n",
       "      <td>Silondis kenmos tesfaye</td>\n",
       "      <td>NaN</td>\n",
       "      <td>11</td>\n",
       "    </tr>\n",
       "    <tr>\n",
       "      <th>131</th>\n",
       "      <td>Yidedya Feta Nibezo</td>\n",
       "      <td>NaN</td>\n",
       "      <td>11</td>\n",
       "    </tr>\n",
       "    <tr>\n",
       "      <th>132</th>\n",
       "      <td>Afomia Daginenet Yimenu</td>\n",
       "      <td>NaN</td>\n",
       "      <td>12</td>\n",
       "    </tr>\n",
       "    <tr>\n",
       "      <th>133</th>\n",
       "      <td>Alamin Abdulshikur Menu</td>\n",
       "      <td>NaN</td>\n",
       "      <td>12</td>\n",
       "    </tr>\n",
       "    <tr>\n",
       "      <th>134</th>\n",
       "      <td>Amar Sultan fedlu</td>\n",
       "      <td>NaN</td>\n",
       "      <td>12</td>\n",
       "    </tr>\n",
       "    <tr>\n",
       "      <th>135</th>\n",
       "      <td>Ayantu Asrat Gadissa</td>\n",
       "      <td>NaN</td>\n",
       "      <td>12</td>\n",
       "    </tr>\n",
       "    <tr>\n",
       "      <th>136</th>\n",
       "      <td>Aymen Abdella Feyissa</td>\n",
       "      <td>NaN</td>\n",
       "      <td>12</td>\n",
       "    </tr>\n",
       "    <tr>\n",
       "      <th>137</th>\n",
       "      <td>Baselael Mekonen Tesfaye</td>\n",
       "      <td>NaN</td>\n",
       "      <td>12</td>\n",
       "    </tr>\n",
       "    <tr>\n",
       "      <th>138</th>\n",
       "      <td>Fanuel Asfaw Banti</td>\n",
       "      <td>NaN</td>\n",
       "      <td>12</td>\n",
       "    </tr>\n",
       "    <tr>\n",
       "      <th>139</th>\n",
       "      <td>Iman Abdulhakim Gharad</td>\n",
       "      <td>NaN</td>\n",
       "      <td>12</td>\n",
       "    </tr>\n",
       "    <tr>\n",
       "      <th>140</th>\n",
       "      <td>Kaleab Yonas G/mariam</td>\n",
       "      <td>NaN</td>\n",
       "      <td>12</td>\n",
       "    </tr>\n",
       "    <tr>\n",
       "      <th>141</th>\n",
       "      <td>Maedot Kahsay Geberegiorgis</td>\n",
       "      <td>NaN</td>\n",
       "      <td>12</td>\n",
       "    </tr>\n",
       "    <tr>\n",
       "      <th>142</th>\n",
       "      <td>Nathnael Sime Mechal</td>\n",
       "      <td>NaN</td>\n",
       "      <td>12</td>\n",
       "    </tr>\n",
       "    <tr>\n",
       "      <th>143</th>\n",
       "      <td>Nathnael Tilahun Kalew</td>\n",
       "      <td>NaN</td>\n",
       "      <td>12</td>\n",
       "    </tr>\n",
       "    <tr>\n",
       "      <th>144</th>\n",
       "      <td>Rekik Tsegaye Challa</td>\n",
       "      <td>NaN</td>\n",
       "      <td>12</td>\n",
       "    </tr>\n",
       "    <tr>\n",
       "      <th>145</th>\n",
       "      <td>Separa Berhanu Hailemariam</td>\n",
       "      <td>NaN</td>\n",
       "      <td>12</td>\n",
       "    </tr>\n",
       "    <tr>\n",
       "      <th>146</th>\n",
       "      <td>Tariku Samson Hailu</td>\n",
       "      <td>NaN</td>\n",
       "      <td>12</td>\n",
       "    </tr>\n",
       "    <tr>\n",
       "      <th>147</th>\n",
       "      <td>Tesnim Fethi Shami</td>\n",
       "      <td>NaN</td>\n",
       "      <td>12</td>\n",
       "    </tr>\n",
       "    <tr>\n",
       "      <th>148</th>\n",
       "      <td>Yanet Ayanaw Malede</td>\n",
       "      <td>NaN</td>\n",
       "      <td>12</td>\n",
       "    </tr>\n",
       "    <tr>\n",
       "      <th>149</th>\n",
       "      <td>Bereket Yimolal Tiruneh</td>\n",
       "      <td>NaN</td>\n",
       "      <td>12</td>\n",
       "    </tr>\n",
       "    <tr>\n",
       "      <th>150</th>\n",
       "      <td>Elroi Abebaw Getachew</td>\n",
       "      <td>NaN</td>\n",
       "      <td>12</td>\n",
       "    </tr>\n",
       "    <tr>\n",
       "      <th>151</th>\n",
       "      <td>Ermias Haimanot Tsegaye</td>\n",
       "      <td>NaN</td>\n",
       "      <td>12</td>\n",
       "    </tr>\n",
       "    <tr>\n",
       "      <th>152</th>\n",
       "      <td>Eyob Kebede Atisedi</td>\n",
       "      <td>NaN</td>\n",
       "      <td>12</td>\n",
       "    </tr>\n",
       "    <tr>\n",
       "      <th>153</th>\n",
       "      <td>Sophia Jemal Edris</td>\n",
       "      <td>NaN</td>\n",
       "      <td>12</td>\n",
       "    </tr>\n",
       "    <tr>\n",
       "      <th>154</th>\n",
       "      <td>Stefan Daniel Seleshi</td>\n",
       "      <td>NaN</td>\n",
       "      <td>12</td>\n",
       "    </tr>\n",
       "    <tr>\n",
       "      <th>155</th>\n",
       "      <td>Selam Wudma Sahile</td>\n",
       "      <td>NaN</td>\n",
       "      <td>12</td>\n",
       "    </tr>\n",
       "    <tr>\n",
       "      <th>156</th>\n",
       "      <td>Marta Alemayehu Assefa</td>\n",
       "      <td>NaN</td>\n",
       "      <td>12</td>\n",
       "    </tr>\n",
       "    <tr>\n",
       "      <th>157</th>\n",
       "      <td>Leoul Hailu Woldeyes</td>\n",
       "      <td>NaN</td>\n",
       "      <td>12</td>\n",
       "    </tr>\n",
       "    <tr>\n",
       "      <th>158</th>\n",
       "      <td>Abimelek Daniel Tekalign</td>\n",
       "      <td>NaN</td>\n",
       "      <td>12</td>\n",
       "    </tr>\n",
       "  </tbody>\n",
       "</table>\n",
       "</div>"
      ],
      "text/plain": [
       "                            name  geography  grade\n",
       "120       Abigail Zerihun ewentu        NaN     11\n",
       "121          Amlakbekalu Tessema        NaN     11\n",
       "122    Birhane Telayneh Kefyalew        NaN     11\n",
       "123     Demetrius Zerihun Khasai        NaN     11\n",
       "124       Ephrata Tadesse Tefera        NaN     11\n",
       "125           Feysel Anwar Surur        NaN     11\n",
       "126         Luelue Luqman Kedir         NaN     11\n",
       "127            Nuur Ahmed Merduf        NaN     11\n",
       "128           Ruth Melknew Chane        NaN     11\n",
       "129        Selamawit Kibru Worku        NaN     11\n",
       "130     Silondis kenmos tesfaye         NaN     11\n",
       "131          Yidedya Feta Nibezo        NaN     11\n",
       "132      Afomia Daginenet Yimenu        NaN     12\n",
       "133      Alamin Abdulshikur Menu        NaN     12\n",
       "134            Amar Sultan fedlu        NaN     12\n",
       "135         Ayantu Asrat Gadissa        NaN     12\n",
       "136        Aymen Abdella Feyissa        NaN     12\n",
       "137     Baselael Mekonen Tesfaye        NaN     12\n",
       "138           Fanuel Asfaw Banti        NaN     12\n",
       "139       Iman Abdulhakim Gharad        NaN     12\n",
       "140        Kaleab Yonas G/mariam        NaN     12\n",
       "141  Maedot Kahsay Geberegiorgis        NaN     12\n",
       "142         Nathnael Sime Mechal        NaN     12\n",
       "143       Nathnael Tilahun Kalew        NaN     12\n",
       "144         Rekik Tsegaye Challa        NaN     12\n",
       "145   Separa Berhanu Hailemariam        NaN     12\n",
       "146          Tariku Samson Hailu        NaN     12\n",
       "147          Tesnim Fethi Shami         NaN     12\n",
       "148          Yanet Ayanaw Malede        NaN     12\n",
       "149      Bereket Yimolal Tiruneh        NaN     12\n",
       "150        Elroi Abebaw Getachew        NaN     12\n",
       "151      Ermias Haimanot Tsegaye        NaN     12\n",
       "152          Eyob Kebede Atisedi        NaN     12\n",
       "153           Sophia Jemal Edris        NaN     12\n",
       "154        Stefan Daniel Seleshi        NaN     12\n",
       "155           Selam Wudma Sahile        NaN     12\n",
       "156       Marta Alemayehu Assefa        NaN     12\n",
       "157         Leoul Hailu Woldeyes        NaN     12\n",
       "158     Abimelek Daniel Tekalign        NaN     12"
      ]
     },
     "execution_count": 14,
     "metadata": {},
     "output_type": "execute_result"
    }
   ],
   "source": [
    "df[df['geography'].isna()][['name', 'geography', 'grade']]"
   ]
  },
  {
   "cell_type": "code",
   "execution_count": 15,
   "metadata": {},
   "outputs": [
    {
     "data": {
      "text/plain": [
       "83.96819548872178"
      ]
     },
     "execution_count": 15,
     "metadata": {},
     "output_type": "execute_result"
    }
   ],
   "source": [
    "#assigning average geography result to missing values in social class\n",
    "df.geography.mean()"
   ]
  },
  {
   "cell_type": "code",
   "execution_count": 16,
   "metadata": {},
   "outputs": [],
   "source": [
    "df.iloc[158]['geography'] = df.geography.mean()"
   ]
  },
  {
   "cell_type": "code",
   "execution_count": 17,
   "metadata": {},
   "outputs": [
    {
     "data": {
      "text/plain": [
       "nan"
      ]
     },
     "execution_count": 17,
     "metadata": {},
     "output_type": "execute_result"
    }
   ],
   "source": [
    "df.iloc[158]['geography']"
   ]
  },
  {
   "cell_type": "code",
   "execution_count": 18,
   "metadata": {},
   "outputs": [],
   "source": [
    "for i in df.columns:\n",
    "    if df[i].dtype == 'O':\n",
    "        df[i] = df[i].astype(\"string\")"
   ]
  },
  {
   "cell_type": "code",
   "execution_count": 19,
   "metadata": {},
   "outputs": [],
   "source": [
    "for i in df.columns:\n",
    "    if df[i].dtype == 'string':\n",
    "        df[i] = df[i].apply(lambda x: x.lower())"
   ]
  },
  {
   "cell_type": "code",
   "execution_count": 20,
   "metadata": {},
   "outputs": [
    {
     "data": {
      "text/plain": [
       "m    87\n",
       "f    85\n",
       "Name: gender, dtype: int64"
      ]
     },
     "execution_count": 20,
     "metadata": {},
     "output_type": "execute_result"
    }
   ],
   "source": [
    "df.gender.value_counts()"
   ]
  },
  {
   "cell_type": "code",
   "execution_count": 21,
   "metadata": {},
   "outputs": [
    {
     "data": {
      "text/plain": [
       "addis ababa       95\n",
       "ethiopia          42\n",
       "usa                7\n",
       "saudi arabia       3\n",
       "london             2\n",
       "hawassa            2\n",
       "tigray             2\n",
       "virginia           2\n",
       "south ethiopia     1\n",
       "aden               1\n",
       "assela             1\n",
       "harrar             1\n",
       "snnp               1\n",
       "debremarkos        1\n",
       "adama              1\n",
       "california         1\n",
       "gurage             1\n",
       "wolayta            1\n",
       "oromia             1\n",
       "israel             1\n",
       "fiche              1\n",
       "dila               1\n",
       "werabe             1\n",
       "debreziet          1\n",
       "toronto            1\n",
       "Name: pob, dtype: int64"
      ]
     },
     "execution_count": 21,
     "metadata": {},
     "output_type": "execute_result"
    }
   ],
   "source": [
    "df['pob'].value_counts()"
   ]
  },
  {
   "cell_type": "code",
   "execution_count": 22,
   "metadata": {},
   "outputs": [],
   "source": [
    "def jah(x):\n",
    "    if x not in ('london', 'toronto', 'israel', 'california', 'aden', 'virginia', 'usa', 'saudi arabia'):\n",
    "        return 'ethiopia'\n",
    "    else:\n",
    "        return 'foriegn_soil'"
   ]
  },
  {
   "cell_type": "code",
   "execution_count": 23,
   "metadata": {},
   "outputs": [
    {
     "data": {
      "text/plain": [
       "ethiopia        154\n",
       "foriegn_soil     18\n",
       "Name: pob, dtype: int64"
      ]
     },
     "execution_count": 23,
     "metadata": {},
     "output_type": "execute_result"
    }
   ],
   "source": [
    "df['pob'] = df['pob'].apply(jah)\n",
    "df['pob'].value_counts()"
   ]
  },
  {
   "cell_type": "code",
   "execution_count": 24,
   "metadata": {},
   "outputs": [
    {
     "data": {
      "text/plain": [
       "no     135\n",
       "yes     37\n",
       "Name: tutor/makeup, dtype: int64"
      ]
     },
     "execution_count": 24,
     "metadata": {},
     "output_type": "execute_result"
    }
   ],
   "source": [
    "df['tutor/makeup'].value_counts()"
   ]
  },
  {
   "cell_type": "code",
   "execution_count": 25,
   "metadata": {},
   "outputs": [
    {
     "data": {
      "text/plain": [
       "lebu               12\n",
       "german square       8\n",
       "bisrate gabriel     8\n",
       "kality              7\n",
       "jemo 2              6\n",
       "                   ..\n",
       "shola               1\n",
       "fm jerba            1\n",
       "piassa              1\n",
       "atena tera          1\n",
       "carl square         1\n",
       "Name: residence, Length: 75, dtype: int64"
      ]
     },
     "execution_count": 25,
     "metadata": {},
     "output_type": "execute_result"
    }
   ],
   "source": [
    "df.residence.value_counts()"
   ]
  },
  {
   "cell_type": "code",
   "execution_count": 26,
   "metadata": {},
   "outputs": [
    {
     "data": {
      "text/plain": [
       "ethiopian    155\n",
       "american       9\n",
       "british        4\n",
       "yemeni         1\n",
       "ehiopian       1\n",
       "italian        1\n",
       "canadian       1\n",
       "Name: nationality, dtype: int64"
      ]
     },
     "execution_count": 26,
     "metadata": {},
     "output_type": "execute_result"
    }
   ],
   "source": [
    "df.nationality.value_counts()"
   ]
  },
  {
   "cell_type": "code",
   "execution_count": 27,
   "metadata": {},
   "outputs": [
    {
     "data": {
      "text/plain": [
       "ethiopian    156\n",
       "american       9\n",
       "british        4\n",
       "yemeni         1\n",
       "italian        1\n",
       "canadian       1\n",
       "Name: nationality, dtype: int64"
      ]
     },
     "execution_count": 27,
     "metadata": {},
     "output_type": "execute_result"
    }
   ],
   "source": [
    "df.nationality = df['nationality'].replace('ehiopian', 'ethiopian')\n",
    "df.nationality.value_counts()"
   ]
  },
  {
   "cell_type": "code",
   "execution_count": 28,
   "metadata": {},
   "outputs": [
    {
     "data": {
      "text/plain": [
       "9     57\n",
       "10    44\n",
       "12    40\n",
       "11    31\n",
       "Name: grade, dtype: int64"
      ]
     },
     "execution_count": 28,
     "metadata": {},
     "output_type": "execute_result"
    }
   ],
   "source": [
    "df.grade.value_counts()"
   ]
  },
  {
   "cell_type": "code",
   "execution_count": 29,
   "metadata": {},
   "outputs": [
    {
     "data": {
      "text/plain": [
       "both      138\n",
       "mother     20\n",
       "other      10\n",
       "father      4\n",
       "Name: guardian, dtype: int64"
      ]
     },
     "execution_count": 29,
     "metadata": {},
     "output_type": "execute_result"
    }
   ],
   "source": [
    "df.guardian.value_counts()"
   ]
  },
  {
   "cell_type": "code",
   "execution_count": 30,
   "metadata": {},
   "outputs": [
    {
     "data": {
      "text/plain": [
       "paid           105\n",
       "scholarship     67\n",
       "Name: admission, dtype: int64"
      ]
     },
     "execution_count": 30,
     "metadata": {},
     "output_type": "execute_result"
    }
   ],
   "source": [
    "df.admission.value_counts()"
   ]
  },
  {
   "cell_type": "code",
   "execution_count": 31,
   "metadata": {},
   "outputs": [
    {
     "data": {
      "text/plain": [
       "a lot       130\n",
       "little       33\n",
       "not much      9\n",
       "Name: time_with_parents, dtype: int64"
      ]
     },
     "execution_count": 31,
     "metadata": {},
     "output_type": "execute_result"
    }
   ],
   "source": [
    "df['time_with_parents'].value_counts()"
   ]
  },
  {
   "cell_type": "code",
   "execution_count": 32,
   "metadata": {},
   "outputs": [
    {
     "data": {
      "text/plain": [
       "strongly agree       81\n",
       "agree                67\n",
       "somehow agree        21\n",
       "disagree              2\n",
       "strongly disagree     1\n",
       "Name: communication_with_parents, dtype: int64"
      ]
     },
     "execution_count": 32,
     "metadata": {},
     "output_type": "execute_result"
    }
   ],
   "source": [
    "df['communication_with_parents'].value_counts()\n",
    "df['communication_with_parents'] = df['communication_with_parents'].replace('somehow', 'somehow agree')\n",
    "df['communication_with_parents'].value_counts()"
   ]
  },
  {
   "cell_type": "code",
   "execution_count": 33,
   "metadata": {},
   "outputs": [
    {
     "data": {
      "text/plain": [
       "strongly agree       80\n",
       "agree                50\n",
       "somehow agree        29\n",
       "disagree              6\n",
       "strongly disagree     4\n",
       "stronlgly agree       1\n",
       "stronlgy agree        1\n",
       "somehow               1\n",
       "Name: reward_for_achievements, dtype: int64"
      ]
     },
     "execution_count": 33,
     "metadata": {},
     "output_type": "execute_result"
    }
   ],
   "source": [
    "df['reward_for_achievements'].value_counts()"
   ]
  },
  {
   "cell_type": "code",
   "execution_count": 34,
   "metadata": {},
   "outputs": [
    {
     "data": {
      "text/plain": [
       "strongly agree       82\n",
       "agree                50\n",
       "somehow agree        30\n",
       "disagree              6\n",
       "strongly disagree     4\n",
       "Name: reward_for_achievements, dtype: int64"
      ]
     },
     "execution_count": 34,
     "metadata": {},
     "output_type": "execute_result"
    }
   ],
   "source": [
    "df['reward_for_achievements'] = df['reward_for_achievements'].replace('stronlgly agree', 'strongly agree')\n",
    "df['reward_for_achievements'] = df['reward_for_achievements'].replace('stronlgy agree', 'strongly agree')\n",
    "df['reward_for_achievements'] = df['reward_for_achievements'].replace('somehow', 'somehow agree')\n",
    "df['reward_for_achievements'].value_counts()"
   ]
  },
  {
   "cell_type": "code",
   "execution_count": 35,
   "metadata": {},
   "outputs": [],
   "source": [
    "#########################################3"
   ]
  },
  {
   "cell_type": "code",
   "execution_count": 36,
   "metadata": {},
   "outputs": [
    {
     "data": {
      "text/plain": [
       "private    88\n",
       "public     44\n",
       "service    38\n",
       "on foot     2\n",
       "Name: transport_type, dtype: int64"
      ]
     },
     "execution_count": 36,
     "metadata": {},
     "output_type": "execute_result"
    }
   ],
   "source": [
    "df.transport_type.value_counts()"
   ]
  },
  {
   "cell_type": "code",
   "execution_count": 37,
   "metadata": {},
   "outputs": [
    {
     "data": {
      "text/plain": [
       "first child     76\n",
       "middle child    47\n",
       "last child      45\n",
       "only child       4\n",
       "Name: birth_order, dtype: int64"
      ]
     },
     "execution_count": 37,
     "metadata": {},
     "output_type": "execute_result"
    }
   ],
   "source": [
    "df.birth_order.value_counts() \n",
    "#do middle children tend to be forgotten?? #Barkot"
   ]
  },
  {
   "cell_type": "code",
   "execution_count": 38,
   "metadata": {},
   "outputs": [
    {
     "data": {
      "text/plain": [
       "authoritative     134\n",
       "authoritarian      23\n",
       "permissive          6\n",
       "authoritaive        2\n",
       "authorittaive       2\n",
       "authoratiarian      1\n",
       "pemissive           1\n",
       "-                   1\n",
       "authortative        1\n",
       "authoriative        1\n",
       "Name: parenting_style, dtype: int64"
      ]
     },
     "execution_count": 38,
     "metadata": {},
     "output_type": "execute_result"
    }
   ],
   "source": [
    "df.parenting_style.value_counts()\n",
    "### A lot of Data Cleaning to do here\n",
    "### Refer to Data Cleaning Checklist on Notion"
   ]
  },
  {
   "cell_type": "code",
   "execution_count": 39,
   "metadata": {},
   "outputs": [
    {
     "data": {
      "text/plain": [
       "authoritative    141\n",
       "authoritarian     24\n",
       "permissive         7\n",
       "Name: parenting_style, dtype: int64"
      ]
     },
     "execution_count": 39,
     "metadata": {},
     "output_type": "execute_result"
    }
   ],
   "source": [
    "df.parenting_style = df['parenting_style'].replace('authoritaive', 'authoritative')\n",
    "df.parenting_style = df['parenting_style'].replace('authorittaive', 'authoritative')\n",
    "df.parenting_style = df['parenting_style'].replace('authortative', 'authoritative')\n",
    "df.parenting_style = df['parenting_style'].replace('authoriative', 'authoritative')\n",
    "df.parenting_style = df['parenting_style'].replace('pemissive', 'permissive')\n",
    "df.parenting_style = df['parenting_style'].replace('authoratiarian', 'authoritarian')\n",
    "df.parenting_style = df['parenting_style'].replace('-', 'authoritative')\n",
    "df.parenting_style.value_counts()"
   ]
  },
  {
   "cell_type": "code",
   "execution_count": 40,
   "metadata": {},
   "outputs": [
    {
     "data": {
      "text/plain": [
       "strongly agree       62\n",
       "agree                51\n",
       "somehow agree        42\n",
       "disagree             12\n",
       "strongly disagree     5\n",
       "Name: parent_understanding, dtype: int64"
      ]
     },
     "execution_count": 40,
     "metadata": {},
     "output_type": "execute_result"
    }
   ],
   "source": [
    "df.parent_understanding.value_counts()"
   ]
  },
  {
   "cell_type": "code",
   "execution_count": 41,
   "metadata": {},
   "outputs": [
    {
     "data": {
      "text/plain": [
       "30-60    62\n",
       "60+      44\n",
       "15-30    43\n",
       "15-      23\n",
       "Name: travel time, dtype: int64"
      ]
     },
     "execution_count": 41,
     "metadata": {},
     "output_type": "execute_result"
    }
   ],
   "source": [
    "df['travel time'].value_counts()\n",
    "df['travel time'] = df['travel time'].replace('30', '30-60')\n",
    "df['travel time'] = df['travel time'].replace('20-30', '30-60')\n",
    "df['travel time'].value_counts()"
   ]
  },
  {
   "cell_type": "code",
   "execution_count": 42,
   "metadata": {},
   "outputs": [
    {
     "data": {
      "text/plain": [
       "Index(['name', 'age', 'gender', 'nationality', 'pob', 'tutor/makeup', 'grade',\n",
       "       'admission', 'guardian', 'time_with_parents',\n",
       "       'communication_with_parents', 'reward_for_achievements',\n",
       "       'parent_understanding', 'transport_type', 'residence', 'travel time',\n",
       "       'birth_order', 'exercice', 'previous_school', 'mother_tongue',\n",
       "       'curriculum', 'sleeping time_in_pm', 'parenting_style', 'trauma',\n",
       "       'type', 'literature', 'eng', 'maths', 'physics', 'chemistry', 'biology',\n",
       "       'geography', 'history', 'civics', 'amharic', 'ict', 'ent-ship', 'hpe'],\n",
       "      dtype='object')"
      ]
     },
     "execution_count": 42,
     "metadata": {},
     "output_type": "execute_result"
    }
   ],
   "source": [
    "df.columns"
   ]
  },
  {
   "cell_type": "code",
   "execution_count": 43,
   "metadata": {},
   "outputs": [
    {
     "data": {
      "text/plain": [
       "eth-lang    152\n",
       "for-lang     20\n",
       "Name: mother_tongue, dtype: int64"
      ]
     },
     "execution_count": 43,
     "metadata": {},
     "output_type": "execute_result"
    }
   ],
   "source": [
    "df.mother_tongue.value_counts()\n",
    "df.mother_tongue = df['mother_tongue'].replace('harrari', 'eth-lang')\n",
    "df.mother_tongue = df['mother_tongue'].replace('tigrigna', 'eth-lang')\n",
    "df.mother_tongue = df['mother_tongue'].replace('amharic', 'eth-lang')\n",
    "df.mother_tongue = df['mother_tongue'].replace('harari', 'eth-lang')\n",
    "df.mother_tongue = df['mother_tongue'].replace('russian', 'for-lang')\n",
    "df.mother_tongue = df['mother_tongue'].replace('english', 'for-lang')\n",
    "df.mother_tongue = df['mother_tongue'].replace('arabic', 'for-lang')\n",
    "df.mother_tongue = df['mother_tongue'].replace('hebrew', 'for-lang')\n",
    "df.mother_tongue.value_counts()"
   ]
  },
  {
   "cell_type": "code",
   "execution_count": 44,
   "metadata": {},
   "outputs": [
    {
     "data": {
      "text/plain": [
       "no     107\n",
       "yes     65\n",
       "Name: curriculum, dtype: int64"
      ]
     },
     "execution_count": 44,
     "metadata": {},
     "output_type": "execute_result"
    }
   ],
   "source": [
    "df['curriculum'].value_counts()"
   ]
  },
  {
   "cell_type": "code",
   "execution_count": 45,
   "metadata": {},
   "outputs": [
    {
     "data": {
      "text/plain": [
       "gibson          20\n",
       "intellectual    10\n",
       "jemo 2           9\n",
       "abay             8\n",
       "andinet          6\n",
       "                ..\n",
       "addis sefer      1\n",
       "tuludimtu        1\n",
       "radical          1\n",
       "reach            1\n",
       "scs              1\n",
       "Name: previous_school, Length: 83, dtype: int64"
      ]
     },
     "execution_count": 45,
     "metadata": {},
     "output_type": "execute_result"
    }
   ],
   "source": [
    "df.previous_school.value_counts()"
   ]
  },
  {
   "cell_type": "code",
   "execution_count": 48,
   "metadata": {},
   "outputs": [
    {
     "name": "stdout",
     "output_type": "stream",
     "text": [
      "<class 'pandas.core.frame.DataFrame'>\n",
      "RangeIndex: 172 entries, 0 to 171\n",
      "Data columns (total 38 columns):\n",
      " #   Column                      Non-Null Count  Dtype  \n",
      "---  ------                      --------------  -----  \n",
      " 0   name                        172 non-null    object \n",
      " 1   age                         172 non-null    int64  \n",
      " 2   gender                      172 non-null    object \n",
      " 3   nationality                 172 non-null    object \n",
      " 4   pob                         172 non-null    object \n",
      " 5   tutor/makeup                172 non-null    object \n",
      " 6   grade                       172 non-null    int64  \n",
      " 7   admission                   172 non-null    object \n",
      " 8   guardian                    172 non-null    object \n",
      " 9   time_with_parents           172 non-null    object \n",
      " 10  communication_with_parents  172 non-null    object \n",
      " 11  reward_for_achievements     172 non-null    object \n",
      " 12  parent_understanding        172 non-null    object \n",
      " 13  transport_type              172 non-null    object \n",
      " 14  residence                   172 non-null    object \n",
      " 15  travel time                 172 non-null    object \n",
      " 16  birth_order                 172 non-null    object \n",
      " 17  exercice                    172 non-null    float64\n",
      " 18  previous_school             172 non-null    object \n",
      " 19  mother_tongue               172 non-null    object \n",
      " 20  curriculum                  172 non-null    object \n",
      " 21  sleeping time_in_pm         172 non-null    float64\n",
      " 22  parenting_style             172 non-null    object \n",
      " 23  trauma                      172 non-null    float64\n",
      " 24  type                        172 non-null    object \n",
      " 25  literature                  172 non-null    float64\n",
      " 26  eng                         100 non-null    float64\n",
      " 27  maths                       172 non-null    float64\n",
      " 28  physics                     139 non-null    float64\n",
      " 29  chemistry                   139 non-null    float64\n",
      " 30  biology                     139 non-null    float64\n",
      " 31  geography                   133 non-null    float64\n",
      " 32  history                     134 non-null    float64\n",
      " 33  civics                      172 non-null    float64\n",
      " 34  amharic                     172 non-null    float64\n",
      " 35  ict                         172 non-null    float64\n",
      " 36  ent-ship                    134 non-null    float64\n",
      " 37  hpe                         172 non-null    float64\n",
      "dtypes: float64(16), int64(2), object(20)\n",
      "memory usage: 51.2+ KB\n"
     ]
    }
   ],
   "source": [
    "df.info()"
   ]
  },
  {
   "cell_type": "code",
   "execution_count": null,
   "metadata": {},
   "outputs": [],
   "source": []
  }
 ],
 "metadata": {
  "kernelspec": {
   "display_name": "base",
   "language": "python",
   "name": "python3"
  },
  "language_info": {
   "codemirror_mode": {
    "name": "ipython",
    "version": 3
   },
   "file_extension": ".py",
   "mimetype": "text/x-python",
   "name": "python",
   "nbconvert_exporter": "python",
   "pygments_lexer": "ipython3",
   "version": "3.9.13"
  },
  "orig_nbformat": 4
 },
 "nbformat": 4,
 "nbformat_minor": 2
}
