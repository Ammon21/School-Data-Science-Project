{
 "cells": [
  {
   "attachments": {},
   "cell_type": "markdown",
   "metadata": {},
   "source": [
    "### LIA Highschool students Analysis"
   ]
  },
  {
   "attachments": {},
   "cell_type": "markdown",
   "metadata": {},
   "source": [
    "Loading Libraries"
   ]
  },
  {
   "cell_type": "code",
   "execution_count": 225,
   "metadata": {},
   "outputs": [],
   "source": [
    "import pandas as pd\n",
    "import numpy as np\n",
    "import seaborn as sns\n",
    "import matplotlib.pyplot as plt\n",
    "import sys, os\n",
    "\n",
    "import warnings\n",
    "warnings.filterwarnings('ignore')\n",
    "pd.set_option('display.max_columns', 70)\n",
    "\n",
    "sys.path.append(os.path.abspath(os.path.join('../scripts')))\n",
    "from cleaner import *\n",
    "from visualizer import *\n"
   ]
  },
  {
   "attachments": {},
   "cell_type": "markdown",
   "metadata": {},
   "source": [
    "Loading Data"
   ]
  },
  {
   "cell_type": "code",
   "execution_count": 226,
   "metadata": {},
   "outputs": [
    {
     "data": {
      "text/html": [
       "<div>\n",
       "<style scoped>\n",
       "    .dataframe tbody tr th:only-of-type {\n",
       "        vertical-align: middle;\n",
       "    }\n",
       "\n",
       "    .dataframe tbody tr th {\n",
       "        vertical-align: top;\n",
       "    }\n",
       "\n",
       "    .dataframe thead th {\n",
       "        text-align: right;\n",
       "    }\n",
       "</style>\n",
       "<table border=\"1\" class=\"dataframe\">\n",
       "  <thead>\n",
       "    <tr style=\"text-align: right;\">\n",
       "      <th></th>\n",
       "      <th>name</th>\n",
       "      <th>conduct</th>\n",
       "      <th>age</th>\n",
       "      <th>gender</th>\n",
       "      <th>nationality</th>\n",
       "      <th>pob</th>\n",
       "      <th>tutor/makeup</th>\n",
       "      <th>grade</th>\n",
       "      <th>admission</th>\n",
       "      <th>guardian</th>\n",
       "      <th>time_with_parents</th>\n",
       "      <th>communication_with_parents</th>\n",
       "      <th>reward_for_achievements</th>\n",
       "      <th>parent_understanding</th>\n",
       "      <th>transport_type</th>\n",
       "      <th>residence</th>\n",
       "      <th>travel time</th>\n",
       "      <th>birth_order</th>\n",
       "      <th>exercice</th>\n",
       "      <th>previous_school</th>\n",
       "      <th>mother_tongue</th>\n",
       "      <th>curriculum</th>\n",
       "      <th>sleeping time_in_pm</th>\n",
       "      <th>parenting_style</th>\n",
       "      <th>trauma</th>\n",
       "      <th>type</th>\n",
       "      <th>quality</th>\n",
       "      <th>English</th>\n",
       "      <th>Amharic</th>\n",
       "      <th>Arabic</th>\n",
       "      <th>Geez</th>\n",
       "      <th>ICT</th>\n",
       "      <th>Maths</th>\n",
       "      <th>SS</th>\n",
       "      <th>GP</th>\n",
       "      <th>IS</th>\n",
       "      <th>Moral</th>\n",
       "      <th>HPE</th>\n",
       "      <th>Art</th>\n",
       "      <th>Chemistry</th>\n",
       "      <th>Physics</th>\n",
       "      <th>GPA</th>\n",
       "    </tr>\n",
       "  </thead>\n",
       "  <tbody>\n",
       "    <tr>\n",
       "      <th>0</th>\n",
       "      <td>Abem Ashenafi Assefa</td>\n",
       "      <td>A</td>\n",
       "      <td>10.0</td>\n",
       "      <td>F</td>\n",
       "      <td>Ethiopian</td>\n",
       "      <td>Ethiopia</td>\n",
       "      <td>yes</td>\n",
       "      <td>5</td>\n",
       "      <td>Paid</td>\n",
       "      <td>both</td>\n",
       "      <td>a lot</td>\n",
       "      <td>strongly agree</td>\n",
       "      <td>strongly agree</td>\n",
       "      <td>agree</td>\n",
       "      <td>private</td>\n",
       "      <td>Ayer Tena</td>\n",
       "      <td>15-30</td>\n",
       "      <td>middle child</td>\n",
       "      <td>2</td>\n",
       "      <td>Diamond</td>\n",
       "      <td>amharic</td>\n",
       "      <td>yes</td>\n",
       "      <td>8.0</td>\n",
       "      <td>authoritative</td>\n",
       "      <td>0</td>\n",
       "      <td>none</td>\n",
       "      <td>4.25</td>\n",
       "      <td>94.86</td>\n",
       "      <td>94.58</td>\n",
       "      <td>88.45</td>\n",
       "      <td>84.41</td>\n",
       "      <td>88.52</td>\n",
       "      <td>76.38</td>\n",
       "      <td>85.93</td>\n",
       "      <td>95.00</td>\n",
       "      <td>82.01</td>\n",
       "      <td>98.28</td>\n",
       "      <td>95.48</td>\n",
       "      <td>89.00</td>\n",
       "      <td>NaN</td>\n",
       "      <td>NaN</td>\n",
       "      <td>89.4</td>\n",
       "    </tr>\n",
       "    <tr>\n",
       "      <th>1</th>\n",
       "      <td>Abiya Zerihun Alemu</td>\n",
       "      <td>B</td>\n",
       "      <td>12.0</td>\n",
       "      <td>M</td>\n",
       "      <td>Ethiopian</td>\n",
       "      <td>Ethiopia</td>\n",
       "      <td>no</td>\n",
       "      <td>5</td>\n",
       "      <td>Scholarship</td>\n",
       "      <td>both</td>\n",
       "      <td>little</td>\n",
       "      <td>strongly agree</td>\n",
       "      <td>strongly agree</td>\n",
       "      <td>agree</td>\n",
       "      <td>public</td>\n",
       "      <td>haile garment</td>\n",
       "      <td>15-30</td>\n",
       "      <td>first child</td>\n",
       "      <td>0</td>\n",
       "      <td>Southwest</td>\n",
       "      <td>amharic</td>\n",
       "      <td>yes</td>\n",
       "      <td>10.0</td>\n",
       "      <td>authoritative</td>\n",
       "      <td>0</td>\n",
       "      <td>none</td>\n",
       "      <td>4.00</td>\n",
       "      <td>74.12</td>\n",
       "      <td>77.39</td>\n",
       "      <td>81.86</td>\n",
       "      <td>80.98</td>\n",
       "      <td>76.90</td>\n",
       "      <td>74.92</td>\n",
       "      <td>70.32</td>\n",
       "      <td>94.75</td>\n",
       "      <td>74.16</td>\n",
       "      <td>89.84</td>\n",
       "      <td>96.15</td>\n",
       "      <td>91.75</td>\n",
       "      <td>NaN</td>\n",
       "      <td>NaN</td>\n",
       "      <td>81.9</td>\n",
       "    </tr>\n",
       "    <tr>\n",
       "      <th>2</th>\n",
       "      <td>Aman Dilu Shaleka</td>\n",
       "      <td>A</td>\n",
       "      <td>10.0</td>\n",
       "      <td>M</td>\n",
       "      <td>Ethiopian</td>\n",
       "      <td>Ethiopia</td>\n",
       "      <td>yes</td>\n",
       "      <td>5</td>\n",
       "      <td>Paid</td>\n",
       "      <td>both</td>\n",
       "      <td>a lot</td>\n",
       "      <td>agree</td>\n",
       "      <td>strongly agree</td>\n",
       "      <td>strongly agree</td>\n",
       "      <td>private</td>\n",
       "      <td>Sarbet</td>\n",
       "      <td>15-</td>\n",
       "      <td>last child</td>\n",
       "      <td>3</td>\n",
       "      <td>Greek</td>\n",
       "      <td>amharic</td>\n",
       "      <td>yes</td>\n",
       "      <td>9.0</td>\n",
       "      <td>authoritative</td>\n",
       "      <td>1</td>\n",
       "      <td>Physical</td>\n",
       "      <td>4.25</td>\n",
       "      <td>80.12</td>\n",
       "      <td>86.58</td>\n",
       "      <td>95.04</td>\n",
       "      <td>74.69</td>\n",
       "      <td>95.52</td>\n",
       "      <td>84.33</td>\n",
       "      <td>81.42</td>\n",
       "      <td>93.75</td>\n",
       "      <td>85.45</td>\n",
       "      <td>91.61</td>\n",
       "      <td>94.39</td>\n",
       "      <td>91.75</td>\n",
       "      <td>NaN</td>\n",
       "      <td>NaN</td>\n",
       "      <td>87.9</td>\n",
       "    </tr>\n",
       "    <tr>\n",
       "      <th>3</th>\n",
       "      <td>Barok Bahiru Hunde</td>\n",
       "      <td>C</td>\n",
       "      <td>11.0</td>\n",
       "      <td>M</td>\n",
       "      <td>Ethiopian</td>\n",
       "      <td>Addis Ababa</td>\n",
       "      <td>no</td>\n",
       "      <td>5</td>\n",
       "      <td>Paid</td>\n",
       "      <td>both</td>\n",
       "      <td>a lot</td>\n",
       "      <td>strongly agree</td>\n",
       "      <td>strongly agree</td>\n",
       "      <td>strongly agree</td>\n",
       "      <td>private</td>\n",
       "      <td>Gulele</td>\n",
       "      <td>15-30</td>\n",
       "      <td>last child</td>\n",
       "      <td>2</td>\n",
       "      <td>Gibson</td>\n",
       "      <td>amharic</td>\n",
       "      <td>no</td>\n",
       "      <td>8.0</td>\n",
       "      <td>authoritative</td>\n",
       "      <td>0</td>\n",
       "      <td>none</td>\n",
       "      <td>4.50</td>\n",
       "      <td>82.67</td>\n",
       "      <td>91.68</td>\n",
       "      <td>89.64</td>\n",
       "      <td>86.70</td>\n",
       "      <td>87.81</td>\n",
       "      <td>90.63</td>\n",
       "      <td>81.14</td>\n",
       "      <td>82.50</td>\n",
       "      <td>80.86</td>\n",
       "      <td>81.91</td>\n",
       "      <td>93.89</td>\n",
       "      <td>81.00</td>\n",
       "      <td>NaN</td>\n",
       "      <td>NaN</td>\n",
       "      <td>85.9</td>\n",
       "    </tr>\n",
       "    <tr>\n",
       "      <th>4</th>\n",
       "      <td>Bethany Yilkal</td>\n",
       "      <td>B</td>\n",
       "      <td>11.0</td>\n",
       "      <td>F</td>\n",
       "      <td>Ethiopian</td>\n",
       "      <td>USA</td>\n",
       "      <td>no</td>\n",
       "      <td>5</td>\n",
       "      <td>Paid</td>\n",
       "      <td>mother</td>\n",
       "      <td>a lot</td>\n",
       "      <td>strongly agree</td>\n",
       "      <td>strongly agree</td>\n",
       "      <td>somehow agree</td>\n",
       "      <td>private</td>\n",
       "      <td>Meskel flower</td>\n",
       "      <td>15-30</td>\n",
       "      <td>middle child</td>\n",
       "      <td>2</td>\n",
       "      <td>School of nations</td>\n",
       "      <td>english</td>\n",
       "      <td>yes</td>\n",
       "      <td>11.5</td>\n",
       "      <td>authoritative</td>\n",
       "      <td>0</td>\n",
       "      <td>none</td>\n",
       "      <td>4.00</td>\n",
       "      <td>96.31</td>\n",
       "      <td>96.99</td>\n",
       "      <td>97.60</td>\n",
       "      <td>92.09</td>\n",
       "      <td>98.62</td>\n",
       "      <td>96.00</td>\n",
       "      <td>89.07</td>\n",
       "      <td>99.75</td>\n",
       "      <td>94.73</td>\n",
       "      <td>98.77</td>\n",
       "      <td>88.69</td>\n",
       "      <td>97.75</td>\n",
       "      <td>NaN</td>\n",
       "      <td>NaN</td>\n",
       "      <td>95.5</td>\n",
       "    </tr>\n",
       "  </tbody>\n",
       "</table>\n",
       "</div>"
      ],
      "text/plain": [
       "                   name conduct   age gender nationality          pob  \\\n",
       "0  Abem Ashenafi Assefa       A  10.0      F   Ethiopian     Ethiopia   \n",
       "1   Abiya Zerihun Alemu       B  12.0      M   Ethiopian     Ethiopia   \n",
       "2     Aman Dilu Shaleka       A  10.0      M   Ethiopian     Ethiopia   \n",
       "3    Barok Bahiru Hunde       C  11.0      M   Ethiopian  Addis Ababa   \n",
       "4        Bethany Yilkal       B  11.0      F   Ethiopian          USA   \n",
       "\n",
       "  tutor/makeup  grade    admission guardian time_with_parents  \\\n",
       "0          yes      5         Paid     both             a lot   \n",
       "1           no      5  Scholarship     both            little   \n",
       "2          yes      5         Paid     both             a lot   \n",
       "3           no      5         Paid     both             a lot   \n",
       "4           no      5         Paid   mother             a lot   \n",
       "\n",
       "  communication_with_parents reward_for_achievements parent_understanding  \\\n",
       "0             strongly agree          strongly agree                agree   \n",
       "1             strongly agree          strongly agree                agree   \n",
       "2                      agree          strongly agree       strongly agree   \n",
       "3             strongly agree          strongly agree       strongly agree   \n",
       "4             strongly agree          strongly agree        somehow agree   \n",
       "\n",
       "  transport_type      residence travel time   birth_order  exercice  \\\n",
       "0        private      Ayer Tena       15-30  middle child         2   \n",
       "1         public  haile garment       15-30   first child         0   \n",
       "2        private         Sarbet         15-    last child         3   \n",
       "3        private         Gulele       15-30    last child         2   \n",
       "4        private  Meskel flower       15-30  middle child         2   \n",
       "\n",
       "     previous_school mother_tongue curriculum  sleeping time_in_pm  \\\n",
       "0            Diamond       amharic        yes                  8.0   \n",
       "1          Southwest       amharic        yes                 10.0   \n",
       "2              Greek       amharic        yes                  9.0   \n",
       "3             Gibson       amharic         no                  8.0   \n",
       "4  School of nations       english        yes                 11.5   \n",
       "\n",
       "  parenting_style  trauma      type  quality  English  Amharic  Arabic   Geez  \\\n",
       "0   authoritative       0      none     4.25    94.86    94.58   88.45  84.41   \n",
       "1   authoritative       0      none     4.00    74.12    77.39   81.86  80.98   \n",
       "2   authoritative       1  Physical     4.25    80.12    86.58   95.04  74.69   \n",
       "3   authoritative       0      none     4.50    82.67    91.68   89.64  86.70   \n",
       "4   authoritative       0      none     4.00    96.31    96.99   97.60  92.09   \n",
       "\n",
       "     ICT  Maths     SS     GP     IS  Moral    HPE    Art  Chemistry  Physics  \\\n",
       "0  88.52  76.38  85.93  95.00  82.01  98.28  95.48  89.00        NaN      NaN   \n",
       "1  76.90  74.92  70.32  94.75  74.16  89.84  96.15  91.75        NaN      NaN   \n",
       "2  95.52  84.33  81.42  93.75  85.45  91.61  94.39  91.75        NaN      NaN   \n",
       "3  87.81  90.63  81.14  82.50  80.86  81.91  93.89  81.00        NaN      NaN   \n",
       "4  98.62  96.00  89.07  99.75  94.73  98.77  88.69  97.75        NaN      NaN   \n",
       "\n",
       "    GPA  \n",
       "0  89.4  \n",
       "1  81.9  \n",
       "2  87.9  \n",
       "3  85.9  \n",
       "4  95.5  "
      ]
     },
     "execution_count": 226,
     "metadata": {},
     "output_type": "execute_result"
    }
   ],
   "source": [
    "df = pd.read_csv(r\"../data/msv6.csv\")\n",
    "df.head()"
   ]
  },
  {
   "cell_type": "code",
   "execution_count": 227,
   "metadata": {},
   "outputs": [
    {
     "data": {
      "text/plain": [
       "Index(['name', 'conduct', 'age', 'gender', 'nationality', 'pob',\n",
       "       'tutor/makeup', 'grade', 'admission', 'guardian', 'time_with_parents',\n",
       "       'communication_with_parents', 'reward_for_achievements',\n",
       "       'parent_understanding', 'transport_type', 'residence', 'travel time',\n",
       "       'birth_order', 'exercice', 'previous_school', 'mother_tongue',\n",
       "       'curriculum', 'sleeping time_in_pm', 'parenting_style', 'trauma',\n",
       "       'type', 'quality', 'english', 'amharic', 'arabic', 'geez', 'ict',\n",
       "       'maths', 'ss', 'gp', 'is', 'moral', 'hpe', 'art', 'chemistry',\n",
       "       'physics', 'gpa'],\n",
       "      dtype='object')"
      ]
     },
     "execution_count": 227,
     "metadata": {},
     "output_type": "execute_result"
    }
   ],
   "source": [
    "df.columns = df.columns.str.lower()\n",
    "df.columns"
   ]
  },
  {
   "cell_type": "code",
   "execution_count": 228,
   "metadata": {},
   "outputs": [
    {
     "name": "stdout",
     "output_type": "stream",
     "text": [
      "Middle school students Missing Data\n",
      "<class 'pandas.core.frame.DataFrame'>\n",
      "RangeIndex: 115 entries, 0 to 114\n",
      "Data columns (total 42 columns):\n",
      " #   Column                      Non-Null Count  Dtype  \n",
      "---  ------                      --------------  -----  \n",
      " 0   name                        115 non-null    object \n",
      " 1   conduct                     115 non-null    object \n",
      " 2   age                         115 non-null    float64\n",
      " 3   gender                      115 non-null    object \n",
      " 4   nationality                 115 non-null    object \n",
      " 5   pob                         115 non-null    object \n",
      " 6   tutor/makeup                115 non-null    object \n",
      " 7   grade                       115 non-null    int64  \n",
      " 8   admission                   115 non-null    object \n",
      " 9   guardian                    115 non-null    object \n",
      " 10  time_with_parents           115 non-null    object \n",
      " 11  communication_with_parents  115 non-null    object \n",
      " 12  reward_for_achievements     115 non-null    object \n",
      " 13  parent_understanding        115 non-null    object \n",
      " 14  transport_type              115 non-null    object \n",
      " 15  residence                   114 non-null    object \n",
      " 16  travel time                 115 non-null    object \n",
      " 17  birth_order                 114 non-null    object \n",
      " 18  exercice                    115 non-null    int64  \n",
      " 19  previous_school             115 non-null    object \n",
      " 20  mother_tongue               115 non-null    object \n",
      " 21  curriculum                  115 non-null    object \n",
      " 22  sleeping time_in_pm         115 non-null    float64\n",
      " 23  parenting_style             114 non-null    object \n",
      " 24  trauma                      115 non-null    int64  \n",
      " 25  type                        114 non-null    object \n",
      " 26  quality                     115 non-null    float64\n",
      " 27  english                     115 non-null    float64\n",
      " 28  amharic                     115 non-null    float64\n",
      " 29  arabic                      115 non-null    float64\n",
      " 30  geez                        115 non-null    float64\n",
      " 31  ict                         114 non-null    float64\n",
      " 32  maths                       115 non-null    float64\n",
      " 33  ss                          115 non-null    float64\n",
      " 34  gp                          115 non-null    float64\n",
      " 35  is                          115 non-null    float64\n",
      " 36  moral                       115 non-null    float64\n",
      " 37  hpe                         113 non-null    float64\n",
      " 38  art                         114 non-null    float64\n",
      " 39  chemistry                   66 non-null     float64\n",
      " 40  physics                     66 non-null     float64\n",
      " 41  gpa                         115 non-null    float64\n",
      "dtypes: float64(18), int64(3), object(21)\n",
      "memory usage: 37.9+ KB\n"
     ]
    }
   ],
   "source": [
    "print('Middle school students Missing Data')\n",
    "df.info()"
   ]
  },
  {
   "attachments": {},
   "cell_type": "markdown",
   "metadata": {},
   "source": [
    "#### Checking Missing Values"
   ]
  },
  {
   "cell_type": "code",
   "execution_count": 229,
   "metadata": {},
   "outputs": [
    {
     "data": {
      "text/plain": [
       "name                           0\n",
       "conduct                        0\n",
       "age                            0\n",
       "gender                         0\n",
       "nationality                    0\n",
       "pob                            0\n",
       "tutor/makeup                   0\n",
       "grade                          0\n",
       "admission                      0\n",
       "guardian                       0\n",
       "time_with_parents              0\n",
       "communication_with_parents     0\n",
       "reward_for_achievements        0\n",
       "parent_understanding           0\n",
       "transport_type                 0\n",
       "residence                      1\n",
       "travel time                    0\n",
       "birth_order                    1\n",
       "exercice                       0\n",
       "previous_school                0\n",
       "mother_tongue                  0\n",
       "curriculum                     0\n",
       "sleeping time_in_pm            0\n",
       "parenting_style                1\n",
       "trauma                         0\n",
       "type                           1\n",
       "quality                        0\n",
       "english                        0\n",
       "amharic                        0\n",
       "arabic                         0\n",
       "geez                           0\n",
       "ict                            1\n",
       "maths                          0\n",
       "ss                             0\n",
       "gp                             0\n",
       "is                             0\n",
       "moral                          0\n",
       "hpe                            2\n",
       "art                            1\n",
       "chemistry                     49\n",
       "physics                       49\n",
       "gpa                            0\n",
       "dtype: int64"
      ]
     },
     "execution_count": 229,
     "metadata": {},
     "output_type": "execute_result"
    }
   ],
   "source": [
    "df.isna().sum()"
   ]
  },
  {
   "cell_type": "code",
   "execution_count": 230,
   "metadata": {},
   "outputs": [
    {
     "name": "stdout",
     "output_type": "stream",
     "text": [
      "The dataset contains 2.19 % missing values.\n"
     ]
    }
   ],
   "source": [
    "cleaner.percent_missing(df)"
   ]
  },
  {
   "attachments": {},
   "cell_type": "markdown",
   "metadata": {},
   "source": [
    "#### Filling Missing Values\n",
    "\n",
    "most missing values has been filled manualy by directly approaching the students through thier deans and unit leaders. Currently The data frame has 4.4 missing values. These will be filled using different mechanisms like mean, median , mode, forward and backward fixing methods."
   ]
  },
  {
   "cell_type": "code",
   "execution_count": 231,
   "metadata": {},
   "outputs": [],
   "source": [
    "#mean_value=df['sleeping time_in_pm'].mean()\n",
    "#mean_value\n",
    "#df['sleeping time_in_pm '].fillna(value=mean_value, inplace=True) "
   ]
  },
  {
   "cell_type": "code",
   "execution_count": 232,
   "metadata": {},
   "outputs": [
    {
     "name": "stdout",
     "output_type": "stream",
     "text": [
      "The dataset contains 2.19 % missing values.\n"
     ]
    }
   ],
   "source": [
    "cleaner.percent_missing(df)"
   ]
  },
  {
   "cell_type": "code",
   "execution_count": 233,
   "metadata": {},
   "outputs": [],
   "source": [
    "df['parenting_style'].fillna(df['parenting_style'].mode()[0], inplace=True)\n",
    "df['time_with_parents'].fillna(df['time_with_parents'].mode()[0], inplace=True)\n",
    "df['communication_with_parents'].fillna(df['communication_with_parents'].mode()[0], inplace=True)\n",
    "df['reward_for_achievements'].fillna(df['reward_for_achievements'].mode()[0], inplace=True)\n",
    "df['parent_understanding'].fillna(df['parent_understanding'].mode()[0], inplace=True)\n",
    "df['travel time'].fillna(df['travel time'].mode()[0], inplace=True)\n",
    "df['mother_tongue'].fillna(df['mother_tongue'].mode()[0], inplace=True)\n",
    "df['curriculum'].fillna(df['curriculum'].mode()[0], inplace=True)\n",
    "df['trauma'].fillna(df['trauma'].mode()[0], inplace=True)\n",
    "df['exercice'].fillna(df['exercice'].mode()[0], inplace=True)\n",
    "df['type'].fillna(df['type'].mode()[0], inplace=True)\n",
    "df['sleeping time_in_pm'].fillna(df['sleeping time_in_pm'].mode()[0], inplace=True)\n",
    "df['residence'].fillna(df['residence'].mode()[0], inplace=True)\n",
    "df['birth_order'].fillna(df['birth_order'].mode()[0], inplace=True)\n",
    "df['hpe'].fillna(df['hpe'].mean(), inplace=True)\n"
   ]
  },
  {
   "attachments": {},
   "cell_type": "markdown",
   "metadata": {},
   "source": [
    "##### filling missing values has been completed using mode for categorical variables."
   ]
  },
  {
   "cell_type": "code",
   "execution_count": 234,
   "metadata": {},
   "outputs": [],
   "source": [
    "df['ict'].fillna(df['ict'].mean(), inplace=True)\n",
    "df['art'].fillna(df['art'].mean(), inplace=True)"
   ]
  },
  {
   "cell_type": "code",
   "execution_count": 235,
   "metadata": {},
   "outputs": [
    {
     "name": "stdout",
     "output_type": "stream",
     "text": [
      "The dataset contains 2.03 % missing values.\n"
     ]
    }
   ],
   "source": [
    "cleaner.percent_missing(df)"
   ]
  },
  {
   "attachments": {},
   "cell_type": "markdown",
   "metadata": {},
   "source": [
    "#####  Saving version3 of data into csv"
   ]
  },
  {
   "cell_type": "code",
   "execution_count": 236,
   "metadata": {},
   "outputs": [],
   "source": [
    "#df.to_csv('HS_nomv.csv', index=False)"
   ]
  },
  {
   "cell_type": "code",
   "execution_count": 237,
   "metadata": {},
   "outputs": [
    {
     "data": {
      "text/plain": [
       "name                           0\n",
       "conduct                        0\n",
       "age                            0\n",
       "gender                         0\n",
       "nationality                    0\n",
       "pob                            0\n",
       "tutor/makeup                   0\n",
       "grade                          0\n",
       "admission                      0\n",
       "guardian                       0\n",
       "time_with_parents              0\n",
       "communication_with_parents     0\n",
       "reward_for_achievements        0\n",
       "parent_understanding           0\n",
       "transport_type                 0\n",
       "residence                      0\n",
       "travel time                    0\n",
       "birth_order                    0\n",
       "exercice                       0\n",
       "previous_school                0\n",
       "mother_tongue                  0\n",
       "curriculum                     0\n",
       "sleeping time_in_pm            0\n",
       "parenting_style                0\n",
       "trauma                         0\n",
       "type                           0\n",
       "quality                        0\n",
       "english                        0\n",
       "amharic                        0\n",
       "arabic                         0\n",
       "geez                           0\n",
       "ict                            0\n",
       "maths                          0\n",
       "ss                             0\n",
       "gp                             0\n",
       "is                             0\n",
       "moral                          0\n",
       "hpe                            0\n",
       "art                            0\n",
       "chemistry                     49\n",
       "physics                       49\n",
       "gpa                            0\n",
       "dtype: int64"
      ]
     },
     "execution_count": 237,
     "metadata": {},
     "output_type": "execute_result"
    }
   ],
   "source": [
    "df.isna().sum()\n"
   ]
  },
  {
   "cell_type": "code",
   "execution_count": 238,
   "metadata": {},
   "outputs": [
    {
     "data": {
      "text/plain": [
       "name                           object\n",
       "conduct                        object\n",
       "age                           float64\n",
       "gender                         object\n",
       "nationality                    object\n",
       "pob                            object\n",
       "tutor/makeup                   object\n",
       "grade                           int64\n",
       "admission                      object\n",
       "guardian                       object\n",
       "time_with_parents              object\n",
       "communication_with_parents     object\n",
       "reward_for_achievements        object\n",
       "parent_understanding           object\n",
       "transport_type                 object\n",
       "residence                      object\n",
       "travel time                    object\n",
       "birth_order                    object\n",
       "exercice                        int64\n",
       "previous_school                object\n",
       "mother_tongue                  object\n",
       "curriculum                     object\n",
       "sleeping time_in_pm           float64\n",
       "parenting_style                object\n",
       "trauma                          int64\n",
       "type                           object\n",
       "quality                       float64\n",
       "english                       float64\n",
       "amharic                       float64\n",
       "arabic                        float64\n",
       "geez                          float64\n",
       "ict                           float64\n",
       "maths                         float64\n",
       "ss                            float64\n",
       "gp                            float64\n",
       "is                            float64\n",
       "moral                         float64\n",
       "hpe                           float64\n",
       "art                           float64\n",
       "chemistry                     float64\n",
       "physics                       float64\n",
       "gpa                           float64\n",
       "dtype: object"
      ]
     },
     "execution_count": 238,
     "metadata": {},
     "output_type": "execute_result"
    }
   ],
   "source": [
    "df.dtypes"
   ]
  },
  {
   "cell_type": "code",
   "execution_count": 239,
   "metadata": {},
   "outputs": [],
   "source": [
    "df['hpe'] = pd.to_numeric(df['hpe'])"
   ]
  },
  {
   "cell_type": "code",
   "execution_count": 240,
   "metadata": {},
   "outputs": [],
   "source": [
    "df['travel time'].value_counts()\n",
    "df['travel time'] = df['travel time'].astype(\"string\")"
   ]
  },
  {
   "cell_type": "code",
   "execution_count": 241,
   "metadata": {},
   "outputs": [],
   "source": [
    "for i in df.columns:\n",
    "    if df[i].dtype == 'O':\n",
    "        df[i] = df[i].astype(\"string\")"
   ]
  },
  {
   "cell_type": "code",
   "execution_count": 242,
   "metadata": {},
   "outputs": [
    {
     "data": {
      "text/plain": [
       "name                           string\n",
       "conduct                        string\n",
       "age                           float64\n",
       "gender                         string\n",
       "nationality                    string\n",
       "pob                            string\n",
       "tutor/makeup                   string\n",
       "grade                           int64\n",
       "admission                      string\n",
       "guardian                       string\n",
       "time_with_parents              string\n",
       "communication_with_parents     string\n",
       "reward_for_achievements        string\n",
       "parent_understanding           string\n",
       "transport_type                 string\n",
       "residence                      string\n",
       "travel time                    string\n",
       "birth_order                    string\n",
       "exercice                        int64\n",
       "previous_school                string\n",
       "mother_tongue                  string\n",
       "curriculum                     string\n",
       "sleeping time_in_pm           float64\n",
       "parenting_style                string\n",
       "trauma                          int64\n",
       "type                           string\n",
       "quality                       float64\n",
       "english                       float64\n",
       "amharic                       float64\n",
       "arabic                        float64\n",
       "geez                          float64\n",
       "ict                           float64\n",
       "maths                         float64\n",
       "ss                            float64\n",
       "gp                            float64\n",
       "is                            float64\n",
       "moral                         float64\n",
       "hpe                           float64\n",
       "art                           float64\n",
       "chemistry                     float64\n",
       "physics                       float64\n",
       "gpa                           float64\n",
       "dtype: object"
      ]
     },
     "execution_count": 242,
     "metadata": {},
     "output_type": "execute_result"
    }
   ],
   "source": [
    "df.dtypes"
   ]
  },
  {
   "cell_type": "code",
   "execution_count": 243,
   "metadata": {},
   "outputs": [
    {
     "data": {
      "text/plain": [
       "name                           0\n",
       "conduct                        0\n",
       "age                            0\n",
       "gender                         0\n",
       "nationality                    0\n",
       "pob                            0\n",
       "tutor/makeup                   0\n",
       "grade                          0\n",
       "admission                      0\n",
       "guardian                       0\n",
       "time_with_parents              0\n",
       "communication_with_parents     0\n",
       "reward_for_achievements        0\n",
       "parent_understanding           0\n",
       "transport_type                 0\n",
       "residence                      0\n",
       "travel time                    0\n",
       "birth_order                    0\n",
       "exercice                       0\n",
       "previous_school                0\n",
       "mother_tongue                  0\n",
       "curriculum                     0\n",
       "sleeping time_in_pm            0\n",
       "parenting_style                0\n",
       "trauma                         0\n",
       "type                           0\n",
       "quality                        0\n",
       "english                        0\n",
       "amharic                        0\n",
       "arabic                         0\n",
       "geez                           0\n",
       "ict                            0\n",
       "maths                          0\n",
       "ss                             0\n",
       "gp                             0\n",
       "is                             0\n",
       "moral                          0\n",
       "hpe                            0\n",
       "art                            0\n",
       "chemistry                     49\n",
       "physics                       49\n",
       "gpa                            0\n",
       "dtype: int64"
      ]
     },
     "execution_count": 243,
     "metadata": {},
     "output_type": "execute_result"
    }
   ],
   "source": [
    "df.isna().sum()"
   ]
  },
  {
   "cell_type": "code",
   "execution_count": 244,
   "metadata": {},
   "outputs": [
    {
     "data": {
      "text/plain": [
       "True"
      ]
     },
     "execution_count": 244,
     "metadata": {},
     "output_type": "execute_result"
    }
   ],
   "source": [
    "df.type.dtype == 'string'"
   ]
  },
  {
   "cell_type": "code",
   "execution_count": 245,
   "metadata": {},
   "outputs": [],
   "source": [
    "for i in df.columns:\n",
    "    if df[i].dtype == 'string':\n",
    "        df[i] = df[i].apply(lambda x: x.lower())"
   ]
  },
  {
   "cell_type": "code",
   "execution_count": 246,
   "metadata": {},
   "outputs": [
    {
     "data": {
      "text/plain": [
       "f    65\n",
       "m    50\n",
       "Name: gender, dtype: int64"
      ]
     },
     "execution_count": 246,
     "metadata": {},
     "output_type": "execute_result"
    }
   ],
   "source": [
    "df['gender'].value_counts()"
   ]
  },
  {
   "cell_type": "code",
   "execution_count": 247,
   "metadata": {},
   "outputs": [
    {
     "data": {
      "text/plain": [
       "a    84\n",
       "b    21\n",
       "c    10\n",
       "Name: conduct, dtype: int64"
      ]
     },
     "execution_count": 247,
     "metadata": {},
     "output_type": "execute_result"
    }
   ],
   "source": [
    "df.conduct.value_counts()"
   ]
  },
  {
   "cell_type": "code",
   "execution_count": 248,
   "metadata": {},
   "outputs": [
    {
     "data": {
      "text/plain": [
       "ethiopian    94\n",
       "american     19\n",
       "canadian      1\n",
       "british       1\n",
       "Name: nationality, dtype: int64"
      ]
     },
     "execution_count": 248,
     "metadata": {},
     "output_type": "execute_result"
    }
   ],
   "source": [
    "df.nationality.value_counts()\n",
    "df.nationality = df['nationality'].replace('ethiopian ', 'ethiopian')\n",
    "df.nationality.value_counts()"
   ]
  },
  {
   "cell_type": "code",
   "execution_count": 249,
   "metadata": {},
   "outputs": [
    {
     "data": {
      "text/plain": [
       "ethiopia        82\n",
       "usa             27\n",
       "addis ababa      3\n",
       "south africa     2\n",
       "london           1\n",
       "Name: pob, dtype: int64"
      ]
     },
     "execution_count": 249,
     "metadata": {},
     "output_type": "execute_result"
    }
   ],
   "source": [
    "df['pob'].value_counts()"
   ]
  },
  {
   "cell_type": "code",
   "execution_count": 250,
   "metadata": {},
   "outputs": [
    {
     "data": {
      "text/plain": [
       "ethiopia        85\n",
       "usa             27\n",
       "south africa     2\n",
       "london           1\n",
       "Name: pob, dtype: int64"
      ]
     },
     "execution_count": 250,
     "metadata": {},
     "output_type": "execute_result"
    }
   ],
   "source": [
    "df.pob = df['pob'].replace('addis ababa', 'ethiopia')\n",
    "df['pob'].value_counts()"
   ]
  },
  {
   "cell_type": "code",
   "execution_count": 251,
   "metadata": {},
   "outputs": [
    {
     "data": {
      "text/plain": [
       "no     62\n",
       "yes    53\n",
       "Name: tutor/makeup, dtype: int64"
      ]
     },
     "execution_count": 251,
     "metadata": {},
     "output_type": "execute_result"
    }
   ],
   "source": [
    "df['tutor/makeup'].value_counts()"
   ]
  },
  {
   "cell_type": "code",
   "execution_count": 252,
   "metadata": {},
   "outputs": [
    {
     "data": {
      "text/plain": [
       "7    37\n",
       "8    30\n",
       "6    26\n",
       "5    22\n",
       "Name: grade, dtype: int64"
      ]
     },
     "execution_count": 252,
     "metadata": {},
     "output_type": "execute_result"
    }
   ],
   "source": [
    "df.grade.value_counts()"
   ]
  },
  {
   "cell_type": "code",
   "execution_count": 253,
   "metadata": {},
   "outputs": [
    {
     "data": {
      "text/plain": [
       "paid           90\n",
       "scholarship    25\n",
       "Name: admission, dtype: int64"
      ]
     },
     "execution_count": 253,
     "metadata": {},
     "output_type": "execute_result"
    }
   ],
   "source": [
    "df.admission.value_counts()"
   ]
  },
  {
   "cell_type": "code",
   "execution_count": 254,
   "metadata": {},
   "outputs": [
    {
     "data": {
      "text/plain": [
       "both      88\n",
       "mother    21\n",
       "other      6\n",
       "Name: guardian, dtype: int64"
      ]
     },
     "execution_count": 254,
     "metadata": {},
     "output_type": "execute_result"
    }
   ],
   "source": [
    "df.guardian.value_counts()"
   ]
  },
  {
   "cell_type": "code",
   "execution_count": 255,
   "metadata": {},
   "outputs": [],
   "source": [
    "df['time_with_parents'].value_counts()\n",
    "df['time_with_parents'] = df['time_with_parents'].replace(' a lot', 'a lot')\n",
    "df['time_with_parents'] = df['time_with_parents'].replace('little ', 'little')\n",
    "df['time_with_parents'] = df['time_with_parents'].replace('a lot ', 'a lot')"
   ]
  },
  {
   "cell_type": "code",
   "execution_count": 256,
   "metadata": {},
   "outputs": [
    {
     "data": {
      "text/plain": [
       "a lot       92\n",
       "little      19\n",
       "not much     4\n",
       "Name: time_with_parents, dtype: int64"
      ]
     },
     "execution_count": 256,
     "metadata": {},
     "output_type": "execute_result"
    }
   ],
   "source": [
    "df['time_with_parents'].value_counts()"
   ]
  },
  {
   "cell_type": "code",
   "execution_count": 257,
   "metadata": {},
   "outputs": [
    {
     "data": {
      "text/plain": [
       "strongly agree       56\n",
       "agree                39\n",
       "somehow agree        15\n",
       "disagree              4\n",
       "strongly disagree     1\n",
       "Name: communication_with_parents, dtype: int64"
      ]
     },
     "execution_count": 257,
     "metadata": {},
     "output_type": "execute_result"
    }
   ],
   "source": [
    "df['communication_with_parents'].value_counts()"
   ]
  },
  {
   "cell_type": "code",
   "execution_count": 258,
   "metadata": {},
   "outputs": [
    {
     "data": {
      "text/plain": [
       "strongly agree       65\n",
       "agree                33\n",
       "somehow agree        14\n",
       "strongly disagree     2\n",
       "disagree              1\n",
       "Name: reward_for_achievements, dtype: int64"
      ]
     },
     "execution_count": 258,
     "metadata": {},
     "output_type": "execute_result"
    }
   ],
   "source": [
    "df['reward_for_achievements'].value_counts()"
   ]
  },
  {
   "cell_type": "code",
   "execution_count": 259,
   "metadata": {},
   "outputs": [
    {
     "data": {
      "text/plain": [
       "strongly agree       42\n",
       "agree                37\n",
       "somehow agree        21\n",
       "disagree             10\n",
       "strongly disagree     5\n",
       "Name: parent_understanding, dtype: int64"
      ]
     },
     "execution_count": 259,
     "metadata": {},
     "output_type": "execute_result"
    }
   ],
   "source": [
    "df['parent_understanding'].value_counts()"
   ]
  },
  {
   "cell_type": "code",
   "execution_count": 260,
   "metadata": {},
   "outputs": [
    {
     "data": {
      "text/plain": [
       "private    82\n",
       "service    21\n",
       "public     11\n",
       "foot        1\n",
       "Name: transport_type, dtype: int64"
      ]
     },
     "execution_count": 260,
     "metadata": {},
     "output_type": "execute_result"
    }
   ],
   "source": [
    "df.transport_type.value_counts() "
   ]
  },
  {
   "cell_type": "code",
   "execution_count": 261,
   "metadata": {},
   "outputs": [
    {
     "data": {
      "text/plain": [
       "lebu               10\n",
       "sarbet              7\n",
       "jemo                7\n",
       "kality              6\n",
       "bethel              6\n",
       "german square       5\n",
       "bole                4\n",
       "jemo 2              4\n",
       "torhailoch          4\n",
       "bole atlas          4\n",
       "kolfe               4\n",
       "haile garment       4\n",
       "ayertena            3\n",
       "asco                3\n",
       "bisrate gabriel     3\n",
       "lafto               2\n",
       "jemo 1              2\n",
       "zenebework          2\n",
       "jemo 3              2\n",
       "anfo                2\n",
       "bole bulbula        2\n",
       "atena tera          2\n",
       "gerji               2\n",
       "meskel flower       2\n",
       "gulele              2\n",
       "gofa gabriel        1\n",
       "kara kore           1\n",
       "ayer tena           1\n",
       "tulu dimtu          1\n",
       "paulos              1\n",
       "gelan               1\n",
       "china camp          1\n",
       "old airport         1\n",
       "weyra               1\n",
       "cmc                 1\n",
       "kera                1\n",
       "gotera              1\n",
       "bole michael        1\n",
       "kazanchis           1\n",
       "mekanisa            1\n",
       "ayat                1\n",
       "wingate             1\n",
       "welete              1\n",
       "sululta             1\n",
       "sefera              1\n",
       "gola                1\n",
       "Name: residence, dtype: int64"
      ]
     },
     "execution_count": 261,
     "metadata": {},
     "output_type": "execute_result"
    }
   ],
   "source": [
    "df.residence.value_counts()"
   ]
  },
  {
   "cell_type": "code",
   "execution_count": 262,
   "metadata": {},
   "outputs": [],
   "source": [
    "df.residence = df['residence'].replace('bisrate gabriel', 'sarbet')\n",
    "df.residence = df['residence'].replace('jemo 2', 'jemo')\n",
    "df.residence = df['residence'].replace('jemo 1', 'jemo')\n",
    "df.residence = df['residence'].replace('jemo 3', 'jemo')\n",
    "df.residence = df['residence'].replace('ayer tena', 'ayertena')\n",
    "df.residence = df['residence'].replace('bole atlas', 'bole')"
   ]
  },
  {
   "cell_type": "code",
   "execution_count": 288,
   "metadata": {},
   "outputs": [
    {
     "data": {
      "text/plain": [
       "array(['ayertena', 'haile garment', 'sarbet', 'gulele', 'meskel flower',\n",
       "       'torhailoch', 'kality', 'german square', 'bethel', 'gerji', 'jemo',\n",
       "       'lebu', 'kolfe', 'atena tera', 'bole', 'sefera', 'sululta', 'anfo',\n",
       "       'welete', 'asco', 'kera', 'zenebework', 'wingate', 'lafto', 'ayat',\n",
       "       'mekanisa', 'kazanchis', 'bole michael', 'gotera', 'old airport',\n",
       "       'cmc', 'bole bulbula', 'gofa gabriel', 'kara kore', 'paulos',\n",
       "       'gelan', 'china camp', 'tulu dimtu', 'weyra', 'gola'], dtype=object)"
      ]
     },
     "execution_count": 288,
     "metadata": {},
     "output_type": "execute_result"
    }
   ],
   "source": [
    "df.residence.unique()\n"
   ]
  },
  {
   "cell_type": "code",
   "execution_count": 263,
   "metadata": {},
   "outputs": [
    {
     "data": {
      "text/plain": [
       "jemo             15\n",
       "sarbet           10\n",
       "lebu             10\n",
       "bole              8\n",
       "kality            6\n",
       "bethel            6\n",
       "german square     5\n",
       "haile garment     4\n",
       "kolfe             4\n",
       "ayertena          4\n",
       "torhailoch        4\n",
       "asco              3\n",
       "anfo              2\n",
       "bole bulbula      2\n",
       "lafto             2\n",
       "zenebework        2\n",
       "gulele            2\n",
       "gerji             2\n",
       "atena tera        2\n",
       "meskel flower     2\n",
       "china camp        1\n",
       "tulu dimtu        1\n",
       "weyra             1\n",
       "old airport       1\n",
       "gelan             1\n",
       "paulos            1\n",
       "kara kore         1\n",
       "gofa gabriel      1\n",
       "cmc               1\n",
       "kera              1\n",
       "gotera            1\n",
       "bole michael      1\n",
       "kazanchis         1\n",
       "mekanisa          1\n",
       "ayat              1\n",
       "wingate           1\n",
       "welete            1\n",
       "sululta           1\n",
       "sefera            1\n",
       "gola              1\n",
       "Name: residence, dtype: int64"
      ]
     },
     "execution_count": 263,
     "metadata": {},
     "output_type": "execute_result"
    }
   ],
   "source": [
    "df.residence.value_counts()"
   ]
  },
  {
   "cell_type": "code",
   "execution_count": 264,
   "metadata": {},
   "outputs": [
    {
     "data": {
      "text/plain": [
       "15-30    46\n",
       "30-60    44\n",
       "15-      14\n",
       "60+      11\n",
       "Name: travel time, dtype: int64"
      ]
     },
     "execution_count": 264,
     "metadata": {},
     "output_type": "execute_result"
    }
   ],
   "source": [
    "df['travel time'].value_counts()\n",
    "df['travel time'] = df['travel time'].replace(\"30'60\", \"30-60\")\n",
    "df['travel time'].value_counts()"
   ]
  },
  {
   "cell_type": "code",
   "execution_count": 265,
   "metadata": {},
   "outputs": [
    {
     "data": {
      "text/plain": [
       "first child     52\n",
       "middle child    39\n",
       "last child      24\n",
       "Name: birth_order, dtype: int64"
      ]
     },
     "execution_count": 265,
     "metadata": {},
     "output_type": "execute_result"
    }
   ],
   "source": [
    "df.birth_order.value_counts() "
   ]
  },
  {
   "cell_type": "code",
   "execution_count": 266,
   "metadata": {},
   "outputs": [
    {
     "data": {
      "text/plain": [
       "2    36\n",
       "3    32\n",
       "1    25\n",
       "0    15\n",
       "5     3\n",
       "4     2\n",
       "6     2\n",
       "Name: exercice, dtype: int64"
      ]
     },
     "execution_count": 266,
     "metadata": {},
     "output_type": "execute_result"
    }
   ],
   "source": [
    "df['exercice'].value_counts()"
   ]
  },
  {
   "cell_type": "code",
   "execution_count": 267,
   "metadata": {},
   "outputs": [
    {
     "data": {
      "text/plain": [
       "3    39\n",
       "2    36\n",
       "1    25\n",
       "0    15\n",
       "Name: exercice, dtype: int64"
      ]
     },
     "execution_count": 267,
     "metadata": {},
     "output_type": "execute_result"
    }
   ],
   "source": [
    "#Check for value ranges and make corrections\n",
    "def polar(x):\n",
    "    if x > 3:\n",
    "        return 3\n",
    "    else:\n",
    "        return x\n",
    "    \n",
    "df.exercice = df.exercice.apply(polar)   \n",
    "df.exercice.value_counts()"
   ]
  },
  {
   "cell_type": "code",
   "execution_count": 268,
   "metadata": {},
   "outputs": [
    {
     "data": {
      "text/plain": [
       "neps                   13\n",
       "intellectual           10\n",
       "school of nations       8\n",
       "jemo 2                  7\n",
       "gibson                  7\n",
       "beteseb academy         6\n",
       "rice                    6\n",
       "abay                    5\n",
       "hilltops                4\n",
       "spring of knowledge     4\n",
       "flipper                 2\n",
       "Name: previous_school, dtype: int64"
      ]
     },
     "execution_count": 268,
     "metadata": {},
     "output_type": "execute_result"
    }
   ],
   "source": [
    "df['previous_school'] = df['previous_school'].replace('maarif', 'intellectual')\n",
    "df['previous_school'] = df['previous_school'].replace('lycee ', 'lycee')\n",
    "df['previous_school'] = df['previous_school'].replace('greek', 'greek school')\n",
    "df['previous_school'] = df['previous_school'].replace('Jemo 2 Primary School', 'jemo 2')\n",
    "df['previous_school'] = df['previous_school'].replace('beteseb', 'beteseb academy')\n",
    "df['previous_school'] = df['previous_school'].replace('discovery','school of science')\n",
    "df['previous_school'] = df['previous_school'].replace('discovery school of science ane tech','school of science')\n",
    "df['previous_school'] = df['previous_school'].replace('saint francis','st francis')\n",
    "df.previous_school.value_counts()[:11] "
   ]
  },
  {
   "cell_type": "code",
   "execution_count": 269,
   "metadata": {},
   "outputs": [],
   "source": [
    "#foriegn schools\n",
    "\n",
    "foriegn_schools = ['coleridge potomac' ,'bingham','forest trail' ,'herbert hoover' ,\n",
    "'old lady rivers' , 'st francis' , 'apillo' , 'hieman', 'discovery', 'bicolos']\n",
    "\n"
   ]
  },
  {
   "cell_type": "code",
   "execution_count": 270,
   "metadata": {},
   "outputs": [
    {
     "data": {
      "text/html": [
       "<div>\n",
       "<style scoped>\n",
       "    .dataframe tbody tr th:only-of-type {\n",
       "        vertical-align: middle;\n",
       "    }\n",
       "\n",
       "    .dataframe tbody tr th {\n",
       "        vertical-align: top;\n",
       "    }\n",
       "\n",
       "    .dataframe thead th {\n",
       "        text-align: right;\n",
       "    }\n",
       "</style>\n",
       "<table border=\"1\" class=\"dataframe\">\n",
       "  <thead>\n",
       "    <tr style=\"text-align: right;\">\n",
       "      <th></th>\n",
       "      <th>nationality</th>\n",
       "      <th>pob</th>\n",
       "      <th>admission</th>\n",
       "      <th>previous_school</th>\n",
       "    </tr>\n",
       "  </thead>\n",
       "  <tbody>\n",
       "    <tr>\n",
       "      <th>46</th>\n",
       "      <td>american</td>\n",
       "      <td>usa</td>\n",
       "      <td>paid</td>\n",
       "      <td>school of science</td>\n",
       "    </tr>\n",
       "    <tr>\n",
       "      <th>87</th>\n",
       "      <td>american</td>\n",
       "      <td>ethiopia</td>\n",
       "      <td>paid</td>\n",
       "      <td>school of science</td>\n",
       "    </tr>\n",
       "  </tbody>\n",
       "</table>\n",
       "</div>"
      ],
      "text/plain": [
       "   nationality       pob admission    previous_school\n",
       "46    american       usa      paid  school of science\n",
       "87    american  ethiopia      paid  school of science"
      ]
     },
     "execution_count": 270,
     "metadata": {},
     "output_type": "execute_result"
    }
   ],
   "source": [
    "df[df.previous_school == 'school of science'][['nationality', 'pob', 'admission', 'previous_school']]"
   ]
  },
  {
   "cell_type": "code",
   "execution_count": 271,
   "metadata": {},
   "outputs": [
    {
     "data": {
      "text/html": [
       "<div>\n",
       "<style scoped>\n",
       "    .dataframe tbody tr th:only-of-type {\n",
       "        vertical-align: middle;\n",
       "    }\n",
       "\n",
       "    .dataframe tbody tr th {\n",
       "        vertical-align: top;\n",
       "    }\n",
       "\n",
       "    .dataframe thead th {\n",
       "        text-align: right;\n",
       "    }\n",
       "</style>\n",
       "<table border=\"1\" class=\"dataframe\">\n",
       "  <thead>\n",
       "    <tr style=\"text-align: right;\">\n",
       "      <th></th>\n",
       "      <th>nationality</th>\n",
       "      <th>pob</th>\n",
       "      <th>admission</th>\n",
       "      <th>previous_school</th>\n",
       "    </tr>\n",
       "  </thead>\n",
       "  <tbody>\n",
       "    <tr>\n",
       "      <th>0</th>\n",
       "      <td>ethiopian</td>\n",
       "      <td>ethiopia</td>\n",
       "      <td>paid</td>\n",
       "      <td>diamond</td>\n",
       "    </tr>\n",
       "  </tbody>\n",
       "</table>\n",
       "</div>"
      ],
      "text/plain": [
       "  nationality       pob admission previous_school\n",
       "0   ethiopian  ethiopia      paid         diamond"
      ]
     },
     "execution_count": 271,
     "metadata": {},
     "output_type": "execute_result"
    }
   ],
   "source": [
    "df[df.previous_school == 'diamond'] [['nationality', 'pob', 'admission', 'previous_school']]"
   ]
  },
  {
   "cell_type": "code",
   "execution_count": 272,
   "metadata": {},
   "outputs": [
    {
     "data": {
      "text/plain": [
       "array(['diamond', 'southwest', 'greek school', 'gibson',\n",
       "       'school of nations', 'neps', 'potomac', 'cambridge',\n",
       "       'spring of knowledge', 'forest trail', 'intellectual', 'renence',\n",
       "       'st francis', 'rice', 'hilltops', 'apillo', 'beteseb academy',\n",
       "       'old lady rivers', 'st joseph', 'coleridge', 'jemo 2', 'unity',\n",
       "       'lion heart', 'school of tomorrow', 'bikolos', 'stanford',\n",
       "       'school of science', 'hieman', 'lelisies talent', 'meseret edget',\n",
       "       'biruh tesfa', 'herbert hoover', 'one planet', 'bgis',\n",
       "       'prestigious youth', 'abay', 'lycee', 'flipper', 'kb academy',\n",
       "       'lesperance', 'akaki kality menbere', 'netsanet chora', 'emmanuel',\n",
       "       'bingham', 'future talent', 'kotari', 'nowzes', 'online'],\n",
       "      dtype=object)"
      ]
     },
     "execution_count": 272,
     "metadata": {},
     "output_type": "execute_result"
    }
   ],
   "source": [
    "df.previous_school.unique()"
   ]
  },
  {
   "cell_type": "code",
   "execution_count": 273,
   "metadata": {},
   "outputs": [
    {
     "data": {
      "text/plain": [
       "eth-lang    90\n",
       "for-lang    25\n",
       "Name: mother_tongue, dtype: int64"
      ]
     },
     "execution_count": 273,
     "metadata": {},
     "output_type": "execute_result"
    }
   ],
   "source": [
    "df.mother_tongue.value_counts()\n",
    "df['mother_tongue'] = df['mother_tongue'].replace('engish', 'english')\n",
    "df['mother_tongue'] = df['mother_tongue'].replace('english', 'for-lang')\n",
    "df['mother_tongue'] = df['mother_tongue'].replace('arabic', 'for-lang')\n",
    "df['mother_tongue'] = df['mother_tongue'].replace('norwegian', 'for-lang')\n",
    "df['mother_tongue'] = df['mother_tongue'].replace('afan oromo', 'eth-lang')\n",
    "df['mother_tongue'] = df['mother_tongue'].replace('amharic', 'eth-lang')\n",
    "df.mother_tongue.value_counts()"
   ]
  },
  {
   "cell_type": "code",
   "execution_count": 274,
   "metadata": {},
   "outputs": [
    {
     "data": {
      "text/plain": [
       "yes    81\n",
       "no     34\n",
       "Name: curriculum, dtype: int64"
      ]
     },
     "execution_count": 274,
     "metadata": {},
     "output_type": "execute_result"
    }
   ],
   "source": [
    "df['curriculum'].value_counts()"
   ]
  },
  {
   "cell_type": "code",
   "execution_count": 275,
   "metadata": {},
   "outputs": [],
   "source": [
    "#df['sleeping time_in_pm'].value_counts()"
   ]
  },
  {
   "cell_type": "code",
   "execution_count": 276,
   "metadata": {},
   "outputs": [
    {
     "data": {
      "text/plain": [
       "authoritative    78\n",
       "authoritarian    28\n",
       "permissive        5\n",
       "authoriattive     2\n",
       "uninvolved        1\n",
       "authoriative      1\n",
       "Name: parenting_style, dtype: int64"
      ]
     },
     "execution_count": 276,
     "metadata": {},
     "output_type": "execute_result"
    }
   ],
   "source": [
    "df.parenting_style.value_counts()"
   ]
  },
  {
   "cell_type": "code",
   "execution_count": 277,
   "metadata": {},
   "outputs": [],
   "source": [
    "df['parenting_style'] = df['parenting_style'].replace('authoriattive', 'authoritative')\n",
    "df['parenting_style'] = df['parenting_style'].replace('authoriative', 'authoritative')\n"
   ]
  },
  {
   "cell_type": "code",
   "execution_count": 278,
   "metadata": {},
   "outputs": [
    {
     "data": {
      "text/plain": [
       "authoritative    81\n",
       "authoritarian    28\n",
       "permissive        5\n",
       "uninvolved        1\n",
       "Name: parenting_style, dtype: int64"
      ]
     },
     "execution_count": 278,
     "metadata": {},
     "output_type": "execute_result"
    }
   ],
   "source": [
    "df.parenting_style.value_counts()"
   ]
  },
  {
   "cell_type": "code",
   "execution_count": 279,
   "metadata": {},
   "outputs": [
    {
     "data": {
      "image/png": "[encoded data removed]",
      "text/plain": [
       "<Figure size 520x280 with 1 Axes>"
      ]
     },
     "metadata": {},
     "output_type": "display_data"
    }
   ],
   "source": [
    "sns.set(rc={'figure.figsize':(5.2,2.8)})\n",
    "sns.set_palette(\"Blues_r\")\n",
    "sns.set_style(\"white\")\n",
    "ax = sns.countplot(data = df, y='parenting_style', order=df['parenting_style'].value_counts().index)\n",
    "sns.despine(bottom=True, left=True)\n",
    "plt.ylabel(\"\", size=10)\n",
    "plt.xlabel(\"\", size=10)\n",
    "plt.title(\"Parenting Style of students\")\n",
    "ax.tick_params(bottom=False)\n",
    "ax.tick_params(left=False)"
   ]
  },
  {
   "cell_type": "code",
   "execution_count": 280,
   "metadata": {},
   "outputs": [
    {
     "data": {
      "text/plain": [
       "0    84\n",
       "1    31\n",
       "Name: trauma, dtype: int64"
      ]
     },
     "execution_count": 280,
     "metadata": {},
     "output_type": "execute_result"
    }
   ],
   "source": [
    "df.trauma.value_counts()"
   ]
  },
  {
   "cell_type": "code",
   "execution_count": 281,
   "metadata": {},
   "outputs": [
    {
     "data": {
      "text/plain": [
       "none             94\n",
       "emotional         7\n",
       "physical          5\n",
       "physcological     2\n",
       "phy               2\n",
       "emopsy            1\n",
       "emoxpsy           1\n",
       "phyemo            1\n",
       "phyemopsy         1\n",
       "psyemo            1\n",
       "Name: type, dtype: int64"
      ]
     },
     "execution_count": 281,
     "metadata": {},
     "output_type": "execute_result"
    }
   ],
   "source": [
    "df.type.value_counts()"
   ]
  },
  {
   "cell_type": "code",
   "execution_count": 282,
   "metadata": {},
   "outputs": [
    {
     "data": {
      "text/plain": [
       "88.09478260869567"
      ]
     },
     "execution_count": 282,
     "metadata": {},
     "output_type": "execute_result"
    }
   ],
   "source": [
    "df.gpa.mean()"
   ]
  },
  {
   "cell_type": "code",
   "execution_count": 283,
   "metadata": {},
   "outputs": [
    {
     "data": {
      "text/plain": [
       "3.8195652173913044"
      ]
     },
     "execution_count": 283,
     "metadata": {},
     "output_type": "execute_result"
    }
   ],
   "source": [
    "df.quality.mean()"
   ]
  },
  {
   "cell_type": "code",
   "execution_count": 284,
   "metadata": {},
   "outputs": [
    {
     "name": "stdout",
     "output_type": "stream",
     "text": [
      "<class 'pandas.core.frame.DataFrame'>\n",
      "RangeIndex: 115 entries, 0 to 114\n",
      "Data columns (total 42 columns):\n",
      " #   Column                      Non-Null Count  Dtype  \n",
      "---  ------                      --------------  -----  \n",
      " 0   name                        115 non-null    object \n",
      " 1   conduct                     115 non-null    object \n",
      " 2   age                         115 non-null    float64\n",
      " 3   gender                      115 non-null    object \n",
      " 4   nationality                 115 non-null    object \n",
      " 5   pob                         115 non-null    object \n",
      " 6   tutor/makeup                115 non-null    object \n",
      " 7   grade                       115 non-null    int64  \n",
      " 8   admission                   115 non-null    object \n",
      " 9   guardian                    115 non-null    object \n",
      " 10  time_with_parents           115 non-null    object \n",
      " 11  communication_with_parents  115 non-null    object \n",
      " 12  reward_for_achievements     115 non-null    object \n",
      " 13  parent_understanding        115 non-null    object \n",
      " 14  transport_type              115 non-null    object \n",
      " 15  residence                   115 non-null    object \n",
      " 16  travel time                 115 non-null    object \n",
      " 17  birth_order                 115 non-null    object \n",
      " 18  exercice                    115 non-null    int64  \n",
      " 19  previous_school             115 non-null    object \n",
      " 20  mother_tongue               115 non-null    object \n",
      " 21  curriculum                  115 non-null    object \n",
      " 22  sleeping time_in_pm         115 non-null    float64\n",
      " 23  parenting_style             115 non-null    object \n",
      " 24  trauma                      115 non-null    int64  \n",
      " 25  type                        115 non-null    object \n",
      " 26  quality                     115 non-null    float64\n",
      " 27  english                     115 non-null    float64\n",
      " 28  amharic                     115 non-null    float64\n",
      " 29  arabic                      115 non-null    float64\n",
      " 30  geez                        115 non-null    float64\n",
      " 31  ict                         115 non-null    float64\n",
      " 32  maths                       115 non-null    float64\n",
      " 33  ss                          115 non-null    float64\n",
      " 34  gp                          115 non-null    float64\n",
      " 35  is                          115 non-null    float64\n",
      " 36  moral                       115 non-null    float64\n",
      " 37  hpe                         115 non-null    float64\n",
      " 38  art                         115 non-null    float64\n",
      " 39  chemistry                   66 non-null     float64\n",
      " 40  physics                     66 non-null     float64\n",
      " 41  gpa                         115 non-null    float64\n",
      "dtypes: float64(18), int64(3), object(21)\n",
      "memory usage: 37.9+ KB\n"
     ]
    }
   ],
   "source": [
    "df.info()"
   ]
  },
  {
   "cell_type": "code",
   "execution_count": 285,
   "metadata": {},
   "outputs": [
    {
     "data": {
      "text/html": [
       "<div>\n",
       "<style scoped>\n",
       "    .dataframe tbody tr th:only-of-type {\n",
       "        vertical-align: middle;\n",
       "    }\n",
       "\n",
       "    .dataframe tbody tr th {\n",
       "        vertical-align: top;\n",
       "    }\n",
       "\n",
       "    .dataframe thead th {\n",
       "        text-align: right;\n",
       "    }\n",
       "</style>\n",
       "<table border=\"1\" class=\"dataframe\">\n",
       "  <thead>\n",
       "    <tr style=\"text-align: right;\">\n",
       "      <th></th>\n",
       "      <th>name</th>\n",
       "      <th>conduct</th>\n",
       "      <th>age</th>\n",
       "      <th>gender</th>\n",
       "      <th>nationality</th>\n",
       "      <th>pob</th>\n",
       "      <th>tutor/makeup</th>\n",
       "      <th>grade</th>\n",
       "      <th>admission</th>\n",
       "      <th>guardian</th>\n",
       "      <th>time_with_parents</th>\n",
       "      <th>communication_with_parents</th>\n",
       "      <th>reward_for_achievements</th>\n",
       "      <th>parent_understanding</th>\n",
       "      <th>transport_type</th>\n",
       "      <th>residence</th>\n",
       "      <th>travel time</th>\n",
       "      <th>birth_order</th>\n",
       "      <th>exercice</th>\n",
       "      <th>previous_school</th>\n",
       "      <th>mother_tongue</th>\n",
       "      <th>curriculum</th>\n",
       "      <th>sleeping time_in_pm</th>\n",
       "      <th>parenting_style</th>\n",
       "      <th>trauma</th>\n",
       "      <th>type</th>\n",
       "      <th>quality</th>\n",
       "      <th>english</th>\n",
       "      <th>amharic</th>\n",
       "      <th>arabic</th>\n",
       "      <th>geez</th>\n",
       "      <th>ict</th>\n",
       "      <th>maths</th>\n",
       "      <th>ss</th>\n",
       "      <th>gp</th>\n",
       "      <th>is</th>\n",
       "      <th>moral</th>\n",
       "      <th>hpe</th>\n",
       "      <th>art</th>\n",
       "      <th>chemistry</th>\n",
       "      <th>physics</th>\n",
       "      <th>gpa</th>\n",
       "    </tr>\n",
       "  </thead>\n",
       "  <tbody>\n",
       "  </tbody>\n",
       "</table>\n",
       "</div>"
      ],
      "text/plain": [
       "Empty DataFrame\n",
       "Columns: [name, conduct, age, gender, nationality, pob, tutor/makeup, grade, admission, guardian, time_with_parents, communication_with_parents, reward_for_achievements, parent_understanding, transport_type, residence, travel time, birth_order, exercice, previous_school, mother_tongue, curriculum, sleeping time_in_pm, parenting_style, trauma, type, quality, english, amharic, arabic, geez, ict, maths, ss, gp, is, moral, hpe, art, chemistry, physics, gpa]\n",
       "Index: []"
      ]
     },
     "execution_count": 285,
     "metadata": {},
     "output_type": "execute_result"
    }
   ],
   "source": [
    "df[df.duplicated()==True]\n",
    "#no duplicate values"
   ]
  },
  {
   "cell_type": "code",
   "execution_count": 286,
   "metadata": {},
   "outputs": [
    {
     "name": "stdout",
     "output_type": "stream",
     "text": [
      "The dataset contains 2.03 % missing values.\n"
     ]
    }
   ],
   "source": [
    "cleaner.percent_missing(df)"
   ]
  }
 ],
 "metadata": {
  "kernelspec": {
   "display_name": "base",
   "language": "python",
   "name": "python3"
  },
  "language_info": {
   "codemirror_mode": {
    "name": "ipython",
    "version": 3
   },
   "file_extension": ".py",
   "mimetype": "text/x-python",
   "name": "python",
   "nbconvert_exporter": "python",
   "pygments_lexer": "ipython3",
   "version": "3.9.13"
  },
  "orig_nbformat": 4
 },
 "nbformat": 4,
 "nbformat_minor": 2
}
