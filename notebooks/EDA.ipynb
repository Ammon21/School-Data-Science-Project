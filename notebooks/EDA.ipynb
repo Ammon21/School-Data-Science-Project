{
 "cells": [
  {
   "attachments": {},
   "cell_type": "markdown",
   "metadata": {},
   "source": [
    "# EDA"
   ]
  },
  {
   "attachments": {},
   "cell_type": "markdown",
   "metadata": {},
   "source": [
    "## Loading Libraries"
   ]
  },
  {
   "cell_type": "code",
   "execution_count": 85,
   "metadata": {},
   "outputs": [],
   "source": [
    "import pandas as pd\n",
    "import numpy as np\n",
    "import seaborn as sns\n",
    "import plotly.express as px\n",
    "import matplotlib.pyplot as plt\n",
    "import warnings\n",
    "warnings.filterwarnings('ignore')\n",
    "pd.set_option('display.max_columns', 70)"
   ]
  },
  {
   "cell_type": "code",
   "execution_count": 70,
   "metadata": {},
   "outputs": [
    {
     "data": {
      "text/html": [
       "<div>\n",
       "<style scoped>\n",
       "    .dataframe tbody tr th:only-of-type {\n",
       "        vertical-align: middle;\n",
       "    }\n",
       "\n",
       "    .dataframe tbody tr th {\n",
       "        vertical-align: top;\n",
       "    }\n",
       "\n",
       "    .dataframe thead th {\n",
       "        text-align: right;\n",
       "    }\n",
       "</style>\n",
       "<table border=\"1\" class=\"dataframe\">\n",
       "  <thead>\n",
       "    <tr style=\"text-align: right;\">\n",
       "      <th></th>\n",
       "      <th>conduct</th>\n",
       "      <th>age</th>\n",
       "      <th>gender</th>\n",
       "      <th>nationality</th>\n",
       "      <th>pob</th>\n",
       "      <th>tutor/makeup</th>\n",
       "      <th>grade</th>\n",
       "      <th>admission</th>\n",
       "      <th>guardian</th>\n",
       "      <th>time_with_parents</th>\n",
       "      <th>communication_with_parents</th>\n",
       "      <th>reward_for_achievements</th>\n",
       "      <th>parent_understanding</th>\n",
       "      <th>transport_type</th>\n",
       "      <th>residence</th>\n",
       "      <th>travel time</th>\n",
       "      <th>birth_order</th>\n",
       "      <th>exercice</th>\n",
       "      <th>previous_school</th>\n",
       "      <th>mother_tongue</th>\n",
       "      <th>curriculum</th>\n",
       "      <th>sleeping time_in_pm</th>\n",
       "      <th>parenting_style</th>\n",
       "      <th>trauma</th>\n",
       "      <th>type</th>\n",
       "      <th>quality</th>\n",
       "      <th>english</th>\n",
       "      <th>amharic</th>\n",
       "      <th>arabic</th>\n",
       "      <th>geez</th>\n",
       "      <th>ict</th>\n",
       "      <th>maths</th>\n",
       "      <th>ss</th>\n",
       "      <th>gp</th>\n",
       "      <th>is</th>\n",
       "      <th>moral</th>\n",
       "      <th>hpe</th>\n",
       "      <th>art</th>\n",
       "      <th>chemistry</th>\n",
       "      <th>physics</th>\n",
       "      <th>gpa</th>\n",
       "      <th>literature</th>\n",
       "      <th>biology</th>\n",
       "      <th>geography</th>\n",
       "      <th>history</th>\n",
       "      <th>civics</th>\n",
       "      <th>ent-ship</th>\n",
       "      <th>matrik</th>\n",
       "    </tr>\n",
       "  </thead>\n",
       "  <tbody>\n",
       "    <tr>\n",
       "      <th>0</th>\n",
       "      <td>a</td>\n",
       "      <td>10.0</td>\n",
       "      <td>f</td>\n",
       "      <td>ethiopian</td>\n",
       "      <td>ethiopia</td>\n",
       "      <td>yes</td>\n",
       "      <td>5</td>\n",
       "      <td>paid</td>\n",
       "      <td>both</td>\n",
       "      <td>a lot</td>\n",
       "      <td>strongly agree</td>\n",
       "      <td>strongly agree</td>\n",
       "      <td>agree</td>\n",
       "      <td>private</td>\n",
       "      <td>ayertena</td>\n",
       "      <td>15-30</td>\n",
       "      <td>middle child</td>\n",
       "      <td>2.0</td>\n",
       "      <td>diamond</td>\n",
       "      <td>eth-lang</td>\n",
       "      <td>yes</td>\n",
       "      <td>8.0</td>\n",
       "      <td>authoritative</td>\n",
       "      <td>0.0</td>\n",
       "      <td>none</td>\n",
       "      <td>4.25</td>\n",
       "      <td>94.86</td>\n",
       "      <td>94.58</td>\n",
       "      <td>88.45</td>\n",
       "      <td>84.41</td>\n",
       "      <td>88.52</td>\n",
       "      <td>76.38</td>\n",
       "      <td>85.93</td>\n",
       "      <td>95.00</td>\n",
       "      <td>82.01</td>\n",
       "      <td>98.28</td>\n",
       "      <td>95.48</td>\n",
       "      <td>89.00</td>\n",
       "      <td>NaN</td>\n",
       "      <td>NaN</td>\n",
       "      <td>89.4</td>\n",
       "      <td>NaN</td>\n",
       "      <td>NaN</td>\n",
       "      <td>NaN</td>\n",
       "      <td>NaN</td>\n",
       "      <td>NaN</td>\n",
       "      <td>NaN</td>\n",
       "      <td>NaN</td>\n",
       "    </tr>\n",
       "    <tr>\n",
       "      <th>1</th>\n",
       "      <td>b</td>\n",
       "      <td>12.0</td>\n",
       "      <td>m</td>\n",
       "      <td>ethiopian</td>\n",
       "      <td>ethiopia</td>\n",
       "      <td>no</td>\n",
       "      <td>5</td>\n",
       "      <td>scholarship</td>\n",
       "      <td>both</td>\n",
       "      <td>little</td>\n",
       "      <td>strongly agree</td>\n",
       "      <td>strongly agree</td>\n",
       "      <td>agree</td>\n",
       "      <td>public</td>\n",
       "      <td>haile garment</td>\n",
       "      <td>15-30</td>\n",
       "      <td>first child</td>\n",
       "      <td>0.0</td>\n",
       "      <td>southwest</td>\n",
       "      <td>eth-lang</td>\n",
       "      <td>yes</td>\n",
       "      <td>10.0</td>\n",
       "      <td>authoritative</td>\n",
       "      <td>0.0</td>\n",
       "      <td>none</td>\n",
       "      <td>4.00</td>\n",
       "      <td>74.12</td>\n",
       "      <td>77.39</td>\n",
       "      <td>81.86</td>\n",
       "      <td>80.98</td>\n",
       "      <td>76.90</td>\n",
       "      <td>74.92</td>\n",
       "      <td>70.32</td>\n",
       "      <td>94.75</td>\n",
       "      <td>74.16</td>\n",
       "      <td>89.84</td>\n",
       "      <td>96.15</td>\n",
       "      <td>91.75</td>\n",
       "      <td>NaN</td>\n",
       "      <td>NaN</td>\n",
       "      <td>81.9</td>\n",
       "      <td>NaN</td>\n",
       "      <td>NaN</td>\n",
       "      <td>NaN</td>\n",
       "      <td>NaN</td>\n",
       "      <td>NaN</td>\n",
       "      <td>NaN</td>\n",
       "      <td>NaN</td>\n",
       "    </tr>\n",
       "    <tr>\n",
       "      <th>2</th>\n",
       "      <td>a</td>\n",
       "      <td>10.0</td>\n",
       "      <td>m</td>\n",
       "      <td>ethiopian</td>\n",
       "      <td>ethiopia</td>\n",
       "      <td>yes</td>\n",
       "      <td>5</td>\n",
       "      <td>paid</td>\n",
       "      <td>both</td>\n",
       "      <td>a lot</td>\n",
       "      <td>agree</td>\n",
       "      <td>strongly agree</td>\n",
       "      <td>strongly agree</td>\n",
       "      <td>private</td>\n",
       "      <td>sarbet</td>\n",
       "      <td>15-</td>\n",
       "      <td>last child</td>\n",
       "      <td>3.0</td>\n",
       "      <td>greek school</td>\n",
       "      <td>eth-lang</td>\n",
       "      <td>yes</td>\n",
       "      <td>9.0</td>\n",
       "      <td>authoritative</td>\n",
       "      <td>1.0</td>\n",
       "      <td>physical</td>\n",
       "      <td>4.25</td>\n",
       "      <td>80.12</td>\n",
       "      <td>86.58</td>\n",
       "      <td>95.04</td>\n",
       "      <td>74.69</td>\n",
       "      <td>95.52</td>\n",
       "      <td>84.33</td>\n",
       "      <td>81.42</td>\n",
       "      <td>93.75</td>\n",
       "      <td>85.45</td>\n",
       "      <td>91.61</td>\n",
       "      <td>94.39</td>\n",
       "      <td>91.75</td>\n",
       "      <td>NaN</td>\n",
       "      <td>NaN</td>\n",
       "      <td>87.9</td>\n",
       "      <td>NaN</td>\n",
       "      <td>NaN</td>\n",
       "      <td>NaN</td>\n",
       "      <td>NaN</td>\n",
       "      <td>NaN</td>\n",
       "      <td>NaN</td>\n",
       "      <td>NaN</td>\n",
       "    </tr>\n",
       "    <tr>\n",
       "      <th>3</th>\n",
       "      <td>c</td>\n",
       "      <td>11.0</td>\n",
       "      <td>m</td>\n",
       "      <td>ethiopian</td>\n",
       "      <td>ethiopia</td>\n",
       "      <td>no</td>\n",
       "      <td>5</td>\n",
       "      <td>paid</td>\n",
       "      <td>both</td>\n",
       "      <td>a lot</td>\n",
       "      <td>strongly agree</td>\n",
       "      <td>strongly agree</td>\n",
       "      <td>strongly agree</td>\n",
       "      <td>private</td>\n",
       "      <td>gulele</td>\n",
       "      <td>15-30</td>\n",
       "      <td>last child</td>\n",
       "      <td>2.0</td>\n",
       "      <td>gibson</td>\n",
       "      <td>eth-lang</td>\n",
       "      <td>no</td>\n",
       "      <td>8.0</td>\n",
       "      <td>authoritative</td>\n",
       "      <td>0.0</td>\n",
       "      <td>none</td>\n",
       "      <td>4.50</td>\n",
       "      <td>82.67</td>\n",
       "      <td>91.68</td>\n",
       "      <td>89.64</td>\n",
       "      <td>86.70</td>\n",
       "      <td>87.81</td>\n",
       "      <td>90.63</td>\n",
       "      <td>81.14</td>\n",
       "      <td>82.50</td>\n",
       "      <td>80.86</td>\n",
       "      <td>81.91</td>\n",
       "      <td>93.89</td>\n",
       "      <td>81.00</td>\n",
       "      <td>NaN</td>\n",
       "      <td>NaN</td>\n",
       "      <td>85.9</td>\n",
       "      <td>NaN</td>\n",
       "      <td>NaN</td>\n",
       "      <td>NaN</td>\n",
       "      <td>NaN</td>\n",
       "      <td>NaN</td>\n",
       "      <td>NaN</td>\n",
       "      <td>NaN</td>\n",
       "    </tr>\n",
       "    <tr>\n",
       "      <th>4</th>\n",
       "      <td>b</td>\n",
       "      <td>11.0</td>\n",
       "      <td>f</td>\n",
       "      <td>ethiopian</td>\n",
       "      <td>foriegn_soil</td>\n",
       "      <td>no</td>\n",
       "      <td>5</td>\n",
       "      <td>paid</td>\n",
       "      <td>mother</td>\n",
       "      <td>a lot</td>\n",
       "      <td>strongly agree</td>\n",
       "      <td>strongly agree</td>\n",
       "      <td>somehow agree</td>\n",
       "      <td>private</td>\n",
       "      <td>meskel flower</td>\n",
       "      <td>15-30</td>\n",
       "      <td>middle child</td>\n",
       "      <td>2.0</td>\n",
       "      <td>school of nations</td>\n",
       "      <td>for-lang</td>\n",
       "      <td>yes</td>\n",
       "      <td>11.5</td>\n",
       "      <td>authoritative</td>\n",
       "      <td>0.0</td>\n",
       "      <td>none</td>\n",
       "      <td>4.00</td>\n",
       "      <td>96.31</td>\n",
       "      <td>96.99</td>\n",
       "      <td>97.60</td>\n",
       "      <td>92.09</td>\n",
       "      <td>98.62</td>\n",
       "      <td>96.00</td>\n",
       "      <td>89.07</td>\n",
       "      <td>99.75</td>\n",
       "      <td>94.73</td>\n",
       "      <td>98.77</td>\n",
       "      <td>88.69</td>\n",
       "      <td>97.75</td>\n",
       "      <td>NaN</td>\n",
       "      <td>NaN</td>\n",
       "      <td>95.5</td>\n",
       "      <td>NaN</td>\n",
       "      <td>NaN</td>\n",
       "      <td>NaN</td>\n",
       "      <td>NaN</td>\n",
       "      <td>NaN</td>\n",
       "      <td>NaN</td>\n",
       "      <td>NaN</td>\n",
       "    </tr>\n",
       "  </tbody>\n",
       "</table>\n",
       "</div>"
      ],
      "text/plain": [
       "  conduct   age gender nationality           pob tutor/makeup  grade  \\\n",
       "0       a  10.0      f   ethiopian      ethiopia          yes      5   \n",
       "1       b  12.0      m   ethiopian      ethiopia           no      5   \n",
       "2       a  10.0      m   ethiopian      ethiopia          yes      5   \n",
       "3       c  11.0      m   ethiopian      ethiopia           no      5   \n",
       "4       b  11.0      f   ethiopian  foriegn_soil           no      5   \n",
       "\n",
       "     admission guardian time_with_parents communication_with_parents  \\\n",
       "0         paid     both             a lot             strongly agree   \n",
       "1  scholarship     both            little             strongly agree   \n",
       "2         paid     both             a lot                      agree   \n",
       "3         paid     both             a lot             strongly agree   \n",
       "4         paid   mother             a lot             strongly agree   \n",
       "\n",
       "  reward_for_achievements parent_understanding transport_type      residence  \\\n",
       "0          strongly agree                agree        private       ayertena   \n",
       "1          strongly agree                agree         public  haile garment   \n",
       "2          strongly agree       strongly agree        private         sarbet   \n",
       "3          strongly agree       strongly agree        private         gulele   \n",
       "4          strongly agree        somehow agree        private  meskel flower   \n",
       "\n",
       "  travel time   birth_order  exercice    previous_school mother_tongue  \\\n",
       "0       15-30  middle child       2.0            diamond      eth-lang   \n",
       "1       15-30   first child       0.0          southwest      eth-lang   \n",
       "2         15-    last child       3.0       greek school      eth-lang   \n",
       "3       15-30    last child       2.0             gibson      eth-lang   \n",
       "4       15-30  middle child       2.0  school of nations      for-lang   \n",
       "\n",
       "  curriculum  sleeping time_in_pm parenting_style  trauma      type  quality  \\\n",
       "0        yes                  8.0   authoritative     0.0      none     4.25   \n",
       "1        yes                 10.0   authoritative     0.0      none     4.00   \n",
       "2        yes                  9.0   authoritative     1.0  physical     4.25   \n",
       "3         no                  8.0   authoritative     0.0      none     4.50   \n",
       "4        yes                 11.5   authoritative     0.0      none     4.00   \n",
       "\n",
       "   english  amharic  arabic   geez    ict  maths     ss     gp     is  moral  \\\n",
       "0    94.86    94.58   88.45  84.41  88.52  76.38  85.93  95.00  82.01  98.28   \n",
       "1    74.12    77.39   81.86  80.98  76.90  74.92  70.32  94.75  74.16  89.84   \n",
       "2    80.12    86.58   95.04  74.69  95.52  84.33  81.42  93.75  85.45  91.61   \n",
       "3    82.67    91.68   89.64  86.70  87.81  90.63  81.14  82.50  80.86  81.91   \n",
       "4    96.31    96.99   97.60  92.09  98.62  96.00  89.07  99.75  94.73  98.77   \n",
       "\n",
       "     hpe    art  chemistry  physics   gpa  literature  biology  geography  \\\n",
       "0  95.48  89.00        NaN      NaN  89.4         NaN      NaN        NaN   \n",
       "1  96.15  91.75        NaN      NaN  81.9         NaN      NaN        NaN   \n",
       "2  94.39  91.75        NaN      NaN  87.9         NaN      NaN        NaN   \n",
       "3  93.89  81.00        NaN      NaN  85.9         NaN      NaN        NaN   \n",
       "4  88.69  97.75        NaN      NaN  95.5         NaN      NaN        NaN   \n",
       "\n",
       "   history  civics  ent-ship  matrik  \n",
       "0      NaN     NaN       NaN     NaN  \n",
       "1      NaN     NaN       NaN     NaN  \n",
       "2      NaN     NaN       NaN     NaN  \n",
       "3      NaN     NaN       NaN     NaN  \n",
       "4      NaN     NaN       NaN     NaN  "
      ]
     },
     "execution_count": 70,
     "metadata": {},
     "output_type": "execute_result"
    }
   ],
   "source": [
    "df = pd.read_csv(r\"../data/hsmsx.csv\")\n",
    "df.head()"
   ]
  },
  {
   "attachments": {},
   "cell_type": "markdown",
   "metadata": {},
   "source": [
    "## Univariate Analysis"
   ]
  },
  {
   "cell_type": "code",
   "execution_count": 71,
   "metadata": {},
   "outputs": [
    {
     "data": {
      "image/png": "[encoded data removed]",
      "text/plain": [
       "<Figure size 400x280 with 1 Axes>"
      ]
     },
     "metadata": {},
     "output_type": "display_data"
    }
   ],
   "source": [
    "sns.set(rc={'figure.figsize':(4.0,2.8)})\n",
    "sns.set_palette(\"Blues_r\")\n",
    "sns.set_style(\"white\")\n",
    "ax = sns.countplot(data = df, y='conduct')\n",
    "sns.despine(top=True, left=True, bottom=True)\n",
    "plt.ylabel(\"\", size=10)\n",
    "plt.xlabel(\"\", size=10)\n",
    "ax.tick_params(bottom=False)\n",
    "ax.tick_params(left=False)"
   ]
  },
  {
   "cell_type": "code",
   "execution_count": 72,
   "metadata": {},
   "outputs": [
    {
     "data": {
      "image/png": "[encoded data removed]",
      "text/plain": [
       "<Figure size 400x280 with 1 Axes>"
      ]
     },
     "metadata": {},
     "output_type": "display_data"
    }
   ],
   "source": [
    "sns.set(rc={'figure.figsize':(4.0,2.8)})\n",
    "sns.set_style(\"white\")\n",
    "sns.countplot(data = df, y='age')\n",
    "sns.despine(top=True, left=True, bottom=True)\n",
    "plt.ylabel(\"\", size=10)\n",
    "plt.xlabel(\"\", size=10)\n",
    "ax.tick_params(bottom=False)\n",
    "ax.tick_params(left=False)"
   ]
  },
  {
   "attachments": {},
   "cell_type": "markdown",
   "metadata": {},
   "source": [
    "##### Univariate analysis on the age of students, it shows the range of ages in middle school to highschool is 10-20. most students are in the 14-16 age range with most students bieng 16. "
   ]
  },
  {
   "cell_type": "code",
   "execution_count": 84,
   "metadata": {},
   "outputs": [
    {
     "data": {
      "text/plain": [
       "f    150\n",
       "m    137\n",
       "Name: gender, dtype: int64"
      ]
     },
     "execution_count": 84,
     "metadata": {},
     "output_type": "execute_result"
    }
   ],
   "source": [
    "df.gender.value_counts()"
   ]
  },
  {
   "cell_type": "code",
   "execution_count": 120,
   "metadata": {},
   "outputs": [
    {
     "data": {
      "application/vnd.plotly.v1+json": {
       "config": {
        "plotlyServerURL": "https://plot.ly"
       },
       "data": [
        {
         "customdata": [
          [
           "f"
          ],
          [
           "m"
          ],
          [
           "m"
          ],
          [
           "m"
          ],
          [
           "f"
          ],
          [
           "f"
          ],
          [
           "f"
          ],
          [
           "f"
          ],
          [
           "m"
          ],
          [
           "f"
          ],
          [
           "m"
          ],
          [
           "m"
          ],
          [
           "m"
          ],
          [
           "m"
          ],
          [
           "f"
          ],
          [
           "f"
          ],
          [
           "f"
          ],
          [
           "m"
          ],
          [
           "f"
          ],
          [
           "m"
          ],
          [
           "f"
          ],
          [
           "f"
          ],
          [
           "m"
          ],
          [
           "m"
          ],
          [
           "m"
          ],
          [
           "f"
          ],
          [
           "m"
          ],
          [
           "f"
          ],
          [
           "m"
          ],
          [
           "m"
          ],
          [
           "f"
          ],
          [
           "f"
          ],
          [
           "m"
          ],
          [
           "f"
          ],
          [
           "f"
          ],
          [
           "m"
          ],
          [
           "m"
          ],
          [
           "m"
          ],
          [
           "m"
          ],
          [
           "m"
          ],
          [
           "m"
          ],
          [
           "f"
          ],
          [
           "f"
          ],
          [
           "m"
          ],
          [
           "m"
          ],
          [
           "m"
          ],
          [
           "m"
          ],
          [
           "f"
          ],
          [
           "f"
          ],
          [
           "m"
          ],
          [
           "m"
          ],
          [
           "f"
          ],
          [
           "f"
          ],
          [
           "m"
          ],
          [
           "f"
          ],
          [
           "m"
          ],
          [
           "f"
          ],
          [
           "f"
          ],
          [
           "f"
          ],
          [
           "m"
          ],
          [
           "f"
          ],
          [
           "f"
          ],
          [
           "f"
          ],
          [
           "f"
          ],
          [
           "f"
          ],
          [
           "m"
          ],
          [
           "f"
          ],
          [
           "f"
          ],
          [
           "f"
          ],
          [
           "m"
          ],
          [
           "m"
          ],
          [
           "f"
          ],
          [
           "m"
          ],
          [
           "f"
          ],
          [
           "f"
          ],
          [
           "f"
          ],
          [
           "f"
          ],
          [
           "f"
          ],
          [
           "f"
          ],
          [
           "f"
          ],
          [
           "m"
          ],
          [
           "m"
          ],
          [
           "f"
          ],
          [
           "f"
          ],
          [
           "f"
          ],
          [
           "m"
          ],
          [
           "m"
          ],
          [
           "f"
          ],
          [
           "f"
          ],
          [
           "m"
          ],
          [
           "f"
          ],
          [
           "f"
          ],
          [
           "f"
          ],
          [
           "m"
          ],
          [
           "f"
          ],
          [
           "m"
          ],
          [
           "f"
          ],
          [
           "f"
          ],
          [
           "m"
          ],
          [
           "m"
          ],
          [
           "f"
          ],
          [
           "m"
          ],
          [
           "m"
          ],
          [
           "m"
          ],
          [
           "f"
          ],
          [
           "f"
          ],
          [
           "f"
          ],
          [
           "m"
          ],
          [
           "f"
          ],
          [
           "m"
          ],
          [
           "f"
          ],
          [
           "f"
          ],
          [
           "f"
          ],
          [
           "f"
          ],
          [
           "f"
          ],
          [
           "m"
          ],
          [
           "m"
          ],
          [
           "m"
          ],
          [
           "f"
          ],
          [
           "m"
          ],
          [
           "f"
          ],
          [
           "f"
          ],
          [
           "m"
          ],
          [
           "m"
          ],
          [
           "m"
          ],
          [
           "m"
          ],
          [
           "f"
          ],
          [
           "f"
          ],
          [
           "f"
          ],
          [
           "f"
          ],
          [
           "f"
          ],
          [
           "m"
          ],
          [
           "f"
          ],
          [
           "m"
          ],
          [
           "m"
          ],
          [
           "m"
          ],
          [
           "f"
          ],
          [
           "f"
          ],
          [
           "m"
          ],
          [
           "m"
          ],
          [
           "m"
          ],
          [
           "f"
          ],
          [
           "m"
          ],
          [
           "f"
          ],
          [
           "m"
          ],
          [
           "f"
          ],
          [
           "f"
          ],
          [
           "f"
          ],
          [
           "m"
          ],
          [
           "f"
          ],
          [
           "f"
          ],
          [
           "m"
          ],
          [
           "f"
          ],
          [
           "f"
          ],
          [
           "f"
          ],
          [
           "f"
          ],
          [
           "f"
          ],
          [
           "f"
          ],
          [
           "f"
          ],
          [
           "m"
          ],
          [
           "m"
          ],
          [
           "m"
          ],
          [
           "f"
          ],
          [
           "f"
          ],
          [
           "f"
          ],
          [
           "f"
          ],
          [
           "m"
          ],
          [
           "m"
          ],
          [
           "m"
          ],
          [
           "m"
          ],
          [
           "m"
          ],
          [
           "m"
          ],
          [
           "m"
          ],
          [
           "m"
          ],
          [
           "f"
          ],
          [
           "m"
          ],
          [
           "f"
          ],
          [
           "f"
          ],
          [
           "f"
          ],
          [
           "m"
          ],
          [
           "f"
          ],
          [
           "m"
          ],
          [
           "f"
          ],
          [
           "m"
          ],
          [
           "f"
          ],
          [
           "m"
          ],
          [
           "m"
          ],
          [
           "m"
          ],
          [
           "f"
          ],
          [
           "m"
          ],
          [
           "m"
          ],
          [
           "m"
          ],
          [
           "m"
          ],
          [
           "m"
          ],
          [
           "f"
          ],
          [
           "f"
          ],
          [
           "m"
          ],
          [
           "m"
          ],
          [
           "f"
          ],
          [
           "m"
          ],
          [
           "f"
          ],
          [
           "m"
          ],
          [
           "f"
          ],
          [
           "f"
          ],
          [
           "m"
          ],
          [
           "f"
          ],
          [
           "m"
          ],
          [
           "f"
          ],
          [
           "m"
          ],
          [
           "m"
          ],
          [
           "m"
          ],
          [
           "f"
          ],
          [
           "m"
          ],
          [
           "m"
          ],
          [
           "m"
          ],
          [
           "f"
          ],
          [
           "f"
          ],
          [
           "f"
          ],
          [
           "m"
          ],
          [
           "m"
          ],
          [
           "f"
          ],
          [
           "m"
          ],
          [
           "m"
          ],
          [
           "f"
          ],
          [
           "m"
          ],
          [
           "m"
          ],
          [
           "m"
          ],
          [
           "f"
          ],
          [
           "m"
          ],
          [
           "f"
          ],
          [
           "f"
          ],
          [
           "m"
          ],
          [
           "m"
          ],
          [
           "f"
          ],
          [
           "m"
          ],
          [
           "f"
          ],
          [
           "m"
          ],
          [
           "f"
          ],
          [
           "m"
          ],
          [
           "f"
          ],
          [
           "m"
          ],
          [
           "m"
          ],
          [
           "f"
          ],
          [
           "f"
          ],
          [
           "f"
          ],
          [
           "m"
          ],
          [
           "f"
          ],
          [
           "f"
          ],
          [
           "m"
          ],
          [
           "m"
          ],
          [
           "f"
          ],
          [
           "m"
          ],
          [
           "f"
          ],
          [
           "m"
          ],
          [
           "f"
          ],
          [
           "m"
          ],
          [
           "f"
          ],
          [
           "m"
          ],
          [
           "m"
          ],
          [
           "f"
          ],
          [
           "f"
          ],
          [
           "m"
          ],
          [
           "f"
          ],
          [
           "f"
          ],
          [
           "m"
          ],
          [
           "f"
          ],
          [
           "m"
          ],
          [
           "m"
          ],
          [
           "f"
          ],
          [
           "m"
          ],
          [
           "f"
          ],
          [
           "f"
          ],
          [
           "m"
          ],
          [
           "m"
          ],
          [
           "m"
          ],
          [
           "f"
          ],
          [
           "f"
          ],
          [
           "f"
          ],
          [
           "f"
          ],
          [
           "m"
          ],
          [
           "f"
          ],
          [
           "f"
          ],
          [
           "f"
          ],
          [
           "f"
          ],
          [
           "f"
          ],
          [
           "f"
          ],
          [
           "m"
          ]
         ],
         "domain": {
          "x": [
           0,
           1
          ],
          "y": [
           0,
           1
          ]
         },
         "hole": 0.4,
         "hoverinfo": "label",
         "hovertemplate": "label=%{label}<br>color=%{customdata[0]}<extra></extra>",
         "labels": [
          "f",
          "m",
          "m",
          "m",
          "f",
          "f",
          "f",
          "f",
          "m",
          "f",
          "m",
          "m",
          "m",
          "m",
          "f",
          "f",
          "f",
          "m",
          "f",
          "m",
          "f",
          "f",
          "m",
          "m",
          "m",
          "f",
          "m",
          "f",
          "m",
          "m",
          "f",
          "f",
          "m",
          "f",
          "f",
          "m",
          "m",
          "m",
          "m",
          "m",
          "m",
          "f",
          "f",
          "m",
          "m",
          "m",
          "m",
          "f",
          "f",
          "m",
          "m",
          "f",
          "f",
          "m",
          "f",
          "m",
          "f",
          "f",
          "f",
          "m",
          "f",
          "f",
          "f",
          "f",
          "f",
          "m",
          "f",
          "f",
          "f",
          "m",
          "m",
          "f",
          "m",
          "f",
          "f",
          "f",
          "f",
          "f",
          "f",
          "f",
          "m",
          "m",
          "f",
          "f",
          "f",
          "m",
          "m",
          "f",
          "f",
          "m",
          "f",
          "f",
          "f",
          "m",
          "f",
          "m",
          "f",
          "f",
          "m",
          "m",
          "f",
          "m",
          "m",
          "m",
          "f",
          "f",
          "f",
          "m",
          "f",
          "m",
          "f",
          "f",
          "f",
          "f",
          "f",
          "m",
          "m",
          "m",
          "f",
          "m",
          "f",
          "f",
          "m",
          "m",
          "m",
          "m",
          "f",
          "f",
          "f",
          "f",
          "f",
          "m",
          "f",
          "m",
          "m",
          "m",
          "f",
          "f",
          "m",
          "m",
          "m",
          "f",
          "m",
          "f",
          "m",
          "f",
          "f",
          "f",
          "m",
          "f",
          "f",
          "m",
          "f",
          "f",
          "f",
          "f",
          "f",
          "f",
          "f",
          "m",
          "m",
          "m",
          "f",
          "f",
          "f",
          "f",
          "m",
          "m",
          "m",
          "m",
          "m",
          "m",
          "m",
          "m",
          "f",
          "m",
          "f",
          "f",
          "f",
          "m",
          "f",
          "m",
          "f",
          "m",
          "f",
          "m",
          "m",
          "m",
          "f",
          "m",
          "m",
          "m",
          "m",
          "m",
          "f",
          "f",
          "m",
          "m",
          "f",
          "m",
          "f",
          "m",
          "f",
          "f",
          "m",
          "f",
          "m",
          "f",
          "m",
          "m",
          "m",
          "f",
          "m",
          "m",
          "m",
          "f",
          "f",
          "f",
          "m",
          "m",
          "f",
          "m",
          "m",
          "f",
          "m",
          "m",
          "m",
          "f",
          "m",
          "f",
          "f",
          "m",
          "m",
          "f",
          "m",
          "f",
          "m",
          "f",
          "m",
          "f",
          "m",
          "m",
          "f",
          "f",
          "f",
          "m",
          "f",
          "f",
          "m",
          "m",
          "f",
          "m",
          "f",
          "m",
          "f",
          "m",
          "f",
          "m",
          "m",
          "f",
          "f",
          "m",
          "f",
          "f",
          "m",
          "f",
          "m",
          "m",
          "f",
          "m",
          "f",
          "f",
          "m",
          "m",
          "m",
          "f",
          "f",
          "f",
          "f",
          "m",
          "f",
          "f",
          "f",
          "f",
          "f",
          "f",
          "m"
         ],
         "legendgroup": "",
         "marker": {
          "colors": [
           "#FFD700.",
           "C0C0C0",
           "C0C0C0",
           "C0C0C0",
           "#FFD700.",
           "#FFD700.",
           "#FFD700.",
           "#FFD700.",
           "C0C0C0",
           "#FFD700.",
           "C0C0C0",
           "C0C0C0",
           "C0C0C0",
           "C0C0C0",
           "#FFD700.",
           "#FFD700.",
           "#FFD700.",
           "C0C0C0",
           "#FFD700.",
           "C0C0C0",
           "#FFD700.",
           "#FFD700.",
           "C0C0C0",
           "C0C0C0",
           "C0C0C0",
           "#FFD700.",
           "C0C0C0",
           "#FFD700.",
           "C0C0C0",
           "C0C0C0",
           "#FFD700.",
           "#FFD700.",
           "C0C0C0",
           "#FFD700.",
           "#FFD700.",
           "C0C0C0",
           "C0C0C0",
           "C0C0C0",
           "C0C0C0",
           "C0C0C0",
           "C0C0C0",
           "#FFD700.",
           "#FFD700.",
           "C0C0C0",
           "C0C0C0",
           "C0C0C0",
           "C0C0C0",
           "#FFD700.",
           "#FFD700.",
           "C0C0C0",
           "C0C0C0",
           "#FFD700.",
           "#FFD700.",
           "C0C0C0",
           "#FFD700.",
           "C0C0C0",
           "#FFD700.",
           "#FFD700.",
           "#FFD700.",
           "C0C0C0",
           "#FFD700.",
           "#FFD700.",
           "#FFD700.",
           "#FFD700.",
           "#FFD700.",
           "C0C0C0",
           "#FFD700.",
           "#FFD700.",
           "#FFD700.",
           "C0C0C0",
           "C0C0C0",
           "#FFD700.",
           "C0C0C0",
           "#FFD700.",
           "#FFD700.",
           "#FFD700.",
           "#FFD700.",
           "#FFD700.",
           "#FFD700.",
           "#FFD700.",
           "C0C0C0",
           "C0C0C0",
           "#FFD700.",
           "#FFD700.",
           "#FFD700.",
           "C0C0C0",
           "C0C0C0",
           "#FFD700.",
           "#FFD700.",
           "C0C0C0",
           "#FFD700.",
           "#FFD700.",
           "#FFD700.",
           "C0C0C0",
           "#FFD700.",
           "C0C0C0",
           "#FFD700.",
           "#FFD700.",
           "C0C0C0",
           "C0C0C0",
           "#FFD700.",
           "C0C0C0",
           "C0C0C0",
           "C0C0C0",
           "#FFD700.",
           "#FFD700.",
           "#FFD700.",
           "C0C0C0",
           "#FFD700.",
           "C0C0C0",
           "#FFD700.",
           "#FFD700.",
           "#FFD700.",
           "#FFD700.",
           "#FFD700.",
           "C0C0C0",
           "C0C0C0",
           "C0C0C0",
           "#FFD700.",
           "C0C0C0",
           "#FFD700.",
           "#FFD700.",
           "C0C0C0",
           "C0C0C0",
           "C0C0C0",
           "C0C0C0",
           "#FFD700.",
           "#FFD700.",
           "#FFD700.",
           "#FFD700.",
           "#FFD700.",
           "C0C0C0",
           "#FFD700.",
           "C0C0C0",
           "C0C0C0",
           "C0C0C0",
           "#FFD700.",
           "#FFD700.",
           "C0C0C0",
           "C0C0C0",
           "C0C0C0",
           "#FFD700.",
           "C0C0C0",
           "#FFD700.",
           "C0C0C0",
           "#FFD700.",
           "#FFD700.",
           "#FFD700.",
           "C0C0C0",
           "#FFD700.",
           "#FFD700.",
           "C0C0C0",
           "#FFD700.",
           "#FFD700.",
           "#FFD700.",
           "#FFD700.",
           "#FFD700.",
           "#FFD700.",
           "#FFD700.",
           "C0C0C0",
           "C0C0C0",
           "C0C0C0",
           "#FFD700.",
           "#FFD700.",
           "#FFD700.",
           "#FFD700.",
           "C0C0C0",
           "C0C0C0",
           "C0C0C0",
           "C0C0C0",
           "C0C0C0",
           "C0C0C0",
           "C0C0C0",
           "C0C0C0",
           "#FFD700.",
           "C0C0C0",
           "#FFD700.",
           "#FFD700.",
           "#FFD700.",
           "C0C0C0",
           "#FFD700.",
           "C0C0C0",
           "#FFD700.",
           "C0C0C0",
           "#FFD700.",
           "C0C0C0",
           "C0C0C0",
           "C0C0C0",
           "#FFD700.",
           "C0C0C0",
           "C0C0C0",
           "C0C0C0",
           "C0C0C0",
           "C0C0C0",
           "#FFD700.",
           "#FFD700.",
           "C0C0C0",
           "C0C0C0",
           "#FFD700.",
           "C0C0C0",
           "#FFD700.",
           "C0C0C0",
           "#FFD700.",
           "#FFD700.",
           "C0C0C0",
           "#FFD700.",
           "C0C0C0",
           "#FFD700.",
           "C0C0C0",
           "C0C0C0",
           "C0C0C0",
           "#FFD700.",
           "C0C0C0",
           "C0C0C0",
           "C0C0C0",
           "#FFD700.",
           "#FFD700.",
           "#FFD700.",
           "C0C0C0",
           "C0C0C0",
           "#FFD700.",
           "C0C0C0",
           "C0C0C0",
           "#FFD700.",
           "C0C0C0",
           "C0C0C0",
           "C0C0C0",
           "#FFD700.",
           "C0C0C0",
           "#FFD700.",
           "#FFD700.",
           "C0C0C0",
           "C0C0C0",
           "#FFD700.",
           "C0C0C0",
           "#FFD700.",
           "C0C0C0",
           "#FFD700.",
           "C0C0C0",
           "#FFD700.",
           "C0C0C0",
           "C0C0C0",
           "#FFD700.",
           "#FFD700.",
           "#FFD700.",
           "C0C0C0",
           "#FFD700.",
           "#FFD700.",
           "C0C0C0",
           "C0C0C0",
           "#FFD700.",
           "C0C0C0",
           "#FFD700.",
           "C0C0C0",
           "#FFD700.",
           "C0C0C0",
           "#FFD700.",
           "C0C0C0",
           "C0C0C0",
           "#FFD700.",
           "#FFD700.",
           "C0C0C0",
           "#FFD700.",
           "#FFD700.",
           "C0C0C0",
           "#FFD700.",
           "C0C0C0",
           "C0C0C0",
           "#FFD700.",
           "C0C0C0",
           "#FFD700.",
           "#FFD700.",
           "C0C0C0",
           "C0C0C0",
           "C0C0C0",
           "#FFD700.",
           "#FFD700.",
           "#FFD700.",
           "#FFD700.",
           "C0C0C0",
           "#FFD700.",
           "#FFD700.",
           "#FFD700.",
           "#FFD700.",
           "#FFD700.",
           "#FFD700.",
           "C0C0C0"
          ]
         },
         "name": "",
         "showlegend": true,
         "textfont": {
          "size": 20
         },
         "textinfo": "percent",
         "title": {
          "font": {
           "color": "darkred",
           "family": "Verdana",
           "size": 25
          }
         },
         "type": "pie"
        }
       ],
       "layout": {
        "legend": {
         "tracegroupgap": 0
        },
        "template": {
         "data": {
          "bar": [
           {
            "error_x": {
             "color": "#2a3f5f"
            },
            "error_y": {
             "color": "#2a3f5f"
            },
            "marker": {
             "line": {
              "color": "#E5ECF6",
              "width": 0.5
             },
             "pattern": {
              "fillmode": "overlay",
              "size": 10,
              "solidity": 0.2
             }
            },
            "type": "bar"
           }
          ],
          "barpolar": [
           {
            "marker": {
             "line": {
              "color": "#E5ECF6",
              "width": 0.5
             },
             "pattern": {
              "fillmode": "overlay",
              "size": 10,
              "solidity": 0.2
             }
            },
            "type": "barpolar"
           }
          ],
          "carpet": [
           {
            "aaxis": {
             "endlinecolor": "#2a3f5f",
             "gridcolor": "white",
             "linecolor": "white",
             "minorgridcolor": "white",
             "startlinecolor": "#2a3f5f"
            },
            "baxis": {
             "endlinecolor": "#2a3f5f",
             "gridcolor": "white",
             "linecolor": "white",
             "minorgridcolor": "white",
             "startlinecolor": "#2a3f5f"
            },
            "type": "carpet"
           }
          ],
          "choropleth": [
           {
            "colorbar": {
             "outlinewidth": 0,
             "ticks": ""
            },
            "type": "choropleth"
           }
          ],
          "contour": [
           {
            "colorbar": {
             "outlinewidth": 0,
             "ticks": ""
            },
            "colorscale": [
             [
              0,
              "#0d0887"
             ],
             [
              0.1111111111111111,
              "#46039f"
             ],
             [
              0.2222222222222222,
              "#7201a8"
             ],
             [
              0.3333333333333333,
              "#9c179e"
             ],
             [
              0.4444444444444444,
              "#bd3786"
             ],
             [
              0.5555555555555556,
              "#d8576b"
             ],
             [
              0.6666666666666666,
              "#ed7953"
             ],
             [
              0.7777777777777778,
              "#fb9f3a"
             ],
             [
              0.8888888888888888,
              "#fdca26"
             ],
             [
              1,
              "#f0f921"
             ]
            ],
            "type": "contour"
           }
          ],
          "contourcarpet": [
           {
            "colorbar": {
             "outlinewidth": 0,
             "ticks": ""
            },
            "type": "contourcarpet"
           }
          ],
          "heatmap": [
           {
            "colorbar": {
             "outlinewidth": 0,
             "ticks": ""
            },
            "colorscale": [
             [
              0,
              "#0d0887"
             ],
             [
              0.1111111111111111,
              "#46039f"
             ],
             [
              0.2222222222222222,
              "#7201a8"
             ],
             [
              0.3333333333333333,
              "#9c179e"
             ],
             [
              0.4444444444444444,
              "#bd3786"
             ],
             [
              0.5555555555555556,
              "#d8576b"
             ],
             [
              0.6666666666666666,
              "#ed7953"
             ],
             [
              0.7777777777777778,
              "#fb9f3a"
             ],
             [
              0.8888888888888888,
              "#fdca26"
             ],
             [
              1,
              "#f0f921"
             ]
            ],
            "type": "heatmap"
           }
          ],
          "heatmapgl": [
           {
            "colorbar": {
             "outlinewidth": 0,
             "ticks": ""
            },
            "colorscale": [
             [
              0,
              "#0d0887"
             ],
             [
              0.1111111111111111,
              "#46039f"
             ],
             [
              0.2222222222222222,
              "#7201a8"
             ],
             [
              0.3333333333333333,
              "#9c179e"
             ],
             [
              0.4444444444444444,
              "#bd3786"
             ],
             [
              0.5555555555555556,
              "#d8576b"
             ],
             [
              0.6666666666666666,
              "#ed7953"
             ],
             [
              0.7777777777777778,
              "#fb9f3a"
             ],
             [
              0.8888888888888888,
              "#fdca26"
             ],
             [
              1,
              "#f0f921"
             ]
            ],
            "type": "heatmapgl"
           }
          ],
          "histogram": [
           {
            "marker": {
             "pattern": {
              "fillmode": "overlay",
              "size": 10,
              "solidity": 0.2
             }
            },
            "type": "histogram"
           }
          ],
          "histogram2d": [
           {
            "colorbar": {
             "outlinewidth": 0,
             "ticks": ""
            },
            "colorscale": [
             [
              0,
              "#0d0887"
             ],
             [
              0.1111111111111111,
              "#46039f"
             ],
             [
              0.2222222222222222,
              "#7201a8"
             ],
             [
              0.3333333333333333,
              "#9c179e"
             ],
             [
              0.4444444444444444,
              "#bd3786"
             ],
             [
              0.5555555555555556,
              "#d8576b"
             ],
             [
              0.6666666666666666,
              "#ed7953"
             ],
             [
              0.7777777777777778,
              "#fb9f3a"
             ],
             [
              0.8888888888888888,
              "#fdca26"
             ],
             [
              1,
              "#f0f921"
             ]
            ],
            "type": "histogram2d"
           }
          ],
          "histogram2dcontour": [
           {
            "colorbar": {
             "outlinewidth": 0,
             "ticks": ""
            },
            "colorscale": [
             [
              0,
              "#0d0887"
             ],
             [
              0.1111111111111111,
              "#46039f"
             ],
             [
              0.2222222222222222,
              "#7201a8"
             ],
             [
              0.3333333333333333,
              "#9c179e"
             ],
             [
              0.4444444444444444,
              "#bd3786"
             ],
             [
              0.5555555555555556,
              "#d8576b"
             ],
             [
              0.6666666666666666,
              "#ed7953"
             ],
             [
              0.7777777777777778,
              "#fb9f3a"
             ],
             [
              0.8888888888888888,
              "#fdca26"
             ],
             [
              1,
              "#f0f921"
             ]
            ],
            "type": "histogram2dcontour"
           }
          ],
          "mesh3d": [
           {
            "colorbar": {
             "outlinewidth": 0,
             "ticks": ""
            },
            "type": "mesh3d"
           }
          ],
          "parcoords": [
           {
            "line": {
             "colorbar": {
              "outlinewidth": 0,
              "ticks": ""
             }
            },
            "type": "parcoords"
           }
          ],
          "pie": [
           {
            "automargin": true,
            "type": "pie"
           }
          ],
          "scatter": [
           {
            "fillpattern": {
             "fillmode": "overlay",
             "size": 10,
             "solidity": 0.2
            },
            "type": "scatter"
           }
          ],
          "scatter3d": [
           {
            "line": {
             "colorbar": {
              "outlinewidth": 0,
              "ticks": ""
             }
            },
            "marker": {
             "colorbar": {
              "outlinewidth": 0,
              "ticks": ""
             }
            },
            "type": "scatter3d"
           }
          ],
          "scattercarpet": [
           {
            "marker": {
             "colorbar": {
              "outlinewidth": 0,
              "ticks": ""
             }
            },
            "type": "scattercarpet"
           }
          ],
          "scattergeo": [
           {
            "marker": {
             "colorbar": {
              "outlinewidth": 0,
              "ticks": ""
             }
            },
            "type": "scattergeo"
           }
          ],
          "scattergl": [
           {
            "marker": {
             "colorbar": {
              "outlinewidth": 0,
              "ticks": ""
             }
            },
            "type": "scattergl"
           }
          ],
          "scattermapbox": [
           {
            "marker": {
             "colorbar": {
              "outlinewidth": 0,
              "ticks": ""
             }
            },
            "type": "scattermapbox"
           }
          ],
          "scatterpolar": [
           {
            "marker": {
             "colorbar": {
              "outlinewidth": 0,
              "ticks": ""
             }
            },
            "type": "scatterpolar"
           }
          ],
          "scatterpolargl": [
           {
            "marker": {
             "colorbar": {
              "outlinewidth": 0,
              "ticks": ""
             }
            },
            "type": "scatterpolargl"
           }
          ],
          "scatterternary": [
           {
            "marker": {
             "colorbar": {
              "outlinewidth": 0,
              "ticks": ""
             }
            },
            "type": "scatterternary"
           }
          ],
          "surface": [
           {
            "colorbar": {
             "outlinewidth": 0,
             "ticks": ""
            },
            "colorscale": [
             [
              0,
              "#0d0887"
             ],
             [
              0.1111111111111111,
              "#46039f"
             ],
             [
              0.2222222222222222,
              "#7201a8"
             ],
             [
              0.3333333333333333,
              "#9c179e"
             ],
             [
              0.4444444444444444,
              "#bd3786"
             ],
             [
              0.5555555555555556,
              "#d8576b"
             ],
             [
              0.6666666666666666,
              "#ed7953"
             ],
             [
              0.7777777777777778,
              "#fb9f3a"
             ],
             [
              0.8888888888888888,
              "#fdca26"
             ],
             [
              1,
              "#f0f921"
             ]
            ],
            "type": "surface"
           }
          ],
          "table": [
           {
            "cells": {
             "fill": {
              "color": "#EBF0F8"
             },
             "line": {
              "color": "white"
             }
            },
            "header": {
             "fill": {
              "color": "#C8D4E3"
             },
             "line": {
              "color": "white"
             }
            },
            "type": "table"
           }
          ]
         },
         "layout": {
          "annotationdefaults": {
           "arrowcolor": "#2a3f5f",
           "arrowhead": 0,
           "arrowwidth": 1
          },
          "autotypenumbers": "strict",
          "coloraxis": {
           "colorbar": {
            "outlinewidth": 0,
            "ticks": ""
           }
          },
          "colorscale": {
           "diverging": [
            [
             0,
             "#8e0152"
            ],
            [
             0.1,
             "#c51b7d"
            ],
            [
             0.2,
             "#de77ae"
            ],
            [
             0.3,
             "#f1b6da"
            ],
            [
             0.4,
             "#fde0ef"
            ],
            [
             0.5,
             "#f7f7f7"
            ],
            [
             0.6,
             "#e6f5d0"
            ],
            [
             0.7,
             "#b8e186"
            ],
            [
             0.8,
             "#7fbc41"
            ],
            [
             0.9,
             "#4d9221"
            ],
            [
             1,
             "#276419"
            ]
           ],
           "sequential": [
            [
             0,
             "#0d0887"
            ],
            [
             0.1111111111111111,
             "#46039f"
            ],
            [
             0.2222222222222222,
             "#7201a8"
            ],
            [
             0.3333333333333333,
             "#9c179e"
            ],
            [
             0.4444444444444444,
             "#bd3786"
            ],
            [
             0.5555555555555556,
             "#d8576b"
            ],
            [
             0.6666666666666666,
             "#ed7953"
            ],
            [
             0.7777777777777778,
             "#fb9f3a"
            ],
            [
             0.8888888888888888,
             "#fdca26"
            ],
            [
             1,
             "#f0f921"
            ]
           ],
           "sequentialminus": [
            [
             0,
             "#0d0887"
            ],
            [
             0.1111111111111111,
             "#46039f"
            ],
            [
             0.2222222222222222,
             "#7201a8"
            ],
            [
             0.3333333333333333,
             "#9c179e"
            ],
            [
             0.4444444444444444,
             "#bd3786"
            ],
            [
             0.5555555555555556,
             "#d8576b"
            ],
            [
             0.6666666666666666,
             "#ed7953"
            ],
            [
             0.7777777777777778,
             "#fb9f3a"
            ],
            [
             0.8888888888888888,
             "#fdca26"
            ],
            [
             1,
             "#f0f921"
            ]
           ]
          },
          "colorway": [
           "#636efa",
           "#EF553B",
           "#00cc96",
           "#ab63fa",
           "#FFA15A",
           "#19d3f3",
           "#FF6692",
           "#B6E880",
           "#FF97FF",
           "#FECB52"
          ],
          "font": {
           "color": "#2a3f5f"
          },
          "geo": {
           "bgcolor": "white",
           "lakecolor": "white",
           "landcolor": "#E5ECF6",
           "showlakes": true,
           "showland": true,
           "subunitcolor": "white"
          },
          "hoverlabel": {
           "align": "left"
          },
          "hovermode": "closest",
          "mapbox": {
           "style": "light"
          },
          "paper_bgcolor": "white",
          "plot_bgcolor": "#E5ECF6",
          "polar": {
           "angularaxis": {
            "gridcolor": "white",
            "linecolor": "white",
            "ticks": ""
           },
           "bgcolor": "#E5ECF6",
           "radialaxis": {
            "gridcolor": "white",
            "linecolor": "white",
            "ticks": ""
           }
          },
          "scene": {
           "xaxis": {
            "backgroundcolor": "#E5ECF6",
            "gridcolor": "white",
            "gridwidth": 2,
            "linecolor": "white",
            "showbackground": true,
            "ticks": "",
            "zerolinecolor": "white"
           },
           "yaxis": {
            "backgroundcolor": "#E5ECF6",
            "gridcolor": "white",
            "gridwidth": 2,
            "linecolor": "white",
            "showbackground": true,
            "ticks": "",
            "zerolinecolor": "white"
           },
           "zaxis": {
            "backgroundcolor": "#E5ECF6",
            "gridcolor": "white",
            "gridwidth": 2,
            "linecolor": "white",
            "showbackground": true,
            "ticks": "",
            "zerolinecolor": "white"
           }
          },
          "shapedefaults": {
           "line": {
            "color": "#2a3f5f"
           }
          },
          "ternary": {
           "aaxis": {
            "gridcolor": "white",
            "linecolor": "white",
            "ticks": ""
           },
           "baxis": {
            "gridcolor": "white",
            "linecolor": "white",
            "ticks": ""
           },
           "bgcolor": "#E5ECF6",
           "caxis": {
            "gridcolor": "white",
            "linecolor": "white",
            "ticks": ""
           }
          },
          "title": {
           "x": 0.05
          },
          "xaxis": {
           "automargin": true,
           "gridcolor": "white",
           "linecolor": "white",
           "ticks": "",
           "title": {
            "standoff": 15
           },
           "zerolinecolor": "white",
           "zerolinewidth": 2
          },
          "yaxis": {
           "automargin": true,
           "gridcolor": "white",
           "linecolor": "white",
           "ticks": "",
           "title": {
            "standoff": 15
           },
           "zerolinecolor": "white",
           "zerolinewidth": 2
          }
         }
        },
        "title": {
         "text": "Population Economically Active"
        }
       }
      }
     },
     "metadata": {},
     "output_type": "display_data"
    }
   ],
   "source": [
    "fig4 = px.pie(df.gender, hole = 0.4,\n",
    "              names = df.gender, color = df.gender,\n",
    "              title = 'Population Economically Active',\n",
    "              color_discrete_map = {'m':'C0C0C0', \n",
    "                                    'f': '#FFD700.', \n",
    "                                             \n",
    "             })\n",
    "fig4.update_traces(title_font = dict(size=25,family='Verdana', \n",
    "                   color='darkred'),\n",
    "                   hoverinfo='label',\n",
    "                   textinfo='percent', textfont_size=20)\n",
    "fig4.show()"
   ]
  },
  {
   "cell_type": "code",
   "execution_count": 126,
   "metadata": {},
   "outputs": [
    {
     "data": {
      "application/vnd.plotly.v1+json": {
       "config": {
        "plotlyServerURL": "https://plot.ly"
       },
       "data": [
        {
         "customdata": [
          [
           "ethiopia"
          ],
          [
           "ethiopia"
          ],
          [
           "ethiopia"
          ],
          [
           "ethiopia"
          ],
          [
           "foriegn_soil"
          ],
          [
           "ethiopia"
          ],
          [
           "foriegn_soil"
          ],
          [
           "ethiopia"
          ],
          [
           "ethiopia"
          ],
          [
           "ethiopia"
          ],
          [
           "foriegn_soil"
          ],
          [
           "foriegn_soil"
          ],
          [
           "foriegn_soil"
          ],
          [
           "foriegn_soil"
          ],
          [
           "ethiopia"
          ],
          [
           "ethiopia"
          ],
          [
           "ethiopia"
          ],
          [
           "foriegn_soil"
          ],
          [
           "ethiopia"
          ],
          [
           "ethiopia"
          ],
          [
           "ethiopia"
          ],
          [
           "foriegn_soil"
          ],
          [
           "foriegn_soil"
          ],
          [
           "ethiopia"
          ],
          [
           "ethiopia"
          ],
          [
           "ethiopia"
          ],
          [
           "ethiopia"
          ],
          [
           "ethiopia"
          ],
          [
           "ethiopia"
          ],
          [
           "foriegn_soil"
          ],
          [
           "ethiopia"
          ],
          [
           "ethiopia"
          ],
          [
           "ethiopia"
          ],
          [
           "foriegn_soil"
          ],
          [
           "foriegn_soil"
          ],
          [
           "ethiopia"
          ],
          [
           "ethiopia"
          ],
          [
           "ethiopia"
          ],
          [
           "ethiopia"
          ],
          [
           "foriegn_soil"
          ],
          [
           "foriegn_soil"
          ],
          [
           "ethiopia"
          ],
          [
           "ethiopia"
          ],
          [
           "ethiopia"
          ],
          [
           "ethiopia"
          ],
          [
           "foriegn_soil"
          ],
          [
           "foriegn_soil"
          ],
          [
           "foriegn_soil"
          ],
          [
           "ethiopia"
          ],
          [
           "ethiopia"
          ],
          [
           "ethiopia"
          ],
          [
           "ethiopia"
          ],
          [
           "ethiopia"
          ],
          [
           "ethiopia"
          ],
          [
           "ethiopia"
          ],
          [
           "ethiopia"
          ],
          [
           "ethiopia"
          ],
          [
           "foriegn_soil"
          ],
          [
           "ethiopia"
          ],
          [
           "ethiopia"
          ],
          [
           "ethiopia"
          ],
          [
           "foriegn_soil"
          ],
          [
           "ethiopia"
          ],
          [
           "ethiopia"
          ],
          [
           "ethiopia"
          ],
          [
           "ethiopia"
          ],
          [
           "ethiopia"
          ],
          [
           "foriegn_soil"
          ],
          [
           "ethiopia"
          ],
          [
           "ethiopia"
          ],
          [
           "foriegn_soil"
          ],
          [
           "ethiopia"
          ],
          [
           "ethiopia"
          ],
          [
           "ethiopia"
          ],
          [
           "foriegn_soil"
          ],
          [
           "foriegn_soil"
          ],
          [
           "ethiopia"
          ],
          [
           "ethiopia"
          ],
          [
           "ethiopia"
          ],
          [
           "foriegn_soil"
          ],
          [
           "ethiopia"
          ],
          [
           "ethiopia"
          ],
          [
           "ethiopia"
          ],
          [
           "ethiopia"
          ],
          [
           "ethiopia"
          ],
          [
           "ethiopia"
          ],
          [
           "ethiopia"
          ],
          [
           "ethiopia"
          ],
          [
           "ethiopia"
          ],
          [
           "ethiopia"
          ],
          [
           "ethiopia"
          ],
          [
           "ethiopia"
          ],
          [
           "ethiopia"
          ],
          [
           "ethiopia"
          ],
          [
           "ethiopia"
          ],
          [
           "ethiopia"
          ],
          [
           "ethiopia"
          ],
          [
           "ethiopia"
          ],
          [
           "ethiopia"
          ],
          [
           "ethiopia"
          ],
          [
           "foriegn_soil"
          ],
          [
           "ethiopia"
          ],
          [
           "ethiopia"
          ],
          [
           "ethiopia"
          ],
          [
           "ethiopia"
          ],
          [
           "ethiopia"
          ],
          [
           "ethiopia"
          ],
          [
           "ethiopia"
          ],
          [
           "ethiopia"
          ],
          [
           "ethiopia"
          ],
          [
           "foriegn_soil"
          ],
          [
           "ethiopia"
          ],
          [
           "foriegn_soil"
          ],
          [
           "foriegn_soil"
          ],
          [
           "ethiopia"
          ],
          [
           "ethiopia"
          ],
          [
           "ethiopia"
          ],
          [
           "ethiopia"
          ],
          [
           "ethiopia"
          ],
          [
           "ethiopia"
          ],
          [
           "ethiopia"
          ],
          [
           "ethiopia"
          ],
          [
           "ethiopia"
          ],
          [
           "ethiopia"
          ],
          [
           "ethiopia"
          ],
          [
           "ethiopia"
          ],
          [
           "ethiopia"
          ],
          [
           "ethiopia"
          ],
          [
           "ethiopia"
          ],
          [
           "ethiopia"
          ],
          [
           "ethiopia"
          ],
          [
           "ethiopia"
          ],
          [
           "ethiopia"
          ],
          [
           "ethiopia"
          ],
          [
           "ethiopia"
          ],
          [
           "ethiopia"
          ],
          [
           "ethiopia"
          ],
          [
           "ethiopia"
          ],
          [
           "ethiopia"
          ],
          [
           "ethiopia"
          ],
          [
           "ethiopia"
          ],
          [
           "ethiopia"
          ],
          [
           "ethiopia"
          ],
          [
           "ethiopia"
          ],
          [
           "ethiopia"
          ],
          [
           "ethiopia"
          ],
          [
           "ethiopia"
          ],
          [
           "ethiopia"
          ],
          [
           "ethiopia"
          ],
          [
           "ethiopia"
          ],
          [
           "ethiopia"
          ],
          [
           "ethiopia"
          ],
          [
           "ethiopia"
          ],
          [
           "ethiopia"
          ],
          [
           "ethiopia"
          ],
          [
           "ethiopia"
          ],
          [
           "ethiopia"
          ],
          [
           "ethiopia"
          ],
          [
           "ethiopia"
          ],
          [
           "ethiopia"
          ],
          [
           "ethiopia"
          ],
          [
           "ethiopia"
          ],
          [
           "ethiopia"
          ],
          [
           "ethiopia"
          ],
          [
           "ethiopia"
          ],
          [
           "ethiopia"
          ],
          [
           "ethiopia"
          ],
          [
           "ethiopia"
          ],
          [
           "ethiopia"
          ],
          [
           "ethiopia"
          ],
          [
           "ethiopia"
          ],
          [
           "ethiopia"
          ],
          [
           "ethiopia"
          ],
          [
           "ethiopia"
          ],
          [
           "ethiopia"
          ],
          [
           "ethiopia"
          ],
          [
           "ethiopia"
          ],
          [
           "ethiopia"
          ],
          [
           "ethiopia"
          ],
          [
           "ethiopia"
          ],
          [
           "ethiopia"
          ],
          [
           "ethiopia"
          ],
          [
           "ethiopia"
          ],
          [
           "ethiopia"
          ],
          [
           "ethiopia"
          ],
          [
           "ethiopia"
          ],
          [
           "ethiopia"
          ],
          [
           "ethiopia"
          ],
          [
           "ethiopia"
          ],
          [
           "ethiopia"
          ],
          [
           "ethiopia"
          ],
          [
           "ethiopia"
          ],
          [
           "ethiopia"
          ],
          [
           "ethiopia"
          ],
          [
           "ethiopia"
          ],
          [
           "ethiopia"
          ],
          [
           "ethiopia"
          ],
          [
           "ethiopia"
          ],
          [
           "ethiopia"
          ],
          [
           "ethiopia"
          ],
          [
           "ethiopia"
          ],
          [
           "ethiopia"
          ],
          [
           "ethiopia"
          ],
          [
           "ethiopia"
          ],
          [
           "ethiopia"
          ],
          [
           "ethiopia"
          ],
          [
           "ethiopia"
          ],
          [
           "ethiopia"
          ],
          [
           "ethiopia"
          ],
          [
           "ethiopia"
          ],
          [
           "ethiopia"
          ],
          [
           "ethiopia"
          ],
          [
           "ethiopia"
          ],
          [
           "ethiopia"
          ],
          [
           "ethiopia"
          ],
          [
           "ethiopia"
          ],
          [
           "ethiopia"
          ],
          [
           "ethiopia"
          ],
          [
           "ethiopia"
          ],
          [
           "ethiopia"
          ],
          [
           "ethiopia"
          ],
          [
           "ethiopia"
          ],
          [
           "ethiopia"
          ],
          [
           "ethiopia"
          ],
          [
           "ethiopia"
          ],
          [
           "ethiopia"
          ],
          [
           "ethiopia"
          ],
          [
           "ethiopia"
          ],
          [
           "ethiopia"
          ],
          [
           "ethiopia"
          ],
          [
           "ethiopia"
          ],
          [
           "ethiopia"
          ],
          [
           "ethiopia"
          ],
          [
           "ethiopia"
          ],
          [
           "ethiopia"
          ],
          [
           "ethiopia"
          ],
          [
           "ethiopia"
          ],
          [
           "ethiopia"
          ],
          [
           "ethiopia"
          ],
          [
           "ethiopia"
          ],
          [
           "ethiopia"
          ],
          [
           "ethiopia"
          ],
          [
           "ethiopia"
          ],
          [
           "ethiopia"
          ],
          [
           "ethiopia"
          ],
          [
           "ethiopia"
          ],
          [
           "ethiopia"
          ],
          [
           "ethiopia"
          ],
          [
           "ethiopia"
          ],
          [
           "ethiopia"
          ],
          [
           "ethiopia"
          ],
          [
           "ethiopia"
          ],
          [
           "ethiopia"
          ],
          [
           "ethiopia"
          ],
          [
           "ethiopia"
          ],
          [
           "ethiopia"
          ],
          [
           "ethiopia"
          ],
          [
           "ethiopia"
          ],
          [
           "ethiopia"
          ],
          [
           "ethiopia"
          ],
          [
           "ethiopia"
          ],
          [
           "ethiopia"
          ],
          [
           "ethiopia"
          ],
          [
           "ethiopia"
          ],
          [
           "ethiopia"
          ],
          [
           "ethiopia"
          ],
          [
           "ethiopia"
          ],
          [
           "ethiopia"
          ],
          [
           "ethiopia"
          ],
          [
           "ethiopia"
          ],
          [
           "ethiopia"
          ],
          [
           "ethiopia"
          ],
          [
           "ethiopia"
          ],
          [
           "ethiopia"
          ],
          [
           "ethiopia"
          ],
          [
           "ethiopia"
          ],
          [
           "ethiopia"
          ],
          [
           "ethiopia"
          ],
          [
           "ethiopia"
          ],
          [
           "ethiopia"
          ],
          [
           "ethiopia"
          ],
          [
           "ethiopia"
          ],
          [
           "ethiopia"
          ],
          [
           "ethiopia"
          ],
          [
           "ethiopia"
          ],
          [
           "ethiopia"
          ],
          [
           "ethiopia"
          ]
         ],
         "domain": {
          "x": [
           0,
           1
          ],
          "y": [
           0,
           1
          ]
         },
         "hole": 0.4,
         "hoverinfo": "label",
         "hovertemplate": "label=%{label}<br>color=%{customdata[0]}<extra></extra>",
         "labels": [
          "ethiopia",
          "ethiopia",
          "ethiopia",
          "ethiopia",
          "foriegn_soil",
          "ethiopia",
          "foriegn_soil",
          "ethiopia",
          "ethiopia",
          "ethiopia",
          "foriegn_soil",
          "foriegn_soil",
          "foriegn_soil",
          "foriegn_soil",
          "ethiopia",
          "ethiopia",
          "ethiopia",
          "foriegn_soil",
          "ethiopia",
          "ethiopia",
          "ethiopia",
          "foriegn_soil",
          "foriegn_soil",
          "ethiopia",
          "ethiopia",
          "ethiopia",
          "ethiopia",
          "ethiopia",
          "ethiopia",
          "foriegn_soil",
          "ethiopia",
          "ethiopia",
          "ethiopia",
          "foriegn_soil",
          "foriegn_soil",
          "ethiopia",
          "ethiopia",
          "ethiopia",
          "ethiopia",
          "foriegn_soil",
          "foriegn_soil",
          "ethiopia",
          "ethiopia",
          "ethiopia",
          "ethiopia",
          "foriegn_soil",
          "foriegn_soil",
          "foriegn_soil",
          "ethiopia",
          "ethiopia",
          "ethiopia",
          "ethiopia",
          "ethiopia",
          "ethiopia",
          "ethiopia",
          "ethiopia",
          "ethiopia",
          "foriegn_soil",
          "ethiopia",
          "ethiopia",
          "ethiopia",
          "foriegn_soil",
          "ethiopia",
          "ethiopia",
          "ethiopia",
          "ethiopia",
          "ethiopia",
          "foriegn_soil",
          "ethiopia",
          "ethiopia",
          "foriegn_soil",
          "ethiopia",
          "ethiopia",
          "ethiopia",
          "foriegn_soil",
          "foriegn_soil",
          "ethiopia",
          "ethiopia",
          "ethiopia",
          "foriegn_soil",
          "ethiopia",
          "ethiopia",
          "ethiopia",
          "ethiopia",
          "ethiopia",
          "ethiopia",
          "ethiopia",
          "ethiopia",
          "ethiopia",
          "ethiopia",
          "ethiopia",
          "ethiopia",
          "ethiopia",
          "ethiopia",
          "ethiopia",
          "ethiopia",
          "ethiopia",
          "ethiopia",
          "ethiopia",
          "ethiopia",
          "foriegn_soil",
          "ethiopia",
          "ethiopia",
          "ethiopia",
          "ethiopia",
          "ethiopia",
          "ethiopia",
          "ethiopia",
          "ethiopia",
          "ethiopia",
          "foriegn_soil",
          "ethiopia",
          "foriegn_soil",
          "foriegn_soil",
          "ethiopia",
          "ethiopia",
          "ethiopia",
          "ethiopia",
          "ethiopia",
          "ethiopia",
          "ethiopia",
          "ethiopia",
          "ethiopia",
          "ethiopia",
          "ethiopia",
          "ethiopia",
          "ethiopia",
          "ethiopia",
          "ethiopia",
          "ethiopia",
          "ethiopia",
          "ethiopia",
          "ethiopia",
          "ethiopia",
          "ethiopia",
          "ethiopia",
          "ethiopia",
          "ethiopia",
          "ethiopia",
          "ethiopia",
          "ethiopia",
          "ethiopia",
          "ethiopia",
          "ethiopia",
          "ethiopia",
          "ethiopia",
          "ethiopia",
          "ethiopia",
          "ethiopia",
          "ethiopia",
          "ethiopia",
          "ethiopia",
          "ethiopia",
          "ethiopia",
          "ethiopia",
          "ethiopia",
          "ethiopia",
          "ethiopia",
          "ethiopia",
          "ethiopia",
          "ethiopia",
          "ethiopia",
          "ethiopia",
          "ethiopia",
          "ethiopia",
          "ethiopia",
          "ethiopia",
          "ethiopia",
          "ethiopia",
          "ethiopia",
          "ethiopia",
          "ethiopia",
          "ethiopia",
          "ethiopia",
          "ethiopia",
          "ethiopia",
          "ethiopia",
          "ethiopia",
          "ethiopia",
          "ethiopia",
          "ethiopia",
          "ethiopia",
          "ethiopia",
          "ethiopia",
          "ethiopia",
          "ethiopia",
          "ethiopia",
          "ethiopia",
          "ethiopia",
          "ethiopia",
          "ethiopia",
          "ethiopia",
          "ethiopia",
          "ethiopia",
          "ethiopia",
          "ethiopia",
          "ethiopia",
          "ethiopia",
          "ethiopia",
          "ethiopia",
          "ethiopia",
          "ethiopia",
          "ethiopia",
          "ethiopia",
          "ethiopia",
          "ethiopia",
          "ethiopia",
          "ethiopia",
          "ethiopia",
          "ethiopia",
          "ethiopia",
          "ethiopia",
          "ethiopia",
          "ethiopia",
          "ethiopia",
          "ethiopia",
          "ethiopia",
          "ethiopia",
          "ethiopia",
          "ethiopia",
          "ethiopia",
          "ethiopia",
          "ethiopia",
          "ethiopia",
          "ethiopia",
          "ethiopia",
          "ethiopia",
          "ethiopia",
          "ethiopia",
          "ethiopia",
          "ethiopia",
          "ethiopia",
          "ethiopia",
          "ethiopia",
          "ethiopia",
          "ethiopia",
          "ethiopia",
          "ethiopia",
          "ethiopia",
          "ethiopia",
          "ethiopia",
          "ethiopia",
          "ethiopia",
          "ethiopia",
          "ethiopia",
          "ethiopia",
          "ethiopia",
          "ethiopia",
          "ethiopia",
          "ethiopia",
          "ethiopia",
          "ethiopia",
          "ethiopia",
          "ethiopia",
          "ethiopia",
          "ethiopia",
          "ethiopia",
          "ethiopia",
          "ethiopia",
          "ethiopia",
          "ethiopia",
          "ethiopia",
          "ethiopia",
          "ethiopia",
          "ethiopia",
          "ethiopia",
          "ethiopia",
          "ethiopia",
          "ethiopia",
          "ethiopia",
          "ethiopia",
          "ethiopia",
          "ethiopia",
          "ethiopia",
          "ethiopia",
          "ethiopia",
          "ethiopia",
          "ethiopia",
          "ethiopia",
          "ethiopia",
          "ethiopia",
          "ethiopia",
          "ethiopia",
          "ethiopia",
          "ethiopia",
          "ethiopia",
          "ethiopia"
         ],
         "legendgroup": "",
         "marker": {
          "colors": [
           "#C0C0C0",
           "#C0C0C0",
           "#C0C0C0",
           "#C0C0C0",
           "#FFD700",
           "#C0C0C0",
           "#FFD700",
           "#C0C0C0",
           "#C0C0C0",
           "#C0C0C0",
           "#FFD700",
           "#FFD700",
           "#FFD700",
           "#FFD700",
           "#C0C0C0",
           "#C0C0C0",
           "#C0C0C0",
           "#FFD700",
           "#C0C0C0",
           "#C0C0C0",
           "#C0C0C0",
           "#FFD700",
           "#FFD700",
           "#C0C0C0",
           "#C0C0C0",
           "#C0C0C0",
           "#C0C0C0",
           "#C0C0C0",
           "#C0C0C0",
           "#FFD700",
           "#C0C0C0",
           "#C0C0C0",
           "#C0C0C0",
           "#FFD700",
           "#FFD700",
           "#C0C0C0",
           "#C0C0C0",
           "#C0C0C0",
           "#C0C0C0",
           "#FFD700",
           "#FFD700",
           "#C0C0C0",
           "#C0C0C0",
           "#C0C0C0",
           "#C0C0C0",
           "#FFD700",
           "#FFD700",
           "#FFD700",
           "#C0C0C0",
           "#C0C0C0",
           "#C0C0C0",
           "#C0C0C0",
           "#C0C0C0",
           "#C0C0C0",
           "#C0C0C0",
           "#C0C0C0",
           "#C0C0C0",
           "#FFD700",
           "#C0C0C0",
           "#C0C0C0",
           "#C0C0C0",
           "#FFD700",
           "#C0C0C0",
           "#C0C0C0",
           "#C0C0C0",
           "#C0C0C0",
           "#C0C0C0",
           "#FFD700",
           "#C0C0C0",
           "#C0C0C0",
           "#FFD700",
           "#C0C0C0",
           "#C0C0C0",
           "#C0C0C0",
           "#FFD700",
           "#FFD700",
           "#C0C0C0",
           "#C0C0C0",
           "#C0C0C0",
           "#FFD700",
           "#C0C0C0",
           "#C0C0C0",
           "#C0C0C0",
           "#C0C0C0",
           "#C0C0C0",
           "#C0C0C0",
           "#C0C0C0",
           "#C0C0C0",
           "#C0C0C0",
           "#C0C0C0",
           "#C0C0C0",
           "#C0C0C0",
           "#C0C0C0",
           "#C0C0C0",
           "#C0C0C0",
           "#C0C0C0",
           "#C0C0C0",
           "#C0C0C0",
           "#C0C0C0",
           "#C0C0C0",
           "#FFD700",
           "#C0C0C0",
           "#C0C0C0",
           "#C0C0C0",
           "#C0C0C0",
           "#C0C0C0",
           "#C0C0C0",
           "#C0C0C0",
           "#C0C0C0",
           "#C0C0C0",
           "#FFD700",
           "#C0C0C0",
           "#FFD700",
           "#FFD700",
           "#C0C0C0",
           "#C0C0C0",
           "#C0C0C0",
           "#C0C0C0",
           "#C0C0C0",
           "#C0C0C0",
           "#C0C0C0",
           "#C0C0C0",
           "#C0C0C0",
           "#C0C0C0",
           "#C0C0C0",
           "#C0C0C0",
           "#C0C0C0",
           "#C0C0C0",
           "#C0C0C0",
           "#C0C0C0",
           "#C0C0C0",
           "#C0C0C0",
           "#C0C0C0",
           "#C0C0C0",
           "#C0C0C0",
           "#C0C0C0",
           "#C0C0C0",
           "#C0C0C0",
           "#C0C0C0",
           "#C0C0C0",
           "#C0C0C0",
           "#C0C0C0",
           "#C0C0C0",
           "#C0C0C0",
           "#C0C0C0",
           "#C0C0C0",
           "#C0C0C0",
           "#C0C0C0",
           "#C0C0C0",
           "#C0C0C0",
           "#C0C0C0",
           "#C0C0C0",
           "#C0C0C0",
           "#C0C0C0",
           "#C0C0C0",
           "#C0C0C0",
           "#C0C0C0",
           "#C0C0C0",
           "#C0C0C0",
           "#C0C0C0",
           "#C0C0C0",
           "#C0C0C0",
           "#C0C0C0",
           "#C0C0C0",
           "#C0C0C0",
           "#C0C0C0",
           "#C0C0C0",
           "#C0C0C0",
           "#C0C0C0",
           "#C0C0C0",
           "#C0C0C0",
           "#C0C0C0",
           "#C0C0C0",
           "#C0C0C0",
           "#C0C0C0",
           "#C0C0C0",
           "#C0C0C0",
           "#C0C0C0",
           "#C0C0C0",
           "#C0C0C0",
           "#C0C0C0",
           "#C0C0C0",
           "#C0C0C0",
           "#C0C0C0",
           "#C0C0C0",
           "#C0C0C0",
           "#C0C0C0",
           "#C0C0C0",
           "#C0C0C0",
           "#C0C0C0",
           "#C0C0C0",
           "#C0C0C0",
           "#C0C0C0",
           "#C0C0C0",
           "#C0C0C0",
           "#C0C0C0",
           "#C0C0C0",
           "#C0C0C0",
           "#C0C0C0",
           "#C0C0C0",
           "#C0C0C0",
           "#C0C0C0",
           "#C0C0C0",
           "#C0C0C0",
           "#C0C0C0",
           "#C0C0C0",
           "#C0C0C0",
           "#C0C0C0",
           "#C0C0C0",
           "#C0C0C0",
           "#C0C0C0",
           "#C0C0C0",
           "#C0C0C0",
           "#C0C0C0",
           "#C0C0C0",
           "#C0C0C0",
           "#C0C0C0",
           "#C0C0C0",
           "#C0C0C0",
           "#C0C0C0",
           "#C0C0C0",
           "#C0C0C0",
           "#C0C0C0",
           "#C0C0C0",
           "#C0C0C0",
           "#C0C0C0",
           "#C0C0C0",
           "#C0C0C0",
           "#C0C0C0",
           "#C0C0C0",
           "#C0C0C0",
           "#C0C0C0",
           "#C0C0C0",
           "#C0C0C0",
           "#C0C0C0",
           "#C0C0C0",
           "#C0C0C0",
           "#C0C0C0",
           "#C0C0C0",
           "#C0C0C0",
           "#C0C0C0",
           "#C0C0C0",
           "#C0C0C0",
           "#C0C0C0",
           "#C0C0C0",
           "#C0C0C0",
           "#C0C0C0",
           "#C0C0C0",
           "#C0C0C0",
           "#C0C0C0",
           "#C0C0C0",
           "#C0C0C0",
           "#C0C0C0",
           "#C0C0C0",
           "#C0C0C0",
           "#C0C0C0",
           "#C0C0C0",
           "#C0C0C0",
           "#C0C0C0",
           "#C0C0C0",
           "#C0C0C0",
           "#C0C0C0",
           "#C0C0C0",
           "#C0C0C0",
           "#C0C0C0",
           "#C0C0C0",
           "#C0C0C0",
           "#C0C0C0",
           "#C0C0C0",
           "#C0C0C0",
           "#C0C0C0",
           "#C0C0C0",
           "#C0C0C0",
           "#C0C0C0",
           "#C0C0C0",
           "#C0C0C0",
           "#C0C0C0",
           "#C0C0C0",
           "#C0C0C0",
           "#C0C0C0",
           "#C0C0C0",
           "#C0C0C0",
           "#C0C0C0",
           "#C0C0C0",
           "#C0C0C0",
           "#C0C0C0",
           "#C0C0C0"
          ]
         },
         "name": "",
         "showlegend": true,
         "textfont": {
          "size": 20
         },
         "textinfo": "percent",
         "title": {
          "font": {
           "color": "darkred",
           "family": "Verdana",
           "size": 25
          }
         },
         "type": "pie"
        }
       ],
       "layout": {
        "legend": {
         "tracegroupgap": 0
        },
        "template": {
         "data": {
          "bar": [
           {
            "error_x": {
             "color": "#2a3f5f"
            },
            "error_y": {
             "color": "#2a3f5f"
            },
            "marker": {
             "line": {
              "color": "#E5ECF6",
              "width": 0.5
             },
             "pattern": {
              "fillmode": "overlay",
              "size": 10,
              "solidity": 0.2
             }
            },
            "type": "bar"
           }
          ],
          "barpolar": [
           {
            "marker": {
             "line": {
              "color": "#E5ECF6",
              "width": 0.5
             },
             "pattern": {
              "fillmode": "overlay",
              "size": 10,
              "solidity": 0.2
             }
            },
            "type": "barpolar"
           }
          ],
          "carpet": [
           {
            "aaxis": {
             "endlinecolor": "#2a3f5f",
             "gridcolor": "white",
             "linecolor": "white",
             "minorgridcolor": "white",
             "startlinecolor": "#2a3f5f"
            },
            "baxis": {
             "endlinecolor": "#2a3f5f",
             "gridcolor": "white",
             "linecolor": "white",
             "minorgridcolor": "white",
             "startlinecolor": "#2a3f5f"
            },
            "type": "carpet"
           }
          ],
          "choropleth": [
           {
            "colorbar": {
             "outlinewidth": 0,
             "ticks": ""
            },
            "type": "choropleth"
           }
          ],
          "contour": [
           {
            "colorbar": {
             "outlinewidth": 0,
             "ticks": ""
            },
            "colorscale": [
             [
              0,
              "#0d0887"
             ],
             [
              0.1111111111111111,
              "#46039f"
             ],
             [
              0.2222222222222222,
              "#7201a8"
             ],
             [
              0.3333333333333333,
              "#9c179e"
             ],
             [
              0.4444444444444444,
              "#bd3786"
             ],
             [
              0.5555555555555556,
              "#d8576b"
             ],
             [
              0.6666666666666666,
              "#ed7953"
             ],
             [
              0.7777777777777778,
              "#fb9f3a"
             ],
             [
              0.8888888888888888,
              "#fdca26"
             ],
             [
              1,
              "#f0f921"
             ]
            ],
            "type": "contour"
           }
          ],
          "contourcarpet": [
           {
            "colorbar": {
             "outlinewidth": 0,
             "ticks": ""
            },
            "type": "contourcarpet"
           }
          ],
          "heatmap": [
           {
            "colorbar": {
             "outlinewidth": 0,
             "ticks": ""
            },
            "colorscale": [
             [
              0,
              "#0d0887"
             ],
             [
              0.1111111111111111,
              "#46039f"
             ],
             [
              0.2222222222222222,
              "#7201a8"
             ],
             [
              0.3333333333333333,
              "#9c179e"
             ],
             [
              0.4444444444444444,
              "#bd3786"
             ],
             [
              0.5555555555555556,
              "#d8576b"
             ],
             [
              0.6666666666666666,
              "#ed7953"
             ],
             [
              0.7777777777777778,
              "#fb9f3a"
             ],
             [
              0.8888888888888888,
              "#fdca26"
             ],
             [
              1,
              "#f0f921"
             ]
            ],
            "type": "heatmap"
           }
          ],
          "heatmapgl": [
           {
            "colorbar": {
             "outlinewidth": 0,
             "ticks": ""
            },
            "colorscale": [
             [
              0,
              "#0d0887"
             ],
             [
              0.1111111111111111,
              "#46039f"
             ],
             [
              0.2222222222222222,
              "#7201a8"
             ],
             [
              0.3333333333333333,
              "#9c179e"
             ],
             [
              0.4444444444444444,
              "#bd3786"
             ],
             [
              0.5555555555555556,
              "#d8576b"
             ],
             [
              0.6666666666666666,
              "#ed7953"
             ],
             [
              0.7777777777777778,
              "#fb9f3a"
             ],
             [
              0.8888888888888888,
              "#fdca26"
             ],
             [
              1,
              "#f0f921"
             ]
            ],
            "type": "heatmapgl"
           }
          ],
          "histogram": [
           {
            "marker": {
             "pattern": {
              "fillmode": "overlay",
              "size": 10,
              "solidity": 0.2
             }
            },
            "type": "histogram"
           }
          ],
          "histogram2d": [
           {
            "colorbar": {
             "outlinewidth": 0,
             "ticks": ""
            },
            "colorscale": [
             [
              0,
              "#0d0887"
             ],
             [
              0.1111111111111111,
              "#46039f"
             ],
             [
              0.2222222222222222,
              "#7201a8"
             ],
             [
              0.3333333333333333,
              "#9c179e"
             ],
             [
              0.4444444444444444,
              "#bd3786"
             ],
             [
              0.5555555555555556,
              "#d8576b"
             ],
             [
              0.6666666666666666,
              "#ed7953"
             ],
             [
              0.7777777777777778,
              "#fb9f3a"
             ],
             [
              0.8888888888888888,
              "#fdca26"
             ],
             [
              1,
              "#f0f921"
             ]
            ],
            "type": "histogram2d"
           }
          ],
          "histogram2dcontour": [
           {
            "colorbar": {
             "outlinewidth": 0,
             "ticks": ""
            },
            "colorscale": [
             [
              0,
              "#0d0887"
             ],
             [
              0.1111111111111111,
              "#46039f"
             ],
             [
              0.2222222222222222,
              "#7201a8"
             ],
             [
              0.3333333333333333,
              "#9c179e"
             ],
             [
              0.4444444444444444,
              "#bd3786"
             ],
             [
              0.5555555555555556,
              "#d8576b"
             ],
             [
              0.6666666666666666,
              "#ed7953"
             ],
             [
              0.7777777777777778,
              "#fb9f3a"
             ],
             [
              0.8888888888888888,
              "#fdca26"
             ],
             [
              1,
              "#f0f921"
             ]
            ],
            "type": "histogram2dcontour"
           }
          ],
          "mesh3d": [
           {
            "colorbar": {
             "outlinewidth": 0,
             "ticks": ""
            },
            "type": "mesh3d"
           }
          ],
          "parcoords": [
           {
            "line": {
             "colorbar": {
              "outlinewidth": 0,
              "ticks": ""
             }
            },
            "type": "parcoords"
           }
          ],
          "pie": [
           {
            "automargin": true,
            "type": "pie"
           }
          ],
          "scatter": [
           {
            "fillpattern": {
             "fillmode": "overlay",
             "size": 10,
             "solidity": 0.2
            },
            "type": "scatter"
           }
          ],
          "scatter3d": [
           {
            "line": {
             "colorbar": {
              "outlinewidth": 0,
              "ticks": ""
             }
            },
            "marker": {
             "colorbar": {
              "outlinewidth": 0,
              "ticks": ""
             }
            },
            "type": "scatter3d"
           }
          ],
          "scattercarpet": [
           {
            "marker": {
             "colorbar": {
              "outlinewidth": 0,
              "ticks": ""
             }
            },
            "type": "scattercarpet"
           }
          ],
          "scattergeo": [
           {
            "marker": {
             "colorbar": {
              "outlinewidth": 0,
              "ticks": ""
             }
            },
            "type": "scattergeo"
           }
          ],
          "scattergl": [
           {
            "marker": {
             "colorbar": {
              "outlinewidth": 0,
              "ticks": ""
             }
            },
            "type": "scattergl"
           }
          ],
          "scattermapbox": [
           {
            "marker": {
             "colorbar": {
              "outlinewidth": 0,
              "ticks": ""
             }
            },
            "type": "scattermapbox"
           }
          ],
          "scatterpolar": [
           {
            "marker": {
             "colorbar": {
              "outlinewidth": 0,
              "ticks": ""
             }
            },
            "type": "scatterpolar"
           }
          ],
          "scatterpolargl": [
           {
            "marker": {
             "colorbar": {
              "outlinewidth": 0,
              "ticks": ""
             }
            },
            "type": "scatterpolargl"
           }
          ],
          "scatterternary": [
           {
            "marker": {
             "colorbar": {
              "outlinewidth": 0,
              "ticks": ""
             }
            },
            "type": "scatterternary"
           }
          ],
          "surface": [
           {
            "colorbar": {
             "outlinewidth": 0,
             "ticks": ""
            },
            "colorscale": [
             [
              0,
              "#0d0887"
             ],
             [
              0.1111111111111111,
              "#46039f"
             ],
             [
              0.2222222222222222,
              "#7201a8"
             ],
             [
              0.3333333333333333,
              "#9c179e"
             ],
             [
              0.4444444444444444,
              "#bd3786"
             ],
             [
              0.5555555555555556,
              "#d8576b"
             ],
             [
              0.6666666666666666,
              "#ed7953"
             ],
             [
              0.7777777777777778,
              "#fb9f3a"
             ],
             [
              0.8888888888888888,
              "#fdca26"
             ],
             [
              1,
              "#f0f921"
             ]
            ],
            "type": "surface"
           }
          ],
          "table": [
           {
            "cells": {
             "fill": {
              "color": "#EBF0F8"
             },
             "line": {
              "color": "white"
             }
            },
            "header": {
             "fill": {
              "color": "#C8D4E3"
             },
             "line": {
              "color": "white"
             }
            },
            "type": "table"
           }
          ]
         },
         "layout": {
          "annotationdefaults": {
           "arrowcolor": "#2a3f5f",
           "arrowhead": 0,
           "arrowwidth": 1
          },
          "autotypenumbers": "strict",
          "coloraxis": {
           "colorbar": {
            "outlinewidth": 0,
            "ticks": ""
           }
          },
          "colorscale": {
           "diverging": [
            [
             0,
             "#8e0152"
            ],
            [
             0.1,
             "#c51b7d"
            ],
            [
             0.2,
             "#de77ae"
            ],
            [
             0.3,
             "#f1b6da"
            ],
            [
             0.4,
             "#fde0ef"
            ],
            [
             0.5,
             "#f7f7f7"
            ],
            [
             0.6,
             "#e6f5d0"
            ],
            [
             0.7,
             "#b8e186"
            ],
            [
             0.8,
             "#7fbc41"
            ],
            [
             0.9,
             "#4d9221"
            ],
            [
             1,
             "#276419"
            ]
           ],
           "sequential": [
            [
             0,
             "#0d0887"
            ],
            [
             0.1111111111111111,
             "#46039f"
            ],
            [
             0.2222222222222222,
             "#7201a8"
            ],
            [
             0.3333333333333333,
             "#9c179e"
            ],
            [
             0.4444444444444444,
             "#bd3786"
            ],
            [
             0.5555555555555556,
             "#d8576b"
            ],
            [
             0.6666666666666666,
             "#ed7953"
            ],
            [
             0.7777777777777778,
             "#fb9f3a"
            ],
            [
             0.8888888888888888,
             "#fdca26"
            ],
            [
             1,
             "#f0f921"
            ]
           ],
           "sequentialminus": [
            [
             0,
             "#0d0887"
            ],
            [
             0.1111111111111111,
             "#46039f"
            ],
            [
             0.2222222222222222,
             "#7201a8"
            ],
            [
             0.3333333333333333,
             "#9c179e"
            ],
            [
             0.4444444444444444,
             "#bd3786"
            ],
            [
             0.5555555555555556,
             "#d8576b"
            ],
            [
             0.6666666666666666,
             "#ed7953"
            ],
            [
             0.7777777777777778,
             "#fb9f3a"
            ],
            [
             0.8888888888888888,
             "#fdca26"
            ],
            [
             1,
             "#f0f921"
            ]
           ]
          },
          "colorway": [
           "#636efa",
           "#EF553B",
           "#00cc96",
           "#ab63fa",
           "#FFA15A",
           "#19d3f3",
           "#FF6692",
           "#B6E880",
           "#FF97FF",
           "#FECB52"
          ],
          "font": {
           "color": "#2a3f5f"
          },
          "geo": {
           "bgcolor": "white",
           "lakecolor": "white",
           "landcolor": "#E5ECF6",
           "showlakes": true,
           "showland": true,
           "subunitcolor": "white"
          },
          "hoverlabel": {
           "align": "left"
          },
          "hovermode": "closest",
          "mapbox": {
           "style": "light"
          },
          "paper_bgcolor": "white",
          "plot_bgcolor": "#E5ECF6",
          "polar": {
           "angularaxis": {
            "gridcolor": "white",
            "linecolor": "white",
            "ticks": ""
           },
           "bgcolor": "#E5ECF6",
           "radialaxis": {
            "gridcolor": "white",
            "linecolor": "white",
            "ticks": ""
           }
          },
          "scene": {
           "xaxis": {
            "backgroundcolor": "#E5ECF6",
            "gridcolor": "white",
            "gridwidth": 2,
            "linecolor": "white",
            "showbackground": true,
            "ticks": "",
            "zerolinecolor": "white"
           },
           "yaxis": {
            "backgroundcolor": "#E5ECF6",
            "gridcolor": "white",
            "gridwidth": 2,
            "linecolor": "white",
            "showbackground": true,
            "ticks": "",
            "zerolinecolor": "white"
           },
           "zaxis": {
            "backgroundcolor": "#E5ECF6",
            "gridcolor": "white",
            "gridwidth": 2,
            "linecolor": "white",
            "showbackground": true,
            "ticks": "",
            "zerolinecolor": "white"
           }
          },
          "shapedefaults": {
           "line": {
            "color": "#2a3f5f"
           }
          },
          "ternary": {
           "aaxis": {
            "gridcolor": "white",
            "linecolor": "white",
            "ticks": ""
           },
           "baxis": {
            "gridcolor": "white",
            "linecolor": "white",
            "ticks": ""
           },
           "bgcolor": "#E5ECF6",
           "caxis": {
            "gridcolor": "white",
            "linecolor": "white",
            "ticks": ""
           }
          },
          "title": {
           "x": 0.05
          },
          "xaxis": {
           "automargin": true,
           "gridcolor": "white",
           "linecolor": "white",
           "ticks": "",
           "title": {
            "standoff": 15
           },
           "zerolinecolor": "white",
           "zerolinewidth": 2
          },
          "yaxis": {
           "automargin": true,
           "gridcolor": "white",
           "linecolor": "white",
           "ticks": "",
           "title": {
            "standoff": 15
           },
           "zerolinecolor": "white",
           "zerolinewidth": 2
          }
         }
        },
        "title": {
         "text": "Population Economically Active"
        }
       }
      }
     },
     "metadata": {},
     "output_type": "display_data"
    }
   ],
   "source": [
    "fig4 = px.pie(df.pob, hole = 0.4,\n",
    "              names = df.pob, color = df.pob,\n",
    "              title = 'Population Economically Active',\n",
    "              color_discrete_map = {'ethiopia':'#C0C0C0', \n",
    "                                    'foriegn_soil': '#FFD700', \n",
    "                                             \n",
    "             })\n",
    "fig4.update_traces(title_font = dict(size=25,family='Verdana', \n",
    "                   color='darkred'),\n",
    "                   hoverinfo='label',\n",
    "                   textinfo='percent', textfont_size=20)\n",
    "fig4.show()"
   ]
  },
  {
   "cell_type": "code",
   "execution_count": 132,
   "metadata": {},
   "outputs": [
    {
     "data": {
      "application/vnd.plotly.v1+json": {
       "config": {
        "plotlyServerURL": "https://plot.ly"
       },
       "data": [
        {
         "customdata": [
          [
           "a"
          ],
          [
           "b"
          ],
          [
           "a"
          ],
          [
           "c"
          ],
          [
           "b"
          ],
          [
           "a"
          ],
          [
           "a"
          ],
          [
           "a"
          ],
          [
           "b"
          ],
          [
           "a"
          ],
          [
           "b"
          ],
          [
           "a"
          ],
          [
           "b"
          ],
          [
           "a"
          ],
          [
           "a"
          ],
          [
           "a"
          ],
          [
           "a"
          ],
          [
           "a"
          ],
          [
           "a"
          ],
          [
           "a"
          ],
          [
           "a"
          ],
          [
           "c"
          ],
          [
           "b"
          ],
          [
           "b"
          ],
          [
           "b"
          ],
          [
           "a"
          ],
          [
           "a"
          ],
          [
           "a"
          ],
          [
           "c"
          ],
          [
           "a"
          ],
          [
           "a"
          ],
          [
           "a"
          ],
          [
           "c"
          ],
          [
           "a"
          ],
          [
           "b"
          ],
          [
           "c"
          ],
          [
           "a"
          ],
          [
           "a"
          ],
          [
           "b"
          ],
          [
           "a"
          ],
          [
           "a"
          ],
          [
           "b"
          ],
          [
           "a"
          ],
          [
           "c"
          ],
          [
           "a"
          ],
          [
           "a"
          ],
          [
           "a"
          ],
          [
           "a"
          ],
          [
           "a"
          ],
          [
           "a"
          ],
          [
           "a"
          ],
          [
           "a"
          ],
          [
           "a"
          ],
          [
           "a"
          ],
          [
           "a"
          ],
          [
           "a"
          ],
          [
           "a"
          ],
          [
           "a"
          ],
          [
           "a"
          ],
          [
           "a"
          ],
          [
           "a"
          ],
          [
           "a"
          ],
          [
           "a"
          ],
          [
           "b"
          ],
          [
           "a"
          ],
          [
           "a"
          ],
          [
           "a"
          ],
          [
           "a"
          ],
          [
           "a"
          ],
          [
           "a"
          ],
          [
           "b"
          ],
          [
           "a"
          ],
          [
           "a"
          ],
          [
           "a"
          ],
          [
           "c"
          ],
          [
           "a"
          ],
          [
           "a"
          ],
          [
           "a"
          ],
          [
           "b"
          ],
          [
           "b"
          ],
          [
           "a"
          ],
          [
           "a"
          ],
          [
           "a"
          ],
          [
           "b"
          ],
          [
           "a"
          ],
          [
           "b"
          ],
          [
           "b"
          ],
          [
           "a"
          ],
          [
           "a"
          ],
          [
           "a"
          ],
          [
           "a"
          ],
          [
           "a"
          ],
          [
           "b"
          ],
          [
           "a"
          ],
          [
           "a"
          ],
          [
           "a"
          ],
          [
           "a"
          ],
          [
           "c"
          ],
          [
           "a"
          ],
          [
           "a"
          ],
          [
           "a"
          ],
          [
           "a"
          ],
          [
           "a"
          ],
          [
           "a"
          ],
          [
           "a"
          ],
          [
           "a"
          ],
          [
           "a"
          ],
          [
           "a"
          ],
          [
           "a"
          ],
          [
           "a"
          ],
          [
           "c"
          ],
          [
           "a"
          ],
          [
           "c"
          ],
          [
           "b"
          ],
          [
           "b"
          ],
          [
           "b"
          ],
          [
           "a"
          ],
          [
           "a"
          ],
          [
           "a"
          ],
          [
           "a"
          ],
          [
           "a"
          ],
          [
           "a"
          ],
          [
           "c"
          ],
          [
           "a"
          ],
          [
           "a"
          ],
          [
           "a"
          ],
          [
           "a"
          ],
          [
           "a"
          ],
          [
           "a"
          ],
          [
           "a"
          ],
          [
           "a"
          ],
          [
           "b"
          ],
          [
           "a"
          ],
          [
           "b"
          ],
          [
           "c"
          ],
          [
           "a"
          ],
          [
           "a"
          ],
          [
           "a"
          ],
          [
           "a"
          ],
          [
           "a"
          ],
          [
           "a"
          ],
          [
           "a"
          ],
          [
           "a"
          ],
          [
           "a"
          ],
          [
           "a"
          ],
          [
           "b"
          ],
          [
           "b"
          ],
          [
           "a"
          ],
          [
           "b"
          ],
          [
           "a"
          ],
          [
           "a"
          ],
          [
           "b"
          ],
          [
           "a"
          ],
          [
           "a"
          ],
          [
           "a"
          ],
          [
           "a"
          ],
          [
           "a"
          ],
          [
           "a"
          ],
          [
           "a"
          ],
          [
           "a"
          ],
          [
           "a"
          ],
          [
           "b"
          ],
          [
           "a"
          ],
          [
           "b"
          ],
          [
           "a"
          ],
          [
           "a"
          ],
          [
           "a"
          ],
          [
           "a"
          ],
          [
           "a"
          ],
          [
           "a"
          ],
          [
           "a"
          ],
          [
           "a"
          ],
          [
           "a"
          ],
          [
           "c"
          ],
          [
           "a"
          ],
          [
           "b"
          ],
          [
           "a"
          ],
          [
           "a"
          ],
          [
           "a"
          ],
          [
           "a"
          ],
          [
           "a"
          ],
          [
           "b"
          ],
          [
           "a"
          ],
          [
           "a"
          ],
          [
           "a"
          ],
          [
           "a"
          ],
          [
           "a"
          ],
          [
           "a"
          ],
          [
           "a"
          ],
          [
           "a"
          ],
          [
           "a"
          ],
          [
           "a"
          ],
          [
           "a"
          ],
          [
           "a"
          ],
          [
           "a"
          ],
          [
           "a"
          ],
          [
           "a"
          ],
          [
           "a"
          ],
          [
           "a"
          ],
          [
           "a"
          ],
          [
           "a"
          ],
          [
           "a"
          ],
          [
           "a"
          ],
          [
           "a"
          ],
          [
           "a"
          ],
          [
           "b"
          ],
          [
           "a"
          ],
          [
           "b"
          ],
          [
           "a"
          ],
          [
           "c"
          ],
          [
           "a"
          ],
          [
           "a"
          ],
          [
           "a"
          ],
          [
           "a"
          ],
          [
           "a"
          ],
          [
           "b"
          ],
          [
           "a"
          ],
          [
           "a"
          ],
          [
           "a"
          ],
          [
           "b"
          ],
          [
           "a"
          ],
          [
           "a"
          ],
          [
           "a"
          ],
          [
           "a"
          ],
          [
           "a"
          ],
          [
           "a"
          ],
          [
           "a"
          ],
          [
           "a"
          ],
          [
           "b"
          ],
          [
           "a"
          ],
          [
           "a"
          ],
          [
           "a"
          ],
          [
           "a"
          ],
          [
           "a"
          ],
          [
           "a"
          ],
          [
           "a"
          ],
          [
           "a"
          ],
          [
           "a"
          ],
          [
           "a"
          ],
          [
           "a"
          ],
          [
           "a"
          ],
          [
           "b"
          ],
          [
           "a"
          ],
          [
           "a"
          ],
          [
           "a"
          ],
          [
           "b"
          ],
          [
           "a"
          ],
          [
           "a"
          ],
          [
           "a"
          ],
          [
           "b"
          ],
          [
           "a"
          ],
          [
           "b"
          ],
          [
           "a"
          ],
          [
           "a"
          ],
          [
           "a"
          ],
          [
           "a"
          ],
          [
           "a"
          ],
          [
           "a"
          ],
          [
           "a"
          ],
          [
           "a"
          ],
          [
           "a"
          ],
          [
           "b"
          ],
          [
           "a"
          ],
          [
           "a"
          ],
          [
           "b"
          ],
          [
           "a"
          ],
          [
           "a"
          ],
          [
           "b"
          ],
          [
           "a"
          ],
          [
           "b"
          ],
          [
           "a"
          ],
          [
           "a"
          ],
          [
           "c"
          ],
          [
           "b"
          ],
          [
           "a"
          ],
          [
           "a"
          ],
          [
           "b"
          ],
          [
           "a"
          ],
          [
           "b"
          ],
          [
           "a"
          ],
          [
           "a"
          ],
          [
           "b"
          ],
          [
           "b"
          ],
          [
           "b"
          ],
          [
           "a"
          ],
          [
           "a"
          ],
          [
           "a"
          ]
         ],
         "domain": {
          "x": [
           0,
           1
          ],
          "y": [
           0,
           1
          ]
         },
         "hole": 0.4,
         "hoverinfo": "label",
         "hovertemplate": "label=%{label}<br>color=%{customdata[0]}<extra></extra>",
         "labels": [
          "a",
          "b",
          "a",
          "c",
          "b",
          "a",
          "a",
          "a",
          "b",
          "a",
          "b",
          "a",
          "b",
          "a",
          "a",
          "a",
          "a",
          "a",
          "a",
          "a",
          "a",
          "c",
          "b",
          "b",
          "b",
          "a",
          "a",
          "a",
          "c",
          "a",
          "a",
          "a",
          "c",
          "a",
          "b",
          "c",
          "a",
          "a",
          "b",
          "a",
          "a",
          "b",
          "a",
          "c",
          "a",
          "a",
          "a",
          "a",
          "a",
          "a",
          "a",
          "a",
          "a",
          "a",
          "a",
          "a",
          "a",
          "a",
          "a",
          "a",
          "a",
          "a",
          "a",
          "b",
          "a",
          "a",
          "a",
          "a",
          "a",
          "a",
          "b",
          "a",
          "a",
          "a",
          "c",
          "a",
          "a",
          "a",
          "b",
          "b",
          "a",
          "a",
          "a",
          "b",
          "a",
          "b",
          "b",
          "a",
          "a",
          "a",
          "a",
          "a",
          "b",
          "a",
          "a",
          "a",
          "a",
          "c",
          "a",
          "a",
          "a",
          "a",
          "a",
          "a",
          "a",
          "a",
          "a",
          "a",
          "a",
          "a",
          "c",
          "a",
          "c",
          "b",
          "b",
          "b",
          "a",
          "a",
          "a",
          "a",
          "a",
          "a",
          "c",
          "a",
          "a",
          "a",
          "a",
          "a",
          "a",
          "a",
          "a",
          "b",
          "a",
          "b",
          "c",
          "a",
          "a",
          "a",
          "a",
          "a",
          "a",
          "a",
          "a",
          "a",
          "a",
          "b",
          "b",
          "a",
          "b",
          "a",
          "a",
          "b",
          "a",
          "a",
          "a",
          "a",
          "a",
          "a",
          "a",
          "a",
          "a",
          "b",
          "a",
          "b",
          "a",
          "a",
          "a",
          "a",
          "a",
          "a",
          "a",
          "a",
          "a",
          "c",
          "a",
          "b",
          "a",
          "a",
          "a",
          "a",
          "a",
          "b",
          "a",
          "a",
          "a",
          "a",
          "a",
          "a",
          "a",
          "a",
          "a",
          "a",
          "a",
          "a",
          "a",
          "a",
          "a",
          "a",
          "a",
          "a",
          "a",
          "a",
          "a",
          "a",
          "a",
          "b",
          "a",
          "b",
          "a",
          "c",
          "a",
          "a",
          "a",
          "a",
          "a",
          "b",
          "a",
          "a",
          "a",
          "b",
          "a",
          "a",
          "a",
          "a",
          "a",
          "a",
          "a",
          "a",
          "b",
          "a",
          "a",
          "a",
          "a",
          "a",
          "a",
          "a",
          "a",
          "a",
          "a",
          "a",
          "a",
          "b",
          "a",
          "a",
          "a",
          "b",
          "a",
          "a",
          "a",
          "b",
          "a",
          "b",
          "a",
          "a",
          "a",
          "a",
          "a",
          "a",
          "a",
          "a",
          "a",
          "b",
          "a",
          "a",
          "b",
          "a",
          "a",
          "b",
          "a",
          "b",
          "a",
          "a",
          "c",
          "b",
          "a",
          "a",
          "b",
          "a",
          "b",
          "a",
          "a",
          "b",
          "b",
          "b",
          "a",
          "a",
          "a"
         ],
         "legendgroup": "",
         "marker": {
          "colors": [
           "#C0C0C0",
           "#FFD700.",
           "#C0C0C0",
           "#FF2E2E",
           "#FFD700.",
           "#C0C0C0",
           "#C0C0C0",
           "#C0C0C0",
           "#FFD700.",
           "#C0C0C0",
           "#FFD700.",
           "#C0C0C0",
           "#FFD700.",
           "#C0C0C0",
           "#C0C0C0",
           "#C0C0C0",
           "#C0C0C0",
           "#C0C0C0",
           "#C0C0C0",
           "#C0C0C0",
           "#C0C0C0",
           "#FF2E2E",
           "#FFD700.",
           "#FFD700.",
           "#FFD700.",
           "#C0C0C0",
           "#C0C0C0",
           "#C0C0C0",
           "#FF2E2E",
           "#C0C0C0",
           "#C0C0C0",
           "#C0C0C0",
           "#FF2E2E",
           "#C0C0C0",
           "#FFD700.",
           "#FF2E2E",
           "#C0C0C0",
           "#C0C0C0",
           "#FFD700.",
           "#C0C0C0",
           "#C0C0C0",
           "#FFD700.",
           "#C0C0C0",
           "#FF2E2E",
           "#C0C0C0",
           "#C0C0C0",
           "#C0C0C0",
           "#C0C0C0",
           "#C0C0C0",
           "#C0C0C0",
           "#C0C0C0",
           "#C0C0C0",
           "#C0C0C0",
           "#C0C0C0",
           "#C0C0C0",
           "#C0C0C0",
           "#C0C0C0",
           "#C0C0C0",
           "#C0C0C0",
           "#C0C0C0",
           "#C0C0C0",
           "#C0C0C0",
           "#C0C0C0",
           "#FFD700.",
           "#C0C0C0",
           "#C0C0C0",
           "#C0C0C0",
           "#C0C0C0",
           "#C0C0C0",
           "#C0C0C0",
           "#FFD700.",
           "#C0C0C0",
           "#C0C0C0",
           "#C0C0C0",
           "#FF2E2E",
           "#C0C0C0",
           "#C0C0C0",
           "#C0C0C0",
           "#FFD700.",
           "#FFD700.",
           "#C0C0C0",
           "#C0C0C0",
           "#C0C0C0",
           "#FFD700.",
           "#C0C0C0",
           "#FFD700.",
           "#FFD700.",
           "#C0C0C0",
           "#C0C0C0",
           "#C0C0C0",
           "#C0C0C0",
           "#C0C0C0",
           "#FFD700.",
           "#C0C0C0",
           "#C0C0C0",
           "#C0C0C0",
           "#C0C0C0",
           "#FF2E2E",
           "#C0C0C0",
           "#C0C0C0",
           "#C0C0C0",
           "#C0C0C0",
           "#C0C0C0",
           "#C0C0C0",
           "#C0C0C0",
           "#C0C0C0",
           "#C0C0C0",
           "#C0C0C0",
           "#C0C0C0",
           "#C0C0C0",
           "#FF2E2E",
           "#C0C0C0",
           "#FF2E2E",
           "#FFD700.",
           "#FFD700.",
           "#FFD700.",
           "#C0C0C0",
           "#C0C0C0",
           "#C0C0C0",
           "#C0C0C0",
           "#C0C0C0",
           "#C0C0C0",
           "#FF2E2E",
           "#C0C0C0",
           "#C0C0C0",
           "#C0C0C0",
           "#C0C0C0",
           "#C0C0C0",
           "#C0C0C0",
           "#C0C0C0",
           "#C0C0C0",
           "#FFD700.",
           "#C0C0C0",
           "#FFD700.",
           "#FF2E2E",
           "#C0C0C0",
           "#C0C0C0",
           "#C0C0C0",
           "#C0C0C0",
           "#C0C0C0",
           "#C0C0C0",
           "#C0C0C0",
           "#C0C0C0",
           "#C0C0C0",
           "#C0C0C0",
           "#FFD700.",
           "#FFD700.",
           "#C0C0C0",
           "#FFD700.",
           "#C0C0C0",
           "#C0C0C0",
           "#FFD700.",
           "#C0C0C0",
           "#C0C0C0",
           "#C0C0C0",
           "#C0C0C0",
           "#C0C0C0",
           "#C0C0C0",
           "#C0C0C0",
           "#C0C0C0",
           "#C0C0C0",
           "#FFD700.",
           "#C0C0C0",
           "#FFD700.",
           "#C0C0C0",
           "#C0C0C0",
           "#C0C0C0",
           "#C0C0C0",
           "#C0C0C0",
           "#C0C0C0",
           "#C0C0C0",
           "#C0C0C0",
           "#C0C0C0",
           "#FF2E2E",
           "#C0C0C0",
           "#FFD700.",
           "#C0C0C0",
           "#C0C0C0",
           "#C0C0C0",
           "#C0C0C0",
           "#C0C0C0",
           "#FFD700.",
           "#C0C0C0",
           "#C0C0C0",
           "#C0C0C0",
           "#C0C0C0",
           "#C0C0C0",
           "#C0C0C0",
           "#C0C0C0",
           "#C0C0C0",
           "#C0C0C0",
           "#C0C0C0",
           "#C0C0C0",
           "#C0C0C0",
           "#C0C0C0",
           "#C0C0C0",
           "#C0C0C0",
           "#C0C0C0",
           "#C0C0C0",
           "#C0C0C0",
           "#C0C0C0",
           "#C0C0C0",
           "#C0C0C0",
           "#C0C0C0",
           "#C0C0C0",
           "#FFD700.",
           "#C0C0C0",
           "#FFD700.",
           "#C0C0C0",
           "#FF2E2E",
           "#C0C0C0",
           "#C0C0C0",
           "#C0C0C0",
           "#C0C0C0",
           "#C0C0C0",
           "#FFD700.",
           "#C0C0C0",
           "#C0C0C0",
           "#C0C0C0",
           "#FFD700.",
           "#C0C0C0",
           "#C0C0C0",
           "#C0C0C0",
           "#C0C0C0",
           "#C0C0C0",
           "#C0C0C0",
           "#C0C0C0",
           "#C0C0C0",
           "#FFD700.",
           "#C0C0C0",
           "#C0C0C0",
           "#C0C0C0",
           "#C0C0C0",
           "#C0C0C0",
           "#C0C0C0",
           "#C0C0C0",
           "#C0C0C0",
           "#C0C0C0",
           "#C0C0C0",
           "#C0C0C0",
           "#C0C0C0",
           "#FFD700.",
           "#C0C0C0",
           "#C0C0C0",
           "#C0C0C0",
           "#FFD700.",
           "#C0C0C0",
           "#C0C0C0",
           "#C0C0C0",
           "#FFD700.",
           "#C0C0C0",
           "#FFD700.",
           "#C0C0C0",
           "#C0C0C0",
           "#C0C0C0",
           "#C0C0C0",
           "#C0C0C0",
           "#C0C0C0",
           "#C0C0C0",
           "#C0C0C0",
           "#C0C0C0",
           "#FFD700.",
           "#C0C0C0",
           "#C0C0C0",
           "#FFD700.",
           "#C0C0C0",
           "#C0C0C0",
           "#FFD700.",
           "#C0C0C0",
           "#FFD700.",
           "#C0C0C0",
           "#C0C0C0",
           "#FF2E2E",
           "#FFD700.",
           "#C0C0C0",
           "#C0C0C0",
           "#FFD700.",
           "#C0C0C0",
           "#FFD700.",
           "#C0C0C0",
           "#C0C0C0",
           "#FFD700.",
           "#FFD700.",
           "#FFD700.",
           "#C0C0C0",
           "#C0C0C0",
           "#C0C0C0"
          ]
         },
         "name": "",
         "showlegend": true,
         "textfont": {
          "size": 20
         },
         "textinfo": "percent",
         "title": {
          "font": {
           "color": "darkred",
           "family": "Verdana",
           "size": 25
          }
         },
         "type": "pie"
        }
       ],
       "layout": {
        "legend": {
         "tracegroupgap": 0
        },
        "template": {
         "data": {
          "bar": [
           {
            "error_x": {
             "color": "#2a3f5f"
            },
            "error_y": {
             "color": "#2a3f5f"
            },
            "marker": {
             "line": {
              "color": "#E5ECF6",
              "width": 0.5
             },
             "pattern": {
              "fillmode": "overlay",
              "size": 10,
              "solidity": 0.2
             }
            },
            "type": "bar"
           }
          ],
          "barpolar": [
           {
            "marker": {
             "line": {
              "color": "#E5ECF6",
              "width": 0.5
             },
             "pattern": {
              "fillmode": "overlay",
              "size": 10,
              "solidity": 0.2
             }
            },
            "type": "barpolar"
           }
          ],
          "carpet": [
           {
            "aaxis": {
             "endlinecolor": "#2a3f5f",
             "gridcolor": "white",
             "linecolor": "white",
             "minorgridcolor": "white",
             "startlinecolor": "#2a3f5f"
            },
            "baxis": {
             "endlinecolor": "#2a3f5f",
             "gridcolor": "white",
             "linecolor": "white",
             "minorgridcolor": "white",
             "startlinecolor": "#2a3f5f"
            },
            "type": "carpet"
           }
          ],
          "choropleth": [
           {
            "colorbar": {
             "outlinewidth": 0,
             "ticks": ""
            },
            "type": "choropleth"
           }
          ],
          "contour": [
           {
            "colorbar": {
             "outlinewidth": 0,
             "ticks": ""
            },
            "colorscale": [
             [
              0,
              "#0d0887"
             ],
             [
              0.1111111111111111,
              "#46039f"
             ],
             [
              0.2222222222222222,
              "#7201a8"
             ],
             [
              0.3333333333333333,
              "#9c179e"
             ],
             [
              0.4444444444444444,
              "#bd3786"
             ],
             [
              0.5555555555555556,
              "#d8576b"
             ],
             [
              0.6666666666666666,
              "#ed7953"
             ],
             [
              0.7777777777777778,
              "#fb9f3a"
             ],
             [
              0.8888888888888888,
              "#fdca26"
             ],
             [
              1,
              "#f0f921"
             ]
            ],
            "type": "contour"
           }
          ],
          "contourcarpet": [
           {
            "colorbar": {
             "outlinewidth": 0,
             "ticks": ""
            },
            "type": "contourcarpet"
           }
          ],
          "heatmap": [
           {
            "colorbar": {
             "outlinewidth": 0,
             "ticks": ""
            },
            "colorscale": [
             [
              0,
              "#0d0887"
             ],
             [
              0.1111111111111111,
              "#46039f"
             ],
             [
              0.2222222222222222,
              "#7201a8"
             ],
             [
              0.3333333333333333,
              "#9c179e"
             ],
             [
              0.4444444444444444,
              "#bd3786"
             ],
             [
              0.5555555555555556,
              "#d8576b"
             ],
             [
              0.6666666666666666,
              "#ed7953"
             ],
             [
              0.7777777777777778,
              "#fb9f3a"
             ],
             [
              0.8888888888888888,
              "#fdca26"
             ],
             [
              1,
              "#f0f921"
             ]
            ],
            "type": "heatmap"
           }
          ],
          "heatmapgl": [
           {
            "colorbar": {
             "outlinewidth": 0,
             "ticks": ""
            },
            "colorscale": [
             [
              0,
              "#0d0887"
             ],
             [
              0.1111111111111111,
              "#46039f"
             ],
             [
              0.2222222222222222,
              "#7201a8"
             ],
             [
              0.3333333333333333,
              "#9c179e"
             ],
             [
              0.4444444444444444,
              "#bd3786"
             ],
             [
              0.5555555555555556,
              "#d8576b"
             ],
             [
              0.6666666666666666,
              "#ed7953"
             ],
             [
              0.7777777777777778,
              "#fb9f3a"
             ],
             [
              0.8888888888888888,
              "#fdca26"
             ],
             [
              1,
              "#f0f921"
             ]
            ],
            "type": "heatmapgl"
           }
          ],
          "histogram": [
           {
            "marker": {
             "pattern": {
              "fillmode": "overlay",
              "size": 10,
              "solidity": 0.2
             }
            },
            "type": "histogram"
           }
          ],
          "histogram2d": [
           {
            "colorbar": {
             "outlinewidth": 0,
             "ticks": ""
            },
            "colorscale": [
             [
              0,
              "#0d0887"
             ],
             [
              0.1111111111111111,
              "#46039f"
             ],
             [
              0.2222222222222222,
              "#7201a8"
             ],
             [
              0.3333333333333333,
              "#9c179e"
             ],
             [
              0.4444444444444444,
              "#bd3786"
             ],
             [
              0.5555555555555556,
              "#d8576b"
             ],
             [
              0.6666666666666666,
              "#ed7953"
             ],
             [
              0.7777777777777778,
              "#fb9f3a"
             ],
             [
              0.8888888888888888,
              "#fdca26"
             ],
             [
              1,
              "#f0f921"
             ]
            ],
            "type": "histogram2d"
           }
          ],
          "histogram2dcontour": [
           {
            "colorbar": {
             "outlinewidth": 0,
             "ticks": ""
            },
            "colorscale": [
             [
              0,
              "#0d0887"
             ],
             [
              0.1111111111111111,
              "#46039f"
             ],
             [
              0.2222222222222222,
              "#7201a8"
             ],
             [
              0.3333333333333333,
              "#9c179e"
             ],
             [
              0.4444444444444444,
              "#bd3786"
             ],
             [
              0.5555555555555556,
              "#d8576b"
             ],
             [
              0.6666666666666666,
              "#ed7953"
             ],
             [
              0.7777777777777778,
              "#fb9f3a"
             ],
             [
              0.8888888888888888,
              "#fdca26"
             ],
             [
              1,
              "#f0f921"
             ]
            ],
            "type": "histogram2dcontour"
           }
          ],
          "mesh3d": [
           {
            "colorbar": {
             "outlinewidth": 0,
             "ticks": ""
            },
            "type": "mesh3d"
           }
          ],
          "parcoords": [
           {
            "line": {
             "colorbar": {
              "outlinewidth": 0,
              "ticks": ""
             }
            },
            "type": "parcoords"
           }
          ],
          "pie": [
           {
            "automargin": true,
            "type": "pie"
           }
          ],
          "scatter": [
           {
            "fillpattern": {
             "fillmode": "overlay",
             "size": 10,
             "solidity": 0.2
            },
            "type": "scatter"
           }
          ],
          "scatter3d": [
           {
            "line": {
             "colorbar": {
              "outlinewidth": 0,
              "ticks": ""
             }
            },
            "marker": {
             "colorbar": {
              "outlinewidth": 0,
              "ticks": ""
             }
            },
            "type": "scatter3d"
           }
          ],
          "scattercarpet": [
           {
            "marker": {
             "colorbar": {
              "outlinewidth": 0,
              "ticks": ""
             }
            },
            "type": "scattercarpet"
           }
          ],
          "scattergeo": [
           {
            "marker": {
             "colorbar": {
              "outlinewidth": 0,
              "ticks": ""
             }
            },
            "type": "scattergeo"
           }
          ],
          "scattergl": [
           {
            "marker": {
             "colorbar": {
              "outlinewidth": 0,
              "ticks": ""
             }
            },
            "type": "scattergl"
           }
          ],
          "scattermapbox": [
           {
            "marker": {
             "colorbar": {
              "outlinewidth": 0,
              "ticks": ""
             }
            },
            "type": "scattermapbox"
           }
          ],
          "scatterpolar": [
           {
            "marker": {
             "colorbar": {
              "outlinewidth": 0,
              "ticks": ""
             }
            },
            "type": "scatterpolar"
           }
          ],
          "scatterpolargl": [
           {
            "marker": {
             "colorbar": {
              "outlinewidth": 0,
              "ticks": ""
             }
            },
            "type": "scatterpolargl"
           }
          ],
          "scatterternary": [
           {
            "marker": {
             "colorbar": {
              "outlinewidth": 0,
              "ticks": ""
             }
            },
            "type": "scatterternary"
           }
          ],
          "surface": [
           {
            "colorbar": {
             "outlinewidth": 0,
             "ticks": ""
            },
            "colorscale": [
             [
              0,
              "#0d0887"
             ],
             [
              0.1111111111111111,
              "#46039f"
             ],
             [
              0.2222222222222222,
              "#7201a8"
             ],
             [
              0.3333333333333333,
              "#9c179e"
             ],
             [
              0.4444444444444444,
              "#bd3786"
             ],
             [
              0.5555555555555556,
              "#d8576b"
             ],
             [
              0.6666666666666666,
              "#ed7953"
             ],
             [
              0.7777777777777778,
              "#fb9f3a"
             ],
             [
              0.8888888888888888,
              "#fdca26"
             ],
             [
              1,
              "#f0f921"
             ]
            ],
            "type": "surface"
           }
          ],
          "table": [
           {
            "cells": {
             "fill": {
              "color": "#EBF0F8"
             },
             "line": {
              "color": "white"
             }
            },
            "header": {
             "fill": {
              "color": "#C8D4E3"
             },
             "line": {
              "color": "white"
             }
            },
            "type": "table"
           }
          ]
         },
         "layout": {
          "annotationdefaults": {
           "arrowcolor": "#2a3f5f",
           "arrowhead": 0,
           "arrowwidth": 1
          },
          "autotypenumbers": "strict",
          "coloraxis": {
           "colorbar": {
            "outlinewidth": 0,
            "ticks": ""
           }
          },
          "colorscale": {
           "diverging": [
            [
             0,
             "#8e0152"
            ],
            [
             0.1,
             "#c51b7d"
            ],
            [
             0.2,
             "#de77ae"
            ],
            [
             0.3,
             "#f1b6da"
            ],
            [
             0.4,
             "#fde0ef"
            ],
            [
             0.5,
             "#f7f7f7"
            ],
            [
             0.6,
             "#e6f5d0"
            ],
            [
             0.7,
             "#b8e186"
            ],
            [
             0.8,
             "#7fbc41"
            ],
            [
             0.9,
             "#4d9221"
            ],
            [
             1,
             "#276419"
            ]
           ],
           "sequential": [
            [
             0,
             "#0d0887"
            ],
            [
             0.1111111111111111,
             "#46039f"
            ],
            [
             0.2222222222222222,
             "#7201a8"
            ],
            [
             0.3333333333333333,
             "#9c179e"
            ],
            [
             0.4444444444444444,
             "#bd3786"
            ],
            [
             0.5555555555555556,
             "#d8576b"
            ],
            [
             0.6666666666666666,
             "#ed7953"
            ],
            [
             0.7777777777777778,
             "#fb9f3a"
            ],
            [
             0.8888888888888888,
             "#fdca26"
            ],
            [
             1,
             "#f0f921"
            ]
           ],
           "sequentialminus": [
            [
             0,
             "#0d0887"
            ],
            [
             0.1111111111111111,
             "#46039f"
            ],
            [
             0.2222222222222222,
             "#7201a8"
            ],
            [
             0.3333333333333333,
             "#9c179e"
            ],
            [
             0.4444444444444444,
             "#bd3786"
            ],
            [
             0.5555555555555556,
             "#d8576b"
            ],
            [
             0.6666666666666666,
             "#ed7953"
            ],
            [
             0.7777777777777778,
             "#fb9f3a"
            ],
            [
             0.8888888888888888,
             "#fdca26"
            ],
            [
             1,
             "#f0f921"
            ]
           ]
          },
          "colorway": [
           "#636efa",
           "#EF553B",
           "#00cc96",
           "#ab63fa",
           "#FFA15A",
           "#19d3f3",
           "#FF6692",
           "#B6E880",
           "#FF97FF",
           "#FECB52"
          ],
          "font": {
           "color": "#2a3f5f"
          },
          "geo": {
           "bgcolor": "white",
           "lakecolor": "white",
           "landcolor": "#E5ECF6",
           "showlakes": true,
           "showland": true,
           "subunitcolor": "white"
          },
          "hoverlabel": {
           "align": "left"
          },
          "hovermode": "closest",
          "mapbox": {
           "style": "light"
          },
          "paper_bgcolor": "white",
          "plot_bgcolor": "#E5ECF6",
          "polar": {
           "angularaxis": {
            "gridcolor": "white",
            "linecolor": "white",
            "ticks": ""
           },
           "bgcolor": "#E5ECF6",
           "radialaxis": {
            "gridcolor": "white",
            "linecolor": "white",
            "ticks": ""
           }
          },
          "scene": {
           "xaxis": {
            "backgroundcolor": "#E5ECF6",
            "gridcolor": "white",
            "gridwidth": 2,
            "linecolor": "white",
            "showbackground": true,
            "ticks": "",
            "zerolinecolor": "white"
           },
           "yaxis": {
            "backgroundcolor": "#E5ECF6",
            "gridcolor": "white",
            "gridwidth": 2,
            "linecolor": "white",
            "showbackground": true,
            "ticks": "",
            "zerolinecolor": "white"
           },
           "zaxis": {
            "backgroundcolor": "#E5ECF6",
            "gridcolor": "white",
            "gridwidth": 2,
            "linecolor": "white",
            "showbackground": true,
            "ticks": "",
            "zerolinecolor": "white"
           }
          },
          "shapedefaults": {
           "line": {
            "color": "#2a3f5f"
           }
          },
          "ternary": {
           "aaxis": {
            "gridcolor": "white",
            "linecolor": "white",
            "ticks": ""
           },
           "baxis": {
            "gridcolor": "white",
            "linecolor": "white",
            "ticks": ""
           },
           "bgcolor": "#E5ECF6",
           "caxis": {
            "gridcolor": "white",
            "linecolor": "white",
            "ticks": ""
           }
          },
          "title": {
           "x": 0.05
          },
          "xaxis": {
           "automargin": true,
           "gridcolor": "white",
           "linecolor": "white",
           "ticks": "",
           "title": {
            "standoff": 15
           },
           "zerolinecolor": "white",
           "zerolinewidth": 2
          },
          "yaxis": {
           "automargin": true,
           "gridcolor": "white",
           "linecolor": "white",
           "ticks": "",
           "title": {
            "standoff": 15
           },
           "zerolinecolor": "white",
           "zerolinewidth": 2
          }
         }
        },
        "title": {
         "text": "Students Conduct"
        }
       }
      }
     },
     "metadata": {},
     "output_type": "display_data"
    }
   ],
   "source": [
    "fig4 = px.pie(df.conduct, hole = 0.4,\n",
    "              names = df.conduct, color = df.conduct,\n",
    "              title = 'Students Conduct',\n",
    "              color_discrete_map = {'a':'#C0C0C0', \n",
    "                                    'b': '#FFD700.', \n",
    "                                    'c': '#FF2E2E'           \n",
    "             })\n",
    "fig4.update_traces(title_font = dict(size=25,family='Verdana', \n",
    "                   color='darkred'),\n",
    "                   hoverinfo='label',\n",
    "                   textinfo='percent', textfont_size=20)\n",
    "fig4.show()"
   ]
  },
  {
   "attachments": {},
   "cell_type": "markdown",
   "metadata": {},
   "source": [
    "## Bivariate Analysis"
   ]
  },
  {
   "cell_type": "code",
   "execution_count": null,
   "metadata": {},
   "outputs": [],
   "source": [
    "def conval(x):\n",
    "    if x == 'a':\n",
    "        return 3\n",
    "    elif x == 'b':\n",
    "        return 2\n",
    "    else:\n",
    "        return 1 \n",
    "    \n",
    "df['convalue'] = df.conduct.apply(conval)"
   ]
  },
  {
   "cell_type": "code",
   "execution_count": null,
   "metadata": {},
   "outputs": [
    {
     "data": {
      "text/html": [
       "<div>\n",
       "<style scoped>\n",
       "    .dataframe tbody tr th:only-of-type {\n",
       "        vertical-align: middle;\n",
       "    }\n",
       "\n",
       "    .dataframe tbody tr th {\n",
       "        vertical-align: top;\n",
       "    }\n",
       "\n",
       "    .dataframe thead th {\n",
       "        text-align: right;\n",
       "    }\n",
       "</style>\n",
       "<table border=\"1\" class=\"dataframe\">\n",
       "  <thead>\n",
       "    <tr style=\"text-align: right;\">\n",
       "      <th></th>\n",
       "      <th>convalue</th>\n",
       "    </tr>\n",
       "    <tr>\n",
       "      <th>grade</th>\n",
       "      <th></th>\n",
       "    </tr>\n",
       "  </thead>\n",
       "  <tbody>\n",
       "    <tr>\n",
       "      <th>5</th>\n",
       "      <td>2.590909</td>\n",
       "    </tr>\n",
       "    <tr>\n",
       "      <th>6</th>\n",
       "      <td>2.461538</td>\n",
       "    </tr>\n",
       "    <tr>\n",
       "      <th>7</th>\n",
       "      <td>2.810811</td>\n",
       "    </tr>\n",
       "    <tr>\n",
       "      <th>8</th>\n",
       "      <td>2.633333</td>\n",
       "    </tr>\n",
       "    <tr>\n",
       "      <th>9</th>\n",
       "      <td>2.771930</td>\n",
       "    </tr>\n",
       "    <tr>\n",
       "      <th>10</th>\n",
       "      <td>2.795455</td>\n",
       "    </tr>\n",
       "    <tr>\n",
       "      <th>11</th>\n",
       "      <td>2.870968</td>\n",
       "    </tr>\n",
       "    <tr>\n",
       "      <th>12</th>\n",
       "      <td>2.650000</td>\n",
       "    </tr>\n",
       "  </tbody>\n",
       "</table>\n",
       "</div>"
      ],
      "text/plain": [
       "       convalue\n",
       "grade          \n",
       "5      2.590909\n",
       "6      2.461538\n",
       "7      2.810811\n",
       "8      2.633333\n",
       "9      2.771930\n",
       "10     2.795455\n",
       "11     2.870968\n",
       "12     2.650000"
      ]
     },
     "execution_count": 61,
     "metadata": {},
     "output_type": "execute_result"
    }
   ],
   "source": [
    "df.groupby('grade')[['convalue']].mean()"
   ]
  },
  {
   "cell_type": "code",
   "execution_count": null,
   "metadata": {},
   "outputs": [
    {
     "data": {
      "text/plain": [
       "<AxesSubplot:xlabel='grade', ylabel='gpa'>"
      ]
     },
     "execution_count": 62,
     "metadata": {},
     "output_type": "execute_result"
    },
    {
     "data": {
      "image/png": "[encoded data removed]",
      "text/plain": [
       "<Figure size 500x380 with 1 Axes>"
      ]
     },
     "metadata": {},
     "output_type": "display_data"
    }
   ],
   "source": [
    "sns.set(rc={'figure.figsize':(5.0,3.8)})\n",
    "sns.set_palette(\"BuGn\")\n",
    "sns.scatterplot(df.grade, df.gpa, hue=df.conduct)"
   ]
  },
  {
   "attachments": {},
   "cell_type": "markdown",
   "metadata": {},
   "source": [
    "#age perfomance gurmrsena analysis, groupy by and mean performance. do grades mewazsek. idea for bivariate."
   ]
  },
  {
   "cell_type": "code",
   "execution_count": null,
   "metadata": {},
   "outputs": [],
   "source": []
  }
 ],
 "metadata": {
  "kernelspec": {
   "display_name": "base",
   "language": "python",
   "name": "python3"
  },
  "language_info": {
   "codemirror_mode": {
    "name": "ipython",
    "version": 3
   },
   "file_extension": ".py",
   "mimetype": "text/x-python",
   "name": "python",
   "nbconvert_exporter": "python",
   "pygments_lexer": "ipython3",
   "version": "3.9.13"
  },
  "orig_nbformat": 4
 },
 "nbformat": 4,
 "nbformat_minor": 2
}
