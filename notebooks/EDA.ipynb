{
 "cells": [
  {
   "attachments": {},
   "cell_type": "markdown",
   "metadata": {},
   "source": [
    "# EDA"
   ]
  },
  {
   "attachments": {},
   "cell_type": "markdown",
   "metadata": {},
   "source": [
    "## Loading Libraries"
   ]
  },
  {
   "cell_type": "code",
   "execution_count": 1,
   "metadata": {},
   "outputs": [],
   "source": [
    "import pandas as pd\n",
    "import numpy as np\n",
    "import seaborn as sns\n",
    "import plotly.express as px\n",
    "import matplotlib.pyplot as plt\n",
    "import warnings\n",
    "warnings.filterwarnings('ignore')\n",
    "pd.set_option('display.max_columns', 70)"
   ]
  },
  {
   "cell_type": "code",
   "execution_count": 2,
   "metadata": {},
   "outputs": [
    {
     "data": {
      "text/html": [
       "<div>\n",
       "<style scoped>\n",
       "    .dataframe tbody tr th:only-of-type {\n",
       "        vertical-align: middle;\n",
       "    }\n",
       "\n",
       "    .dataframe tbody tr th {\n",
       "        vertical-align: top;\n",
       "    }\n",
       "\n",
       "    .dataframe thead th {\n",
       "        text-align: right;\n",
       "    }\n",
       "</style>\n",
       "<table border=\"1\" class=\"dataframe\">\n",
       "  <thead>\n",
       "    <tr style=\"text-align: right;\">\n",
       "      <th></th>\n",
       "      <th>conduct</th>\n",
       "      <th>age</th>\n",
       "      <th>gender</th>\n",
       "      <th>nationality</th>\n",
       "      <th>pob</th>\n",
       "      <th>tutor/makeup</th>\n",
       "      <th>grade</th>\n",
       "      <th>admission</th>\n",
       "      <th>guardian</th>\n",
       "      <th>time_with_parents</th>\n",
       "      <th>communication_with_parents</th>\n",
       "      <th>reward_for_achievements</th>\n",
       "      <th>parent_understanding</th>\n",
       "      <th>transport_type</th>\n",
       "      <th>residence</th>\n",
       "      <th>travel time</th>\n",
       "      <th>birth_order</th>\n",
       "      <th>exercice</th>\n",
       "      <th>previous_school</th>\n",
       "      <th>mother_tongue</th>\n",
       "      <th>curriculum</th>\n",
       "      <th>sleeping time_in_pm</th>\n",
       "      <th>parenting_style</th>\n",
       "      <th>trauma</th>\n",
       "      <th>type</th>\n",
       "      <th>quality</th>\n",
       "      <th>english</th>\n",
       "      <th>amharic</th>\n",
       "      <th>arabic</th>\n",
       "      <th>geez</th>\n",
       "      <th>ict</th>\n",
       "      <th>maths</th>\n",
       "      <th>ss</th>\n",
       "      <th>gp</th>\n",
       "      <th>is</th>\n",
       "      <th>moral</th>\n",
       "      <th>hpe</th>\n",
       "      <th>art</th>\n",
       "      <th>chemistry</th>\n",
       "      <th>physics</th>\n",
       "      <th>gpa</th>\n",
       "      <th>literature</th>\n",
       "      <th>biology</th>\n",
       "      <th>geography</th>\n",
       "      <th>history</th>\n",
       "      <th>civics</th>\n",
       "      <th>ent-ship</th>\n",
       "      <th>matrik</th>\n",
       "      <th>level</th>\n",
       "    </tr>\n",
       "  </thead>\n",
       "  <tbody>\n",
       "    <tr>\n",
       "      <th>0</th>\n",
       "      <td>a</td>\n",
       "      <td>10.0</td>\n",
       "      <td>f</td>\n",
       "      <td>ethiopian</td>\n",
       "      <td>ethiopia</td>\n",
       "      <td>yes</td>\n",
       "      <td>5</td>\n",
       "      <td>paid</td>\n",
       "      <td>both</td>\n",
       "      <td>a lot</td>\n",
       "      <td>strongly agree</td>\n",
       "      <td>strongly agree</td>\n",
       "      <td>agree</td>\n",
       "      <td>private</td>\n",
       "      <td>ayertena</td>\n",
       "      <td>15-30</td>\n",
       "      <td>middle child</td>\n",
       "      <td>2</td>\n",
       "      <td>diamond</td>\n",
       "      <td>eth-lang</td>\n",
       "      <td>yes</td>\n",
       "      <td>8.0</td>\n",
       "      <td>authoritative</td>\n",
       "      <td>0</td>\n",
       "      <td>none</td>\n",
       "      <td>4.25</td>\n",
       "      <td>94.86</td>\n",
       "      <td>94.58</td>\n",
       "      <td>88.45</td>\n",
       "      <td>84.41</td>\n",
       "      <td>88.52</td>\n",
       "      <td>76.38</td>\n",
       "      <td>85.93</td>\n",
       "      <td>95.00</td>\n",
       "      <td>82.01</td>\n",
       "      <td>98.28</td>\n",
       "      <td>95.48</td>\n",
       "      <td>89.00</td>\n",
       "      <td>NaN</td>\n",
       "      <td>NaN</td>\n",
       "      <td>89.4</td>\n",
       "      <td>NaN</td>\n",
       "      <td>NaN</td>\n",
       "      <td>NaN</td>\n",
       "      <td>NaN</td>\n",
       "      <td>NaN</td>\n",
       "      <td>NaN</td>\n",
       "      <td>NaN</td>\n",
       "      <td>middleschool</td>\n",
       "    </tr>\n",
       "    <tr>\n",
       "      <th>1</th>\n",
       "      <td>b</td>\n",
       "      <td>12.0</td>\n",
       "      <td>m</td>\n",
       "      <td>ethiopian</td>\n",
       "      <td>ethiopia</td>\n",
       "      <td>no</td>\n",
       "      <td>5</td>\n",
       "      <td>scholarship</td>\n",
       "      <td>both</td>\n",
       "      <td>little</td>\n",
       "      <td>strongly agree</td>\n",
       "      <td>strongly agree</td>\n",
       "      <td>agree</td>\n",
       "      <td>public</td>\n",
       "      <td>haile garment</td>\n",
       "      <td>15-30</td>\n",
       "      <td>first child</td>\n",
       "      <td>0</td>\n",
       "      <td>southwest</td>\n",
       "      <td>eth-lang</td>\n",
       "      <td>yes</td>\n",
       "      <td>10.0</td>\n",
       "      <td>authoritative</td>\n",
       "      <td>0</td>\n",
       "      <td>none</td>\n",
       "      <td>4.00</td>\n",
       "      <td>74.12</td>\n",
       "      <td>77.39</td>\n",
       "      <td>81.86</td>\n",
       "      <td>80.98</td>\n",
       "      <td>76.90</td>\n",
       "      <td>74.92</td>\n",
       "      <td>70.32</td>\n",
       "      <td>94.75</td>\n",
       "      <td>74.16</td>\n",
       "      <td>89.84</td>\n",
       "      <td>96.15</td>\n",
       "      <td>91.75</td>\n",
       "      <td>NaN</td>\n",
       "      <td>NaN</td>\n",
       "      <td>81.9</td>\n",
       "      <td>NaN</td>\n",
       "      <td>NaN</td>\n",
       "      <td>NaN</td>\n",
       "      <td>NaN</td>\n",
       "      <td>NaN</td>\n",
       "      <td>NaN</td>\n",
       "      <td>NaN</td>\n",
       "      <td>middleschool</td>\n",
       "    </tr>\n",
       "    <tr>\n",
       "      <th>2</th>\n",
       "      <td>a</td>\n",
       "      <td>10.0</td>\n",
       "      <td>m</td>\n",
       "      <td>ethiopian</td>\n",
       "      <td>ethiopia</td>\n",
       "      <td>yes</td>\n",
       "      <td>5</td>\n",
       "      <td>paid</td>\n",
       "      <td>both</td>\n",
       "      <td>a lot</td>\n",
       "      <td>agree</td>\n",
       "      <td>strongly agree</td>\n",
       "      <td>strongly agree</td>\n",
       "      <td>private</td>\n",
       "      <td>sarbet</td>\n",
       "      <td>15-</td>\n",
       "      <td>last child</td>\n",
       "      <td>3</td>\n",
       "      <td>greek school</td>\n",
       "      <td>eth-lang</td>\n",
       "      <td>yes</td>\n",
       "      <td>9.0</td>\n",
       "      <td>authoritative</td>\n",
       "      <td>1</td>\n",
       "      <td>physical</td>\n",
       "      <td>4.25</td>\n",
       "      <td>80.12</td>\n",
       "      <td>86.58</td>\n",
       "      <td>95.04</td>\n",
       "      <td>74.69</td>\n",
       "      <td>95.52</td>\n",
       "      <td>84.33</td>\n",
       "      <td>81.42</td>\n",
       "      <td>93.75</td>\n",
       "      <td>85.45</td>\n",
       "      <td>91.61</td>\n",
       "      <td>94.39</td>\n",
       "      <td>91.75</td>\n",
       "      <td>NaN</td>\n",
       "      <td>NaN</td>\n",
       "      <td>87.9</td>\n",
       "      <td>NaN</td>\n",
       "      <td>NaN</td>\n",
       "      <td>NaN</td>\n",
       "      <td>NaN</td>\n",
       "      <td>NaN</td>\n",
       "      <td>NaN</td>\n",
       "      <td>NaN</td>\n",
       "      <td>middleschool</td>\n",
       "    </tr>\n",
       "    <tr>\n",
       "      <th>3</th>\n",
       "      <td>c</td>\n",
       "      <td>11.0</td>\n",
       "      <td>m</td>\n",
       "      <td>ethiopian</td>\n",
       "      <td>ethiopia</td>\n",
       "      <td>no</td>\n",
       "      <td>5</td>\n",
       "      <td>paid</td>\n",
       "      <td>both</td>\n",
       "      <td>a lot</td>\n",
       "      <td>strongly agree</td>\n",
       "      <td>strongly agree</td>\n",
       "      <td>strongly agree</td>\n",
       "      <td>private</td>\n",
       "      <td>gulele</td>\n",
       "      <td>15-30</td>\n",
       "      <td>last child</td>\n",
       "      <td>2</td>\n",
       "      <td>gibson</td>\n",
       "      <td>eth-lang</td>\n",
       "      <td>no</td>\n",
       "      <td>8.0</td>\n",
       "      <td>authoritative</td>\n",
       "      <td>0</td>\n",
       "      <td>none</td>\n",
       "      <td>4.50</td>\n",
       "      <td>82.67</td>\n",
       "      <td>91.68</td>\n",
       "      <td>89.64</td>\n",
       "      <td>86.70</td>\n",
       "      <td>87.81</td>\n",
       "      <td>90.63</td>\n",
       "      <td>81.14</td>\n",
       "      <td>82.50</td>\n",
       "      <td>80.86</td>\n",
       "      <td>81.91</td>\n",
       "      <td>93.89</td>\n",
       "      <td>81.00</td>\n",
       "      <td>NaN</td>\n",
       "      <td>NaN</td>\n",
       "      <td>85.9</td>\n",
       "      <td>NaN</td>\n",
       "      <td>NaN</td>\n",
       "      <td>NaN</td>\n",
       "      <td>NaN</td>\n",
       "      <td>NaN</td>\n",
       "      <td>NaN</td>\n",
       "      <td>NaN</td>\n",
       "      <td>middleschool</td>\n",
       "    </tr>\n",
       "    <tr>\n",
       "      <th>4</th>\n",
       "      <td>b</td>\n",
       "      <td>11.0</td>\n",
       "      <td>f</td>\n",
       "      <td>ethiopian</td>\n",
       "      <td>foriegn_soil</td>\n",
       "      <td>no</td>\n",
       "      <td>5</td>\n",
       "      <td>paid</td>\n",
       "      <td>mother</td>\n",
       "      <td>a lot</td>\n",
       "      <td>strongly agree</td>\n",
       "      <td>strongly agree</td>\n",
       "      <td>somehow agree</td>\n",
       "      <td>private</td>\n",
       "      <td>meskel flower</td>\n",
       "      <td>15-30</td>\n",
       "      <td>middle child</td>\n",
       "      <td>2</td>\n",
       "      <td>school of nations</td>\n",
       "      <td>for-lang</td>\n",
       "      <td>yes</td>\n",
       "      <td>11.5</td>\n",
       "      <td>authoritative</td>\n",
       "      <td>0</td>\n",
       "      <td>none</td>\n",
       "      <td>4.00</td>\n",
       "      <td>96.31</td>\n",
       "      <td>96.99</td>\n",
       "      <td>97.60</td>\n",
       "      <td>92.09</td>\n",
       "      <td>98.62</td>\n",
       "      <td>96.00</td>\n",
       "      <td>89.07</td>\n",
       "      <td>99.75</td>\n",
       "      <td>94.73</td>\n",
       "      <td>98.77</td>\n",
       "      <td>88.69</td>\n",
       "      <td>97.75</td>\n",
       "      <td>NaN</td>\n",
       "      <td>NaN</td>\n",
       "      <td>95.5</td>\n",
       "      <td>NaN</td>\n",
       "      <td>NaN</td>\n",
       "      <td>NaN</td>\n",
       "      <td>NaN</td>\n",
       "      <td>NaN</td>\n",
       "      <td>NaN</td>\n",
       "      <td>NaN</td>\n",
       "      <td>middleschool</td>\n",
       "    </tr>\n",
       "  </tbody>\n",
       "</table>\n",
       "</div>"
      ],
      "text/plain": [
       "  conduct   age gender nationality           pob tutor/makeup  grade  \\\n",
       "0       a  10.0      f   ethiopian      ethiopia          yes      5   \n",
       "1       b  12.0      m   ethiopian      ethiopia           no      5   \n",
       "2       a  10.0      m   ethiopian      ethiopia          yes      5   \n",
       "3       c  11.0      m   ethiopian      ethiopia           no      5   \n",
       "4       b  11.0      f   ethiopian  foriegn_soil           no      5   \n",
       "\n",
       "     admission guardian time_with_parents communication_with_parents  \\\n",
       "0         paid     both             a lot             strongly agree   \n",
       "1  scholarship     both            little             strongly agree   \n",
       "2         paid     both             a lot                      agree   \n",
       "3         paid     both             a lot             strongly agree   \n",
       "4         paid   mother             a lot             strongly agree   \n",
       "\n",
       "  reward_for_achievements parent_understanding transport_type      residence  \\\n",
       "0          strongly agree                agree        private       ayertena   \n",
       "1          strongly agree                agree         public  haile garment   \n",
       "2          strongly agree       strongly agree        private         sarbet   \n",
       "3          strongly agree       strongly agree        private         gulele   \n",
       "4          strongly agree        somehow agree        private  meskel flower   \n",
       "\n",
       "  travel time   birth_order  exercice    previous_school mother_tongue  \\\n",
       "0       15-30  middle child         2            diamond      eth-lang   \n",
       "1       15-30   first child         0          southwest      eth-lang   \n",
       "2         15-    last child         3       greek school      eth-lang   \n",
       "3       15-30    last child         2             gibson      eth-lang   \n",
       "4       15-30  middle child         2  school of nations      for-lang   \n",
       "\n",
       "  curriculum  sleeping time_in_pm parenting_style  trauma      type  quality  \\\n",
       "0        yes                  8.0   authoritative       0      none     4.25   \n",
       "1        yes                 10.0   authoritative       0      none     4.00   \n",
       "2        yes                  9.0   authoritative       1  physical     4.25   \n",
       "3         no                  8.0   authoritative       0      none     4.50   \n",
       "4        yes                 11.5   authoritative       0      none     4.00   \n",
       "\n",
       "   english  amharic  arabic   geez    ict  maths     ss     gp     is  moral  \\\n",
       "0    94.86    94.58   88.45  84.41  88.52  76.38  85.93  95.00  82.01  98.28   \n",
       "1    74.12    77.39   81.86  80.98  76.90  74.92  70.32  94.75  74.16  89.84   \n",
       "2    80.12    86.58   95.04  74.69  95.52  84.33  81.42  93.75  85.45  91.61   \n",
       "3    82.67    91.68   89.64  86.70  87.81  90.63  81.14  82.50  80.86  81.91   \n",
       "4    96.31    96.99   97.60  92.09  98.62  96.00  89.07  99.75  94.73  98.77   \n",
       "\n",
       "     hpe    art  chemistry  physics   gpa  literature  biology  geography  \\\n",
       "0  95.48  89.00        NaN      NaN  89.4         NaN      NaN        NaN   \n",
       "1  96.15  91.75        NaN      NaN  81.9         NaN      NaN        NaN   \n",
       "2  94.39  91.75        NaN      NaN  87.9         NaN      NaN        NaN   \n",
       "3  93.89  81.00        NaN      NaN  85.9         NaN      NaN        NaN   \n",
       "4  88.69  97.75        NaN      NaN  95.5         NaN      NaN        NaN   \n",
       "\n",
       "   history  civics  ent-ship  matrik         level  \n",
       "0      NaN     NaN       NaN     NaN  middleschool  \n",
       "1      NaN     NaN       NaN     NaN  middleschool  \n",
       "2      NaN     NaN       NaN     NaN  middleschool  \n",
       "3      NaN     NaN       NaN     NaN  middleschool  \n",
       "4      NaN     NaN       NaN     NaN  middleschool  "
      ]
     },
     "execution_count": 2,
     "metadata": {},
     "output_type": "execute_result"
    }
   ],
   "source": [
    "df = pd.read_csv(r\"../data/hsmsx.csv\")\n",
    "df.head()"
   ]
  },
  {
   "attachments": {},
   "cell_type": "markdown",
   "metadata": {},
   "source": [
    "## Univariate Analysis"
   ]
  },
  {
   "cell_type": "code",
   "execution_count": 3,
   "metadata": {},
   "outputs": [
    {
     "data": {
      "image/png": "[encoded data removed]",
      "text/plain": [
       "<Figure size 400x280 with 1 Axes>"
      ]
     },
     "metadata": {},
     "output_type": "display_data"
    }
   ],
   "source": [
    "sns.set(rc={'figure.figsize':(4.0,2.8)})\n",
    "sns.set_palette(\"Blues_r\")\n",
    "sns.set_style(\"white\")\n",
    "ax = sns.countplot(data = df, y='conduct')\n",
    "sns.despine(top=True, left=True, bottom=True)\n",
    "plt.ylabel(\"\", size=10)\n",
    "plt.xlabel(\"\", size=10)\n",
    "ax.tick_params(bottom=False)\n",
    "ax.tick_params(left=False)"
   ]
  },
  {
   "cell_type": "code",
   "execution_count": 4,
   "metadata": {},
   "outputs": [
    {
     "data": {
      "text/plain": [
       "authoritative    222\n",
       "authoritarian     52\n",
       "permissive        12\n",
       "uninvolved         1\n",
       "Name: parenting_style, dtype: int64"
      ]
     },
     "execution_count": 4,
     "metadata": {},
     "output_type": "execute_result"
    }
   ],
   "source": [
    "df.parenting_style.value_counts()"
   ]
  },
  {
   "cell_type": "code",
   "execution_count": 5,
   "metadata": {},
   "outputs": [
    {
     "data": {
      "text/plain": [
       "eth-lang    242\n",
       "for-lang     45\n",
       "Name: mother_tongue, dtype: int64"
      ]
     },
     "execution_count": 5,
     "metadata": {},
     "output_type": "execute_result"
    }
   ],
   "source": [
    "df.mother_tongue.value_counts()"
   ]
  },
  {
   "cell_type": "code",
   "execution_count": 6,
   "metadata": {},
   "outputs": [
    {
     "data": {
      "image/png": "[encoded data removed]",
      "text/plain": [
       "<Figure size 400x280 with 1 Axes>"
      ]
     },
     "metadata": {},
     "output_type": "display_data"
    }
   ],
   "source": [
    "sns.set(rc={'figure.figsize':(4.0,2.8)})\n",
    "sns.set_style(\"white\")\n",
    "sns.countplot(data = df, y='age')\n",
    "sns.despine(top=True, left=True, bottom=True)\n",
    "plt.ylabel(\"\", size=10)\n",
    "plt.xlabel(\"\", size=10)\n",
    "ax.tick_params(bottom=False)\n",
    "ax.tick_params(left=False)"
   ]
  },
  {
   "attachments": {},
   "cell_type": "markdown",
   "metadata": {},
   "source": [
    "##### Univariate analysis on the age of students, it shows the range of ages in middle school to highschool is 10-20. most students are in the 14-16 age range with most students bieng 16. "
   ]
  },
  {
   "cell_type": "code",
   "execution_count": 7,
   "metadata": {},
   "outputs": [
    {
     "data": {
      "text/plain": [
       "f    150\n",
       "m    137\n",
       "Name: gender, dtype: int64"
      ]
     },
     "execution_count": 7,
     "metadata": {},
     "output_type": "execute_result"
    }
   ],
   "source": [
    "df.gender.value_counts()"
   ]
  },
  {
   "cell_type": "code",
   "execution_count": 8,
   "metadata": {},
   "outputs": [
    {
     "data": {
      "application/vnd.plotly.v1+json": {
       "config": {
        "plotlyServerURL": "https://plot.ly"
       },
       "data": [
        {
         "customdata": [
          [
           "f"
          ],
          [
           "m"
          ],
          [
           "m"
          ],
          [
           "m"
          ],
          [
           "f"
          ],
          [
           "f"
          ],
          [
           "f"
          ],
          [
           "f"
          ],
          [
           "m"
          ],
          [
           "f"
          ],
          [
           "m"
          ],
          [
           "m"
          ],
          [
           "m"
          ],
          [
           "m"
          ],
          [
           "f"
          ],
          [
           "f"
          ],
          [
           "f"
          ],
          [
           "m"
          ],
          [
           "f"
          ],
          [
           "m"
          ],
          [
           "f"
          ],
          [
           "f"
          ],
          [
           "m"
          ],
          [
           "m"
          ],
          [
           "m"
          ],
          [
           "f"
          ],
          [
           "m"
          ],
          [
           "f"
          ],
          [
           "m"
          ],
          [
           "m"
          ],
          [
           "f"
          ],
          [
           "f"
          ],
          [
           "m"
          ],
          [
           "f"
          ],
          [
           "f"
          ],
          [
           "m"
          ],
          [
           "m"
          ],
          [
           "m"
          ],
          [
           "m"
          ],
          [
           "m"
          ],
          [
           "m"
          ],
          [
           "f"
          ],
          [
           "f"
          ],
          [
           "m"
          ],
          [
           "m"
          ],
          [
           "m"
          ],
          [
           "m"
          ],
          [
           "f"
          ],
          [
           "f"
          ],
          [
           "m"
          ],
          [
           "m"
          ],
          [
           "f"
          ],
          [
           "f"
          ],
          [
           "m"
          ],
          [
           "f"
          ],
          [
           "m"
          ],
          [
           "f"
          ],
          [
           "f"
          ],
          [
           "f"
          ],
          [
           "m"
          ],
          [
           "f"
          ],
          [
           "f"
          ],
          [
           "f"
          ],
          [
           "f"
          ],
          [
           "f"
          ],
          [
           "m"
          ],
          [
           "f"
          ],
          [
           "f"
          ],
          [
           "f"
          ],
          [
           "m"
          ],
          [
           "m"
          ],
          [
           "f"
          ],
          [
           "m"
          ],
          [
           "f"
          ],
          [
           "f"
          ],
          [
           "f"
          ],
          [
           "f"
          ],
          [
           "f"
          ],
          [
           "f"
          ],
          [
           "f"
          ],
          [
           "m"
          ],
          [
           "m"
          ],
          [
           "f"
          ],
          [
           "f"
          ],
          [
           "f"
          ],
          [
           "m"
          ],
          [
           "m"
          ],
          [
           "f"
          ],
          [
           "f"
          ],
          [
           "m"
          ],
          [
           "f"
          ],
          [
           "f"
          ],
          [
           "f"
          ],
          [
           "m"
          ],
          [
           "f"
          ],
          [
           "m"
          ],
          [
           "f"
          ],
          [
           "f"
          ],
          [
           "m"
          ],
          [
           "m"
          ],
          [
           "f"
          ],
          [
           "m"
          ],
          [
           "m"
          ],
          [
           "m"
          ],
          [
           "f"
          ],
          [
           "f"
          ],
          [
           "f"
          ],
          [
           "m"
          ],
          [
           "f"
          ],
          [
           "m"
          ],
          [
           "f"
          ],
          [
           "f"
          ],
          [
           "f"
          ],
          [
           "f"
          ],
          [
           "f"
          ],
          [
           "m"
          ],
          [
           "m"
          ],
          [
           "m"
          ],
          [
           "f"
          ],
          [
           "m"
          ],
          [
           "f"
          ],
          [
           "f"
          ],
          [
           "m"
          ],
          [
           "m"
          ],
          [
           "m"
          ],
          [
           "m"
          ],
          [
           "f"
          ],
          [
           "f"
          ],
          [
           "f"
          ],
          [
           "f"
          ],
          [
           "f"
          ],
          [
           "m"
          ],
          [
           "f"
          ],
          [
           "m"
          ],
          [
           "m"
          ],
          [
           "m"
          ],
          [
           "f"
          ],
          [
           "f"
          ],
          [
           "m"
          ],
          [
           "m"
          ],
          [
           "m"
          ],
          [
           "f"
          ],
          [
           "m"
          ],
          [
           "f"
          ],
          [
           "m"
          ],
          [
           "f"
          ],
          [
           "f"
          ],
          [
           "f"
          ],
          [
           "m"
          ],
          [
           "f"
          ],
          [
           "f"
          ],
          [
           "m"
          ],
          [
           "f"
          ],
          [
           "f"
          ],
          [
           "f"
          ],
          [
           "f"
          ],
          [
           "f"
          ],
          [
           "f"
          ],
          [
           "f"
          ],
          [
           "m"
          ],
          [
           "m"
          ],
          [
           "m"
          ],
          [
           "f"
          ],
          [
           "f"
          ],
          [
           "f"
          ],
          [
           "f"
          ],
          [
           "m"
          ],
          [
           "m"
          ],
          [
           "m"
          ],
          [
           "m"
          ],
          [
           "m"
          ],
          [
           "m"
          ],
          [
           "m"
          ],
          [
           "m"
          ],
          [
           "f"
          ],
          [
           "m"
          ],
          [
           "f"
          ],
          [
           "f"
          ],
          [
           "f"
          ],
          [
           "m"
          ],
          [
           "f"
          ],
          [
           "m"
          ],
          [
           "f"
          ],
          [
           "m"
          ],
          [
           "f"
          ],
          [
           "m"
          ],
          [
           "m"
          ],
          [
           "m"
          ],
          [
           "f"
          ],
          [
           "m"
          ],
          [
           "m"
          ],
          [
           "m"
          ],
          [
           "m"
          ],
          [
           "m"
          ],
          [
           "f"
          ],
          [
           "f"
          ],
          [
           "m"
          ],
          [
           "m"
          ],
          [
           "f"
          ],
          [
           "m"
          ],
          [
           "f"
          ],
          [
           "m"
          ],
          [
           "f"
          ],
          [
           "f"
          ],
          [
           "m"
          ],
          [
           "f"
          ],
          [
           "m"
          ],
          [
           "f"
          ],
          [
           "m"
          ],
          [
           "m"
          ],
          [
           "m"
          ],
          [
           "f"
          ],
          [
           "m"
          ],
          [
           "m"
          ],
          [
           "m"
          ],
          [
           "f"
          ],
          [
           "f"
          ],
          [
           "f"
          ],
          [
           "m"
          ],
          [
           "m"
          ],
          [
           "f"
          ],
          [
           "m"
          ],
          [
           "m"
          ],
          [
           "f"
          ],
          [
           "m"
          ],
          [
           "m"
          ],
          [
           "m"
          ],
          [
           "f"
          ],
          [
           "m"
          ],
          [
           "f"
          ],
          [
           "f"
          ],
          [
           "m"
          ],
          [
           "m"
          ],
          [
           "f"
          ],
          [
           "m"
          ],
          [
           "f"
          ],
          [
           "m"
          ],
          [
           "f"
          ],
          [
           "m"
          ],
          [
           "f"
          ],
          [
           "m"
          ],
          [
           "m"
          ],
          [
           "f"
          ],
          [
           "f"
          ],
          [
           "f"
          ],
          [
           "m"
          ],
          [
           "f"
          ],
          [
           "f"
          ],
          [
           "m"
          ],
          [
           "m"
          ],
          [
           "f"
          ],
          [
           "m"
          ],
          [
           "f"
          ],
          [
           "m"
          ],
          [
           "f"
          ],
          [
           "m"
          ],
          [
           "f"
          ],
          [
           "m"
          ],
          [
           "m"
          ],
          [
           "f"
          ],
          [
           "f"
          ],
          [
           "m"
          ],
          [
           "f"
          ],
          [
           "f"
          ],
          [
           "m"
          ],
          [
           "f"
          ],
          [
           "m"
          ],
          [
           "m"
          ],
          [
           "f"
          ],
          [
           "m"
          ],
          [
           "f"
          ],
          [
           "f"
          ],
          [
           "m"
          ],
          [
           "m"
          ],
          [
           "m"
          ],
          [
           "f"
          ],
          [
           "f"
          ],
          [
           "f"
          ],
          [
           "f"
          ],
          [
           "m"
          ],
          [
           "f"
          ],
          [
           "f"
          ],
          [
           "f"
          ],
          [
           "f"
          ],
          [
           "f"
          ],
          [
           "f"
          ],
          [
           "m"
          ]
         ],
         "domain": {
          "x": [
           0,
           1
          ],
          "y": [
           0,
           1
          ]
         },
         "hole": 0.4,
         "hoverinfo": "label",
         "hovertemplate": "label=%{label}<br>color=%{customdata[0]}<extra></extra>",
         "labels": [
          "f",
          "m",
          "m",
          "m",
          "f",
          "f",
          "f",
          "f",
          "m",
          "f",
          "m",
          "m",
          "m",
          "m",
          "f",
          "f",
          "f",
          "m",
          "f",
          "m",
          "f",
          "f",
          "m",
          "m",
          "m",
          "f",
          "m",
          "f",
          "m",
          "m",
          "f",
          "f",
          "m",
          "f",
          "f",
          "m",
          "m",
          "m",
          "m",
          "m",
          "m",
          "f",
          "f",
          "m",
          "m",
          "m",
          "m",
          "f",
          "f",
          "m",
          "m",
          "f",
          "f",
          "m",
          "f",
          "m",
          "f",
          "f",
          "f",
          "m",
          "f",
          "f",
          "f",
          "f",
          "f",
          "m",
          "f",
          "f",
          "f",
          "m",
          "m",
          "f",
          "m",
          "f",
          "f",
          "f",
          "f",
          "f",
          "f",
          "f",
          "m",
          "m",
          "f",
          "f",
          "f",
          "m",
          "m",
          "f",
          "f",
          "m",
          "f",
          "f",
          "f",
          "m",
          "f",
          "m",
          "f",
          "f",
          "m",
          "m",
          "f",
          "m",
          "m",
          "m",
          "f",
          "f",
          "f",
          "m",
          "f",
          "m",
          "f",
          "f",
          "f",
          "f",
          "f",
          "m",
          "m",
          "m",
          "f",
          "m",
          "f",
          "f",
          "m",
          "m",
          "m",
          "m",
          "f",
          "f",
          "f",
          "f",
          "f",
          "m",
          "f",
          "m",
          "m",
          "m",
          "f",
          "f",
          "m",
          "m",
          "m",
          "f",
          "m",
          "f",
          "m",
          "f",
          "f",
          "f",
          "m",
          "f",
          "f",
          "m",
          "f",
          "f",
          "f",
          "f",
          "f",
          "f",
          "f",
          "m",
          "m",
          "m",
          "f",
          "f",
          "f",
          "f",
          "m",
          "m",
          "m",
          "m",
          "m",
          "m",
          "m",
          "m",
          "f",
          "m",
          "f",
          "f",
          "f",
          "m",
          "f",
          "m",
          "f",
          "m",
          "f",
          "m",
          "m",
          "m",
          "f",
          "m",
          "m",
          "m",
          "m",
          "m",
          "f",
          "f",
          "m",
          "m",
          "f",
          "m",
          "f",
          "m",
          "f",
          "f",
          "m",
          "f",
          "m",
          "f",
          "m",
          "m",
          "m",
          "f",
          "m",
          "m",
          "m",
          "f",
          "f",
          "f",
          "m",
          "m",
          "f",
          "m",
          "m",
          "f",
          "m",
          "m",
          "m",
          "f",
          "m",
          "f",
          "f",
          "m",
          "m",
          "f",
          "m",
          "f",
          "m",
          "f",
          "m",
          "f",
          "m",
          "m",
          "f",
          "f",
          "f",
          "m",
          "f",
          "f",
          "m",
          "m",
          "f",
          "m",
          "f",
          "m",
          "f",
          "m",
          "f",
          "m",
          "m",
          "f",
          "f",
          "m",
          "f",
          "f",
          "m",
          "f",
          "m",
          "m",
          "f",
          "m",
          "f",
          "f",
          "m",
          "m",
          "m",
          "f",
          "f",
          "f",
          "f",
          "m",
          "f",
          "f",
          "f",
          "f",
          "f",
          "f",
          "m"
         ],
         "legendgroup": "",
         "marker": {
          "colors": [
           "#FFD700.",
           "C0C0C0",
           "C0C0C0",
           "C0C0C0",
           "#FFD700.",
           "#FFD700.",
           "#FFD700.",
           "#FFD700.",
           "C0C0C0",
           "#FFD700.",
           "C0C0C0",
           "C0C0C0",
           "C0C0C0",
           "C0C0C0",
           "#FFD700.",
           "#FFD700.",
           "#FFD700.",
           "C0C0C0",
           "#FFD700.",
           "C0C0C0",
           "#FFD700.",
           "#FFD700.",
           "C0C0C0",
           "C0C0C0",
           "C0C0C0",
           "#FFD700.",
           "C0C0C0",
           "#FFD700.",
           "C0C0C0",
           "C0C0C0",
           "#FFD700.",
           "#FFD700.",
           "C0C0C0",
           "#FFD700.",
           "#FFD700.",
           "C0C0C0",
           "C0C0C0",
           "C0C0C0",
           "C0C0C0",
           "C0C0C0",
           "C0C0C0",
           "#FFD700.",
           "#FFD700.",
           "C0C0C0",
           "C0C0C0",
           "C0C0C0",
           "C0C0C0",
           "#FFD700.",
           "#FFD700.",
           "C0C0C0",
           "C0C0C0",
           "#FFD700.",
           "#FFD700.",
           "C0C0C0",
           "#FFD700.",
           "C0C0C0",
           "#FFD700.",
           "#FFD700.",
           "#FFD700.",
           "C0C0C0",
           "#FFD700.",
           "#FFD700.",
           "#FFD700.",
           "#FFD700.",
           "#FFD700.",
           "C0C0C0",
           "#FFD700.",
           "#FFD700.",
           "#FFD700.",
           "C0C0C0",
           "C0C0C0",
           "#FFD700.",
           "C0C0C0",
           "#FFD700.",
           "#FFD700.",
           "#FFD700.",
           "#FFD700.",
           "#FFD700.",
           "#FFD700.",
           "#FFD700.",
           "C0C0C0",
           "C0C0C0",
           "#FFD700.",
           "#FFD700.",
           "#FFD700.",
           "C0C0C0",
           "C0C0C0",
           "#FFD700.",
           "#FFD700.",
           "C0C0C0",
           "#FFD700.",
           "#FFD700.",
           "#FFD700.",
           "C0C0C0",
           "#FFD700.",
           "C0C0C0",
           "#FFD700.",
           "#FFD700.",
           "C0C0C0",
           "C0C0C0",
           "#FFD700.",
           "C0C0C0",
           "C0C0C0",
           "C0C0C0",
           "#FFD700.",
           "#FFD700.",
           "#FFD700.",
           "C0C0C0",
           "#FFD700.",
           "C0C0C0",
           "#FFD700.",
           "#FFD700.",
           "#FFD700.",
           "#FFD700.",
           "#FFD700.",
           "C0C0C0",
           "C0C0C0",
           "C0C0C0",
           "#FFD700.",
           "C0C0C0",
           "#FFD700.",
           "#FFD700.",
           "C0C0C0",
           "C0C0C0",
           "C0C0C0",
           "C0C0C0",
           "#FFD700.",
           "#FFD700.",
           "#FFD700.",
           "#FFD700.",
           "#FFD700.",
           "C0C0C0",
           "#FFD700.",
           "C0C0C0",
           "C0C0C0",
           "C0C0C0",
           "#FFD700.",
           "#FFD700.",
           "C0C0C0",
           "C0C0C0",
           "C0C0C0",
           "#FFD700.",
           "C0C0C0",
           "#FFD700.",
           "C0C0C0",
           "#FFD700.",
           "#FFD700.",
           "#FFD700.",
           "C0C0C0",
           "#FFD700.",
           "#FFD700.",
           "C0C0C0",
           "#FFD700.",
           "#FFD700.",
           "#FFD700.",
           "#FFD700.",
           "#FFD700.",
           "#FFD700.",
           "#FFD700.",
           "C0C0C0",
           "C0C0C0",
           "C0C0C0",
           "#FFD700.",
           "#FFD700.",
           "#FFD700.",
           "#FFD700.",
           "C0C0C0",
           "C0C0C0",
           "C0C0C0",
           "C0C0C0",
           "C0C0C0",
           "C0C0C0",
           "C0C0C0",
           "C0C0C0",
           "#FFD700.",
           "C0C0C0",
           "#FFD700.",
           "#FFD700.",
           "#FFD700.",
           "C0C0C0",
           "#FFD700.",
           "C0C0C0",
           "#FFD700.",
           "C0C0C0",
           "#FFD700.",
           "C0C0C0",
           "C0C0C0",
           "C0C0C0",
           "#FFD700.",
           "C0C0C0",
           "C0C0C0",
           "C0C0C0",
           "C0C0C0",
           "C0C0C0",
           "#FFD700.",
           "#FFD700.",
           "C0C0C0",
           "C0C0C0",
           "#FFD700.",
           "C0C0C0",
           "#FFD700.",
           "C0C0C0",
           "#FFD700.",
           "#FFD700.",
           "C0C0C0",
           "#FFD700.",
           "C0C0C0",
           "#FFD700.",
           "C0C0C0",
           "C0C0C0",
           "C0C0C0",
           "#FFD700.",
           "C0C0C0",
           "C0C0C0",
           "C0C0C0",
           "#FFD700.",
           "#FFD700.",
           "#FFD700.",
           "C0C0C0",
           "C0C0C0",
           "#FFD700.",
           "C0C0C0",
           "C0C0C0",
           "#FFD700.",
           "C0C0C0",
           "C0C0C0",
           "C0C0C0",
           "#FFD700.",
           "C0C0C0",
           "#FFD700.",
           "#FFD700.",
           "C0C0C0",
           "C0C0C0",
           "#FFD700.",
           "C0C0C0",
           "#FFD700.",
           "C0C0C0",
           "#FFD700.",
           "C0C0C0",
           "#FFD700.",
           "C0C0C0",
           "C0C0C0",
           "#FFD700.",
           "#FFD700.",
           "#FFD700.",
           "C0C0C0",
           "#FFD700.",
           "#FFD700.",
           "C0C0C0",
           "C0C0C0",
           "#FFD700.",
           "C0C0C0",
           "#FFD700.",
           "C0C0C0",
           "#FFD700.",
           "C0C0C0",
           "#FFD700.",
           "C0C0C0",
           "C0C0C0",
           "#FFD700.",
           "#FFD700.",
           "C0C0C0",
           "#FFD700.",
           "#FFD700.",
           "C0C0C0",
           "#FFD700.",
           "C0C0C0",
           "C0C0C0",
           "#FFD700.",
           "C0C0C0",
           "#FFD700.",
           "#FFD700.",
           "C0C0C0",
           "C0C0C0",
           "C0C0C0",
           "#FFD700.",
           "#FFD700.",
           "#FFD700.",
           "#FFD700.",
           "C0C0C0",
           "#FFD700.",
           "#FFD700.",
           "#FFD700.",
           "#FFD700.",
           "#FFD700.",
           "#FFD700.",
           "C0C0C0"
          ]
         },
         "name": "",
         "showlegend": true,
         "textfont": {
          "size": 20
         },
         "textinfo": "percent",
         "title": {
          "font": {
           "color": "darkred",
           "family": "Verdana",
           "size": 25
          }
         },
         "type": "pie"
        }
       ],
       "layout": {
        "legend": {
         "tracegroupgap": 0
        },
        "template": {
         "data": {
          "bar": [
           {
            "error_x": {
             "color": "#2a3f5f"
            },
            "error_y": {
             "color": "#2a3f5f"
            },
            "marker": {
             "line": {
              "color": "#E5ECF6",
              "width": 0.5
             },
             "pattern": {
              "fillmode": "overlay",
              "size": 10,
              "solidity": 0.2
             }
            },
            "type": "bar"
           }
          ],
          "barpolar": [
           {
            "marker": {
             "line": {
              "color": "#E5ECF6",
              "width": 0.5
             },
             "pattern": {
              "fillmode": "overlay",
              "size": 10,
              "solidity": 0.2
             }
            },
            "type": "barpolar"
           }
          ],
          "carpet": [
           {
            "aaxis": {
             "endlinecolor": "#2a3f5f",
             "gridcolor": "white",
             "linecolor": "white",
             "minorgridcolor": "white",
             "startlinecolor": "#2a3f5f"
            },
            "baxis": {
             "endlinecolor": "#2a3f5f",
             "gridcolor": "white",
             "linecolor": "white",
             "minorgridcolor": "white",
             "startlinecolor": "#2a3f5f"
            },
            "type": "carpet"
           }
          ],
          "choropleth": [
           {
            "colorbar": {
             "outlinewidth": 0,
             "ticks": ""
            },
            "type": "choropleth"
           }
          ],
          "contour": [
           {
            "colorbar": {
             "outlinewidth": 0,
             "ticks": ""
            },
            "colorscale": [
             [
              0,
              "#0d0887"
             ],
             [
              0.1111111111111111,
              "#46039f"
             ],
             [
              0.2222222222222222,
              "#7201a8"
             ],
             [
              0.3333333333333333,
              "#9c179e"
             ],
             [
              0.4444444444444444,
              "#bd3786"
             ],
             [
              0.5555555555555556,
              "#d8576b"
             ],
             [
              0.6666666666666666,
              "#ed7953"
             ],
             [
              0.7777777777777778,
              "#fb9f3a"
             ],
             [
              0.8888888888888888,
              "#fdca26"
             ],
             [
              1,
              "#f0f921"
             ]
            ],
            "type": "contour"
           }
          ],
          "contourcarpet": [
           {
            "colorbar": {
             "outlinewidth": 0,
             "ticks": ""
            },
            "type": "contourcarpet"
           }
          ],
          "heatmap": [
           {
            "colorbar": {
             "outlinewidth": 0,
             "ticks": ""
            },
            "colorscale": [
             [
              0,
              "#0d0887"
             ],
             [
              0.1111111111111111,
              "#46039f"
             ],
             [
              0.2222222222222222,
              "#7201a8"
             ],
             [
              0.3333333333333333,
              "#9c179e"
             ],
             [
              0.4444444444444444,
              "#bd3786"
             ],
             [
              0.5555555555555556,
              "#d8576b"
             ],
             [
              0.6666666666666666,
              "#ed7953"
             ],
             [
              0.7777777777777778,
              "#fb9f3a"
             ],
             [
              0.8888888888888888,
              "#fdca26"
             ],
             [
              1,
              "#f0f921"
             ]
            ],
            "type": "heatmap"
           }
          ],
          "heatmapgl": [
           {
            "colorbar": {
             "outlinewidth": 0,
             "ticks": ""
            },
            "colorscale": [
             [
              0,
              "#0d0887"
             ],
             [
              0.1111111111111111,
              "#46039f"
             ],
             [
              0.2222222222222222,
              "#7201a8"
             ],
             [
              0.3333333333333333,
              "#9c179e"
             ],
             [
              0.4444444444444444,
              "#bd3786"
             ],
             [
              0.5555555555555556,
              "#d8576b"
             ],
             [
              0.6666666666666666,
              "#ed7953"
             ],
             [
              0.7777777777777778,
              "#fb9f3a"
             ],
             [
              0.8888888888888888,
              "#fdca26"
             ],
             [
              1,
              "#f0f921"
             ]
            ],
            "type": "heatmapgl"
           }
          ],
          "histogram": [
           {
            "marker": {
             "pattern": {
              "fillmode": "overlay",
              "size": 10,
              "solidity": 0.2
             }
            },
            "type": "histogram"
           }
          ],
          "histogram2d": [
           {
            "colorbar": {
             "outlinewidth": 0,
             "ticks": ""
            },
            "colorscale": [
             [
              0,
              "#0d0887"
             ],
             [
              0.1111111111111111,
              "#46039f"
             ],
             [
              0.2222222222222222,
              "#7201a8"
             ],
             [
              0.3333333333333333,
              "#9c179e"
             ],
             [
              0.4444444444444444,
              "#bd3786"
             ],
             [
              0.5555555555555556,
              "#d8576b"
             ],
             [
              0.6666666666666666,
              "#ed7953"
             ],
             [
              0.7777777777777778,
              "#fb9f3a"
             ],
             [
              0.8888888888888888,
              "#fdca26"
             ],
             [
              1,
              "#f0f921"
             ]
            ],
            "type": "histogram2d"
           }
          ],
          "histogram2dcontour": [
           {
            "colorbar": {
             "outlinewidth": 0,
             "ticks": ""
            },
            "colorscale": [
             [
              0,
              "#0d0887"
             ],
             [
              0.1111111111111111,
              "#46039f"
             ],
             [
              0.2222222222222222,
              "#7201a8"
             ],
             [
              0.3333333333333333,
              "#9c179e"
             ],
             [
              0.4444444444444444,
              "#bd3786"
             ],
             [
              0.5555555555555556,
              "#d8576b"
             ],
             [
              0.6666666666666666,
              "#ed7953"
             ],
             [
              0.7777777777777778,
              "#fb9f3a"
             ],
             [
              0.8888888888888888,
              "#fdca26"
             ],
             [
              1,
              "#f0f921"
             ]
            ],
            "type": "histogram2dcontour"
           }
          ],
          "mesh3d": [
           {
            "colorbar": {
             "outlinewidth": 0,
             "ticks": ""
            },
            "type": "mesh3d"
           }
          ],
          "parcoords": [
           {
            "line": {
             "colorbar": {
              "outlinewidth": 0,
              "ticks": ""
             }
            },
            "type": "parcoords"
           }
          ],
          "pie": [
           {
            "automargin": true,
            "type": "pie"
           }
          ],
          "scatter": [
           {
            "fillpattern": {
             "fillmode": "overlay",
             "size": 10,
             "solidity": 0.2
            },
            "type": "scatter"
           }
          ],
          "scatter3d": [
           {
            "line": {
             "colorbar": {
              "outlinewidth": 0,
              "ticks": ""
             }
            },
            "marker": {
             "colorbar": {
              "outlinewidth": 0,
              "ticks": ""
             }
            },
            "type": "scatter3d"
           }
          ],
          "scattercarpet": [
           {
            "marker": {
             "colorbar": {
              "outlinewidth": 0,
              "ticks": ""
             }
            },
            "type": "scattercarpet"
           }
          ],
          "scattergeo": [
           {
            "marker": {
             "colorbar": {
              "outlinewidth": 0,
              "ticks": ""
             }
            },
            "type": "scattergeo"
           }
          ],
          "scattergl": [
           {
            "marker": {
             "colorbar": {
              "outlinewidth": 0,
              "ticks": ""
             }
            },
            "type": "scattergl"
           }
          ],
          "scattermapbox": [
           {
            "marker": {
             "colorbar": {
              "outlinewidth": 0,
              "ticks": ""
             }
            },
            "type": "scattermapbox"
           }
          ],
          "scatterpolar": [
           {
            "marker": {
             "colorbar": {
              "outlinewidth": 0,
              "ticks": ""
             }
            },
            "type": "scatterpolar"
           }
          ],
          "scatterpolargl": [
           {
            "marker": {
             "colorbar": {
              "outlinewidth": 0,
              "ticks": ""
             }
            },
            "type": "scatterpolargl"
           }
          ],
          "scatterternary": [
           {
            "marker": {
             "colorbar": {
              "outlinewidth": 0,
              "ticks": ""
             }
            },
            "type": "scatterternary"
           }
          ],
          "surface": [
           {
            "colorbar": {
             "outlinewidth": 0,
             "ticks": ""
            },
            "colorscale": [
             [
              0,
              "#0d0887"
             ],
             [
              0.1111111111111111,
              "#46039f"
             ],
             [
              0.2222222222222222,
              "#7201a8"
             ],
             [
              0.3333333333333333,
              "#9c179e"
             ],
             [
              0.4444444444444444,
              "#bd3786"
             ],
             [
              0.5555555555555556,
              "#d8576b"
             ],
             [
              0.6666666666666666,
              "#ed7953"
             ],
             [
              0.7777777777777778,
              "#fb9f3a"
             ],
             [
              0.8888888888888888,
              "#fdca26"
             ],
             [
              1,
              "#f0f921"
             ]
            ],
            "type": "surface"
           }
          ],
          "table": [
           {
            "cells": {
             "fill": {
              "color": "#EBF0F8"
             },
             "line": {
              "color": "white"
             }
            },
            "header": {
             "fill": {
              "color": "#C8D4E3"
             },
             "line": {
              "color": "white"
             }
            },
            "type": "table"
           }
          ]
         },
         "layout": {
          "annotationdefaults": {
           "arrowcolor": "#2a3f5f",
           "arrowhead": 0,
           "arrowwidth": 1
          },
          "autotypenumbers": "strict",
          "coloraxis": {
           "colorbar": {
            "outlinewidth": 0,
            "ticks": ""
           }
          },
          "colorscale": {
           "diverging": [
            [
             0,
             "#8e0152"
            ],
            [
             0.1,
             "#c51b7d"
            ],
            [
             0.2,
             "#de77ae"
            ],
            [
             0.3,
             "#f1b6da"
            ],
            [
             0.4,
             "#fde0ef"
            ],
            [
             0.5,
             "#f7f7f7"
            ],
            [
             0.6,
             "#e6f5d0"
            ],
            [
             0.7,
             "#b8e186"
            ],
            [
             0.8,
             "#7fbc41"
            ],
            [
             0.9,
             "#4d9221"
            ],
            [
             1,
             "#276419"
            ]
           ],
           "sequential": [
            [
             0,
             "#0d0887"
            ],
            [
             0.1111111111111111,
             "#46039f"
            ],
            [
             0.2222222222222222,
             "#7201a8"
            ],
            [
             0.3333333333333333,
             "#9c179e"
            ],
            [
             0.4444444444444444,
             "#bd3786"
            ],
            [
             0.5555555555555556,
             "#d8576b"
            ],
            [
             0.6666666666666666,
             "#ed7953"
            ],
            [
             0.7777777777777778,
             "#fb9f3a"
            ],
            [
             0.8888888888888888,
             "#fdca26"
            ],
            [
             1,
             "#f0f921"
            ]
           ],
           "sequentialminus": [
            [
             0,
             "#0d0887"
            ],
            [
             0.1111111111111111,
             "#46039f"
            ],
            [
             0.2222222222222222,
             "#7201a8"
            ],
            [
             0.3333333333333333,
             "#9c179e"
            ],
            [
             0.4444444444444444,
             "#bd3786"
            ],
            [
             0.5555555555555556,
             "#d8576b"
            ],
            [
             0.6666666666666666,
             "#ed7953"
            ],
            [
             0.7777777777777778,
             "#fb9f3a"
            ],
            [
             0.8888888888888888,
             "#fdca26"
            ],
            [
             1,
             "#f0f921"
            ]
           ]
          },
          "colorway": [
           "#636efa",
           "#EF553B",
           "#00cc96",
           "#ab63fa",
           "#FFA15A",
           "#19d3f3",
           "#FF6692",
           "#B6E880",
           "#FF97FF",
           "#FECB52"
          ],
          "font": {
           "color": "#2a3f5f"
          },
          "geo": {
           "bgcolor": "white",
           "lakecolor": "white",
           "landcolor": "#E5ECF6",
           "showlakes": true,
           "showland": true,
           "subunitcolor": "white"
          },
          "hoverlabel": {
           "align": "left"
          },
          "hovermode": "closest",
          "mapbox": {
           "style": "light"
          },
          "paper_bgcolor": "white",
          "plot_bgcolor": "#E5ECF6",
          "polar": {
           "angularaxis": {
            "gridcolor": "white",
            "linecolor": "white",
            "ticks": ""
           },
           "bgcolor": "#E5ECF6",
           "radialaxis": {
            "gridcolor": "white",
            "linecolor": "white",
            "ticks": ""
           }
          },
          "scene": {
           "xaxis": {
            "backgroundcolor": "#E5ECF6",
            "gridcolor": "white",
            "gridwidth": 2,
            "linecolor": "white",
            "showbackground": true,
            "ticks": "",
            "zerolinecolor": "white"
           },
           "yaxis": {
            "backgroundcolor": "#E5ECF6",
            "gridcolor": "white",
            "gridwidth": 2,
            "linecolor": "white",
            "showbackground": true,
            "ticks": "",
            "zerolinecolor": "white"
           },
           "zaxis": {
            "backgroundcolor": "#E5ECF6",
            "gridcolor": "white",
            "gridwidth": 2,
            "linecolor": "white",
            "showbackground": true,
            "ticks": "",
            "zerolinecolor": "white"
           }
          },
          "shapedefaults": {
           "line": {
            "color": "#2a3f5f"
           }
          },
          "ternary": {
           "aaxis": {
            "gridcolor": "white",
            "linecolor": "white",
            "ticks": ""
           },
           "baxis": {
            "gridcolor": "white",
            "linecolor": "white",
            "ticks": ""
           },
           "bgcolor": "#E5ECF6",
           "caxis": {
            "gridcolor": "white",
            "linecolor": "white",
            "ticks": ""
           }
          },
          "title": {
           "x": 0.05
          },
          "xaxis": {
           "automargin": true,
           "gridcolor": "white",
           "linecolor": "white",
           "ticks": "",
           "title": {
            "standoff": 15
           },
           "zerolinecolor": "white",
           "zerolinewidth": 2
          },
          "yaxis": {
           "automargin": true,
           "gridcolor": "white",
           "linecolor": "white",
           "ticks": "",
           "title": {
            "standoff": 15
           },
           "zerolinecolor": "white",
           "zerolinewidth": 2
          }
         }
        },
        "title": {
         "text": "Population Economically Active"
        }
       }
      }
     },
     "metadata": {},
     "output_type": "display_data"
    }
   ],
   "source": [
    "fig4 = px.pie(df.gender, hole = 0.4,\n",
    "              names = df.gender, color = df.gender,\n",
    "              title = 'Population Economically Active',\n",
    "              color_discrete_map = {'m':'C0C0C0', \n",
    "                                    'f': '#FFD700.', \n",
    "                                             \n",
    "             })\n",
    "fig4.update_traces(title_font = dict(size=25,family='Verdana', \n",
    "                   color='darkred'),\n",
    "                   hoverinfo='label',\n",
    "                   textinfo='percent', textfont_size=20)\n",
    "fig4.show()"
   ]
  },
  {
   "cell_type": "code",
   "execution_count": 9,
   "metadata": {},
   "outputs": [
    {
     "data": {
      "application/vnd.plotly.v1+json": {
       "config": {
        "plotlyServerURL": "https://plot.ly"
       },
       "data": [
        {
         "customdata": [
          [
           "ethiopia"
          ],
          [
           "ethiopia"
          ],
          [
           "ethiopia"
          ],
          [
           "ethiopia"
          ],
          [
           "foriegn_soil"
          ],
          [
           "ethiopia"
          ],
          [
           "foriegn_soil"
          ],
          [
           "ethiopia"
          ],
          [
           "ethiopia"
          ],
          [
           "ethiopia"
          ],
          [
           "foriegn_soil"
          ],
          [
           "foriegn_soil"
          ],
          [
           "foriegn_soil"
          ],
          [
           "foriegn_soil"
          ],
          [
           "ethiopia"
          ],
          [
           "ethiopia"
          ],
          [
           "ethiopia"
          ],
          [
           "foriegn_soil"
          ],
          [
           "ethiopia"
          ],
          [
           "ethiopia"
          ],
          [
           "ethiopia"
          ],
          [
           "foriegn_soil"
          ],
          [
           "foriegn_soil"
          ],
          [
           "ethiopia"
          ],
          [
           "ethiopia"
          ],
          [
           "ethiopia"
          ],
          [
           "ethiopia"
          ],
          [
           "ethiopia"
          ],
          [
           "ethiopia"
          ],
          [
           "foriegn_soil"
          ],
          [
           "ethiopia"
          ],
          [
           "ethiopia"
          ],
          [
           "ethiopia"
          ],
          [
           "foriegn_soil"
          ],
          [
           "foriegn_soil"
          ],
          [
           "ethiopia"
          ],
          [
           "ethiopia"
          ],
          [
           "ethiopia"
          ],
          [
           "ethiopia"
          ],
          [
           "foriegn_soil"
          ],
          [
           "foriegn_soil"
          ],
          [
           "ethiopia"
          ],
          [
           "ethiopia"
          ],
          [
           "ethiopia"
          ],
          [
           "ethiopia"
          ],
          [
           "foriegn_soil"
          ],
          [
           "foriegn_soil"
          ],
          [
           "foriegn_soil"
          ],
          [
           "ethiopia"
          ],
          [
           "ethiopia"
          ],
          [
           "ethiopia"
          ],
          [
           "ethiopia"
          ],
          [
           "ethiopia"
          ],
          [
           "ethiopia"
          ],
          [
           "ethiopia"
          ],
          [
           "ethiopia"
          ],
          [
           "ethiopia"
          ],
          [
           "foriegn_soil"
          ],
          [
           "ethiopia"
          ],
          [
           "ethiopia"
          ],
          [
           "ethiopia"
          ],
          [
           "foriegn_soil"
          ],
          [
           "ethiopia"
          ],
          [
           "ethiopia"
          ],
          [
           "ethiopia"
          ],
          [
           "ethiopia"
          ],
          [
           "ethiopia"
          ],
          [
           "foriegn_soil"
          ],
          [
           "ethiopia"
          ],
          [
           "ethiopia"
          ],
          [
           "foriegn_soil"
          ],
          [
           "ethiopia"
          ],
          [
           "ethiopia"
          ],
          [
           "ethiopia"
          ],
          [
           "foriegn_soil"
          ],
          [
           "foriegn_soil"
          ],
          [
           "ethiopia"
          ],
          [
           "ethiopia"
          ],
          [
           "ethiopia"
          ],
          [
           "foriegn_soil"
          ],
          [
           "ethiopia"
          ],
          [
           "ethiopia"
          ],
          [
           "ethiopia"
          ],
          [
           "ethiopia"
          ],
          [
           "ethiopia"
          ],
          [
           "ethiopia"
          ],
          [
           "ethiopia"
          ],
          [
           "ethiopia"
          ],
          [
           "ethiopia"
          ],
          [
           "ethiopia"
          ],
          [
           "ethiopia"
          ],
          [
           "ethiopia"
          ],
          [
           "ethiopia"
          ],
          [
           "ethiopia"
          ],
          [
           "ethiopia"
          ],
          [
           "ethiopia"
          ],
          [
           "ethiopia"
          ],
          [
           "ethiopia"
          ],
          [
           "ethiopia"
          ],
          [
           "ethiopia"
          ],
          [
           "foriegn_soil"
          ],
          [
           "ethiopia"
          ],
          [
           "ethiopia"
          ],
          [
           "ethiopia"
          ],
          [
           "ethiopia"
          ],
          [
           "ethiopia"
          ],
          [
           "ethiopia"
          ],
          [
           "ethiopia"
          ],
          [
           "ethiopia"
          ],
          [
           "ethiopia"
          ],
          [
           "foriegn_soil"
          ],
          [
           "ethiopia"
          ],
          [
           "foriegn_soil"
          ],
          [
           "foriegn_soil"
          ],
          [
           "ethiopia"
          ],
          [
           "ethiopia"
          ],
          [
           "ethiopia"
          ],
          [
           "ethiopia"
          ],
          [
           "ethiopia"
          ],
          [
           "ethiopia"
          ],
          [
           "ethiopia"
          ],
          [
           "ethiopia"
          ],
          [
           "ethiopia"
          ],
          [
           "ethiopia"
          ],
          [
           "ethiopia"
          ],
          [
           "ethiopia"
          ],
          [
           "ethiopia"
          ],
          [
           "ethiopia"
          ],
          [
           "ethiopia"
          ],
          [
           "ethiopia"
          ],
          [
           "ethiopia"
          ],
          [
           "ethiopia"
          ],
          [
           "ethiopia"
          ],
          [
           "ethiopia"
          ],
          [
           "ethiopia"
          ],
          [
           "ethiopia"
          ],
          [
           "ethiopia"
          ],
          [
           "ethiopia"
          ],
          [
           "ethiopia"
          ],
          [
           "ethiopia"
          ],
          [
           "ethiopia"
          ],
          [
           "ethiopia"
          ],
          [
           "ethiopia"
          ],
          [
           "ethiopia"
          ],
          [
           "ethiopia"
          ],
          [
           "ethiopia"
          ],
          [
           "ethiopia"
          ],
          [
           "ethiopia"
          ],
          [
           "ethiopia"
          ],
          [
           "ethiopia"
          ],
          [
           "ethiopia"
          ],
          [
           "ethiopia"
          ],
          [
           "ethiopia"
          ],
          [
           "ethiopia"
          ],
          [
           "ethiopia"
          ],
          [
           "ethiopia"
          ],
          [
           "ethiopia"
          ],
          [
           "ethiopia"
          ],
          [
           "ethiopia"
          ],
          [
           "ethiopia"
          ],
          [
           "ethiopia"
          ],
          [
           "ethiopia"
          ],
          [
           "ethiopia"
          ],
          [
           "ethiopia"
          ],
          [
           "ethiopia"
          ],
          [
           "ethiopia"
          ],
          [
           "ethiopia"
          ],
          [
           "ethiopia"
          ],
          [
           "ethiopia"
          ],
          [
           "ethiopia"
          ],
          [
           "ethiopia"
          ],
          [
           "ethiopia"
          ],
          [
           "ethiopia"
          ],
          [
           "ethiopia"
          ],
          [
           "ethiopia"
          ],
          [
           "ethiopia"
          ],
          [
           "ethiopia"
          ],
          [
           "ethiopia"
          ],
          [
           "ethiopia"
          ],
          [
           "ethiopia"
          ],
          [
           "ethiopia"
          ],
          [
           "ethiopia"
          ],
          [
           "ethiopia"
          ],
          [
           "ethiopia"
          ],
          [
           "ethiopia"
          ],
          [
           "ethiopia"
          ],
          [
           "ethiopia"
          ],
          [
           "ethiopia"
          ],
          [
           "ethiopia"
          ],
          [
           "ethiopia"
          ],
          [
           "ethiopia"
          ],
          [
           "ethiopia"
          ],
          [
           "ethiopia"
          ],
          [
           "ethiopia"
          ],
          [
           "ethiopia"
          ],
          [
           "ethiopia"
          ],
          [
           "ethiopia"
          ],
          [
           "ethiopia"
          ],
          [
           "ethiopia"
          ],
          [
           "ethiopia"
          ],
          [
           "ethiopia"
          ],
          [
           "ethiopia"
          ],
          [
           "ethiopia"
          ],
          [
           "ethiopia"
          ],
          [
           "ethiopia"
          ],
          [
           "ethiopia"
          ],
          [
           "ethiopia"
          ],
          [
           "ethiopia"
          ],
          [
           "ethiopia"
          ],
          [
           "ethiopia"
          ],
          [
           "ethiopia"
          ],
          [
           "ethiopia"
          ],
          [
           "ethiopia"
          ],
          [
           "ethiopia"
          ],
          [
           "ethiopia"
          ],
          [
           "ethiopia"
          ],
          [
           "ethiopia"
          ],
          [
           "ethiopia"
          ],
          [
           "ethiopia"
          ],
          [
           "ethiopia"
          ],
          [
           "ethiopia"
          ],
          [
           "ethiopia"
          ],
          [
           "ethiopia"
          ],
          [
           "ethiopia"
          ],
          [
           "ethiopia"
          ],
          [
           "ethiopia"
          ],
          [
           "ethiopia"
          ],
          [
           "ethiopia"
          ],
          [
           "ethiopia"
          ],
          [
           "ethiopia"
          ],
          [
           "ethiopia"
          ],
          [
           "ethiopia"
          ],
          [
           "ethiopia"
          ],
          [
           "ethiopia"
          ],
          [
           "ethiopia"
          ],
          [
           "ethiopia"
          ],
          [
           "ethiopia"
          ],
          [
           "ethiopia"
          ],
          [
           "ethiopia"
          ],
          [
           "ethiopia"
          ],
          [
           "ethiopia"
          ],
          [
           "ethiopia"
          ],
          [
           "ethiopia"
          ],
          [
           "ethiopia"
          ],
          [
           "ethiopia"
          ],
          [
           "ethiopia"
          ],
          [
           "ethiopia"
          ],
          [
           "ethiopia"
          ],
          [
           "ethiopia"
          ],
          [
           "ethiopia"
          ],
          [
           "ethiopia"
          ],
          [
           "ethiopia"
          ],
          [
           "ethiopia"
          ],
          [
           "ethiopia"
          ],
          [
           "ethiopia"
          ],
          [
           "ethiopia"
          ],
          [
           "ethiopia"
          ],
          [
           "ethiopia"
          ],
          [
           "ethiopia"
          ],
          [
           "ethiopia"
          ],
          [
           "ethiopia"
          ],
          [
           "ethiopia"
          ],
          [
           "ethiopia"
          ],
          [
           "ethiopia"
          ],
          [
           "ethiopia"
          ],
          [
           "ethiopia"
          ],
          [
           "ethiopia"
          ],
          [
           "ethiopia"
          ],
          [
           "ethiopia"
          ],
          [
           "ethiopia"
          ],
          [
           "ethiopia"
          ],
          [
           "ethiopia"
          ],
          [
           "ethiopia"
          ],
          [
           "ethiopia"
          ],
          [
           "ethiopia"
          ],
          [
           "ethiopia"
          ],
          [
           "ethiopia"
          ],
          [
           "ethiopia"
          ],
          [
           "ethiopia"
          ],
          [
           "ethiopia"
          ],
          [
           "ethiopia"
          ],
          [
           "ethiopia"
          ],
          [
           "ethiopia"
          ],
          [
           "ethiopia"
          ],
          [
           "ethiopia"
          ],
          [
           "ethiopia"
          ],
          [
           "ethiopia"
          ]
         ],
         "domain": {
          "x": [
           0,
           1
          ],
          "y": [
           0,
           1
          ]
         },
         "hole": 0.4,
         "hoverinfo": "label",
         "hovertemplate": "label=%{label}<br>color=%{customdata[0]}<extra></extra>",
         "labels": [
          "ethiopia",
          "ethiopia",
          "ethiopia",
          "ethiopia",
          "foriegn_soil",
          "ethiopia",
          "foriegn_soil",
          "ethiopia",
          "ethiopia",
          "ethiopia",
          "foriegn_soil",
          "foriegn_soil",
          "foriegn_soil",
          "foriegn_soil",
          "ethiopia",
          "ethiopia",
          "ethiopia",
          "foriegn_soil",
          "ethiopia",
          "ethiopia",
          "ethiopia",
          "foriegn_soil",
          "foriegn_soil",
          "ethiopia",
          "ethiopia",
          "ethiopia",
          "ethiopia",
          "ethiopia",
          "ethiopia",
          "foriegn_soil",
          "ethiopia",
          "ethiopia",
          "ethiopia",
          "foriegn_soil",
          "foriegn_soil",
          "ethiopia",
          "ethiopia",
          "ethiopia",
          "ethiopia",
          "foriegn_soil",
          "foriegn_soil",
          "ethiopia",
          "ethiopia",
          "ethiopia",
          "ethiopia",
          "foriegn_soil",
          "foriegn_soil",
          "foriegn_soil",
          "ethiopia",
          "ethiopia",
          "ethiopia",
          "ethiopia",
          "ethiopia",
          "ethiopia",
          "ethiopia",
          "ethiopia",
          "ethiopia",
          "foriegn_soil",
          "ethiopia",
          "ethiopia",
          "ethiopia",
          "foriegn_soil",
          "ethiopia",
          "ethiopia",
          "ethiopia",
          "ethiopia",
          "ethiopia",
          "foriegn_soil",
          "ethiopia",
          "ethiopia",
          "foriegn_soil",
          "ethiopia",
          "ethiopia",
          "ethiopia",
          "foriegn_soil",
          "foriegn_soil",
          "ethiopia",
          "ethiopia",
          "ethiopia",
          "foriegn_soil",
          "ethiopia",
          "ethiopia",
          "ethiopia",
          "ethiopia",
          "ethiopia",
          "ethiopia",
          "ethiopia",
          "ethiopia",
          "ethiopia",
          "ethiopia",
          "ethiopia",
          "ethiopia",
          "ethiopia",
          "ethiopia",
          "ethiopia",
          "ethiopia",
          "ethiopia",
          "ethiopia",
          "ethiopia",
          "ethiopia",
          "foriegn_soil",
          "ethiopia",
          "ethiopia",
          "ethiopia",
          "ethiopia",
          "ethiopia",
          "ethiopia",
          "ethiopia",
          "ethiopia",
          "ethiopia",
          "foriegn_soil",
          "ethiopia",
          "foriegn_soil",
          "foriegn_soil",
          "ethiopia",
          "ethiopia",
          "ethiopia",
          "ethiopia",
          "ethiopia",
          "ethiopia",
          "ethiopia",
          "ethiopia",
          "ethiopia",
          "ethiopia",
          "ethiopia",
          "ethiopia",
          "ethiopia",
          "ethiopia",
          "ethiopia",
          "ethiopia",
          "ethiopia",
          "ethiopia",
          "ethiopia",
          "ethiopia",
          "ethiopia",
          "ethiopia",
          "ethiopia",
          "ethiopia",
          "ethiopia",
          "ethiopia",
          "ethiopia",
          "ethiopia",
          "ethiopia",
          "ethiopia",
          "ethiopia",
          "ethiopia",
          "ethiopia",
          "ethiopia",
          "ethiopia",
          "ethiopia",
          "ethiopia",
          "ethiopia",
          "ethiopia",
          "ethiopia",
          "ethiopia",
          "ethiopia",
          "ethiopia",
          "ethiopia",
          "ethiopia",
          "ethiopia",
          "ethiopia",
          "ethiopia",
          "ethiopia",
          "ethiopia",
          "ethiopia",
          "ethiopia",
          "ethiopia",
          "ethiopia",
          "ethiopia",
          "ethiopia",
          "ethiopia",
          "ethiopia",
          "ethiopia",
          "ethiopia",
          "ethiopia",
          "ethiopia",
          "ethiopia",
          "ethiopia",
          "ethiopia",
          "ethiopia",
          "ethiopia",
          "ethiopia",
          "ethiopia",
          "ethiopia",
          "ethiopia",
          "ethiopia",
          "ethiopia",
          "ethiopia",
          "ethiopia",
          "ethiopia",
          "ethiopia",
          "ethiopia",
          "ethiopia",
          "ethiopia",
          "ethiopia",
          "ethiopia",
          "ethiopia",
          "ethiopia",
          "ethiopia",
          "ethiopia",
          "ethiopia",
          "ethiopia",
          "ethiopia",
          "ethiopia",
          "ethiopia",
          "ethiopia",
          "ethiopia",
          "ethiopia",
          "ethiopia",
          "ethiopia",
          "ethiopia",
          "ethiopia",
          "ethiopia",
          "ethiopia",
          "ethiopia",
          "ethiopia",
          "ethiopia",
          "ethiopia",
          "ethiopia",
          "ethiopia",
          "ethiopia",
          "ethiopia",
          "ethiopia",
          "ethiopia",
          "ethiopia",
          "ethiopia",
          "ethiopia",
          "ethiopia",
          "ethiopia",
          "ethiopia",
          "ethiopia",
          "ethiopia",
          "ethiopia",
          "ethiopia",
          "ethiopia",
          "ethiopia",
          "ethiopia",
          "ethiopia",
          "ethiopia",
          "ethiopia",
          "ethiopia",
          "ethiopia",
          "ethiopia",
          "ethiopia",
          "ethiopia",
          "ethiopia",
          "ethiopia",
          "ethiopia",
          "ethiopia",
          "ethiopia",
          "ethiopia",
          "ethiopia",
          "ethiopia",
          "ethiopia",
          "ethiopia",
          "ethiopia",
          "ethiopia",
          "ethiopia",
          "ethiopia",
          "ethiopia",
          "ethiopia",
          "ethiopia",
          "ethiopia",
          "ethiopia",
          "ethiopia",
          "ethiopia",
          "ethiopia",
          "ethiopia",
          "ethiopia",
          "ethiopia",
          "ethiopia",
          "ethiopia",
          "ethiopia",
          "ethiopia",
          "ethiopia",
          "ethiopia",
          "ethiopia",
          "ethiopia",
          "ethiopia",
          "ethiopia",
          "ethiopia",
          "ethiopia",
          "ethiopia",
          "ethiopia",
          "ethiopia",
          "ethiopia",
          "ethiopia"
         ],
         "legendgroup": "",
         "marker": {
          "colors": [
           "#C0C0C0",
           "#C0C0C0",
           "#C0C0C0",
           "#C0C0C0",
           "#FFD700",
           "#C0C0C0",
           "#FFD700",
           "#C0C0C0",
           "#C0C0C0",
           "#C0C0C0",
           "#FFD700",
           "#FFD700",
           "#FFD700",
           "#FFD700",
           "#C0C0C0",
           "#C0C0C0",
           "#C0C0C0",
           "#FFD700",
           "#C0C0C0",
           "#C0C0C0",
           "#C0C0C0",
           "#FFD700",
           "#FFD700",
           "#C0C0C0",
           "#C0C0C0",
           "#C0C0C0",
           "#C0C0C0",
           "#C0C0C0",
           "#C0C0C0",
           "#FFD700",
           "#C0C0C0",
           "#C0C0C0",
           "#C0C0C0",
           "#FFD700",
           "#FFD700",
           "#C0C0C0",
           "#C0C0C0",
           "#C0C0C0",
           "#C0C0C0",
           "#FFD700",
           "#FFD700",
           "#C0C0C0",
           "#C0C0C0",
           "#C0C0C0",
           "#C0C0C0",
           "#FFD700",
           "#FFD700",
           "#FFD700",
           "#C0C0C0",
           "#C0C0C0",
           "#C0C0C0",
           "#C0C0C0",
           "#C0C0C0",
           "#C0C0C0",
           "#C0C0C0",
           "#C0C0C0",
           "#C0C0C0",
           "#FFD700",
           "#C0C0C0",
           "#C0C0C0",
           "#C0C0C0",
           "#FFD700",
           "#C0C0C0",
           "#C0C0C0",
           "#C0C0C0",
           "#C0C0C0",
           "#C0C0C0",
           "#FFD700",
           "#C0C0C0",
           "#C0C0C0",
           "#FFD700",
           "#C0C0C0",
           "#C0C0C0",
           "#C0C0C0",
           "#FFD700",
           "#FFD700",
           "#C0C0C0",
           "#C0C0C0",
           "#C0C0C0",
           "#FFD700",
           "#C0C0C0",
           "#C0C0C0",
           "#C0C0C0",
           "#C0C0C0",
           "#C0C0C0",
           "#C0C0C0",
           "#C0C0C0",
           "#C0C0C0",
           "#C0C0C0",
           "#C0C0C0",
           "#C0C0C0",
           "#C0C0C0",
           "#C0C0C0",
           "#C0C0C0",
           "#C0C0C0",
           "#C0C0C0",
           "#C0C0C0",
           "#C0C0C0",
           "#C0C0C0",
           "#C0C0C0",
           "#FFD700",
           "#C0C0C0",
           "#C0C0C0",
           "#C0C0C0",
           "#C0C0C0",
           "#C0C0C0",
           "#C0C0C0",
           "#C0C0C0",
           "#C0C0C0",
           "#C0C0C0",
           "#FFD700",
           "#C0C0C0",
           "#FFD700",
           "#FFD700",
           "#C0C0C0",
           "#C0C0C0",
           "#C0C0C0",
           "#C0C0C0",
           "#C0C0C0",
           "#C0C0C0",
           "#C0C0C0",
           "#C0C0C0",
           "#C0C0C0",
           "#C0C0C0",
           "#C0C0C0",
           "#C0C0C0",
           "#C0C0C0",
           "#C0C0C0",
           "#C0C0C0",
           "#C0C0C0",
           "#C0C0C0",
           "#C0C0C0",
           "#C0C0C0",
           "#C0C0C0",
           "#C0C0C0",
           "#C0C0C0",
           "#C0C0C0",
           "#C0C0C0",
           "#C0C0C0",
           "#C0C0C0",
           "#C0C0C0",
           "#C0C0C0",
           "#C0C0C0",
           "#C0C0C0",
           "#C0C0C0",
           "#C0C0C0",
           "#C0C0C0",
           "#C0C0C0",
           "#C0C0C0",
           "#C0C0C0",
           "#C0C0C0",
           "#C0C0C0",
           "#C0C0C0",
           "#C0C0C0",
           "#C0C0C0",
           "#C0C0C0",
           "#C0C0C0",
           "#C0C0C0",
           "#C0C0C0",
           "#C0C0C0",
           "#C0C0C0",
           "#C0C0C0",
           "#C0C0C0",
           "#C0C0C0",
           "#C0C0C0",
           "#C0C0C0",
           "#C0C0C0",
           "#C0C0C0",
           "#C0C0C0",
           "#C0C0C0",
           "#C0C0C0",
           "#C0C0C0",
           "#C0C0C0",
           "#C0C0C0",
           "#C0C0C0",
           "#C0C0C0",
           "#C0C0C0",
           "#C0C0C0",
           "#C0C0C0",
           "#C0C0C0",
           "#C0C0C0",
           "#C0C0C0",
           "#C0C0C0",
           "#C0C0C0",
           "#C0C0C0",
           "#C0C0C0",
           "#C0C0C0",
           "#C0C0C0",
           "#C0C0C0",
           "#C0C0C0",
           "#C0C0C0",
           "#C0C0C0",
           "#C0C0C0",
           "#C0C0C0",
           "#C0C0C0",
           "#C0C0C0",
           "#C0C0C0",
           "#C0C0C0",
           "#C0C0C0",
           "#C0C0C0",
           "#C0C0C0",
           "#C0C0C0",
           "#C0C0C0",
           "#C0C0C0",
           "#C0C0C0",
           "#C0C0C0",
           "#C0C0C0",
           "#C0C0C0",
           "#C0C0C0",
           "#C0C0C0",
           "#C0C0C0",
           "#C0C0C0",
           "#C0C0C0",
           "#C0C0C0",
           "#C0C0C0",
           "#C0C0C0",
           "#C0C0C0",
           "#C0C0C0",
           "#C0C0C0",
           "#C0C0C0",
           "#C0C0C0",
           "#C0C0C0",
           "#C0C0C0",
           "#C0C0C0",
           "#C0C0C0",
           "#C0C0C0",
           "#C0C0C0",
           "#C0C0C0",
           "#C0C0C0",
           "#C0C0C0",
           "#C0C0C0",
           "#C0C0C0",
           "#C0C0C0",
           "#C0C0C0",
           "#C0C0C0",
           "#C0C0C0",
           "#C0C0C0",
           "#C0C0C0",
           "#C0C0C0",
           "#C0C0C0",
           "#C0C0C0",
           "#C0C0C0",
           "#C0C0C0",
           "#C0C0C0",
           "#C0C0C0",
           "#C0C0C0",
           "#C0C0C0",
           "#C0C0C0",
           "#C0C0C0",
           "#C0C0C0",
           "#C0C0C0",
           "#C0C0C0",
           "#C0C0C0",
           "#C0C0C0",
           "#C0C0C0",
           "#C0C0C0",
           "#C0C0C0",
           "#C0C0C0",
           "#C0C0C0",
           "#C0C0C0",
           "#C0C0C0",
           "#C0C0C0",
           "#C0C0C0",
           "#C0C0C0",
           "#C0C0C0",
           "#C0C0C0",
           "#C0C0C0",
           "#C0C0C0",
           "#C0C0C0",
           "#C0C0C0",
           "#C0C0C0",
           "#C0C0C0",
           "#C0C0C0",
           "#C0C0C0",
           "#C0C0C0",
           "#C0C0C0",
           "#C0C0C0",
           "#C0C0C0",
           "#C0C0C0",
           "#C0C0C0",
           "#C0C0C0",
           "#C0C0C0",
           "#C0C0C0",
           "#C0C0C0",
           "#C0C0C0",
           "#C0C0C0",
           "#C0C0C0"
          ]
         },
         "name": "",
         "showlegend": true,
         "textfont": {
          "size": 20
         },
         "textinfo": "percent",
         "title": {
          "font": {
           "color": "darkred",
           "family": "Verdana",
           "size": 25
          }
         },
         "type": "pie"
        }
       ],
       "layout": {
        "legend": {
         "tracegroupgap": 0
        },
        "template": {
         "data": {
          "bar": [
           {
            "error_x": {
             "color": "#2a3f5f"
            },
            "error_y": {
             "color": "#2a3f5f"
            },
            "marker": {
             "line": {
              "color": "#E5ECF6",
              "width": 0.5
             },
             "pattern": {
              "fillmode": "overlay",
              "size": 10,
              "solidity": 0.2
             }
            },
            "type": "bar"
           }
          ],
          "barpolar": [
           {
            "marker": {
             "line": {
              "color": "#E5ECF6",
              "width": 0.5
             },
             "pattern": {
              "fillmode": "overlay",
              "size": 10,
              "solidity": 0.2
             }
            },
            "type": "barpolar"
           }
          ],
          "carpet": [
           {
            "aaxis": {
             "endlinecolor": "#2a3f5f",
             "gridcolor": "white",
             "linecolor": "white",
             "minorgridcolor": "white",
             "startlinecolor": "#2a3f5f"
            },
            "baxis": {
             "endlinecolor": "#2a3f5f",
             "gridcolor": "white",
             "linecolor": "white",
             "minorgridcolor": "white",
             "startlinecolor": "#2a3f5f"
            },
            "type": "carpet"
           }
          ],
          "choropleth": [
           {
            "colorbar": {
             "outlinewidth": 0,
             "ticks": ""
            },
            "type": "choropleth"
           }
          ],
          "contour": [
           {
            "colorbar": {
             "outlinewidth": 0,
             "ticks": ""
            },
            "colorscale": [
             [
              0,
              "#0d0887"
             ],
             [
              0.1111111111111111,
              "#46039f"
             ],
             [
              0.2222222222222222,
              "#7201a8"
             ],
             [
              0.3333333333333333,
              "#9c179e"
             ],
             [
              0.4444444444444444,
              "#bd3786"
             ],
             [
              0.5555555555555556,
              "#d8576b"
             ],
             [
              0.6666666666666666,
              "#ed7953"
             ],
             [
              0.7777777777777778,
              "#fb9f3a"
             ],
             [
              0.8888888888888888,
              "#fdca26"
             ],
             [
              1,
              "#f0f921"
             ]
            ],
            "type": "contour"
           }
          ],
          "contourcarpet": [
           {
            "colorbar": {
             "outlinewidth": 0,
             "ticks": ""
            },
            "type": "contourcarpet"
           }
          ],
          "heatmap": [
           {
            "colorbar": {
             "outlinewidth": 0,
             "ticks": ""
            },
            "colorscale": [
             [
              0,
              "#0d0887"
             ],
             [
              0.1111111111111111,
              "#46039f"
             ],
             [
              0.2222222222222222,
              "#7201a8"
             ],
             [
              0.3333333333333333,
              "#9c179e"
             ],
             [
              0.4444444444444444,
              "#bd3786"
             ],
             [
              0.5555555555555556,
              "#d8576b"
             ],
             [
              0.6666666666666666,
              "#ed7953"
             ],
             [
              0.7777777777777778,
              "#fb9f3a"
             ],
             [
              0.8888888888888888,
              "#fdca26"
             ],
             [
              1,
              "#f0f921"
             ]
            ],
            "type": "heatmap"
           }
          ],
          "heatmapgl": [
           {
            "colorbar": {
             "outlinewidth": 0,
             "ticks": ""
            },
            "colorscale": [
             [
              0,
              "#0d0887"
             ],
             [
              0.1111111111111111,
              "#46039f"
             ],
             [
              0.2222222222222222,
              "#7201a8"
             ],
             [
              0.3333333333333333,
              "#9c179e"
             ],
             [
              0.4444444444444444,
              "#bd3786"
             ],
             [
              0.5555555555555556,
              "#d8576b"
             ],
             [
              0.6666666666666666,
              "#ed7953"
             ],
             [
              0.7777777777777778,
              "#fb9f3a"
             ],
             [
              0.8888888888888888,
              "#fdca26"
             ],
             [
              1,
              "#f0f921"
             ]
            ],
            "type": "heatmapgl"
           }
          ],
          "histogram": [
           {
            "marker": {
             "pattern": {
              "fillmode": "overlay",
              "size": 10,
              "solidity": 0.2
             }
            },
            "type": "histogram"
           }
          ],
          "histogram2d": [
           {
            "colorbar": {
             "outlinewidth": 0,
             "ticks": ""
            },
            "colorscale": [
             [
              0,
              "#0d0887"
             ],
             [
              0.1111111111111111,
              "#46039f"
             ],
             [
              0.2222222222222222,
              "#7201a8"
             ],
             [
              0.3333333333333333,
              "#9c179e"
             ],
             [
              0.4444444444444444,
              "#bd3786"
             ],
             [
              0.5555555555555556,
              "#d8576b"
             ],
             [
              0.6666666666666666,
              "#ed7953"
             ],
             [
              0.7777777777777778,
              "#fb9f3a"
             ],
             [
              0.8888888888888888,
              "#fdca26"
             ],
             [
              1,
              "#f0f921"
             ]
            ],
            "type": "histogram2d"
           }
          ],
          "histogram2dcontour": [
           {
            "colorbar": {
             "outlinewidth": 0,
             "ticks": ""
            },
            "colorscale": [
             [
              0,
              "#0d0887"
             ],
             [
              0.1111111111111111,
              "#46039f"
             ],
             [
              0.2222222222222222,
              "#7201a8"
             ],
             [
              0.3333333333333333,
              "#9c179e"
             ],
             [
              0.4444444444444444,
              "#bd3786"
             ],
             [
              0.5555555555555556,
              "#d8576b"
             ],
             [
              0.6666666666666666,
              "#ed7953"
             ],
             [
              0.7777777777777778,
              "#fb9f3a"
             ],
             [
              0.8888888888888888,
              "#fdca26"
             ],
             [
              1,
              "#f0f921"
             ]
            ],
            "type": "histogram2dcontour"
           }
          ],
          "mesh3d": [
           {
            "colorbar": {
             "outlinewidth": 0,
             "ticks": ""
            },
            "type": "mesh3d"
           }
          ],
          "parcoords": [
           {
            "line": {
             "colorbar": {
              "outlinewidth": 0,
              "ticks": ""
             }
            },
            "type": "parcoords"
           }
          ],
          "pie": [
           {
            "automargin": true,
            "type": "pie"
           }
          ],
          "scatter": [
           {
            "fillpattern": {
             "fillmode": "overlay",
             "size": 10,
             "solidity": 0.2
            },
            "type": "scatter"
           }
          ],
          "scatter3d": [
           {
            "line": {
             "colorbar": {
              "outlinewidth": 0,
              "ticks": ""
             }
            },
            "marker": {
             "colorbar": {
              "outlinewidth": 0,
              "ticks": ""
             }
            },
            "type": "scatter3d"
           }
          ],
          "scattercarpet": [
           {
            "marker": {
             "colorbar": {
              "outlinewidth": 0,
              "ticks": ""
             }
            },
            "type": "scattercarpet"
           }
          ],
          "scattergeo": [
           {
            "marker": {
             "colorbar": {
              "outlinewidth": 0,
              "ticks": ""
             }
            },
            "type": "scattergeo"
           }
          ],
          "scattergl": [
           {
            "marker": {
             "colorbar": {
              "outlinewidth": 0,
              "ticks": ""
             }
            },
            "type": "scattergl"
           }
          ],
          "scattermapbox": [
           {
            "marker": {
             "colorbar": {
              "outlinewidth": 0,
              "ticks": ""
             }
            },
            "type": "scattermapbox"
           }
          ],
          "scatterpolar": [
           {
            "marker": {
             "colorbar": {
              "outlinewidth": 0,
              "ticks": ""
             }
            },
            "type": "scatterpolar"
           }
          ],
          "scatterpolargl": [
           {
            "marker": {
             "colorbar": {
              "outlinewidth": 0,
              "ticks": ""
             }
            },
            "type": "scatterpolargl"
           }
          ],
          "scatterternary": [
           {
            "marker": {
             "colorbar": {
              "outlinewidth": 0,
              "ticks": ""
             }
            },
            "type": "scatterternary"
           }
          ],
          "surface": [
           {
            "colorbar": {
             "outlinewidth": 0,
             "ticks": ""
            },
            "colorscale": [
             [
              0,
              "#0d0887"
             ],
             [
              0.1111111111111111,
              "#46039f"
             ],
             [
              0.2222222222222222,
              "#7201a8"
             ],
             [
              0.3333333333333333,
              "#9c179e"
             ],
             [
              0.4444444444444444,
              "#bd3786"
             ],
             [
              0.5555555555555556,
              "#d8576b"
             ],
             [
              0.6666666666666666,
              "#ed7953"
             ],
             [
              0.7777777777777778,
              "#fb9f3a"
             ],
             [
              0.8888888888888888,
              "#fdca26"
             ],
             [
              1,
              "#f0f921"
             ]
            ],
            "type": "surface"
           }
          ],
          "table": [
           {
            "cells": {
             "fill": {
              "color": "#EBF0F8"
             },
             "line": {
              "color": "white"
             }
            },
            "header": {
             "fill": {
              "color": "#C8D4E3"
             },
             "line": {
              "color": "white"
             }
            },
            "type": "table"
           }
          ]
         },
         "layout": {
          "annotationdefaults": {
           "arrowcolor": "#2a3f5f",
           "arrowhead": 0,
           "arrowwidth": 1
          },
          "autotypenumbers": "strict",
          "coloraxis": {
           "colorbar": {
            "outlinewidth": 0,
            "ticks": ""
           }
          },
          "colorscale": {
           "diverging": [
            [
             0,
             "#8e0152"
            ],
            [
             0.1,
             "#c51b7d"
            ],
            [
             0.2,
             "#de77ae"
            ],
            [
             0.3,
             "#f1b6da"
            ],
            [
             0.4,
             "#fde0ef"
            ],
            [
             0.5,
             "#f7f7f7"
            ],
            [
             0.6,
             "#e6f5d0"
            ],
            [
             0.7,
             "#b8e186"
            ],
            [
             0.8,
             "#7fbc41"
            ],
            [
             0.9,
             "#4d9221"
            ],
            [
             1,
             "#276419"
            ]
           ],
           "sequential": [
            [
             0,
             "#0d0887"
            ],
            [
             0.1111111111111111,
             "#46039f"
            ],
            [
             0.2222222222222222,
             "#7201a8"
            ],
            [
             0.3333333333333333,
             "#9c179e"
            ],
            [
             0.4444444444444444,
             "#bd3786"
            ],
            [
             0.5555555555555556,
             "#d8576b"
            ],
            [
             0.6666666666666666,
             "#ed7953"
            ],
            [
             0.7777777777777778,
             "#fb9f3a"
            ],
            [
             0.8888888888888888,
             "#fdca26"
            ],
            [
             1,
             "#f0f921"
            ]
           ],
           "sequentialminus": [
            [
             0,
             "#0d0887"
            ],
            [
             0.1111111111111111,
             "#46039f"
            ],
            [
             0.2222222222222222,
             "#7201a8"
            ],
            [
             0.3333333333333333,
             "#9c179e"
            ],
            [
             0.4444444444444444,
             "#bd3786"
            ],
            [
             0.5555555555555556,
             "#d8576b"
            ],
            [
             0.6666666666666666,
             "#ed7953"
            ],
            [
             0.7777777777777778,
             "#fb9f3a"
            ],
            [
             0.8888888888888888,
             "#fdca26"
            ],
            [
             1,
             "#f0f921"
            ]
           ]
          },
          "colorway": [
           "#636efa",
           "#EF553B",
           "#00cc96",
           "#ab63fa",
           "#FFA15A",
           "#19d3f3",
           "#FF6692",
           "#B6E880",
           "#FF97FF",
           "#FECB52"
          ],
          "font": {
           "color": "#2a3f5f"
          },
          "geo": {
           "bgcolor": "white",
           "lakecolor": "white",
           "landcolor": "#E5ECF6",
           "showlakes": true,
           "showland": true,
           "subunitcolor": "white"
          },
          "hoverlabel": {
           "align": "left"
          },
          "hovermode": "closest",
          "mapbox": {
           "style": "light"
          },
          "paper_bgcolor": "white",
          "plot_bgcolor": "#E5ECF6",
          "polar": {
           "angularaxis": {
            "gridcolor": "white",
            "linecolor": "white",
            "ticks": ""
           },
           "bgcolor": "#E5ECF6",
           "radialaxis": {
            "gridcolor": "white",
            "linecolor": "white",
            "ticks": ""
           }
          },
          "scene": {
           "xaxis": {
            "backgroundcolor": "#E5ECF6",
            "gridcolor": "white",
            "gridwidth": 2,
            "linecolor": "white",
            "showbackground": true,
            "ticks": "",
            "zerolinecolor": "white"
           },
           "yaxis": {
            "backgroundcolor": "#E5ECF6",
            "gridcolor": "white",
            "gridwidth": 2,
            "linecolor": "white",
            "showbackground": true,
            "ticks": "",
            "zerolinecolor": "white"
           },
           "zaxis": {
            "backgroundcolor": "#E5ECF6",
            "gridcolor": "white",
            "gridwidth": 2,
            "linecolor": "white",
            "showbackground": true,
            "ticks": "",
            "zerolinecolor": "white"
           }
          },
          "shapedefaults": {
           "line": {
            "color": "#2a3f5f"
           }
          },
          "ternary": {
           "aaxis": {
            "gridcolor": "white",
            "linecolor": "white",
            "ticks": ""
           },
           "baxis": {
            "gridcolor": "white",
            "linecolor": "white",
            "ticks": ""
           },
           "bgcolor": "#E5ECF6",
           "caxis": {
            "gridcolor": "white",
            "linecolor": "white",
            "ticks": ""
           }
          },
          "title": {
           "x": 0.05
          },
          "xaxis": {
           "automargin": true,
           "gridcolor": "white",
           "linecolor": "white",
           "ticks": "",
           "title": {
            "standoff": 15
           },
           "zerolinecolor": "white",
           "zerolinewidth": 2
          },
          "yaxis": {
           "automargin": true,
           "gridcolor": "white",
           "linecolor": "white",
           "ticks": "",
           "title": {
            "standoff": 15
           },
           "zerolinecolor": "white",
           "zerolinewidth": 2
          }
         }
        },
        "title": {
         "text": "Population Economically Active"
        }
       }
      }
     },
     "metadata": {},
     "output_type": "display_data"
    }
   ],
   "source": [
    "fig4 = px.pie(df.pob, hole = 0.4,\n",
    "              names = df.pob, color = df.pob,\n",
    "              title = 'Population Economically Active',\n",
    "              color_discrete_map = {'ethiopia':'#C0C0C0', \n",
    "                                    'foriegn_soil': '#FFD700', \n",
    "                                             \n",
    "             })\n",
    "fig4.update_traces(title_font = dict(size=25,family='Verdana', \n",
    "                   color='darkred'),\n",
    "                   hoverinfo='label',\n",
    "                   textinfo='percent', textfont_size=20)\n",
    "fig4.show()"
   ]
  },
  {
   "cell_type": "code",
   "execution_count": 10,
   "metadata": {},
   "outputs": [
    {
     "data": {
      "application/vnd.plotly.v1+json": {
       "config": {
        "plotlyServerURL": "https://plot.ly"
       },
       "data": [
        {
         "customdata": [
          [
           "a"
          ],
          [
           "b"
          ],
          [
           "a"
          ],
          [
           "c"
          ],
          [
           "b"
          ],
          [
           "a"
          ],
          [
           "a"
          ],
          [
           "a"
          ],
          [
           "b"
          ],
          [
           "a"
          ],
          [
           "b"
          ],
          [
           "a"
          ],
          [
           "b"
          ],
          [
           "a"
          ],
          [
           "a"
          ],
          [
           "a"
          ],
          [
           "a"
          ],
          [
           "a"
          ],
          [
           "a"
          ],
          [
           "a"
          ],
          [
           "a"
          ],
          [
           "c"
          ],
          [
           "b"
          ],
          [
           "b"
          ],
          [
           "b"
          ],
          [
           "a"
          ],
          [
           "a"
          ],
          [
           "a"
          ],
          [
           "c"
          ],
          [
           "a"
          ],
          [
           "a"
          ],
          [
           "a"
          ],
          [
           "c"
          ],
          [
           "a"
          ],
          [
           "b"
          ],
          [
           "c"
          ],
          [
           "a"
          ],
          [
           "a"
          ],
          [
           "b"
          ],
          [
           "a"
          ],
          [
           "a"
          ],
          [
           "b"
          ],
          [
           "a"
          ],
          [
           "c"
          ],
          [
           "a"
          ],
          [
           "a"
          ],
          [
           "a"
          ],
          [
           "a"
          ],
          [
           "a"
          ],
          [
           "a"
          ],
          [
           "a"
          ],
          [
           "a"
          ],
          [
           "a"
          ],
          [
           "a"
          ],
          [
           "a"
          ],
          [
           "a"
          ],
          [
           "a"
          ],
          [
           "a"
          ],
          [
           "a"
          ],
          [
           "a"
          ],
          [
           "a"
          ],
          [
           "a"
          ],
          [
           "a"
          ],
          [
           "b"
          ],
          [
           "a"
          ],
          [
           "a"
          ],
          [
           "a"
          ],
          [
           "a"
          ],
          [
           "a"
          ],
          [
           "a"
          ],
          [
           "b"
          ],
          [
           "a"
          ],
          [
           "a"
          ],
          [
           "a"
          ],
          [
           "c"
          ],
          [
           "a"
          ],
          [
           "a"
          ],
          [
           "a"
          ],
          [
           "b"
          ],
          [
           "b"
          ],
          [
           "a"
          ],
          [
           "a"
          ],
          [
           "a"
          ],
          [
           "b"
          ],
          [
           "a"
          ],
          [
           "b"
          ],
          [
           "b"
          ],
          [
           "a"
          ],
          [
           "a"
          ],
          [
           "a"
          ],
          [
           "a"
          ],
          [
           "a"
          ],
          [
           "b"
          ],
          [
           "a"
          ],
          [
           "a"
          ],
          [
           "a"
          ],
          [
           "a"
          ],
          [
           "c"
          ],
          [
           "a"
          ],
          [
           "a"
          ],
          [
           "a"
          ],
          [
           "a"
          ],
          [
           "a"
          ],
          [
           "a"
          ],
          [
           "a"
          ],
          [
           "a"
          ],
          [
           "a"
          ],
          [
           "a"
          ],
          [
           "a"
          ],
          [
           "a"
          ],
          [
           "c"
          ],
          [
           "a"
          ],
          [
           "c"
          ],
          [
           "b"
          ],
          [
           "b"
          ],
          [
           "b"
          ],
          [
           "a"
          ],
          [
           "a"
          ],
          [
           "a"
          ],
          [
           "a"
          ],
          [
           "a"
          ],
          [
           "a"
          ],
          [
           "c"
          ],
          [
           "a"
          ],
          [
           "a"
          ],
          [
           "a"
          ],
          [
           "a"
          ],
          [
           "a"
          ],
          [
           "a"
          ],
          [
           "a"
          ],
          [
           "a"
          ],
          [
           "b"
          ],
          [
           "a"
          ],
          [
           "b"
          ],
          [
           "c"
          ],
          [
           "a"
          ],
          [
           "a"
          ],
          [
           "a"
          ],
          [
           "a"
          ],
          [
           "a"
          ],
          [
           "a"
          ],
          [
           "a"
          ],
          [
           "a"
          ],
          [
           "a"
          ],
          [
           "a"
          ],
          [
           "b"
          ],
          [
           "b"
          ],
          [
           "a"
          ],
          [
           "b"
          ],
          [
           "a"
          ],
          [
           "a"
          ],
          [
           "b"
          ],
          [
           "a"
          ],
          [
           "a"
          ],
          [
           "a"
          ],
          [
           "a"
          ],
          [
           "a"
          ],
          [
           "a"
          ],
          [
           "a"
          ],
          [
           "a"
          ],
          [
           "a"
          ],
          [
           "b"
          ],
          [
           "a"
          ],
          [
           "b"
          ],
          [
           "a"
          ],
          [
           "a"
          ],
          [
           "a"
          ],
          [
           "a"
          ],
          [
           "a"
          ],
          [
           "a"
          ],
          [
           "a"
          ],
          [
           "a"
          ],
          [
           "a"
          ],
          [
           "c"
          ],
          [
           "a"
          ],
          [
           "b"
          ],
          [
           "a"
          ],
          [
           "a"
          ],
          [
           "a"
          ],
          [
           "a"
          ],
          [
           "a"
          ],
          [
           "b"
          ],
          [
           "a"
          ],
          [
           "a"
          ],
          [
           "a"
          ],
          [
           "a"
          ],
          [
           "a"
          ],
          [
           "a"
          ],
          [
           "a"
          ],
          [
           "a"
          ],
          [
           "a"
          ],
          [
           "a"
          ],
          [
           "a"
          ],
          [
           "a"
          ],
          [
           "a"
          ],
          [
           "a"
          ],
          [
           "a"
          ],
          [
           "a"
          ],
          [
           "a"
          ],
          [
           "a"
          ],
          [
           "a"
          ],
          [
           "a"
          ],
          [
           "a"
          ],
          [
           "a"
          ],
          [
           "a"
          ],
          [
           "b"
          ],
          [
           "a"
          ],
          [
           "b"
          ],
          [
           "a"
          ],
          [
           "c"
          ],
          [
           "a"
          ],
          [
           "a"
          ],
          [
           "a"
          ],
          [
           "a"
          ],
          [
           "a"
          ],
          [
           "b"
          ],
          [
           "a"
          ],
          [
           "a"
          ],
          [
           "a"
          ],
          [
           "b"
          ],
          [
           "a"
          ],
          [
           "a"
          ],
          [
           "a"
          ],
          [
           "a"
          ],
          [
           "a"
          ],
          [
           "a"
          ],
          [
           "a"
          ],
          [
           "a"
          ],
          [
           "b"
          ],
          [
           "a"
          ],
          [
           "a"
          ],
          [
           "a"
          ],
          [
           "a"
          ],
          [
           "a"
          ],
          [
           "a"
          ],
          [
           "a"
          ],
          [
           "a"
          ],
          [
           "a"
          ],
          [
           "a"
          ],
          [
           "a"
          ],
          [
           "a"
          ],
          [
           "b"
          ],
          [
           "a"
          ],
          [
           "a"
          ],
          [
           "a"
          ],
          [
           "b"
          ],
          [
           "a"
          ],
          [
           "a"
          ],
          [
           "a"
          ],
          [
           "b"
          ],
          [
           "a"
          ],
          [
           "b"
          ],
          [
           "a"
          ],
          [
           "a"
          ],
          [
           "a"
          ],
          [
           "a"
          ],
          [
           "a"
          ],
          [
           "a"
          ],
          [
           "a"
          ],
          [
           "a"
          ],
          [
           "a"
          ],
          [
           "b"
          ],
          [
           "a"
          ],
          [
           "a"
          ],
          [
           "b"
          ],
          [
           "a"
          ],
          [
           "a"
          ],
          [
           "b"
          ],
          [
           "a"
          ],
          [
           "b"
          ],
          [
           "a"
          ],
          [
           "a"
          ],
          [
           "c"
          ],
          [
           "b"
          ],
          [
           "a"
          ],
          [
           "a"
          ],
          [
           "b"
          ],
          [
           "a"
          ],
          [
           "b"
          ],
          [
           "a"
          ],
          [
           "a"
          ],
          [
           "b"
          ],
          [
           "b"
          ],
          [
           "b"
          ],
          [
           "a"
          ],
          [
           "a"
          ],
          [
           "a"
          ]
         ],
         "domain": {
          "x": [
           0,
           1
          ],
          "y": [
           0,
           1
          ]
         },
         "hole": 0.4,
         "hoverinfo": "label",
         "hovertemplate": "label=%{label}<br>color=%{customdata[0]}<extra></extra>",
         "labels": [
          "a",
          "b",
          "a",
          "c",
          "b",
          "a",
          "a",
          "a",
          "b",
          "a",
          "b",
          "a",
          "b",
          "a",
          "a",
          "a",
          "a",
          "a",
          "a",
          "a",
          "a",
          "c",
          "b",
          "b",
          "b",
          "a",
          "a",
          "a",
          "c",
          "a",
          "a",
          "a",
          "c",
          "a",
          "b",
          "c",
          "a",
          "a",
          "b",
          "a",
          "a",
          "b",
          "a",
          "c",
          "a",
          "a",
          "a",
          "a",
          "a",
          "a",
          "a",
          "a",
          "a",
          "a",
          "a",
          "a",
          "a",
          "a",
          "a",
          "a",
          "a",
          "a",
          "a",
          "b",
          "a",
          "a",
          "a",
          "a",
          "a",
          "a",
          "b",
          "a",
          "a",
          "a",
          "c",
          "a",
          "a",
          "a",
          "b",
          "b",
          "a",
          "a",
          "a",
          "b",
          "a",
          "b",
          "b",
          "a",
          "a",
          "a",
          "a",
          "a",
          "b",
          "a",
          "a",
          "a",
          "a",
          "c",
          "a",
          "a",
          "a",
          "a",
          "a",
          "a",
          "a",
          "a",
          "a",
          "a",
          "a",
          "a",
          "c",
          "a",
          "c",
          "b",
          "b",
          "b",
          "a",
          "a",
          "a",
          "a",
          "a",
          "a",
          "c",
          "a",
          "a",
          "a",
          "a",
          "a",
          "a",
          "a",
          "a",
          "b",
          "a",
          "b",
          "c",
          "a",
          "a",
          "a",
          "a",
          "a",
          "a",
          "a",
          "a",
          "a",
          "a",
          "b",
          "b",
          "a",
          "b",
          "a",
          "a",
          "b",
          "a",
          "a",
          "a",
          "a",
          "a",
          "a",
          "a",
          "a",
          "a",
          "b",
          "a",
          "b",
          "a",
          "a",
          "a",
          "a",
          "a",
          "a",
          "a",
          "a",
          "a",
          "c",
          "a",
          "b",
          "a",
          "a",
          "a",
          "a",
          "a",
          "b",
          "a",
          "a",
          "a",
          "a",
          "a",
          "a",
          "a",
          "a",
          "a",
          "a",
          "a",
          "a",
          "a",
          "a",
          "a",
          "a",
          "a",
          "a",
          "a",
          "a",
          "a",
          "a",
          "a",
          "b",
          "a",
          "b",
          "a",
          "c",
          "a",
          "a",
          "a",
          "a",
          "a",
          "b",
          "a",
          "a",
          "a",
          "b",
          "a",
          "a",
          "a",
          "a",
          "a",
          "a",
          "a",
          "a",
          "b",
          "a",
          "a",
          "a",
          "a",
          "a",
          "a",
          "a",
          "a",
          "a",
          "a",
          "a",
          "a",
          "b",
          "a",
          "a",
          "a",
          "b",
          "a",
          "a",
          "a",
          "b",
          "a",
          "b",
          "a",
          "a",
          "a",
          "a",
          "a",
          "a",
          "a",
          "a",
          "a",
          "b",
          "a",
          "a",
          "b",
          "a",
          "a",
          "b",
          "a",
          "b",
          "a",
          "a",
          "c",
          "b",
          "a",
          "a",
          "b",
          "a",
          "b",
          "a",
          "a",
          "b",
          "b",
          "b",
          "a",
          "a",
          "a"
         ],
         "legendgroup": "",
         "marker": {
          "colors": [
           "#C0C0C0",
           "#FFD700.",
           "#C0C0C0",
           "#FF2E2E",
           "#FFD700.",
           "#C0C0C0",
           "#C0C0C0",
           "#C0C0C0",
           "#FFD700.",
           "#C0C0C0",
           "#FFD700.",
           "#C0C0C0",
           "#FFD700.",
           "#C0C0C0",
           "#C0C0C0",
           "#C0C0C0",
           "#C0C0C0",
           "#C0C0C0",
           "#C0C0C0",
           "#C0C0C0",
           "#C0C0C0",
           "#FF2E2E",
           "#FFD700.",
           "#FFD700.",
           "#FFD700.",
           "#C0C0C0",
           "#C0C0C0",
           "#C0C0C0",
           "#FF2E2E",
           "#C0C0C0",
           "#C0C0C0",
           "#C0C0C0",
           "#FF2E2E",
           "#C0C0C0",
           "#FFD700.",
           "#FF2E2E",
           "#C0C0C0",
           "#C0C0C0",
           "#FFD700.",
           "#C0C0C0",
           "#C0C0C0",
           "#FFD700.",
           "#C0C0C0",
           "#FF2E2E",
           "#C0C0C0",
           "#C0C0C0",
           "#C0C0C0",
           "#C0C0C0",
           "#C0C0C0",
           "#C0C0C0",
           "#C0C0C0",
           "#C0C0C0",
           "#C0C0C0",
           "#C0C0C0",
           "#C0C0C0",
           "#C0C0C0",
           "#C0C0C0",
           "#C0C0C0",
           "#C0C0C0",
           "#C0C0C0",
           "#C0C0C0",
           "#C0C0C0",
           "#C0C0C0",
           "#FFD700.",
           "#C0C0C0",
           "#C0C0C0",
           "#C0C0C0",
           "#C0C0C0",
           "#C0C0C0",
           "#C0C0C0",
           "#FFD700.",
           "#C0C0C0",
           "#C0C0C0",
           "#C0C0C0",
           "#FF2E2E",
           "#C0C0C0",
           "#C0C0C0",
           "#C0C0C0",
           "#FFD700.",
           "#FFD700.",
           "#C0C0C0",
           "#C0C0C0",
           "#C0C0C0",
           "#FFD700.",
           "#C0C0C0",
           "#FFD700.",
           "#FFD700.",
           "#C0C0C0",
           "#C0C0C0",
           "#C0C0C0",
           "#C0C0C0",
           "#C0C0C0",
           "#FFD700.",
           "#C0C0C0",
           "#C0C0C0",
           "#C0C0C0",
           "#C0C0C0",
           "#FF2E2E",
           "#C0C0C0",
           "#C0C0C0",
           "#C0C0C0",
           "#C0C0C0",
           "#C0C0C0",
           "#C0C0C0",
           "#C0C0C0",
           "#C0C0C0",
           "#C0C0C0",
           "#C0C0C0",
           "#C0C0C0",
           "#C0C0C0",
           "#FF2E2E",
           "#C0C0C0",
           "#FF2E2E",
           "#FFD700.",
           "#FFD700.",
           "#FFD700.",
           "#C0C0C0",
           "#C0C0C0",
           "#C0C0C0",
           "#C0C0C0",
           "#C0C0C0",
           "#C0C0C0",
           "#FF2E2E",
           "#C0C0C0",
           "#C0C0C0",
           "#C0C0C0",
           "#C0C0C0",
           "#C0C0C0",
           "#C0C0C0",
           "#C0C0C0",
           "#C0C0C0",
           "#FFD700.",
           "#C0C0C0",
           "#FFD700.",
           "#FF2E2E",
           "#C0C0C0",
           "#C0C0C0",
           "#C0C0C0",
           "#C0C0C0",
           "#C0C0C0",
           "#C0C0C0",
           "#C0C0C0",
           "#C0C0C0",
           "#C0C0C0",
           "#C0C0C0",
           "#FFD700.",
           "#FFD700.",
           "#C0C0C0",
           "#FFD700.",
           "#C0C0C0",
           "#C0C0C0",
           "#FFD700.",
           "#C0C0C0",
           "#C0C0C0",
           "#C0C0C0",
           "#C0C0C0",
           "#C0C0C0",
           "#C0C0C0",
           "#C0C0C0",
           "#C0C0C0",
           "#C0C0C0",
           "#FFD700.",
           "#C0C0C0",
           "#FFD700.",
           "#C0C0C0",
           "#C0C0C0",
           "#C0C0C0",
           "#C0C0C0",
           "#C0C0C0",
           "#C0C0C0",
           "#C0C0C0",
           "#C0C0C0",
           "#C0C0C0",
           "#FF2E2E",
           "#C0C0C0",
           "#FFD700.",
           "#C0C0C0",
           "#C0C0C0",
           "#C0C0C0",
           "#C0C0C0",
           "#C0C0C0",
           "#FFD700.",
           "#C0C0C0",
           "#C0C0C0",
           "#C0C0C0",
           "#C0C0C0",
           "#C0C0C0",
           "#C0C0C0",
           "#C0C0C0",
           "#C0C0C0",
           "#C0C0C0",
           "#C0C0C0",
           "#C0C0C0",
           "#C0C0C0",
           "#C0C0C0",
           "#C0C0C0",
           "#C0C0C0",
           "#C0C0C0",
           "#C0C0C0",
           "#C0C0C0",
           "#C0C0C0",
           "#C0C0C0",
           "#C0C0C0",
           "#C0C0C0",
           "#C0C0C0",
           "#FFD700.",
           "#C0C0C0",
           "#FFD700.",
           "#C0C0C0",
           "#FF2E2E",
           "#C0C0C0",
           "#C0C0C0",
           "#C0C0C0",
           "#C0C0C0",
           "#C0C0C0",
           "#FFD700.",
           "#C0C0C0",
           "#C0C0C0",
           "#C0C0C0",
           "#FFD700.",
           "#C0C0C0",
           "#C0C0C0",
           "#C0C0C0",
           "#C0C0C0",
           "#C0C0C0",
           "#C0C0C0",
           "#C0C0C0",
           "#C0C0C0",
           "#FFD700.",
           "#C0C0C0",
           "#C0C0C0",
           "#C0C0C0",
           "#C0C0C0",
           "#C0C0C0",
           "#C0C0C0",
           "#C0C0C0",
           "#C0C0C0",
           "#C0C0C0",
           "#C0C0C0",
           "#C0C0C0",
           "#C0C0C0",
           "#FFD700.",
           "#C0C0C0",
           "#C0C0C0",
           "#C0C0C0",
           "#FFD700.",
           "#C0C0C0",
           "#C0C0C0",
           "#C0C0C0",
           "#FFD700.",
           "#C0C0C0",
           "#FFD700.",
           "#C0C0C0",
           "#C0C0C0",
           "#C0C0C0",
           "#C0C0C0",
           "#C0C0C0",
           "#C0C0C0",
           "#C0C0C0",
           "#C0C0C0",
           "#C0C0C0",
           "#FFD700.",
           "#C0C0C0",
           "#C0C0C0",
           "#FFD700.",
           "#C0C0C0",
           "#C0C0C0",
           "#FFD700.",
           "#C0C0C0",
           "#FFD700.",
           "#C0C0C0",
           "#C0C0C0",
           "#FF2E2E",
           "#FFD700.",
           "#C0C0C0",
           "#C0C0C0",
           "#FFD700.",
           "#C0C0C0",
           "#FFD700.",
           "#C0C0C0",
           "#C0C0C0",
           "#FFD700.",
           "#FFD700.",
           "#FFD700.",
           "#C0C0C0",
           "#C0C0C0",
           "#C0C0C0"
          ]
         },
         "name": "",
         "showlegend": true,
         "textfont": {
          "size": 20
         },
         "textinfo": "percent",
         "title": {
          "font": {
           "color": "darkred",
           "family": "Verdana",
           "size": 25
          }
         },
         "type": "pie"
        }
       ],
       "layout": {
        "legend": {
         "tracegroupgap": 0
        },
        "template": {
         "data": {
          "bar": [
           {
            "error_x": {
             "color": "#2a3f5f"
            },
            "error_y": {
             "color": "#2a3f5f"
            },
            "marker": {
             "line": {
              "color": "#E5ECF6",
              "width": 0.5
             },
             "pattern": {
              "fillmode": "overlay",
              "size": 10,
              "solidity": 0.2
             }
            },
            "type": "bar"
           }
          ],
          "barpolar": [
           {
            "marker": {
             "line": {
              "color": "#E5ECF6",
              "width": 0.5
             },
             "pattern": {
              "fillmode": "overlay",
              "size": 10,
              "solidity": 0.2
             }
            },
            "type": "barpolar"
           }
          ],
          "carpet": [
           {
            "aaxis": {
             "endlinecolor": "#2a3f5f",
             "gridcolor": "white",
             "linecolor": "white",
             "minorgridcolor": "white",
             "startlinecolor": "#2a3f5f"
            },
            "baxis": {
             "endlinecolor": "#2a3f5f",
             "gridcolor": "white",
             "linecolor": "white",
             "minorgridcolor": "white",
             "startlinecolor": "#2a3f5f"
            },
            "type": "carpet"
           }
          ],
          "choropleth": [
           {
            "colorbar": {
             "outlinewidth": 0,
             "ticks": ""
            },
            "type": "choropleth"
           }
          ],
          "contour": [
           {
            "colorbar": {
             "outlinewidth": 0,
             "ticks": ""
            },
            "colorscale": [
             [
              0,
              "#0d0887"
             ],
             [
              0.1111111111111111,
              "#46039f"
             ],
             [
              0.2222222222222222,
              "#7201a8"
             ],
             [
              0.3333333333333333,
              "#9c179e"
             ],
             [
              0.4444444444444444,
              "#bd3786"
             ],
             [
              0.5555555555555556,
              "#d8576b"
             ],
             [
              0.6666666666666666,
              "#ed7953"
             ],
             [
              0.7777777777777778,
              "#fb9f3a"
             ],
             [
              0.8888888888888888,
              "#fdca26"
             ],
             [
              1,
              "#f0f921"
             ]
            ],
            "type": "contour"
           }
          ],
          "contourcarpet": [
           {
            "colorbar": {
             "outlinewidth": 0,
             "ticks": ""
            },
            "type": "contourcarpet"
           }
          ],
          "heatmap": [
           {
            "colorbar": {
             "outlinewidth": 0,
             "ticks": ""
            },
            "colorscale": [
             [
              0,
              "#0d0887"
             ],
             [
              0.1111111111111111,
              "#46039f"
             ],
             [
              0.2222222222222222,
              "#7201a8"
             ],
             [
              0.3333333333333333,
              "#9c179e"
             ],
             [
              0.4444444444444444,
              "#bd3786"
             ],
             [
              0.5555555555555556,
              "#d8576b"
             ],
             [
              0.6666666666666666,
              "#ed7953"
             ],
             [
              0.7777777777777778,
              "#fb9f3a"
             ],
             [
              0.8888888888888888,
              "#fdca26"
             ],
             [
              1,
              "#f0f921"
             ]
            ],
            "type": "heatmap"
           }
          ],
          "heatmapgl": [
           {
            "colorbar": {
             "outlinewidth": 0,
             "ticks": ""
            },
            "colorscale": [
             [
              0,
              "#0d0887"
             ],
             [
              0.1111111111111111,
              "#46039f"
             ],
             [
              0.2222222222222222,
              "#7201a8"
             ],
             [
              0.3333333333333333,
              "#9c179e"
             ],
             [
              0.4444444444444444,
              "#bd3786"
             ],
             [
              0.5555555555555556,
              "#d8576b"
             ],
             [
              0.6666666666666666,
              "#ed7953"
             ],
             [
              0.7777777777777778,
              "#fb9f3a"
             ],
             [
              0.8888888888888888,
              "#fdca26"
             ],
             [
              1,
              "#f0f921"
             ]
            ],
            "type": "heatmapgl"
           }
          ],
          "histogram": [
           {
            "marker": {
             "pattern": {
              "fillmode": "overlay",
              "size": 10,
              "solidity": 0.2
             }
            },
            "type": "histogram"
           }
          ],
          "histogram2d": [
           {
            "colorbar": {
             "outlinewidth": 0,
             "ticks": ""
            },
            "colorscale": [
             [
              0,
              "#0d0887"
             ],
             [
              0.1111111111111111,
              "#46039f"
             ],
             [
              0.2222222222222222,
              "#7201a8"
             ],
             [
              0.3333333333333333,
              "#9c179e"
             ],
             [
              0.4444444444444444,
              "#bd3786"
             ],
             [
              0.5555555555555556,
              "#d8576b"
             ],
             [
              0.6666666666666666,
              "#ed7953"
             ],
             [
              0.7777777777777778,
              "#fb9f3a"
             ],
             [
              0.8888888888888888,
              "#fdca26"
             ],
             [
              1,
              "#f0f921"
             ]
            ],
            "type": "histogram2d"
           }
          ],
          "histogram2dcontour": [
           {
            "colorbar": {
             "outlinewidth": 0,
             "ticks": ""
            },
            "colorscale": [
             [
              0,
              "#0d0887"
             ],
             [
              0.1111111111111111,
              "#46039f"
             ],
             [
              0.2222222222222222,
              "#7201a8"
             ],
             [
              0.3333333333333333,
              "#9c179e"
             ],
             [
              0.4444444444444444,
              "#bd3786"
             ],
             [
              0.5555555555555556,
              "#d8576b"
             ],
             [
              0.6666666666666666,
              "#ed7953"
             ],
             [
              0.7777777777777778,
              "#fb9f3a"
             ],
             [
              0.8888888888888888,
              "#fdca26"
             ],
             [
              1,
              "#f0f921"
             ]
            ],
            "type": "histogram2dcontour"
           }
          ],
          "mesh3d": [
           {
            "colorbar": {
             "outlinewidth": 0,
             "ticks": ""
            },
            "type": "mesh3d"
           }
          ],
          "parcoords": [
           {
            "line": {
             "colorbar": {
              "outlinewidth": 0,
              "ticks": ""
             }
            },
            "type": "parcoords"
           }
          ],
          "pie": [
           {
            "automargin": true,
            "type": "pie"
           }
          ],
          "scatter": [
           {
            "fillpattern": {
             "fillmode": "overlay",
             "size": 10,
             "solidity": 0.2
            },
            "type": "scatter"
           }
          ],
          "scatter3d": [
           {
            "line": {
             "colorbar": {
              "outlinewidth": 0,
              "ticks": ""
             }
            },
            "marker": {
             "colorbar": {
              "outlinewidth": 0,
              "ticks": ""
             }
            },
            "type": "scatter3d"
           }
          ],
          "scattercarpet": [
           {
            "marker": {
             "colorbar": {
              "outlinewidth": 0,
              "ticks": ""
             }
            },
            "type": "scattercarpet"
           }
          ],
          "scattergeo": [
           {
            "marker": {
             "colorbar": {
              "outlinewidth": 0,
              "ticks": ""
             }
            },
            "type": "scattergeo"
           }
          ],
          "scattergl": [
           {
            "marker": {
             "colorbar": {
              "outlinewidth": 0,
              "ticks": ""
             }
            },
            "type": "scattergl"
           }
          ],
          "scattermapbox": [
           {
            "marker": {
             "colorbar": {
              "outlinewidth": 0,
              "ticks": ""
             }
            },
            "type": "scattermapbox"
           }
          ],
          "scatterpolar": [
           {
            "marker": {
             "colorbar": {
              "outlinewidth": 0,
              "ticks": ""
             }
            },
            "type": "scatterpolar"
           }
          ],
          "scatterpolargl": [
           {
            "marker": {
             "colorbar": {
              "outlinewidth": 0,
              "ticks": ""
             }
            },
            "type": "scatterpolargl"
           }
          ],
          "scatterternary": [
           {
            "marker": {
             "colorbar": {
              "outlinewidth": 0,
              "ticks": ""
             }
            },
            "type": "scatterternary"
           }
          ],
          "surface": [
           {
            "colorbar": {
             "outlinewidth": 0,
             "ticks": ""
            },
            "colorscale": [
             [
              0,
              "#0d0887"
             ],
             [
              0.1111111111111111,
              "#46039f"
             ],
             [
              0.2222222222222222,
              "#7201a8"
             ],
             [
              0.3333333333333333,
              "#9c179e"
             ],
             [
              0.4444444444444444,
              "#bd3786"
             ],
             [
              0.5555555555555556,
              "#d8576b"
             ],
             [
              0.6666666666666666,
              "#ed7953"
             ],
             [
              0.7777777777777778,
              "#fb9f3a"
             ],
             [
              0.8888888888888888,
              "#fdca26"
             ],
             [
              1,
              "#f0f921"
             ]
            ],
            "type": "surface"
           }
          ],
          "table": [
           {
            "cells": {
             "fill": {
              "color": "#EBF0F8"
             },
             "line": {
              "color": "white"
             }
            },
            "header": {
             "fill": {
              "color": "#C8D4E3"
             },
             "line": {
              "color": "white"
             }
            },
            "type": "table"
           }
          ]
         },
         "layout": {
          "annotationdefaults": {
           "arrowcolor": "#2a3f5f",
           "arrowhead": 0,
           "arrowwidth": 1
          },
          "autotypenumbers": "strict",
          "coloraxis": {
           "colorbar": {
            "outlinewidth": 0,
            "ticks": ""
           }
          },
          "colorscale": {
           "diverging": [
            [
             0,
             "#8e0152"
            ],
            [
             0.1,
             "#c51b7d"
            ],
            [
             0.2,
             "#de77ae"
            ],
            [
             0.3,
             "#f1b6da"
            ],
            [
             0.4,
             "#fde0ef"
            ],
            [
             0.5,
             "#f7f7f7"
            ],
            [
             0.6,
             "#e6f5d0"
            ],
            [
             0.7,
             "#b8e186"
            ],
            [
             0.8,
             "#7fbc41"
            ],
            [
             0.9,
             "#4d9221"
            ],
            [
             1,
             "#276419"
            ]
           ],
           "sequential": [
            [
             0,
             "#0d0887"
            ],
            [
             0.1111111111111111,
             "#46039f"
            ],
            [
             0.2222222222222222,
             "#7201a8"
            ],
            [
             0.3333333333333333,
             "#9c179e"
            ],
            [
             0.4444444444444444,
             "#bd3786"
            ],
            [
             0.5555555555555556,
             "#d8576b"
            ],
            [
             0.6666666666666666,
             "#ed7953"
            ],
            [
             0.7777777777777778,
             "#fb9f3a"
            ],
            [
             0.8888888888888888,
             "#fdca26"
            ],
            [
             1,
             "#f0f921"
            ]
           ],
           "sequentialminus": [
            [
             0,
             "#0d0887"
            ],
            [
             0.1111111111111111,
             "#46039f"
            ],
            [
             0.2222222222222222,
             "#7201a8"
            ],
            [
             0.3333333333333333,
             "#9c179e"
            ],
            [
             0.4444444444444444,
             "#bd3786"
            ],
            [
             0.5555555555555556,
             "#d8576b"
            ],
            [
             0.6666666666666666,
             "#ed7953"
            ],
            [
             0.7777777777777778,
             "#fb9f3a"
            ],
            [
             0.8888888888888888,
             "#fdca26"
            ],
            [
             1,
             "#f0f921"
            ]
           ]
          },
          "colorway": [
           "#636efa",
           "#EF553B",
           "#00cc96",
           "#ab63fa",
           "#FFA15A",
           "#19d3f3",
           "#FF6692",
           "#B6E880",
           "#FF97FF",
           "#FECB52"
          ],
          "font": {
           "color": "#2a3f5f"
          },
          "geo": {
           "bgcolor": "white",
           "lakecolor": "white",
           "landcolor": "#E5ECF6",
           "showlakes": true,
           "showland": true,
           "subunitcolor": "white"
          },
          "hoverlabel": {
           "align": "left"
          },
          "hovermode": "closest",
          "mapbox": {
           "style": "light"
          },
          "paper_bgcolor": "white",
          "plot_bgcolor": "#E5ECF6",
          "polar": {
           "angularaxis": {
            "gridcolor": "white",
            "linecolor": "white",
            "ticks": ""
           },
           "bgcolor": "#E5ECF6",
           "radialaxis": {
            "gridcolor": "white",
            "linecolor": "white",
            "ticks": ""
           }
          },
          "scene": {
           "xaxis": {
            "backgroundcolor": "#E5ECF6",
            "gridcolor": "white",
            "gridwidth": 2,
            "linecolor": "white",
            "showbackground": true,
            "ticks": "",
            "zerolinecolor": "white"
           },
           "yaxis": {
            "backgroundcolor": "#E5ECF6",
            "gridcolor": "white",
            "gridwidth": 2,
            "linecolor": "white",
            "showbackground": true,
            "ticks": "",
            "zerolinecolor": "white"
           },
           "zaxis": {
            "backgroundcolor": "#E5ECF6",
            "gridcolor": "white",
            "gridwidth": 2,
            "linecolor": "white",
            "showbackground": true,
            "ticks": "",
            "zerolinecolor": "white"
           }
          },
          "shapedefaults": {
           "line": {
            "color": "#2a3f5f"
           }
          },
          "ternary": {
           "aaxis": {
            "gridcolor": "white",
            "linecolor": "white",
            "ticks": ""
           },
           "baxis": {
            "gridcolor": "white",
            "linecolor": "white",
            "ticks": ""
           },
           "bgcolor": "#E5ECF6",
           "caxis": {
            "gridcolor": "white",
            "linecolor": "white",
            "ticks": ""
           }
          },
          "title": {
           "x": 0.05
          },
          "xaxis": {
           "automargin": true,
           "gridcolor": "white",
           "linecolor": "white",
           "ticks": "",
           "title": {
            "standoff": 15
           },
           "zerolinecolor": "white",
           "zerolinewidth": 2
          },
          "yaxis": {
           "automargin": true,
           "gridcolor": "white",
           "linecolor": "white",
           "ticks": "",
           "title": {
            "standoff": 15
           },
           "zerolinecolor": "white",
           "zerolinewidth": 2
          }
         }
        },
        "title": {
         "text": "Students Conduct"
        }
       }
      }
     },
     "metadata": {},
     "output_type": "display_data"
    }
   ],
   "source": [
    "fig4 = px.pie(df.conduct, hole = 0.4,\n",
    "              names = df.conduct, color = df.conduct,\n",
    "              title = 'Students Conduct',\n",
    "              color_discrete_map = {'a':'#C0C0C0', \n",
    "                                    'b': '#FFD700.', \n",
    "                                    'c': '#FF2E2E'           \n",
    "             })\n",
    "fig4.update_traces(title_font = dict(size=25,family='Verdana', \n",
    "                   color='darkred'),\n",
    "                   hoverinfo='label',\n",
    "                   textinfo='percent', textfont_size=20)\n",
    "fig4.show()"
   ]
  },
  {
   "attachments": {},
   "cell_type": "markdown",
   "metadata": {},
   "source": [
    "## Bivariate Analysis"
   ]
  },
  {
   "cell_type": "code",
   "execution_count": 11,
   "metadata": {},
   "outputs": [],
   "source": [
    "def conval(x):\n",
    "    if x == 'a':\n",
    "        return 3\n",
    "    elif x == 'b':\n",
    "        return 2\n",
    "    else:\n",
    "        return 1 \n",
    "    \n",
    "df['convalue'] = df.conduct.apply(conval)"
   ]
  },
  {
   "cell_type": "code",
   "execution_count": 12,
   "metadata": {},
   "outputs": [
    {
     "data": {
      "text/html": [
       "<div>\n",
       "<style scoped>\n",
       "    .dataframe tbody tr th:only-of-type {\n",
       "        vertical-align: middle;\n",
       "    }\n",
       "\n",
       "    .dataframe tbody tr th {\n",
       "        vertical-align: top;\n",
       "    }\n",
       "\n",
       "    .dataframe thead th {\n",
       "        text-align: right;\n",
       "    }\n",
       "</style>\n",
       "<table border=\"1\" class=\"dataframe\">\n",
       "  <thead>\n",
       "    <tr style=\"text-align: right;\">\n",
       "      <th></th>\n",
       "      <th>convalue</th>\n",
       "    </tr>\n",
       "    <tr>\n",
       "      <th>grade</th>\n",
       "      <th></th>\n",
       "    </tr>\n",
       "  </thead>\n",
       "  <tbody>\n",
       "    <tr>\n",
       "      <th>5</th>\n",
       "      <td>2.590909</td>\n",
       "    </tr>\n",
       "    <tr>\n",
       "      <th>6</th>\n",
       "      <td>2.461538</td>\n",
       "    </tr>\n",
       "    <tr>\n",
       "      <th>7</th>\n",
       "      <td>2.810811</td>\n",
       "    </tr>\n",
       "    <tr>\n",
       "      <th>8</th>\n",
       "      <td>2.633333</td>\n",
       "    </tr>\n",
       "    <tr>\n",
       "      <th>9</th>\n",
       "      <td>2.771930</td>\n",
       "    </tr>\n",
       "    <tr>\n",
       "      <th>10</th>\n",
       "      <td>2.795455</td>\n",
       "    </tr>\n",
       "    <tr>\n",
       "      <th>11</th>\n",
       "      <td>2.870968</td>\n",
       "    </tr>\n",
       "    <tr>\n",
       "      <th>12</th>\n",
       "      <td>2.650000</td>\n",
       "    </tr>\n",
       "  </tbody>\n",
       "</table>\n",
       "</div>"
      ],
      "text/plain": [
       "       convalue\n",
       "grade          \n",
       "5      2.590909\n",
       "6      2.461538\n",
       "7      2.810811\n",
       "8      2.633333\n",
       "9      2.771930\n",
       "10     2.795455\n",
       "11     2.870968\n",
       "12     2.650000"
      ]
     },
     "execution_count": 12,
     "metadata": {},
     "output_type": "execute_result"
    }
   ],
   "source": [
    "df.groupby('grade')[['convalue']].mean()"
   ]
  },
  {
   "cell_type": "code",
   "execution_count": 13,
   "metadata": {},
   "outputs": [
    {
     "data": {
      "text/plain": [
       "<AxesSubplot:xlabel='grade', ylabel='gpa'>"
      ]
     },
     "execution_count": 13,
     "metadata": {},
     "output_type": "execute_result"
    },
    {
     "data": {
      "image/png": "[encoded data removed]",
      "text/plain": [
       "<Figure size 500x380 with 1 Axes>"
      ]
     },
     "metadata": {},
     "output_type": "display_data"
    }
   ],
   "source": [
    "sns.set(rc={'figure.figsize':(5.0,3.8)})\n",
    "sns.scatterplot(df.grade, df.gpa, hue=df.gender)"
   ]
  },
  {
   "attachments": {},
   "cell_type": "markdown",
   "metadata": {},
   "source": [
    "#age perfomance gurmrsena analysis, groupy by and mean performance. do grades mewazsek. idea for bivariate."
   ]
  },
  {
   "cell_type": "code",
   "execution_count": 14,
   "metadata": {},
   "outputs": [
    {
     "data": {
      "text/html": [
       "<div>\n",
       "<style scoped>\n",
       "    .dataframe tbody tr th:only-of-type {\n",
       "        vertical-align: middle;\n",
       "    }\n",
       "\n",
       "    .dataframe tbody tr th {\n",
       "        vertical-align: top;\n",
       "    }\n",
       "\n",
       "    .dataframe thead th {\n",
       "        text-align: right;\n",
       "    }\n",
       "</style>\n",
       "<table border=\"1\" class=\"dataframe\">\n",
       "  <thead>\n",
       "    <tr style=\"text-align: right;\">\n",
       "      <th></th>\n",
       "      <th>biology</th>\n",
       "      <th>chemistry</th>\n",
       "      <th>physics</th>\n",
       "      <th>geography</th>\n",
       "      <th>history</th>\n",
       "      <th>english</th>\n",
       "      <th>maths</th>\n",
       "    </tr>\n",
       "    <tr>\n",
       "      <th>admission</th>\n",
       "      <th></th>\n",
       "      <th></th>\n",
       "      <th></th>\n",
       "      <th></th>\n",
       "      <th></th>\n",
       "      <th></th>\n",
       "      <th></th>\n",
       "    </tr>\n",
       "  </thead>\n",
       "  <tbody>\n",
       "    <tr>\n",
       "      <th>paid</th>\n",
       "      <td>82.635513</td>\n",
       "      <td>83.761311</td>\n",
       "      <td>81.309590</td>\n",
       "      <td>81.078750</td>\n",
       "      <td>83.753523</td>\n",
       "      <td>89.184256</td>\n",
       "      <td>77.801422</td>\n",
       "    </tr>\n",
       "    <tr>\n",
       "      <th>scholarship</th>\n",
       "      <td>89.216885</td>\n",
       "      <td>90.169398</td>\n",
       "      <td>85.743133</td>\n",
       "      <td>89.409565</td>\n",
       "      <td>88.324130</td>\n",
       "      <td>89.600367</td>\n",
       "      <td>86.044783</td>\n",
       "    </tr>\n",
       "  </tbody>\n",
       "</table>\n",
       "</div>"
      ],
      "text/plain": [
       "               biology  chemistry    physics  geography    history    english  \\\n",
       "admission                                                                       \n",
       "paid         82.635513  83.761311  81.309590  81.078750  83.753523  89.184256   \n",
       "scholarship  89.216885  90.169398  85.743133  89.409565  88.324130  89.600367   \n",
       "\n",
       "                 maths  \n",
       "admission               \n",
       "paid         77.801422  \n",
       "scholarship  86.044783  "
      ]
     },
     "execution_count": 14,
     "metadata": {},
     "output_type": "execute_result"
    }
   ],
   "source": [
    "df.groupby('admission')[['biology','chemistry', 'physics', 'geography', 'history', 'english', 'maths']].mean()"
   ]
  },
  {
   "cell_type": "code",
   "execution_count": 15,
   "metadata": {},
   "outputs": [
    {
     "data": {
      "text/html": [
       "<div>\n",
       "<style scoped>\n",
       "    .dataframe tbody tr th:only-of-type {\n",
       "        vertical-align: middle;\n",
       "    }\n",
       "\n",
       "    .dataframe tbody tr th {\n",
       "        vertical-align: top;\n",
       "    }\n",
       "\n",
       "    .dataframe thead th {\n",
       "        text-align: right;\n",
       "    }\n",
       "</style>\n",
       "<table border=\"1\" class=\"dataframe\">\n",
       "  <thead>\n",
       "    <tr style=\"text-align: right;\">\n",
       "      <th></th>\n",
       "      <th>biology</th>\n",
       "      <th>chemistry</th>\n",
       "      <th>physics</th>\n",
       "      <th>geography</th>\n",
       "      <th>history</th>\n",
       "      <th>english</th>\n",
       "      <th>maths</th>\n",
       "    </tr>\n",
       "    <tr>\n",
       "      <th>gender</th>\n",
       "      <th></th>\n",
       "      <th></th>\n",
       "      <th></th>\n",
       "      <th></th>\n",
       "      <th></th>\n",
       "      <th></th>\n",
       "      <th></th>\n",
       "    </tr>\n",
       "  </thead>\n",
       "  <tbody>\n",
       "    <tr>\n",
       "      <th>f</th>\n",
       "      <td>87.035522</td>\n",
       "      <td>86.781273</td>\n",
       "      <td>83.185818</td>\n",
       "      <td>82.823846</td>\n",
       "      <td>85.584000</td>\n",
       "      <td>90.362000</td>\n",
       "      <td>79.871467</td>\n",
       "    </tr>\n",
       "    <tr>\n",
       "      <th>m</th>\n",
       "      <td>84.116944</td>\n",
       "      <td>85.863158</td>\n",
       "      <td>83.010632</td>\n",
       "      <td>84.988696</td>\n",
       "      <td>85.076232</td>\n",
       "      <td>88.174188</td>\n",
       "      <td>81.070637</td>\n",
       "    </tr>\n",
       "  </tbody>\n",
       "</table>\n",
       "</div>"
      ],
      "text/plain": [
       "          biology  chemistry    physics  geography    history    english  \\\n",
       "gender                                                                     \n",
       "f       87.035522  86.781273  83.185818  82.823846  85.584000  90.362000   \n",
       "m       84.116944  85.863158  83.010632  84.988696  85.076232  88.174188   \n",
       "\n",
       "            maths  \n",
       "gender             \n",
       "f       79.871467  \n",
       "m       81.070637  "
      ]
     },
     "execution_count": 15,
     "metadata": {},
     "output_type": "execute_result"
    }
   ],
   "source": [
    "df.groupby('gender')[['biology','chemistry', 'physics', 'geography', 'history', 'english', 'maths']].mean()"
   ]
  },
  {
   "cell_type": "code",
   "execution_count": 16,
   "metadata": {},
   "outputs": [
    {
     "data": {
      "text/html": [
       "<div>\n",
       "<style scoped>\n",
       "    .dataframe tbody tr th:only-of-type {\n",
       "        vertical-align: middle;\n",
       "    }\n",
       "\n",
       "    .dataframe tbody tr th {\n",
       "        vertical-align: top;\n",
       "    }\n",
       "\n",
       "    .dataframe thead th {\n",
       "        text-align: right;\n",
       "    }\n",
       "</style>\n",
       "<table border=\"1\" class=\"dataframe\">\n",
       "  <thead>\n",
       "    <tr style=\"text-align: right;\">\n",
       "      <th></th>\n",
       "      <th>english</th>\n",
       "      <th>amharic</th>\n",
       "      <th>maths</th>\n",
       "      <th>ict</th>\n",
       "      <th>physics</th>\n",
       "    </tr>\n",
       "    <tr>\n",
       "      <th>mother_tongue</th>\n",
       "      <th></th>\n",
       "      <th></th>\n",
       "      <th></th>\n",
       "      <th></th>\n",
       "      <th></th>\n",
       "    </tr>\n",
       "  </thead>\n",
       "  <tbody>\n",
       "    <tr>\n",
       "      <th>eth-lang</th>\n",
       "      <td>89.257521</td>\n",
       "      <td>90.753126</td>\n",
       "      <td>81.412385</td>\n",
       "      <td>88.522783</td>\n",
       "      <td>83.832826</td>\n",
       "    </tr>\n",
       "    <tr>\n",
       "      <th>for-lang</th>\n",
       "      <td>89.640972</td>\n",
       "      <td>78.538591</td>\n",
       "      <td>75.235556</td>\n",
       "      <td>85.918667</td>\n",
       "      <td>76.724286</td>\n",
       "    </tr>\n",
       "  </tbody>\n",
       "</table>\n",
       "</div>"
      ],
      "text/plain": [
       "                 english    amharic      maths        ict    physics\n",
       "mother_tongue                                                       \n",
       "eth-lang       89.257521  90.753126  81.412385  88.522783  83.832826\n",
       "for-lang       89.640972  78.538591  75.235556  85.918667  76.724286"
      ]
     },
     "execution_count": 16,
     "metadata": {},
     "output_type": "execute_result"
    }
   ],
   "source": [
    "df.groupby('mother_tongue')[[ 'english', 'amharic', 'maths', 'ict', 'physics']].mean()"
   ]
  },
  {
   "cell_type": "code",
   "execution_count": 17,
   "metadata": {},
   "outputs": [
    {
     "data": {
      "text/html": [
       "<div>\n",
       "<style scoped>\n",
       "    .dataframe tbody tr th:only-of-type {\n",
       "        vertical-align: middle;\n",
       "    }\n",
       "\n",
       "    .dataframe tbody tr th {\n",
       "        vertical-align: top;\n",
       "    }\n",
       "\n",
       "    .dataframe thead th {\n",
       "        text-align: right;\n",
       "    }\n",
       "</style>\n",
       "<table border=\"1\" class=\"dataframe\">\n",
       "  <thead>\n",
       "    <tr style=\"text-align: right;\">\n",
       "      <th></th>\n",
       "      <th>biology</th>\n",
       "      <th>chemistry</th>\n",
       "      <th>physics</th>\n",
       "      <th>geography</th>\n",
       "      <th>history</th>\n",
       "      <th>english</th>\n",
       "      <th>maths</th>\n",
       "    </tr>\n",
       "    <tr>\n",
       "      <th>parenting_style</th>\n",
       "      <th></th>\n",
       "      <th></th>\n",
       "      <th></th>\n",
       "      <th></th>\n",
       "      <th></th>\n",
       "      <th></th>\n",
       "      <th></th>\n",
       "    </tr>\n",
       "  </thead>\n",
       "  <tbody>\n",
       "    <tr>\n",
       "      <th>authoritarian</th>\n",
       "      <td>82.810000</td>\n",
       "      <td>84.025676</td>\n",
       "      <td>82.640541</td>\n",
       "      <td>82.075238</td>\n",
       "      <td>82.277619</td>\n",
       "      <td>89.870072</td>\n",
       "      <td>79.125577</td>\n",
       "    </tr>\n",
       "    <tr>\n",
       "      <th>authoritative</th>\n",
       "      <td>86.238435</td>\n",
       "      <td>87.156273</td>\n",
       "      <td>83.422795</td>\n",
       "      <td>84.678208</td>\n",
       "      <td>86.453396</td>\n",
       "      <td>89.516982</td>\n",
       "      <td>81.245766</td>\n",
       "    </tr>\n",
       "    <tr>\n",
       "      <th>permissive</th>\n",
       "      <td>79.398000</td>\n",
       "      <td>81.583333</td>\n",
       "      <td>79.071667</td>\n",
       "      <td>78.328571</td>\n",
       "      <td>77.332857</td>\n",
       "      <td>83.762500</td>\n",
       "      <td>72.376438</td>\n",
       "    </tr>\n",
       "    <tr>\n",
       "      <th>uninvolved</th>\n",
       "      <td>NaN</td>\n",
       "      <td>72.330000</td>\n",
       "      <td>73.250000</td>\n",
       "      <td>NaN</td>\n",
       "      <td>NaN</td>\n",
       "      <td>83.000000</td>\n",
       "      <td>67.790000</td>\n",
       "    </tr>\n",
       "  </tbody>\n",
       "</table>\n",
       "</div>"
      ],
      "text/plain": [
       "                   biology  chemistry    physics  geography    history  \\\n",
       "parenting_style                                                          \n",
       "authoritarian    82.810000  84.025676  82.640541  82.075238  82.277619   \n",
       "authoritative    86.238435  87.156273  83.422795  84.678208  86.453396   \n",
       "permissive       79.398000  81.583333  79.071667  78.328571  77.332857   \n",
       "uninvolved             NaN  72.330000  73.250000        NaN        NaN   \n",
       "\n",
       "                   english      maths  \n",
       "parenting_style                        \n",
       "authoritarian    89.870072  79.125577  \n",
       "authoritative    89.516982  81.245766  \n",
       "permissive       83.762500  72.376438  \n",
       "uninvolved       83.000000  67.790000  "
      ]
     },
     "execution_count": 17,
     "metadata": {},
     "output_type": "execute_result"
    }
   ],
   "source": [
    "df.groupby('parenting_style')[['biology','chemistry','physics', 'geography', 'history','english','maths']].mean()"
   ]
  },
  {
   "cell_type": "code",
   "execution_count": 18,
   "metadata": {},
   "outputs": [
    {
     "data": {
      "text/plain": [
       "['english',\n",
       " 'chemistry',\n",
       " 'physics',\n",
       " 'biology',\n",
       " 'maths',\n",
       " 'ict',\n",
       " 'physics',\n",
       " 'geography',\n",
       " 'history']"
      ]
     },
     "execution_count": 18,
     "metadata": {},
     "output_type": "execute_result"
    }
   ],
   "source": [
    "[ 'english', 'chemistry','physics','biology', 'maths', 'ict', 'physics', 'geography', 'history']"
   ]
  },
  {
   "cell_type": "code",
   "execution_count": 19,
   "metadata": {},
   "outputs": [
    {
     "data": {
      "text/html": [
       "<div>\n",
       "<style scoped>\n",
       "    .dataframe tbody tr th:only-of-type {\n",
       "        vertical-align: middle;\n",
       "    }\n",
       "\n",
       "    .dataframe tbody tr th {\n",
       "        vertical-align: top;\n",
       "    }\n",
       "\n",
       "    .dataframe thead th {\n",
       "        text-align: right;\n",
       "    }\n",
       "</style>\n",
       "<table border=\"1\" class=\"dataframe\">\n",
       "  <thead>\n",
       "    <tr style=\"text-align: right;\">\n",
       "      <th></th>\n",
       "      <th>gpa</th>\n",
       "    </tr>\n",
       "    <tr>\n",
       "      <th>grade</th>\n",
       "      <th></th>\n",
       "    </tr>\n",
       "  </thead>\n",
       "  <tbody>\n",
       "    <tr>\n",
       "      <th>5</th>\n",
       "      <td>88.450000</td>\n",
       "    </tr>\n",
       "    <tr>\n",
       "      <th>6</th>\n",
       "      <td>85.865385</td>\n",
       "    </tr>\n",
       "    <tr>\n",
       "      <th>7</th>\n",
       "      <td>88.459459</td>\n",
       "    </tr>\n",
       "    <tr>\n",
       "      <th>8</th>\n",
       "      <td>89.316667</td>\n",
       "    </tr>\n",
       "    <tr>\n",
       "      <th>9</th>\n",
       "      <td>86.063158</td>\n",
       "    </tr>\n",
       "    <tr>\n",
       "      <th>10</th>\n",
       "      <td>88.686364</td>\n",
       "    </tr>\n",
       "    <tr>\n",
       "      <th>11</th>\n",
       "      <td>88.490323</td>\n",
       "    </tr>\n",
       "    <tr>\n",
       "      <th>12</th>\n",
       "      <td>84.935000</td>\n",
       "    </tr>\n",
       "  </tbody>\n",
       "</table>\n",
       "</div>"
      ],
      "text/plain": [
       "             gpa\n",
       "grade           \n",
       "5      88.450000\n",
       "6      85.865385\n",
       "7      88.459459\n",
       "8      89.316667\n",
       "9      86.063158\n",
       "10     88.686364\n",
       "11     88.490323\n",
       "12     84.935000"
      ]
     },
     "execution_count": 19,
     "metadata": {},
     "output_type": "execute_result"
    }
   ],
   "source": [
    "df.groupby('grade')[['gpa']].mean()"
   ]
  },
  {
   "cell_type": "code",
   "execution_count": 20,
   "metadata": {},
   "outputs": [
    {
     "data": {
      "text/html": [
       "<div>\n",
       "<style scoped>\n",
       "    .dataframe tbody tr th:only-of-type {\n",
       "        vertical-align: middle;\n",
       "    }\n",
       "\n",
       "    .dataframe tbody tr th {\n",
       "        vertical-align: top;\n",
       "    }\n",
       "\n",
       "    .dataframe thead th {\n",
       "        text-align: right;\n",
       "    }\n",
       "</style>\n",
       "<table border=\"1\" class=\"dataframe\">\n",
       "  <thead>\n",
       "    <tr style=\"text-align: right;\">\n",
       "      <th></th>\n",
       "      <th>age</th>\n",
       "      <th>grade</th>\n",
       "      <th>exercice</th>\n",
       "      <th>sleeping time_in_pm</th>\n",
       "      <th>trauma</th>\n",
       "      <th>quality</th>\n",
       "      <th>english</th>\n",
       "      <th>amharic</th>\n",
       "      <th>arabic</th>\n",
       "      <th>geez</th>\n",
       "      <th>ict</th>\n",
       "      <th>maths</th>\n",
       "      <th>ss</th>\n",
       "      <th>gp</th>\n",
       "      <th>is</th>\n",
       "      <th>moral</th>\n",
       "      <th>hpe</th>\n",
       "      <th>art</th>\n",
       "      <th>chemistry</th>\n",
       "      <th>physics</th>\n",
       "      <th>gpa</th>\n",
       "      <th>literature</th>\n",
       "      <th>biology</th>\n",
       "      <th>geography</th>\n",
       "      <th>history</th>\n",
       "      <th>civics</th>\n",
       "      <th>ent-ship</th>\n",
       "      <th>matrik</th>\n",
       "      <th>convalue</th>\n",
       "    </tr>\n",
       "  </thead>\n",
       "  <tbody>\n",
       "    <tr>\n",
       "      <th>count</th>\n",
       "      <td>287.000000</td>\n",
       "      <td>287.000000</td>\n",
       "      <td>287.000000</td>\n",
       "      <td>287.000000</td>\n",
       "      <td>287.000000</td>\n",
       "      <td>287.000000</td>\n",
       "      <td>287.000000</td>\n",
       "      <td>287.000000</td>\n",
       "      <td>115.000000</td>\n",
       "      <td>115.000000</td>\n",
       "      <td>287.000000</td>\n",
       "      <td>287.000000</td>\n",
       "      <td>115.000000</td>\n",
       "      <td>115.000000</td>\n",
       "      <td>115.000000</td>\n",
       "      <td>115.000000</td>\n",
       "      <td>287.000000</td>\n",
       "      <td>115.000000</td>\n",
       "      <td>205.000000</td>\n",
       "      <td>205.000000</td>\n",
       "      <td>287.000000</td>\n",
       "      <td>172.000000</td>\n",
       "      <td>139.000000</td>\n",
       "      <td>134.000000</td>\n",
       "      <td>134.000000</td>\n",
       "      <td>172.000000</td>\n",
       "      <td>134.000000</td>\n",
       "      <td>172.000000</td>\n",
       "      <td>287.000000</td>\n",
       "    </tr>\n",
       "    <tr>\n",
       "      <th>mean</th>\n",
       "      <td>14.566202</td>\n",
       "      <td>8.846690</td>\n",
       "      <td>1.818815</td>\n",
       "      <td>7.703833</td>\n",
       "      <td>0.240418</td>\n",
       "      <td>3.787456</td>\n",
       "      <td>89.317644</td>\n",
       "      <td>88.837955</td>\n",
       "      <td>92.511130</td>\n",
       "      <td>86.106261</td>\n",
       "      <td>88.114472</td>\n",
       "      <td>80.443893</td>\n",
       "      <td>81.392000</td>\n",
       "      <td>95.547391</td>\n",
       "      <td>78.558000</td>\n",
       "      <td>90.153217</td>\n",
       "      <td>92.392363</td>\n",
       "      <td>93.679825</td>\n",
       "      <td>86.355805</td>\n",
       "      <td>83.104634</td>\n",
       "      <td>87.384321</td>\n",
       "      <td>90.990000</td>\n",
       "      <td>85.523741</td>\n",
       "      <td>83.938582</td>\n",
       "      <td>85.322537</td>\n",
       "      <td>87.948012</td>\n",
       "      <td>90.227761</td>\n",
       "      <td>84.936628</td>\n",
       "      <td>2.717770</td>\n",
       "    </tr>\n",
       "    <tr>\n",
       "      <th>std</th>\n",
       "      <td>2.199207</td>\n",
       "      <td>2.119881</td>\n",
       "      <td>1.116592</td>\n",
       "      <td>1.525226</td>\n",
       "      <td>0.428084</td>\n",
       "      <td>0.651209</td>\n",
       "      <td>8.471535</td>\n",
       "      <td>13.987413</td>\n",
       "      <td>9.070721</td>\n",
       "      <td>12.020027</td>\n",
       "      <td>8.130430</td>\n",
       "      <td>11.768404</td>\n",
       "      <td>10.863401</td>\n",
       "      <td>4.131797</td>\n",
       "      <td>12.133766</td>\n",
       "      <td>7.676625</td>\n",
       "      <td>5.756875</td>\n",
       "      <td>7.660386</td>\n",
       "      <td>9.004363</td>\n",
       "      <td>9.892583</td>\n",
       "      <td>6.284257</td>\n",
       "      <td>7.611925</td>\n",
       "      <td>10.194784</td>\n",
       "      <td>8.175239</td>\n",
       "      <td>7.399203</td>\n",
       "      <td>6.376547</td>\n",
       "      <td>6.573354</td>\n",
       "      <td>7.258469</td>\n",
       "      <td>0.555139</td>\n",
       "    </tr>\n",
       "    <tr>\n",
       "      <th>min</th>\n",
       "      <td>10.000000</td>\n",
       "      <td>5.000000</td>\n",
       "      <td>0.000000</td>\n",
       "      <td>3.000000</td>\n",
       "      <td>0.000000</td>\n",
       "      <td>1.250000</td>\n",
       "      <td>61.270000</td>\n",
       "      <td>0.000000</td>\n",
       "      <td>52.370000</td>\n",
       "      <td>46.710000</td>\n",
       "      <td>41.190000</td>\n",
       "      <td>27.530000</td>\n",
       "      <td>51.300000</td>\n",
       "      <td>77.000000</td>\n",
       "      <td>38.070000</td>\n",
       "      <td>52.510000</td>\n",
       "      <td>60.250000</td>\n",
       "      <td>43.000000</td>\n",
       "      <td>44.700000</td>\n",
       "      <td>52.520000</td>\n",
       "      <td>60.900000</td>\n",
       "      <td>50.800000</td>\n",
       "      <td>59.860000</td>\n",
       "      <td>67.770000</td>\n",
       "      <td>65.050000</td>\n",
       "      <td>71.080000</td>\n",
       "      <td>54.730000</td>\n",
       "      <td>61.500000</td>\n",
       "      <td>1.000000</td>\n",
       "    </tr>\n",
       "    <tr>\n",
       "      <th>25%</th>\n",
       "      <td>13.000000</td>\n",
       "      <td>7.000000</td>\n",
       "      <td>1.000000</td>\n",
       "      <td>7.000000</td>\n",
       "      <td>0.000000</td>\n",
       "      <td>3.500000</td>\n",
       "      <td>83.780000</td>\n",
       "      <td>86.440000</td>\n",
       "      <td>89.830000</td>\n",
       "      <td>79.745000</td>\n",
       "      <td>83.620000</td>\n",
       "      <td>71.365000</td>\n",
       "      <td>76.855000</td>\n",
       "      <td>94.125000</td>\n",
       "      <td>71.820000</td>\n",
       "      <td>85.625000</td>\n",
       "      <td>89.930000</td>\n",
       "      <td>91.460000</td>\n",
       "      <td>81.240000</td>\n",
       "      <td>75.710000</td>\n",
       "      <td>83.450000</td>\n",
       "      <td>88.270000</td>\n",
       "      <td>77.785000</td>\n",
       "      <td>77.365000</td>\n",
       "      <td>81.275000</td>\n",
       "      <td>84.265000</td>\n",
       "      <td>87.082500</td>\n",
       "      <td>79.950000</td>\n",
       "      <td>3.000000</td>\n",
       "    </tr>\n",
       "    <tr>\n",
       "      <th>50%</th>\n",
       "      <td>15.000000</td>\n",
       "      <td>9.000000</td>\n",
       "      <td>2.000000</td>\n",
       "      <td>8.000000</td>\n",
       "      <td>0.000000</td>\n",
       "      <td>4.000000</td>\n",
       "      <td>91.670000</td>\n",
       "      <td>92.360000</td>\n",
       "      <td>95.230000</td>\n",
       "      <td>86.700000</td>\n",
       "      <td>89.790000</td>\n",
       "      <td>80.470000</td>\n",
       "      <td>83.290000</td>\n",
       "      <td>96.250000</td>\n",
       "      <td>80.340000</td>\n",
       "      <td>92.360000</td>\n",
       "      <td>93.570000</td>\n",
       "      <td>95.080000</td>\n",
       "      <td>88.160000</td>\n",
       "      <td>83.980000</td>\n",
       "      <td>88.400000</td>\n",
       "      <td>93.155000</td>\n",
       "      <td>86.720000</td>\n",
       "      <td>83.810000</td>\n",
       "      <td>86.215000</td>\n",
       "      <td>89.400000</td>\n",
       "      <td>91.325000</td>\n",
       "      <td>85.200000</td>\n",
       "      <td>3.000000</td>\n",
       "    </tr>\n",
       "    <tr>\n",
       "      <th>75%</th>\n",
       "      <td>16.000000</td>\n",
       "      <td>10.000000</td>\n",
       "      <td>3.000000</td>\n",
       "      <td>8.500000</td>\n",
       "      <td>0.000000</td>\n",
       "      <td>4.250000</td>\n",
       "      <td>95.780000</td>\n",
       "      <td>96.410000</td>\n",
       "      <td>99.415000</td>\n",
       "      <td>95.530000</td>\n",
       "      <td>94.190000</td>\n",
       "      <td>89.970000</td>\n",
       "      <td>88.575000</td>\n",
       "      <td>98.250000</td>\n",
       "      <td>87.155000</td>\n",
       "      <td>95.955000</td>\n",
       "      <td>96.135000</td>\n",
       "      <td>98.125000</td>\n",
       "      <td>92.500000</td>\n",
       "      <td>90.400000</td>\n",
       "      <td>92.200000</td>\n",
       "      <td>96.180000</td>\n",
       "      <td>93.810000</td>\n",
       "      <td>90.547500</td>\n",
       "      <td>90.945000</td>\n",
       "      <td>92.380000</td>\n",
       "      <td>94.447500</td>\n",
       "      <td>90.625000</td>\n",
       "      <td>3.000000</td>\n",
       "    </tr>\n",
       "    <tr>\n",
       "      <th>max</th>\n",
       "      <td>20.000000</td>\n",
       "      <td>12.000000</td>\n",
       "      <td>3.000000</td>\n",
       "      <td>12.000000</td>\n",
       "      <td>1.000000</td>\n",
       "      <td>4.500000</td>\n",
       "      <td>103.320000</td>\n",
       "      <td>150.030000</td>\n",
       "      <td>100.000000</td>\n",
       "      <td>109.010000</td>\n",
       "      <td>100.460000</td>\n",
       "      <td>100.000000</td>\n",
       "      <td>98.250000</td>\n",
       "      <td>101.650000</td>\n",
       "      <td>100.280000</td>\n",
       "      <td>104.150000</td>\n",
       "      <td>104.290000</td>\n",
       "      <td>118.500000</td>\n",
       "      <td>100.000000</td>\n",
       "      <td>101.600000</td>\n",
       "      <td>98.400000</td>\n",
       "      <td>100.000000</td>\n",
       "      <td>100.000000</td>\n",
       "      <td>100.000000</td>\n",
       "      <td>98.580000</td>\n",
       "      <td>99.570000</td>\n",
       "      <td>99.570000</td>\n",
       "      <td>98.700000</td>\n",
       "      <td>3.000000</td>\n",
       "    </tr>\n",
       "  </tbody>\n",
       "</table>\n",
       "</div>"
      ],
      "text/plain": [
       "              age       grade    exercice  sleeping time_in_pm      trauma  \\\n",
       "count  287.000000  287.000000  287.000000           287.000000  287.000000   \n",
       "mean    14.566202    8.846690    1.818815             7.703833    0.240418   \n",
       "std      2.199207    2.119881    1.116592             1.525226    0.428084   \n",
       "min     10.000000    5.000000    0.000000             3.000000    0.000000   \n",
       "25%     13.000000    7.000000    1.000000             7.000000    0.000000   \n",
       "50%     15.000000    9.000000    2.000000             8.000000    0.000000   \n",
       "75%     16.000000   10.000000    3.000000             8.500000    0.000000   \n",
       "max     20.000000   12.000000    3.000000            12.000000    1.000000   \n",
       "\n",
       "          quality     english     amharic      arabic        geez         ict  \\\n",
       "count  287.000000  287.000000  287.000000  115.000000  115.000000  287.000000   \n",
       "mean     3.787456   89.317644   88.837955   92.511130   86.106261   88.114472   \n",
       "std      0.651209    8.471535   13.987413    9.070721   12.020027    8.130430   \n",
       "min      1.250000   61.270000    0.000000   52.370000   46.710000   41.190000   \n",
       "25%      3.500000   83.780000   86.440000   89.830000   79.745000   83.620000   \n",
       "50%      4.000000   91.670000   92.360000   95.230000   86.700000   89.790000   \n",
       "75%      4.250000   95.780000   96.410000   99.415000   95.530000   94.190000   \n",
       "max      4.500000  103.320000  150.030000  100.000000  109.010000  100.460000   \n",
       "\n",
       "            maths          ss          gp          is       moral         hpe  \\\n",
       "count  287.000000  115.000000  115.000000  115.000000  115.000000  287.000000   \n",
       "mean    80.443893   81.392000   95.547391   78.558000   90.153217   92.392363   \n",
       "std     11.768404   10.863401    4.131797   12.133766    7.676625    5.756875   \n",
       "min     27.530000   51.300000   77.000000   38.070000   52.510000   60.250000   \n",
       "25%     71.365000   76.855000   94.125000   71.820000   85.625000   89.930000   \n",
       "50%     80.470000   83.290000   96.250000   80.340000   92.360000   93.570000   \n",
       "75%     89.970000   88.575000   98.250000   87.155000   95.955000   96.135000   \n",
       "max    100.000000   98.250000  101.650000  100.280000  104.150000  104.290000   \n",
       "\n",
       "              art   chemistry     physics         gpa  literature     biology  \\\n",
       "count  115.000000  205.000000  205.000000  287.000000  172.000000  139.000000   \n",
       "mean    93.679825   86.355805   83.104634   87.384321   90.990000   85.523741   \n",
       "std      7.660386    9.004363    9.892583    6.284257    7.611925   10.194784   \n",
       "min     43.000000   44.700000   52.520000   60.900000   50.800000   59.860000   \n",
       "25%     91.460000   81.240000   75.710000   83.450000   88.270000   77.785000   \n",
       "50%     95.080000   88.160000   83.980000   88.400000   93.155000   86.720000   \n",
       "75%     98.125000   92.500000   90.400000   92.200000   96.180000   93.810000   \n",
       "max    118.500000  100.000000  101.600000   98.400000  100.000000  100.000000   \n",
       "\n",
       "        geography     history      civics    ent-ship      matrik    convalue  \n",
       "count  134.000000  134.000000  172.000000  134.000000  172.000000  287.000000  \n",
       "mean    83.938582   85.322537   87.948012   90.227761   84.936628    2.717770  \n",
       "std      8.175239    7.399203    6.376547    6.573354    7.258469    0.555139  \n",
       "min     67.770000   65.050000   71.080000   54.730000   61.500000    1.000000  \n",
       "25%     77.365000   81.275000   84.265000   87.082500   79.950000    3.000000  \n",
       "50%     83.810000   86.215000   89.400000   91.325000   85.200000    3.000000  \n",
       "75%     90.547500   90.945000   92.380000   94.447500   90.625000    3.000000  \n",
       "max    100.000000   98.580000   99.570000   99.570000   98.700000    3.000000  "
      ]
     },
     "execution_count": 20,
     "metadata": {},
     "output_type": "execute_result"
    }
   ],
   "source": [
    "df.describe()"
   ]
  },
  {
   "cell_type": "code",
   "execution_count": 21,
   "metadata": {},
   "outputs": [
    {
     "data": {
      "text/html": [
       "<div>\n",
       "<style scoped>\n",
       "    .dataframe tbody tr th:only-of-type {\n",
       "        vertical-align: middle;\n",
       "    }\n",
       "\n",
       "    .dataframe tbody tr th {\n",
       "        vertical-align: top;\n",
       "    }\n",
       "\n",
       "    .dataframe thead th {\n",
       "        text-align: right;\n",
       "    }\n",
       "</style>\n",
       "<table border=\"1\" class=\"dataframe\">\n",
       "  <thead>\n",
       "    <tr style=\"text-align: right;\">\n",
       "      <th></th>\n",
       "      <th>convalue</th>\n",
       "    </tr>\n",
       "    <tr>\n",
       "      <th>grade</th>\n",
       "      <th></th>\n",
       "    </tr>\n",
       "  </thead>\n",
       "  <tbody>\n",
       "    <tr>\n",
       "      <th>5</th>\n",
       "      <td>2.590909</td>\n",
       "    </tr>\n",
       "    <tr>\n",
       "      <th>6</th>\n",
       "      <td>2.461538</td>\n",
       "    </tr>\n",
       "    <tr>\n",
       "      <th>7</th>\n",
       "      <td>2.810811</td>\n",
       "    </tr>\n",
       "    <tr>\n",
       "      <th>8</th>\n",
       "      <td>2.633333</td>\n",
       "    </tr>\n",
       "    <tr>\n",
       "      <th>9</th>\n",
       "      <td>2.771930</td>\n",
       "    </tr>\n",
       "    <tr>\n",
       "      <th>10</th>\n",
       "      <td>2.795455</td>\n",
       "    </tr>\n",
       "    <tr>\n",
       "      <th>11</th>\n",
       "      <td>2.870968</td>\n",
       "    </tr>\n",
       "    <tr>\n",
       "      <th>12</th>\n",
       "      <td>2.650000</td>\n",
       "    </tr>\n",
       "  </tbody>\n",
       "</table>\n",
       "</div>"
      ],
      "text/plain": [
       "       convalue\n",
       "grade          \n",
       "5      2.590909\n",
       "6      2.461538\n",
       "7      2.810811\n",
       "8      2.633333\n",
       "9      2.771930\n",
       "10     2.795455\n",
       "11     2.870968\n",
       "12     2.650000"
      ]
     },
     "execution_count": 21,
     "metadata": {},
     "output_type": "execute_result"
    }
   ],
   "source": [
    "df.groupby('grade')[['convalue']].mean()"
   ]
  },
  {
   "cell_type": "code",
   "execution_count": 22,
   "metadata": {},
   "outputs": [
    {
     "data": {
      "text/html": [
       "<div>\n",
       "<style scoped>\n",
       "    .dataframe tbody tr th:only-of-type {\n",
       "        vertical-align: middle;\n",
       "    }\n",
       "\n",
       "    .dataframe tbody tr th {\n",
       "        vertical-align: top;\n",
       "    }\n",
       "\n",
       "    .dataframe thead th {\n",
       "        text-align: right;\n",
       "    }\n",
       "</style>\n",
       "<table border=\"1\" class=\"dataframe\">\n",
       "  <thead>\n",
       "    <tr style=\"text-align: right;\">\n",
       "      <th></th>\n",
       "      <th>gpa</th>\n",
       "    </tr>\n",
       "    <tr>\n",
       "      <th>gender</th>\n",
       "      <th></th>\n",
       "    </tr>\n",
       "  </thead>\n",
       "  <tbody>\n",
       "    <tr>\n",
       "      <th>f</th>\n",
       "      <td>87.933333</td>\n",
       "    </tr>\n",
       "    <tr>\n",
       "      <th>m</th>\n",
       "      <td>86.783212</td>\n",
       "    </tr>\n",
       "  </tbody>\n",
       "</table>\n",
       "</div>"
      ],
      "text/plain": [
       "              gpa\n",
       "gender           \n",
       "f       87.933333\n",
       "m       86.783212"
      ]
     },
     "execution_count": 22,
     "metadata": {},
     "output_type": "execute_result"
    }
   ],
   "source": [
    "df.groupby('gender')[['gpa']].mean()"
   ]
  },
  {
   "cell_type": "code",
   "execution_count": 23,
   "metadata": {},
   "outputs": [
    {
     "data": {
      "text/html": [
       "<div>\n",
       "<style scoped>\n",
       "    .dataframe tbody tr th:only-of-type {\n",
       "        vertical-align: middle;\n",
       "    }\n",
       "\n",
       "    .dataframe tbody tr th {\n",
       "        vertical-align: top;\n",
       "    }\n",
       "\n",
       "    .dataframe thead th {\n",
       "        text-align: right;\n",
       "    }\n",
       "</style>\n",
       "<table border=\"1\" class=\"dataframe\">\n",
       "  <thead>\n",
       "    <tr style=\"text-align: right;\">\n",
       "      <th></th>\n",
       "      <th>gpa</th>\n",
       "    </tr>\n",
       "    <tr>\n",
       "      <th>level</th>\n",
       "      <th></th>\n",
       "    </tr>\n",
       "  </thead>\n",
       "  <tbody>\n",
       "    <tr>\n",
       "      <th>highschool</th>\n",
       "      <td>86.909302</td>\n",
       "    </tr>\n",
       "    <tr>\n",
       "      <th>middleschool</th>\n",
       "      <td>88.094783</td>\n",
       "    </tr>\n",
       "  </tbody>\n",
       "</table>\n",
       "</div>"
      ],
      "text/plain": [
       "                    gpa\n",
       "level                  \n",
       "highschool    86.909302\n",
       "middleschool  88.094783"
      ]
     },
     "execution_count": 23,
     "metadata": {},
     "output_type": "execute_result"
    }
   ],
   "source": [
    "df.groupby('level')[['gpa']].mean()"
   ]
  },
  {
   "cell_type": "code",
   "execution_count": 24,
   "metadata": {},
   "outputs": [
    {
     "data": {
      "text/plain": [
       "<AxesSubplot:>"
      ]
     },
     "execution_count": 24,
     "metadata": {},
     "output_type": "execute_result"
    },
    {
     "data": {
      "image/png": "[encoded data removed]",
      "text/plain": [
       "<Figure size 500x380 with 2 Axes>"
      ]
     },
     "metadata": {},
     "output_type": "display_data"
    }
   ],
   "source": [
    "dff = df[['english', 'ict', 'chemistry', 'biology', 'history', 'geography', 'physics', 'gpa']]\n",
    "correlation = dff.corr()\n",
    "sns.heatmap(correlation,xticklabels=correlation.columns,yticklabels=correlation.columns,annot=True)\n"
   ]
  },
  {
   "cell_type": "code",
   "execution_count": 25,
   "metadata": {},
   "outputs": [
    {
     "data": {
      "text/plain": [
       "<AxesSubplot:xlabel='biology', ylabel='Density'>"
      ]
     },
     "execution_count": 25,
     "metadata": {},
     "output_type": "execute_result"
    },
    {
     "data": {
      "image/png": "[encoded data removed]",
      "text/plain": [
       "<Figure size 500x380 with 1 Axes>"
      ]
     },
     "metadata": {},
     "output_type": "display_data"
    }
   ],
   "source": [
    "sns.distplot(df['biology'])"
   ]
  },
  {
   "cell_type": "code",
   "execution_count": 26,
   "metadata": {},
   "outputs": [
    {
     "data": {
      "text/html": [
       "<div>\n",
       "<style scoped>\n",
       "    .dataframe tbody tr th:only-of-type {\n",
       "        vertical-align: middle;\n",
       "    }\n",
       "\n",
       "    .dataframe tbody tr th {\n",
       "        vertical-align: top;\n",
       "    }\n",
       "\n",
       "    .dataframe thead th {\n",
       "        text-align: right;\n",
       "    }\n",
       "</style>\n",
       "<table border=\"1\" class=\"dataframe\">\n",
       "  <thead>\n",
       "    <tr style=\"text-align: right;\">\n",
       "      <th></th>\n",
       "      <th>gpa</th>\n",
       "    </tr>\n",
       "    <tr>\n",
       "      <th>level</th>\n",
       "      <th></th>\n",
       "    </tr>\n",
       "  </thead>\n",
       "  <tbody>\n",
       "    <tr>\n",
       "      <th>highschool</th>\n",
       "      <td>86.909302</td>\n",
       "    </tr>\n",
       "    <tr>\n",
       "      <th>middleschool</th>\n",
       "      <td>88.094783</td>\n",
       "    </tr>\n",
       "  </tbody>\n",
       "</table>\n",
       "</div>"
      ],
      "text/plain": [
       "                    gpa\n",
       "level                  \n",
       "highschool    86.909302\n",
       "middleschool  88.094783"
      ]
     },
     "execution_count": 26,
     "metadata": {},
     "output_type": "execute_result"
    }
   ],
   "source": [
    "df.groupby('level')[['gpa']].mean()"
   ]
  },
  {
   "cell_type": "code",
   "execution_count": 27,
   "metadata": {},
   "outputs": [
    {
     "data": {
      "application/vnd.plotly.v1+json": {
       "config": {
        "plotlyServerURL": "https://plot.ly"
       },
       "data": [
        {
         "alignmentgroup": "True",
         "bingroup": "x",
         "hovertemplate": "gender=f<br>grade=%{x}<br>count=%{y}<extra></extra>",
         "legendgroup": "f",
         "marker": {
          "color": "#FFABAB",
          "pattern": {
           "shape": ""
          }
         },
         "name": "f",
         "offsetgroup": "f",
         "orientation": "v",
         "showlegend": true,
         "type": "histogram",
         "x": [
          5,
          5,
          5,
          5,
          5,
          5,
          5,
          5,
          5,
          5,
          5,
          5,
          6,
          6,
          6,
          6,
          6,
          6,
          6,
          6,
          6,
          7,
          7,
          7,
          7,
          7,
          7,
          7,
          7,
          7,
          7,
          7,
          7,
          7,
          7,
          7,
          7,
          7,
          7,
          7,
          7,
          7,
          7,
          7,
          7,
          7,
          7,
          8,
          8,
          8,
          8,
          8,
          8,
          8,
          8,
          8,
          8,
          8,
          8,
          8,
          8,
          8,
          8,
          8,
          8,
          9,
          9,
          9,
          9,
          9,
          9,
          9,
          9,
          9,
          9,
          9,
          9,
          9,
          9,
          9,
          9,
          9,
          9,
          9,
          9,
          9,
          9,
          9,
          9,
          9,
          9,
          9,
          9,
          9,
          10,
          10,
          10,
          10,
          10,
          10,
          10,
          10,
          10,
          10,
          10,
          10,
          10,
          10,
          10,
          10,
          10,
          10,
          11,
          11,
          11,
          11,
          11,
          11,
          11,
          11,
          11,
          11,
          11,
          11,
          11,
          11,
          11,
          12,
          12,
          12,
          12,
          12,
          12,
          12,
          12,
          12,
          12,
          12,
          12,
          12,
          12,
          12,
          12,
          12,
          12,
          12,
          12,
          12,
          12,
          12
         ],
         "xaxis": "x",
         "yaxis": "y"
        },
        {
         "alignmentgroup": "True",
         "bingroup": "x",
         "hovertemplate": "gender=m<br>grade=%{x}<br>count=%{y}<extra></extra>",
         "legendgroup": "m",
         "marker": {
          "color": "#189AB4",
          "pattern": {
           "shape": ""
          }
         },
         "name": "m",
         "offsetgroup": "m",
         "orientation": "v",
         "showlegend": true,
         "type": "histogram",
         "x": [
          5,
          5,
          5,
          5,
          5,
          5,
          5,
          5,
          5,
          5,
          6,
          6,
          6,
          6,
          6,
          6,
          6,
          6,
          6,
          6,
          6,
          6,
          6,
          6,
          6,
          6,
          6,
          7,
          7,
          7,
          7,
          7,
          7,
          7,
          7,
          7,
          7,
          7,
          8,
          8,
          8,
          8,
          8,
          8,
          8,
          8,
          8,
          8,
          8,
          8,
          9,
          9,
          9,
          9,
          9,
          9,
          9,
          9,
          9,
          9,
          9,
          9,
          9,
          9,
          9,
          9,
          9,
          9,
          9,
          9,
          9,
          9,
          9,
          9,
          9,
          9,
          9,
          9,
          10,
          10,
          10,
          10,
          10,
          10,
          10,
          10,
          10,
          10,
          10,
          10,
          10,
          10,
          10,
          10,
          10,
          10,
          10,
          10,
          10,
          10,
          10,
          10,
          10,
          10,
          11,
          11,
          11,
          11,
          11,
          11,
          11,
          11,
          11,
          11,
          11,
          11,
          11,
          11,
          11,
          11,
          12,
          12,
          12,
          12,
          12,
          12,
          12,
          12,
          12,
          12,
          12,
          12,
          12,
          12,
          12,
          12,
          12
         ],
         "xaxis": "x",
         "yaxis": "y"
        }
       ],
       "layout": {
        "bargap": 0.3,
        "barmode": "group",
        "legend": {
         "title": {
          "text": "gender"
         },
         "tracegroupgap": 0
        },
        "margin": {
         "t": 60
        },
        "plot_bgcolor": "rgba(0,0,0,0)",
        "template": {
         "data": {
          "bar": [
           {
            "error_x": {
             "color": "#2a3f5f"
            },
            "error_y": {
             "color": "#2a3f5f"
            },
            "marker": {
             "line": {
              "color": "#E5ECF6",
              "width": 0.5
             },
             "pattern": {
              "fillmode": "overlay",
              "size": 10,
              "solidity": 0.2
             }
            },
            "type": "bar"
           }
          ],
          "barpolar": [
           {
            "marker": {
             "line": {
              "color": "#E5ECF6",
              "width": 0.5
             },
             "pattern": {
              "fillmode": "overlay",
              "size": 10,
              "solidity": 0.2
             }
            },
            "type": "barpolar"
           }
          ],
          "carpet": [
           {
            "aaxis": {
             "endlinecolor": "#2a3f5f",
             "gridcolor": "white",
             "linecolor": "white",
             "minorgridcolor": "white",
             "startlinecolor": "#2a3f5f"
            },
            "baxis": {
             "endlinecolor": "#2a3f5f",
             "gridcolor": "white",
             "linecolor": "white",
             "minorgridcolor": "white",
             "startlinecolor": "#2a3f5f"
            },
            "type": "carpet"
           }
          ],
          "choropleth": [
           {
            "colorbar": {
             "outlinewidth": 0,
             "ticks": ""
            },
            "type": "choropleth"
           }
          ],
          "contour": [
           {
            "colorbar": {
             "outlinewidth": 0,
             "ticks": ""
            },
            "colorscale": [
             [
              0,
              "#0d0887"
             ],
             [
              0.1111111111111111,
              "#46039f"
             ],
             [
              0.2222222222222222,
              "#7201a8"
             ],
             [
              0.3333333333333333,
              "#9c179e"
             ],
             [
              0.4444444444444444,
              "#bd3786"
             ],
             [
              0.5555555555555556,
              "#d8576b"
             ],
             [
              0.6666666666666666,
              "#ed7953"
             ],
             [
              0.7777777777777778,
              "#fb9f3a"
             ],
             [
              0.8888888888888888,
              "#fdca26"
             ],
             [
              1,
              "#f0f921"
             ]
            ],
            "type": "contour"
           }
          ],
          "contourcarpet": [
           {
            "colorbar": {
             "outlinewidth": 0,
             "ticks": ""
            },
            "type": "contourcarpet"
           }
          ],
          "heatmap": [
           {
            "colorbar": {
             "outlinewidth": 0,
             "ticks": ""
            },
            "colorscale": [
             [
              0,
              "#0d0887"
             ],
             [
              0.1111111111111111,
              "#46039f"
             ],
             [
              0.2222222222222222,
              "#7201a8"
             ],
             [
              0.3333333333333333,
              "#9c179e"
             ],
             [
              0.4444444444444444,
              "#bd3786"
             ],
             [
              0.5555555555555556,
              "#d8576b"
             ],
             [
              0.6666666666666666,
              "#ed7953"
             ],
             [
              0.7777777777777778,
              "#fb9f3a"
             ],
             [
              0.8888888888888888,
              "#fdca26"
             ],
             [
              1,
              "#f0f921"
             ]
            ],
            "type": "heatmap"
           }
          ],
          "heatmapgl": [
           {
            "colorbar": {
             "outlinewidth": 0,
             "ticks": ""
            },
            "colorscale": [
             [
              0,
              "#0d0887"
             ],
             [
              0.1111111111111111,
              "#46039f"
             ],
             [
              0.2222222222222222,
              "#7201a8"
             ],
             [
              0.3333333333333333,
              "#9c179e"
             ],
             [
              0.4444444444444444,
              "#bd3786"
             ],
             [
              0.5555555555555556,
              "#d8576b"
             ],
             [
              0.6666666666666666,
              "#ed7953"
             ],
             [
              0.7777777777777778,
              "#fb9f3a"
             ],
             [
              0.8888888888888888,
              "#fdca26"
             ],
             [
              1,
              "#f0f921"
             ]
            ],
            "type": "heatmapgl"
           }
          ],
          "histogram": [
           {
            "marker": {
             "pattern": {
              "fillmode": "overlay",
              "size": 10,
              "solidity": 0.2
             }
            },
            "type": "histogram"
           }
          ],
          "histogram2d": [
           {
            "colorbar": {
             "outlinewidth": 0,
             "ticks": ""
            },
            "colorscale": [
             [
              0,
              "#0d0887"
             ],
             [
              0.1111111111111111,
              "#46039f"
             ],
             [
              0.2222222222222222,
              "#7201a8"
             ],
             [
              0.3333333333333333,
              "#9c179e"
             ],
             [
              0.4444444444444444,
              "#bd3786"
             ],
             [
              0.5555555555555556,
              "#d8576b"
             ],
             [
              0.6666666666666666,
              "#ed7953"
             ],
             [
              0.7777777777777778,
              "#fb9f3a"
             ],
             [
              0.8888888888888888,
              "#fdca26"
             ],
             [
              1,
              "#f0f921"
             ]
            ],
            "type": "histogram2d"
           }
          ],
          "histogram2dcontour": [
           {
            "colorbar": {
             "outlinewidth": 0,
             "ticks": ""
            },
            "colorscale": [
             [
              0,
              "#0d0887"
             ],
             [
              0.1111111111111111,
              "#46039f"
             ],
             [
              0.2222222222222222,
              "#7201a8"
             ],
             [
              0.3333333333333333,
              "#9c179e"
             ],
             [
              0.4444444444444444,
              "#bd3786"
             ],
             [
              0.5555555555555556,
              "#d8576b"
             ],
             [
              0.6666666666666666,
              "#ed7953"
             ],
             [
              0.7777777777777778,
              "#fb9f3a"
             ],
             [
              0.8888888888888888,
              "#fdca26"
             ],
             [
              1,
              "#f0f921"
             ]
            ],
            "type": "histogram2dcontour"
           }
          ],
          "mesh3d": [
           {
            "colorbar": {
             "outlinewidth": 0,
             "ticks": ""
            },
            "type": "mesh3d"
           }
          ],
          "parcoords": [
           {
            "line": {
             "colorbar": {
              "outlinewidth": 0,
              "ticks": ""
             }
            },
            "type": "parcoords"
           }
          ],
          "pie": [
           {
            "automargin": true,
            "type": "pie"
           }
          ],
          "scatter": [
           {
            "fillpattern": {
             "fillmode": "overlay",
             "size": 10,
             "solidity": 0.2
            },
            "type": "scatter"
           }
          ],
          "scatter3d": [
           {
            "line": {
             "colorbar": {
              "outlinewidth": 0,
              "ticks": ""
             }
            },
            "marker": {
             "colorbar": {
              "outlinewidth": 0,
              "ticks": ""
             }
            },
            "type": "scatter3d"
           }
          ],
          "scattercarpet": [
           {
            "marker": {
             "colorbar": {
              "outlinewidth": 0,
              "ticks": ""
             }
            },
            "type": "scattercarpet"
           }
          ],
          "scattergeo": [
           {
            "marker": {
             "colorbar": {
              "outlinewidth": 0,
              "ticks": ""
             }
            },
            "type": "scattergeo"
           }
          ],
          "scattergl": [
           {
            "marker": {
             "colorbar": {
              "outlinewidth": 0,
              "ticks": ""
             }
            },
            "type": "scattergl"
           }
          ],
          "scattermapbox": [
           {
            "marker": {
             "colorbar": {
              "outlinewidth": 0,
              "ticks": ""
             }
            },
            "type": "scattermapbox"
           }
          ],
          "scatterpolar": [
           {
            "marker": {
             "colorbar": {
              "outlinewidth": 0,
              "ticks": ""
             }
            },
            "type": "scatterpolar"
           }
          ],
          "scatterpolargl": [
           {
            "marker": {
             "colorbar": {
              "outlinewidth": 0,
              "ticks": ""
             }
            },
            "type": "scatterpolargl"
           }
          ],
          "scatterternary": [
           {
            "marker": {
             "colorbar": {
              "outlinewidth": 0,
              "ticks": ""
             }
            },
            "type": "scatterternary"
           }
          ],
          "surface": [
           {
            "colorbar": {
             "outlinewidth": 0,
             "ticks": ""
            },
            "colorscale": [
             [
              0,
              "#0d0887"
             ],
             [
              0.1111111111111111,
              "#46039f"
             ],
             [
              0.2222222222222222,
              "#7201a8"
             ],
             [
              0.3333333333333333,
              "#9c179e"
             ],
             [
              0.4444444444444444,
              "#bd3786"
             ],
             [
              0.5555555555555556,
              "#d8576b"
             ],
             [
              0.6666666666666666,
              "#ed7953"
             ],
             [
              0.7777777777777778,
              "#fb9f3a"
             ],
             [
              0.8888888888888888,
              "#fdca26"
             ],
             [
              1,
              "#f0f921"
             ]
            ],
            "type": "surface"
           }
          ],
          "table": [
           {
            "cells": {
             "fill": {
              "color": "#EBF0F8"
             },
             "line": {
              "color": "white"
             }
            },
            "header": {
             "fill": {
              "color": "#C8D4E3"
             },
             "line": {
              "color": "white"
             }
            },
            "type": "table"
           }
          ]
         },
         "layout": {
          "annotationdefaults": {
           "arrowcolor": "#2a3f5f",
           "arrowhead": 0,
           "arrowwidth": 1
          },
          "autotypenumbers": "strict",
          "coloraxis": {
           "colorbar": {
            "outlinewidth": 0,
            "ticks": ""
           }
          },
          "colorscale": {
           "diverging": [
            [
             0,
             "#8e0152"
            ],
            [
             0.1,
             "#c51b7d"
            ],
            [
             0.2,
             "#de77ae"
            ],
            [
             0.3,
             "#f1b6da"
            ],
            [
             0.4,
             "#fde0ef"
            ],
            [
             0.5,
             "#f7f7f7"
            ],
            [
             0.6,
             "#e6f5d0"
            ],
            [
             0.7,
             "#b8e186"
            ],
            [
             0.8,
             "#7fbc41"
            ],
            [
             0.9,
             "#4d9221"
            ],
            [
             1,
             "#276419"
            ]
           ],
           "sequential": [
            [
             0,
             "#0d0887"
            ],
            [
             0.1111111111111111,
             "#46039f"
            ],
            [
             0.2222222222222222,
             "#7201a8"
            ],
            [
             0.3333333333333333,
             "#9c179e"
            ],
            [
             0.4444444444444444,
             "#bd3786"
            ],
            [
             0.5555555555555556,
             "#d8576b"
            ],
            [
             0.6666666666666666,
             "#ed7953"
            ],
            [
             0.7777777777777778,
             "#fb9f3a"
            ],
            [
             0.8888888888888888,
             "#fdca26"
            ],
            [
             1,
             "#f0f921"
            ]
           ],
           "sequentialminus": [
            [
             0,
             "#0d0887"
            ],
            [
             0.1111111111111111,
             "#46039f"
            ],
            [
             0.2222222222222222,
             "#7201a8"
            ],
            [
             0.3333333333333333,
             "#9c179e"
            ],
            [
             0.4444444444444444,
             "#bd3786"
            ],
            [
             0.5555555555555556,
             "#d8576b"
            ],
            [
             0.6666666666666666,
             "#ed7953"
            ],
            [
             0.7777777777777778,
             "#fb9f3a"
            ],
            [
             0.8888888888888888,
             "#fdca26"
            ],
            [
             1,
             "#f0f921"
            ]
           ]
          },
          "colorway": [
           "#636efa",
           "#EF553B",
           "#00cc96",
           "#ab63fa",
           "#FFA15A",
           "#19d3f3",
           "#FF6692",
           "#B6E880",
           "#FF97FF",
           "#FECB52"
          ],
          "font": {
           "color": "#2a3f5f"
          },
          "geo": {
           "bgcolor": "white",
           "lakecolor": "white",
           "landcolor": "#E5ECF6",
           "showlakes": true,
           "showland": true,
           "subunitcolor": "white"
          },
          "hoverlabel": {
           "align": "left"
          },
          "hovermode": "closest",
          "mapbox": {
           "style": "light"
          },
          "paper_bgcolor": "white",
          "plot_bgcolor": "#E5ECF6",
          "polar": {
           "angularaxis": {
            "gridcolor": "white",
            "linecolor": "white",
            "ticks": ""
           },
           "bgcolor": "#E5ECF6",
           "radialaxis": {
            "gridcolor": "white",
            "linecolor": "white",
            "ticks": ""
           }
          },
          "scene": {
           "xaxis": {
            "backgroundcolor": "#E5ECF6",
            "gridcolor": "white",
            "gridwidth": 2,
            "linecolor": "white",
            "showbackground": true,
            "ticks": "",
            "zerolinecolor": "white"
           },
           "yaxis": {
            "backgroundcolor": "#E5ECF6",
            "gridcolor": "white",
            "gridwidth": 2,
            "linecolor": "white",
            "showbackground": true,
            "ticks": "",
            "zerolinecolor": "white"
           },
           "zaxis": {
            "backgroundcolor": "#E5ECF6",
            "gridcolor": "white",
            "gridwidth": 2,
            "linecolor": "white",
            "showbackground": true,
            "ticks": "",
            "zerolinecolor": "white"
           }
          },
          "shapedefaults": {
           "line": {
            "color": "#2a3f5f"
           }
          },
          "ternary": {
           "aaxis": {
            "gridcolor": "white",
            "linecolor": "white",
            "ticks": ""
           },
           "baxis": {
            "gridcolor": "white",
            "linecolor": "white",
            "ticks": ""
           },
           "bgcolor": "#E5ECF6",
           "caxis": {
            "gridcolor": "white",
            "linecolor": "white",
            "ticks": ""
           }
          },
          "title": {
           "x": 0.05
          },
          "xaxis": {
           "automargin": true,
           "gridcolor": "white",
           "linecolor": "white",
           "ticks": "",
           "title": {
            "standoff": 15
           },
           "zerolinecolor": "white",
           "zerolinewidth": 2
          },
          "yaxis": {
           "automargin": true,
           "gridcolor": "white",
           "linecolor": "white",
           "ticks": "",
           "title": {
            "standoff": 15
           },
           "zerolinecolor": "white",
           "zerolinewidth": 2
          }
         }
        },
        "xaxis": {
         "anchor": "y",
         "domain": [
          0,
          1
         ],
         "title": {
          "text": "grade"
         }
        },
        "yaxis": {
         "anchor": "x",
         "domain": [
          0,
          1
         ],
         "title": {
          "text": "count"
         }
        }
       }
      }
     },
     "metadata": {},
     "output_type": "display_data"
    }
   ],
   "source": [
    "fig = px.histogram(df, x=\"grade\", color=\"gender\", barmode='group', color_discrete_map={\n",
    "            'm' : '#189AB4', 'f' : '#FFABAB'\n",
    "    },)\n",
    " \n",
    "fig.update_layout(plot_bgcolor=\"rgba(0,0,0,0)\", bargap=0.3)"
   ]
  },
  {
   "cell_type": "code",
   "execution_count": null,
   "metadata": {},
   "outputs": [],
   "source": []
  },
  {
   "cell_type": "code",
   "execution_count": 28,
   "metadata": {},
   "outputs": [],
   "source": [
    "v = df.groupby('grade')[['chemistry']].mean()\n",
    "xx = pd.DataFrame(v.index.to_list() , columns=['grade'])\n",
    "xx['gpa'] = v.values\n",
    "xxx = xx[xx['grade'] > 6 ]\n",
    "\n",
    "def lev(x):\n",
    "    if x > 8:\n",
    "        return 'high school'\n",
    "    else:\n",
    "        return 'middle school'\n",
    "\n",
    "xxx['level'] = xxx.grade.apply(lev)\n",
    "\n"
   ]
  },
  {
   "cell_type": "code",
   "execution_count": 29,
   "metadata": {},
   "outputs": [
    {
     "data": {
      "text/html": [
       "<div>\n",
       "<style scoped>\n",
       "    .dataframe tbody tr th:only-of-type {\n",
       "        vertical-align: middle;\n",
       "    }\n",
       "\n",
       "    .dataframe tbody tr th {\n",
       "        vertical-align: top;\n",
       "    }\n",
       "\n",
       "    .dataframe thead th {\n",
       "        text-align: right;\n",
       "    }\n",
       "</style>\n",
       "<table border=\"1\" class=\"dataframe\">\n",
       "  <thead>\n",
       "    <tr style=\"text-align: right;\">\n",
       "      <th></th>\n",
       "      <th>grade</th>\n",
       "      <th>gpa</th>\n",
       "      <th>level</th>\n",
       "    </tr>\n",
       "  </thead>\n",
       "  <tbody>\n",
       "    <tr>\n",
       "      <th>2</th>\n",
       "      <td>7</td>\n",
       "      <td>88.319459</td>\n",
       "      <td>middle school</td>\n",
       "    </tr>\n",
       "    <tr>\n",
       "      <th>3</th>\n",
       "      <td>8</td>\n",
       "      <td>86.031724</td>\n",
       "      <td>middle school</td>\n",
       "    </tr>\n",
       "    <tr>\n",
       "      <th>4</th>\n",
       "      <td>9</td>\n",
       "      <td>81.251754</td>\n",
       "      <td>high school</td>\n",
       "    </tr>\n",
       "    <tr>\n",
       "      <th>5</th>\n",
       "      <td>10</td>\n",
       "      <td>87.933182</td>\n",
       "      <td>high school</td>\n",
       "    </tr>\n",
       "    <tr>\n",
       "      <th>6</th>\n",
       "      <td>11</td>\n",
       "      <td>95.480833</td>\n",
       "      <td>high school</td>\n",
       "    </tr>\n",
       "    <tr>\n",
       "      <th>7</th>\n",
       "      <td>12</td>\n",
       "      <td>88.231538</td>\n",
       "      <td>high school</td>\n",
       "    </tr>\n",
       "  </tbody>\n",
       "</table>\n",
       "</div>"
      ],
      "text/plain": [
       "   grade        gpa          level\n",
       "2      7  88.319459  middle school\n",
       "3      8  86.031724  middle school\n",
       "4      9  81.251754    high school\n",
       "5     10  87.933182    high school\n",
       "6     11  95.480833    high school\n",
       "7     12  88.231538    high school"
      ]
     },
     "execution_count": 29,
     "metadata": {},
     "output_type": "execute_result"
    }
   ],
   "source": [
    "xxx\n"
   ]
  },
  {
   "cell_type": "code",
   "execution_count": 34,
   "metadata": {},
   "outputs": [
    {
     "data": {
      "application/vnd.plotly.v1+json": {
       "config": {
        "plotlyServerURL": "https://plot.ly"
       },
       "data": [
        {
         "hovertemplate": "grade=%{marker.size}<br>gpa=%{marker.color}<extra></extra>",
         "legendgroup": "",
         "marker": {
          "color": [
           88.31945945945947,
           86.03172413793104,
           81.25175438596492,
           87.93318181818182,
           95.48083333333334,
           88.23153846153846
          ],
          "coloraxis": "coloraxis",
          "size": [
           7,
           8,
           9,
           10,
           11,
           12
          ],
          "sizemode": "area",
          "sizeref": 0.03,
          "symbol": "circle"
         },
         "mode": "markers",
         "name": "",
         "orientation": "v",
         "showlegend": false,
         "type": "scatter",
         "x": [
          7,
          8,
          9,
          10,
          11,
          12
         ],
         "xaxis": "x",
         "y": [
          88.31945945945947,
          86.03172413793104,
          81.25175438596492,
          87.93318181818182,
          95.48083333333334,
          88.23153846153846
         ],
         "yaxis": "y"
        }
       ],
       "layout": {
        "coloraxis": {
         "colorbar": {
          "title": {
           "text": "gpa"
          }
         },
         "colorscale": [
          [
           0,
           "rgb(255,0,0)"
          ],
          [
           1,
           "rgb(0,0,255)"
          ]
         ]
        },
        "height": 500,
        "legend": {
         "itemsizing": "constant",
         "tracegroupgap": 0
        },
        "margin": {
         "t": 60
        },
        "paper_bgcolor": "rgba(0, 0, 0, 0)",
        "plot_bgcolor": "rgba(0,0,0,0)",
        "template": {
         "data": {
          "bar": [
           {
            "error_x": {
             "color": "#2a3f5f"
            },
            "error_y": {
             "color": "#2a3f5f"
            },
            "marker": {
             "line": {
              "color": "#E5ECF6",
              "width": 0.5
             },
             "pattern": {
              "fillmode": "overlay",
              "size": 10,
              "solidity": 0.2
             }
            },
            "type": "bar"
           }
          ],
          "barpolar": [
           {
            "marker": {
             "line": {
              "color": "#E5ECF6",
              "width": 0.5
             },
             "pattern": {
              "fillmode": "overlay",
              "size": 10,
              "solidity": 0.2
             }
            },
            "type": "barpolar"
           }
          ],
          "carpet": [
           {
            "aaxis": {
             "endlinecolor": "#2a3f5f",
             "gridcolor": "white",
             "linecolor": "white",
             "minorgridcolor": "white",
             "startlinecolor": "#2a3f5f"
            },
            "baxis": {
             "endlinecolor": "#2a3f5f",
             "gridcolor": "white",
             "linecolor": "white",
             "minorgridcolor": "white",
             "startlinecolor": "#2a3f5f"
            },
            "type": "carpet"
           }
          ],
          "choropleth": [
           {
            "colorbar": {
             "outlinewidth": 0,
             "ticks": ""
            },
            "type": "choropleth"
           }
          ],
          "contour": [
           {
            "colorbar": {
             "outlinewidth": 0,
             "ticks": ""
            },
            "colorscale": [
             [
              0,
              "#0d0887"
             ],
             [
              0.1111111111111111,
              "#46039f"
             ],
             [
              0.2222222222222222,
              "#7201a8"
             ],
             [
              0.3333333333333333,
              "#9c179e"
             ],
             [
              0.4444444444444444,
              "#bd3786"
             ],
             [
              0.5555555555555556,
              "#d8576b"
             ],
             [
              0.6666666666666666,
              "#ed7953"
             ],
             [
              0.7777777777777778,
              "#fb9f3a"
             ],
             [
              0.8888888888888888,
              "#fdca26"
             ],
             [
              1,
              "#f0f921"
             ]
            ],
            "type": "contour"
           }
          ],
          "contourcarpet": [
           {
            "colorbar": {
             "outlinewidth": 0,
             "ticks": ""
            },
            "type": "contourcarpet"
           }
          ],
          "heatmap": [
           {
            "colorbar": {
             "outlinewidth": 0,
             "ticks": ""
            },
            "colorscale": [
             [
              0,
              "#0d0887"
             ],
             [
              0.1111111111111111,
              "#46039f"
             ],
             [
              0.2222222222222222,
              "#7201a8"
             ],
             [
              0.3333333333333333,
              "#9c179e"
             ],
             [
              0.4444444444444444,
              "#bd3786"
             ],
             [
              0.5555555555555556,
              "#d8576b"
             ],
             [
              0.6666666666666666,
              "#ed7953"
             ],
             [
              0.7777777777777778,
              "#fb9f3a"
             ],
             [
              0.8888888888888888,
              "#fdca26"
             ],
             [
              1,
              "#f0f921"
             ]
            ],
            "type": "heatmap"
           }
          ],
          "heatmapgl": [
           {
            "colorbar": {
             "outlinewidth": 0,
             "ticks": ""
            },
            "colorscale": [
             [
              0,
              "#0d0887"
             ],
             [
              0.1111111111111111,
              "#46039f"
             ],
             [
              0.2222222222222222,
              "#7201a8"
             ],
             [
              0.3333333333333333,
              "#9c179e"
             ],
             [
              0.4444444444444444,
              "#bd3786"
             ],
             [
              0.5555555555555556,
              "#d8576b"
             ],
             [
              0.6666666666666666,
              "#ed7953"
             ],
             [
              0.7777777777777778,
              "#fb9f3a"
             ],
             [
              0.8888888888888888,
              "#fdca26"
             ],
             [
              1,
              "#f0f921"
             ]
            ],
            "type": "heatmapgl"
           }
          ],
          "histogram": [
           {
            "marker": {
             "pattern": {
              "fillmode": "overlay",
              "size": 10,
              "solidity": 0.2
             }
            },
            "type": "histogram"
           }
          ],
          "histogram2d": [
           {
            "colorbar": {
             "outlinewidth": 0,
             "ticks": ""
            },
            "colorscale": [
             [
              0,
              "#0d0887"
             ],
             [
              0.1111111111111111,
              "#46039f"
             ],
             [
              0.2222222222222222,
              "#7201a8"
             ],
             [
              0.3333333333333333,
              "#9c179e"
             ],
             [
              0.4444444444444444,
              "#bd3786"
             ],
             [
              0.5555555555555556,
              "#d8576b"
             ],
             [
              0.6666666666666666,
              "#ed7953"
             ],
             [
              0.7777777777777778,
              "#fb9f3a"
             ],
             [
              0.8888888888888888,
              "#fdca26"
             ],
             [
              1,
              "#f0f921"
             ]
            ],
            "type": "histogram2d"
           }
          ],
          "histogram2dcontour": [
           {
            "colorbar": {
             "outlinewidth": 0,
             "ticks": ""
            },
            "colorscale": [
             [
              0,
              "#0d0887"
             ],
             [
              0.1111111111111111,
              "#46039f"
             ],
             [
              0.2222222222222222,
              "#7201a8"
             ],
             [
              0.3333333333333333,
              "#9c179e"
             ],
             [
              0.4444444444444444,
              "#bd3786"
             ],
             [
              0.5555555555555556,
              "#d8576b"
             ],
             [
              0.6666666666666666,
              "#ed7953"
             ],
             [
              0.7777777777777778,
              "#fb9f3a"
             ],
             [
              0.8888888888888888,
              "#fdca26"
             ],
             [
              1,
              "#f0f921"
             ]
            ],
            "type": "histogram2dcontour"
           }
          ],
          "mesh3d": [
           {
            "colorbar": {
             "outlinewidth": 0,
             "ticks": ""
            },
            "type": "mesh3d"
           }
          ],
          "parcoords": [
           {
            "line": {
             "colorbar": {
              "outlinewidth": 0,
              "ticks": ""
             }
            },
            "type": "parcoords"
           }
          ],
          "pie": [
           {
            "automargin": true,
            "type": "pie"
           }
          ],
          "scatter": [
           {
            "fillpattern": {
             "fillmode": "overlay",
             "size": 10,
             "solidity": 0.2
            },
            "type": "scatter"
           }
          ],
          "scatter3d": [
           {
            "line": {
             "colorbar": {
              "outlinewidth": 0,
              "ticks": ""
             }
            },
            "marker": {
             "colorbar": {
              "outlinewidth": 0,
              "ticks": ""
             }
            },
            "type": "scatter3d"
           }
          ],
          "scattercarpet": [
           {
            "marker": {
             "colorbar": {
              "outlinewidth": 0,
              "ticks": ""
             }
            },
            "type": "scattercarpet"
           }
          ],
          "scattergeo": [
           {
            "marker": {
             "colorbar": {
              "outlinewidth": 0,
              "ticks": ""
             }
            },
            "type": "scattergeo"
           }
          ],
          "scattergl": [
           {
            "marker": {
             "colorbar": {
              "outlinewidth": 0,
              "ticks": ""
             }
            },
            "type": "scattergl"
           }
          ],
          "scattermapbox": [
           {
            "marker": {
             "colorbar": {
              "outlinewidth": 0,
              "ticks": ""
             }
            },
            "type": "scattermapbox"
           }
          ],
          "scatterpolar": [
           {
            "marker": {
             "colorbar": {
              "outlinewidth": 0,
              "ticks": ""
             }
            },
            "type": "scatterpolar"
           }
          ],
          "scatterpolargl": [
           {
            "marker": {
             "colorbar": {
              "outlinewidth": 0,
              "ticks": ""
             }
            },
            "type": "scatterpolargl"
           }
          ],
          "scatterternary": [
           {
            "marker": {
             "colorbar": {
              "outlinewidth": 0,
              "ticks": ""
             }
            },
            "type": "scatterternary"
           }
          ],
          "surface": [
           {
            "colorbar": {
             "outlinewidth": 0,
             "ticks": ""
            },
            "colorscale": [
             [
              0,
              "#0d0887"
             ],
             [
              0.1111111111111111,
              "#46039f"
             ],
             [
              0.2222222222222222,
              "#7201a8"
             ],
             [
              0.3333333333333333,
              "#9c179e"
             ],
             [
              0.4444444444444444,
              "#bd3786"
             ],
             [
              0.5555555555555556,
              "#d8576b"
             ],
             [
              0.6666666666666666,
              "#ed7953"
             ],
             [
              0.7777777777777778,
              "#fb9f3a"
             ],
             [
              0.8888888888888888,
              "#fdca26"
             ],
             [
              1,
              "#f0f921"
             ]
            ],
            "type": "surface"
           }
          ],
          "table": [
           {
            "cells": {
             "fill": {
              "color": "#EBF0F8"
             },
             "line": {
              "color": "white"
             }
            },
            "header": {
             "fill": {
              "color": "#C8D4E3"
             },
             "line": {
              "color": "white"
             }
            },
            "type": "table"
           }
          ]
         },
         "layout": {
          "annotationdefaults": {
           "arrowcolor": "#2a3f5f",
           "arrowhead": 0,
           "arrowwidth": 1
          },
          "autotypenumbers": "strict",
          "coloraxis": {
           "colorbar": {
            "outlinewidth": 0,
            "ticks": ""
           }
          },
          "colorscale": {
           "diverging": [
            [
             0,
             "#8e0152"
            ],
            [
             0.1,
             "#c51b7d"
            ],
            [
             0.2,
             "#de77ae"
            ],
            [
             0.3,
             "#f1b6da"
            ],
            [
             0.4,
             "#fde0ef"
            ],
            [
             0.5,
             "#f7f7f7"
            ],
            [
             0.6,
             "#e6f5d0"
            ],
            [
             0.7,
             "#b8e186"
            ],
            [
             0.8,
             "#7fbc41"
            ],
            [
             0.9,
             "#4d9221"
            ],
            [
             1,
             "#276419"
            ]
           ],
           "sequential": [
            [
             0,
             "#0d0887"
            ],
            [
             0.1111111111111111,
             "#46039f"
            ],
            [
             0.2222222222222222,
             "#7201a8"
            ],
            [
             0.3333333333333333,
             "#9c179e"
            ],
            [
             0.4444444444444444,
             "#bd3786"
            ],
            [
             0.5555555555555556,
             "#d8576b"
            ],
            [
             0.6666666666666666,
             "#ed7953"
            ],
            [
             0.7777777777777778,
             "#fb9f3a"
            ],
            [
             0.8888888888888888,
             "#fdca26"
            ],
            [
             1,
             "#f0f921"
            ]
           ],
           "sequentialminus": [
            [
             0,
             "#0d0887"
            ],
            [
             0.1111111111111111,
             "#46039f"
            ],
            [
             0.2222222222222222,
             "#7201a8"
            ],
            [
             0.3333333333333333,
             "#9c179e"
            ],
            [
             0.4444444444444444,
             "#bd3786"
            ],
            [
             0.5555555555555556,
             "#d8576b"
            ],
            [
             0.6666666666666666,
             "#ed7953"
            ],
            [
             0.7777777777777778,
             "#fb9f3a"
            ],
            [
             0.8888888888888888,
             "#fdca26"
            ],
            [
             1,
             "#f0f921"
            ]
           ]
          },
          "colorway": [
           "#636efa",
           "#EF553B",
           "#00cc96",
           "#ab63fa",
           "#FFA15A",
           "#19d3f3",
           "#FF6692",
           "#B6E880",
           "#FF97FF",
           "#FECB52"
          ],
          "font": {
           "color": "#2a3f5f"
          },
          "geo": {
           "bgcolor": "white",
           "lakecolor": "white",
           "landcolor": "#E5ECF6",
           "showlakes": true,
           "showland": true,
           "subunitcolor": "white"
          },
          "hoverlabel": {
           "align": "left"
          },
          "hovermode": "closest",
          "mapbox": {
           "style": "light"
          },
          "paper_bgcolor": "white",
          "plot_bgcolor": "#E5ECF6",
          "polar": {
           "angularaxis": {
            "gridcolor": "white",
            "linecolor": "white",
            "ticks": ""
           },
           "bgcolor": "#E5ECF6",
           "radialaxis": {
            "gridcolor": "white",
            "linecolor": "white",
            "ticks": ""
           }
          },
          "scene": {
           "xaxis": {
            "backgroundcolor": "#E5ECF6",
            "gridcolor": "white",
            "gridwidth": 2,
            "linecolor": "white",
            "showbackground": true,
            "ticks": "",
            "zerolinecolor": "white"
           },
           "yaxis": {
            "backgroundcolor": "#E5ECF6",
            "gridcolor": "white",
            "gridwidth": 2,
            "linecolor": "white",
            "showbackground": true,
            "ticks": "",
            "zerolinecolor": "white"
           },
           "zaxis": {
            "backgroundcolor": "#E5ECF6",
            "gridcolor": "white",
            "gridwidth": 2,
            "linecolor": "white",
            "showbackground": true,
            "ticks": "",
            "zerolinecolor": "white"
           }
          },
          "shapedefaults": {
           "line": {
            "color": "#2a3f5f"
           }
          },
          "ternary": {
           "aaxis": {
            "gridcolor": "white",
            "linecolor": "white",
            "ticks": ""
           },
           "baxis": {
            "gridcolor": "white",
            "linecolor": "white",
            "ticks": ""
           },
           "bgcolor": "#E5ECF6",
           "caxis": {
            "gridcolor": "white",
            "linecolor": "white",
            "ticks": ""
           }
          },
          "title": {
           "x": 0.05
          },
          "xaxis": {
           "automargin": true,
           "gridcolor": "white",
           "linecolor": "white",
           "ticks": "",
           "title": {
            "standoff": 15
           },
           "zerolinecolor": "white",
           "zerolinewidth": 2
          },
          "yaxis": {
           "automargin": true,
           "gridcolor": "white",
           "linecolor": "white",
           "ticks": "",
           "title": {
            "standoff": 15
           },
           "zerolinecolor": "white",
           "zerolinewidth": 2
          }
         }
        },
        "width": 600,
        "xaxis": {
         "anchor": "y",
         "domain": [
          0,
          1
         ],
         "title": {
          "text": "grade"
         }
        },
        "yaxis": {
         "anchor": "x",
         "domain": [
          0,
          1
         ],
         "title": {
          "text": "gpa"
         }
        }
       }
      }
     },
     "metadata": {},
     "output_type": "display_data"
    }
   ],
   "source": [
    "\n",
    "figz = px.scatter(xxx, x=\"grade\", y=\"gpa\",\n",
    "                 size=\"grade\", width=600, height=500, color=\"gpa\",color_continuous_scale='Bluered_r')\n",
    "\n",
    "figz.update_layout(plot_bgcolor=\"rgba(0,0,0,0)\", paper_bgcolor=\"rgba(0, 0, 0, 0)\")\n",
    "\n",
    "figz "
   ]
  },
  {
   "cell_type": "code",
   "execution_count": null,
   "metadata": {},
   "outputs": [],
   "source": []
  }
 ],
 "metadata": {
  "kernelspec": {
   "display_name": "base",
   "language": "python",
   "name": "python3"
  },
  "language_info": {
   "codemirror_mode": {
    "name": "ipython",
    "version": 3
   },
   "file_extension": ".py",
   "mimetype": "text/x-python",
   "name": "python",
   "nbconvert_exporter": "python",
   "pygments_lexer": "ipython3",
   "version": "3.9.13"
  },
  "orig_nbformat": 4
 },
 "nbformat": 4,
 "nbformat_minor": 2
}
