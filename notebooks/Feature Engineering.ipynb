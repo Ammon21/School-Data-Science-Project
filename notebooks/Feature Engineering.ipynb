{
 "cells": [
  {
   "attachments": {},
   "cell_type": "markdown",
   "metadata": {},
   "source": [
    "## Feature Engineering "
   ]
  },
  {
   "cell_type": "code",
   "execution_count": 1,
   "metadata": {},
   "outputs": [],
   "source": [
    "import pandas as pd"
   ]
  },
  {
   "cell_type": "code",
   "execution_count": 2,
   "metadata": {},
   "outputs": [],
   "source": [
    "df = pd.read_csv(\"../data/yyy.csv\")"
   ]
  },
  {
   "cell_type": "code",
   "execution_count": 3,
   "metadata": {},
   "outputs": [
    {
     "data": {
      "text/plain": [
       "Index(['name', 'age', 'gender', 'nationality', 'pob', 'tutor/makeup', 'grade',\n",
       "       'admission', 'guardian', 'time_with_parents',\n",
       "       'communication_with_parents', 'reward_for_achievements',\n",
       "       'parent_understanding', 'transport_type', 'residence', 'travel time',\n",
       "       'birth_order', 'exercice', 'previous_school', 'mother_tongue',\n",
       "       'curriculum', 'sleeping time_in_pm', 'parenting_style', 'trauma',\n",
       "       'type', 'english', 'amharic', 'arabic', 'geez', 'ict', 'maths', 'ss',\n",
       "       'gp', 'is', 'moral ', 'hpe', 'art', 'chemistry', 'physics'],\n",
       "      dtype='object')"
      ]
     },
     "execution_count": 3,
     "metadata": {},
     "output_type": "execute_result"
    }
   ],
   "source": [
    "df.columns"
   ]
  },
  {
   "cell_type": "code",
   "execution_count": 4,
   "metadata": {},
   "outputs": [],
   "source": [
    "dfx = df[['name', 'time_with_parents',\n",
    "       'communication_with_parents', 'reward_for_achievements',\n",
    "       'parent_understanding',]]"
   ]
  },
  {
   "cell_type": "markdown",
   "metadata": {},
   "source": [
    "### Label Encoding"
   ]
  },
  {
   "cell_type": "code",
   "execution_count": 5,
   "metadata": {},
   "outputs": [],
   "source": [
    "def encoder1(x):\n",
    "    if x == 'a lot':\n",
    "       return 3\n",
    "    elif x == 'little':\n",
    "       return 2\n",
    "    else:\n",
    "       return 1"
   ]
  },
  {
   "cell_type": "code",
   "execution_count": 6,
   "metadata": {},
   "outputs": [],
   "source": [
    "def encoder2(x):\n",
    "    if x == 'strongly agree':\n",
    "       return 5\n",
    "    elif x == 'agree':\n",
    "       return 4\n",
    "    elif x == 'somehow agree':\n",
    "       return 3\n",
    "    elif x == 'disagree':\n",
    "       return 2\n",
    "    else:\n",
    "       return 1"
   ]
  },
  {
   "cell_type": "code",
   "execution_count": 7,
   "metadata": {},
   "outputs": [
    {
     "name": "stderr",
     "output_type": "stream",
     "text": [
      "/tmp/ipykernel_6702/35746414.py:1: SettingWithCopyWarning: \n",
      "A value is trying to be set on a copy of a slice from a DataFrame.\n",
      "Try using .loc[row_indexer,col_indexer] = value instead\n",
      "\n",
      "See the caveats in the documentation: https://pandas.pydata.org/pandas-docs/stable/user_guide/indexing.html#returning-a-view-versus-a-copy\n",
      "  dfx['communication_with_parents'] = dfx['communication_with_parents'].apply(jah)\n",
      "/tmp/ipykernel_6702/35746414.py:2: SettingWithCopyWarning: \n",
      "A value is trying to be set on a copy of a slice from a DataFrame.\n",
      "Try using .loc[row_indexer,col_indexer] = value instead\n",
      "\n",
      "See the caveats in the documentation: https://pandas.pydata.org/pandas-docs/stable/user_guide/indexing.html#returning-a-view-versus-a-copy\n",
      "  dfx['reward_for_achievements'] = dfx['reward_for_achievements'].apply(jah)\n",
      "/tmp/ipykernel_6702/35746414.py:3: SettingWithCopyWarning: \n",
      "A value is trying to be set on a copy of a slice from a DataFrame.\n",
      "Try using .loc[row_indexer,col_indexer] = value instead\n",
      "\n",
      "See the caveats in the documentation: https://pandas.pydata.org/pandas-docs/stable/user_guide/indexing.html#returning-a-view-versus-a-copy\n",
      "  dfx['parent_understanding'] = dfx['parent_understanding'].apply(jah)\n",
      "/tmp/ipykernel_6702/35746414.py:4: SettingWithCopyWarning: \n",
      "A value is trying to be set on a copy of a slice from a DataFrame.\n",
      "Try using .loc[row_indexer,col_indexer] = value instead\n",
      "\n",
      "See the caveats in the documentation: https://pandas.pydata.org/pandas-docs/stable/user_guide/indexing.html#returning-a-view-versus-a-copy\n",
      "  dfx['time_with_parents'] = dfx['time_with_parents'].apply(bless)\n"
     ]
    }
   ],
   "source": [
    "dfx['communication_with_parents'] = dfx['communication_with_parents'].apply(encoder2)\n",
    "dfx['reward_for_achievements'] = dfx['reward_for_achievements'].apply(encoder2)\n",
    "dfx['parent_understanding'] = dfx['parent_understanding'].apply(encoder2)\n",
    "dfx['time_with_parents'] = dfx['time_with_parents'].apply(encoder1)"
   ]
  },
  {
   "cell_type": "code",
   "execution_count": 11,
   "metadata": {},
   "outputs": [
    {
     "data": {
      "text/html": [
       "<div>\n",
       "<style scoped>\n",
       "    .dataframe tbody tr th:only-of-type {\n",
       "        vertical-align: middle;\n",
       "    }\n",
       "\n",
       "    .dataframe tbody tr th {\n",
       "        vertical-align: top;\n",
       "    }\n",
       "\n",
       "    .dataframe thead th {\n",
       "        text-align: right;\n",
       "    }\n",
       "</style>\n",
       "<table border=\"1\" class=\"dataframe\">\n",
       "  <thead>\n",
       "    <tr style=\"text-align: right;\">\n",
       "      <th></th>\n",
       "      <th>name</th>\n",
       "      <th>time_with_parents</th>\n",
       "      <th>communication_with_parents</th>\n",
       "      <th>reward_for_achievements</th>\n",
       "      <th>parent_understanding</th>\n",
       "    </tr>\n",
       "  </thead>\n",
       "  <tbody>\n",
       "    <tr>\n",
       "      <th>0</th>\n",
       "      <td>abem ashenafi assefa</td>\n",
       "      <td>3</td>\n",
       "      <td>5</td>\n",
       "      <td>5</td>\n",
       "      <td>4</td>\n",
       "    </tr>\n",
       "    <tr>\n",
       "      <th>1</th>\n",
       "      <td>abiya zerihun alemu</td>\n",
       "      <td>2</td>\n",
       "      <td>5</td>\n",
       "      <td>5</td>\n",
       "      <td>4</td>\n",
       "    </tr>\n",
       "    <tr>\n",
       "      <th>2</th>\n",
       "      <td>aman dilu shaleka</td>\n",
       "      <td>3</td>\n",
       "      <td>4</td>\n",
       "      <td>5</td>\n",
       "      <td>5</td>\n",
       "    </tr>\n",
       "    <tr>\n",
       "      <th>3</th>\n",
       "      <td>barok bahiru hunde</td>\n",
       "      <td>3</td>\n",
       "      <td>5</td>\n",
       "      <td>5</td>\n",
       "      <td>5</td>\n",
       "    </tr>\n",
       "    <tr>\n",
       "      <th>4</th>\n",
       "      <td>bethany yilkal</td>\n",
       "      <td>3</td>\n",
       "      <td>5</td>\n",
       "      <td>5</td>\n",
       "      <td>3</td>\n",
       "    </tr>\n",
       "  </tbody>\n",
       "</table>\n",
       "</div>"
      ],
      "text/plain": [
       "                   name  time_with_parents  communication_with_parents  \\\n",
       "0  abem ashenafi assefa                  3                           5   \n",
       "1   abiya zerihun alemu                  2                           5   \n",
       "2     aman dilu shaleka                  3                           4   \n",
       "3    barok bahiru hunde                  3                           5   \n",
       "4        bethany yilkal                  3                           5   \n",
       "\n",
       "   reward_for_achievements  parent_understanding  \n",
       "0                        5                     4  \n",
       "1                        5                     4  \n",
       "2                        5                     5  \n",
       "3                        5                     5  \n",
       "4                        5                     3  "
      ]
     },
     "execution_count": 11,
     "metadata": {},
     "output_type": "execute_result"
    }
   ],
   "source": [
    "dfx.head()"
   ]
  },
  {
   "cell_type": "code",
   "execution_count": 9,
   "metadata": {},
   "outputs": [],
   "source": [
    "#dfx.to_csv('encoder2x.csv', index=False)"
   ]
  },
  {
   "cell_type": "code",
   "execution_count": null,
   "metadata": {},
   "outputs": [],
   "source": []
  }
 ],
 "metadata": {
  "kernelspec": {
   "display_name": "base",
   "language": "python",
   "name": "python3"
  },
  "language_info": {
   "codemirror_mode": {
    "name": "ipython",
    "version": 3
   },
   "file_extension": ".py",
   "mimetype": "text/x-python",
   "name": "python",
   "nbconvert_exporter": "python",
   "pygments_lexer": "ipython3",
   "version": "3.9.13"
  },
  "orig_nbformat": 4
 },
 "nbformat": 4,
 "nbformat_minor": 2
}
