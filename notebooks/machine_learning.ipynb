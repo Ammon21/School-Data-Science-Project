{
 "cells": [
  {
   "attachments": {},
   "cell_type": "markdown",
   "metadata": {},
   "source": [
    "# Machine learning"
   ]
  },
  {
   "attachments": {},
   "cell_type": "markdown",
   "metadata": {},
   "source": [
    "### Loading Libraries"
   ]
  },
  {
   "cell_type": "code",
   "execution_count": 4,
   "metadata": {},
   "outputs": [],
   "source": [
    "import plotly.express as px\n",
    "import pandas as pd\n",
    "import numpy as np\n",
    "import seaborn as sns\n",
    "import pickle\n",
    "# Import label encoder\n",
    "\n",
    "from sklearn import preprocessing\n",
    "label_encoder = preprocessing.LabelEncoder()\n",
    "from sklearn.preprocessing import StandardScaler, normalize\n",
    "from sklearn import linear_model\n",
    "from sklearn.model_selection import train_test_split\n",
    "\n",
    "from sklearn.model_selection import train_test_split, ShuffleSplit, cross_val_score, GridSearchCV\n",
    "from sklearn.linear_model import LinearRegression, Lasso\n",
    "from sklearn.tree import DecisionTreeRegressor\n",
    "\n",
    "import warnings\n",
    "warnings.filterwarnings('ignore')"
   ]
  },
  {
   "attachments": {},
   "cell_type": "markdown",
   "metadata": {},
   "source": [
    "#### Loading data"
   ]
  },
  {
   "cell_type": "code",
   "execution_count": 5,
   "metadata": {},
   "outputs": [
    {
     "data": {
      "text/html": [
       "<div>\n",
       "<style scoped>\n",
       "    .dataframe tbody tr th:only-of-type {\n",
       "        vertical-align: middle;\n",
       "    }\n",
       "\n",
       "    .dataframe tbody tr th {\n",
       "        vertical-align: top;\n",
       "    }\n",
       "\n",
       "    .dataframe thead th {\n",
       "        text-align: right;\n",
       "    }\n",
       "</style>\n",
       "<table border=\"1\" class=\"dataframe\">\n",
       "  <thead>\n",
       "    <tr style=\"text-align: right;\">\n",
       "      <th></th>\n",
       "      <th>conduct</th>\n",
       "      <th>age</th>\n",
       "      <th>gender</th>\n",
       "      <th>nationality</th>\n",
       "      <th>pob</th>\n",
       "      <th>tutor/makeup</th>\n",
       "      <th>grade</th>\n",
       "      <th>admission</th>\n",
       "      <th>guardian</th>\n",
       "      <th>time_with_parents</th>\n",
       "      <th>...</th>\n",
       "      <th>physics</th>\n",
       "      <th>gpa</th>\n",
       "      <th>literature</th>\n",
       "      <th>biology</th>\n",
       "      <th>geography</th>\n",
       "      <th>history</th>\n",
       "      <th>civics</th>\n",
       "      <th>ent-ship</th>\n",
       "      <th>matrik</th>\n",
       "      <th>level</th>\n",
       "    </tr>\n",
       "  </thead>\n",
       "  <tbody>\n",
       "    <tr>\n",
       "      <th>0</th>\n",
       "      <td>a</td>\n",
       "      <td>10.0</td>\n",
       "      <td>f</td>\n",
       "      <td>ethiopian</td>\n",
       "      <td>ethiopia</td>\n",
       "      <td>yes</td>\n",
       "      <td>5</td>\n",
       "      <td>paid</td>\n",
       "      <td>both</td>\n",
       "      <td>a lot</td>\n",
       "      <td>...</td>\n",
       "      <td>NaN</td>\n",
       "      <td>89.4</td>\n",
       "      <td>NaN</td>\n",
       "      <td>NaN</td>\n",
       "      <td>NaN</td>\n",
       "      <td>NaN</td>\n",
       "      <td>NaN</td>\n",
       "      <td>NaN</td>\n",
       "      <td>NaN</td>\n",
       "      <td>middleschool</td>\n",
       "    </tr>\n",
       "    <tr>\n",
       "      <th>1</th>\n",
       "      <td>b</td>\n",
       "      <td>12.0</td>\n",
       "      <td>m</td>\n",
       "      <td>ethiopian</td>\n",
       "      <td>ethiopia</td>\n",
       "      <td>no</td>\n",
       "      <td>5</td>\n",
       "      <td>scholarship</td>\n",
       "      <td>both</td>\n",
       "      <td>little</td>\n",
       "      <td>...</td>\n",
       "      <td>NaN</td>\n",
       "      <td>81.9</td>\n",
       "      <td>NaN</td>\n",
       "      <td>NaN</td>\n",
       "      <td>NaN</td>\n",
       "      <td>NaN</td>\n",
       "      <td>NaN</td>\n",
       "      <td>NaN</td>\n",
       "      <td>NaN</td>\n",
       "      <td>middleschool</td>\n",
       "    </tr>\n",
       "    <tr>\n",
       "      <th>2</th>\n",
       "      <td>a</td>\n",
       "      <td>10.0</td>\n",
       "      <td>m</td>\n",
       "      <td>ethiopian</td>\n",
       "      <td>ethiopia</td>\n",
       "      <td>yes</td>\n",
       "      <td>5</td>\n",
       "      <td>paid</td>\n",
       "      <td>both</td>\n",
       "      <td>a lot</td>\n",
       "      <td>...</td>\n",
       "      <td>NaN</td>\n",
       "      <td>87.9</td>\n",
       "      <td>NaN</td>\n",
       "      <td>NaN</td>\n",
       "      <td>NaN</td>\n",
       "      <td>NaN</td>\n",
       "      <td>NaN</td>\n",
       "      <td>NaN</td>\n",
       "      <td>NaN</td>\n",
       "      <td>middleschool</td>\n",
       "    </tr>\n",
       "    <tr>\n",
       "      <th>3</th>\n",
       "      <td>c</td>\n",
       "      <td>11.0</td>\n",
       "      <td>m</td>\n",
       "      <td>ethiopian</td>\n",
       "      <td>ethiopia</td>\n",
       "      <td>no</td>\n",
       "      <td>5</td>\n",
       "      <td>paid</td>\n",
       "      <td>both</td>\n",
       "      <td>a lot</td>\n",
       "      <td>...</td>\n",
       "      <td>NaN</td>\n",
       "      <td>85.9</td>\n",
       "      <td>NaN</td>\n",
       "      <td>NaN</td>\n",
       "      <td>NaN</td>\n",
       "      <td>NaN</td>\n",
       "      <td>NaN</td>\n",
       "      <td>NaN</td>\n",
       "      <td>NaN</td>\n",
       "      <td>middleschool</td>\n",
       "    </tr>\n",
       "    <tr>\n",
       "      <th>4</th>\n",
       "      <td>b</td>\n",
       "      <td>11.0</td>\n",
       "      <td>f</td>\n",
       "      <td>ethiopian</td>\n",
       "      <td>foriegn_soil</td>\n",
       "      <td>no</td>\n",
       "      <td>5</td>\n",
       "      <td>paid</td>\n",
       "      <td>mother</td>\n",
       "      <td>a lot</td>\n",
       "      <td>...</td>\n",
       "      <td>NaN</td>\n",
       "      <td>95.5</td>\n",
       "      <td>NaN</td>\n",
       "      <td>NaN</td>\n",
       "      <td>NaN</td>\n",
       "      <td>NaN</td>\n",
       "      <td>NaN</td>\n",
       "      <td>NaN</td>\n",
       "      <td>NaN</td>\n",
       "      <td>middleschool</td>\n",
       "    </tr>\n",
       "  </tbody>\n",
       "</table>\n",
       "<p>5 rows × 49 columns</p>\n",
       "</div>"
      ],
      "text/plain": [
       "  conduct   age gender nationality           pob tutor/makeup  grade  \\\n",
       "0       a  10.0      f   ethiopian      ethiopia          yes      5   \n",
       "1       b  12.0      m   ethiopian      ethiopia           no      5   \n",
       "2       a  10.0      m   ethiopian      ethiopia          yes      5   \n",
       "3       c  11.0      m   ethiopian      ethiopia           no      5   \n",
       "4       b  11.0      f   ethiopian  foriegn_soil           no      5   \n",
       "\n",
       "     admission guardian time_with_parents  ... physics   gpa literature  \\\n",
       "0         paid     both             a lot  ...     NaN  89.4        NaN   \n",
       "1  scholarship     both            little  ...     NaN  81.9        NaN   \n",
       "2         paid     both             a lot  ...     NaN  87.9        NaN   \n",
       "3         paid     both             a lot  ...     NaN  85.9        NaN   \n",
       "4         paid   mother             a lot  ...     NaN  95.5        NaN   \n",
       "\n",
       "  biology geography history civics  ent-ship matrik         level  \n",
       "0     NaN       NaN     NaN    NaN       NaN    NaN  middleschool  \n",
       "1     NaN       NaN     NaN    NaN       NaN    NaN  middleschool  \n",
       "2     NaN       NaN     NaN    NaN       NaN    NaN  middleschool  \n",
       "3     NaN       NaN     NaN    NaN       NaN    NaN  middleschool  \n",
       "4     NaN       NaN     NaN    NaN       NaN    NaN  middleschool  \n",
       "\n",
       "[5 rows x 49 columns]"
      ]
     },
     "execution_count": 5,
     "metadata": {},
     "output_type": "execute_result"
    }
   ],
   "source": [
    "df = pd.read_csv(r\"../data/hsmsx.csv\")\n",
    "df.head()"
   ]
  },
  {
   "cell_type": "code",
   "execution_count": 6,
   "metadata": {},
   "outputs": [
    {
     "name": "stdout",
     "output_type": "stream",
     "text": [
      "<class 'pandas.core.frame.DataFrame'>\n",
      "RangeIndex: 287 entries, 0 to 286\n",
      "Data columns (total 49 columns):\n",
      " #   Column                      Non-Null Count  Dtype  \n",
      "---  ------                      --------------  -----  \n",
      " 0   conduct                     287 non-null    object \n",
      " 1   age                         287 non-null    float64\n",
      " 2   gender                      287 non-null    object \n",
      " 3   nationality                 287 non-null    object \n",
      " 4   pob                         287 non-null    object \n",
      " 5   tutor/makeup                287 non-null    object \n",
      " 6   grade                       287 non-null    int64  \n",
      " 7   admission                   287 non-null    object \n",
      " 8   guardian                    287 non-null    object \n",
      " 9   time_with_parents           287 non-null    object \n",
      " 10  communication_with_parents  287 non-null    object \n",
      " 11  reward_for_achievements     287 non-null    object \n",
      " 12  parent_understanding        287 non-null    object \n",
      " 13  transport_type              287 non-null    object \n",
      " 14  residence                   287 non-null    object \n",
      " 15  travel time                 287 non-null    object \n",
      " 16  birth_order                 287 non-null    object \n",
      " 17  exercice                    287 non-null    int64  \n",
      " 18  previous_school             287 non-null    object \n",
      " 19  mother_tongue               287 non-null    object \n",
      " 20  curriculum                  287 non-null    object \n",
      " 21  sleeping time_in_pm         287 non-null    float64\n",
      " 22  parenting_style             287 non-null    object \n",
      " 23  trauma                      287 non-null    int64  \n",
      " 24  type                        287 non-null    object \n",
      " 25  quality                     287 non-null    float64\n",
      " 26  english                     287 non-null    float64\n",
      " 27  amharic                     287 non-null    float64\n",
      " 28  arabic                      115 non-null    float64\n",
      " 29  geez                        115 non-null    float64\n",
      " 30  ict                         287 non-null    float64\n",
      " 31  maths                       287 non-null    float64\n",
      " 32  ss                          115 non-null    float64\n",
      " 33  gp                          115 non-null    float64\n",
      " 34  is                          115 non-null    float64\n",
      " 35  moral                       115 non-null    float64\n",
      " 36  hpe                         287 non-null    float64\n",
      " 37  art                         115 non-null    float64\n",
      " 38  chemistry                   205 non-null    float64\n",
      " 39  physics                     205 non-null    float64\n",
      " 40  gpa                         287 non-null    float64\n",
      " 41  literature                  172 non-null    float64\n",
      " 42  biology                     139 non-null    float64\n",
      " 43  geography                   134 non-null    float64\n",
      " 44  history                     134 non-null    float64\n",
      " 45  civics                      172 non-null    float64\n",
      " 46  ent-ship                    134 non-null    float64\n",
      " 47  matrik                      172 non-null    float64\n",
      " 48  level                       287 non-null    object \n",
      "dtypes: float64(25), int64(3), object(21)\n",
      "memory usage: 110.0+ KB\n"
     ]
    }
   ],
   "source": [
    "df.info()"
   ]
  },
  {
   "cell_type": "code",
   "execution_count": 7,
   "metadata": {},
   "outputs": [
    {
     "data": {
      "text/plain": [
       "Index(['conduct', 'age', 'gender', 'nationality', 'pob', 'tutor/makeup',\n",
       "       'grade', 'admission', 'guardian', 'time_with_parents',\n",
       "       'communication_with_parents', 'reward_for_achievements',\n",
       "       'parent_understanding', 'transport_type', 'residence', 'travel time',\n",
       "       'birth_order', 'exercice', 'previous_school', 'mother_tongue',\n",
       "       'curriculum', 'sleeping time_in_pm', 'parenting_style', 'trauma',\n",
       "       'type', 'quality', 'english', 'amharic', 'arabic', 'geez', 'ict',\n",
       "       'maths', 'ss', 'gp', 'is', 'moral', 'hpe', 'art', 'chemistry',\n",
       "       'physics', 'gpa', 'literature', 'biology', 'geography', 'history',\n",
       "       'civics', 'ent-ship', 'matrik', 'level'],\n",
       "      dtype='object')"
      ]
     },
     "execution_count": 7,
     "metadata": {},
     "output_type": "execute_result"
    }
   ],
   "source": [
    "df.columns"
   ]
  },
  {
   "cell_type": "code",
   "execution_count": 8,
   "metadata": {},
   "outputs": [],
   "source": [
    "# conduct, age, gender, pob, tutor, grade, admission, guardian, p4, transport, birthorder,\n",
    "# previousschool, mother_tongue, parenting_style, quality, maths, english, \n",
    "\n",
    "\n",
    "\n",
    "#combination\n",
    "#feature\n",
    "#admission"
   ]
  },
  {
   "cell_type": "code",
   "execution_count": 9,
   "metadata": {},
   "outputs": [],
   "source": [
    "dfx = df[['conduct', 'age', 'gender', 'pob', 'tutor/makeup', 'grade', 'admission', 'guardian', 'transport_type', \n",
    "          'birth_order', 'mother_tongue', 'parenting_style', 'maths', 'english', 'gpa'\n",
    "          ]]"
   ]
  },
  {
   "cell_type": "code",
   "execution_count": 10,
   "metadata": {},
   "outputs": [
    {
     "data": {
      "text/plain": [
       "authoritative    222\n",
       "authoritarian     52\n",
       "permissive        12\n",
       "uninvolved         1\n",
       "Name: parenting_style, dtype: int64"
      ]
     },
     "execution_count": 10,
     "metadata": {},
     "output_type": "execute_result"
    }
   ],
   "source": [
    "dfx.conduct.value_counts()  #label encoded  abc\n",
    "dfx.age.value_counts()      # dtype int\n",
    "dfx.gender.value_counts()   # f and m  one hot encoding\n",
    "dfx.pob.value_counts()      # ethiopia or foriegn soil one hot encoding\n",
    "dfx['tutor/makeup'].value_counts()   #yes or no \n",
    "dfx.grade.value_counts()     #5-12\n",
    "dfx.admission.value_counts() #one hot encoding\n",
    "dfx.guardian.value_counts() #single #both #other mother and father to be merged into single parents &&&& #oe hot\n",
    "dfx.transport_type.value_counts() #private, service, public, onfoot, one hot encoding\n",
    "dfx.birth_order.value_counts() #first, middle, last #one hot encoding\n",
    "dfx.mother_tongue.value_counts()  #one hot\n",
    "dfx.parenting_style.value_counts() # one hot"
   ]
  },
  {
   "attachments": {},
   "cell_type": "markdown",
   "metadata": {},
   "source": [
    "#### Removing Outliers"
   ]
  },
  {
   "cell_type": "code",
   "execution_count": 11,
   "metadata": {},
   "outputs": [
    {
     "data": {
      "application/vnd.plotly.v1+json": {
       "config": {
        "plotlyServerURL": "https://plot.ly"
       },
       "data": [
        {
         "alignmentgroup": "True",
         "hovertemplate": "maths=%{y}<extra></extra>",
         "legendgroup": "",
         "marker": {
          "color": "#636efa"
         },
         "name": "",
         "notched": false,
         "offsetgroup": "",
         "orientation": "v",
         "showlegend": false,
         "type": "box",
         "x0": " ",
         "xaxis": "x",
         "y": [
          76.38,
          74.92,
          84.33,
          90.63,
          96,
          75.63,
          77.25,
          84.88,
          63.29,
          64.96,
          70.58,
          92.63,
          76,
          84.25,
          85.25,
          85.88,
          86.88,
          94.5,
          80.83,
          68.42,
          90,
          81.5,
          72.08,
          74,
          85,
          86.67,
          83.92,
          60.17,
          80.75,
          91,
          77.92,
          81.5,
          67.92,
          89,
          82.92,
          79.42,
          60,
          79.92,
          75.08,
          78.75,
          79.17,
          68.75,
          90.75,
          82.42,
          86.17,
          86.25,
          92.75,
          82.75,
          77.12,
          71.51,
          93.09,
          76.42,
          92.25,
          87.01,
          74.02,
          91.58,
          96.34,
          72.98,
          89.76,
          80.08,
          87.84,
          80.71,
          89.58,
          72.2,
          89.89,
          90.47,
          63.22,
          71.34,
          94.08,
          87.35,
          77.78,
          85.48,
          93.72,
          89.54,
          63.29,
          80.22,
          88.49,
          94.4,
          75.27,
          71.98,
          92.08,
          64.29,
          95.5,
          66.48,
          98.97,
          67.79,
          58.36,
          87.86,
          95.18,
          92.9,
          80.47,
          84.74,
          91.53,
          96.65,
          87.53,
          80.11,
          79.68,
          78.98,
          96.58,
          92.97,
          76.16,
          84.79,
          87.09,
          84.23,
          93.13,
          88.74,
          79.47,
          77.98,
          89.94,
          96.38,
          70.63,
          95.04,
          71.97,
          69.84,
          76.6,
          70.56,
          62.57,
          97.16,
          72.55,
          90.6,
          82.26,
          60.26,
          70.76,
          60.35,
          64.79,
          89.48,
          92.95,
          62.7,
          70.89,
          93.37,
          93.42,
          59.72,
          83.44,
          79.32,
          63.72,
          80.76,
          84.63,
          94.02,
          72.24,
          83.67,
          91.21,
          76.65,
          100,
          75.01,
          71.36,
          60.68,
          60.09,
          92.92,
          94.94,
          76.31,
          92.42,
          77.67,
          87.63,
          98.13,
          84.52,
          95.2,
          70.61,
          74.12,
          97.38,
          89.75,
          77.1,
          71.85,
          70.72,
          70.66,
          96.63,
          77.57,
          91.64,
          95.56,
          100,
          62.57,
          97.16,
          86.84,
          91.44,
          63.64,
          79.73,
          70.53,
          70.7,
          63.39,
          87.39,
          80.5,
          84.86,
          99.25,
          98.51,
          98.88,
          81.29,
          84.55,
          85.84,
          99.25,
          86.75,
          94.76,
          98.13,
          71.46,
          82.63,
          100,
          98.13,
          75.31,
          84.84,
          67.86,
          100,
          60.37,
          76.41,
          98.88,
          76.48,
          100,
          81.43,
          68.23,
          97.13,
          71.37,
          97.78,
          91.82,
          67.06,
          77.07,
          99.63,
          94.5,
          92.9,
          60.01,
          66.96,
          78.44,
          66.33,
          63.67,
          61.21,
          74.22,
          77.46,
          88.9,
          74.34,
          67.46,
          70.34,
          63.57,
          69.58,
          79.28,
          81.4,
          59.84,
          63.89,
          79.25,
          77.17,
          82.4,
          97.73,
          95.22,
          86.94,
          84.74,
          96.58,
          72.62,
          77.64,
          87.73,
          97.29,
          83.18,
          79.12,
          93.07,
          71.31,
          71.01,
          83.35,
          62.02,
          67.47,
          93.09,
          79.86,
          79.95,
          67.15,
          66.49,
          79.74,
          67.52,
          62.76,
          75.39,
          85.2,
          89.56,
          89.8,
          78.17,
          95.96,
          87.79,
          71.53,
          62.87,
          76.85,
          83.07,
          63.55,
          79.3472514619883,
          76.75,
          64.79,
          61.1,
          62.29,
          59.99,
          70.61,
          81.17,
          27.53,
          74.35,
          66.71,
          64.07,
          65.91,
          72.3
         ],
         "y0": " ",
         "yaxis": "y"
        }
       ],
       "layout": {
        "boxmode": "group",
        "legend": {
         "tracegroupgap": 0
        },
        "margin": {
         "t": 60
        },
        "template": {
         "data": {
          "bar": [
           {
            "error_x": {
             "color": "#2a3f5f"
            },
            "error_y": {
             "color": "#2a3f5f"
            },
            "marker": {
             "line": {
              "color": "#E5ECF6",
              "width": 0.5
             },
             "pattern": {
              "fillmode": "overlay",
              "size": 10,
              "solidity": 0.2
             }
            },
            "type": "bar"
           }
          ],
          "barpolar": [
           {
            "marker": {
             "line": {
              "color": "#E5ECF6",
              "width": 0.5
             },
             "pattern": {
              "fillmode": "overlay",
              "size": 10,
              "solidity": 0.2
             }
            },
            "type": "barpolar"
           }
          ],
          "carpet": [
           {
            "aaxis": {
             "endlinecolor": "#2a3f5f",
             "gridcolor": "white",
             "linecolor": "white",
             "minorgridcolor": "white",
             "startlinecolor": "#2a3f5f"
            },
            "baxis": {
             "endlinecolor": "#2a3f5f",
             "gridcolor": "white",
             "linecolor": "white",
             "minorgridcolor": "white",
             "startlinecolor": "#2a3f5f"
            },
            "type": "carpet"
           }
          ],
          "choropleth": [
           {
            "colorbar": {
             "outlinewidth": 0,
             "ticks": ""
            },
            "type": "choropleth"
           }
          ],
          "contour": [
           {
            "colorbar": {
             "outlinewidth": 0,
             "ticks": ""
            },
            "colorscale": [
             [
              0,
              "#0d0887"
             ],
             [
              0.1111111111111111,
              "#46039f"
             ],
             [
              0.2222222222222222,
              "#7201a8"
             ],
             [
              0.3333333333333333,
              "#9c179e"
             ],
             [
              0.4444444444444444,
              "#bd3786"
             ],
             [
              0.5555555555555556,
              "#d8576b"
             ],
             [
              0.6666666666666666,
              "#ed7953"
             ],
             [
              0.7777777777777778,
              "#fb9f3a"
             ],
             [
              0.8888888888888888,
              "#fdca26"
             ],
             [
              1,
              "#f0f921"
             ]
            ],
            "type": "contour"
           }
          ],
          "contourcarpet": [
           {
            "colorbar": {
             "outlinewidth": 0,
             "ticks": ""
            },
            "type": "contourcarpet"
           }
          ],
          "heatmap": [
           {
            "colorbar": {
             "outlinewidth": 0,
             "ticks": ""
            },
            "colorscale": [
             [
              0,
              "#0d0887"
             ],
             [
              0.1111111111111111,
              "#46039f"
             ],
             [
              0.2222222222222222,
              "#7201a8"
             ],
             [
              0.3333333333333333,
              "#9c179e"
             ],
             [
              0.4444444444444444,
              "#bd3786"
             ],
             [
              0.5555555555555556,
              "#d8576b"
             ],
             [
              0.6666666666666666,
              "#ed7953"
             ],
             [
              0.7777777777777778,
              "#fb9f3a"
             ],
             [
              0.8888888888888888,
              "#fdca26"
             ],
             [
              1,
              "#f0f921"
             ]
            ],
            "type": "heatmap"
           }
          ],
          "heatmapgl": [
           {
            "colorbar": {
             "outlinewidth": 0,
             "ticks": ""
            },
            "colorscale": [
             [
              0,
              "#0d0887"
             ],
             [
              0.1111111111111111,
              "#46039f"
             ],
             [
              0.2222222222222222,
              "#7201a8"
             ],
             [
              0.3333333333333333,
              "#9c179e"
             ],
             [
              0.4444444444444444,
              "#bd3786"
             ],
             [
              0.5555555555555556,
              "#d8576b"
             ],
             [
              0.6666666666666666,
              "#ed7953"
             ],
             [
              0.7777777777777778,
              "#fb9f3a"
             ],
             [
              0.8888888888888888,
              "#fdca26"
             ],
             [
              1,
              "#f0f921"
             ]
            ],
            "type": "heatmapgl"
           }
          ],
          "histogram": [
           {
            "marker": {
             "pattern": {
              "fillmode": "overlay",
              "size": 10,
              "solidity": 0.2
             }
            },
            "type": "histogram"
           }
          ],
          "histogram2d": [
           {
            "colorbar": {
             "outlinewidth": 0,
             "ticks": ""
            },
            "colorscale": [
             [
              0,
              "#0d0887"
             ],
             [
              0.1111111111111111,
              "#46039f"
             ],
             [
              0.2222222222222222,
              "#7201a8"
             ],
             [
              0.3333333333333333,
              "#9c179e"
             ],
             [
              0.4444444444444444,
              "#bd3786"
             ],
             [
              0.5555555555555556,
              "#d8576b"
             ],
             [
              0.6666666666666666,
              "#ed7953"
             ],
             [
              0.7777777777777778,
              "#fb9f3a"
             ],
             [
              0.8888888888888888,
              "#fdca26"
             ],
             [
              1,
              "#f0f921"
             ]
            ],
            "type": "histogram2d"
           }
          ],
          "histogram2dcontour": [
           {
            "colorbar": {
             "outlinewidth": 0,
             "ticks": ""
            },
            "colorscale": [
             [
              0,
              "#0d0887"
             ],
             [
              0.1111111111111111,
              "#46039f"
             ],
             [
              0.2222222222222222,
              "#7201a8"
             ],
             [
              0.3333333333333333,
              "#9c179e"
             ],
             [
              0.4444444444444444,
              "#bd3786"
             ],
             [
              0.5555555555555556,
              "#d8576b"
             ],
             [
              0.6666666666666666,
              "#ed7953"
             ],
             [
              0.7777777777777778,
              "#fb9f3a"
             ],
             [
              0.8888888888888888,
              "#fdca26"
             ],
             [
              1,
              "#f0f921"
             ]
            ],
            "type": "histogram2dcontour"
           }
          ],
          "mesh3d": [
           {
            "colorbar": {
             "outlinewidth": 0,
             "ticks": ""
            },
            "type": "mesh3d"
           }
          ],
          "parcoords": [
           {
            "line": {
             "colorbar": {
              "outlinewidth": 0,
              "ticks": ""
             }
            },
            "type": "parcoords"
           }
          ],
          "pie": [
           {
            "automargin": true,
            "type": "pie"
           }
          ],
          "scatter": [
           {
            "fillpattern": {
             "fillmode": "overlay",
             "size": 10,
             "solidity": 0.2
            },
            "type": "scatter"
           }
          ],
          "scatter3d": [
           {
            "line": {
             "colorbar": {
              "outlinewidth": 0,
              "ticks": ""
             }
            },
            "marker": {
             "colorbar": {
              "outlinewidth": 0,
              "ticks": ""
             }
            },
            "type": "scatter3d"
           }
          ],
          "scattercarpet": [
           {
            "marker": {
             "colorbar": {
              "outlinewidth": 0,
              "ticks": ""
             }
            },
            "type": "scattercarpet"
           }
          ],
          "scattergeo": [
           {
            "marker": {
             "colorbar": {
              "outlinewidth": 0,
              "ticks": ""
             }
            },
            "type": "scattergeo"
           }
          ],
          "scattergl": [
           {
            "marker": {
             "colorbar": {
              "outlinewidth": 0,
              "ticks": ""
             }
            },
            "type": "scattergl"
           }
          ],
          "scattermapbox": [
           {
            "marker": {
             "colorbar": {
              "outlinewidth": 0,
              "ticks": ""
             }
            },
            "type": "scattermapbox"
           }
          ],
          "scatterpolar": [
           {
            "marker": {
             "colorbar": {
              "outlinewidth": 0,
              "ticks": ""
             }
            },
            "type": "scatterpolar"
           }
          ],
          "scatterpolargl": [
           {
            "marker": {
             "colorbar": {
              "outlinewidth": 0,
              "ticks": ""
             }
            },
            "type": "scatterpolargl"
           }
          ],
          "scatterternary": [
           {
            "marker": {
             "colorbar": {
              "outlinewidth": 0,
              "ticks": ""
             }
            },
            "type": "scatterternary"
           }
          ],
          "surface": [
           {
            "colorbar": {
             "outlinewidth": 0,
             "ticks": ""
            },
            "colorscale": [
             [
              0,
              "#0d0887"
             ],
             [
              0.1111111111111111,
              "#46039f"
             ],
             [
              0.2222222222222222,
              "#7201a8"
             ],
             [
              0.3333333333333333,
              "#9c179e"
             ],
             [
              0.4444444444444444,
              "#bd3786"
             ],
             [
              0.5555555555555556,
              "#d8576b"
             ],
             [
              0.6666666666666666,
              "#ed7953"
             ],
             [
              0.7777777777777778,
              "#fb9f3a"
             ],
             [
              0.8888888888888888,
              "#fdca26"
             ],
             [
              1,
              "#f0f921"
             ]
            ],
            "type": "surface"
           }
          ],
          "table": [
           {
            "cells": {
             "fill": {
              "color": "#EBF0F8"
             },
             "line": {
              "color": "white"
             }
            },
            "header": {
             "fill": {
              "color": "#C8D4E3"
             },
             "line": {
              "color": "white"
             }
            },
            "type": "table"
           }
          ]
         },
         "layout": {
          "annotationdefaults": {
           "arrowcolor": "#2a3f5f",
           "arrowhead": 0,
           "arrowwidth": 1
          },
          "autotypenumbers": "strict",
          "coloraxis": {
           "colorbar": {
            "outlinewidth": 0,
            "ticks": ""
           }
          },
          "colorscale": {
           "diverging": [
            [
             0,
             "#8e0152"
            ],
            [
             0.1,
             "#c51b7d"
            ],
            [
             0.2,
             "#de77ae"
            ],
            [
             0.3,
             "#f1b6da"
            ],
            [
             0.4,
             "#fde0ef"
            ],
            [
             0.5,
             "#f7f7f7"
            ],
            [
             0.6,
             "#e6f5d0"
            ],
            [
             0.7,
             "#b8e186"
            ],
            [
             0.8,
             "#7fbc41"
            ],
            [
             0.9,
             "#4d9221"
            ],
            [
             1,
             "#276419"
            ]
           ],
           "sequential": [
            [
             0,
             "#0d0887"
            ],
            [
             0.1111111111111111,
             "#46039f"
            ],
            [
             0.2222222222222222,
             "#7201a8"
            ],
            [
             0.3333333333333333,
             "#9c179e"
            ],
            [
             0.4444444444444444,
             "#bd3786"
            ],
            [
             0.5555555555555556,
             "#d8576b"
            ],
            [
             0.6666666666666666,
             "#ed7953"
            ],
            [
             0.7777777777777778,
             "#fb9f3a"
            ],
            [
             0.8888888888888888,
             "#fdca26"
            ],
            [
             1,
             "#f0f921"
            ]
           ],
           "sequentialminus": [
            [
             0,
             "#0d0887"
            ],
            [
             0.1111111111111111,
             "#46039f"
            ],
            [
             0.2222222222222222,
             "#7201a8"
            ],
            [
             0.3333333333333333,
             "#9c179e"
            ],
            [
             0.4444444444444444,
             "#bd3786"
            ],
            [
             0.5555555555555556,
             "#d8576b"
            ],
            [
             0.6666666666666666,
             "#ed7953"
            ],
            [
             0.7777777777777778,
             "#fb9f3a"
            ],
            [
             0.8888888888888888,
             "#fdca26"
            ],
            [
             1,
             "#f0f921"
            ]
           ]
          },
          "colorway": [
           "#636efa",
           "#EF553B",
           "#00cc96",
           "#ab63fa",
           "#FFA15A",
           "#19d3f3",
           "#FF6692",
           "#B6E880",
           "#FF97FF",
           "#FECB52"
          ],
          "font": {
           "color": "#2a3f5f"
          },
          "geo": {
           "bgcolor": "white",
           "lakecolor": "white",
           "landcolor": "#E5ECF6",
           "showlakes": true,
           "showland": true,
           "subunitcolor": "white"
          },
          "hoverlabel": {
           "align": "left"
          },
          "hovermode": "closest",
          "mapbox": {
           "style": "light"
          },
          "paper_bgcolor": "white",
          "plot_bgcolor": "#E5ECF6",
          "polar": {
           "angularaxis": {
            "gridcolor": "white",
            "linecolor": "white",
            "ticks": ""
           },
           "bgcolor": "#E5ECF6",
           "radialaxis": {
            "gridcolor": "white",
            "linecolor": "white",
            "ticks": ""
           }
          },
          "scene": {
           "xaxis": {
            "backgroundcolor": "#E5ECF6",
            "gridcolor": "white",
            "gridwidth": 2,
            "linecolor": "white",
            "showbackground": true,
            "ticks": "",
            "zerolinecolor": "white"
           },
           "yaxis": {
            "backgroundcolor": "#E5ECF6",
            "gridcolor": "white",
            "gridwidth": 2,
            "linecolor": "white",
            "showbackground": true,
            "ticks": "",
            "zerolinecolor": "white"
           },
           "zaxis": {
            "backgroundcolor": "#E5ECF6",
            "gridcolor": "white",
            "gridwidth": 2,
            "linecolor": "white",
            "showbackground": true,
            "ticks": "",
            "zerolinecolor": "white"
           }
          },
          "shapedefaults": {
           "line": {
            "color": "#2a3f5f"
           }
          },
          "ternary": {
           "aaxis": {
            "gridcolor": "white",
            "linecolor": "white",
            "ticks": ""
           },
           "baxis": {
            "gridcolor": "white",
            "linecolor": "white",
            "ticks": ""
           },
           "bgcolor": "#E5ECF6",
           "caxis": {
            "gridcolor": "white",
            "linecolor": "white",
            "ticks": ""
           }
          },
          "title": {
           "x": 0.05
          },
          "xaxis": {
           "automargin": true,
           "gridcolor": "white",
           "linecolor": "white",
           "ticks": "",
           "title": {
            "standoff": 15
           },
           "zerolinecolor": "white",
           "zerolinewidth": 2
          },
          "yaxis": {
           "automargin": true,
           "gridcolor": "white",
           "linecolor": "white",
           "ticks": "",
           "title": {
            "standoff": 15
           },
           "zerolinecolor": "white",
           "zerolinewidth": 2
          }
         }
        },
        "xaxis": {
         "anchor": "y",
         "domain": [
          0,
          1
         ]
        },
        "yaxis": {
         "anchor": "x",
         "domain": [
          0,
          1
         ],
         "title": {
          "text": "maths"
         }
        }
       }
      }
     },
     "metadata": {},
     "output_type": "display_data"
    }
   ],
   "source": [
    "fig = px.box(dfx, y=\"maths\")\n",
    "fig.show()"
   ]
  },
  {
   "cell_type": "code",
   "execution_count": 12,
   "metadata": {},
   "outputs": [
    {
     "data": {
      "text/html": [
       "<div>\n",
       "<style scoped>\n",
       "    .dataframe tbody tr th:only-of-type {\n",
       "        vertical-align: middle;\n",
       "    }\n",
       "\n",
       "    .dataframe tbody tr th {\n",
       "        vertical-align: top;\n",
       "    }\n",
       "\n",
       "    .dataframe thead th {\n",
       "        text-align: right;\n",
       "    }\n",
       "</style>\n",
       "<table border=\"1\" class=\"dataframe\">\n",
       "  <thead>\n",
       "    <tr style=\"text-align: right;\">\n",
       "      <th></th>\n",
       "      <th>conduct</th>\n",
       "      <th>age</th>\n",
       "      <th>gender</th>\n",
       "      <th>pob</th>\n",
       "      <th>tutor/makeup</th>\n",
       "      <th>grade</th>\n",
       "      <th>admission</th>\n",
       "      <th>guardian</th>\n",
       "      <th>transport_type</th>\n",
       "      <th>birth_order</th>\n",
       "      <th>mother_tongue</th>\n",
       "      <th>parenting_style</th>\n",
       "      <th>maths</th>\n",
       "      <th>english</th>\n",
       "      <th>gpa</th>\n",
       "    </tr>\n",
       "  </thead>\n",
       "  <tbody>\n",
       "    <tr>\n",
       "      <th>281</th>\n",
       "      <td>b</td>\n",
       "      <td>18.0</td>\n",
       "      <td>f</td>\n",
       "      <td>ethiopia</td>\n",
       "      <td>no</td>\n",
       "      <td>12</td>\n",
       "      <td>paid</td>\n",
       "      <td>mother</td>\n",
       "      <td>private</td>\n",
       "      <td>last child</td>\n",
       "      <td>for-lang</td>\n",
       "      <td>authoritarian</td>\n",
       "      <td>27.53</td>\n",
       "      <td>67.67</td>\n",
       "      <td>63.7</td>\n",
       "    </tr>\n",
       "  </tbody>\n",
       "</table>\n",
       "</div>"
      ],
      "text/plain": [
       "    conduct   age gender       pob tutor/makeup  grade admission guardian  \\\n",
       "281       b  18.0      f  ethiopia           no     12      paid   mother   \n",
       "\n",
       "    transport_type birth_order mother_tongue parenting_style  maths  english  \\\n",
       "281        private  last child      for-lang   authoritarian  27.53    67.67   \n",
       "\n",
       "      gpa  \n",
       "281  63.7  "
      ]
     },
     "execution_count": 12,
     "metadata": {},
     "output_type": "execute_result"
    }
   ],
   "source": [
    "dfx[dfx.maths == 27.53]"
   ]
  },
  {
   "cell_type": "code",
   "execution_count": 13,
   "metadata": {},
   "outputs": [
    {
     "data": {
      "text/plain": [
       "conduct                        b\n",
       "age                         18.0\n",
       "gender                         f\n",
       "pob                     ethiopia\n",
       "tutor/makeup                  no\n",
       "grade                         12\n",
       "admission                   paid\n",
       "guardian                  mother\n",
       "transport_type           private\n",
       "birth_order           last child\n",
       "mother_tongue           for-lang\n",
       "parenting_style    authoritarian\n",
       "maths                      27.53\n",
       "english                    67.67\n",
       "gpa                         63.7\n",
       "Name: 281, dtype: object"
      ]
     },
     "execution_count": 13,
     "metadata": {},
     "output_type": "execute_result"
    }
   ],
   "source": [
    "dfx.loc[281]"
   ]
  },
  {
   "cell_type": "code",
   "execution_count": 14,
   "metadata": {},
   "outputs": [],
   "source": [
    "dfx= dfx.drop(281)"
   ]
  },
  {
   "cell_type": "code",
   "execution_count": 15,
   "metadata": {},
   "outputs": [
    {
     "data": {
      "application/vnd.plotly.v1+json": {
       "config": {
        "plotlyServerURL": "https://plot.ly"
       },
       "data": [
        {
         "alignmentgroup": "True",
         "hovertemplate": "age=%{y}<extra></extra>",
         "legendgroup": "",
         "marker": {
          "color": "#636efa"
         },
         "name": "",
         "notched": false,
         "offsetgroup": "",
         "orientation": "v",
         "showlegend": false,
         "type": "box",
         "x0": " ",
         "xaxis": "x",
         "y": [
          10,
          12,
          10,
          11,
          11,
          11,
          11,
          11,
          10,
          11,
          11,
          12,
          11,
          12,
          10,
          10,
          11,
          10,
          10,
          11,
          10,
          11,
          12,
          12,
          12,
          11.5,
          12,
          11,
          12,
          12,
          12,
          12,
          12,
          11,
          11,
          12,
          12,
          11,
          11,
          11,
          11,
          12,
          12,
          12,
          12,
          12,
          12,
          12,
          13,
          13,
          14,
          14,
          14,
          13,
          13,
          12,
          14,
          12,
          12,
          12,
          13,
          12,
          13,
          13,
          12,
          14,
          12,
          12,
          13,
          12,
          12,
          12,
          13,
          12,
          13,
          12,
          12,
          14,
          12,
          13,
          13,
          13,
          12,
          13,
          13,
          14,
          15,
          14,
          12,
          14,
          14,
          14,
          14,
          14,
          13,
          14,
          14,
          13,
          14,
          14,
          14,
          14,
          12,
          14,
          14,
          14,
          14,
          14,
          14,
          14,
          13,
          14,
          13,
          12,
          14,
          15,
          14,
          14,
          15,
          14,
          15,
          14,
          15,
          15,
          14,
          14,
          15,
          14,
          15,
          15,
          15,
          15,
          14,
          14,
          15,
          18,
          14,
          15,
          15,
          14,
          14,
          14,
          16,
          15,
          15,
          14,
          14,
          15,
          15,
          15,
          14,
          15,
          15,
          15,
          16,
          16,
          14,
          15,
          16,
          15,
          15,
          15,
          14,
          14,
          16,
          15,
          15,
          15,
          16,
          16,
          16,
          15,
          16,
          17,
          16,
          15,
          15,
          15,
          16,
          15,
          15,
          16,
          16,
          16,
          16,
          15,
          16,
          16,
          15,
          16,
          17,
          16,
          16,
          16,
          15,
          15,
          16,
          17,
          15,
          15,
          16,
          15,
          15,
          16,
          16,
          16,
          16,
          15,
          16,
          16,
          13,
          16,
          17,
          16,
          16,
          16,
          16,
          19,
          17,
          16,
          17,
          15,
          16,
          16,
          17,
          17,
          17,
          16,
          17,
          17,
          16,
          16,
          17,
          16,
          16,
          16,
          17,
          17,
          16,
          16,
          17,
          18,
          16,
          16,
          17,
          17,
          17,
          18,
          18,
          17,
          18,
          17,
          17,
          17,
          17,
          17,
          17,
          17,
          19,
          17,
          18,
          18,
          17,
          18,
          17,
          18,
          18,
          18,
          17,
          18,
          17,
          20,
          17,
          18,
          18,
          16,
          19,
          18,
          18,
          17,
          18,
          17,
          18,
          17,
          18,
          18
         ],
         "y0": " ",
         "yaxis": "y"
        }
       ],
       "layout": {
        "boxmode": "group",
        "legend": {
         "tracegroupgap": 0
        },
        "margin": {
         "t": 60
        },
        "template": {
         "data": {
          "bar": [
           {
            "error_x": {
             "color": "#2a3f5f"
            },
            "error_y": {
             "color": "#2a3f5f"
            },
            "marker": {
             "line": {
              "color": "#E5ECF6",
              "width": 0.5
             },
             "pattern": {
              "fillmode": "overlay",
              "size": 10,
              "solidity": 0.2
             }
            },
            "type": "bar"
           }
          ],
          "barpolar": [
           {
            "marker": {
             "line": {
              "color": "#E5ECF6",
              "width": 0.5
             },
             "pattern": {
              "fillmode": "overlay",
              "size": 10,
              "solidity": 0.2
             }
            },
            "type": "barpolar"
           }
          ],
          "carpet": [
           {
            "aaxis": {
             "endlinecolor": "#2a3f5f",
             "gridcolor": "white",
             "linecolor": "white",
             "minorgridcolor": "white",
             "startlinecolor": "#2a3f5f"
            },
            "baxis": {
             "endlinecolor": "#2a3f5f",
             "gridcolor": "white",
             "linecolor": "white",
             "minorgridcolor": "white",
             "startlinecolor": "#2a3f5f"
            },
            "type": "carpet"
           }
          ],
          "choropleth": [
           {
            "colorbar": {
             "outlinewidth": 0,
             "ticks": ""
            },
            "type": "choropleth"
           }
          ],
          "contour": [
           {
            "colorbar": {
             "outlinewidth": 0,
             "ticks": ""
            },
            "colorscale": [
             [
              0,
              "#0d0887"
             ],
             [
              0.1111111111111111,
              "#46039f"
             ],
             [
              0.2222222222222222,
              "#7201a8"
             ],
             [
              0.3333333333333333,
              "#9c179e"
             ],
             [
              0.4444444444444444,
              "#bd3786"
             ],
             [
              0.5555555555555556,
              "#d8576b"
             ],
             [
              0.6666666666666666,
              "#ed7953"
             ],
             [
              0.7777777777777778,
              "#fb9f3a"
             ],
             [
              0.8888888888888888,
              "#fdca26"
             ],
             [
              1,
              "#f0f921"
             ]
            ],
            "type": "contour"
           }
          ],
          "contourcarpet": [
           {
            "colorbar": {
             "outlinewidth": 0,
             "ticks": ""
            },
            "type": "contourcarpet"
           }
          ],
          "heatmap": [
           {
            "colorbar": {
             "outlinewidth": 0,
             "ticks": ""
            },
            "colorscale": [
             [
              0,
              "#0d0887"
             ],
             [
              0.1111111111111111,
              "#46039f"
             ],
             [
              0.2222222222222222,
              "#7201a8"
             ],
             [
              0.3333333333333333,
              "#9c179e"
             ],
             [
              0.4444444444444444,
              "#bd3786"
             ],
             [
              0.5555555555555556,
              "#d8576b"
             ],
             [
              0.6666666666666666,
              "#ed7953"
             ],
             [
              0.7777777777777778,
              "#fb9f3a"
             ],
             [
              0.8888888888888888,
              "#fdca26"
             ],
             [
              1,
              "#f0f921"
             ]
            ],
            "type": "heatmap"
           }
          ],
          "heatmapgl": [
           {
            "colorbar": {
             "outlinewidth": 0,
             "ticks": ""
            },
            "colorscale": [
             [
              0,
              "#0d0887"
             ],
             [
              0.1111111111111111,
              "#46039f"
             ],
             [
              0.2222222222222222,
              "#7201a8"
             ],
             [
              0.3333333333333333,
              "#9c179e"
             ],
             [
              0.4444444444444444,
              "#bd3786"
             ],
             [
              0.5555555555555556,
              "#d8576b"
             ],
             [
              0.6666666666666666,
              "#ed7953"
             ],
             [
              0.7777777777777778,
              "#fb9f3a"
             ],
             [
              0.8888888888888888,
              "#fdca26"
             ],
             [
              1,
              "#f0f921"
             ]
            ],
            "type": "heatmapgl"
           }
          ],
          "histogram": [
           {
            "marker": {
             "pattern": {
              "fillmode": "overlay",
              "size": 10,
              "solidity": 0.2
             }
            },
            "type": "histogram"
           }
          ],
          "histogram2d": [
           {
            "colorbar": {
             "outlinewidth": 0,
             "ticks": ""
            },
            "colorscale": [
             [
              0,
              "#0d0887"
             ],
             [
              0.1111111111111111,
              "#46039f"
             ],
             [
              0.2222222222222222,
              "#7201a8"
             ],
             [
              0.3333333333333333,
              "#9c179e"
             ],
             [
              0.4444444444444444,
              "#bd3786"
             ],
             [
              0.5555555555555556,
              "#d8576b"
             ],
             [
              0.6666666666666666,
              "#ed7953"
             ],
             [
              0.7777777777777778,
              "#fb9f3a"
             ],
             [
              0.8888888888888888,
              "#fdca26"
             ],
             [
              1,
              "#f0f921"
             ]
            ],
            "type": "histogram2d"
           }
          ],
          "histogram2dcontour": [
           {
            "colorbar": {
             "outlinewidth": 0,
             "ticks": ""
            },
            "colorscale": [
             [
              0,
              "#0d0887"
             ],
             [
              0.1111111111111111,
              "#46039f"
             ],
             [
              0.2222222222222222,
              "#7201a8"
             ],
             [
              0.3333333333333333,
              "#9c179e"
             ],
             [
              0.4444444444444444,
              "#bd3786"
             ],
             [
              0.5555555555555556,
              "#d8576b"
             ],
             [
              0.6666666666666666,
              "#ed7953"
             ],
             [
              0.7777777777777778,
              "#fb9f3a"
             ],
             [
              0.8888888888888888,
              "#fdca26"
             ],
             [
              1,
              "#f0f921"
             ]
            ],
            "type": "histogram2dcontour"
           }
          ],
          "mesh3d": [
           {
            "colorbar": {
             "outlinewidth": 0,
             "ticks": ""
            },
            "type": "mesh3d"
           }
          ],
          "parcoords": [
           {
            "line": {
             "colorbar": {
              "outlinewidth": 0,
              "ticks": ""
             }
            },
            "type": "parcoords"
           }
          ],
          "pie": [
           {
            "automargin": true,
            "type": "pie"
           }
          ],
          "scatter": [
           {
            "fillpattern": {
             "fillmode": "overlay",
             "size": 10,
             "solidity": 0.2
            },
            "type": "scatter"
           }
          ],
          "scatter3d": [
           {
            "line": {
             "colorbar": {
              "outlinewidth": 0,
              "ticks": ""
             }
            },
            "marker": {
             "colorbar": {
              "outlinewidth": 0,
              "ticks": ""
             }
            },
            "type": "scatter3d"
           }
          ],
          "scattercarpet": [
           {
            "marker": {
             "colorbar": {
              "outlinewidth": 0,
              "ticks": ""
             }
            },
            "type": "scattercarpet"
           }
          ],
          "scattergeo": [
           {
            "marker": {
             "colorbar": {
              "outlinewidth": 0,
              "ticks": ""
             }
            },
            "type": "scattergeo"
           }
          ],
          "scattergl": [
           {
            "marker": {
             "colorbar": {
              "outlinewidth": 0,
              "ticks": ""
             }
            },
            "type": "scattergl"
           }
          ],
          "scattermapbox": [
           {
            "marker": {
             "colorbar": {
              "outlinewidth": 0,
              "ticks": ""
             }
            },
            "type": "scattermapbox"
           }
          ],
          "scatterpolar": [
           {
            "marker": {
             "colorbar": {
              "outlinewidth": 0,
              "ticks": ""
             }
            },
            "type": "scatterpolar"
           }
          ],
          "scatterpolargl": [
           {
            "marker": {
             "colorbar": {
              "outlinewidth": 0,
              "ticks": ""
             }
            },
            "type": "scatterpolargl"
           }
          ],
          "scatterternary": [
           {
            "marker": {
             "colorbar": {
              "outlinewidth": 0,
              "ticks": ""
             }
            },
            "type": "scatterternary"
           }
          ],
          "surface": [
           {
            "colorbar": {
             "outlinewidth": 0,
             "ticks": ""
            },
            "colorscale": [
             [
              0,
              "#0d0887"
             ],
             [
              0.1111111111111111,
              "#46039f"
             ],
             [
              0.2222222222222222,
              "#7201a8"
             ],
             [
              0.3333333333333333,
              "#9c179e"
             ],
             [
              0.4444444444444444,
              "#bd3786"
             ],
             [
              0.5555555555555556,
              "#d8576b"
             ],
             [
              0.6666666666666666,
              "#ed7953"
             ],
             [
              0.7777777777777778,
              "#fb9f3a"
             ],
             [
              0.8888888888888888,
              "#fdca26"
             ],
             [
              1,
              "#f0f921"
             ]
            ],
            "type": "surface"
           }
          ],
          "table": [
           {
            "cells": {
             "fill": {
              "color": "#EBF0F8"
             },
             "line": {
              "color": "white"
             }
            },
            "header": {
             "fill": {
              "color": "#C8D4E3"
             },
             "line": {
              "color": "white"
             }
            },
            "type": "table"
           }
          ]
         },
         "layout": {
          "annotationdefaults": {
           "arrowcolor": "#2a3f5f",
           "arrowhead": 0,
           "arrowwidth": 1
          },
          "autotypenumbers": "strict",
          "coloraxis": {
           "colorbar": {
            "outlinewidth": 0,
            "ticks": ""
           }
          },
          "colorscale": {
           "diverging": [
            [
             0,
             "#8e0152"
            ],
            [
             0.1,
             "#c51b7d"
            ],
            [
             0.2,
             "#de77ae"
            ],
            [
             0.3,
             "#f1b6da"
            ],
            [
             0.4,
             "#fde0ef"
            ],
            [
             0.5,
             "#f7f7f7"
            ],
            [
             0.6,
             "#e6f5d0"
            ],
            [
             0.7,
             "#b8e186"
            ],
            [
             0.8,
             "#7fbc41"
            ],
            [
             0.9,
             "#4d9221"
            ],
            [
             1,
             "#276419"
            ]
           ],
           "sequential": [
            [
             0,
             "#0d0887"
            ],
            [
             0.1111111111111111,
             "#46039f"
            ],
            [
             0.2222222222222222,
             "#7201a8"
            ],
            [
             0.3333333333333333,
             "#9c179e"
            ],
            [
             0.4444444444444444,
             "#bd3786"
            ],
            [
             0.5555555555555556,
             "#d8576b"
            ],
            [
             0.6666666666666666,
             "#ed7953"
            ],
            [
             0.7777777777777778,
             "#fb9f3a"
            ],
            [
             0.8888888888888888,
             "#fdca26"
            ],
            [
             1,
             "#f0f921"
            ]
           ],
           "sequentialminus": [
            [
             0,
             "#0d0887"
            ],
            [
             0.1111111111111111,
             "#46039f"
            ],
            [
             0.2222222222222222,
             "#7201a8"
            ],
            [
             0.3333333333333333,
             "#9c179e"
            ],
            [
             0.4444444444444444,
             "#bd3786"
            ],
            [
             0.5555555555555556,
             "#d8576b"
            ],
            [
             0.6666666666666666,
             "#ed7953"
            ],
            [
             0.7777777777777778,
             "#fb9f3a"
            ],
            [
             0.8888888888888888,
             "#fdca26"
            ],
            [
             1,
             "#f0f921"
            ]
           ]
          },
          "colorway": [
           "#636efa",
           "#EF553B",
           "#00cc96",
           "#ab63fa",
           "#FFA15A",
           "#19d3f3",
           "#FF6692",
           "#B6E880",
           "#FF97FF",
           "#FECB52"
          ],
          "font": {
           "color": "#2a3f5f"
          },
          "geo": {
           "bgcolor": "white",
           "lakecolor": "white",
           "landcolor": "#E5ECF6",
           "showlakes": true,
           "showland": true,
           "subunitcolor": "white"
          },
          "hoverlabel": {
           "align": "left"
          },
          "hovermode": "closest",
          "mapbox": {
           "style": "light"
          },
          "paper_bgcolor": "white",
          "plot_bgcolor": "#E5ECF6",
          "polar": {
           "angularaxis": {
            "gridcolor": "white",
            "linecolor": "white",
            "ticks": ""
           },
           "bgcolor": "#E5ECF6",
           "radialaxis": {
            "gridcolor": "white",
            "linecolor": "white",
            "ticks": ""
           }
          },
          "scene": {
           "xaxis": {
            "backgroundcolor": "#E5ECF6",
            "gridcolor": "white",
            "gridwidth": 2,
            "linecolor": "white",
            "showbackground": true,
            "ticks": "",
            "zerolinecolor": "white"
           },
           "yaxis": {
            "backgroundcolor": "#E5ECF6",
            "gridcolor": "white",
            "gridwidth": 2,
            "linecolor": "white",
            "showbackground": true,
            "ticks": "",
            "zerolinecolor": "white"
           },
           "zaxis": {
            "backgroundcolor": "#E5ECF6",
            "gridcolor": "white",
            "gridwidth": 2,
            "linecolor": "white",
            "showbackground": true,
            "ticks": "",
            "zerolinecolor": "white"
           }
          },
          "shapedefaults": {
           "line": {
            "color": "#2a3f5f"
           }
          },
          "ternary": {
           "aaxis": {
            "gridcolor": "white",
            "linecolor": "white",
            "ticks": ""
           },
           "baxis": {
            "gridcolor": "white",
            "linecolor": "white",
            "ticks": ""
           },
           "bgcolor": "#E5ECF6",
           "caxis": {
            "gridcolor": "white",
            "linecolor": "white",
            "ticks": ""
           }
          },
          "title": {
           "x": 0.05
          },
          "xaxis": {
           "automargin": true,
           "gridcolor": "white",
           "linecolor": "white",
           "ticks": "",
           "title": {
            "standoff": 15
           },
           "zerolinecolor": "white",
           "zerolinewidth": 2
          },
          "yaxis": {
           "automargin": true,
           "gridcolor": "white",
           "linecolor": "white",
           "ticks": "",
           "title": {
            "standoff": 15
           },
           "zerolinecolor": "white",
           "zerolinewidth": 2
          }
         }
        },
        "xaxis": {
         "anchor": "y",
         "domain": [
          0,
          1
         ]
        },
        "yaxis": {
         "anchor": "x",
         "domain": [
          0,
          1
         ],
         "title": {
          "text": "age"
         }
        }
       }
      }
     },
     "metadata": {},
     "output_type": "display_data"
    }
   ],
   "source": [
    "fig = px.box(dfx, y=\"age\")\n",
    "fig.show()"
   ]
  },
  {
   "cell_type": "code",
   "execution_count": 16,
   "metadata": {},
   "outputs": [
    {
     "data": {
      "text/plain": [
       "58.36"
      ]
     },
     "execution_count": 16,
     "metadata": {},
     "output_type": "execute_result"
    }
   ],
   "source": [
    "dfx.maths.min()"
   ]
  },
  {
   "cell_type": "code",
   "execution_count": 17,
   "metadata": {},
   "outputs": [
    {
     "data": {
      "text/plain": [
       "conduct            0\n",
       "age                0\n",
       "gender             0\n",
       "pob                0\n",
       "tutor/makeup       0\n",
       "grade              0\n",
       "admission          0\n",
       "guardian           0\n",
       "transport_type     0\n",
       "birth_order        0\n",
       "mother_tongue      0\n",
       "parenting_style    0\n",
       "maths              0\n",
       "english            0\n",
       "gpa                0\n",
       "dtype: int64"
      ]
     },
     "execution_count": 17,
     "metadata": {},
     "output_type": "execute_result"
    }
   ],
   "source": [
    "dfx.isna().sum()"
   ]
  },
  {
   "cell_type": "code",
   "execution_count": 18,
   "metadata": {},
   "outputs": [],
   "source": [
    "dummies = pd.get_dummies(df.birth_order)"
   ]
  },
  {
   "cell_type": "code",
   "execution_count": 19,
   "metadata": {},
   "outputs": [
    {
     "data": {
      "text/html": [
       "<div>\n",
       "<style scoped>\n",
       "    .dataframe tbody tr th:only-of-type {\n",
       "        vertical-align: middle;\n",
       "    }\n",
       "\n",
       "    .dataframe tbody tr th {\n",
       "        vertical-align: top;\n",
       "    }\n",
       "\n",
       "    .dataframe thead th {\n",
       "        text-align: right;\n",
       "    }\n",
       "</style>\n",
       "<table border=\"1\" class=\"dataframe\">\n",
       "  <thead>\n",
       "    <tr style=\"text-align: right;\">\n",
       "      <th></th>\n",
       "      <th>conduct</th>\n",
       "      <th>age</th>\n",
       "      <th>gender</th>\n",
       "      <th>pob</th>\n",
       "      <th>tutor/makeup</th>\n",
       "      <th>grade</th>\n",
       "      <th>admission</th>\n",
       "      <th>guardian</th>\n",
       "      <th>transport_type</th>\n",
       "      <th>mother_tongue</th>\n",
       "      <th>parenting_style</th>\n",
       "      <th>maths</th>\n",
       "      <th>english</th>\n",
       "      <th>gpa</th>\n",
       "      <th>first child</th>\n",
       "      <th>last child</th>\n",
       "      <th>middle child</th>\n",
       "    </tr>\n",
       "  </thead>\n",
       "  <tbody>\n",
       "    <tr>\n",
       "      <th>0</th>\n",
       "      <td>a</td>\n",
       "      <td>10.0</td>\n",
       "      <td>f</td>\n",
       "      <td>ethiopia</td>\n",
       "      <td>yes</td>\n",
       "      <td>5.0</td>\n",
       "      <td>paid</td>\n",
       "      <td>both</td>\n",
       "      <td>private</td>\n",
       "      <td>eth-lang</td>\n",
       "      <td>authoritative</td>\n",
       "      <td>76.38</td>\n",
       "      <td>94.86</td>\n",
       "      <td>89.4</td>\n",
       "      <td>0</td>\n",
       "      <td>0</td>\n",
       "      <td>1</td>\n",
       "    </tr>\n",
       "    <tr>\n",
       "      <th>1</th>\n",
       "      <td>b</td>\n",
       "      <td>12.0</td>\n",
       "      <td>m</td>\n",
       "      <td>ethiopia</td>\n",
       "      <td>no</td>\n",
       "      <td>5.0</td>\n",
       "      <td>scholarship</td>\n",
       "      <td>both</td>\n",
       "      <td>public</td>\n",
       "      <td>eth-lang</td>\n",
       "      <td>authoritative</td>\n",
       "      <td>74.92</td>\n",
       "      <td>74.12</td>\n",
       "      <td>81.9</td>\n",
       "      <td>1</td>\n",
       "      <td>0</td>\n",
       "      <td>0</td>\n",
       "    </tr>\n",
       "    <tr>\n",
       "      <th>2</th>\n",
       "      <td>a</td>\n",
       "      <td>10.0</td>\n",
       "      <td>m</td>\n",
       "      <td>ethiopia</td>\n",
       "      <td>yes</td>\n",
       "      <td>5.0</td>\n",
       "      <td>paid</td>\n",
       "      <td>both</td>\n",
       "      <td>private</td>\n",
       "      <td>eth-lang</td>\n",
       "      <td>authoritative</td>\n",
       "      <td>84.33</td>\n",
       "      <td>80.12</td>\n",
       "      <td>87.9</td>\n",
       "      <td>0</td>\n",
       "      <td>1</td>\n",
       "      <td>0</td>\n",
       "    </tr>\n",
       "    <tr>\n",
       "      <th>3</th>\n",
       "      <td>c</td>\n",
       "      <td>11.0</td>\n",
       "      <td>m</td>\n",
       "      <td>ethiopia</td>\n",
       "      <td>no</td>\n",
       "      <td>5.0</td>\n",
       "      <td>paid</td>\n",
       "      <td>both</td>\n",
       "      <td>private</td>\n",
       "      <td>eth-lang</td>\n",
       "      <td>authoritative</td>\n",
       "      <td>90.63</td>\n",
       "      <td>82.67</td>\n",
       "      <td>85.9</td>\n",
       "      <td>0</td>\n",
       "      <td>1</td>\n",
       "      <td>0</td>\n",
       "    </tr>\n",
       "    <tr>\n",
       "      <th>4</th>\n",
       "      <td>b</td>\n",
       "      <td>11.0</td>\n",
       "      <td>f</td>\n",
       "      <td>foriegn_soil</td>\n",
       "      <td>no</td>\n",
       "      <td>5.0</td>\n",
       "      <td>paid</td>\n",
       "      <td>mother</td>\n",
       "      <td>private</td>\n",
       "      <td>for-lang</td>\n",
       "      <td>authoritative</td>\n",
       "      <td>96.00</td>\n",
       "      <td>96.31</td>\n",
       "      <td>95.5</td>\n",
       "      <td>0</td>\n",
       "      <td>0</td>\n",
       "      <td>1</td>\n",
       "    </tr>\n",
       "    <tr>\n",
       "      <th>...</th>\n",
       "      <td>...</td>\n",
       "      <td>...</td>\n",
       "      <td>...</td>\n",
       "      <td>...</td>\n",
       "      <td>...</td>\n",
       "      <td>...</td>\n",
       "      <td>...</td>\n",
       "      <td>...</td>\n",
       "      <td>...</td>\n",
       "      <td>...</td>\n",
       "      <td>...</td>\n",
       "      <td>...</td>\n",
       "      <td>...</td>\n",
       "      <td>...</td>\n",
       "      <td>...</td>\n",
       "      <td>...</td>\n",
       "      <td>...</td>\n",
       "    </tr>\n",
       "    <tr>\n",
       "      <th>283</th>\n",
       "      <td>b</td>\n",
       "      <td>18.0</td>\n",
       "      <td>f</td>\n",
       "      <td>ethiopia</td>\n",
       "      <td>no</td>\n",
       "      <td>12.0</td>\n",
       "      <td>paid</td>\n",
       "      <td>both</td>\n",
       "      <td>private</td>\n",
       "      <td>eth-lang</td>\n",
       "      <td>authoritative</td>\n",
       "      <td>66.71</td>\n",
       "      <td>79.77</td>\n",
       "      <td>83.4</td>\n",
       "      <td>0</td>\n",
       "      <td>0</td>\n",
       "      <td>1</td>\n",
       "    </tr>\n",
       "    <tr>\n",
       "      <th>284</th>\n",
       "      <td>a</td>\n",
       "      <td>17.0</td>\n",
       "      <td>f</td>\n",
       "      <td>ethiopia</td>\n",
       "      <td>yes</td>\n",
       "      <td>12.0</td>\n",
       "      <td>paid</td>\n",
       "      <td>both</td>\n",
       "      <td>service</td>\n",
       "      <td>eth-lang</td>\n",
       "      <td>authoritative</td>\n",
       "      <td>64.07</td>\n",
       "      <td>91.40</td>\n",
       "      <td>84.2</td>\n",
       "      <td>0</td>\n",
       "      <td>0</td>\n",
       "      <td>1</td>\n",
       "    </tr>\n",
       "    <tr>\n",
       "      <th>285</th>\n",
       "      <td>a</td>\n",
       "      <td>18.0</td>\n",
       "      <td>f</td>\n",
       "      <td>ethiopia</td>\n",
       "      <td>yes</td>\n",
       "      <td>12.0</td>\n",
       "      <td>paid</td>\n",
       "      <td>both</td>\n",
       "      <td>private</td>\n",
       "      <td>eth-lang</td>\n",
       "      <td>authoritative</td>\n",
       "      <td>65.91</td>\n",
       "      <td>77.82</td>\n",
       "      <td>82.9</td>\n",
       "      <td>0</td>\n",
       "      <td>1</td>\n",
       "      <td>0</td>\n",
       "    </tr>\n",
       "    <tr>\n",
       "      <th>286</th>\n",
       "      <td>a</td>\n",
       "      <td>18.0</td>\n",
       "      <td>m</td>\n",
       "      <td>ethiopia</td>\n",
       "      <td>no</td>\n",
       "      <td>12.0</td>\n",
       "      <td>paid</td>\n",
       "      <td>both</td>\n",
       "      <td>private</td>\n",
       "      <td>eth-lang</td>\n",
       "      <td>authoritative</td>\n",
       "      <td>72.30</td>\n",
       "      <td>86.53</td>\n",
       "      <td>86.6</td>\n",
       "      <td>1</td>\n",
       "      <td>0</td>\n",
       "      <td>0</td>\n",
       "    </tr>\n",
       "    <tr>\n",
       "      <th>281</th>\n",
       "      <td>NaN</td>\n",
       "      <td>NaN</td>\n",
       "      <td>NaN</td>\n",
       "      <td>NaN</td>\n",
       "      <td>NaN</td>\n",
       "      <td>NaN</td>\n",
       "      <td>NaN</td>\n",
       "      <td>NaN</td>\n",
       "      <td>NaN</td>\n",
       "      <td>NaN</td>\n",
       "      <td>NaN</td>\n",
       "      <td>NaN</td>\n",
       "      <td>NaN</td>\n",
       "      <td>NaN</td>\n",
       "      <td>0</td>\n",
       "      <td>1</td>\n",
       "      <td>0</td>\n",
       "    </tr>\n",
       "  </tbody>\n",
       "</table>\n",
       "<p>287 rows × 17 columns</p>\n",
       "</div>"
      ],
      "text/plain": [
       "    conduct   age gender           pob tutor/makeup  grade    admission  \\\n",
       "0         a  10.0      f      ethiopia          yes    5.0         paid   \n",
       "1         b  12.0      m      ethiopia           no    5.0  scholarship   \n",
       "2         a  10.0      m      ethiopia          yes    5.0         paid   \n",
       "3         c  11.0      m      ethiopia           no    5.0         paid   \n",
       "4         b  11.0      f  foriegn_soil           no    5.0         paid   \n",
       "..      ...   ...    ...           ...          ...    ...          ...   \n",
       "283       b  18.0      f      ethiopia           no   12.0         paid   \n",
       "284       a  17.0      f      ethiopia          yes   12.0         paid   \n",
       "285       a  18.0      f      ethiopia          yes   12.0         paid   \n",
       "286       a  18.0      m      ethiopia           no   12.0         paid   \n",
       "281     NaN   NaN    NaN           NaN          NaN    NaN          NaN   \n",
       "\n",
       "    guardian transport_type mother_tongue parenting_style  maths  english  \\\n",
       "0       both        private      eth-lang   authoritative  76.38    94.86   \n",
       "1       both         public      eth-lang   authoritative  74.92    74.12   \n",
       "2       both        private      eth-lang   authoritative  84.33    80.12   \n",
       "3       both        private      eth-lang   authoritative  90.63    82.67   \n",
       "4     mother        private      for-lang   authoritative  96.00    96.31   \n",
       "..       ...            ...           ...             ...    ...      ...   \n",
       "283     both        private      eth-lang   authoritative  66.71    79.77   \n",
       "284     both        service      eth-lang   authoritative  64.07    91.40   \n",
       "285     both        private      eth-lang   authoritative  65.91    77.82   \n",
       "286     both        private      eth-lang   authoritative  72.30    86.53   \n",
       "281      NaN            NaN           NaN             NaN    NaN      NaN   \n",
       "\n",
       "      gpa  first child  last child  middle child  \n",
       "0    89.4            0           0             1  \n",
       "1    81.9            1           0             0  \n",
       "2    87.9            0           1             0  \n",
       "3    85.9            0           1             0  \n",
       "4    95.5            0           0             1  \n",
       "..    ...          ...         ...           ...  \n",
       "283  83.4            0           0             1  \n",
       "284  84.2            0           0             1  \n",
       "285  82.9            0           1             0  \n",
       "286  86.6            1           0             0  \n",
       "281   NaN            0           1             0  \n",
       "\n",
       "[287 rows x 17 columns]"
      ]
     },
     "execution_count": 19,
     "metadata": {},
     "output_type": "execute_result"
    }
   ],
   "source": [
    "merged = pd.concat([dfx, dummies], axis = 'columns')\n",
    "merged = merged.drop(['birth_order'], axis='columns')\n",
    "merged "
   ]
  },
  {
   "cell_type": "code",
   "execution_count": 20,
   "metadata": {},
   "outputs": [
    {
     "data": {
      "text/html": [
       "<div>\n",
       "<style scoped>\n",
       "    .dataframe tbody tr th:only-of-type {\n",
       "        vertical-align: middle;\n",
       "    }\n",
       "\n",
       "    .dataframe tbody tr th {\n",
       "        vertical-align: top;\n",
       "    }\n",
       "\n",
       "    .dataframe thead th {\n",
       "        text-align: right;\n",
       "    }\n",
       "</style>\n",
       "<table border=\"1\" class=\"dataframe\">\n",
       "  <thead>\n",
       "    <tr style=\"text-align: right;\">\n",
       "      <th></th>\n",
       "      <th>conduct</th>\n",
       "      <th>age</th>\n",
       "      <th>gender</th>\n",
       "      <th>pob</th>\n",
       "      <th>tutor/makeup</th>\n",
       "      <th>grade</th>\n",
       "      <th>admission</th>\n",
       "      <th>guardian</th>\n",
       "      <th>transport_type</th>\n",
       "      <th>mother_tongue</th>\n",
       "      <th>maths</th>\n",
       "      <th>english</th>\n",
       "      <th>gpa</th>\n",
       "      <th>first child</th>\n",
       "      <th>last child</th>\n",
       "      <th>middle child</th>\n",
       "      <th>authoritarian</th>\n",
       "      <th>authoritative</th>\n",
       "      <th>permissive</th>\n",
       "    </tr>\n",
       "  </thead>\n",
       "  <tbody>\n",
       "    <tr>\n",
       "      <th>0</th>\n",
       "      <td>a</td>\n",
       "      <td>10.0</td>\n",
       "      <td>f</td>\n",
       "      <td>ethiopia</td>\n",
       "      <td>yes</td>\n",
       "      <td>5.0</td>\n",
       "      <td>paid</td>\n",
       "      <td>both</td>\n",
       "      <td>private</td>\n",
       "      <td>eth-lang</td>\n",
       "      <td>76.38</td>\n",
       "      <td>94.86</td>\n",
       "      <td>89.4</td>\n",
       "      <td>0</td>\n",
       "      <td>0</td>\n",
       "      <td>1</td>\n",
       "      <td>0</td>\n",
       "      <td>1</td>\n",
       "      <td>0</td>\n",
       "    </tr>\n",
       "    <tr>\n",
       "      <th>1</th>\n",
       "      <td>b</td>\n",
       "      <td>12.0</td>\n",
       "      <td>m</td>\n",
       "      <td>ethiopia</td>\n",
       "      <td>no</td>\n",
       "      <td>5.0</td>\n",
       "      <td>scholarship</td>\n",
       "      <td>both</td>\n",
       "      <td>public</td>\n",
       "      <td>eth-lang</td>\n",
       "      <td>74.92</td>\n",
       "      <td>74.12</td>\n",
       "      <td>81.9</td>\n",
       "      <td>1</td>\n",
       "      <td>0</td>\n",
       "      <td>0</td>\n",
       "      <td>0</td>\n",
       "      <td>1</td>\n",
       "      <td>0</td>\n",
       "    </tr>\n",
       "    <tr>\n",
       "      <th>2</th>\n",
       "      <td>a</td>\n",
       "      <td>10.0</td>\n",
       "      <td>m</td>\n",
       "      <td>ethiopia</td>\n",
       "      <td>yes</td>\n",
       "      <td>5.0</td>\n",
       "      <td>paid</td>\n",
       "      <td>both</td>\n",
       "      <td>private</td>\n",
       "      <td>eth-lang</td>\n",
       "      <td>84.33</td>\n",
       "      <td>80.12</td>\n",
       "      <td>87.9</td>\n",
       "      <td>0</td>\n",
       "      <td>1</td>\n",
       "      <td>0</td>\n",
       "      <td>0</td>\n",
       "      <td>1</td>\n",
       "      <td>0</td>\n",
       "    </tr>\n",
       "    <tr>\n",
       "      <th>3</th>\n",
       "      <td>c</td>\n",
       "      <td>11.0</td>\n",
       "      <td>m</td>\n",
       "      <td>ethiopia</td>\n",
       "      <td>no</td>\n",
       "      <td>5.0</td>\n",
       "      <td>paid</td>\n",
       "      <td>both</td>\n",
       "      <td>private</td>\n",
       "      <td>eth-lang</td>\n",
       "      <td>90.63</td>\n",
       "      <td>82.67</td>\n",
       "      <td>85.9</td>\n",
       "      <td>0</td>\n",
       "      <td>1</td>\n",
       "      <td>0</td>\n",
       "      <td>0</td>\n",
       "      <td>1</td>\n",
       "      <td>0</td>\n",
       "    </tr>\n",
       "    <tr>\n",
       "      <th>4</th>\n",
       "      <td>b</td>\n",
       "      <td>11.0</td>\n",
       "      <td>f</td>\n",
       "      <td>foriegn_soil</td>\n",
       "      <td>no</td>\n",
       "      <td>5.0</td>\n",
       "      <td>paid</td>\n",
       "      <td>mother</td>\n",
       "      <td>private</td>\n",
       "      <td>for-lang</td>\n",
       "      <td>96.00</td>\n",
       "      <td>96.31</td>\n",
       "      <td>95.5</td>\n",
       "      <td>0</td>\n",
       "      <td>0</td>\n",
       "      <td>1</td>\n",
       "      <td>0</td>\n",
       "      <td>1</td>\n",
       "      <td>0</td>\n",
       "    </tr>\n",
       "    <tr>\n",
       "      <th>...</th>\n",
       "      <td>...</td>\n",
       "      <td>...</td>\n",
       "      <td>...</td>\n",
       "      <td>...</td>\n",
       "      <td>...</td>\n",
       "      <td>...</td>\n",
       "      <td>...</td>\n",
       "      <td>...</td>\n",
       "      <td>...</td>\n",
       "      <td>...</td>\n",
       "      <td>...</td>\n",
       "      <td>...</td>\n",
       "      <td>...</td>\n",
       "      <td>...</td>\n",
       "      <td>...</td>\n",
       "      <td>...</td>\n",
       "      <td>...</td>\n",
       "      <td>...</td>\n",
       "      <td>...</td>\n",
       "    </tr>\n",
       "    <tr>\n",
       "      <th>283</th>\n",
       "      <td>b</td>\n",
       "      <td>18.0</td>\n",
       "      <td>f</td>\n",
       "      <td>ethiopia</td>\n",
       "      <td>no</td>\n",
       "      <td>12.0</td>\n",
       "      <td>paid</td>\n",
       "      <td>both</td>\n",
       "      <td>private</td>\n",
       "      <td>eth-lang</td>\n",
       "      <td>66.71</td>\n",
       "      <td>79.77</td>\n",
       "      <td>83.4</td>\n",
       "      <td>0</td>\n",
       "      <td>0</td>\n",
       "      <td>1</td>\n",
       "      <td>0</td>\n",
       "      <td>1</td>\n",
       "      <td>0</td>\n",
       "    </tr>\n",
       "    <tr>\n",
       "      <th>284</th>\n",
       "      <td>a</td>\n",
       "      <td>17.0</td>\n",
       "      <td>f</td>\n",
       "      <td>ethiopia</td>\n",
       "      <td>yes</td>\n",
       "      <td>12.0</td>\n",
       "      <td>paid</td>\n",
       "      <td>both</td>\n",
       "      <td>service</td>\n",
       "      <td>eth-lang</td>\n",
       "      <td>64.07</td>\n",
       "      <td>91.40</td>\n",
       "      <td>84.2</td>\n",
       "      <td>0</td>\n",
       "      <td>0</td>\n",
       "      <td>1</td>\n",
       "      <td>0</td>\n",
       "      <td>1</td>\n",
       "      <td>0</td>\n",
       "    </tr>\n",
       "    <tr>\n",
       "      <th>285</th>\n",
       "      <td>a</td>\n",
       "      <td>18.0</td>\n",
       "      <td>f</td>\n",
       "      <td>ethiopia</td>\n",
       "      <td>yes</td>\n",
       "      <td>12.0</td>\n",
       "      <td>paid</td>\n",
       "      <td>both</td>\n",
       "      <td>private</td>\n",
       "      <td>eth-lang</td>\n",
       "      <td>65.91</td>\n",
       "      <td>77.82</td>\n",
       "      <td>82.9</td>\n",
       "      <td>0</td>\n",
       "      <td>1</td>\n",
       "      <td>0</td>\n",
       "      <td>0</td>\n",
       "      <td>1</td>\n",
       "      <td>0</td>\n",
       "    </tr>\n",
       "    <tr>\n",
       "      <th>286</th>\n",
       "      <td>a</td>\n",
       "      <td>18.0</td>\n",
       "      <td>m</td>\n",
       "      <td>ethiopia</td>\n",
       "      <td>no</td>\n",
       "      <td>12.0</td>\n",
       "      <td>paid</td>\n",
       "      <td>both</td>\n",
       "      <td>private</td>\n",
       "      <td>eth-lang</td>\n",
       "      <td>72.30</td>\n",
       "      <td>86.53</td>\n",
       "      <td>86.6</td>\n",
       "      <td>1</td>\n",
       "      <td>0</td>\n",
       "      <td>0</td>\n",
       "      <td>0</td>\n",
       "      <td>1</td>\n",
       "      <td>0</td>\n",
       "    </tr>\n",
       "    <tr>\n",
       "      <th>281</th>\n",
       "      <td>NaN</td>\n",
       "      <td>NaN</td>\n",
       "      <td>NaN</td>\n",
       "      <td>NaN</td>\n",
       "      <td>NaN</td>\n",
       "      <td>NaN</td>\n",
       "      <td>NaN</td>\n",
       "      <td>NaN</td>\n",
       "      <td>NaN</td>\n",
       "      <td>NaN</td>\n",
       "      <td>NaN</td>\n",
       "      <td>NaN</td>\n",
       "      <td>NaN</td>\n",
       "      <td>0</td>\n",
       "      <td>1</td>\n",
       "      <td>0</td>\n",
       "      <td>1</td>\n",
       "      <td>0</td>\n",
       "      <td>0</td>\n",
       "    </tr>\n",
       "  </tbody>\n",
       "</table>\n",
       "<p>287 rows × 19 columns</p>\n",
       "</div>"
      ],
      "text/plain": [
       "    conduct   age gender           pob tutor/makeup  grade    admission  \\\n",
       "0         a  10.0      f      ethiopia          yes    5.0         paid   \n",
       "1         b  12.0      m      ethiopia           no    5.0  scholarship   \n",
       "2         a  10.0      m      ethiopia          yes    5.0         paid   \n",
       "3         c  11.0      m      ethiopia           no    5.0         paid   \n",
       "4         b  11.0      f  foriegn_soil           no    5.0         paid   \n",
       "..      ...   ...    ...           ...          ...    ...          ...   \n",
       "283       b  18.0      f      ethiopia           no   12.0         paid   \n",
       "284       a  17.0      f      ethiopia          yes   12.0         paid   \n",
       "285       a  18.0      f      ethiopia          yes   12.0         paid   \n",
       "286       a  18.0      m      ethiopia           no   12.0         paid   \n",
       "281     NaN   NaN    NaN           NaN          NaN    NaN          NaN   \n",
       "\n",
       "    guardian transport_type mother_tongue  maths  english   gpa  first child  \\\n",
       "0       both        private      eth-lang  76.38    94.86  89.4            0   \n",
       "1       both         public      eth-lang  74.92    74.12  81.9            1   \n",
       "2       both        private      eth-lang  84.33    80.12  87.9            0   \n",
       "3       both        private      eth-lang  90.63    82.67  85.9            0   \n",
       "4     mother        private      for-lang  96.00    96.31  95.5            0   \n",
       "..       ...            ...           ...    ...      ...   ...          ...   \n",
       "283     both        private      eth-lang  66.71    79.77  83.4            0   \n",
       "284     both        service      eth-lang  64.07    91.40  84.2            0   \n",
       "285     both        private      eth-lang  65.91    77.82  82.9            0   \n",
       "286     both        private      eth-lang  72.30    86.53  86.6            1   \n",
       "281      NaN            NaN           NaN    NaN      NaN   NaN            0   \n",
       "\n",
       "     last child  middle child  authoritarian  authoritative  permissive  \n",
       "0             0             1              0              1           0  \n",
       "1             0             0              0              1           0  \n",
       "2             1             0              0              1           0  \n",
       "3             1             0              0              1           0  \n",
       "4             0             1              0              1           0  \n",
       "..          ...           ...            ...            ...         ...  \n",
       "283           0             1              0              1           0  \n",
       "284           0             1              0              1           0  \n",
       "285           1             0              0              1           0  \n",
       "286           0             0              0              1           0  \n",
       "281           1             0              1              0           0  \n",
       "\n",
       "[287 rows x 19 columns]"
      ]
     },
     "execution_count": 20,
     "metadata": {},
     "output_type": "execute_result"
    }
   ],
   "source": [
    "dummies2 = pd.get_dummies(df.parenting_style)\n",
    "merged2 = pd.concat([merged, dummies2], axis = 'columns')\n",
    "merged2 = merged2.drop(['parenting_style', 'uninvolved'], axis='columns')\n",
    "merged2"
   ]
  },
  {
   "cell_type": "code",
   "execution_count": 21,
   "metadata": {},
   "outputs": [
    {
     "data": {
      "text/plain": [
       "private    170\n",
       "service     59\n",
       "public      55\n",
       "on foot      2\n",
       "foot         1\n",
       "Name: transport_type, dtype: int64"
      ]
     },
     "execution_count": 21,
     "metadata": {},
     "output_type": "execute_result"
    }
   ],
   "source": [
    "df.transport_type.value_counts()"
   ]
  },
  {
   "cell_type": "code",
   "execution_count": 22,
   "metadata": {},
   "outputs": [
    {
     "data": {
      "text/plain": [
       "both      226\n",
       "single     45\n",
       "other      16\n",
       "Name: guardian, dtype: int64"
      ]
     },
     "execution_count": 22,
     "metadata": {},
     "output_type": "execute_result"
    }
   ],
   "source": [
    "df['transport_type'] = df['transport_type'].replace('on foot', 'foot')\n",
    "df.guardian = df.guardian.replace('mother', 'single')\n",
    "df.guardian = df.guardian.replace('father', 'single')\n",
    "df.guardian.value_counts()"
   ]
  },
  {
   "cell_type": "code",
   "execution_count": 23,
   "metadata": {},
   "outputs": [
    {
     "data": {
      "text/html": [
       "<div>\n",
       "<style scoped>\n",
       "    .dataframe tbody tr th:only-of-type {\n",
       "        vertical-align: middle;\n",
       "    }\n",
       "\n",
       "    .dataframe tbody tr th {\n",
       "        vertical-align: top;\n",
       "    }\n",
       "\n",
       "    .dataframe thead th {\n",
       "        text-align: right;\n",
       "    }\n",
       "</style>\n",
       "<table border=\"1\" class=\"dataframe\">\n",
       "  <thead>\n",
       "    <tr style=\"text-align: right;\">\n",
       "      <th></th>\n",
       "      <th>conduct</th>\n",
       "      <th>age</th>\n",
       "      <th>gender</th>\n",
       "      <th>pob</th>\n",
       "      <th>tutor/makeup</th>\n",
       "      <th>grade</th>\n",
       "      <th>admission</th>\n",
       "      <th>guardian</th>\n",
       "      <th>mother_tongue</th>\n",
       "      <th>maths</th>\n",
       "      <th>...</th>\n",
       "      <th>gpa</th>\n",
       "      <th>first child</th>\n",
       "      <th>last child</th>\n",
       "      <th>middle child</th>\n",
       "      <th>authoritarian</th>\n",
       "      <th>authoritative</th>\n",
       "      <th>permissive</th>\n",
       "      <th>private</th>\n",
       "      <th>public</th>\n",
       "      <th>service</th>\n",
       "    </tr>\n",
       "  </thead>\n",
       "  <tbody>\n",
       "    <tr>\n",
       "      <th>0</th>\n",
       "      <td>a</td>\n",
       "      <td>10.0</td>\n",
       "      <td>f</td>\n",
       "      <td>ethiopia</td>\n",
       "      <td>yes</td>\n",
       "      <td>5.0</td>\n",
       "      <td>paid</td>\n",
       "      <td>both</td>\n",
       "      <td>eth-lang</td>\n",
       "      <td>76.38</td>\n",
       "      <td>...</td>\n",
       "      <td>89.4</td>\n",
       "      <td>0</td>\n",
       "      <td>0</td>\n",
       "      <td>1</td>\n",
       "      <td>0</td>\n",
       "      <td>1</td>\n",
       "      <td>0</td>\n",
       "      <td>1</td>\n",
       "      <td>0</td>\n",
       "      <td>0</td>\n",
       "    </tr>\n",
       "    <tr>\n",
       "      <th>1</th>\n",
       "      <td>b</td>\n",
       "      <td>12.0</td>\n",
       "      <td>m</td>\n",
       "      <td>ethiopia</td>\n",
       "      <td>no</td>\n",
       "      <td>5.0</td>\n",
       "      <td>scholarship</td>\n",
       "      <td>both</td>\n",
       "      <td>eth-lang</td>\n",
       "      <td>74.92</td>\n",
       "      <td>...</td>\n",
       "      <td>81.9</td>\n",
       "      <td>1</td>\n",
       "      <td>0</td>\n",
       "      <td>0</td>\n",
       "      <td>0</td>\n",
       "      <td>1</td>\n",
       "      <td>0</td>\n",
       "      <td>0</td>\n",
       "      <td>1</td>\n",
       "      <td>0</td>\n",
       "    </tr>\n",
       "    <tr>\n",
       "      <th>2</th>\n",
       "      <td>a</td>\n",
       "      <td>10.0</td>\n",
       "      <td>m</td>\n",
       "      <td>ethiopia</td>\n",
       "      <td>yes</td>\n",
       "      <td>5.0</td>\n",
       "      <td>paid</td>\n",
       "      <td>both</td>\n",
       "      <td>eth-lang</td>\n",
       "      <td>84.33</td>\n",
       "      <td>...</td>\n",
       "      <td>87.9</td>\n",
       "      <td>0</td>\n",
       "      <td>1</td>\n",
       "      <td>0</td>\n",
       "      <td>0</td>\n",
       "      <td>1</td>\n",
       "      <td>0</td>\n",
       "      <td>1</td>\n",
       "      <td>0</td>\n",
       "      <td>0</td>\n",
       "    </tr>\n",
       "    <tr>\n",
       "      <th>3</th>\n",
       "      <td>c</td>\n",
       "      <td>11.0</td>\n",
       "      <td>m</td>\n",
       "      <td>ethiopia</td>\n",
       "      <td>no</td>\n",
       "      <td>5.0</td>\n",
       "      <td>paid</td>\n",
       "      <td>both</td>\n",
       "      <td>eth-lang</td>\n",
       "      <td>90.63</td>\n",
       "      <td>...</td>\n",
       "      <td>85.9</td>\n",
       "      <td>0</td>\n",
       "      <td>1</td>\n",
       "      <td>0</td>\n",
       "      <td>0</td>\n",
       "      <td>1</td>\n",
       "      <td>0</td>\n",
       "      <td>1</td>\n",
       "      <td>0</td>\n",
       "      <td>0</td>\n",
       "    </tr>\n",
       "    <tr>\n",
       "      <th>4</th>\n",
       "      <td>b</td>\n",
       "      <td>11.0</td>\n",
       "      <td>f</td>\n",
       "      <td>foriegn_soil</td>\n",
       "      <td>no</td>\n",
       "      <td>5.0</td>\n",
       "      <td>paid</td>\n",
       "      <td>mother</td>\n",
       "      <td>for-lang</td>\n",
       "      <td>96.00</td>\n",
       "      <td>...</td>\n",
       "      <td>95.5</td>\n",
       "      <td>0</td>\n",
       "      <td>0</td>\n",
       "      <td>1</td>\n",
       "      <td>0</td>\n",
       "      <td>1</td>\n",
       "      <td>0</td>\n",
       "      <td>1</td>\n",
       "      <td>0</td>\n",
       "      <td>0</td>\n",
       "    </tr>\n",
       "    <tr>\n",
       "      <th>...</th>\n",
       "      <td>...</td>\n",
       "      <td>...</td>\n",
       "      <td>...</td>\n",
       "      <td>...</td>\n",
       "      <td>...</td>\n",
       "      <td>...</td>\n",
       "      <td>...</td>\n",
       "      <td>...</td>\n",
       "      <td>...</td>\n",
       "      <td>...</td>\n",
       "      <td>...</td>\n",
       "      <td>...</td>\n",
       "      <td>...</td>\n",
       "      <td>...</td>\n",
       "      <td>...</td>\n",
       "      <td>...</td>\n",
       "      <td>...</td>\n",
       "      <td>...</td>\n",
       "      <td>...</td>\n",
       "      <td>...</td>\n",
       "      <td>...</td>\n",
       "    </tr>\n",
       "    <tr>\n",
       "      <th>283</th>\n",
       "      <td>b</td>\n",
       "      <td>18.0</td>\n",
       "      <td>f</td>\n",
       "      <td>ethiopia</td>\n",
       "      <td>no</td>\n",
       "      <td>12.0</td>\n",
       "      <td>paid</td>\n",
       "      <td>both</td>\n",
       "      <td>eth-lang</td>\n",
       "      <td>66.71</td>\n",
       "      <td>...</td>\n",
       "      <td>83.4</td>\n",
       "      <td>0</td>\n",
       "      <td>0</td>\n",
       "      <td>1</td>\n",
       "      <td>0</td>\n",
       "      <td>1</td>\n",
       "      <td>0</td>\n",
       "      <td>1</td>\n",
       "      <td>0</td>\n",
       "      <td>0</td>\n",
       "    </tr>\n",
       "    <tr>\n",
       "      <th>284</th>\n",
       "      <td>a</td>\n",
       "      <td>17.0</td>\n",
       "      <td>f</td>\n",
       "      <td>ethiopia</td>\n",
       "      <td>yes</td>\n",
       "      <td>12.0</td>\n",
       "      <td>paid</td>\n",
       "      <td>both</td>\n",
       "      <td>eth-lang</td>\n",
       "      <td>64.07</td>\n",
       "      <td>...</td>\n",
       "      <td>84.2</td>\n",
       "      <td>0</td>\n",
       "      <td>0</td>\n",
       "      <td>1</td>\n",
       "      <td>0</td>\n",
       "      <td>1</td>\n",
       "      <td>0</td>\n",
       "      <td>0</td>\n",
       "      <td>0</td>\n",
       "      <td>1</td>\n",
       "    </tr>\n",
       "    <tr>\n",
       "      <th>285</th>\n",
       "      <td>a</td>\n",
       "      <td>18.0</td>\n",
       "      <td>f</td>\n",
       "      <td>ethiopia</td>\n",
       "      <td>yes</td>\n",
       "      <td>12.0</td>\n",
       "      <td>paid</td>\n",
       "      <td>both</td>\n",
       "      <td>eth-lang</td>\n",
       "      <td>65.91</td>\n",
       "      <td>...</td>\n",
       "      <td>82.9</td>\n",
       "      <td>0</td>\n",
       "      <td>1</td>\n",
       "      <td>0</td>\n",
       "      <td>0</td>\n",
       "      <td>1</td>\n",
       "      <td>0</td>\n",
       "      <td>1</td>\n",
       "      <td>0</td>\n",
       "      <td>0</td>\n",
       "    </tr>\n",
       "    <tr>\n",
       "      <th>286</th>\n",
       "      <td>a</td>\n",
       "      <td>18.0</td>\n",
       "      <td>m</td>\n",
       "      <td>ethiopia</td>\n",
       "      <td>no</td>\n",
       "      <td>12.0</td>\n",
       "      <td>paid</td>\n",
       "      <td>both</td>\n",
       "      <td>eth-lang</td>\n",
       "      <td>72.30</td>\n",
       "      <td>...</td>\n",
       "      <td>86.6</td>\n",
       "      <td>1</td>\n",
       "      <td>0</td>\n",
       "      <td>0</td>\n",
       "      <td>0</td>\n",
       "      <td>1</td>\n",
       "      <td>0</td>\n",
       "      <td>1</td>\n",
       "      <td>0</td>\n",
       "      <td>0</td>\n",
       "    </tr>\n",
       "    <tr>\n",
       "      <th>281</th>\n",
       "      <td>NaN</td>\n",
       "      <td>NaN</td>\n",
       "      <td>NaN</td>\n",
       "      <td>NaN</td>\n",
       "      <td>NaN</td>\n",
       "      <td>NaN</td>\n",
       "      <td>NaN</td>\n",
       "      <td>NaN</td>\n",
       "      <td>NaN</td>\n",
       "      <td>NaN</td>\n",
       "      <td>...</td>\n",
       "      <td>NaN</td>\n",
       "      <td>0</td>\n",
       "      <td>1</td>\n",
       "      <td>0</td>\n",
       "      <td>1</td>\n",
       "      <td>0</td>\n",
       "      <td>0</td>\n",
       "      <td>1</td>\n",
       "      <td>0</td>\n",
       "      <td>0</td>\n",
       "    </tr>\n",
       "  </tbody>\n",
       "</table>\n",
       "<p>287 rows × 21 columns</p>\n",
       "</div>"
      ],
      "text/plain": [
       "    conduct   age gender           pob tutor/makeup  grade    admission  \\\n",
       "0         a  10.0      f      ethiopia          yes    5.0         paid   \n",
       "1         b  12.0      m      ethiopia           no    5.0  scholarship   \n",
       "2         a  10.0      m      ethiopia          yes    5.0         paid   \n",
       "3         c  11.0      m      ethiopia           no    5.0         paid   \n",
       "4         b  11.0      f  foriegn_soil           no    5.0         paid   \n",
       "..      ...   ...    ...           ...          ...    ...          ...   \n",
       "283       b  18.0      f      ethiopia           no   12.0         paid   \n",
       "284       a  17.0      f      ethiopia          yes   12.0         paid   \n",
       "285       a  18.0      f      ethiopia          yes   12.0         paid   \n",
       "286       a  18.0      m      ethiopia           no   12.0         paid   \n",
       "281     NaN   NaN    NaN           NaN          NaN    NaN          NaN   \n",
       "\n",
       "    guardian mother_tongue  maths  ...   gpa  first child  last child  \\\n",
       "0       both      eth-lang  76.38  ...  89.4            0           0   \n",
       "1       both      eth-lang  74.92  ...  81.9            1           0   \n",
       "2       both      eth-lang  84.33  ...  87.9            0           1   \n",
       "3       both      eth-lang  90.63  ...  85.9            0           1   \n",
       "4     mother      for-lang  96.00  ...  95.5            0           0   \n",
       "..       ...           ...    ...  ...   ...          ...         ...   \n",
       "283     both      eth-lang  66.71  ...  83.4            0           0   \n",
       "284     both      eth-lang  64.07  ...  84.2            0           0   \n",
       "285     both      eth-lang  65.91  ...  82.9            0           1   \n",
       "286     both      eth-lang  72.30  ...  86.6            1           0   \n",
       "281      NaN           NaN    NaN  ...   NaN            0           1   \n",
       "\n",
       "     middle child  authoritarian  authoritative  permissive  private  public  \\\n",
       "0               1              0              1           0        1       0   \n",
       "1               0              0              1           0        0       1   \n",
       "2               0              0              1           0        1       0   \n",
       "3               0              0              1           0        1       0   \n",
       "4               1              0              1           0        1       0   \n",
       "..            ...            ...            ...         ...      ...     ...   \n",
       "283             1              0              1           0        1       0   \n",
       "284             1              0              1           0        0       0   \n",
       "285             0              0              1           0        1       0   \n",
       "286             0              0              1           0        1       0   \n",
       "281             0              1              0           0        1       0   \n",
       "\n",
       "     service  \n",
       "0          0  \n",
       "1          0  \n",
       "2          0  \n",
       "3          0  \n",
       "4          0  \n",
       "..       ...  \n",
       "283        0  \n",
       "284        1  \n",
       "285        0  \n",
       "286        0  \n",
       "281        0  \n",
       "\n",
       "[287 rows x 21 columns]"
      ]
     },
     "execution_count": 23,
     "metadata": {},
     "output_type": "execute_result"
    }
   ],
   "source": [
    "dummies3 = pd.get_dummies(df.transport_type)\n",
    "merged3 = pd.concat([merged2, dummies3], axis = 'columns')\n",
    "merged3 = merged3.drop(['transport_type', 'foot'], axis='columns')\n",
    "merged3 "
   ]
  },
  {
   "cell_type": "code",
   "execution_count": 24,
   "metadata": {},
   "outputs": [
    {
     "data": {
      "text/html": [
       "<div>\n",
       "<style scoped>\n",
       "    .dataframe tbody tr th:only-of-type {\n",
       "        vertical-align: middle;\n",
       "    }\n",
       "\n",
       "    .dataframe tbody tr th {\n",
       "        vertical-align: top;\n",
       "    }\n",
       "\n",
       "    .dataframe thead th {\n",
       "        text-align: right;\n",
       "    }\n",
       "</style>\n",
       "<table border=\"1\" class=\"dataframe\">\n",
       "  <thead>\n",
       "    <tr style=\"text-align: right;\">\n",
       "      <th></th>\n",
       "      <th>conduct</th>\n",
       "      <th>age</th>\n",
       "      <th>gender</th>\n",
       "      <th>pob</th>\n",
       "      <th>tutor/makeup</th>\n",
       "      <th>grade</th>\n",
       "      <th>admission</th>\n",
       "      <th>mother_tongue</th>\n",
       "      <th>maths</th>\n",
       "      <th>english</th>\n",
       "      <th>...</th>\n",
       "      <th>last child</th>\n",
       "      <th>middle child</th>\n",
       "      <th>authoritarian</th>\n",
       "      <th>authoritative</th>\n",
       "      <th>permissive</th>\n",
       "      <th>private</th>\n",
       "      <th>public</th>\n",
       "      <th>service</th>\n",
       "      <th>both</th>\n",
       "      <th>single</th>\n",
       "    </tr>\n",
       "  </thead>\n",
       "  <tbody>\n",
       "    <tr>\n",
       "      <th>0</th>\n",
       "      <td>a</td>\n",
       "      <td>10.0</td>\n",
       "      <td>f</td>\n",
       "      <td>ethiopia</td>\n",
       "      <td>yes</td>\n",
       "      <td>5.0</td>\n",
       "      <td>paid</td>\n",
       "      <td>eth-lang</td>\n",
       "      <td>76.38</td>\n",
       "      <td>94.86</td>\n",
       "      <td>...</td>\n",
       "      <td>0</td>\n",
       "      <td>1</td>\n",
       "      <td>0</td>\n",
       "      <td>1</td>\n",
       "      <td>0</td>\n",
       "      <td>1</td>\n",
       "      <td>0</td>\n",
       "      <td>0</td>\n",
       "      <td>1</td>\n",
       "      <td>0</td>\n",
       "    </tr>\n",
       "    <tr>\n",
       "      <th>1</th>\n",
       "      <td>b</td>\n",
       "      <td>12.0</td>\n",
       "      <td>m</td>\n",
       "      <td>ethiopia</td>\n",
       "      <td>no</td>\n",
       "      <td>5.0</td>\n",
       "      <td>scholarship</td>\n",
       "      <td>eth-lang</td>\n",
       "      <td>74.92</td>\n",
       "      <td>74.12</td>\n",
       "      <td>...</td>\n",
       "      <td>0</td>\n",
       "      <td>0</td>\n",
       "      <td>0</td>\n",
       "      <td>1</td>\n",
       "      <td>0</td>\n",
       "      <td>0</td>\n",
       "      <td>1</td>\n",
       "      <td>0</td>\n",
       "      <td>1</td>\n",
       "      <td>0</td>\n",
       "    </tr>\n",
       "    <tr>\n",
       "      <th>2</th>\n",
       "      <td>a</td>\n",
       "      <td>10.0</td>\n",
       "      <td>m</td>\n",
       "      <td>ethiopia</td>\n",
       "      <td>yes</td>\n",
       "      <td>5.0</td>\n",
       "      <td>paid</td>\n",
       "      <td>eth-lang</td>\n",
       "      <td>84.33</td>\n",
       "      <td>80.12</td>\n",
       "      <td>...</td>\n",
       "      <td>1</td>\n",
       "      <td>0</td>\n",
       "      <td>0</td>\n",
       "      <td>1</td>\n",
       "      <td>0</td>\n",
       "      <td>1</td>\n",
       "      <td>0</td>\n",
       "      <td>0</td>\n",
       "      <td>1</td>\n",
       "      <td>0</td>\n",
       "    </tr>\n",
       "    <tr>\n",
       "      <th>3</th>\n",
       "      <td>c</td>\n",
       "      <td>11.0</td>\n",
       "      <td>m</td>\n",
       "      <td>ethiopia</td>\n",
       "      <td>no</td>\n",
       "      <td>5.0</td>\n",
       "      <td>paid</td>\n",
       "      <td>eth-lang</td>\n",
       "      <td>90.63</td>\n",
       "      <td>82.67</td>\n",
       "      <td>...</td>\n",
       "      <td>1</td>\n",
       "      <td>0</td>\n",
       "      <td>0</td>\n",
       "      <td>1</td>\n",
       "      <td>0</td>\n",
       "      <td>1</td>\n",
       "      <td>0</td>\n",
       "      <td>0</td>\n",
       "      <td>1</td>\n",
       "      <td>0</td>\n",
       "    </tr>\n",
       "    <tr>\n",
       "      <th>4</th>\n",
       "      <td>b</td>\n",
       "      <td>11.0</td>\n",
       "      <td>f</td>\n",
       "      <td>foriegn_soil</td>\n",
       "      <td>no</td>\n",
       "      <td>5.0</td>\n",
       "      <td>paid</td>\n",
       "      <td>for-lang</td>\n",
       "      <td>96.00</td>\n",
       "      <td>96.31</td>\n",
       "      <td>...</td>\n",
       "      <td>0</td>\n",
       "      <td>1</td>\n",
       "      <td>0</td>\n",
       "      <td>1</td>\n",
       "      <td>0</td>\n",
       "      <td>1</td>\n",
       "      <td>0</td>\n",
       "      <td>0</td>\n",
       "      <td>0</td>\n",
       "      <td>1</td>\n",
       "    </tr>\n",
       "    <tr>\n",
       "      <th>...</th>\n",
       "      <td>...</td>\n",
       "      <td>...</td>\n",
       "      <td>...</td>\n",
       "      <td>...</td>\n",
       "      <td>...</td>\n",
       "      <td>...</td>\n",
       "      <td>...</td>\n",
       "      <td>...</td>\n",
       "      <td>...</td>\n",
       "      <td>...</td>\n",
       "      <td>...</td>\n",
       "      <td>...</td>\n",
       "      <td>...</td>\n",
       "      <td>...</td>\n",
       "      <td>...</td>\n",
       "      <td>...</td>\n",
       "      <td>...</td>\n",
       "      <td>...</td>\n",
       "      <td>...</td>\n",
       "      <td>...</td>\n",
       "      <td>...</td>\n",
       "    </tr>\n",
       "    <tr>\n",
       "      <th>282</th>\n",
       "      <td>b</td>\n",
       "      <td>17.0</td>\n",
       "      <td>f</td>\n",
       "      <td>ethiopia</td>\n",
       "      <td>no</td>\n",
       "      <td>12.0</td>\n",
       "      <td>paid</td>\n",
       "      <td>eth-lang</td>\n",
       "      <td>74.35</td>\n",
       "      <td>92.25</td>\n",
       "      <td>...</td>\n",
       "      <td>0</td>\n",
       "      <td>1</td>\n",
       "      <td>0</td>\n",
       "      <td>1</td>\n",
       "      <td>0</td>\n",
       "      <td>0</td>\n",
       "      <td>0</td>\n",
       "      <td>1</td>\n",
       "      <td>1</td>\n",
       "      <td>0</td>\n",
       "    </tr>\n",
       "    <tr>\n",
       "      <th>283</th>\n",
       "      <td>b</td>\n",
       "      <td>18.0</td>\n",
       "      <td>f</td>\n",
       "      <td>ethiopia</td>\n",
       "      <td>no</td>\n",
       "      <td>12.0</td>\n",
       "      <td>paid</td>\n",
       "      <td>eth-lang</td>\n",
       "      <td>66.71</td>\n",
       "      <td>79.77</td>\n",
       "      <td>...</td>\n",
       "      <td>0</td>\n",
       "      <td>1</td>\n",
       "      <td>0</td>\n",
       "      <td>1</td>\n",
       "      <td>0</td>\n",
       "      <td>1</td>\n",
       "      <td>0</td>\n",
       "      <td>0</td>\n",
       "      <td>1</td>\n",
       "      <td>0</td>\n",
       "    </tr>\n",
       "    <tr>\n",
       "      <th>284</th>\n",
       "      <td>a</td>\n",
       "      <td>17.0</td>\n",
       "      <td>f</td>\n",
       "      <td>ethiopia</td>\n",
       "      <td>yes</td>\n",
       "      <td>12.0</td>\n",
       "      <td>paid</td>\n",
       "      <td>eth-lang</td>\n",
       "      <td>64.07</td>\n",
       "      <td>91.40</td>\n",
       "      <td>...</td>\n",
       "      <td>0</td>\n",
       "      <td>1</td>\n",
       "      <td>0</td>\n",
       "      <td>1</td>\n",
       "      <td>0</td>\n",
       "      <td>0</td>\n",
       "      <td>0</td>\n",
       "      <td>1</td>\n",
       "      <td>1</td>\n",
       "      <td>0</td>\n",
       "    </tr>\n",
       "    <tr>\n",
       "      <th>285</th>\n",
       "      <td>a</td>\n",
       "      <td>18.0</td>\n",
       "      <td>f</td>\n",
       "      <td>ethiopia</td>\n",
       "      <td>yes</td>\n",
       "      <td>12.0</td>\n",
       "      <td>paid</td>\n",
       "      <td>eth-lang</td>\n",
       "      <td>65.91</td>\n",
       "      <td>77.82</td>\n",
       "      <td>...</td>\n",
       "      <td>1</td>\n",
       "      <td>0</td>\n",
       "      <td>0</td>\n",
       "      <td>1</td>\n",
       "      <td>0</td>\n",
       "      <td>1</td>\n",
       "      <td>0</td>\n",
       "      <td>0</td>\n",
       "      <td>1</td>\n",
       "      <td>0</td>\n",
       "    </tr>\n",
       "    <tr>\n",
       "      <th>286</th>\n",
       "      <td>a</td>\n",
       "      <td>18.0</td>\n",
       "      <td>m</td>\n",
       "      <td>ethiopia</td>\n",
       "      <td>no</td>\n",
       "      <td>12.0</td>\n",
       "      <td>paid</td>\n",
       "      <td>eth-lang</td>\n",
       "      <td>72.30</td>\n",
       "      <td>86.53</td>\n",
       "      <td>...</td>\n",
       "      <td>0</td>\n",
       "      <td>0</td>\n",
       "      <td>0</td>\n",
       "      <td>1</td>\n",
       "      <td>0</td>\n",
       "      <td>1</td>\n",
       "      <td>0</td>\n",
       "      <td>0</td>\n",
       "      <td>1</td>\n",
       "      <td>0</td>\n",
       "    </tr>\n",
       "  </tbody>\n",
       "</table>\n",
       "<p>286 rows × 22 columns</p>\n",
       "</div>"
      ],
      "text/plain": [
       "    conduct   age gender           pob tutor/makeup  grade    admission  \\\n",
       "0         a  10.0      f      ethiopia          yes    5.0         paid   \n",
       "1         b  12.0      m      ethiopia           no    5.0  scholarship   \n",
       "2         a  10.0      m      ethiopia          yes    5.0         paid   \n",
       "3         c  11.0      m      ethiopia           no    5.0         paid   \n",
       "4         b  11.0      f  foriegn_soil           no    5.0         paid   \n",
       "..      ...   ...    ...           ...          ...    ...          ...   \n",
       "282       b  17.0      f      ethiopia           no   12.0         paid   \n",
       "283       b  18.0      f      ethiopia           no   12.0         paid   \n",
       "284       a  17.0      f      ethiopia          yes   12.0         paid   \n",
       "285       a  18.0      f      ethiopia          yes   12.0         paid   \n",
       "286       a  18.0      m      ethiopia           no   12.0         paid   \n",
       "\n",
       "    mother_tongue  maths  english  ...  last child  middle child  \\\n",
       "0        eth-lang  76.38    94.86  ...           0             1   \n",
       "1        eth-lang  74.92    74.12  ...           0             0   \n",
       "2        eth-lang  84.33    80.12  ...           1             0   \n",
       "3        eth-lang  90.63    82.67  ...           1             0   \n",
       "4        for-lang  96.00    96.31  ...           0             1   \n",
       "..            ...    ...      ...  ...         ...           ...   \n",
       "282      eth-lang  74.35    92.25  ...           0             1   \n",
       "283      eth-lang  66.71    79.77  ...           0             1   \n",
       "284      eth-lang  64.07    91.40  ...           0             1   \n",
       "285      eth-lang  65.91    77.82  ...           1             0   \n",
       "286      eth-lang  72.30    86.53  ...           0             0   \n",
       "\n",
       "     authoritarian  authoritative  permissive  private  public  service  both  \\\n",
       "0                0              1           0        1       0        0     1   \n",
       "1                0              1           0        0       1        0     1   \n",
       "2                0              1           0        1       0        0     1   \n",
       "3                0              1           0        1       0        0     1   \n",
       "4                0              1           0        1       0        0     0   \n",
       "..             ...            ...         ...      ...     ...      ...   ...   \n",
       "282              0              1           0        0       0        1     1   \n",
       "283              0              1           0        1       0        0     1   \n",
       "284              0              1           0        0       0        1     1   \n",
       "285              0              1           0        1       0        0     1   \n",
       "286              0              1           0        1       0        0     1   \n",
       "\n",
       "     single  \n",
       "0         0  \n",
       "1         0  \n",
       "2         0  \n",
       "3         0  \n",
       "4         1  \n",
       "..      ...  \n",
       "282       0  \n",
       "283       0  \n",
       "284       0  \n",
       "285       0  \n",
       "286       0  \n",
       "\n",
       "[286 rows x 22 columns]"
      ]
     },
     "execution_count": 24,
     "metadata": {},
     "output_type": "execute_result"
    }
   ],
   "source": [
    "dummies4 = pd.get_dummies(df.guardian)\n",
    "merged4 = pd.concat([merged3, dummies4], axis = 'columns')\n",
    "merged4 = merged4.drop(['guardian', 'other'], axis='columns')\n",
    "merged4.drop([281], axis=0, inplace=True)\n",
    "merged4 "
   ]
  },
  {
   "cell_type": "code",
   "execution_count": 25,
   "metadata": {},
   "outputs": [],
   "source": [
    "def conx(x):\n",
    "    if x == 'a':\n",
    "        return 3\n",
    "    elif x == 'b':\n",
    "        return 2\n",
    "    else:\n",
    "        return 1"
   ]
  },
  {
   "cell_type": "code",
   "execution_count": 26,
   "metadata": {},
   "outputs": [
    {
     "data": {
      "text/plain": [
       "a    221\n",
       "b     50\n",
       "c     15\n",
       "Name: conduct, dtype: int64"
      ]
     },
     "execution_count": 26,
     "metadata": {},
     "output_type": "execute_result"
    }
   ],
   "source": [
    "merged4.conduct.value_counts()"
   ]
  },
  {
   "cell_type": "code",
   "execution_count": 27,
   "metadata": {},
   "outputs": [
    {
     "data": {
      "text/plain": [
       "3    221\n",
       "2     50\n",
       "1     15\n",
       "Name: conduct, dtype: int64"
      ]
     },
     "execution_count": 27,
     "metadata": {},
     "output_type": "execute_result"
    }
   ],
   "source": [
    "merged4.conduct = merged4.conduct.apply(conx)\n",
    "merged4.conduct.value_counts()"
   ]
  },
  {
   "cell_type": "code",
   "execution_count": 28,
   "metadata": {},
   "outputs": [],
   "source": [
    "merged4['pob']= label_encoder.fit_transform(merged4['pob'])\n",
    "merged4['gender']= label_encoder.fit_transform(merged4['gender'])\n",
    "merged4['tutor/makeup']= label_encoder.fit_transform(merged4['tutor/makeup'])\n",
    "merged4['admission']= label_encoder.fit_transform(merged4['admission'])\n",
    "merged4['mother_tongue']= label_encoder.fit_transform(merged4['mother_tongue'])"
   ]
  },
  {
   "cell_type": "code",
   "execution_count": 29,
   "metadata": {},
   "outputs": [
    {
     "data": {
      "text/html": [
       "<div>\n",
       "<style scoped>\n",
       "    .dataframe tbody tr th:only-of-type {\n",
       "        vertical-align: middle;\n",
       "    }\n",
       "\n",
       "    .dataframe tbody tr th {\n",
       "        vertical-align: top;\n",
       "    }\n",
       "\n",
       "    .dataframe thead th {\n",
       "        text-align: right;\n",
       "    }\n",
       "</style>\n",
       "<table border=\"1\" class=\"dataframe\">\n",
       "  <thead>\n",
       "    <tr style=\"text-align: right;\">\n",
       "      <th></th>\n",
       "      <th>conduct</th>\n",
       "      <th>age</th>\n",
       "      <th>gender</th>\n",
       "      <th>pob</th>\n",
       "      <th>tutor/makeup</th>\n",
       "      <th>grade</th>\n",
       "      <th>admission</th>\n",
       "      <th>mother_tongue</th>\n",
       "      <th>maths</th>\n",
       "      <th>english</th>\n",
       "      <th>...</th>\n",
       "      <th>last child</th>\n",
       "      <th>middle child</th>\n",
       "      <th>authoritarian</th>\n",
       "      <th>authoritative</th>\n",
       "      <th>permissive</th>\n",
       "      <th>private</th>\n",
       "      <th>public</th>\n",
       "      <th>service</th>\n",
       "      <th>both</th>\n",
       "      <th>single</th>\n",
       "    </tr>\n",
       "  </thead>\n",
       "  <tbody>\n",
       "    <tr>\n",
       "      <th>0</th>\n",
       "      <td>3</td>\n",
       "      <td>10.0</td>\n",
       "      <td>0</td>\n",
       "      <td>0</td>\n",
       "      <td>1</td>\n",
       "      <td>5.0</td>\n",
       "      <td>0</td>\n",
       "      <td>0</td>\n",
       "      <td>76.38</td>\n",
       "      <td>94.86</td>\n",
       "      <td>...</td>\n",
       "      <td>0</td>\n",
       "      <td>1</td>\n",
       "      <td>0</td>\n",
       "      <td>1</td>\n",
       "      <td>0</td>\n",
       "      <td>1</td>\n",
       "      <td>0</td>\n",
       "      <td>0</td>\n",
       "      <td>1</td>\n",
       "      <td>0</td>\n",
       "    </tr>\n",
       "    <tr>\n",
       "      <th>1</th>\n",
       "      <td>2</td>\n",
       "      <td>12.0</td>\n",
       "      <td>1</td>\n",
       "      <td>0</td>\n",
       "      <td>0</td>\n",
       "      <td>5.0</td>\n",
       "      <td>1</td>\n",
       "      <td>0</td>\n",
       "      <td>74.92</td>\n",
       "      <td>74.12</td>\n",
       "      <td>...</td>\n",
       "      <td>0</td>\n",
       "      <td>0</td>\n",
       "      <td>0</td>\n",
       "      <td>1</td>\n",
       "      <td>0</td>\n",
       "      <td>0</td>\n",
       "      <td>1</td>\n",
       "      <td>0</td>\n",
       "      <td>1</td>\n",
       "      <td>0</td>\n",
       "    </tr>\n",
       "    <tr>\n",
       "      <th>2</th>\n",
       "      <td>3</td>\n",
       "      <td>10.0</td>\n",
       "      <td>1</td>\n",
       "      <td>0</td>\n",
       "      <td>1</td>\n",
       "      <td>5.0</td>\n",
       "      <td>0</td>\n",
       "      <td>0</td>\n",
       "      <td>84.33</td>\n",
       "      <td>80.12</td>\n",
       "      <td>...</td>\n",
       "      <td>1</td>\n",
       "      <td>0</td>\n",
       "      <td>0</td>\n",
       "      <td>1</td>\n",
       "      <td>0</td>\n",
       "      <td>1</td>\n",
       "      <td>0</td>\n",
       "      <td>0</td>\n",
       "      <td>1</td>\n",
       "      <td>0</td>\n",
       "    </tr>\n",
       "    <tr>\n",
       "      <th>3</th>\n",
       "      <td>1</td>\n",
       "      <td>11.0</td>\n",
       "      <td>1</td>\n",
       "      <td>0</td>\n",
       "      <td>0</td>\n",
       "      <td>5.0</td>\n",
       "      <td>0</td>\n",
       "      <td>0</td>\n",
       "      <td>90.63</td>\n",
       "      <td>82.67</td>\n",
       "      <td>...</td>\n",
       "      <td>1</td>\n",
       "      <td>0</td>\n",
       "      <td>0</td>\n",
       "      <td>1</td>\n",
       "      <td>0</td>\n",
       "      <td>1</td>\n",
       "      <td>0</td>\n",
       "      <td>0</td>\n",
       "      <td>1</td>\n",
       "      <td>0</td>\n",
       "    </tr>\n",
       "    <tr>\n",
       "      <th>4</th>\n",
       "      <td>2</td>\n",
       "      <td>11.0</td>\n",
       "      <td>0</td>\n",
       "      <td>1</td>\n",
       "      <td>0</td>\n",
       "      <td>5.0</td>\n",
       "      <td>0</td>\n",
       "      <td>1</td>\n",
       "      <td>96.00</td>\n",
       "      <td>96.31</td>\n",
       "      <td>...</td>\n",
       "      <td>0</td>\n",
       "      <td>1</td>\n",
       "      <td>0</td>\n",
       "      <td>1</td>\n",
       "      <td>0</td>\n",
       "      <td>1</td>\n",
       "      <td>0</td>\n",
       "      <td>0</td>\n",
       "      <td>0</td>\n",
       "      <td>1</td>\n",
       "    </tr>\n",
       "    <tr>\n",
       "      <th>...</th>\n",
       "      <td>...</td>\n",
       "      <td>...</td>\n",
       "      <td>...</td>\n",
       "      <td>...</td>\n",
       "      <td>...</td>\n",
       "      <td>...</td>\n",
       "      <td>...</td>\n",
       "      <td>...</td>\n",
       "      <td>...</td>\n",
       "      <td>...</td>\n",
       "      <td>...</td>\n",
       "      <td>...</td>\n",
       "      <td>...</td>\n",
       "      <td>...</td>\n",
       "      <td>...</td>\n",
       "      <td>...</td>\n",
       "      <td>...</td>\n",
       "      <td>...</td>\n",
       "      <td>...</td>\n",
       "      <td>...</td>\n",
       "      <td>...</td>\n",
       "    </tr>\n",
       "    <tr>\n",
       "      <th>282</th>\n",
       "      <td>2</td>\n",
       "      <td>17.0</td>\n",
       "      <td>0</td>\n",
       "      <td>0</td>\n",
       "      <td>0</td>\n",
       "      <td>12.0</td>\n",
       "      <td>0</td>\n",
       "      <td>0</td>\n",
       "      <td>74.35</td>\n",
       "      <td>92.25</td>\n",
       "      <td>...</td>\n",
       "      <td>0</td>\n",
       "      <td>1</td>\n",
       "      <td>0</td>\n",
       "      <td>1</td>\n",
       "      <td>0</td>\n",
       "      <td>0</td>\n",
       "      <td>0</td>\n",
       "      <td>1</td>\n",
       "      <td>1</td>\n",
       "      <td>0</td>\n",
       "    </tr>\n",
       "    <tr>\n",
       "      <th>283</th>\n",
       "      <td>2</td>\n",
       "      <td>18.0</td>\n",
       "      <td>0</td>\n",
       "      <td>0</td>\n",
       "      <td>0</td>\n",
       "      <td>12.0</td>\n",
       "      <td>0</td>\n",
       "      <td>0</td>\n",
       "      <td>66.71</td>\n",
       "      <td>79.77</td>\n",
       "      <td>...</td>\n",
       "      <td>0</td>\n",
       "      <td>1</td>\n",
       "      <td>0</td>\n",
       "      <td>1</td>\n",
       "      <td>0</td>\n",
       "      <td>1</td>\n",
       "      <td>0</td>\n",
       "      <td>0</td>\n",
       "      <td>1</td>\n",
       "      <td>0</td>\n",
       "    </tr>\n",
       "    <tr>\n",
       "      <th>284</th>\n",
       "      <td>3</td>\n",
       "      <td>17.0</td>\n",
       "      <td>0</td>\n",
       "      <td>0</td>\n",
       "      <td>1</td>\n",
       "      <td>12.0</td>\n",
       "      <td>0</td>\n",
       "      <td>0</td>\n",
       "      <td>64.07</td>\n",
       "      <td>91.40</td>\n",
       "      <td>...</td>\n",
       "      <td>0</td>\n",
       "      <td>1</td>\n",
       "      <td>0</td>\n",
       "      <td>1</td>\n",
       "      <td>0</td>\n",
       "      <td>0</td>\n",
       "      <td>0</td>\n",
       "      <td>1</td>\n",
       "      <td>1</td>\n",
       "      <td>0</td>\n",
       "    </tr>\n",
       "    <tr>\n",
       "      <th>285</th>\n",
       "      <td>3</td>\n",
       "      <td>18.0</td>\n",
       "      <td>0</td>\n",
       "      <td>0</td>\n",
       "      <td>1</td>\n",
       "      <td>12.0</td>\n",
       "      <td>0</td>\n",
       "      <td>0</td>\n",
       "      <td>65.91</td>\n",
       "      <td>77.82</td>\n",
       "      <td>...</td>\n",
       "      <td>1</td>\n",
       "      <td>0</td>\n",
       "      <td>0</td>\n",
       "      <td>1</td>\n",
       "      <td>0</td>\n",
       "      <td>1</td>\n",
       "      <td>0</td>\n",
       "      <td>0</td>\n",
       "      <td>1</td>\n",
       "      <td>0</td>\n",
       "    </tr>\n",
       "    <tr>\n",
       "      <th>286</th>\n",
       "      <td>3</td>\n",
       "      <td>18.0</td>\n",
       "      <td>1</td>\n",
       "      <td>0</td>\n",
       "      <td>0</td>\n",
       "      <td>12.0</td>\n",
       "      <td>0</td>\n",
       "      <td>0</td>\n",
       "      <td>72.30</td>\n",
       "      <td>86.53</td>\n",
       "      <td>...</td>\n",
       "      <td>0</td>\n",
       "      <td>0</td>\n",
       "      <td>0</td>\n",
       "      <td>1</td>\n",
       "      <td>0</td>\n",
       "      <td>1</td>\n",
       "      <td>0</td>\n",
       "      <td>0</td>\n",
       "      <td>1</td>\n",
       "      <td>0</td>\n",
       "    </tr>\n",
       "  </tbody>\n",
       "</table>\n",
       "<p>286 rows × 22 columns</p>\n",
       "</div>"
      ],
      "text/plain": [
       "     conduct   age  gender  pob  tutor/makeup  grade  admission  \\\n",
       "0          3  10.0       0    0             1    5.0          0   \n",
       "1          2  12.0       1    0             0    5.0          1   \n",
       "2          3  10.0       1    0             1    5.0          0   \n",
       "3          1  11.0       1    0             0    5.0          0   \n",
       "4          2  11.0       0    1             0    5.0          0   \n",
       "..       ...   ...     ...  ...           ...    ...        ...   \n",
       "282        2  17.0       0    0             0   12.0          0   \n",
       "283        2  18.0       0    0             0   12.0          0   \n",
       "284        3  17.0       0    0             1   12.0          0   \n",
       "285        3  18.0       0    0             1   12.0          0   \n",
       "286        3  18.0       1    0             0   12.0          0   \n",
       "\n",
       "     mother_tongue  maths  english  ...  last child  middle child  \\\n",
       "0                0  76.38    94.86  ...           0             1   \n",
       "1                0  74.92    74.12  ...           0             0   \n",
       "2                0  84.33    80.12  ...           1             0   \n",
       "3                0  90.63    82.67  ...           1             0   \n",
       "4                1  96.00    96.31  ...           0             1   \n",
       "..             ...    ...      ...  ...         ...           ...   \n",
       "282              0  74.35    92.25  ...           0             1   \n",
       "283              0  66.71    79.77  ...           0             1   \n",
       "284              0  64.07    91.40  ...           0             1   \n",
       "285              0  65.91    77.82  ...           1             0   \n",
       "286              0  72.30    86.53  ...           0             0   \n",
       "\n",
       "     authoritarian  authoritative  permissive  private  public  service  both  \\\n",
       "0                0              1           0        1       0        0     1   \n",
       "1                0              1           0        0       1        0     1   \n",
       "2                0              1           0        1       0        0     1   \n",
       "3                0              1           0        1       0        0     1   \n",
       "4                0              1           0        1       0        0     0   \n",
       "..             ...            ...         ...      ...     ...      ...   ...   \n",
       "282              0              1           0        0       0        1     1   \n",
       "283              0              1           0        1       0        0     1   \n",
       "284              0              1           0        0       0        1     1   \n",
       "285              0              1           0        1       0        0     1   \n",
       "286              0              1           0        1       0        0     1   \n",
       "\n",
       "     single  \n",
       "0         0  \n",
       "1         0  \n",
       "2         0  \n",
       "3         0  \n",
       "4         1  \n",
       "..      ...  \n",
       "282       0  \n",
       "283       0  \n",
       "284       0  \n",
       "285       0  \n",
       "286       0  \n",
       "\n",
       "[286 rows x 22 columns]"
      ]
     },
     "execution_count": 29,
     "metadata": {},
     "output_type": "execute_result"
    }
   ],
   "source": [
    "merged4"
   ]
  },
  {
   "cell_type": "code",
   "execution_count": 30,
   "metadata": {},
   "outputs": [
    {
     "data": {
      "text/plain": [
       "22"
      ]
     },
     "execution_count": 30,
     "metadata": {},
     "output_type": "execute_result"
    }
   ],
   "source": [
    "len(merged4.columns)"
   ]
  },
  {
   "cell_type": "code",
   "execution_count": 31,
   "metadata": {},
   "outputs": [
    {
     "data": {
      "text/plain": [
       "conduct            int64\n",
       "age              float64\n",
       "gender             int64\n",
       "pob                int64\n",
       "tutor/makeup       int64\n",
       "grade            float64\n",
       "admission          int64\n",
       "mother_tongue      int64\n",
       "maths            float64\n",
       "english          float64\n",
       "gpa              float64\n",
       "first child        uint8\n",
       "last child         uint8\n",
       "middle child       uint8\n",
       "authoritarian      uint8\n",
       "authoritative      uint8\n",
       "permissive         uint8\n",
       "private            uint8\n",
       "public             uint8\n",
       "service            uint8\n",
       "both               uint8\n",
       "single             uint8\n",
       "dtype: object"
      ]
     },
     "execution_count": 31,
     "metadata": {},
     "output_type": "execute_result"
    }
   ],
   "source": [
    "merged4.dtypes"
   ]
  },
  {
   "cell_type": "code",
   "execution_count": 32,
   "metadata": {},
   "outputs": [
    {
     "data": {
      "text/plain": [
       "array([[ 0.50535836, -2.07974967, -0.95888638, ..., -0.50981555,\n",
       "         0.51525404, -0.42640143],\n",
       "       [-1.30129777, -1.16641623,  1.04287643, ..., -0.50981555,\n",
       "         0.51525404, -0.42640143],\n",
       "       [ 0.50535836, -2.07974967,  1.04287643, ..., -0.50981555,\n",
       "         0.51525404, -0.42640143],\n",
       "       ...,\n",
       "       [ 0.50535836,  1.11691739, -0.95888638, ...,  1.96149372,\n",
       "         0.51525404, -0.42640143],\n",
       "       [ 0.50535836,  1.57358411, -0.95888638, ..., -0.50981555,\n",
       "         0.51525404, -0.42640143],\n",
       "       [ 0.50535836,  1.57358411,  1.04287643, ..., -0.50981555,\n",
       "         0.51525404, -0.42640143]])"
      ]
     },
     "execution_count": 32,
     "metadata": {},
     "output_type": "execute_result"
    }
   ],
   "source": [
    "scaler = StandardScaler()\n",
    "scaled_data = scaler.fit_transform(merged4)\n",
    "scaled_data"
   ]
  },
  {
   "cell_type": "code",
   "execution_count": 33,
   "metadata": {},
   "outputs": [
    {
     "data": {
      "text/plain": [
       "numpy.ndarray"
      ]
     },
     "execution_count": 33,
     "metadata": {},
     "output_type": "execute_result"
    }
   ],
   "source": [
    "\n",
    "normalized_data = normalize(scaled_data)\n",
    "type(normalized_data)"
   ]
  },
  {
   "cell_type": "code",
   "execution_count": 34,
   "metadata": {},
   "outputs": [],
   "source": [
    "df_new = pd.DataFrame(normalized_data, columns = merged4.columns)"
   ]
  },
  {
   "cell_type": "code",
   "execution_count": 35,
   "metadata": {},
   "outputs": [
    {
     "name": "stdout",
     "output_type": "stream",
     "text": [
      "<class 'pandas.core.frame.DataFrame'>\n",
      "RangeIndex: 286 entries, 0 to 285\n",
      "Data columns (total 22 columns):\n",
      " #   Column         Non-Null Count  Dtype  \n",
      "---  ------         --------------  -----  \n",
      " 0   conduct        286 non-null    float64\n",
      " 1   age            286 non-null    float64\n",
      " 2   gender         286 non-null    float64\n",
      " 3   pob            286 non-null    float64\n",
      " 4   tutor/makeup   286 non-null    float64\n",
      " 5   grade          286 non-null    float64\n",
      " 6   admission      286 non-null    float64\n",
      " 7   mother_tongue  286 non-null    float64\n",
      " 8   maths          286 non-null    float64\n",
      " 9   english        286 non-null    float64\n",
      " 10  gpa            286 non-null    float64\n",
      " 11  first child    286 non-null    float64\n",
      " 12  last child     286 non-null    float64\n",
      " 13  middle child   286 non-null    float64\n",
      " 14  authoritarian  286 non-null    float64\n",
      " 15  authoritative  286 non-null    float64\n",
      " 16  permissive     286 non-null    float64\n",
      " 17  private        286 non-null    float64\n",
      " 18  public         286 non-null    float64\n",
      " 19  service        286 non-null    float64\n",
      " 20  both           286 non-null    float64\n",
      " 21  single         286 non-null    float64\n",
      "dtypes: float64(22)\n",
      "memory usage: 49.3 KB\n"
     ]
    }
   ],
   "source": [
    "df_new.info()"
   ]
  },
  {
   "cell_type": "code",
   "execution_count": 36,
   "metadata": {},
   "outputs": [],
   "source": [
    "X = merged4[['conduct', 'age', 'gender', 'pob', 'tutor/makeup', 'grade', 'admission','mother_tongue', 'maths', 'english', 'first child', 'last child','middle child', 'authoritarian', 'authoritative', 'permissive','private', 'public', 'service', 'both', 'single']]\n",
    "Y = merged4['gpa']"
   ]
  },
  {
   "cell_type": "code",
   "execution_count": 37,
   "metadata": {},
   "outputs": [],
   "source": [
    "x_train, x_test,y_train,y_test = train_test_split(X,Y,test_size =0.3)\n",
    "from sklearn.linear_model import LinearRegression\n",
    "clf = LinearRegression()"
   ]
  },
  {
   "cell_type": "code",
   "execution_count": 38,
   "metadata": {},
   "outputs": [
    {
     "data": {
      "text/plain": [
       "LinearRegression()"
      ]
     },
     "execution_count": 38,
     "metadata": {},
     "output_type": "execute_result"
    }
   ],
   "source": [
    "clf.fit(x_train,y_train)"
   ]
  },
  {
   "cell_type": "code",
   "execution_count": 39,
   "metadata": {},
   "outputs": [
    {
     "data": {
      "text/plain": [
       "array([80.66067481, 97.52285605, 84.43778038, 90.95519247, 94.21071343,\n",
       "       94.24453872, 84.84279191, 95.95038184, 97.09837366, 82.48720142,\n",
       "       82.41443443, 94.4939157 , 82.00484024, 80.34789443, 88.70613483,\n",
       "       85.73622907, 88.25241441, 79.61656389, 91.78070007, 89.15685534,\n",
       "       85.53698366, 95.72590091, 94.52213546, 94.02523582, 78.22265651,\n",
       "       90.58376858, 87.82484713, 79.20929791, 93.11473834, 78.27228746,\n",
       "       90.16249405, 87.63960251, 88.00594926, 93.76019388, 91.94145813,\n",
       "       85.09487925, 92.38236907, 87.75680845, 92.63726223, 88.22015056,\n",
       "       75.74385825, 87.41329632, 90.75103188, 86.71322506, 85.66306072,\n",
       "       88.73670985, 90.81241421, 77.45370116, 90.15868164, 78.41988168,\n",
       "       83.75123063, 91.84729099, 88.11728596, 96.46381789, 90.24311493,\n",
       "       88.74130627, 81.53958632, 82.04688637, 86.45226528, 97.44870624,\n",
       "       82.30074429, 78.35664228, 97.58292854, 87.64636249, 90.45514137,\n",
       "       87.07275375, 80.53652723, 96.48641607, 82.72308858, 84.87116991,\n",
       "       91.48152803, 87.97777013, 85.08550271, 80.50166534, 82.88834498,\n",
       "       96.11109253, 93.16601422, 80.86668686, 88.72525522, 89.16661408,\n",
       "       85.7486141 , 91.78842487, 91.43250144, 82.66053005, 95.80763768,\n",
       "       80.37752517])"
      ]
     },
     "execution_count": 39,
     "metadata": {},
     "output_type": "execute_result"
    }
   ],
   "source": [
    "clf.predict(x_test)"
   ]
  },
  {
   "cell_type": "code",
   "execution_count": 40,
   "metadata": {},
   "outputs": [
    {
     "data": {
      "text/plain": [
       "0.742712864754042"
      ]
     },
     "execution_count": 40,
     "metadata": {},
     "output_type": "execute_result"
    }
   ],
   "source": [
    "clf.score(x_test,y_test)"
   ]
  },
  {
   "cell_type": "code",
   "execution_count": 41,
   "metadata": {},
   "outputs": [
    {
     "data": {
      "text/plain": [
       "array([88.53410604])"
      ]
     },
     "execution_count": 41,
     "metadata": {},
     "output_type": "execute_result"
    }
   ],
   "source": [
    "clf.predict([[1,14,1,1,1,9,1,0,85,93,0,0,1,1,0,0,1,0,0,0,1]])"
   ]
  },
  {
   "cell_type": "code",
   "execution_count": 42,
   "metadata": {},
   "outputs": [],
   "source": [
    "with open(\"../model/new.pkl\", \"wb\") as f:\n",
    "    pickle.dump(clf, f)"
   ]
  },
  {
   "cell_type": "code",
   "execution_count": 46,
   "metadata": {},
   "outputs": [
    {
     "data": {
      "text/plain": [
       "array([0.65560558, 0.79172255, 0.73042773, 0.74329705, 0.70476885,\n",
       "       0.66246136])"
      ]
     },
     "execution_count": 46,
     "metadata": {},
     "output_type": "execute_result"
    }
   ],
   "source": [
    "cv = ShuffleSplit(n_splits=6,test_size=0.2,random_state=1)\n",
    "\n",
    "cross_val_score(LinearRegression(),X,Y,cv=cv)"
   ]
  },
  {
   "cell_type": "code",
   "execution_count": 43,
   "metadata": {},
   "outputs": [
    {
     "data": {
      "text/plain": [
       "0    149\n",
       "1    137\n",
       "Name: gender, dtype: int64"
      ]
     },
     "execution_count": 43,
     "metadata": {},
     "output_type": "execute_result"
    }
   ],
   "source": [
    "merged4['gender'].value_counts()"
   ]
  },
  {
   "cell_type": "code",
   "execution_count": 44,
   "metadata": {},
   "outputs": [],
   "source": [
    "def find_best_model_using_gridsearch(X,y):\n",
    "\n",
    "    # Creating a models dictionary containing all the parameters and model names\n",
    "\n",
    "    algos = {\n",
    "\n",
    "        'linear regression': {\n",
    "            'model': LinearRegression(),\n",
    "            'params': {\n",
    "                'normalize':[True,False]\n",
    "            }\n",
    "        },\n",
    "\n",
    "        'lasso': {\n",
    "            'model': Lasso(),\n",
    "            'params': {\n",
    "                'alpha': [1,2],\n",
    "                'selection':['random','cyclic']\n",
    "            }\n",
    "        },\n",
    "\n",
    "        'decision tree':  {\n",
    "            'model': DecisionTreeRegressor(),\n",
    "            'params': {\n",
    "                'criterion': ['mse','friedman_mse'],\n",
    "                'splitter': ['best','random']\n",
    "            }\n",
    "        }\n",
    "\n",
    "    }\n",
    "\n",
    "    scores = []\n",
    "\n",
    "    # Performing k-fold cross validation and finding the best model with the best parameters\n",
    "\n",
    "    cv = ShuffleSplit(n_splits = 5,test_size = 0.2,random_state = 1)\n",
    "\n",
    "    for algo_name, config in algos.items():\n",
    "\n",
    "        gs = GridSearchCV(config['model'],config['params'],cv=cv,return_train_score=False)\n",
    "\n",
    "        gs.fit(X,y)\n",
    "\n",
    "        scores.append({\n",
    "            'model': algo_name,\n",
    "            'best_score': gs.best_score_,\n",
    "            'best_params': gs.best_params_\n",
    "        })\n",
    "\n",
    "    return pd.DataFrame(scores,columns=['model','best_score','best_params'])"
   ]
  },
  {
   "cell_type": "code",
   "execution_count": 45,
   "metadata": {},
   "outputs": [
    {
     "data": {
      "text/html": [
       "<div>\n",
       "<style scoped>\n",
       "    .dataframe tbody tr th:only-of-type {\n",
       "        vertical-align: middle;\n",
       "    }\n",
       "\n",
       "    .dataframe tbody tr th {\n",
       "        vertical-align: top;\n",
       "    }\n",
       "\n",
       "    .dataframe thead th {\n",
       "        text-align: right;\n",
       "    }\n",
       "</style>\n",
       "<table border=\"1\" class=\"dataframe\">\n",
       "  <thead>\n",
       "    <tr style=\"text-align: right;\">\n",
       "      <th></th>\n",
       "      <th>model</th>\n",
       "      <th>best_score</th>\n",
       "      <th>best_params</th>\n",
       "    </tr>\n",
       "  </thead>\n",
       "  <tbody>\n",
       "    <tr>\n",
       "      <th>0</th>\n",
       "      <td>linear regression</td>\n",
       "      <td>0.725164</td>\n",
       "      <td>{'normalize': False}</td>\n",
       "    </tr>\n",
       "    <tr>\n",
       "      <th>1</th>\n",
       "      <td>lasso</td>\n",
       "      <td>0.719192</td>\n",
       "      <td>{'alpha': 1, 'selection': 'random'}</td>\n",
       "    </tr>\n",
       "    <tr>\n",
       "      <th>2</th>\n",
       "      <td>decision tree</td>\n",
       "      <td>0.534966</td>\n",
       "      <td>{'criterion': 'friedman_mse', 'splitter': 'best'}</td>\n",
       "    </tr>\n",
       "  </tbody>\n",
       "</table>\n",
       "</div>"
      ],
      "text/plain": [
       "               model  best_score  \\\n",
       "0  linear regression    0.725164   \n",
       "1              lasso    0.719192   \n",
       "2      decision tree    0.534966   \n",
       "\n",
       "                                         best_params  \n",
       "0                               {'normalize': False}  \n",
       "1                {'alpha': 1, 'selection': 'random'}  \n",
       "2  {'criterion': 'friedman_mse', 'splitter': 'best'}  "
      ]
     },
     "execution_count": 45,
     "metadata": {},
     "output_type": "execute_result"
    }
   ],
   "source": [
    "find_best_model_using_gridsearch(X,Y)"
   ]
  },
  {
   "cell_type": "code",
   "execution_count": null,
   "metadata": {},
   "outputs": [],
   "source": []
  }
 ],
 "metadata": {
  "kernelspec": {
   "display_name": "base",
   "language": "python",
   "name": "python3"
  },
  "language_info": {
   "codemirror_mode": {
    "name": "ipython",
    "version": 3
   },
   "file_extension": ".py",
   "mimetype": "text/x-python",
   "name": "python",
   "nbconvert_exporter": "python",
   "pygments_lexer": "ipython3",
   "version": "3.9.13"
  },
  "orig_nbformat": 4,
  "vscode": {
   "interpreter": {
    "hash": "bb68fda3c5d24f4e7477d70ff42f46d04b2e5d4e8b3b535daacbbd1288621319"
   }
  }
 },
 "nbformat": 4,
 "nbformat_minor": 2
}
